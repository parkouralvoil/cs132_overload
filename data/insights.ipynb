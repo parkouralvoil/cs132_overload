{
 "cells": [
  {
   "cell_type": "code",
   "execution_count": 314,
   "id": "af840983",
   "metadata": {},
   "outputs": [],
   "source": [
    "import pandas as pd\n",
    "#import seaborn as sns\n",
    "\n",
    "import plotly.graph_objects as go\n",
    "#from plotly.subplots import make_subplots\n",
    "\n",
    "from scipy import stats\n",
    "from datetime import datetime"
   ]
  },
  {
   "cell_type": "markdown",
   "id": "8bbc6b46",
   "metadata": {},
   "source": [
    "Obtaining the datasets and adding the average row for the gas dataset"
   ]
  },
  {
   "cell_type": "code",
   "execution_count": 315,
   "id": "5278ce19",
   "metadata": {},
   "outputs": [],
   "source": [
    "meralco_df = pd.read_csv('MonthlyPumpPrices.csv', parse_dates=['Date'])\n",
    "ron95_data = meralco_df[meralco_df['Product'] == \"Gasoline (RON95)\"].sort_values('Date')\n",
    "ron95_data = ron95_data[(ron95_data['Date'] >= '2020-01-01') & \n",
    "                       (ron95_data['Date'] <= '2025-01-01')]\n",
    "ron95_data['Average Price'] = (ron95_data['Overall Range Min'] + ron95_data['Overall Range Max']) / 2\n"
   ]
  },
  {
   "cell_type": "markdown",
   "id": "3ff106e5",
   "metadata": {},
   "source": [
    "Monthly gas prices graph: (from 2020 to 2025)"
   ]
  },
  {
   "cell_type": "code",
   "execution_count": 316,
   "id": "741672f1",
   "metadata": {},
   "outputs": [
    {
     "data": {
      "application/vnd.plotly.v1+json": {
       "config": {
        "plotlyServerURL": "https://plot.ly"
       },
       "data": [
        {
         "hoverinfo": "skip",
         "line": {
          "width": 0
         },
         "mode": "lines",
         "showlegend": false,
         "type": "scatter",
         "x": [
          "2020-01-01T00:00:00",
          "2020-02-01T00:00:00",
          "2020-03-01T00:00:00",
          "2020-04-01T00:00:00",
          "2020-05-01T00:00:00",
          "2020-06-01T00:00:00",
          "2020-07-01T00:00:00",
          "2020-08-01T00:00:00",
          "2020-09-01T00:00:00",
          "2020-10-01T00:00:00",
          "2020-11-01T00:00:00",
          "2020-12-01T00:00:00",
          "2021-01-01T00:00:00",
          "2021-02-01T00:00:00",
          "2021-03-01T00:00:00",
          "2021-04-01T00:00:00",
          "2021-05-01T00:00:00",
          "2021-06-01T00:00:00",
          "2021-07-01T00:00:00",
          "2021-08-01T00:00:00",
          "2021-09-01T00:00:00",
          "2021-10-01T00:00:00",
          "2021-11-01T00:00:00",
          "2021-12-01T00:00:00",
          "2022-01-01T00:00:00",
          "2022-02-01T00:00:00",
          "2022-03-01T00:00:00",
          "2022-04-01T00:00:00",
          "2022-05-01T00:00:00",
          "2022-06-01T00:00:00",
          "2022-07-01T00:00:00",
          "2022-08-01T00:00:00",
          "2022-09-01T00:00:00",
          "2022-10-01T00:00:00",
          "2022-11-01T00:00:00",
          "2022-12-01T00:00:00",
          "2023-01-01T00:00:00",
          "2023-02-01T00:00:00",
          "2023-03-01T00:00:00",
          "2023-04-01T00:00:00",
          "2023-05-01T00:00:00",
          "2023-06-01T00:00:00",
          "2023-07-01T00:00:00",
          "2023-08-01T00:00:00",
          "2023-09-01T00:00:00",
          "2023-10-01T00:00:00",
          "2023-11-01T00:00:00",
          "2023-12-01T00:00:00",
          "2024-01-01T00:00:00",
          "2024-02-01T00:00:00",
          "2024-03-01T00:00:00",
          "2024-04-01T00:00:00",
          "2024-05-01T00:00:00",
          "2024-06-01T00:00:00",
          "2024-07-01T00:00:00",
          "2024-08-01T00:00:00",
          "2024-09-01T00:00:00",
          "2024-10-01T00:00:00",
          "2024-11-01T00:00:00",
          "2024-12-01T00:00:00",
          "2025-01-01T00:00:00"
         ],
         "y": [
          57.59,
          55.36,
          51.19,
          43.6,
          46.28,
          50.83,
          54.13,
          55.04,
          53.88,
          53.42,
          52.82,
          53.29,
          54.79,
          55.65,
          58.42,
          58.55,
          60.05,
          61.52,
          64.31,
          65.41,
          64.95,
          69.68,
          70.82,
          66.52,
          69.04,
          72.52,
          79.99,
          78.66,
          81.84,
          87.53,
          82.27,
          78.11,
          76.46,
          73.92,
          75.34,
          72.33,
          73.47,
          72.1,
          71.82,
          74.05,
          71.03,
          72.49,
          73.24,
          79.35,
          82.72,
          78.18,
          76.17,
          75.3,
          76.7,
          79.26,
          79.7,
          82.94,
          81.25,
          80.42,
          83.51,
          74.54,
          72.61,
          71.71,
          72.8,
          74.16,
          76.84
         ]
        },
        {
         "fill": "tonexty",
         "fillcolor": "rgba(158, 27, 50, 0.5)",
         "hovertemplate": "<b>%{x|%b %Y}</b><br>Range: %{y:.2f}–%{text} pesos<extra></extra>",
         "line": {
          "width": 0
         },
         "mode": "lines",
         "name": "Price Range",
         "text": [
          57.59,
          55.36,
          51.19,
          43.6,
          46.28,
          50.83,
          54.13,
          55.04,
          53.88,
          53.42,
          52.82,
          53.29,
          54.79,
          55.65,
          58.42,
          58.55,
          60.05,
          61.52,
          64.31,
          65.41,
          64.95,
          69.68,
          70.82,
          66.52,
          69.04,
          72.52,
          79.99,
          78.66,
          81.84,
          87.53,
          82.27,
          78.11,
          76.46,
          73.92,
          75.34,
          72.33,
          73.47,
          72.1,
          71.82,
          74.05,
          71.03,
          72.49,
          73.24,
          79.35,
          82.72,
          78.18,
          76.17,
          75.3,
          76.7,
          79.26,
          79.7,
          82.94,
          81.25,
          80.42,
          83.51,
          74.54,
          72.61,
          71.71,
          72.8,
          74.16,
          76.84
         ],
         "type": "scatter",
         "x": [
          "2020-01-01T00:00:00",
          "2020-02-01T00:00:00",
          "2020-03-01T00:00:00",
          "2020-04-01T00:00:00",
          "2020-05-01T00:00:00",
          "2020-06-01T00:00:00",
          "2020-07-01T00:00:00",
          "2020-08-01T00:00:00",
          "2020-09-01T00:00:00",
          "2020-10-01T00:00:00",
          "2020-11-01T00:00:00",
          "2020-12-01T00:00:00",
          "2021-01-01T00:00:00",
          "2021-02-01T00:00:00",
          "2021-03-01T00:00:00",
          "2021-04-01T00:00:00",
          "2021-05-01T00:00:00",
          "2021-06-01T00:00:00",
          "2021-07-01T00:00:00",
          "2021-08-01T00:00:00",
          "2021-09-01T00:00:00",
          "2021-10-01T00:00:00",
          "2021-11-01T00:00:00",
          "2021-12-01T00:00:00",
          "2022-01-01T00:00:00",
          "2022-02-01T00:00:00",
          "2022-03-01T00:00:00",
          "2022-04-01T00:00:00",
          "2022-05-01T00:00:00",
          "2022-06-01T00:00:00",
          "2022-07-01T00:00:00",
          "2022-08-01T00:00:00",
          "2022-09-01T00:00:00",
          "2022-10-01T00:00:00",
          "2022-11-01T00:00:00",
          "2022-12-01T00:00:00",
          "2023-01-01T00:00:00",
          "2023-02-01T00:00:00",
          "2023-03-01T00:00:00",
          "2023-04-01T00:00:00",
          "2023-05-01T00:00:00",
          "2023-06-01T00:00:00",
          "2023-07-01T00:00:00",
          "2023-08-01T00:00:00",
          "2023-09-01T00:00:00",
          "2023-10-01T00:00:00",
          "2023-11-01T00:00:00",
          "2023-12-01T00:00:00",
          "2024-01-01T00:00:00",
          "2024-02-01T00:00:00",
          "2024-03-01T00:00:00",
          "2024-04-01T00:00:00",
          "2024-05-01T00:00:00",
          "2024-06-01T00:00:00",
          "2024-07-01T00:00:00",
          "2024-08-01T00:00:00",
          "2024-09-01T00:00:00",
          "2024-10-01T00:00:00",
          "2024-11-01T00:00:00",
          "2024-12-01T00:00:00",
          "2025-01-01T00:00:00"
         ],
         "y": [
          45.35,
          42.97,
          39.01,
          31.31,
          34.43,
          38.45,
          41.24,
          41.42,
          40.09,
          39.89,
          34.9,
          35.52,
          37.4,
          39.2,
          41.25,
          40.67,
          41.08,
          42.62,
          45.58,
          46.76,
          47.69,
          50.91,
          53.04,
          50.52,
          52.89,
          55.7,
          63.67,
          65.55,
          70.16,
          75.85,
          71.32,
          64.75,
          62.02,
          60.25,
          59.08,
          55.4,
          58.25,
          58.5,
          55.17,
          56.69,
          53.5,
          53,
          54,
          58.89,
          62.02,
          58.65,
          56.7,
          53.78,
          53.45,
          56.32,
          56.31,
          58.71,
          56.55,
          54.68,
          55.6,
          53.62,
          51.1,
          50.72,
          50.8,
          51.13,
          53.11
         ]
        },
        {
         "hovertemplate": "<b>%{x|%b %Y}</b><br>Avg: %{y:.2f} pesos<extra></extra>",
         "line": {
          "color": "#DC143C",
          "width": 3
         },
         "marker": {
          "size": 8
         },
         "mode": "lines+markers",
         "name": "Average Price",
         "type": "scatter",
         "x": [
          "2020-01-01T00:00:00",
          "2020-02-01T00:00:00",
          "2020-03-01T00:00:00",
          "2020-04-01T00:00:00",
          "2020-05-01T00:00:00",
          "2020-06-01T00:00:00",
          "2020-07-01T00:00:00",
          "2020-08-01T00:00:00",
          "2020-09-01T00:00:00",
          "2020-10-01T00:00:00",
          "2020-11-01T00:00:00",
          "2020-12-01T00:00:00",
          "2021-01-01T00:00:00",
          "2021-02-01T00:00:00",
          "2021-03-01T00:00:00",
          "2021-04-01T00:00:00",
          "2021-05-01T00:00:00",
          "2021-06-01T00:00:00",
          "2021-07-01T00:00:00",
          "2021-08-01T00:00:00",
          "2021-09-01T00:00:00",
          "2021-10-01T00:00:00",
          "2021-11-01T00:00:00",
          "2021-12-01T00:00:00",
          "2022-01-01T00:00:00",
          "2022-02-01T00:00:00",
          "2022-03-01T00:00:00",
          "2022-04-01T00:00:00",
          "2022-05-01T00:00:00",
          "2022-06-01T00:00:00",
          "2022-07-01T00:00:00",
          "2022-08-01T00:00:00",
          "2022-09-01T00:00:00",
          "2022-10-01T00:00:00",
          "2022-11-01T00:00:00",
          "2022-12-01T00:00:00",
          "2023-01-01T00:00:00",
          "2023-02-01T00:00:00",
          "2023-03-01T00:00:00",
          "2023-04-01T00:00:00",
          "2023-05-01T00:00:00",
          "2023-06-01T00:00:00",
          "2023-07-01T00:00:00",
          "2023-08-01T00:00:00",
          "2023-09-01T00:00:00",
          "2023-10-01T00:00:00",
          "2023-11-01T00:00:00",
          "2023-12-01T00:00:00",
          "2024-01-01T00:00:00",
          "2024-02-01T00:00:00",
          "2024-03-01T00:00:00",
          "2024-04-01T00:00:00",
          "2024-05-01T00:00:00",
          "2024-06-01T00:00:00",
          "2024-07-01T00:00:00",
          "2024-08-01T00:00:00",
          "2024-09-01T00:00:00",
          "2024-10-01T00:00:00",
          "2024-11-01T00:00:00",
          "2024-12-01T00:00:00",
          "2025-01-01T00:00:00"
         ],
         "y": [
          51.47,
          49.165,
          45.099999999999994,
          37.455,
          40.355000000000004,
          44.64,
          47.685,
          48.230000000000004,
          46.985,
          46.655,
          43.86,
          44.405,
          46.095,
          47.425,
          49.835,
          49.61,
          50.565,
          52.07,
          54.945,
          56.084999999999994,
          56.32,
          60.295,
          61.92999999999999,
          58.519999999999996,
          60.965,
          64.11,
          71.83,
          72.10499999999999,
          76,
          81.69,
          76.79499999999999,
          71.43,
          69.24,
          67.08500000000001,
          67.21000000000001,
          63.864999999999995,
          65.86,
          65.3,
          63.495,
          65.37,
          62.265,
          62.745,
          63.62,
          69.12,
          72.37,
          68.415,
          66.435,
          64.53999999999999,
          65.075,
          67.79,
          68.005,
          70.825,
          68.9,
          67.55,
          69.555,
          64.08,
          61.855000000000004,
          61.214999999999996,
          61.8,
          62.644999999999996,
          64.975
         ]
        },
        {
         "marker": {
          "color": "rgba(255, 165, 0, 0.2)",
          "size": 15
         },
         "mode": "markers",
         "name": "Dry Season (Dec-May)",
         "type": "scatter",
         "x": [
          null
         ],
         "y": [
          null
         ]
        },
        {
         "marker": {
          "color": "rgba(0, 191, 255, 0.2)",
          "size": 15
         },
         "mode": "markers",
         "name": "Wet Season (Jun-Nov)",
         "type": "scatter",
         "x": [
          null
         ],
         "y": [
          null
         ]
        }
       ],
       "layout": {
        "hovermode": "x unified",
        "legend": {
         "orientation": "h",
         "x": 1,
         "xanchor": "right",
         "y": 1.02,
         "yanchor": "bottom"
        },
        "margin": {
         "t": 100
        },
        "paper_bgcolor": "white",
        "plot_bgcolor": "#FAFAFA",
        "shapes": [
         {
          "fillcolor": "rgba(255, 165, 0, 0.2)",
          "layer": "below",
          "line": {
           "width": 0
          },
          "type": "rect",
          "x0": "2020-01-01T00:00:00",
          "x1": "2020-06-01T00:00:00",
          "xref": "x",
          "y0": 0,
          "y1": 1,
          "yref": "y domain"
         },
         {
          "fillcolor": "rgba(0, 191, 255, 0.2)",
          "layer": "below",
          "line": {
           "width": 0
          },
          "type": "rect",
          "x0": "2020-01-01T00:00:00",
          "x1": "2019-12-01T00:00:00",
          "xref": "x",
          "y0": 0,
          "y1": 1,
          "yref": "y domain"
         },
         {
          "fillcolor": "rgba(255, 165, 0, 0.2)",
          "layer": "below",
          "line": {
           "width": 0
          },
          "type": "rect",
          "x0": "2020-12-01T00:00:00",
          "x1": "2021-06-01T00:00:00",
          "xref": "x",
          "y0": 0,
          "y1": 1,
          "yref": "y domain"
         },
         {
          "fillcolor": "rgba(0, 191, 255, 0.2)",
          "layer": "below",
          "line": {
           "width": 0
          },
          "type": "rect",
          "x0": "2020-06-01T00:00:00",
          "x1": "2020-12-01T00:00:00",
          "xref": "x",
          "y0": 0,
          "y1": 1,
          "yref": "y domain"
         },
         {
          "fillcolor": "rgba(255, 165, 0, 0.2)",
          "layer": "below",
          "line": {
           "width": 0
          },
          "type": "rect",
          "x0": "2021-12-01T00:00:00",
          "x1": "2022-06-01T00:00:00",
          "xref": "x",
          "y0": 0,
          "y1": 1,
          "yref": "y domain"
         },
         {
          "fillcolor": "rgba(0, 191, 255, 0.2)",
          "layer": "below",
          "line": {
           "width": 0
          },
          "type": "rect",
          "x0": "2021-06-01T00:00:00",
          "x1": "2021-12-01T00:00:00",
          "xref": "x",
          "y0": 0,
          "y1": 1,
          "yref": "y domain"
         },
         {
          "fillcolor": "rgba(255, 165, 0, 0.2)",
          "layer": "below",
          "line": {
           "width": 0
          },
          "type": "rect",
          "x0": "2022-12-01T00:00:00",
          "x1": "2023-06-01T00:00:00",
          "xref": "x",
          "y0": 0,
          "y1": 1,
          "yref": "y domain"
         },
         {
          "fillcolor": "rgba(0, 191, 255, 0.2)",
          "layer": "below",
          "line": {
           "width": 0
          },
          "type": "rect",
          "x0": "2022-06-01T00:00:00",
          "x1": "2022-12-01T00:00:00",
          "xref": "x",
          "y0": 0,
          "y1": 1,
          "yref": "y domain"
         },
         {
          "fillcolor": "rgba(255, 165, 0, 0.2)",
          "layer": "below",
          "line": {
           "width": 0
          },
          "type": "rect",
          "x0": "2023-12-01T00:00:00",
          "x1": "2024-06-01T00:00:00",
          "xref": "x",
          "y0": 0,
          "y1": 1,
          "yref": "y domain"
         },
         {
          "fillcolor": "rgba(0, 191, 255, 0.2)",
          "layer": "below",
          "line": {
           "width": 0
          },
          "type": "rect",
          "x0": "2023-06-01T00:00:00",
          "x1": "2023-12-01T00:00:00",
          "xref": "x",
          "y0": 0,
          "y1": 1,
          "yref": "y domain"
         },
         {
          "fillcolor": "rgba(255, 165, 0, 0.2)",
          "layer": "below",
          "line": {
           "width": 0
          },
          "type": "rect",
          "x0": "2024-12-01T00:00:00",
          "x1": "2024-12-31T00:00:00",
          "xref": "x",
          "y0": 0,
          "y1": 1,
          "yref": "y domain"
         },
         {
          "fillcolor": "rgba(0, 191, 255, 0.2)",
          "layer": "below",
          "line": {
           "width": 0
          },
          "type": "rect",
          "x0": "2024-06-01T00:00:00",
          "x1": "2024-12-01T00:00:00",
          "xref": "x",
          "y0": 0,
          "y1": 1,
          "yref": "y domain"
         }
        ],
        "template": {
         "data": {
          "bar": [
           {
            "error_x": {
             "color": "#2a3f5f"
            },
            "error_y": {
             "color": "#2a3f5f"
            },
            "marker": {
             "line": {
              "color": "#E5ECF6",
              "width": 0.5
             },
             "pattern": {
              "fillmode": "overlay",
              "size": 10,
              "solidity": 0.2
             }
            },
            "type": "bar"
           }
          ],
          "barpolar": [
           {
            "marker": {
             "line": {
              "color": "#E5ECF6",
              "width": 0.5
             },
             "pattern": {
              "fillmode": "overlay",
              "size": 10,
              "solidity": 0.2
             }
            },
            "type": "barpolar"
           }
          ],
          "carpet": [
           {
            "aaxis": {
             "endlinecolor": "#2a3f5f",
             "gridcolor": "white",
             "linecolor": "white",
             "minorgridcolor": "white",
             "startlinecolor": "#2a3f5f"
            },
            "baxis": {
             "endlinecolor": "#2a3f5f",
             "gridcolor": "white",
             "linecolor": "white",
             "minorgridcolor": "white",
             "startlinecolor": "#2a3f5f"
            },
            "type": "carpet"
           }
          ],
          "choropleth": [
           {
            "colorbar": {
             "outlinewidth": 0,
             "ticks": ""
            },
            "type": "choropleth"
           }
          ],
          "contour": [
           {
            "colorbar": {
             "outlinewidth": 0,
             "ticks": ""
            },
            "colorscale": [
             [
              0,
              "#0d0887"
             ],
             [
              0.1111111111111111,
              "#46039f"
             ],
             [
              0.2222222222222222,
              "#7201a8"
             ],
             [
              0.3333333333333333,
              "#9c179e"
             ],
             [
              0.4444444444444444,
              "#bd3786"
             ],
             [
              0.5555555555555556,
              "#d8576b"
             ],
             [
              0.6666666666666666,
              "#ed7953"
             ],
             [
              0.7777777777777778,
              "#fb9f3a"
             ],
             [
              0.8888888888888888,
              "#fdca26"
             ],
             [
              1,
              "#f0f921"
             ]
            ],
            "type": "contour"
           }
          ],
          "contourcarpet": [
           {
            "colorbar": {
             "outlinewidth": 0,
             "ticks": ""
            },
            "type": "contourcarpet"
           }
          ],
          "heatmap": [
           {
            "colorbar": {
             "outlinewidth": 0,
             "ticks": ""
            },
            "colorscale": [
             [
              0,
              "#0d0887"
             ],
             [
              0.1111111111111111,
              "#46039f"
             ],
             [
              0.2222222222222222,
              "#7201a8"
             ],
             [
              0.3333333333333333,
              "#9c179e"
             ],
             [
              0.4444444444444444,
              "#bd3786"
             ],
             [
              0.5555555555555556,
              "#d8576b"
             ],
             [
              0.6666666666666666,
              "#ed7953"
             ],
             [
              0.7777777777777778,
              "#fb9f3a"
             ],
             [
              0.8888888888888888,
              "#fdca26"
             ],
             [
              1,
              "#f0f921"
             ]
            ],
            "type": "heatmap"
           }
          ],
          "heatmapgl": [
           {
            "colorbar": {
             "outlinewidth": 0,
             "ticks": ""
            },
            "colorscale": [
             [
              0,
              "#0d0887"
             ],
             [
              0.1111111111111111,
              "#46039f"
             ],
             [
              0.2222222222222222,
              "#7201a8"
             ],
             [
              0.3333333333333333,
              "#9c179e"
             ],
             [
              0.4444444444444444,
              "#bd3786"
             ],
             [
              0.5555555555555556,
              "#d8576b"
             ],
             [
              0.6666666666666666,
              "#ed7953"
             ],
             [
              0.7777777777777778,
              "#fb9f3a"
             ],
             [
              0.8888888888888888,
              "#fdca26"
             ],
             [
              1,
              "#f0f921"
             ]
            ],
            "type": "heatmapgl"
           }
          ],
          "histogram": [
           {
            "marker": {
             "pattern": {
              "fillmode": "overlay",
              "size": 10,
              "solidity": 0.2
             }
            },
            "type": "histogram"
           }
          ],
          "histogram2d": [
           {
            "colorbar": {
             "outlinewidth": 0,
             "ticks": ""
            },
            "colorscale": [
             [
              0,
              "#0d0887"
             ],
             [
              0.1111111111111111,
              "#46039f"
             ],
             [
              0.2222222222222222,
              "#7201a8"
             ],
             [
              0.3333333333333333,
              "#9c179e"
             ],
             [
              0.4444444444444444,
              "#bd3786"
             ],
             [
              0.5555555555555556,
              "#d8576b"
             ],
             [
              0.6666666666666666,
              "#ed7953"
             ],
             [
              0.7777777777777778,
              "#fb9f3a"
             ],
             [
              0.8888888888888888,
              "#fdca26"
             ],
             [
              1,
              "#f0f921"
             ]
            ],
            "type": "histogram2d"
           }
          ],
          "histogram2dcontour": [
           {
            "colorbar": {
             "outlinewidth": 0,
             "ticks": ""
            },
            "colorscale": [
             [
              0,
              "#0d0887"
             ],
             [
              0.1111111111111111,
              "#46039f"
             ],
             [
              0.2222222222222222,
              "#7201a8"
             ],
             [
              0.3333333333333333,
              "#9c179e"
             ],
             [
              0.4444444444444444,
              "#bd3786"
             ],
             [
              0.5555555555555556,
              "#d8576b"
             ],
             [
              0.6666666666666666,
              "#ed7953"
             ],
             [
              0.7777777777777778,
              "#fb9f3a"
             ],
             [
              0.8888888888888888,
              "#fdca26"
             ],
             [
              1,
              "#f0f921"
             ]
            ],
            "type": "histogram2dcontour"
           }
          ],
          "mesh3d": [
           {
            "colorbar": {
             "outlinewidth": 0,
             "ticks": ""
            },
            "type": "mesh3d"
           }
          ],
          "parcoords": [
           {
            "line": {
             "colorbar": {
              "outlinewidth": 0,
              "ticks": ""
             }
            },
            "type": "parcoords"
           }
          ],
          "pie": [
           {
            "automargin": true,
            "type": "pie"
           }
          ],
          "scatter": [
           {
            "fillpattern": {
             "fillmode": "overlay",
             "size": 10,
             "solidity": 0.2
            },
            "type": "scatter"
           }
          ],
          "scatter3d": [
           {
            "line": {
             "colorbar": {
              "outlinewidth": 0,
              "ticks": ""
             }
            },
            "marker": {
             "colorbar": {
              "outlinewidth": 0,
              "ticks": ""
             }
            },
            "type": "scatter3d"
           }
          ],
          "scattercarpet": [
           {
            "marker": {
             "colorbar": {
              "outlinewidth": 0,
              "ticks": ""
             }
            },
            "type": "scattercarpet"
           }
          ],
          "scattergeo": [
           {
            "marker": {
             "colorbar": {
              "outlinewidth": 0,
              "ticks": ""
             }
            },
            "type": "scattergeo"
           }
          ],
          "scattergl": [
           {
            "marker": {
             "colorbar": {
              "outlinewidth": 0,
              "ticks": ""
             }
            },
            "type": "scattergl"
           }
          ],
          "scattermapbox": [
           {
            "marker": {
             "colorbar": {
              "outlinewidth": 0,
              "ticks": ""
             }
            },
            "type": "scattermapbox"
           }
          ],
          "scatterpolar": [
           {
            "marker": {
             "colorbar": {
              "outlinewidth": 0,
              "ticks": ""
             }
            },
            "type": "scatterpolar"
           }
          ],
          "scatterpolargl": [
           {
            "marker": {
             "colorbar": {
              "outlinewidth": 0,
              "ticks": ""
             }
            },
            "type": "scatterpolargl"
           }
          ],
          "scatterternary": [
           {
            "marker": {
             "colorbar": {
              "outlinewidth": 0,
              "ticks": ""
             }
            },
            "type": "scatterternary"
           }
          ],
          "surface": [
           {
            "colorbar": {
             "outlinewidth": 0,
             "ticks": ""
            },
            "colorscale": [
             [
              0,
              "#0d0887"
             ],
             [
              0.1111111111111111,
              "#46039f"
             ],
             [
              0.2222222222222222,
              "#7201a8"
             ],
             [
              0.3333333333333333,
              "#9c179e"
             ],
             [
              0.4444444444444444,
              "#bd3786"
             ],
             [
              0.5555555555555556,
              "#d8576b"
             ],
             [
              0.6666666666666666,
              "#ed7953"
             ],
             [
              0.7777777777777778,
              "#fb9f3a"
             ],
             [
              0.8888888888888888,
              "#fdca26"
             ],
             [
              1,
              "#f0f921"
             ]
            ],
            "type": "surface"
           }
          ],
          "table": [
           {
            "cells": {
             "fill": {
              "color": "#EBF0F8"
             },
             "line": {
              "color": "white"
             }
            },
            "header": {
             "fill": {
              "color": "#C8D4E3"
             },
             "line": {
              "color": "white"
             }
            },
            "type": "table"
           }
          ]
         },
         "layout": {
          "annotationdefaults": {
           "arrowcolor": "#2a3f5f",
           "arrowhead": 0,
           "arrowwidth": 1
          },
          "autotypenumbers": "strict",
          "coloraxis": {
           "colorbar": {
            "outlinewidth": 0,
            "ticks": ""
           }
          },
          "colorscale": {
           "diverging": [
            [
             0,
             "#8e0152"
            ],
            [
             0.1,
             "#c51b7d"
            ],
            [
             0.2,
             "#de77ae"
            ],
            [
             0.3,
             "#f1b6da"
            ],
            [
             0.4,
             "#fde0ef"
            ],
            [
             0.5,
             "#f7f7f7"
            ],
            [
             0.6,
             "#e6f5d0"
            ],
            [
             0.7,
             "#b8e186"
            ],
            [
             0.8,
             "#7fbc41"
            ],
            [
             0.9,
             "#4d9221"
            ],
            [
             1,
             "#276419"
            ]
           ],
           "sequential": [
            [
             0,
             "#0d0887"
            ],
            [
             0.1111111111111111,
             "#46039f"
            ],
            [
             0.2222222222222222,
             "#7201a8"
            ],
            [
             0.3333333333333333,
             "#9c179e"
            ],
            [
             0.4444444444444444,
             "#bd3786"
            ],
            [
             0.5555555555555556,
             "#d8576b"
            ],
            [
             0.6666666666666666,
             "#ed7953"
            ],
            [
             0.7777777777777778,
             "#fb9f3a"
            ],
            [
             0.8888888888888888,
             "#fdca26"
            ],
            [
             1,
             "#f0f921"
            ]
           ],
           "sequentialminus": [
            [
             0,
             "#0d0887"
            ],
            [
             0.1111111111111111,
             "#46039f"
            ],
            [
             0.2222222222222222,
             "#7201a8"
            ],
            [
             0.3333333333333333,
             "#9c179e"
            ],
            [
             0.4444444444444444,
             "#bd3786"
            ],
            [
             0.5555555555555556,
             "#d8576b"
            ],
            [
             0.6666666666666666,
             "#ed7953"
            ],
            [
             0.7777777777777778,
             "#fb9f3a"
            ],
            [
             0.8888888888888888,
             "#fdca26"
            ],
            [
             1,
             "#f0f921"
            ]
           ]
          },
          "colorway": [
           "#636efa",
           "#EF553B",
           "#00cc96",
           "#ab63fa",
           "#FFA15A",
           "#19d3f3",
           "#FF6692",
           "#B6E880",
           "#FF97FF",
           "#FECB52"
          ],
          "font": {
           "color": "#2a3f5f"
          },
          "geo": {
           "bgcolor": "white",
           "lakecolor": "white",
           "landcolor": "#E5ECF6",
           "showlakes": true,
           "showland": true,
           "subunitcolor": "white"
          },
          "hoverlabel": {
           "align": "left"
          },
          "hovermode": "closest",
          "mapbox": {
           "style": "light"
          },
          "paper_bgcolor": "white",
          "plot_bgcolor": "#E5ECF6",
          "polar": {
           "angularaxis": {
            "gridcolor": "white",
            "linecolor": "white",
            "ticks": ""
           },
           "bgcolor": "#E5ECF6",
           "radialaxis": {
            "gridcolor": "white",
            "linecolor": "white",
            "ticks": ""
           }
          },
          "scene": {
           "xaxis": {
            "backgroundcolor": "#E5ECF6",
            "gridcolor": "white",
            "gridwidth": 2,
            "linecolor": "white",
            "showbackground": true,
            "ticks": "",
            "zerolinecolor": "white"
           },
           "yaxis": {
            "backgroundcolor": "#E5ECF6",
            "gridcolor": "white",
            "gridwidth": 2,
            "linecolor": "white",
            "showbackground": true,
            "ticks": "",
            "zerolinecolor": "white"
           },
           "zaxis": {
            "backgroundcolor": "#E5ECF6",
            "gridcolor": "white",
            "gridwidth": 2,
            "linecolor": "white",
            "showbackground": true,
            "ticks": "",
            "zerolinecolor": "white"
           }
          },
          "shapedefaults": {
           "line": {
            "color": "#2a3f5f"
           }
          },
          "ternary": {
           "aaxis": {
            "gridcolor": "white",
            "linecolor": "white",
            "ticks": ""
           },
           "baxis": {
            "gridcolor": "white",
            "linecolor": "white",
            "ticks": ""
           },
           "bgcolor": "#E5ECF6",
           "caxis": {
            "gridcolor": "white",
            "linecolor": "white",
            "ticks": ""
           }
          },
          "title": {
           "x": 0.05
          },
          "xaxis": {
           "automargin": true,
           "gridcolor": "white",
           "linecolor": "white",
           "ticks": "",
           "title": {
            "standoff": 15
           },
           "zerolinecolor": "white",
           "zerolinewidth": 2
          },
          "yaxis": {
           "automargin": true,
           "gridcolor": "white",
           "linecolor": "white",
           "ticks": "",
           "title": {
            "standoff": 15
           },
           "zerolinecolor": "white",
           "zerolinewidth": 2
          }
         }
        },
        "title": {
         "font": {
          "color": "#333333",
          "size": 18
         },
         "text": "<b>Cost per Liter for Gasoline (RON95) Monthly Price Trends (2020-2024)</b>",
         "x": 0.5,
         "xanchor": "center",
         "y": 0.95
        },
        "xaxis": {
         "dtick": "M12",
         "range": [
          "2020-01-01",
          "2024-12-31"
         ],
         "showgrid": false,
         "tickformat": "%Y",
         "title": {
          "text": "Date"
         }
        },
        "yaxis": {
         "gridcolor": "rgba(0,0,0,0.1)",
         "showgrid": true,
         "title": {
          "text": "Cost (pesos)"
         }
        }
       }
      }
     },
     "metadata": {},
     "output_type": "display_data"
    }
   ],
   "source": [
    "# Color definitions\n",
    "dry_season_color = 'rgba(255, 165, 0, 0.2)'  # Orange\n",
    "wet_season_color = 'rgba(0, 191, 255, 0.2)'   # Light Blue\n",
    "price_line_color = '#DC143C'                   # Crimson\n",
    "price_range_color = 'rgba(158, 27, 50, 0.5)'  # Dark Red with transparency\n",
    "\n",
    "# Create figure\n",
    "fig = go.Figure()\n",
    "\n",
    "# Add seasonal background shapes first (so they appear behind the data)\n",
    "for year in range(2019, 2025):\n",
    "    # Dry season (Dec-May)\n",
    "    fig.add_vrect(\n",
    "        x0=max(datetime(year, 12, 1), datetime(2020, 1, 1)),\n",
    "        x1=min(datetime(year+1, 6, 1), datetime(2024, 12, 31)),\n",
    "        fillcolor=dry_season_color,\n",
    "        layer=\"below\",\n",
    "        line_width=0\n",
    "    )\n",
    "    \n",
    "    # Wet season (Jun-Nov)\n",
    "    fig.add_vrect(\n",
    "        x0=max(datetime(year, 6, 1), datetime(2020, 1, 1)),\n",
    "        x1=min(datetime(year, 12, 1), datetime(2024, 12, 31)),\n",
    "        fillcolor=wet_season_color,\n",
    "        layer=\"below\",\n",
    "        line_width=0\n",
    "    )\n",
    "\n",
    "# Add price range (fill between)\n",
    "fig.add_trace(go.Scatter(\n",
    "    x=ron95_data['Date'],\n",
    "    y=ron95_data['Overall Range Max'],\n",
    "    fill=None,\n",
    "    mode='lines',\n",
    "    line=dict(width=0),\n",
    "    showlegend=False,\n",
    "    hoverinfo='skip'\n",
    "))\n",
    "\n",
    "fig.add_trace(go.Scatter(\n",
    "    x=ron95_data['Date'],\n",
    "    y=ron95_data['Overall Range Min'],\n",
    "    fill='tonexty',\n",
    "    mode='lines',\n",
    "    fillcolor=price_range_color,\n",
    "    line=dict(width=0),\n",
    "    name='Price Range',\n",
    "    hovertemplate=\"<b>%{x|%b %Y}</b><br>Range: %{y:.2f}–%{text} pesos<extra></extra>\",\n",
    "    text=ron95_data['Overall Range Max'].round(2)\n",
    "))\n",
    "\n",
    "# Add average price line\n",
    "fig.add_trace(go.Scatter(\n",
    "    x=ron95_data['Date'],\n",
    "    y=ron95_data['Average Price'],\n",
    "    mode='lines+markers',\n",
    "    line=dict(color=price_line_color, width=3),\n",
    "    marker=dict(size=8),\n",
    "    name='Average Price',\n",
    "    hovertemplate=\"<b>%{x|%b %Y}</b><br>Avg: %{y:.2f} pesos<extra></extra>\"\n",
    "))\n",
    "\n",
    "# Layout customization\n",
    "fig.update_layout(\n",
    "    title={\n",
    "        'text': \"<b>Cost per Liter for Gasoline (RON95) Monthly Price Trends (2020-2024)</b>\",\n",
    "        'y':0.95,\n",
    "        'x':0.5,\n",
    "        'xanchor': 'center',\n",
    "        'font': dict(size=18, color='#333333')\n",
    "    },\n",
    "    xaxis=dict(\n",
    "        title=\"Date\",\n",
    "        range=['2020-01-01', '2024-12-31'],\n",
    "        tickformat=\"%Y\",\n",
    "        dtick=\"M12\",  # Yearly ticks\n",
    "        showgrid=False\n",
    "    ),\n",
    "    yaxis=dict(\n",
    "        title=\"Cost (pesos)\",\n",
    "        showgrid=True,\n",
    "        gridcolor='rgba(0,0,0,0.1)'\n",
    "    ),\n",
    "    legend=dict(\n",
    "        orientation=\"h\",\n",
    "        yanchor=\"bottom\",\n",
    "        y=1.02,\n",
    "        xanchor=\"right\",\n",
    "        x=1\n",
    "    ),\n",
    "    plot_bgcolor='#FAFAFA',\n",
    "    paper_bgcolor='white',\n",
    "    hovermode=\"x unified\",\n",
    "    margin=dict(t=100)\n",
    ")\n",
    "\n",
    "# Custom legend for seasons (requires adding dummy traces)\n",
    "fig.add_trace(go.Scatter(\n",
    "    x=[None],\n",
    "    y=[None],\n",
    "    mode='markers',\n",
    "    marker=dict(size=15, color=dry_season_color),\n",
    "    name='Dry Season (Dec-May)'\n",
    "))\n",
    "\n",
    "fig.add_trace(go.Scatter(\n",
    "    x=[None],\n",
    "    y=[None],\n",
    "    mode='markers',\n",
    "    marker=dict(size=15, color=wet_season_color),\n",
    "    name='Wet Season (Jun-Nov)'\n",
    "))\n",
    "\n",
    "fig.show()\n",
    "\n",
    "# Save as HTML\n",
    "#fig.write_html(\"gasoline_price_trends_interactive.html\")"
   ]
  },
  {
   "cell_type": "markdown",
   "id": "d8fafe6d",
   "metadata": {},
   "source": [
    "Monthly electricity prices graph (2020 to 2025)"
   ]
  },
  {
   "cell_type": "code",
   "execution_count": 317,
   "id": "84a57ba6",
   "metadata": {},
   "outputs": [],
   "source": [
    "## Relevant functions\n",
    "\n",
    "\n",
    "def get_specific_kwh_df(kwh_consumption: int):\n",
    "    meralco_df = pd.read_csv('MeralcoSummaryOfRates.csv')\n",
    "    meralco_df['Date'] = pd.to_datetime(meralco_df['Year'].astype(str) + '-' + meralco_df['Month'].astype(str), format='%Y-%m')\n",
    "\n",
    "    # Reorder the columns to make 'Date' the first column\n",
    "    cols = ['Date'] + [col for col in meralco_df.columns if col != 'Date']\n",
    "    meralco_df = meralco_df[cols]\n",
    "\n",
    "    chosen_kwh_data = meralco_df[(meralco_df['kWh Consumption'] == kwh_consumption) & (meralco_df['For Lifeline Customers'] == False)]\n",
    "    chosen_kwh_data = chosen_kwh_data[(chosen_kwh_data['Date'].dt.year >= 2020) & (chosen_kwh_data['Date'].dt.year <= 2024)]\n",
    "\n",
    "    return chosen_kwh_data\n",
    "\n",
    "def plot_specific_kwh_df(kwh_consumption: int = 200) -> None:\n",
    "    df_to_plot = get_specific_kwh_df(kwh_consumption)\n",
    "\n",
    "    # Color definitions\n",
    "    dry_season_color = 'rgba(204, 102, 0, 0.3)'  # #CC6600 with alpha\n",
    "    wet_season_color = 'rgba(102, 153, 102, 0.3)' # #669966 with alpha\n",
    "    line_color = 'rgba(0, 0, 255, 1)'            # Blue\n",
    "\n",
    "    # Create figure\n",
    "    fig = go.Figure()\n",
    "\n",
    "    # Add seasonal background shapes first (so they appear behind the data)\n",
    "    for year in range(2019, 2025):\n",
    "        # Dry season (Dec-May)\n",
    "        fig.add_vrect(\n",
    "            x0=max(datetime(year, 12, 1), datetime(2020, 1, 1)),\n",
    "            x1=min(datetime(year+1, 6, 1), datetime(2024, 12, 31)),\n",
    "            fillcolor=dry_season_color,\n",
    "            layer=\"below\",\n",
    "            line_width=0,\n",
    "        )\n",
    "        \n",
    "        # Wet season (Jun-Nov)\n",
    "        fig.add_vrect(\n",
    "            x0=max(datetime(year, 6, 1), datetime(2020, 1, 1)),\n",
    "            x1=min(datetime(year, 12, 1), datetime(2024, 12, 31)),\n",
    "            fillcolor=wet_season_color,\n",
    "            layer=\"below\",\n",
    "            line_width=0,\n",
    "        )\n",
    "\n",
    "    # Add main line plot\n",
    "    fig.add_trace(go.Scatter(\n",
    "        x=df_to_plot['Date'],\n",
    "        y=df_to_plot['Total Bill'],\n",
    "        mode='lines+markers',\n",
    "        line=dict(color=line_color, width=2),\n",
    "        marker=dict(size=8),\n",
    "        name='Electricity Cost',\n",
    "        hovertemplate=\"<b>%{x|%b %Y}</b><br>Cost: %{y:.2f} pesos<extra></extra>\"\n",
    "    ))\n",
    "\n",
    "    # Layout customization\n",
    "    fig.update_layout(\n",
    "        title={\n",
    "            'text': f\"<b>Meralco Cost per kW for {kwh_consumption} kWh Consumption (2020-2024, Non-Lifeline)</b>\",\n",
    "            'y':0.95,\n",
    "            'x':0.5,\n",
    "            'xanchor': 'center',\n",
    "            'font': dict(size=18, color='#333333')\n",
    "        },\n",
    "        xaxis=dict(\n",
    "            title=\"Date\",\n",
    "            range=['2020-01-01', '2024-12-31'],\n",
    "            tickformat=\"%Y\",\n",
    "            dtick=\"M12\",  # Yearly ticks\n",
    "            showgrid=False\n",
    "        ),\n",
    "        yaxis=dict(\n",
    "            title=\"Cost (pesos)\",\n",
    "            showgrid=True,\n",
    "            gridcolor='rgba(0,0,0,0.1)'\n",
    "        ),\n",
    "        legend=dict(\n",
    "            orientation=\"h\",\n",
    "            yanchor=\"bottom\",\n",
    "            y=1.02,\n",
    "            xanchor=\"right\",\n",
    "            x=1\n",
    "        ),\n",
    "        plot_bgcolor='#FAFAFA',\n",
    "        paper_bgcolor='white',\n",
    "        hovermode=\"x unified\"\n",
    "    )\n",
    "    fig.add_trace(go.Scatter(\n",
    "    x=[None],\n",
    "    y=[None],\n",
    "    mode='markers',\n",
    "    marker=dict(size=15, color=dry_season_color),\n",
    "    name='Dry Season (Dec-May)'\n",
    "    ))\n",
    "\n",
    "    fig.add_trace(go.Scatter(\n",
    "        x=[None],\n",
    "        y=[None],\n",
    "        mode='markers',\n",
    "        marker=dict(size=15, color=wet_season_color),\n",
    "        name='Wet Season (Jun-Nov)'\n",
    "    ))\n",
    "\n",
    "    fig.show()\n",
    "\n",
    "    # Optional: Save as HTML\n",
    "    # fig.write_html(f\"electricity_cost_{kwh_consumption}kWh.html\")\n"
   ]
  },
  {
   "cell_type": "code",
   "execution_count": 318,
   "id": "37820c5b",
   "metadata": {},
   "outputs": [
    {
     "data": {
      "application/vnd.plotly.v1+json": {
       "config": {
        "plotlyServerURL": "https://plot.ly"
       },
       "data": [
        {
         "hovertemplate": "<b>%{x|%b %Y}</b><br>Cost: %{y:.2f} pesos<extra></extra>",
         "line": {
          "color": "rgba(0, 0, 255, 1)",
          "width": 2
         },
         "marker": {
          "size": 8
         },
         "mode": "lines+markers",
         "name": "Electricity Cost",
         "type": "scatter",
         "x": [
          "2020-01-01T00:00:00",
          "2020-02-01T00:00:00",
          "2020-03-01T00:00:00",
          "2020-04-01T00:00:00",
          "2020-05-01T00:00:00",
          "2020-06-01T00:00:00",
          "2020-07-01T00:00:00",
          "2020-08-01T00:00:00",
          "2020-09-01T00:00:00",
          "2020-10-01T00:00:00",
          "2020-11-01T00:00:00",
          "2020-12-01T00:00:00",
          "2021-01-01T00:00:00",
          "2021-02-01T00:00:00",
          "2021-03-01T00:00:00",
          "2021-04-01T00:00:00",
          "2021-05-01T00:00:00",
          "2021-06-01T00:00:00",
          "2021-07-01T00:00:00",
          "2021-08-01T00:00:00",
          "2021-09-01T00:00:00",
          "2021-10-01T00:00:00",
          "2021-11-01T00:00:00",
          "2021-12-01T00:00:00",
          "2022-01-01T00:00:00",
          "2022-02-01T00:00:00",
          "2022-03-01T00:00:00",
          "2022-04-01T00:00:00",
          "2022-05-01T00:00:00",
          "2022-06-01T00:00:00",
          "2022-07-01T00:00:00",
          "2022-08-01T00:00:00",
          "2022-09-01T00:00:00",
          "2022-10-01T00:00:00",
          "2022-11-01T00:00:00",
          "2022-12-01T00:00:00",
          "2023-01-01T00:00:00",
          "2023-02-01T00:00:00",
          "2023-03-01T00:00:00",
          "2023-04-01T00:00:00",
          "2023-05-01T00:00:00",
          "2023-06-01T00:00:00",
          "2023-07-01T00:00:00",
          "2023-08-01T00:00:00",
          "2023-09-01T00:00:00",
          "2023-10-01T00:00:00",
          "2023-11-01T00:00:00",
          "2023-12-01T00:00:00",
          "2024-01-01T00:00:00",
          "2024-02-01T00:00:00",
          "2024-03-01T00:00:00",
          "2024-04-01T00:00:00",
          "2024-05-01T00:00:00",
          "2024-06-01T00:00:00",
          "2024-07-01T00:00:00",
          "2024-08-01T00:00:00",
          "2024-09-01T00:00:00",
          "2024-10-01T00:00:00",
          "2024-11-01T00:00:00",
          "2024-12-01T00:00:00"
         ],
         "y": [
          9.4523,
          8.8623,
          8.8901,
          8.9951,
          8.7468,
          8.7252,
          8.6966,
          8.4911,
          8.4288,
          8.55,
          8.5105,
          8.4753,
          8.7497,
          8.6793,
          8.3195,
          8.4067,
          8.592,
          8.6718,
          8.9071,
          9.0036,
          9.1091,
          9.1374,
          9.463,
          9.7773,
          9.7027,
          9.5842,
          9.6467,
          10.183,
          10.063,
          10.4612,
          9.7545,
          9.5458,
          9.9365,
          9.8628,
          9.9472,
          10.2769,
          10.9001,
          10.8895,
          11.4348,
          11.3168,
          11.4929,
          11.9112,
          11.1899,
          10.8991,
          11.3997,
          11.8198,
          12.0545,
          11.2584,
          11.343,
          11.9168,
          11.9397,
          10.9518,
          11.4139,
          9.4516,
          11.6012,
          11.6339,
          11.7882,
          11.4295,
          11.8569,
          11.9617
         ]
        },
        {
         "marker": {
          "color": "rgba(204, 102, 0, 0.3)",
          "size": 15
         },
         "mode": "markers",
         "name": "Dry Season (Dec-May)",
         "type": "scatter",
         "x": [
          null
         ],
         "y": [
          null
         ]
        },
        {
         "marker": {
          "color": "rgba(102, 153, 102, 0.3)",
          "size": 15
         },
         "mode": "markers",
         "name": "Wet Season (Jun-Nov)",
         "type": "scatter",
         "x": [
          null
         ],
         "y": [
          null
         ]
        }
       ],
       "layout": {
        "hovermode": "x unified",
        "legend": {
         "orientation": "h",
         "x": 1,
         "xanchor": "right",
         "y": 1.02,
         "yanchor": "bottom"
        },
        "paper_bgcolor": "white",
        "plot_bgcolor": "#FAFAFA",
        "shapes": [
         {
          "fillcolor": "rgba(204, 102, 0, 0.3)",
          "layer": "below",
          "line": {
           "width": 0
          },
          "type": "rect",
          "x0": "2020-01-01T00:00:00",
          "x1": "2020-06-01T00:00:00",
          "xref": "x",
          "y0": 0,
          "y1": 1,
          "yref": "y domain"
         },
         {
          "fillcolor": "rgba(102, 153, 102, 0.3)",
          "layer": "below",
          "line": {
           "width": 0
          },
          "type": "rect",
          "x0": "2020-01-01T00:00:00",
          "x1": "2019-12-01T00:00:00",
          "xref": "x",
          "y0": 0,
          "y1": 1,
          "yref": "y domain"
         },
         {
          "fillcolor": "rgba(204, 102, 0, 0.3)",
          "layer": "below",
          "line": {
           "width": 0
          },
          "type": "rect",
          "x0": "2020-12-01T00:00:00",
          "x1": "2021-06-01T00:00:00",
          "xref": "x",
          "y0": 0,
          "y1": 1,
          "yref": "y domain"
         },
         {
          "fillcolor": "rgba(102, 153, 102, 0.3)",
          "layer": "below",
          "line": {
           "width": 0
          },
          "type": "rect",
          "x0": "2020-06-01T00:00:00",
          "x1": "2020-12-01T00:00:00",
          "xref": "x",
          "y0": 0,
          "y1": 1,
          "yref": "y domain"
         },
         {
          "fillcolor": "rgba(204, 102, 0, 0.3)",
          "layer": "below",
          "line": {
           "width": 0
          },
          "type": "rect",
          "x0": "2021-12-01T00:00:00",
          "x1": "2022-06-01T00:00:00",
          "xref": "x",
          "y0": 0,
          "y1": 1,
          "yref": "y domain"
         },
         {
          "fillcolor": "rgba(102, 153, 102, 0.3)",
          "layer": "below",
          "line": {
           "width": 0
          },
          "type": "rect",
          "x0": "2021-06-01T00:00:00",
          "x1": "2021-12-01T00:00:00",
          "xref": "x",
          "y0": 0,
          "y1": 1,
          "yref": "y domain"
         },
         {
          "fillcolor": "rgba(204, 102, 0, 0.3)",
          "layer": "below",
          "line": {
           "width": 0
          },
          "type": "rect",
          "x0": "2022-12-01T00:00:00",
          "x1": "2023-06-01T00:00:00",
          "xref": "x",
          "y0": 0,
          "y1": 1,
          "yref": "y domain"
         },
         {
          "fillcolor": "rgba(102, 153, 102, 0.3)",
          "layer": "below",
          "line": {
           "width": 0
          },
          "type": "rect",
          "x0": "2022-06-01T00:00:00",
          "x1": "2022-12-01T00:00:00",
          "xref": "x",
          "y0": 0,
          "y1": 1,
          "yref": "y domain"
         },
         {
          "fillcolor": "rgba(204, 102, 0, 0.3)",
          "layer": "below",
          "line": {
           "width": 0
          },
          "type": "rect",
          "x0": "2023-12-01T00:00:00",
          "x1": "2024-06-01T00:00:00",
          "xref": "x",
          "y0": 0,
          "y1": 1,
          "yref": "y domain"
         },
         {
          "fillcolor": "rgba(102, 153, 102, 0.3)",
          "layer": "below",
          "line": {
           "width": 0
          },
          "type": "rect",
          "x0": "2023-06-01T00:00:00",
          "x1": "2023-12-01T00:00:00",
          "xref": "x",
          "y0": 0,
          "y1": 1,
          "yref": "y domain"
         },
         {
          "fillcolor": "rgba(204, 102, 0, 0.3)",
          "layer": "below",
          "line": {
           "width": 0
          },
          "type": "rect",
          "x0": "2024-12-01T00:00:00",
          "x1": "2024-12-31T00:00:00",
          "xref": "x",
          "y0": 0,
          "y1": 1,
          "yref": "y domain"
         },
         {
          "fillcolor": "rgba(102, 153, 102, 0.3)",
          "layer": "below",
          "line": {
           "width": 0
          },
          "type": "rect",
          "x0": "2024-06-01T00:00:00",
          "x1": "2024-12-01T00:00:00",
          "xref": "x",
          "y0": 0,
          "y1": 1,
          "yref": "y domain"
         }
        ],
        "template": {
         "data": {
          "bar": [
           {
            "error_x": {
             "color": "#2a3f5f"
            },
            "error_y": {
             "color": "#2a3f5f"
            },
            "marker": {
             "line": {
              "color": "#E5ECF6",
              "width": 0.5
             },
             "pattern": {
              "fillmode": "overlay",
              "size": 10,
              "solidity": 0.2
             }
            },
            "type": "bar"
           }
          ],
          "barpolar": [
           {
            "marker": {
             "line": {
              "color": "#E5ECF6",
              "width": 0.5
             },
             "pattern": {
              "fillmode": "overlay",
              "size": 10,
              "solidity": 0.2
             }
            },
            "type": "barpolar"
           }
          ],
          "carpet": [
           {
            "aaxis": {
             "endlinecolor": "#2a3f5f",
             "gridcolor": "white",
             "linecolor": "white",
             "minorgridcolor": "white",
             "startlinecolor": "#2a3f5f"
            },
            "baxis": {
             "endlinecolor": "#2a3f5f",
             "gridcolor": "white",
             "linecolor": "white",
             "minorgridcolor": "white",
             "startlinecolor": "#2a3f5f"
            },
            "type": "carpet"
           }
          ],
          "choropleth": [
           {
            "colorbar": {
             "outlinewidth": 0,
             "ticks": ""
            },
            "type": "choropleth"
           }
          ],
          "contour": [
           {
            "colorbar": {
             "outlinewidth": 0,
             "ticks": ""
            },
            "colorscale": [
             [
              0,
              "#0d0887"
             ],
             [
              0.1111111111111111,
              "#46039f"
             ],
             [
              0.2222222222222222,
              "#7201a8"
             ],
             [
              0.3333333333333333,
              "#9c179e"
             ],
             [
              0.4444444444444444,
              "#bd3786"
             ],
             [
              0.5555555555555556,
              "#d8576b"
             ],
             [
              0.6666666666666666,
              "#ed7953"
             ],
             [
              0.7777777777777778,
              "#fb9f3a"
             ],
             [
              0.8888888888888888,
              "#fdca26"
             ],
             [
              1,
              "#f0f921"
             ]
            ],
            "type": "contour"
           }
          ],
          "contourcarpet": [
           {
            "colorbar": {
             "outlinewidth": 0,
             "ticks": ""
            },
            "type": "contourcarpet"
           }
          ],
          "heatmap": [
           {
            "colorbar": {
             "outlinewidth": 0,
             "ticks": ""
            },
            "colorscale": [
             [
              0,
              "#0d0887"
             ],
             [
              0.1111111111111111,
              "#46039f"
             ],
             [
              0.2222222222222222,
              "#7201a8"
             ],
             [
              0.3333333333333333,
              "#9c179e"
             ],
             [
              0.4444444444444444,
              "#bd3786"
             ],
             [
              0.5555555555555556,
              "#d8576b"
             ],
             [
              0.6666666666666666,
              "#ed7953"
             ],
             [
              0.7777777777777778,
              "#fb9f3a"
             ],
             [
              0.8888888888888888,
              "#fdca26"
             ],
             [
              1,
              "#f0f921"
             ]
            ],
            "type": "heatmap"
           }
          ],
          "heatmapgl": [
           {
            "colorbar": {
             "outlinewidth": 0,
             "ticks": ""
            },
            "colorscale": [
             [
              0,
              "#0d0887"
             ],
             [
              0.1111111111111111,
              "#46039f"
             ],
             [
              0.2222222222222222,
              "#7201a8"
             ],
             [
              0.3333333333333333,
              "#9c179e"
             ],
             [
              0.4444444444444444,
              "#bd3786"
             ],
             [
              0.5555555555555556,
              "#d8576b"
             ],
             [
              0.6666666666666666,
              "#ed7953"
             ],
             [
              0.7777777777777778,
              "#fb9f3a"
             ],
             [
              0.8888888888888888,
              "#fdca26"
             ],
             [
              1,
              "#f0f921"
             ]
            ],
            "type": "heatmapgl"
           }
          ],
          "histogram": [
           {
            "marker": {
             "pattern": {
              "fillmode": "overlay",
              "size": 10,
              "solidity": 0.2
             }
            },
            "type": "histogram"
           }
          ],
          "histogram2d": [
           {
            "colorbar": {
             "outlinewidth": 0,
             "ticks": ""
            },
            "colorscale": [
             [
              0,
              "#0d0887"
             ],
             [
              0.1111111111111111,
              "#46039f"
             ],
             [
              0.2222222222222222,
              "#7201a8"
             ],
             [
              0.3333333333333333,
              "#9c179e"
             ],
             [
              0.4444444444444444,
              "#bd3786"
             ],
             [
              0.5555555555555556,
              "#d8576b"
             ],
             [
              0.6666666666666666,
              "#ed7953"
             ],
             [
              0.7777777777777778,
              "#fb9f3a"
             ],
             [
              0.8888888888888888,
              "#fdca26"
             ],
             [
              1,
              "#f0f921"
             ]
            ],
            "type": "histogram2d"
           }
          ],
          "histogram2dcontour": [
           {
            "colorbar": {
             "outlinewidth": 0,
             "ticks": ""
            },
            "colorscale": [
             [
              0,
              "#0d0887"
             ],
             [
              0.1111111111111111,
              "#46039f"
             ],
             [
              0.2222222222222222,
              "#7201a8"
             ],
             [
              0.3333333333333333,
              "#9c179e"
             ],
             [
              0.4444444444444444,
              "#bd3786"
             ],
             [
              0.5555555555555556,
              "#d8576b"
             ],
             [
              0.6666666666666666,
              "#ed7953"
             ],
             [
              0.7777777777777778,
              "#fb9f3a"
             ],
             [
              0.8888888888888888,
              "#fdca26"
             ],
             [
              1,
              "#f0f921"
             ]
            ],
            "type": "histogram2dcontour"
           }
          ],
          "mesh3d": [
           {
            "colorbar": {
             "outlinewidth": 0,
             "ticks": ""
            },
            "type": "mesh3d"
           }
          ],
          "parcoords": [
           {
            "line": {
             "colorbar": {
              "outlinewidth": 0,
              "ticks": ""
             }
            },
            "type": "parcoords"
           }
          ],
          "pie": [
           {
            "automargin": true,
            "type": "pie"
           }
          ],
          "scatter": [
           {
            "fillpattern": {
             "fillmode": "overlay",
             "size": 10,
             "solidity": 0.2
            },
            "type": "scatter"
           }
          ],
          "scatter3d": [
           {
            "line": {
             "colorbar": {
              "outlinewidth": 0,
              "ticks": ""
             }
            },
            "marker": {
             "colorbar": {
              "outlinewidth": 0,
              "ticks": ""
             }
            },
            "type": "scatter3d"
           }
          ],
          "scattercarpet": [
           {
            "marker": {
             "colorbar": {
              "outlinewidth": 0,
              "ticks": ""
             }
            },
            "type": "scattercarpet"
           }
          ],
          "scattergeo": [
           {
            "marker": {
             "colorbar": {
              "outlinewidth": 0,
              "ticks": ""
             }
            },
            "type": "scattergeo"
           }
          ],
          "scattergl": [
           {
            "marker": {
             "colorbar": {
              "outlinewidth": 0,
              "ticks": ""
             }
            },
            "type": "scattergl"
           }
          ],
          "scattermapbox": [
           {
            "marker": {
             "colorbar": {
              "outlinewidth": 0,
              "ticks": ""
             }
            },
            "type": "scattermapbox"
           }
          ],
          "scatterpolar": [
           {
            "marker": {
             "colorbar": {
              "outlinewidth": 0,
              "ticks": ""
             }
            },
            "type": "scatterpolar"
           }
          ],
          "scatterpolargl": [
           {
            "marker": {
             "colorbar": {
              "outlinewidth": 0,
              "ticks": ""
             }
            },
            "type": "scatterpolargl"
           }
          ],
          "scatterternary": [
           {
            "marker": {
             "colorbar": {
              "outlinewidth": 0,
              "ticks": ""
             }
            },
            "type": "scatterternary"
           }
          ],
          "surface": [
           {
            "colorbar": {
             "outlinewidth": 0,
             "ticks": ""
            },
            "colorscale": [
             [
              0,
              "#0d0887"
             ],
             [
              0.1111111111111111,
              "#46039f"
             ],
             [
              0.2222222222222222,
              "#7201a8"
             ],
             [
              0.3333333333333333,
              "#9c179e"
             ],
             [
              0.4444444444444444,
              "#bd3786"
             ],
             [
              0.5555555555555556,
              "#d8576b"
             ],
             [
              0.6666666666666666,
              "#ed7953"
             ],
             [
              0.7777777777777778,
              "#fb9f3a"
             ],
             [
              0.8888888888888888,
              "#fdca26"
             ],
             [
              1,
              "#f0f921"
             ]
            ],
            "type": "surface"
           }
          ],
          "table": [
           {
            "cells": {
             "fill": {
              "color": "#EBF0F8"
             },
             "line": {
              "color": "white"
             }
            },
            "header": {
             "fill": {
              "color": "#C8D4E3"
             },
             "line": {
              "color": "white"
             }
            },
            "type": "table"
           }
          ]
         },
         "layout": {
          "annotationdefaults": {
           "arrowcolor": "#2a3f5f",
           "arrowhead": 0,
           "arrowwidth": 1
          },
          "autotypenumbers": "strict",
          "coloraxis": {
           "colorbar": {
            "outlinewidth": 0,
            "ticks": ""
           }
          },
          "colorscale": {
           "diverging": [
            [
             0,
             "#8e0152"
            ],
            [
             0.1,
             "#c51b7d"
            ],
            [
             0.2,
             "#de77ae"
            ],
            [
             0.3,
             "#f1b6da"
            ],
            [
             0.4,
             "#fde0ef"
            ],
            [
             0.5,
             "#f7f7f7"
            ],
            [
             0.6,
             "#e6f5d0"
            ],
            [
             0.7,
             "#b8e186"
            ],
            [
             0.8,
             "#7fbc41"
            ],
            [
             0.9,
             "#4d9221"
            ],
            [
             1,
             "#276419"
            ]
           ],
           "sequential": [
            [
             0,
             "#0d0887"
            ],
            [
             0.1111111111111111,
             "#46039f"
            ],
            [
             0.2222222222222222,
             "#7201a8"
            ],
            [
             0.3333333333333333,
             "#9c179e"
            ],
            [
             0.4444444444444444,
             "#bd3786"
            ],
            [
             0.5555555555555556,
             "#d8576b"
            ],
            [
             0.6666666666666666,
             "#ed7953"
            ],
            [
             0.7777777777777778,
             "#fb9f3a"
            ],
            [
             0.8888888888888888,
             "#fdca26"
            ],
            [
             1,
             "#f0f921"
            ]
           ],
           "sequentialminus": [
            [
             0,
             "#0d0887"
            ],
            [
             0.1111111111111111,
             "#46039f"
            ],
            [
             0.2222222222222222,
             "#7201a8"
            ],
            [
             0.3333333333333333,
             "#9c179e"
            ],
            [
             0.4444444444444444,
             "#bd3786"
            ],
            [
             0.5555555555555556,
             "#d8576b"
            ],
            [
             0.6666666666666666,
             "#ed7953"
            ],
            [
             0.7777777777777778,
             "#fb9f3a"
            ],
            [
             0.8888888888888888,
             "#fdca26"
            ],
            [
             1,
             "#f0f921"
            ]
           ]
          },
          "colorway": [
           "#636efa",
           "#EF553B",
           "#00cc96",
           "#ab63fa",
           "#FFA15A",
           "#19d3f3",
           "#FF6692",
           "#B6E880",
           "#FF97FF",
           "#FECB52"
          ],
          "font": {
           "color": "#2a3f5f"
          },
          "geo": {
           "bgcolor": "white",
           "lakecolor": "white",
           "landcolor": "#E5ECF6",
           "showlakes": true,
           "showland": true,
           "subunitcolor": "white"
          },
          "hoverlabel": {
           "align": "left"
          },
          "hovermode": "closest",
          "mapbox": {
           "style": "light"
          },
          "paper_bgcolor": "white",
          "plot_bgcolor": "#E5ECF6",
          "polar": {
           "angularaxis": {
            "gridcolor": "white",
            "linecolor": "white",
            "ticks": ""
           },
           "bgcolor": "#E5ECF6",
           "radialaxis": {
            "gridcolor": "white",
            "linecolor": "white",
            "ticks": ""
           }
          },
          "scene": {
           "xaxis": {
            "backgroundcolor": "#E5ECF6",
            "gridcolor": "white",
            "gridwidth": 2,
            "linecolor": "white",
            "showbackground": true,
            "ticks": "",
            "zerolinecolor": "white"
           },
           "yaxis": {
            "backgroundcolor": "#E5ECF6",
            "gridcolor": "white",
            "gridwidth": 2,
            "linecolor": "white",
            "showbackground": true,
            "ticks": "",
            "zerolinecolor": "white"
           },
           "zaxis": {
            "backgroundcolor": "#E5ECF6",
            "gridcolor": "white",
            "gridwidth": 2,
            "linecolor": "white",
            "showbackground": true,
            "ticks": "",
            "zerolinecolor": "white"
           }
          },
          "shapedefaults": {
           "line": {
            "color": "#2a3f5f"
           }
          },
          "ternary": {
           "aaxis": {
            "gridcolor": "white",
            "linecolor": "white",
            "ticks": ""
           },
           "baxis": {
            "gridcolor": "white",
            "linecolor": "white",
            "ticks": ""
           },
           "bgcolor": "#E5ECF6",
           "caxis": {
            "gridcolor": "white",
            "linecolor": "white",
            "ticks": ""
           }
          },
          "title": {
           "x": 0.05
          },
          "xaxis": {
           "automargin": true,
           "gridcolor": "white",
           "linecolor": "white",
           "ticks": "",
           "title": {
            "standoff": 15
           },
           "zerolinecolor": "white",
           "zerolinewidth": 2
          },
          "yaxis": {
           "automargin": true,
           "gridcolor": "white",
           "linecolor": "white",
           "ticks": "",
           "title": {
            "standoff": 15
           },
           "zerolinecolor": "white",
           "zerolinewidth": 2
          }
         }
        },
        "title": {
         "font": {
          "color": "#333333",
          "size": 18
         },
         "text": "<b>Meralco Cost per kW for 200 kWh Consumption (2020-2024, Non-Lifeline)</b>",
         "x": 0.5,
         "xanchor": "center",
         "y": 0.95
        },
        "xaxis": {
         "dtick": "M12",
         "range": [
          "2020-01-01",
          "2024-12-31"
         ],
         "showgrid": false,
         "tickformat": "%Y",
         "title": {
          "text": "Date"
         }
        },
        "yaxis": {
         "gridcolor": "rgba(0,0,0,0.1)",
         "showgrid": true,
         "title": {
          "text": "Cost (pesos)"
         }
        }
       }
      }
     },
     "metadata": {},
     "output_type": "display_data"
    }
   ],
   "source": [
    "plot_specific_kwh_df(200)"
   ]
  },
  {
   "cell_type": "markdown",
   "id": "38923f89",
   "metadata": {},
   "source": [
    "Seasonality for raw gas and electricity (Just curious)"
   ]
  },
  {
   "cell_type": "code",
   "execution_count": 319,
   "id": "d17a474b",
   "metadata": {},
   "outputs": [
    {
     "name": "stdout",
     "output_type": "stream",
     "text": [
      "Electricity, Yearly seasonality: KruskalResult(statistic=48.66885245901639, pvalue=6.845482130987131e-10)\n",
      "Gas, Yearly seasonality: KruskalResult(statistic=46.01031200423054, pvalue=9.038308313091285e-09)\n",
      "Electricity, Monthly seasonality: KruskalResult(statistic=1.1455737704918079, pvalue=0.9998998777588135)\n",
      "Gas, Monthly seasonality: KruskalResult(statistic=1.5203595980962632, pvalue=0.9995937999261401)\n"
     ]
    }
   ],
   "source": [
    "res = []\n",
    "chosen_kwh_data = get_specific_kwh_df(200)\n",
    "for i in chosen_kwh_data['Year'].unique():\n",
    "    res.append(chosen_kwh_data[chosen_kwh_data['Year'] == i]['Total Bill'].values)\n",
    "\n",
    "print(f\"Electricity, Yearly seasonality: {stats.kruskal(*res)}\")\n",
    "\n",
    "res = []\n",
    "for i in ron95_data['Date'].dt.year.unique():\n",
    "    year = ron95_data['Date'].dt.year\n",
    "    res.append(ron95_data[year == i]['Average Price'].values)\n",
    "\n",
    "print(f\"Gas, Yearly seasonality: {stats.kruskal(*res)}\")\n",
    "\n",
    "res = []\n",
    "for i in chosen_kwh_data['Month'].unique():\n",
    "    res.append(chosen_kwh_data[chosen_kwh_data['Month'] == i]['Total Bill'].values)\n",
    "\n",
    "print(f\"Electricity, Monthly seasonality: {stats.kruskal(*res)}\")\n",
    "\n",
    "res = []\n",
    "for i in ron95_data['Date'].dt.month.unique():\n",
    "    month = ron95_data['Date'].dt.month\n",
    "    res.append(ron95_data[month == i]['Average Price'].values)\n",
    "\n",
    "print(f\"Gas, Monthly seasonality: {stats.kruskal(*res)}\")"
   ]
  },
  {
   "cell_type": "markdown",
   "id": "bea78866",
   "metadata": {},
   "source": [
    "Comparing gas and electricity"
   ]
  },
  {
   "cell_type": "code",
   "execution_count": 320,
   "id": "520862e7",
   "metadata": {},
   "outputs": [
    {
     "data": {
      "text/plain": [
       "'\\ntest data\\n30, 40, 50\\n6.25, 7, 7.5\\n'"
      ]
     },
     "execution_count": 320,
     "metadata": {},
     "output_type": "execute_result"
    }
   ],
   "source": [
    "def make_comparison_dataframe(km_l: float, km_kwh: float, kwh_consumption: int = 200):\n",
    "    df_gas = ron95_data.copy()\n",
    "    df_elec = get_specific_kwh_df(kwh_consumption)\n",
    "\n",
    "    #print(df_elec)\n",
    "\n",
    "    # Drop excess month in df_gas\n",
    "    date_to_drop = pd.to_datetime('2025-01-01')\n",
    "    df_gas = df_gas[df_gas['Date'] != date_to_drop]\n",
    "\n",
    "    monthly_date_range = pd.date_range(start='2020-01-01', end='2024-12-31', freq='MS')\n",
    "    # Create a new DataFrame with the monthly date range\n",
    "    df_output = pd.DataFrame({'Date': monthly_date_range.date,\n",
    "                              'Gas cost/km':None,\n",
    "                              'Electricity cost/km':None,\n",
    "                              'Difference': None})\n",
    "    \n",
    "    df_gas['Date'] = pd.to_datetime(df_gas['Date'])\n",
    "    df_elec['Date'] = pd.to_datetime(df_elec['Date'])\n",
    "    df_output['Date'] = pd.to_datetime(df_output['Date'])\n",
    "\n",
    "    df_gas = df_gas.set_index('Date')\n",
    "    df_elec = df_elec.set_index('Date')\n",
    "    df_output = df_output.set_index('Date')\n",
    "\n",
    "    # Calculate cost per km for each row\n",
    "    for date in df_output.index:\n",
    "        gas_price = df_gas.loc[date, 'Average Price']\n",
    "        df_output.loc[date, 'Gas cost/km'] = gas_price / km_l  # PHP per km\n",
    "\n",
    "        elec_price = df_elec.loc[date, 'Total Bill']\n",
    "        df_output.loc[date, 'Electricity cost/km'] = elec_price / km_kwh  # PHP per km\n",
    "\n",
    "    # Calculate the difference (Gas cost - Electricity cost)\n",
    "    df_output['Difference'] = df_output['Gas cost/km'] - df_output['Electricity cost/km']\n",
    "    df_output = df_output.reset_index()\n",
    "    return df_output\n",
    "\n",
    "# toyota vios (15) VS byd ATTO 3 (6.25)\n",
    "\"\"\"\n",
    "test data\n",
    "30, 40, 50\n",
    "6.25, 7, 7.5\n",
    "\"\"\""
   ]
  },
  {
   "cell_type": "markdown",
   "id": "7c9fef2e",
   "metadata": {},
   "source": [
    "Plotting the dataframe comparison"
   ]
  },
  {
   "cell_type": "code",
   "execution_count": 321,
   "id": "ae86e522",
   "metadata": {},
   "outputs": [],
   "source": [
    "def plot_comparison_dataframe(km_l: float, km_kwh: float, kwh_consumption: int = 200):\n",
    "    df = make_comparison_dataframe(km_l, km_kwh, kwh_consumption)\n",
    "\n",
    "    # Color definitions\n",
    "    dry_season_color = 'rgba(204, 102, 0, 0.3)'  # #CC6600 with alpha\n",
    "    wet_season_color = 'rgba(102, 153, 102, 0.3)' # #669966 with alpha\n",
    "    gas_color = '#EF553B'  # Red\n",
    "    electricity_color = '#636EFA'  # Blue\n",
    "\n",
    "    fig = go.Figure()\n",
    "\n",
    "    ## vertical lines\n",
    "    luzon_lockdown = datetime(2020, 3, 1)\n",
    "    lockdown_reduced = datetime(2021, 10, 1)\n",
    "    ukraine_invasion = datetime(2022, 2, 1)\n",
    "    fig.update_layout(\n",
    "        shapes=[\n",
    "            dict(\n",
    "                type=\"line\",\n",
    "                x0=luzon_lockdown,\n",
    "                x1=luzon_lockdown,\n",
    "                line=dict(color=\"black\", width=2, dash=\"dash\")\n",
    "            ),\n",
    "            dict(\n",
    "                type=\"line\",\n",
    "                x0=lockdown_reduced,\n",
    "                x1=lockdown_reduced,\n",
    "                line=dict(color=\"black\", width=2, dash=\"dash\")\n",
    "            ),\n",
    "            dict(\n",
    "                type=\"line\",\n",
    "                x0=ukraine_invasion,\n",
    "                x1=ukraine_invasion,\n",
    "                line=dict(color=\"black\", width=2, dash=\"dash\")\n",
    "            ),\n",
    "        ],\n",
    "        annotations=[\n",
    "            dict(\n",
    "                x=luzon_lockdown,\n",
    "                xref=\"x\",\n",
    "                showarrow=False,\n",
    "                text=\"Luzon ECQ Start\",\n",
    "                textangle=-90,\n",
    "                xanchor=\"right\",\n",
    "                yanchor=\"bottom\",\n",
    "                font=dict(size=10),\n",
    "            ),\n",
    "            dict(\n",
    "                x=lockdown_reduced,\n",
    "                xref=\"x\",\n",
    "                showarrow=False,\n",
    "                text=\"ECQ to MECQ\",\n",
    "                textangle=-90,\n",
    "                xanchor=\"right\",\n",
    "                yanchor=\"bottom\",\n",
    "                font=dict(size=10),\n",
    "            ),\n",
    "            dict(\n",
    "                x=ukraine_invasion,\n",
    "                xref=\"x\",\n",
    "                showarrow=False,\n",
    "                text=\"Rus invades Ukr\",\n",
    "                textangle=-90,\n",
    "                xanchor=\"right\",\n",
    "                yanchor=\"bottom\",\n",
    "                font=dict(size=10),\n",
    "            )\n",
    "        ],\n",
    "    )\n",
    "\n",
    "    # Add seasonal background shapes first (so they appear behind the data)\n",
    "    for year in range(2019, 2025):\n",
    "        # Dry season (Dec-May)\n",
    "        fig.add_vrect(\n",
    "            x0=max(datetime(year, 12, 1), df['Date'].min()),\n",
    "            x1=min(datetime(year+1, 6, 1), df['Date'].max()),\n",
    "            fillcolor=dry_season_color,\n",
    "            layer=\"below\",\n",
    "            line_width=0,\n",
    "        )\n",
    "        \n",
    "        # Wet season (Jun-Nov)\n",
    "        fig.add_vrect(\n",
    "            x0=max(datetime(year, 6, 1), df['Date'].min()),\n",
    "            x1=min(datetime(year, 12, 1), df['Date'].max()),\n",
    "            fillcolor=wet_season_color,\n",
    "            layer=\"below\",\n",
    "            line_width=0,\n",
    "        )\n",
    "\n",
    "    # Add Gas line plot\n",
    "    fig.add_trace(go.Scatter(\n",
    "        x=df['Date'],\n",
    "        y=df['Gas cost/km'],\n",
    "        mode='lines+markers',\n",
    "        line=dict(color=gas_color, width=2),\n",
    "        marker=dict(size=8),\n",
    "        name='Gas Cost/km',\n",
    "        hovertemplate=\"<b>%{x|%b %Y}</b><br>Gas Cost: PHP %{y:.3f}<extra></extra>\"\n",
    "    ))\n",
    "\n",
    "    # Add Electricity line plot\n",
    "    fig.add_trace(go.Scatter(\n",
    "        x=df['Date'],\n",
    "        y=df['Electricity cost/km'],\n",
    "        mode='lines+markers',\n",
    "        line=dict(color=electricity_color, width=2),\n",
    "        marker=dict(size=8),\n",
    "        name='Electricity Cost/km',\n",
    "        hovertemplate=\"<b>%{x|%b %Y}</b><br>Electricity Cost: PHP %{y:.3f}<extra></extra>\"\n",
    "    ))\n",
    "\n",
    "    fig.update_layout(\n",
    "        title={\n",
    "            'text': \"<b>Gas vs. Electricity Cost per Kilometer (2020-2025)</b>\",\n",
    "            'y':0.95,\n",
    "            'x':0.5,\n",
    "            'xanchor': 'center',\n",
    "            'font': dict(size=18, color='#333333')\n",
    "        },\n",
    "        xaxis=dict(\n",
    "            title=\"Date\",\n",
    "            range=[df['Date'].min(), df['Date'].max()],\n",
    "            tickformat=\"%Y\",\n",
    "            dtick=\"M12\",  # Yearly ticks\n",
    "            showgrid=False\n",
    "        ),\n",
    "        yaxis=dict(\n",
    "            title=\"Cost per km (PHP)\",\n",
    "            showgrid=True,\n",
    "            gridcolor='rgba(0,0,0,0.1)'\n",
    "        ),\n",
    "        legend=dict(\n",
    "            orientation=\"h\",\n",
    "            yanchor=\"bottom\",\n",
    "            y=1.02,\n",
    "            xanchor=\"right\",\n",
    "            x=1\n",
    "        ),\n",
    "        plot_bgcolor='#FAFAFA',\n",
    "        paper_bgcolor='white',\n",
    "        hovermode=\"x unified\"\n",
    "    )\n",
    "\n",
    "    # Add seasonal legend entries (as in first plot)\n",
    "    fig.add_trace(go.Scatter(\n",
    "        x=[None],\n",
    "        y=[None],\n",
    "        mode='markers',\n",
    "        marker=dict(size=15, color=dry_season_color),\n",
    "        name='Dry Season (Dec-May)'\n",
    "    ))\n",
    "\n",
    "    fig.add_trace(go.Scatter(\n",
    "        x=[None],\n",
    "        y=[None],\n",
    "        mode='markers',\n",
    "        marker=dict(size=15, color=wet_season_color),\n",
    "        name='Wet Season (Jun-Nov)'\n",
    "    ))\n",
    "\n",
    "    fig.add_annotation(\n",
    "        x=0.02,\n",
    "        y=-0.15,\n",
    "        xref=\"paper\",\n",
    "        yref=\"paper\",\n",
    "        align=\"left\",\n",
    "        text=f\"<i><br>Gas cost calculated with {km_l} km/L<br>Electricity cost calculated with {km_kwh} km/kWh and {kwh_consumption} kWh consumption</i>\",\n",
    "        showarrow=False,\n",
    "        font=dict(size=11, color=\"#666666\")\n",
    "    )\n",
    "\n",
    "    # Show the plot\n",
    "    fig.show()"
   ]
  },
  {
   "cell_type": "code",
   "execution_count": 322,
   "id": "3c499590",
   "metadata": {},
   "outputs": [
    {
     "data": {
      "application/vnd.plotly.v1+json": {
       "config": {
        "plotlyServerURL": "https://plot.ly"
       },
       "data": [
        {
         "hovertemplate": "<b>%{x|%b %Y}</b><br>Gas Cost: PHP %{y:.3f}<extra></extra>",
         "line": {
          "color": "#EF553B",
          "width": 2
         },
         "marker": {
          "size": 8
         },
         "mode": "lines+markers",
         "name": "Gas Cost/km",
         "type": "scatter",
         "x": [
          "2020-01-01T00:00:00",
          "2020-02-01T00:00:00",
          "2020-03-01T00:00:00",
          "2020-04-01T00:00:00",
          "2020-05-01T00:00:00",
          "2020-06-01T00:00:00",
          "2020-07-01T00:00:00",
          "2020-08-01T00:00:00",
          "2020-09-01T00:00:00",
          "2020-10-01T00:00:00",
          "2020-11-01T00:00:00",
          "2020-12-01T00:00:00",
          "2021-01-01T00:00:00",
          "2021-02-01T00:00:00",
          "2021-03-01T00:00:00",
          "2021-04-01T00:00:00",
          "2021-05-01T00:00:00",
          "2021-06-01T00:00:00",
          "2021-07-01T00:00:00",
          "2021-08-01T00:00:00",
          "2021-09-01T00:00:00",
          "2021-10-01T00:00:00",
          "2021-11-01T00:00:00",
          "2021-12-01T00:00:00",
          "2022-01-01T00:00:00",
          "2022-02-01T00:00:00",
          "2022-03-01T00:00:00",
          "2022-04-01T00:00:00",
          "2022-05-01T00:00:00",
          "2022-06-01T00:00:00",
          "2022-07-01T00:00:00",
          "2022-08-01T00:00:00",
          "2022-09-01T00:00:00",
          "2022-10-01T00:00:00",
          "2022-11-01T00:00:00",
          "2022-12-01T00:00:00",
          "2023-01-01T00:00:00",
          "2023-02-01T00:00:00",
          "2023-03-01T00:00:00",
          "2023-04-01T00:00:00",
          "2023-05-01T00:00:00",
          "2023-06-01T00:00:00",
          "2023-07-01T00:00:00",
          "2023-08-01T00:00:00",
          "2023-09-01T00:00:00",
          "2023-10-01T00:00:00",
          "2023-11-01T00:00:00",
          "2023-12-01T00:00:00",
          "2024-01-01T00:00:00",
          "2024-02-01T00:00:00",
          "2024-03-01T00:00:00",
          "2024-04-01T00:00:00",
          "2024-05-01T00:00:00",
          "2024-06-01T00:00:00",
          "2024-07-01T00:00:00",
          "2024-08-01T00:00:00",
          "2024-09-01T00:00:00",
          "2024-10-01T00:00:00",
          "2024-11-01T00:00:00",
          "2024-12-01T00:00:00"
         ],
         "y": [
          1.28675,
          1.229125,
          1.1275,
          0.936375,
          1.0088750000000002,
          1.116,
          1.192125,
          1.20575,
          1.174625,
          1.166375,
          1.0965,
          1.110125,
          1.152375,
          1.185625,
          1.245875,
          1.24025,
          1.264125,
          1.30175,
          1.373625,
          1.4021249999999998,
          1.408,
          1.5073750000000001,
          1.54825,
          1.4629999999999999,
          1.5241250000000002,
          1.60275,
          1.79575,
          1.8026249999999997,
          1.9,
          2.04225,
          1.9198749999999998,
          1.7857500000000002,
          1.7309999999999999,
          1.6771250000000002,
          1.6802500000000002,
          1.596625,
          1.6465,
          1.6324999999999998,
          1.587375,
          1.6342500000000002,
          1.556625,
          1.568625,
          1.5905,
          1.7280000000000002,
          1.80925,
          1.7103750000000002,
          1.660875,
          1.6134999999999997,
          1.626875,
          1.6947500000000002,
          1.7001249999999999,
          1.7706250000000001,
          1.7225000000000001,
          1.68875,
          1.7388750000000002,
          1.6019999999999999,
          1.546375,
          1.5303749999999998,
          1.545,
          1.566125
         ]
        },
        {
         "hovertemplate": "<b>%{x|%b %Y}</b><br>Electricity Cost: PHP %{y:.3f}<extra></extra>",
         "line": {
          "color": "#636EFA",
          "width": 2
         },
         "marker": {
          "size": 8
         },
         "mode": "lines+markers",
         "name": "Electricity Cost/km",
         "type": "scatter",
         "x": [
          "2020-01-01T00:00:00",
          "2020-02-01T00:00:00",
          "2020-03-01T00:00:00",
          "2020-04-01T00:00:00",
          "2020-05-01T00:00:00",
          "2020-06-01T00:00:00",
          "2020-07-01T00:00:00",
          "2020-08-01T00:00:00",
          "2020-09-01T00:00:00",
          "2020-10-01T00:00:00",
          "2020-11-01T00:00:00",
          "2020-12-01T00:00:00",
          "2021-01-01T00:00:00",
          "2021-02-01T00:00:00",
          "2021-03-01T00:00:00",
          "2021-04-01T00:00:00",
          "2021-05-01T00:00:00",
          "2021-06-01T00:00:00",
          "2021-07-01T00:00:00",
          "2021-08-01T00:00:00",
          "2021-09-01T00:00:00",
          "2021-10-01T00:00:00",
          "2021-11-01T00:00:00",
          "2021-12-01T00:00:00",
          "2022-01-01T00:00:00",
          "2022-02-01T00:00:00",
          "2022-03-01T00:00:00",
          "2022-04-01T00:00:00",
          "2022-05-01T00:00:00",
          "2022-06-01T00:00:00",
          "2022-07-01T00:00:00",
          "2022-08-01T00:00:00",
          "2022-09-01T00:00:00",
          "2022-10-01T00:00:00",
          "2022-11-01T00:00:00",
          "2022-12-01T00:00:00",
          "2023-01-01T00:00:00",
          "2023-02-01T00:00:00",
          "2023-03-01T00:00:00",
          "2023-04-01T00:00:00",
          "2023-05-01T00:00:00",
          "2023-06-01T00:00:00",
          "2023-07-01T00:00:00",
          "2023-08-01T00:00:00",
          "2023-09-01T00:00:00",
          "2023-10-01T00:00:00",
          "2023-11-01T00:00:00",
          "2023-12-01T00:00:00",
          "2024-01-01T00:00:00",
          "2024-02-01T00:00:00",
          "2024-03-01T00:00:00",
          "2024-04-01T00:00:00",
          "2024-05-01T00:00:00",
          "2024-06-01T00:00:00",
          "2024-07-01T00:00:00",
          "2024-08-01T00:00:00",
          "2024-09-01T00:00:00",
          "2024-10-01T00:00:00",
          "2024-11-01T00:00:00",
          "2024-12-01T00:00:00"
         ],
         "y": [
          1.3503285714285713,
          1.266042857142857,
          1.2700142857142858,
          1.2850142857142859,
          1.2495428571428573,
          1.2464571428571427,
          1.2423714285714287,
          1.2130142857142856,
          1.204114285714286,
          1.2214285714285715,
          1.2157857142857142,
          1.2107571428571429,
          1.249957142857143,
          1.2399,
          1.1885,
          1.200957142857143,
          1.2274285714285715,
          1.2388285714285714,
          1.2724428571428572,
          1.2862285714285715,
          1.3013,
          1.3053428571428571,
          1.3518571428571426,
          1.3967571428571428,
          1.3861,
          1.3691714285714285,
          1.3780999999999999,
          1.4547142857142856,
          1.4375714285714287,
          1.494457142857143,
          1.3935,
          1.3636857142857142,
          1.4195,
          1.4089714285714285,
          1.4210285714285715,
          1.4681285714285714,
          1.557157142857143,
          1.555642857142857,
          1.633542857142857,
          1.6166857142857143,
          1.6418428571428572,
          1.7015999999999998,
          1.5985571428571428,
          1.557014285714286,
          1.6285285714285713,
          1.6885428571428573,
          1.7220714285714287,
          1.608342857142857,
          1.6204285714285713,
          1.7024000000000001,
          1.7056714285714285,
          1.5645428571428572,
          1.6305571428571428,
          1.3502285714285713,
          1.6573142857142857,
          1.6619857142857144,
          1.6840285714285714,
          1.6327857142857145,
          1.693842857142857,
          1.7088142857142858
         ]
        },
        {
         "marker": {
          "color": "rgba(204, 102, 0, 0.3)",
          "size": 15
         },
         "mode": "markers",
         "name": "Dry Season (Dec-May)",
         "type": "scatter",
         "x": [
          null
         ],
         "y": [
          null
         ]
        },
        {
         "marker": {
          "color": "rgba(102, 153, 102, 0.3)",
          "size": 15
         },
         "mode": "markers",
         "name": "Wet Season (Jun-Nov)",
         "type": "scatter",
         "x": [
          null
         ],
         "y": [
          null
         ]
        }
       ],
       "layout": {
        "annotations": [
         {
          "font": {
           "size": 10
          },
          "showarrow": false,
          "text": "Luzon ECQ Start",
          "textangle": -90,
          "x": "2020-03-01T00:00:00",
          "xanchor": "right",
          "xref": "x",
          "yanchor": "bottom"
         },
         {
          "font": {
           "size": 10
          },
          "showarrow": false,
          "text": "ECQ to MECQ",
          "textangle": -90,
          "x": "2021-10-01T00:00:00",
          "xanchor": "right",
          "xref": "x",
          "yanchor": "bottom"
         },
         {
          "font": {
           "size": 10
          },
          "showarrow": false,
          "text": "Rus invades Ukr",
          "textangle": -90,
          "x": "2022-02-01T00:00:00",
          "xanchor": "right",
          "xref": "x",
          "yanchor": "bottom"
         },
         {
          "align": "left",
          "font": {
           "color": "#666666",
           "size": 11
          },
          "showarrow": false,
          "text": "<i><br>Gas cost calculated with 40 km/L<br>Electricity cost calculated with 7 km/kWh and 200 kWh consumption</i>",
          "x": 0.02,
          "xref": "paper",
          "y": -0.15,
          "yref": "paper"
         }
        ],
        "hovermode": "x unified",
        "legend": {
         "orientation": "h",
         "x": 1,
         "xanchor": "right",
         "y": 1.02,
         "yanchor": "bottom"
        },
        "paper_bgcolor": "white",
        "plot_bgcolor": "#FAFAFA",
        "shapes": [
         {
          "line": {
           "color": "black",
           "dash": "dash",
           "width": 2
          },
          "type": "line",
          "x0": "2020-03-01T00:00:00",
          "x1": "2020-03-01T00:00:00"
         },
         {
          "line": {
           "color": "black",
           "dash": "dash",
           "width": 2
          },
          "type": "line",
          "x0": "2021-10-01T00:00:00",
          "x1": "2021-10-01T00:00:00"
         },
         {
          "line": {
           "color": "black",
           "dash": "dash",
           "width": 2
          },
          "type": "line",
          "x0": "2022-02-01T00:00:00",
          "x1": "2022-02-01T00:00:00"
         },
         {
          "fillcolor": "rgba(204, 102, 0, 0.3)",
          "layer": "below",
          "line": {
           "width": 0
          },
          "type": "rect",
          "x0": "2020-01-01T00:00:00",
          "x1": "2020-06-01T00:00:00",
          "xref": "x",
          "y0": 0,
          "y1": 1,
          "yref": "y domain"
         },
         {
          "fillcolor": "rgba(102, 153, 102, 0.3)",
          "layer": "below",
          "line": {
           "width": 0
          },
          "type": "rect",
          "x0": "2020-01-01T00:00:00",
          "x1": "2019-12-01T00:00:00",
          "xref": "x",
          "y0": 0,
          "y1": 1,
          "yref": "y domain"
         },
         {
          "fillcolor": "rgba(204, 102, 0, 0.3)",
          "layer": "below",
          "line": {
           "width": 0
          },
          "type": "rect",
          "x0": "2020-12-01T00:00:00",
          "x1": "2021-06-01T00:00:00",
          "xref": "x",
          "y0": 0,
          "y1": 1,
          "yref": "y domain"
         },
         {
          "fillcolor": "rgba(102, 153, 102, 0.3)",
          "layer": "below",
          "line": {
           "width": 0
          },
          "type": "rect",
          "x0": "2020-06-01T00:00:00",
          "x1": "2020-12-01T00:00:00",
          "xref": "x",
          "y0": 0,
          "y1": 1,
          "yref": "y domain"
         },
         {
          "fillcolor": "rgba(204, 102, 0, 0.3)",
          "layer": "below",
          "line": {
           "width": 0
          },
          "type": "rect",
          "x0": "2021-12-01T00:00:00",
          "x1": "2022-06-01T00:00:00",
          "xref": "x",
          "y0": 0,
          "y1": 1,
          "yref": "y domain"
         },
         {
          "fillcolor": "rgba(102, 153, 102, 0.3)",
          "layer": "below",
          "line": {
           "width": 0
          },
          "type": "rect",
          "x0": "2021-06-01T00:00:00",
          "x1": "2021-12-01T00:00:00",
          "xref": "x",
          "y0": 0,
          "y1": 1,
          "yref": "y domain"
         },
         {
          "fillcolor": "rgba(204, 102, 0, 0.3)",
          "layer": "below",
          "line": {
           "width": 0
          },
          "type": "rect",
          "x0": "2022-12-01T00:00:00",
          "x1": "2023-06-01T00:00:00",
          "xref": "x",
          "y0": 0,
          "y1": 1,
          "yref": "y domain"
         },
         {
          "fillcolor": "rgba(102, 153, 102, 0.3)",
          "layer": "below",
          "line": {
           "width": 0
          },
          "type": "rect",
          "x0": "2022-06-01T00:00:00",
          "x1": "2022-12-01T00:00:00",
          "xref": "x",
          "y0": 0,
          "y1": 1,
          "yref": "y domain"
         },
         {
          "fillcolor": "rgba(204, 102, 0, 0.3)",
          "layer": "below",
          "line": {
           "width": 0
          },
          "type": "rect",
          "x0": "2023-12-01T00:00:00",
          "x1": "2024-06-01T00:00:00",
          "xref": "x",
          "y0": 0,
          "y1": 1,
          "yref": "y domain"
         },
         {
          "fillcolor": "rgba(102, 153, 102, 0.3)",
          "layer": "below",
          "line": {
           "width": 0
          },
          "type": "rect",
          "x0": "2023-06-01T00:00:00",
          "x1": "2023-12-01T00:00:00",
          "xref": "x",
          "y0": 0,
          "y1": 1,
          "yref": "y domain"
         },
         {
          "fillcolor": "rgba(204, 102, 0, 0.3)",
          "layer": "below",
          "line": {
           "width": 0
          },
          "type": "rect",
          "x0": "2024-12-01T00:00:00",
          "x1": "2024-12-01T00:00:00",
          "xref": "x",
          "y0": 0,
          "y1": 1,
          "yref": "y domain"
         },
         {
          "fillcolor": "rgba(102, 153, 102, 0.3)",
          "layer": "below",
          "line": {
           "width": 0
          },
          "type": "rect",
          "x0": "2024-06-01T00:00:00",
          "x1": "2024-12-01T00:00:00",
          "xref": "x",
          "y0": 0,
          "y1": 1,
          "yref": "y domain"
         }
        ],
        "template": {
         "data": {
          "bar": [
           {
            "error_x": {
             "color": "#2a3f5f"
            },
            "error_y": {
             "color": "#2a3f5f"
            },
            "marker": {
             "line": {
              "color": "#E5ECF6",
              "width": 0.5
             },
             "pattern": {
              "fillmode": "overlay",
              "size": 10,
              "solidity": 0.2
             }
            },
            "type": "bar"
           }
          ],
          "barpolar": [
           {
            "marker": {
             "line": {
              "color": "#E5ECF6",
              "width": 0.5
             },
             "pattern": {
              "fillmode": "overlay",
              "size": 10,
              "solidity": 0.2
             }
            },
            "type": "barpolar"
           }
          ],
          "carpet": [
           {
            "aaxis": {
             "endlinecolor": "#2a3f5f",
             "gridcolor": "white",
             "linecolor": "white",
             "minorgridcolor": "white",
             "startlinecolor": "#2a3f5f"
            },
            "baxis": {
             "endlinecolor": "#2a3f5f",
             "gridcolor": "white",
             "linecolor": "white",
             "minorgridcolor": "white",
             "startlinecolor": "#2a3f5f"
            },
            "type": "carpet"
           }
          ],
          "choropleth": [
           {
            "colorbar": {
             "outlinewidth": 0,
             "ticks": ""
            },
            "type": "choropleth"
           }
          ],
          "contour": [
           {
            "colorbar": {
             "outlinewidth": 0,
             "ticks": ""
            },
            "colorscale": [
             [
              0,
              "#0d0887"
             ],
             [
              0.1111111111111111,
              "#46039f"
             ],
             [
              0.2222222222222222,
              "#7201a8"
             ],
             [
              0.3333333333333333,
              "#9c179e"
             ],
             [
              0.4444444444444444,
              "#bd3786"
             ],
             [
              0.5555555555555556,
              "#d8576b"
             ],
             [
              0.6666666666666666,
              "#ed7953"
             ],
             [
              0.7777777777777778,
              "#fb9f3a"
             ],
             [
              0.8888888888888888,
              "#fdca26"
             ],
             [
              1,
              "#f0f921"
             ]
            ],
            "type": "contour"
           }
          ],
          "contourcarpet": [
           {
            "colorbar": {
             "outlinewidth": 0,
             "ticks": ""
            },
            "type": "contourcarpet"
           }
          ],
          "heatmap": [
           {
            "colorbar": {
             "outlinewidth": 0,
             "ticks": ""
            },
            "colorscale": [
             [
              0,
              "#0d0887"
             ],
             [
              0.1111111111111111,
              "#46039f"
             ],
             [
              0.2222222222222222,
              "#7201a8"
             ],
             [
              0.3333333333333333,
              "#9c179e"
             ],
             [
              0.4444444444444444,
              "#bd3786"
             ],
             [
              0.5555555555555556,
              "#d8576b"
             ],
             [
              0.6666666666666666,
              "#ed7953"
             ],
             [
              0.7777777777777778,
              "#fb9f3a"
             ],
             [
              0.8888888888888888,
              "#fdca26"
             ],
             [
              1,
              "#f0f921"
             ]
            ],
            "type": "heatmap"
           }
          ],
          "heatmapgl": [
           {
            "colorbar": {
             "outlinewidth": 0,
             "ticks": ""
            },
            "colorscale": [
             [
              0,
              "#0d0887"
             ],
             [
              0.1111111111111111,
              "#46039f"
             ],
             [
              0.2222222222222222,
              "#7201a8"
             ],
             [
              0.3333333333333333,
              "#9c179e"
             ],
             [
              0.4444444444444444,
              "#bd3786"
             ],
             [
              0.5555555555555556,
              "#d8576b"
             ],
             [
              0.6666666666666666,
              "#ed7953"
             ],
             [
              0.7777777777777778,
              "#fb9f3a"
             ],
             [
              0.8888888888888888,
              "#fdca26"
             ],
             [
              1,
              "#f0f921"
             ]
            ],
            "type": "heatmapgl"
           }
          ],
          "histogram": [
           {
            "marker": {
             "pattern": {
              "fillmode": "overlay",
              "size": 10,
              "solidity": 0.2
             }
            },
            "type": "histogram"
           }
          ],
          "histogram2d": [
           {
            "colorbar": {
             "outlinewidth": 0,
             "ticks": ""
            },
            "colorscale": [
             [
              0,
              "#0d0887"
             ],
             [
              0.1111111111111111,
              "#46039f"
             ],
             [
              0.2222222222222222,
              "#7201a8"
             ],
             [
              0.3333333333333333,
              "#9c179e"
             ],
             [
              0.4444444444444444,
              "#bd3786"
             ],
             [
              0.5555555555555556,
              "#d8576b"
             ],
             [
              0.6666666666666666,
              "#ed7953"
             ],
             [
              0.7777777777777778,
              "#fb9f3a"
             ],
             [
              0.8888888888888888,
              "#fdca26"
             ],
             [
              1,
              "#f0f921"
             ]
            ],
            "type": "histogram2d"
           }
          ],
          "histogram2dcontour": [
           {
            "colorbar": {
             "outlinewidth": 0,
             "ticks": ""
            },
            "colorscale": [
             [
              0,
              "#0d0887"
             ],
             [
              0.1111111111111111,
              "#46039f"
             ],
             [
              0.2222222222222222,
              "#7201a8"
             ],
             [
              0.3333333333333333,
              "#9c179e"
             ],
             [
              0.4444444444444444,
              "#bd3786"
             ],
             [
              0.5555555555555556,
              "#d8576b"
             ],
             [
              0.6666666666666666,
              "#ed7953"
             ],
             [
              0.7777777777777778,
              "#fb9f3a"
             ],
             [
              0.8888888888888888,
              "#fdca26"
             ],
             [
              1,
              "#f0f921"
             ]
            ],
            "type": "histogram2dcontour"
           }
          ],
          "mesh3d": [
           {
            "colorbar": {
             "outlinewidth": 0,
             "ticks": ""
            },
            "type": "mesh3d"
           }
          ],
          "parcoords": [
           {
            "line": {
             "colorbar": {
              "outlinewidth": 0,
              "ticks": ""
             }
            },
            "type": "parcoords"
           }
          ],
          "pie": [
           {
            "automargin": true,
            "type": "pie"
           }
          ],
          "scatter": [
           {
            "fillpattern": {
             "fillmode": "overlay",
             "size": 10,
             "solidity": 0.2
            },
            "type": "scatter"
           }
          ],
          "scatter3d": [
           {
            "line": {
             "colorbar": {
              "outlinewidth": 0,
              "ticks": ""
             }
            },
            "marker": {
             "colorbar": {
              "outlinewidth": 0,
              "ticks": ""
             }
            },
            "type": "scatter3d"
           }
          ],
          "scattercarpet": [
           {
            "marker": {
             "colorbar": {
              "outlinewidth": 0,
              "ticks": ""
             }
            },
            "type": "scattercarpet"
           }
          ],
          "scattergeo": [
           {
            "marker": {
             "colorbar": {
              "outlinewidth": 0,
              "ticks": ""
             }
            },
            "type": "scattergeo"
           }
          ],
          "scattergl": [
           {
            "marker": {
             "colorbar": {
              "outlinewidth": 0,
              "ticks": ""
             }
            },
            "type": "scattergl"
           }
          ],
          "scattermapbox": [
           {
            "marker": {
             "colorbar": {
              "outlinewidth": 0,
              "ticks": ""
             }
            },
            "type": "scattermapbox"
           }
          ],
          "scatterpolar": [
           {
            "marker": {
             "colorbar": {
              "outlinewidth": 0,
              "ticks": ""
             }
            },
            "type": "scatterpolar"
           }
          ],
          "scatterpolargl": [
           {
            "marker": {
             "colorbar": {
              "outlinewidth": 0,
              "ticks": ""
             }
            },
            "type": "scatterpolargl"
           }
          ],
          "scatterternary": [
           {
            "marker": {
             "colorbar": {
              "outlinewidth": 0,
              "ticks": ""
             }
            },
            "type": "scatterternary"
           }
          ],
          "surface": [
           {
            "colorbar": {
             "outlinewidth": 0,
             "ticks": ""
            },
            "colorscale": [
             [
              0,
              "#0d0887"
             ],
             [
              0.1111111111111111,
              "#46039f"
             ],
             [
              0.2222222222222222,
              "#7201a8"
             ],
             [
              0.3333333333333333,
              "#9c179e"
             ],
             [
              0.4444444444444444,
              "#bd3786"
             ],
             [
              0.5555555555555556,
              "#d8576b"
             ],
             [
              0.6666666666666666,
              "#ed7953"
             ],
             [
              0.7777777777777778,
              "#fb9f3a"
             ],
             [
              0.8888888888888888,
              "#fdca26"
             ],
             [
              1,
              "#f0f921"
             ]
            ],
            "type": "surface"
           }
          ],
          "table": [
           {
            "cells": {
             "fill": {
              "color": "#EBF0F8"
             },
             "line": {
              "color": "white"
             }
            },
            "header": {
             "fill": {
              "color": "#C8D4E3"
             },
             "line": {
              "color": "white"
             }
            },
            "type": "table"
           }
          ]
         },
         "layout": {
          "annotationdefaults": {
           "arrowcolor": "#2a3f5f",
           "arrowhead": 0,
           "arrowwidth": 1
          },
          "autotypenumbers": "strict",
          "coloraxis": {
           "colorbar": {
            "outlinewidth": 0,
            "ticks": ""
           }
          },
          "colorscale": {
           "diverging": [
            [
             0,
             "#8e0152"
            ],
            [
             0.1,
             "#c51b7d"
            ],
            [
             0.2,
             "#de77ae"
            ],
            [
             0.3,
             "#f1b6da"
            ],
            [
             0.4,
             "#fde0ef"
            ],
            [
             0.5,
             "#f7f7f7"
            ],
            [
             0.6,
             "#e6f5d0"
            ],
            [
             0.7,
             "#b8e186"
            ],
            [
             0.8,
             "#7fbc41"
            ],
            [
             0.9,
             "#4d9221"
            ],
            [
             1,
             "#276419"
            ]
           ],
           "sequential": [
            [
             0,
             "#0d0887"
            ],
            [
             0.1111111111111111,
             "#46039f"
            ],
            [
             0.2222222222222222,
             "#7201a8"
            ],
            [
             0.3333333333333333,
             "#9c179e"
            ],
            [
             0.4444444444444444,
             "#bd3786"
            ],
            [
             0.5555555555555556,
             "#d8576b"
            ],
            [
             0.6666666666666666,
             "#ed7953"
            ],
            [
             0.7777777777777778,
             "#fb9f3a"
            ],
            [
             0.8888888888888888,
             "#fdca26"
            ],
            [
             1,
             "#f0f921"
            ]
           ],
           "sequentialminus": [
            [
             0,
             "#0d0887"
            ],
            [
             0.1111111111111111,
             "#46039f"
            ],
            [
             0.2222222222222222,
             "#7201a8"
            ],
            [
             0.3333333333333333,
             "#9c179e"
            ],
            [
             0.4444444444444444,
             "#bd3786"
            ],
            [
             0.5555555555555556,
             "#d8576b"
            ],
            [
             0.6666666666666666,
             "#ed7953"
            ],
            [
             0.7777777777777778,
             "#fb9f3a"
            ],
            [
             0.8888888888888888,
             "#fdca26"
            ],
            [
             1,
             "#f0f921"
            ]
           ]
          },
          "colorway": [
           "#636efa",
           "#EF553B",
           "#00cc96",
           "#ab63fa",
           "#FFA15A",
           "#19d3f3",
           "#FF6692",
           "#B6E880",
           "#FF97FF",
           "#FECB52"
          ],
          "font": {
           "color": "#2a3f5f"
          },
          "geo": {
           "bgcolor": "white",
           "lakecolor": "white",
           "landcolor": "#E5ECF6",
           "showlakes": true,
           "showland": true,
           "subunitcolor": "white"
          },
          "hoverlabel": {
           "align": "left"
          },
          "hovermode": "closest",
          "mapbox": {
           "style": "light"
          },
          "paper_bgcolor": "white",
          "plot_bgcolor": "#E5ECF6",
          "polar": {
           "angularaxis": {
            "gridcolor": "white",
            "linecolor": "white",
            "ticks": ""
           },
           "bgcolor": "#E5ECF6",
           "radialaxis": {
            "gridcolor": "white",
            "linecolor": "white",
            "ticks": ""
           }
          },
          "scene": {
           "xaxis": {
            "backgroundcolor": "#E5ECF6",
            "gridcolor": "white",
            "gridwidth": 2,
            "linecolor": "white",
            "showbackground": true,
            "ticks": "",
            "zerolinecolor": "white"
           },
           "yaxis": {
            "backgroundcolor": "#E5ECF6",
            "gridcolor": "white",
            "gridwidth": 2,
            "linecolor": "white",
            "showbackground": true,
            "ticks": "",
            "zerolinecolor": "white"
           },
           "zaxis": {
            "backgroundcolor": "#E5ECF6",
            "gridcolor": "white",
            "gridwidth": 2,
            "linecolor": "white",
            "showbackground": true,
            "ticks": "",
            "zerolinecolor": "white"
           }
          },
          "shapedefaults": {
           "line": {
            "color": "#2a3f5f"
           }
          },
          "ternary": {
           "aaxis": {
            "gridcolor": "white",
            "linecolor": "white",
            "ticks": ""
           },
           "baxis": {
            "gridcolor": "white",
            "linecolor": "white",
            "ticks": ""
           },
           "bgcolor": "#E5ECF6",
           "caxis": {
            "gridcolor": "white",
            "linecolor": "white",
            "ticks": ""
           }
          },
          "title": {
           "x": 0.05
          },
          "xaxis": {
           "automargin": true,
           "gridcolor": "white",
           "linecolor": "white",
           "ticks": "",
           "title": {
            "standoff": 15
           },
           "zerolinecolor": "white",
           "zerolinewidth": 2
          },
          "yaxis": {
           "automargin": true,
           "gridcolor": "white",
           "linecolor": "white",
           "ticks": "",
           "title": {
            "standoff": 15
           },
           "zerolinecolor": "white",
           "zerolinewidth": 2
          }
         }
        },
        "title": {
         "font": {
          "color": "#333333",
          "size": 18
         },
         "text": "<b>Gas vs. Electricity Cost per Kilometer (2020-2025)</b>",
         "x": 0.5,
         "xanchor": "center",
         "y": 0.95
        },
        "xaxis": {
         "dtick": "M12",
         "range": [
          "2020-01-01T00:00:00",
          "2024-12-01T00:00:00"
         ],
         "showgrid": false,
         "tickformat": "%Y",
         "title": {
          "text": "Date"
         }
        },
        "yaxis": {
         "gridcolor": "rgba(0,0,0,0.1)",
         "showgrid": true,
         "title": {
          "text": "Cost per km (PHP)"
         }
        }
       }
      }
     },
     "metadata": {},
     "output_type": "display_data"
    }
   ],
   "source": [
    "plot_comparison_dataframe(40, 7, 200)"
   ]
  },
  {
   "cell_type": "markdown",
   "id": "9044e311",
   "metadata": {},
   "source": [
    "Statistical Test"
   ]
  },
  {
   "cell_type": "code",
   "execution_count": 323,
   "id": "28217897",
   "metadata": {},
   "outputs": [
    {
     "name": "stdout",
     "output_type": "stream",
     "text": [
      "Time: season\n",
      "KruskalResult(statistic=0.42316939890710614, pvalue=0.5153597975802837) for Gas, Avg Price\n",
      "KruskalResult(statistic=1.8164659289947023, pvalue=0.17773452341258905) for Weekly Gas, Avg Price\n",
      "KruskalResult(statistic=0.005464480874309174, pvalue=0.9410723491398686) for Elec, Total Bill w/ 300 kWh consumption\n",
      "KruskalResult(statistic=0.7868852459016296, pvalue=0.3750436235586161) for Gas vs Elec cost/km, Difference w/ 40 km_l, 7 km_kWh, 300 kWh consumption\n",
      "\n",
      "Time: month\n",
      "KruskalResult(statistic=1.7291803278688747, pvalue=0.9992440874031117) for Gas, Avg Price\n",
      "KruskalResult(statistic=7.163614917238373, pvalue=0.785683027887575) for Weekly Gas, Avg Price\n",
      "KruskalResult(statistic=1.1337704918032614, pvalue=0.9999049539174218) for Elec, Total Bill w/ 300 kWh consumption\n",
      "KruskalResult(statistic=2.9409836065574098, pvalue=0.9914830281430439) for Gas vs Elec cost/km, Difference w/ 40 km_l, 7 km_kWh, 300 kWh consumption\n",
      "\n",
      "Time: year\n",
      "KruskalResult(statistic=45.49617486338795, pvalue=3.135160607698879e-09) for Gas, Avg Price\n",
      "KruskalResult(statistic=199.6634511806535, pvalue=4.438432881571985e-42) for Weekly Gas, Avg Price\n",
      "KruskalResult(statistic=48.66885245901639, pvalue=6.845482130987131e-10) for Elec, Total Bill w/ 300 kWh consumption\n",
      "KruskalResult(statistic=35.06502732240435, pvalue=4.504643143318703e-07) for Gas vs Elec cost/km, Difference w/ 40 km_l, 7 km_kWh, 300 kWh consumption\n",
      "\n"
     ]
    }
   ],
   "source": [
    "def add_season_column(df):\n",
    "    def assign_season(date):\n",
    "        month = date.month\n",
    "        if month == 12 or (1 <= month <= 5):  # November to May\n",
    "            return \"Dry\"\n",
    "        else:\n",
    "            return \"Wet\"\n",
    "    \n",
    "    for date in df['Date']:\n",
    "        df['Season'] = df['Date'].apply(assign_season)\n",
    "        return df\n",
    "\n",
    "def seasonality_test(_df: pd.DataFrame, column_to_check: str, time: str):\n",
    "    res = []\n",
    "\n",
    "    df = add_season_column(_df.copy())\n",
    "    df = df[df['Date'].dt.year != 2025]\n",
    "    \n",
    "    if time == 'month':\n",
    "        for i in df['Date'].dt.month.unique():\n",
    "            time = df['Date'].dt.month\n",
    "            res.append(df[time == i][column_to_check].values)\n",
    "    elif time == 'year':\n",
    "        for i in df['Date'].dt.year.unique():\n",
    "            time = df['Date'].dt.year\n",
    "            res.append(df[time == i][column_to_check].values)\n",
    "    else:\n",
    "        for i in df['Season'].unique():\n",
    "            season = df['Season']\n",
    "            res.append(df[season == i][column_to_check].values)\n",
    "\n",
    "    \n",
    "    return stats.kruskal(*res)\n",
    "\n",
    "def print_all_kruskal(time: str):\n",
    "    print(f\"Time: {time}\")\n",
    "    r1 = seasonality_test(ron95_data, 'Average Price', time)\n",
    "    print(f\"{r1} for Gas, Avg Price\")\n",
    "\n",
    "    raw_df = pd.read_csv('WeeklyPumpPrices.csv', parse_dates=['Date'])\n",
    "    test_data = raw_df[raw_df['Product'] == \"Gasoline (RON95)\"].sort_values('Date')\n",
    "    test_data = test_data[(test_data['Date'] >= '2020-01-01') & \n",
    "                        (test_data['Date'] <= '2025-01-01')]\n",
    "    test_data['Average Price'] = (test_data['Overall Range Min'] + test_data['Overall Range Max']) / 2\n",
    "    rx = seasonality_test(test_data, 'Average Price', time)\n",
    "    print(f\"{rx} for Weekly Gas, Avg Price\")\n",
    "\n",
    "    r2 = seasonality_test(get_specific_kwh_df(300), 'Total Bill', time)\n",
    "    print(f\"{r2} for Elec, Total Bill w/ {300} kWh consumption\")\n",
    "\n",
    "    r3 = seasonality_test(make_comparison_dataframe(40, 7, 300), 'Difference', time)\n",
    "    print(f\"{r3} for Gas vs Elec cost/km, Difference w/ {40} km_l, {7} km_kWh, {300} kWh consumption\")\n",
    "    print()\n",
    "\n",
    "print_all_kruskal('season')\n",
    "print_all_kruskal('month')\n",
    "print_all_kruskal('year')"
   ]
  },
  {
   "cell_type": "markdown",
   "id": "72ac0354",
   "metadata": {},
   "source": [
    "Nutshell plot"
   ]
  },
  {
   "cell_type": "code",
   "execution_count": 324,
   "id": "a5ca321c",
   "metadata": {},
   "outputs": [
    {
     "data": {
      "application/vnd.plotly.v1+json": {
       "config": {
        "plotlyServerURL": "https://plot.ly"
       },
       "data": [
        {
         "hovertemplate": "<b>%{x|%b %Y}</b><br>HEV Gas Cost: PHP %{y:.3f}<extra></extra>",
         "line": {
          "color": "#dc267f",
          "width": 2
         },
         "marker": {
          "size": 8
         },
         "mode": "lines+markers",
         "name": "HEV Gas Cost/km",
         "type": "scatter",
         "x": [
          "2020-01-01T00:00:00",
          "2020-02-01T00:00:00",
          "2020-03-01T00:00:00",
          "2020-04-01T00:00:00",
          "2020-05-01T00:00:00",
          "2020-06-01T00:00:00",
          "2020-07-01T00:00:00",
          "2020-08-01T00:00:00",
          "2020-09-01T00:00:00",
          "2020-10-01T00:00:00",
          "2020-11-01T00:00:00",
          "2020-12-01T00:00:00",
          "2021-01-01T00:00:00",
          "2021-02-01T00:00:00",
          "2021-03-01T00:00:00",
          "2021-04-01T00:00:00",
          "2021-05-01T00:00:00",
          "2021-06-01T00:00:00",
          "2021-07-01T00:00:00",
          "2021-08-01T00:00:00",
          "2021-09-01T00:00:00",
          "2021-10-01T00:00:00",
          "2021-11-01T00:00:00",
          "2021-12-01T00:00:00",
          "2022-01-01T00:00:00",
          "2022-02-01T00:00:00",
          "2022-03-01T00:00:00",
          "2022-04-01T00:00:00",
          "2022-05-01T00:00:00",
          "2022-06-01T00:00:00",
          "2022-07-01T00:00:00",
          "2022-08-01T00:00:00",
          "2022-09-01T00:00:00",
          "2022-10-01T00:00:00",
          "2022-11-01T00:00:00",
          "2022-12-01T00:00:00",
          "2023-01-01T00:00:00",
          "2023-02-01T00:00:00",
          "2023-03-01T00:00:00",
          "2023-04-01T00:00:00",
          "2023-05-01T00:00:00",
          "2023-06-01T00:00:00",
          "2023-07-01T00:00:00",
          "2023-08-01T00:00:00",
          "2023-09-01T00:00:00",
          "2023-10-01T00:00:00",
          "2023-11-01T00:00:00",
          "2023-12-01T00:00:00",
          "2024-01-01T00:00:00",
          "2024-02-01T00:00:00",
          "2024-03-01T00:00:00",
          "2024-04-01T00:00:00",
          "2024-05-01T00:00:00",
          "2024-06-01T00:00:00",
          "2024-07-01T00:00:00",
          "2024-08-01T00:00:00",
          "2024-09-01T00:00:00",
          "2024-10-01T00:00:00",
          "2024-11-01T00:00:00",
          "2024-12-01T00:00:00"
         ],
         "y": [
          1.28675,
          1.229125,
          1.1275,
          0.936375,
          1.0088750000000002,
          1.116,
          1.192125,
          1.20575,
          1.174625,
          1.166375,
          1.0965,
          1.110125,
          1.152375,
          1.185625,
          1.245875,
          1.24025,
          1.264125,
          1.30175,
          1.373625,
          1.4021249999999998,
          1.408,
          1.5073750000000001,
          1.54825,
          1.4629999999999999,
          1.5241250000000002,
          1.60275,
          1.79575,
          1.8026249999999997,
          1.9,
          2.04225,
          1.9198749999999998,
          1.7857500000000002,
          1.7309999999999999,
          1.6771250000000002,
          1.6802500000000002,
          1.596625,
          1.6465,
          1.6324999999999998,
          1.587375,
          1.6342500000000002,
          1.556625,
          1.568625,
          1.5905,
          1.7280000000000002,
          1.80925,
          1.7103750000000002,
          1.660875,
          1.6134999999999997,
          1.626875,
          1.6947500000000002,
          1.7001249999999999,
          1.7706250000000001,
          1.7225000000000001,
          1.68875,
          1.7388750000000002,
          1.6019999999999999,
          1.546375,
          1.5303749999999998,
          1.545,
          1.566125
         ]
        },
        {
         "hovertemplate": "<b>%{x|%b %Y}</b><br>EV Electricity Cost: PHP %{y:.3f}<extra></extra>",
         "line": {
          "color": "#648fff",
          "width": 2
         },
         "marker": {
          "size": 8
         },
         "mode": "lines+markers",
         "name": "EV Electricity Cost/km",
         "type": "scatter",
         "x": [
          "2020-01-01T00:00:00",
          "2020-02-01T00:00:00",
          "2020-03-01T00:00:00",
          "2020-04-01T00:00:00",
          "2020-05-01T00:00:00",
          "2020-06-01T00:00:00",
          "2020-07-01T00:00:00",
          "2020-08-01T00:00:00",
          "2020-09-01T00:00:00",
          "2020-10-01T00:00:00",
          "2020-11-01T00:00:00",
          "2020-12-01T00:00:00",
          "2021-01-01T00:00:00",
          "2021-02-01T00:00:00",
          "2021-03-01T00:00:00",
          "2021-04-01T00:00:00",
          "2021-05-01T00:00:00",
          "2021-06-01T00:00:00",
          "2021-07-01T00:00:00",
          "2021-08-01T00:00:00",
          "2021-09-01T00:00:00",
          "2021-10-01T00:00:00",
          "2021-11-01T00:00:00",
          "2021-12-01T00:00:00",
          "2022-01-01T00:00:00",
          "2022-02-01T00:00:00",
          "2022-03-01T00:00:00",
          "2022-04-01T00:00:00",
          "2022-05-01T00:00:00",
          "2022-06-01T00:00:00",
          "2022-07-01T00:00:00",
          "2022-08-01T00:00:00",
          "2022-09-01T00:00:00",
          "2022-10-01T00:00:00",
          "2022-11-01T00:00:00",
          "2022-12-01T00:00:00",
          "2023-01-01T00:00:00",
          "2023-02-01T00:00:00",
          "2023-03-01T00:00:00",
          "2023-04-01T00:00:00",
          "2023-05-01T00:00:00",
          "2023-06-01T00:00:00",
          "2023-07-01T00:00:00",
          "2023-08-01T00:00:00",
          "2023-09-01T00:00:00",
          "2023-10-01T00:00:00",
          "2023-11-01T00:00:00",
          "2023-12-01T00:00:00",
          "2024-01-01T00:00:00",
          "2024-02-01T00:00:00",
          "2024-03-01T00:00:00",
          "2024-04-01T00:00:00",
          "2024-05-01T00:00:00",
          "2024-06-01T00:00:00",
          "2024-07-01T00:00:00",
          "2024-08-01T00:00:00",
          "2024-09-01T00:00:00",
          "2024-10-01T00:00:00",
          "2024-11-01T00:00:00",
          "2024-12-01T00:00:00"
         ],
         "y": [
          1.3503285714285713,
          1.266042857142857,
          1.2700142857142858,
          1.2850142857142859,
          1.2495428571428573,
          1.2464571428571427,
          1.2423714285714287,
          1.2130142857142856,
          1.204114285714286,
          1.2214285714285715,
          1.2157857142857142,
          1.2107571428571429,
          1.249957142857143,
          1.2399,
          1.1885,
          1.200957142857143,
          1.2274285714285715,
          1.2388285714285714,
          1.2724428571428572,
          1.2862285714285715,
          1.3013,
          1.3053428571428571,
          1.3518571428571426,
          1.3967571428571428,
          1.3861,
          1.3691714285714285,
          1.3780999999999999,
          1.4547142857142856,
          1.4375714285714287,
          1.494457142857143,
          1.3935,
          1.3636857142857142,
          1.4195,
          1.4089714285714285,
          1.4210285714285715,
          1.4681285714285714,
          1.557157142857143,
          1.555642857142857,
          1.633542857142857,
          1.6166857142857143,
          1.6418428571428572,
          1.7015999999999998,
          1.5985571428571428,
          1.557014285714286,
          1.6285285714285713,
          1.6885428571428573,
          1.7220714285714287,
          1.608342857142857,
          1.6204285714285713,
          1.7024000000000001,
          1.7056714285714285,
          1.5645428571428572,
          1.6305571428571428,
          1.3502285714285713,
          1.6573142857142857,
          1.6619857142857144,
          1.6840285714285714,
          1.6327857142857145,
          1.693842857142857,
          1.7088142857142858
         ]
        }
       ],
       "layout": {
        "annotations": [
         {
          "font": {
           "color": "#ffb000",
           "size": 10
          },
          "showarrow": false,
          "text": "Luzon ECQ Start",
          "textangle": -90,
          "x": "2020-03-01T00:00:00",
          "xanchor": "right",
          "xref": "x",
          "y": 1.75,
          "yanchor": "bottom"
         },
         {
          "font": {
           "color": "#ffb000",
           "size": 10
          },
          "showarrow": false,
          "text": "ECQ to MECQ",
          "textangle": -90,
          "x": "2021-10-01T00:00:00",
          "xanchor": "right",
          "xref": "x",
          "y": 1.75,
          "yanchor": "bottom"
         },
         {
          "font": {
           "color": "#ffb000",
           "size": 10
          },
          "showarrow": false,
          "text": "Russia-Ukraine War",
          "textangle": -90,
          "x": "2022-02-01T00:00:00",
          "xanchor": "right",
          "xref": "x",
          "y": 1.75,
          "yanchor": "bottom"
         },
         {
          "font": {
           "color": "#ffb000",
           "size": 10
          },
          "showarrow": false,
          "text": "ERC Order: Energy Costs",
          "textangle": -90,
          "x": "2024-06-01T00:00:00",
          "xanchor": "right",
          "xref": "x",
          "y": 1.75,
          "yanchor": "bottom"
         },
         {
          "align": "left",
          "font": {
           "color": "#FFFFFF",
           "family": "Roboto Condensed",
           "size": 11
          },
          "showarrow": true,
          "text": "\n        Gas cost calculated with 40 km/L<br>\n        Electricity cost calculated with 7 km/kWh and 200 kWh household consumption<br>\n        Sources: DoE NCR Prevailing Pump Prices, Meralco Rates\n        ",
          "x": 0.8,
          "xref": "paper",
          "y": -0.25,
          "yref": "paper"
         }
        ],
        "font": {
         "color": "#FFFFFF",
         "family": "Roboto"
        },
        "hovermode": "x unified",
        "legend": {
         "orientation": "h",
         "x": 1,
         "xanchor": "right",
         "y": 1.02,
         "yanchor": "bottom"
        },
        "paper_bgcolor": "#1B181C",
        "plot_bgcolor": "#1B181C",
        "shapes": [
         {
          "line": {
           "color": "#ffb000",
           "dash": "dash",
           "width": 1
          },
          "type": "line",
          "x0": "2020-03-01T00:00:00",
          "x1": "2020-03-01T00:00:00"
         },
         {
          "line": {
           "color": "#ffb000",
           "dash": "dash",
           "width": 1
          },
          "type": "line",
          "x0": "2021-10-01T00:00:00",
          "x1": "2021-10-01T00:00:00"
         },
         {
          "line": {
           "color": "#ffb000",
           "dash": "dash",
           "width": 1
          },
          "type": "line",
          "x0": "2022-02-01T00:00:00",
          "x1": "2022-02-01T00:00:00"
         },
         {
          "line": {
           "color": "#ffb000",
           "dash": "dash",
           "width": 1
          },
          "type": "line",
          "x0": "2024-06-01T00:00:00",
          "x1": "2024-06-01T00:00:00"
         },
         {
          "line": {
           "color": "lightgray",
           "width": 1
          },
          "type": "line",
          "x0": "2020-01-01T00:00:00",
          "x1": "2020-01-01T00:00:00",
          "xref": "x",
          "y0": 0.2,
          "y1": 1.3503285714285713,
          "yref": "y"
         },
         {
          "line": {
           "color": "lightgray",
           "width": 1
          },
          "type": "line",
          "x0": "2021-01-01T00:00:00",
          "x1": "2021-01-01T00:00:00",
          "xref": "x",
          "y0": 0.2,
          "y1": 1.249957142857143,
          "yref": "y"
         },
         {
          "line": {
           "color": "lightgray",
           "width": 1
          },
          "type": "line",
          "x0": "2022-01-01T00:00:00",
          "x1": "2022-01-01T00:00:00",
          "xref": "x",
          "y0": 0.2,
          "y1": 1.5241250000000002,
          "yref": "y"
         },
         {
          "line": {
           "color": "lightgray",
           "width": 1
          },
          "type": "line",
          "x0": "2023-01-01T00:00:00",
          "x1": "2023-01-01T00:00:00",
          "xref": "x",
          "y0": 0.2,
          "y1": 1.6465,
          "yref": "y"
         },
         {
          "line": {
           "color": "lightgray",
           "width": 1
          },
          "type": "line",
          "x0": "2024-01-01T00:00:00",
          "x1": "2024-01-01T00:00:00",
          "xref": "x",
          "y0": 0.2,
          "y1": 1.626875,
          "yref": "y"
         }
        ],
        "template": {
         "data": {
          "bar": [
           {
            "error_x": {
             "color": "#2a3f5f"
            },
            "error_y": {
             "color": "#2a3f5f"
            },
            "marker": {
             "line": {
              "color": "#E5ECF6",
              "width": 0.5
             },
             "pattern": {
              "fillmode": "overlay",
              "size": 10,
              "solidity": 0.2
             }
            },
            "type": "bar"
           }
          ],
          "barpolar": [
           {
            "marker": {
             "line": {
              "color": "#E5ECF6",
              "width": 0.5
             },
             "pattern": {
              "fillmode": "overlay",
              "size": 10,
              "solidity": 0.2
             }
            },
            "type": "barpolar"
           }
          ],
          "carpet": [
           {
            "aaxis": {
             "endlinecolor": "#2a3f5f",
             "gridcolor": "white",
             "linecolor": "white",
             "minorgridcolor": "white",
             "startlinecolor": "#2a3f5f"
            },
            "baxis": {
             "endlinecolor": "#2a3f5f",
             "gridcolor": "white",
             "linecolor": "white",
             "minorgridcolor": "white",
             "startlinecolor": "#2a3f5f"
            },
            "type": "carpet"
           }
          ],
          "choropleth": [
           {
            "colorbar": {
             "outlinewidth": 0,
             "ticks": ""
            },
            "type": "choropleth"
           }
          ],
          "contour": [
           {
            "colorbar": {
             "outlinewidth": 0,
             "ticks": ""
            },
            "colorscale": [
             [
              0,
              "#0d0887"
             ],
             [
              0.1111111111111111,
              "#46039f"
             ],
             [
              0.2222222222222222,
              "#7201a8"
             ],
             [
              0.3333333333333333,
              "#9c179e"
             ],
             [
              0.4444444444444444,
              "#bd3786"
             ],
             [
              0.5555555555555556,
              "#d8576b"
             ],
             [
              0.6666666666666666,
              "#ed7953"
             ],
             [
              0.7777777777777778,
              "#fb9f3a"
             ],
             [
              0.8888888888888888,
              "#fdca26"
             ],
             [
              1,
              "#f0f921"
             ]
            ],
            "type": "contour"
           }
          ],
          "contourcarpet": [
           {
            "colorbar": {
             "outlinewidth": 0,
             "ticks": ""
            },
            "type": "contourcarpet"
           }
          ],
          "heatmap": [
           {
            "colorbar": {
             "outlinewidth": 0,
             "ticks": ""
            },
            "colorscale": [
             [
              0,
              "#0d0887"
             ],
             [
              0.1111111111111111,
              "#46039f"
             ],
             [
              0.2222222222222222,
              "#7201a8"
             ],
             [
              0.3333333333333333,
              "#9c179e"
             ],
             [
              0.4444444444444444,
              "#bd3786"
             ],
             [
              0.5555555555555556,
              "#d8576b"
             ],
             [
              0.6666666666666666,
              "#ed7953"
             ],
             [
              0.7777777777777778,
              "#fb9f3a"
             ],
             [
              0.8888888888888888,
              "#fdca26"
             ],
             [
              1,
              "#f0f921"
             ]
            ],
            "type": "heatmap"
           }
          ],
          "heatmapgl": [
           {
            "colorbar": {
             "outlinewidth": 0,
             "ticks": ""
            },
            "colorscale": [
             [
              0,
              "#0d0887"
             ],
             [
              0.1111111111111111,
              "#46039f"
             ],
             [
              0.2222222222222222,
              "#7201a8"
             ],
             [
              0.3333333333333333,
              "#9c179e"
             ],
             [
              0.4444444444444444,
              "#bd3786"
             ],
             [
              0.5555555555555556,
              "#d8576b"
             ],
             [
              0.6666666666666666,
              "#ed7953"
             ],
             [
              0.7777777777777778,
              "#fb9f3a"
             ],
             [
              0.8888888888888888,
              "#fdca26"
             ],
             [
              1,
              "#f0f921"
             ]
            ],
            "type": "heatmapgl"
           }
          ],
          "histogram": [
           {
            "marker": {
             "pattern": {
              "fillmode": "overlay",
              "size": 10,
              "solidity": 0.2
             }
            },
            "type": "histogram"
           }
          ],
          "histogram2d": [
           {
            "colorbar": {
             "outlinewidth": 0,
             "ticks": ""
            },
            "colorscale": [
             [
              0,
              "#0d0887"
             ],
             [
              0.1111111111111111,
              "#46039f"
             ],
             [
              0.2222222222222222,
              "#7201a8"
             ],
             [
              0.3333333333333333,
              "#9c179e"
             ],
             [
              0.4444444444444444,
              "#bd3786"
             ],
             [
              0.5555555555555556,
              "#d8576b"
             ],
             [
              0.6666666666666666,
              "#ed7953"
             ],
             [
              0.7777777777777778,
              "#fb9f3a"
             ],
             [
              0.8888888888888888,
              "#fdca26"
             ],
             [
              1,
              "#f0f921"
             ]
            ],
            "type": "histogram2d"
           }
          ],
          "histogram2dcontour": [
           {
            "colorbar": {
             "outlinewidth": 0,
             "ticks": ""
            },
            "colorscale": [
             [
              0,
              "#0d0887"
             ],
             [
              0.1111111111111111,
              "#46039f"
             ],
             [
              0.2222222222222222,
              "#7201a8"
             ],
             [
              0.3333333333333333,
              "#9c179e"
             ],
             [
              0.4444444444444444,
              "#bd3786"
             ],
             [
              0.5555555555555556,
              "#d8576b"
             ],
             [
              0.6666666666666666,
              "#ed7953"
             ],
             [
              0.7777777777777778,
              "#fb9f3a"
             ],
             [
              0.8888888888888888,
              "#fdca26"
             ],
             [
              1,
              "#f0f921"
             ]
            ],
            "type": "histogram2dcontour"
           }
          ],
          "mesh3d": [
           {
            "colorbar": {
             "outlinewidth": 0,
             "ticks": ""
            },
            "type": "mesh3d"
           }
          ],
          "parcoords": [
           {
            "line": {
             "colorbar": {
              "outlinewidth": 0,
              "ticks": ""
             }
            },
            "type": "parcoords"
           }
          ],
          "pie": [
           {
            "automargin": true,
            "type": "pie"
           }
          ],
          "scatter": [
           {
            "fillpattern": {
             "fillmode": "overlay",
             "size": 10,
             "solidity": 0.2
            },
            "type": "scatter"
           }
          ],
          "scatter3d": [
           {
            "line": {
             "colorbar": {
              "outlinewidth": 0,
              "ticks": ""
             }
            },
            "marker": {
             "colorbar": {
              "outlinewidth": 0,
              "ticks": ""
             }
            },
            "type": "scatter3d"
           }
          ],
          "scattercarpet": [
           {
            "marker": {
             "colorbar": {
              "outlinewidth": 0,
              "ticks": ""
             }
            },
            "type": "scattercarpet"
           }
          ],
          "scattergeo": [
           {
            "marker": {
             "colorbar": {
              "outlinewidth": 0,
              "ticks": ""
             }
            },
            "type": "scattergeo"
           }
          ],
          "scattergl": [
           {
            "marker": {
             "colorbar": {
              "outlinewidth": 0,
              "ticks": ""
             }
            },
            "type": "scattergl"
           }
          ],
          "scattermapbox": [
           {
            "marker": {
             "colorbar": {
              "outlinewidth": 0,
              "ticks": ""
             }
            },
            "type": "scattermapbox"
           }
          ],
          "scatterpolar": [
           {
            "marker": {
             "colorbar": {
              "outlinewidth": 0,
              "ticks": ""
             }
            },
            "type": "scatterpolar"
           }
          ],
          "scatterpolargl": [
           {
            "marker": {
             "colorbar": {
              "outlinewidth": 0,
              "ticks": ""
             }
            },
            "type": "scatterpolargl"
           }
          ],
          "scatterternary": [
           {
            "marker": {
             "colorbar": {
              "outlinewidth": 0,
              "ticks": ""
             }
            },
            "type": "scatterternary"
           }
          ],
          "surface": [
           {
            "colorbar": {
             "outlinewidth": 0,
             "ticks": ""
            },
            "colorscale": [
             [
              0,
              "#0d0887"
             ],
             [
              0.1111111111111111,
              "#46039f"
             ],
             [
              0.2222222222222222,
              "#7201a8"
             ],
             [
              0.3333333333333333,
              "#9c179e"
             ],
             [
              0.4444444444444444,
              "#bd3786"
             ],
             [
              0.5555555555555556,
              "#d8576b"
             ],
             [
              0.6666666666666666,
              "#ed7953"
             ],
             [
              0.7777777777777778,
              "#fb9f3a"
             ],
             [
              0.8888888888888888,
              "#fdca26"
             ],
             [
              1,
              "#f0f921"
             ]
            ],
            "type": "surface"
           }
          ],
          "table": [
           {
            "cells": {
             "fill": {
              "color": "#EBF0F8"
             },
             "line": {
              "color": "white"
             }
            },
            "header": {
             "fill": {
              "color": "#C8D4E3"
             },
             "line": {
              "color": "white"
             }
            },
            "type": "table"
           }
          ]
         },
         "layout": {
          "annotationdefaults": {
           "arrowcolor": "#2a3f5f",
           "arrowhead": 0,
           "arrowwidth": 1
          },
          "autotypenumbers": "strict",
          "coloraxis": {
           "colorbar": {
            "outlinewidth": 0,
            "ticks": ""
           }
          },
          "colorscale": {
           "diverging": [
            [
             0,
             "#8e0152"
            ],
            [
             0.1,
             "#c51b7d"
            ],
            [
             0.2,
             "#de77ae"
            ],
            [
             0.3,
             "#f1b6da"
            ],
            [
             0.4,
             "#fde0ef"
            ],
            [
             0.5,
             "#f7f7f7"
            ],
            [
             0.6,
             "#e6f5d0"
            ],
            [
             0.7,
             "#b8e186"
            ],
            [
             0.8,
             "#7fbc41"
            ],
            [
             0.9,
             "#4d9221"
            ],
            [
             1,
             "#276419"
            ]
           ],
           "sequential": [
            [
             0,
             "#0d0887"
            ],
            [
             0.1111111111111111,
             "#46039f"
            ],
            [
             0.2222222222222222,
             "#7201a8"
            ],
            [
             0.3333333333333333,
             "#9c179e"
            ],
            [
             0.4444444444444444,
             "#bd3786"
            ],
            [
             0.5555555555555556,
             "#d8576b"
            ],
            [
             0.6666666666666666,
             "#ed7953"
            ],
            [
             0.7777777777777778,
             "#fb9f3a"
            ],
            [
             0.8888888888888888,
             "#fdca26"
            ],
            [
             1,
             "#f0f921"
            ]
           ],
           "sequentialminus": [
            [
             0,
             "#0d0887"
            ],
            [
             0.1111111111111111,
             "#46039f"
            ],
            [
             0.2222222222222222,
             "#7201a8"
            ],
            [
             0.3333333333333333,
             "#9c179e"
            ],
            [
             0.4444444444444444,
             "#bd3786"
            ],
            [
             0.5555555555555556,
             "#d8576b"
            ],
            [
             0.6666666666666666,
             "#ed7953"
            ],
            [
             0.7777777777777778,
             "#fb9f3a"
            ],
            [
             0.8888888888888888,
             "#fdca26"
            ],
            [
             1,
             "#f0f921"
            ]
           ]
          },
          "colorway": [
           "#636efa",
           "#EF553B",
           "#00cc96",
           "#ab63fa",
           "#FFA15A",
           "#19d3f3",
           "#FF6692",
           "#B6E880",
           "#FF97FF",
           "#FECB52"
          ],
          "font": {
           "color": "#2a3f5f"
          },
          "geo": {
           "bgcolor": "white",
           "lakecolor": "white",
           "landcolor": "#E5ECF6",
           "showlakes": true,
           "showland": true,
           "subunitcolor": "white"
          },
          "hoverlabel": {
           "align": "left"
          },
          "hovermode": "closest",
          "mapbox": {
           "style": "light"
          },
          "paper_bgcolor": "white",
          "plot_bgcolor": "#E5ECF6",
          "polar": {
           "angularaxis": {
            "gridcolor": "white",
            "linecolor": "white",
            "ticks": ""
           },
           "bgcolor": "#E5ECF6",
           "radialaxis": {
            "gridcolor": "white",
            "linecolor": "white",
            "ticks": ""
           }
          },
          "scene": {
           "xaxis": {
            "backgroundcolor": "#E5ECF6",
            "gridcolor": "white",
            "gridwidth": 2,
            "linecolor": "white",
            "showbackground": true,
            "ticks": "",
            "zerolinecolor": "white"
           },
           "yaxis": {
            "backgroundcolor": "#E5ECF6",
            "gridcolor": "white",
            "gridwidth": 2,
            "linecolor": "white",
            "showbackground": true,
            "ticks": "",
            "zerolinecolor": "white"
           },
           "zaxis": {
            "backgroundcolor": "#E5ECF6",
            "gridcolor": "white",
            "gridwidth": 2,
            "linecolor": "white",
            "showbackground": true,
            "ticks": "",
            "zerolinecolor": "white"
           }
          },
          "shapedefaults": {
           "line": {
            "color": "#2a3f5f"
           }
          },
          "ternary": {
           "aaxis": {
            "gridcolor": "white",
            "linecolor": "white",
            "ticks": ""
           },
           "baxis": {
            "gridcolor": "white",
            "linecolor": "white",
            "ticks": ""
           },
           "bgcolor": "#E5ECF6",
           "caxis": {
            "gridcolor": "white",
            "linecolor": "white",
            "ticks": ""
           }
          },
          "title": {
           "x": 0.05
          },
          "xaxis": {
           "automargin": true,
           "gridcolor": "white",
           "linecolor": "white",
           "ticks": "",
           "title": {
            "standoff": 15
           },
           "zerolinecolor": "white",
           "zerolinewidth": 2
          },
          "yaxis": {
           "automargin": true,
           "gridcolor": "white",
           "linecolor": "white",
           "ticks": "",
           "title": {
            "standoff": 15
           },
           "zerolinecolor": "white",
           "zerolinewidth": 2
          }
         }
        },
        "title": {
         "font": {
          "size": 18
         },
         "text": "<b>Gas (HEV) VS Electricity (EV) Cost per Kilometer (2020-2025)</b>",
         "x": 0.5,
         "xanchor": "center",
         "y": 0.95
        },
        "xaxis": {
         "dtick": "M12",
         "linecolor": "white",
         "range": [
          "2020-01-01T00:00:00",
          "2024-12-01T00:00:00"
         ],
         "showgrid": false,
         "showline": true,
         "tickformat": "%Y",
         "title": {
          "text": "Date"
         }
        },
        "yaxis": {
         "linecolor": "white",
         "showgrid": false,
         "showline": true,
         "title": {
          "text": "Cost per km (PHP)"
         }
        }
       }
      }
     },
     "metadata": {},
     "output_type": "display_data"
    }
   ],
   "source": [
    "def graph_nutshell_plot(km_l: float, km_kwh: float, kwh_consumption: int):\n",
    "    ## 18, 7, 300, 40\n",
    "    nutshell_df = make_comparison_dataframe(km_l, km_kwh, kwh_consumption)\n",
    "\n",
    "    gas_color = '#dc267f'  # Red\n",
    "    electricity_color = '#648fff'  # Blue\n",
    "    vline_color = '#ffb000'\n",
    "    text_color = '#FFFFFF'\n",
    "    bg_color = '#1B181C'\n",
    "\n",
    "    fig = go.Figure()\n",
    "\n",
    "    fig.update_layout(\n",
    "        font=dict(\n",
    "            color=text_color,\n",
    "            family=\"Roboto\",\n",
    "        )\n",
    "    )\n",
    "\n",
    "    line_width = 1\n",
    "\n",
    "    ## vertical lines\n",
    "    luzon_lockdown = datetime(2020, 3, 1)\n",
    "    lockdown_reduced = datetime(2021, 10, 1)\n",
    "    ukraine_invasion = datetime(2022, 2, 1)\n",
    "    erc_order = datetime(2024, 6, 1)\n",
    "    annotation_y = 1.75\n",
    "    annotation_font = 10\n",
    "    fig.update_layout(\n",
    "        shapes=[\n",
    "            dict(\n",
    "                type=\"line\",\n",
    "                x0=luzon_lockdown,\n",
    "                x1=luzon_lockdown,\n",
    "                line=dict(color=vline_color, width=line_width, dash=\"dash\")\n",
    "            ),\n",
    "            dict(\n",
    "                type=\"line\",\n",
    "                x0=lockdown_reduced,\n",
    "                x1=lockdown_reduced,\n",
    "                line=dict(color=vline_color, width=line_width, dash=\"dash\")\n",
    "            ),\n",
    "            dict(\n",
    "                type=\"line\",\n",
    "                x0=ukraine_invasion,\n",
    "                x1=ukraine_invasion,\n",
    "                line=dict(color=vline_color, width=line_width, dash=\"dash\")\n",
    "            ),\n",
    "            dict(\n",
    "                type=\"line\",\n",
    "                x0=erc_order,\n",
    "                x1=erc_order,\n",
    "                line=dict(color=vline_color, width=line_width, dash=\"dash\")\n",
    "            ),\n",
    "        ],\n",
    "        annotations=[\n",
    "            dict(\n",
    "                x=luzon_lockdown,\n",
    "                y=annotation_y,\n",
    "                xref=\"x\",\n",
    "                showarrow=False,\n",
    "                text=\"Luzon ECQ Start\",\n",
    "                textangle=-90,\n",
    "                xanchor=\"right\",\n",
    "                yanchor=\"bottom\",\n",
    "                font=dict(color=vline_color, size=annotation_font),\n",
    "            ),\n",
    "            dict(\n",
    "                x=lockdown_reduced,\n",
    "                y=annotation_y,\n",
    "                xref=\"x\",\n",
    "                showarrow=False,\n",
    "                text=\"ECQ to MECQ\",\n",
    "                textangle=-90,\n",
    "                xanchor=\"right\",\n",
    "                yanchor=\"bottom\",\n",
    "                font=dict(color=vline_color, size=annotation_font),\n",
    "            ),\n",
    "            dict(\n",
    "                x=ukraine_invasion,\n",
    "                y=annotation_y,\n",
    "                xref=\"x\",\n",
    "                showarrow=False,\n",
    "                text=\"Russia-Ukraine War\",\n",
    "                textangle=-90,\n",
    "                xanchor=\"right\",\n",
    "                yanchor=\"bottom\",\n",
    "                font=dict(color=vline_color, size=annotation_font),\n",
    "            ),\n",
    "            dict(\n",
    "                x=erc_order,\n",
    "                y=annotation_y,\n",
    "                xref=\"x\",\n",
    "                showarrow=False,\n",
    "                text=\"ERC Order: Energy Costs\",\n",
    "                textangle=-90,\n",
    "                xanchor=\"right\",\n",
    "                yanchor=\"bottom\",\n",
    "                font=dict(color=vline_color, size=annotation_font),\n",
    "            )\n",
    "        ],\n",
    "    )\n",
    "\n",
    "    # Add Gas line plot\n",
    "    fig.add_trace(go.Scatter(\n",
    "        x=nutshell_df['Date'],\n",
    "        y=nutshell_df['Gas cost/km'],\n",
    "        mode='lines+markers',\n",
    "        line=dict(color=gas_color, width=2),\n",
    "        marker=dict(size=8),\n",
    "        name='HEV Gas Cost/km',\n",
    "        hovertemplate=\"<b>%{x|%b %Y}</b><br>HEV Gas Cost: PHP %{y:.3f}<extra></extra>\",\n",
    "    ))\n",
    "\n",
    "    fig.add_trace(go.Scatter(\n",
    "        x=nutshell_df['Date'],\n",
    "        y=nutshell_df['Electricity cost/km'],\n",
    "        mode='lines+markers',\n",
    "        line=dict(color=electricity_color, width=2),\n",
    "        marker=dict(size=8),\n",
    "        name='EV Electricity Cost/km',\n",
    "        hovertemplate=\"<b>%{x|%b %Y}</b><br>EV Electricity Cost: PHP %{y:.3f}<extra></extra>\",\n",
    "    ))\n",
    "\n",
    "    fig.update_layout(\n",
    "        title={\n",
    "            'text': \"<b>Gas (HEV) VS Electricity (EV) Cost per Kilometer (2020-2025)</b>\",\n",
    "            'y':0.95,\n",
    "            'x':0.5,\n",
    "            'xanchor': 'center',\n",
    "            'font': dict(size=18)\n",
    "        },\n",
    "        xaxis=dict(\n",
    "            title=\"Date\",\n",
    "            range=[nutshell_df['Date'].min(), nutshell_df['Date'].max()],\n",
    "            tickformat=\"%Y\",\n",
    "            dtick=\"M12\",  # Yearly ticks\n",
    "            showgrid=False,\n",
    "            showline=True,\n",
    "            linecolor='white'\n",
    "        ),\n",
    "        yaxis=dict(\n",
    "            title=\"Cost per km (PHP)\",\n",
    "            showgrid=False,\n",
    "            showline=True,\n",
    "            linecolor='white',\n",
    "        ),\n",
    "        legend=dict(\n",
    "            orientation=\"h\",\n",
    "            yanchor=\"bottom\",\n",
    "            y=1.02,\n",
    "            xanchor=\"right\",\n",
    "            x=1\n",
    "        ),\n",
    "        plot_bgcolor=bg_color,\n",
    "        paper_bgcolor=bg_color,\n",
    "        hovermode=\"x unified\",\n",
    "    )\n",
    "\n",
    "    for date in nutshell_df['Date']:\n",
    "        month = date.month\n",
    "        if month != 1:\n",
    "            continue\n",
    "        gas_cost = nutshell_df.loc[nutshell_df['Date'] == date]['Gas cost/km']\n",
    "        elec_cost = nutshell_df.loc[nutshell_df['Date'] == date]['Electricity cost/km']\n",
    "        \n",
    "        val = max(elec_cost.iloc[0], gas_cost.iloc[0])\n",
    "        fig.add_shape(\n",
    "            go.layout.Shape(\n",
    "                type=\"line\",\n",
    "                x0=date, y0=0.2,  # Start at the x-axis (y=0)\n",
    "                x1=date, y1=val,  # End at the data point\n",
    "                xref=\"x\", yref=\"y\",\n",
    "                line=dict(color=\"lightgray\", width=1)\n",
    "            )\n",
    "        )\n",
    "\n",
    "    fig.add_annotation(\n",
    "        x=0.8,\n",
    "        y=-0.25,\n",
    "        xref=\"paper\",\n",
    "        yref=\"paper\",\n",
    "        align=\"left\",\n",
    "        text=f\"\"\"\n",
    "        Gas cost calculated with {km_l} km/L<br>\n",
    "        Electricity cost calculated with {km_kwh} km/kWh and {kwh_consumption} kWh household consumption<br>\n",
    "        Sources: DoE NCR Prevailing Pump Prices, Meralco Rates\n",
    "        \"\"\",\n",
    "        showarrow=True,\n",
    "        font=dict(size=11, color=text_color, family=\"Roboto Condensed\")\n",
    "    )\n",
    "\n",
    "    # Show the plot\n",
    "    fig.show()\n",
    "\n",
    "graph_nutshell_plot(40, 7, 200)"
   ]
  },
  {
   "cell_type": "code",
   "execution_count": 325,
   "id": "7665e46e",
   "metadata": {},
   "outputs": [
    {
     "data": {
      "text/html": [
       "<div>\n",
       "<style scoped>\n",
       "    .dataframe tbody tr th:only-of-type {\n",
       "        vertical-align: middle;\n",
       "    }\n",
       "\n",
       "    .dataframe tbody tr th {\n",
       "        vertical-align: top;\n",
       "    }\n",
       "\n",
       "    .dataframe thead th {\n",
       "        text-align: right;\n",
       "    }\n",
       "</style>\n",
       "<table border=\"1\" class=\"dataframe\">\n",
       "  <thead>\n",
       "    <tr style=\"text-align: right;\">\n",
       "      <th></th>\n",
       "      <th>Date</th>\n",
       "      <th>Gas cost/km</th>\n",
       "      <th>Electricity cost/km</th>\n",
       "      <th>Difference</th>\n",
       "    </tr>\n",
       "  </thead>\n",
       "  <tbody>\n",
       "    <tr>\n",
       "      <th>0</th>\n",
       "      <td>2020-01-01</td>\n",
       "      <td>1.28675</td>\n",
       "      <td>1.350329</td>\n",
       "      <td>-0.063579</td>\n",
       "    </tr>\n",
       "    <tr>\n",
       "      <th>1</th>\n",
       "      <td>2020-02-01</td>\n",
       "      <td>1.229125</td>\n",
       "      <td>1.266043</td>\n",
       "      <td>-0.036918</td>\n",
       "    </tr>\n",
       "    <tr>\n",
       "      <th>2</th>\n",
       "      <td>2020-03-01</td>\n",
       "      <td>1.1275</td>\n",
       "      <td>1.270014</td>\n",
       "      <td>-0.142514</td>\n",
       "    </tr>\n",
       "    <tr>\n",
       "      <th>3</th>\n",
       "      <td>2020-04-01</td>\n",
       "      <td>0.936375</td>\n",
       "      <td>1.285014</td>\n",
       "      <td>-0.348639</td>\n",
       "    </tr>\n",
       "    <tr>\n",
       "      <th>4</th>\n",
       "      <td>2020-05-01</td>\n",
       "      <td>1.008875</td>\n",
       "      <td>1.249543</td>\n",
       "      <td>-0.240668</td>\n",
       "    </tr>\n",
       "    <tr>\n",
       "      <th>5</th>\n",
       "      <td>2020-06-01</td>\n",
       "      <td>1.116</td>\n",
       "      <td>1.246457</td>\n",
       "      <td>-0.130457</td>\n",
       "    </tr>\n",
       "    <tr>\n",
       "      <th>6</th>\n",
       "      <td>2020-07-01</td>\n",
       "      <td>1.192125</td>\n",
       "      <td>1.242371</td>\n",
       "      <td>-0.050246</td>\n",
       "    </tr>\n",
       "    <tr>\n",
       "      <th>7</th>\n",
       "      <td>2020-08-01</td>\n",
       "      <td>1.20575</td>\n",
       "      <td>1.213014</td>\n",
       "      <td>-0.007264</td>\n",
       "    </tr>\n",
       "    <tr>\n",
       "      <th>8</th>\n",
       "      <td>2020-09-01</td>\n",
       "      <td>1.174625</td>\n",
       "      <td>1.204114</td>\n",
       "      <td>-0.029489</td>\n",
       "    </tr>\n",
       "    <tr>\n",
       "      <th>9</th>\n",
       "      <td>2020-10-01</td>\n",
       "      <td>1.166375</td>\n",
       "      <td>1.221429</td>\n",
       "      <td>-0.055054</td>\n",
       "    </tr>\n",
       "    <tr>\n",
       "      <th>10</th>\n",
       "      <td>2020-11-01</td>\n",
       "      <td>1.0965</td>\n",
       "      <td>1.215786</td>\n",
       "      <td>-0.119286</td>\n",
       "    </tr>\n",
       "    <tr>\n",
       "      <th>11</th>\n",
       "      <td>2020-12-01</td>\n",
       "      <td>1.110125</td>\n",
       "      <td>1.210757</td>\n",
       "      <td>-0.100632</td>\n",
       "    </tr>\n",
       "    <tr>\n",
       "      <th>12</th>\n",
       "      <td>2021-01-01</td>\n",
       "      <td>1.152375</td>\n",
       "      <td>1.249957</td>\n",
       "      <td>-0.097582</td>\n",
       "    </tr>\n",
       "    <tr>\n",
       "      <th>13</th>\n",
       "      <td>2021-02-01</td>\n",
       "      <td>1.185625</td>\n",
       "      <td>1.2399</td>\n",
       "      <td>-0.054275</td>\n",
       "    </tr>\n",
       "    <tr>\n",
       "      <th>14</th>\n",
       "      <td>2021-03-01</td>\n",
       "      <td>1.245875</td>\n",
       "      <td>1.1885</td>\n",
       "      <td>0.057375</td>\n",
       "    </tr>\n",
       "    <tr>\n",
       "      <th>15</th>\n",
       "      <td>2021-04-01</td>\n",
       "      <td>1.24025</td>\n",
       "      <td>1.200957</td>\n",
       "      <td>0.039293</td>\n",
       "    </tr>\n",
       "    <tr>\n",
       "      <th>16</th>\n",
       "      <td>2021-05-01</td>\n",
       "      <td>1.264125</td>\n",
       "      <td>1.227429</td>\n",
       "      <td>0.036696</td>\n",
       "    </tr>\n",
       "    <tr>\n",
       "      <th>17</th>\n",
       "      <td>2021-06-01</td>\n",
       "      <td>1.30175</td>\n",
       "      <td>1.238829</td>\n",
       "      <td>0.062921</td>\n",
       "    </tr>\n",
       "    <tr>\n",
       "      <th>18</th>\n",
       "      <td>2021-07-01</td>\n",
       "      <td>1.373625</td>\n",
       "      <td>1.272443</td>\n",
       "      <td>0.101182</td>\n",
       "    </tr>\n",
       "    <tr>\n",
       "      <th>19</th>\n",
       "      <td>2021-08-01</td>\n",
       "      <td>1.402125</td>\n",
       "      <td>1.286229</td>\n",
       "      <td>0.115896</td>\n",
       "    </tr>\n",
       "    <tr>\n",
       "      <th>20</th>\n",
       "      <td>2021-09-01</td>\n",
       "      <td>1.408</td>\n",
       "      <td>1.3013</td>\n",
       "      <td>0.1067</td>\n",
       "    </tr>\n",
       "    <tr>\n",
       "      <th>21</th>\n",
       "      <td>2021-10-01</td>\n",
       "      <td>1.507375</td>\n",
       "      <td>1.305343</td>\n",
       "      <td>0.202032</td>\n",
       "    </tr>\n",
       "    <tr>\n",
       "      <th>22</th>\n",
       "      <td>2021-11-01</td>\n",
       "      <td>1.54825</td>\n",
       "      <td>1.351857</td>\n",
       "      <td>0.196393</td>\n",
       "    </tr>\n",
       "    <tr>\n",
       "      <th>23</th>\n",
       "      <td>2021-12-01</td>\n",
       "      <td>1.463</td>\n",
       "      <td>1.396757</td>\n",
       "      <td>0.066243</td>\n",
       "    </tr>\n",
       "    <tr>\n",
       "      <th>24</th>\n",
       "      <td>2022-01-01</td>\n",
       "      <td>1.524125</td>\n",
       "      <td>1.3861</td>\n",
       "      <td>0.138025</td>\n",
       "    </tr>\n",
       "    <tr>\n",
       "      <th>25</th>\n",
       "      <td>2022-02-01</td>\n",
       "      <td>1.60275</td>\n",
       "      <td>1.369171</td>\n",
       "      <td>0.233579</td>\n",
       "    </tr>\n",
       "    <tr>\n",
       "      <th>26</th>\n",
       "      <td>2022-03-01</td>\n",
       "      <td>1.79575</td>\n",
       "      <td>1.3781</td>\n",
       "      <td>0.41765</td>\n",
       "    </tr>\n",
       "    <tr>\n",
       "      <th>27</th>\n",
       "      <td>2022-04-01</td>\n",
       "      <td>1.802625</td>\n",
       "      <td>1.454714</td>\n",
       "      <td>0.347911</td>\n",
       "    </tr>\n",
       "    <tr>\n",
       "      <th>28</th>\n",
       "      <td>2022-05-01</td>\n",
       "      <td>1.9</td>\n",
       "      <td>1.437571</td>\n",
       "      <td>0.462429</td>\n",
       "    </tr>\n",
       "    <tr>\n",
       "      <th>29</th>\n",
       "      <td>2022-06-01</td>\n",
       "      <td>2.04225</td>\n",
       "      <td>1.494457</td>\n",
       "      <td>0.547793</td>\n",
       "    </tr>\n",
       "    <tr>\n",
       "      <th>30</th>\n",
       "      <td>2022-07-01</td>\n",
       "      <td>1.919875</td>\n",
       "      <td>1.3935</td>\n",
       "      <td>0.526375</td>\n",
       "    </tr>\n",
       "    <tr>\n",
       "      <th>31</th>\n",
       "      <td>2022-08-01</td>\n",
       "      <td>1.78575</td>\n",
       "      <td>1.363686</td>\n",
       "      <td>0.422064</td>\n",
       "    </tr>\n",
       "    <tr>\n",
       "      <th>32</th>\n",
       "      <td>2022-09-01</td>\n",
       "      <td>1.731</td>\n",
       "      <td>1.4195</td>\n",
       "      <td>0.3115</td>\n",
       "    </tr>\n",
       "    <tr>\n",
       "      <th>33</th>\n",
       "      <td>2022-10-01</td>\n",
       "      <td>1.677125</td>\n",
       "      <td>1.408971</td>\n",
       "      <td>0.268154</td>\n",
       "    </tr>\n",
       "    <tr>\n",
       "      <th>34</th>\n",
       "      <td>2022-11-01</td>\n",
       "      <td>1.68025</td>\n",
       "      <td>1.421029</td>\n",
       "      <td>0.259221</td>\n",
       "    </tr>\n",
       "    <tr>\n",
       "      <th>35</th>\n",
       "      <td>2022-12-01</td>\n",
       "      <td>1.596625</td>\n",
       "      <td>1.468129</td>\n",
       "      <td>0.128496</td>\n",
       "    </tr>\n",
       "    <tr>\n",
       "      <th>36</th>\n",
       "      <td>2023-01-01</td>\n",
       "      <td>1.6465</td>\n",
       "      <td>1.557157</td>\n",
       "      <td>0.089343</td>\n",
       "    </tr>\n",
       "    <tr>\n",
       "      <th>37</th>\n",
       "      <td>2023-02-01</td>\n",
       "      <td>1.6325</td>\n",
       "      <td>1.555643</td>\n",
       "      <td>0.076857</td>\n",
       "    </tr>\n",
       "    <tr>\n",
       "      <th>38</th>\n",
       "      <td>2023-03-01</td>\n",
       "      <td>1.587375</td>\n",
       "      <td>1.633543</td>\n",
       "      <td>-0.046168</td>\n",
       "    </tr>\n",
       "    <tr>\n",
       "      <th>39</th>\n",
       "      <td>2023-04-01</td>\n",
       "      <td>1.63425</td>\n",
       "      <td>1.616686</td>\n",
       "      <td>0.017564</td>\n",
       "    </tr>\n",
       "    <tr>\n",
       "      <th>40</th>\n",
       "      <td>2023-05-01</td>\n",
       "      <td>1.556625</td>\n",
       "      <td>1.641843</td>\n",
       "      <td>-0.085218</td>\n",
       "    </tr>\n",
       "    <tr>\n",
       "      <th>41</th>\n",
       "      <td>2023-06-01</td>\n",
       "      <td>1.568625</td>\n",
       "      <td>1.7016</td>\n",
       "      <td>-0.132975</td>\n",
       "    </tr>\n",
       "    <tr>\n",
       "      <th>42</th>\n",
       "      <td>2023-07-01</td>\n",
       "      <td>1.5905</td>\n",
       "      <td>1.598557</td>\n",
       "      <td>-0.008057</td>\n",
       "    </tr>\n",
       "    <tr>\n",
       "      <th>43</th>\n",
       "      <td>2023-08-01</td>\n",
       "      <td>1.728</td>\n",
       "      <td>1.557014</td>\n",
       "      <td>0.170986</td>\n",
       "    </tr>\n",
       "    <tr>\n",
       "      <th>44</th>\n",
       "      <td>2023-09-01</td>\n",
       "      <td>1.80925</td>\n",
       "      <td>1.628529</td>\n",
       "      <td>0.180721</td>\n",
       "    </tr>\n",
       "    <tr>\n",
       "      <th>45</th>\n",
       "      <td>2023-10-01</td>\n",
       "      <td>1.710375</td>\n",
       "      <td>1.688543</td>\n",
       "      <td>0.021832</td>\n",
       "    </tr>\n",
       "    <tr>\n",
       "      <th>46</th>\n",
       "      <td>2023-11-01</td>\n",
       "      <td>1.660875</td>\n",
       "      <td>1.722071</td>\n",
       "      <td>-0.061196</td>\n",
       "    </tr>\n",
       "    <tr>\n",
       "      <th>47</th>\n",
       "      <td>2023-12-01</td>\n",
       "      <td>1.6135</td>\n",
       "      <td>1.608343</td>\n",
       "      <td>0.005157</td>\n",
       "    </tr>\n",
       "    <tr>\n",
       "      <th>48</th>\n",
       "      <td>2024-01-01</td>\n",
       "      <td>1.626875</td>\n",
       "      <td>1.620429</td>\n",
       "      <td>0.006446</td>\n",
       "    </tr>\n",
       "    <tr>\n",
       "      <th>49</th>\n",
       "      <td>2024-02-01</td>\n",
       "      <td>1.69475</td>\n",
       "      <td>1.7024</td>\n",
       "      <td>-0.00765</td>\n",
       "    </tr>\n",
       "    <tr>\n",
       "      <th>50</th>\n",
       "      <td>2024-03-01</td>\n",
       "      <td>1.700125</td>\n",
       "      <td>1.705671</td>\n",
       "      <td>-0.005546</td>\n",
       "    </tr>\n",
       "    <tr>\n",
       "      <th>51</th>\n",
       "      <td>2024-04-01</td>\n",
       "      <td>1.770625</td>\n",
       "      <td>1.564543</td>\n",
       "      <td>0.206082</td>\n",
       "    </tr>\n",
       "    <tr>\n",
       "      <th>52</th>\n",
       "      <td>2024-05-01</td>\n",
       "      <td>1.7225</td>\n",
       "      <td>1.630557</td>\n",
       "      <td>0.091943</td>\n",
       "    </tr>\n",
       "    <tr>\n",
       "      <th>53</th>\n",
       "      <td>2024-06-01</td>\n",
       "      <td>1.68875</td>\n",
       "      <td>1.350229</td>\n",
       "      <td>0.338521</td>\n",
       "    </tr>\n",
       "    <tr>\n",
       "      <th>54</th>\n",
       "      <td>2024-07-01</td>\n",
       "      <td>1.738875</td>\n",
       "      <td>1.657314</td>\n",
       "      <td>0.081561</td>\n",
       "    </tr>\n",
       "    <tr>\n",
       "      <th>55</th>\n",
       "      <td>2024-08-01</td>\n",
       "      <td>1.602</td>\n",
       "      <td>1.661986</td>\n",
       "      <td>-0.059986</td>\n",
       "    </tr>\n",
       "    <tr>\n",
       "      <th>56</th>\n",
       "      <td>2024-09-01</td>\n",
       "      <td>1.546375</td>\n",
       "      <td>1.684029</td>\n",
       "      <td>-0.137654</td>\n",
       "    </tr>\n",
       "    <tr>\n",
       "      <th>57</th>\n",
       "      <td>2024-10-01</td>\n",
       "      <td>1.530375</td>\n",
       "      <td>1.632786</td>\n",
       "      <td>-0.102411</td>\n",
       "    </tr>\n",
       "    <tr>\n",
       "      <th>58</th>\n",
       "      <td>2024-11-01</td>\n",
       "      <td>1.545</td>\n",
       "      <td>1.693843</td>\n",
       "      <td>-0.148843</td>\n",
       "    </tr>\n",
       "    <tr>\n",
       "      <th>59</th>\n",
       "      <td>2024-12-01</td>\n",
       "      <td>1.566125</td>\n",
       "      <td>1.708814</td>\n",
       "      <td>-0.142689</td>\n",
       "    </tr>\n",
       "  </tbody>\n",
       "</table>\n",
       "</div>"
      ],
      "text/plain": [
       "         Date Gas cost/km Electricity cost/km Difference\n",
       "0  2020-01-01     1.28675            1.350329  -0.063579\n",
       "1  2020-02-01    1.229125            1.266043  -0.036918\n",
       "2  2020-03-01      1.1275            1.270014  -0.142514\n",
       "3  2020-04-01    0.936375            1.285014  -0.348639\n",
       "4  2020-05-01    1.008875            1.249543  -0.240668\n",
       "5  2020-06-01       1.116            1.246457  -0.130457\n",
       "6  2020-07-01    1.192125            1.242371  -0.050246\n",
       "7  2020-08-01     1.20575            1.213014  -0.007264\n",
       "8  2020-09-01    1.174625            1.204114  -0.029489\n",
       "9  2020-10-01    1.166375            1.221429  -0.055054\n",
       "10 2020-11-01      1.0965            1.215786  -0.119286\n",
       "11 2020-12-01    1.110125            1.210757  -0.100632\n",
       "12 2021-01-01    1.152375            1.249957  -0.097582\n",
       "13 2021-02-01    1.185625              1.2399  -0.054275\n",
       "14 2021-03-01    1.245875              1.1885   0.057375\n",
       "15 2021-04-01     1.24025            1.200957   0.039293\n",
       "16 2021-05-01    1.264125            1.227429   0.036696\n",
       "17 2021-06-01     1.30175            1.238829   0.062921\n",
       "18 2021-07-01    1.373625            1.272443   0.101182\n",
       "19 2021-08-01    1.402125            1.286229   0.115896\n",
       "20 2021-09-01       1.408              1.3013     0.1067\n",
       "21 2021-10-01    1.507375            1.305343   0.202032\n",
       "22 2021-11-01     1.54825            1.351857   0.196393\n",
       "23 2021-12-01       1.463            1.396757   0.066243\n",
       "24 2022-01-01    1.524125              1.3861   0.138025\n",
       "25 2022-02-01     1.60275            1.369171   0.233579\n",
       "26 2022-03-01     1.79575              1.3781    0.41765\n",
       "27 2022-04-01    1.802625            1.454714   0.347911\n",
       "28 2022-05-01         1.9            1.437571   0.462429\n",
       "29 2022-06-01     2.04225            1.494457   0.547793\n",
       "30 2022-07-01    1.919875              1.3935   0.526375\n",
       "31 2022-08-01     1.78575            1.363686   0.422064\n",
       "32 2022-09-01       1.731              1.4195     0.3115\n",
       "33 2022-10-01    1.677125            1.408971   0.268154\n",
       "34 2022-11-01     1.68025            1.421029   0.259221\n",
       "35 2022-12-01    1.596625            1.468129   0.128496\n",
       "36 2023-01-01      1.6465            1.557157   0.089343\n",
       "37 2023-02-01      1.6325            1.555643   0.076857\n",
       "38 2023-03-01    1.587375            1.633543  -0.046168\n",
       "39 2023-04-01     1.63425            1.616686   0.017564\n",
       "40 2023-05-01    1.556625            1.641843  -0.085218\n",
       "41 2023-06-01    1.568625              1.7016  -0.132975\n",
       "42 2023-07-01      1.5905            1.598557  -0.008057\n",
       "43 2023-08-01       1.728            1.557014   0.170986\n",
       "44 2023-09-01     1.80925            1.628529   0.180721\n",
       "45 2023-10-01    1.710375            1.688543   0.021832\n",
       "46 2023-11-01    1.660875            1.722071  -0.061196\n",
       "47 2023-12-01      1.6135            1.608343   0.005157\n",
       "48 2024-01-01    1.626875            1.620429   0.006446\n",
       "49 2024-02-01     1.69475              1.7024   -0.00765\n",
       "50 2024-03-01    1.700125            1.705671  -0.005546\n",
       "51 2024-04-01    1.770625            1.564543   0.206082\n",
       "52 2024-05-01      1.7225            1.630557   0.091943\n",
       "53 2024-06-01     1.68875            1.350229   0.338521\n",
       "54 2024-07-01    1.738875            1.657314   0.081561\n",
       "55 2024-08-01       1.602            1.661986  -0.059986\n",
       "56 2024-09-01    1.546375            1.684029  -0.137654\n",
       "57 2024-10-01    1.530375            1.632786  -0.102411\n",
       "58 2024-11-01       1.545            1.693843  -0.148843\n",
       "59 2024-12-01    1.566125            1.708814  -0.142689"
      ]
     },
     "execution_count": 325,
     "metadata": {},
     "output_type": "execute_result"
    }
   ],
   "source": [
    "make_comparison_dataframe(40, 7, 200)"
   ]
  }
 ],
 "metadata": {
  "kernelspec": {
   "display_name": "Python 3",
   "language": "python",
   "name": "python3"
  },
  "language_info": {
   "codemirror_mode": {
    "name": "ipython",
    "version": 3
   },
   "file_extension": ".py",
   "mimetype": "text/x-python",
   "name": "python",
   "nbconvert_exporter": "python",
   "pygments_lexer": "ipython3",
   "version": "3.12.7"
  }
 },
 "nbformat": 4,
 "nbformat_minor": 5
}
