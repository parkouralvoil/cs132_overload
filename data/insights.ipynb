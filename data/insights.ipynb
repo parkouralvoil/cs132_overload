{
 "cells": [
  {
   "cell_type": "code",
   "execution_count": 524,
   "id": "af840983",
   "metadata": {},
   "outputs": [],
   "source": [
    "import pandas as pd\n",
    "import plotly.graph_objects as go\n",
    "from plotly.subplots import make_subplots\n",
    "import numpy as np\n",
    "\n",
    "from scipy import stats\n",
    "from scipy.stats import linregress\n",
    "\n",
    "from datetime import datetime"
   ]
  },
  {
   "cell_type": "markdown",
   "id": "8bbc6b46",
   "metadata": {},
   "source": [
    "Obtaining the datasets and adding the average row for the gas dataset"
   ]
  },
  {
   "cell_type": "code",
   "execution_count": 525,
   "id": "5278ce19",
   "metadata": {},
   "outputs": [],
   "source": [
    "meralco_df = pd.read_csv('MonthlyPumpPrices.csv', parse_dates=['Date'])\n",
    "\n",
    "fuelefficiency_df = pd.read_csv('CarsFuelEfficiency.csv')\n",
    "\n",
    "ron95_data = meralco_df[meralco_df['Product'] == \"Gasoline (RON95)\"].sort_values('Date')\n",
    "ron95_data = ron95_data[(ron95_data['Date'] >= '2020-01-01') & (ron95_data['Date'] <= '2025-01-01')]\n",
    "ron95_data['Average Price'] = (ron95_data['Overall Range Min'] + ron95_data['Overall Range Max']) / 2"
   ]
  },
  {
   "cell_type": "code",
   "execution_count": 526,
   "id": "32886cd0",
   "metadata": {},
   "outputs": [],
   "source": [
    "dry_season_color = 'rgba(255, 165, 0, 0.2)'   # Orange\n",
    "wet_season_color = 'rgba(0, 191, 255, 0.2)'   # Light Blue"
   ]
  },
  {
   "cell_type": "markdown",
   "id": "3ff106e5",
   "metadata": {},
   "source": [
    "Monthly gas prices graph: (from 2020 to 2025)"
   ]
  },
  {
   "cell_type": "code",
   "execution_count": 527,
   "id": "741672f1",
   "metadata": {},
   "outputs": [
    {
     "data": {
      "application/vnd.plotly.v1+json": {
       "config": {
        "plotlyServerURL": "https://plot.ly"
       },
       "data": [
        {
         "hoverinfo": "skip",
         "line": {
          "width": 0
         },
         "mode": "lines",
         "showlegend": false,
         "type": "scatter",
         "x": [
          "2020-01-01T00:00:00.000000000",
          "2020-02-01T00:00:00.000000000",
          "2020-03-01T00:00:00.000000000",
          "2020-04-01T00:00:00.000000000",
          "2020-05-01T00:00:00.000000000",
          "2020-06-01T00:00:00.000000000",
          "2020-07-01T00:00:00.000000000",
          "2020-08-01T00:00:00.000000000",
          "2020-09-01T00:00:00.000000000",
          "2020-10-01T00:00:00.000000000",
          "2020-11-01T00:00:00.000000000",
          "2020-12-01T00:00:00.000000000",
          "2021-01-01T00:00:00.000000000",
          "2021-02-01T00:00:00.000000000",
          "2021-03-01T00:00:00.000000000",
          "2021-04-01T00:00:00.000000000",
          "2021-05-01T00:00:00.000000000",
          "2021-06-01T00:00:00.000000000",
          "2021-07-01T00:00:00.000000000",
          "2021-08-01T00:00:00.000000000",
          "2021-09-01T00:00:00.000000000",
          "2021-10-01T00:00:00.000000000",
          "2021-11-01T00:00:00.000000000",
          "2021-12-01T00:00:00.000000000",
          "2022-01-01T00:00:00.000000000",
          "2022-02-01T00:00:00.000000000",
          "2022-03-01T00:00:00.000000000",
          "2022-04-01T00:00:00.000000000",
          "2022-05-01T00:00:00.000000000",
          "2022-06-01T00:00:00.000000000",
          "2022-07-01T00:00:00.000000000",
          "2022-08-01T00:00:00.000000000",
          "2022-09-01T00:00:00.000000000",
          "2022-10-01T00:00:00.000000000",
          "2022-11-01T00:00:00.000000000",
          "2022-12-01T00:00:00.000000000",
          "2023-01-01T00:00:00.000000000",
          "2023-02-01T00:00:00.000000000",
          "2023-03-01T00:00:00.000000000",
          "2023-04-01T00:00:00.000000000",
          "2023-05-01T00:00:00.000000000",
          "2023-06-01T00:00:00.000000000",
          "2023-07-01T00:00:00.000000000",
          "2023-08-01T00:00:00.000000000",
          "2023-09-01T00:00:00.000000000",
          "2023-10-01T00:00:00.000000000",
          "2023-11-01T00:00:00.000000000",
          "2023-12-01T00:00:00.000000000",
          "2024-01-01T00:00:00.000000000",
          "2024-02-01T00:00:00.000000000",
          "2024-03-01T00:00:00.000000000",
          "2024-04-01T00:00:00.000000000",
          "2024-05-01T00:00:00.000000000",
          "2024-06-01T00:00:00.000000000",
          "2024-07-01T00:00:00.000000000",
          "2024-08-01T00:00:00.000000000",
          "2024-09-01T00:00:00.000000000",
          "2024-10-01T00:00:00.000000000",
          "2024-11-01T00:00:00.000000000",
          "2024-12-01T00:00:00.000000000",
          "2025-01-01T00:00:00.000000000"
         ],
         "y": {
          "bdata": "7FG4HoXLTECuR+F6FK5LQLgehetRmElAzczMzMzMRUCkcD0K1yNHQArXo3A9aklAcT0K16MQS0CF61G4HoVLQHE9Ctej8EpA9ihcj8K1SkApXI/C9WhKQIXrUbgepUpAhetRuB5lS0AzMzMzM9NLQPYoXI/CNU1AZmZmZmZGTUBmZmZmZgZOQMP1KFyPwk5ApHA9CtcTUEAK16NwPVpQQM3MzMzMPFBA7FG4HoVrUUAUrkfherRRQOF6FK5HoVBAw/UoXI9CUUDhehSuRyFSQI/C9Shc/1NACtejcD2qU0D2KFyPwnVUQFK4HoXr4VVA4XoUrkeRVEDXo3A9CodTQD0K16NwHVNAexSuR+F6UkD2KFyPwtVSQIXrUbgeFVJArkfhehReUkBmZmZmZgZSQBSuR+F69FFAMzMzMzODUkBSuB6F68FRQI/C9ShcH1JAj8L1KFxPUkBmZmZmZtZTQK5H4XoUrlRA7FG4HoWLU0B7FK5H4QpTQDMzMzMz01JAzczMzMwsU0BxPQrXo9BTQM3MzMzM7FNAXI/C9Si8VEAAAAAAAFBUQHsUrkfhGlRAcT0K16PgVEDD9Shcj6JSQNejcD0KJ1JAPQrXo3DtUUAzMzMzMzNSQArXo3A9ilJA9ihcj8I1U0A=",
          "dtype": "f8"
         }
        },
        {
         "fill": "tonexty",
         "fillcolor": "rgba(158, 27, 50, 0.5)",
         "hovertemplate": "<b>%{x|%b %Y}</b><br>Range: %{y:.2f}–%{text} pesos<extra></extra>",
         "line": {
          "width": 0
         },
         "mode": "lines",
         "name": "Price Range",
         "text": {
          "bdata": "7FG4HoXLTECuR+F6FK5LQLgehetRmElAzczMzMzMRUCkcD0K1yNHQArXo3A9aklAcT0K16MQS0CF61G4HoVLQHE9Ctej8EpA9ihcj8K1SkApXI/C9WhKQIXrUbgepUpAhetRuB5lS0AzMzMzM9NLQPYoXI/CNU1AZmZmZmZGTUBmZmZmZgZOQMP1KFyPwk5ApHA9CtcTUEAK16NwPVpQQM3MzMzMPFBA7FG4HoVrUUAUrkfherRRQOF6FK5HoVBAw/UoXI9CUUDhehSuRyFSQI/C9Shc/1NACtejcD2qU0D2KFyPwnVUQFK4HoXr4VVA4XoUrkeRVEDXo3A9CodTQD0K16NwHVNAexSuR+F6UkD2KFyPwtVSQIXrUbgeFVJArkfhehReUkBmZmZmZgZSQBSuR+F69FFAMzMzMzODUkBSuB6F68FRQI/C9ShcH1JAj8L1KFxPUkBmZmZmZtZTQK5H4XoUrlRA7FG4HoWLU0B7FK5H4QpTQDMzMzMz01JAzczMzMwsU0BxPQrXo9BTQM3MzMzM7FNAXI/C9Si8VEAAAAAAAFBUQHsUrkfhGlRAcT0K16PgVEDD9Shcj6JSQNejcD0KJ1JAPQrXo3DtUUAzMzMzMzNSQArXo3A9ilJA9ihcj8I1U0A=",
          "dtype": "f8"
         },
         "type": "scatter",
         "x": [
          "2020-01-01T00:00:00.000000000",
          "2020-02-01T00:00:00.000000000",
          "2020-03-01T00:00:00.000000000",
          "2020-04-01T00:00:00.000000000",
          "2020-05-01T00:00:00.000000000",
          "2020-06-01T00:00:00.000000000",
          "2020-07-01T00:00:00.000000000",
          "2020-08-01T00:00:00.000000000",
          "2020-09-01T00:00:00.000000000",
          "2020-10-01T00:00:00.000000000",
          "2020-11-01T00:00:00.000000000",
          "2020-12-01T00:00:00.000000000",
          "2021-01-01T00:00:00.000000000",
          "2021-02-01T00:00:00.000000000",
          "2021-03-01T00:00:00.000000000",
          "2021-04-01T00:00:00.000000000",
          "2021-05-01T00:00:00.000000000",
          "2021-06-01T00:00:00.000000000",
          "2021-07-01T00:00:00.000000000",
          "2021-08-01T00:00:00.000000000",
          "2021-09-01T00:00:00.000000000",
          "2021-10-01T00:00:00.000000000",
          "2021-11-01T00:00:00.000000000",
          "2021-12-01T00:00:00.000000000",
          "2022-01-01T00:00:00.000000000",
          "2022-02-01T00:00:00.000000000",
          "2022-03-01T00:00:00.000000000",
          "2022-04-01T00:00:00.000000000",
          "2022-05-01T00:00:00.000000000",
          "2022-06-01T00:00:00.000000000",
          "2022-07-01T00:00:00.000000000",
          "2022-08-01T00:00:00.000000000",
          "2022-09-01T00:00:00.000000000",
          "2022-10-01T00:00:00.000000000",
          "2022-11-01T00:00:00.000000000",
          "2022-12-01T00:00:00.000000000",
          "2023-01-01T00:00:00.000000000",
          "2023-02-01T00:00:00.000000000",
          "2023-03-01T00:00:00.000000000",
          "2023-04-01T00:00:00.000000000",
          "2023-05-01T00:00:00.000000000",
          "2023-06-01T00:00:00.000000000",
          "2023-07-01T00:00:00.000000000",
          "2023-08-01T00:00:00.000000000",
          "2023-09-01T00:00:00.000000000",
          "2023-10-01T00:00:00.000000000",
          "2023-11-01T00:00:00.000000000",
          "2023-12-01T00:00:00.000000000",
          "2024-01-01T00:00:00.000000000",
          "2024-02-01T00:00:00.000000000",
          "2024-03-01T00:00:00.000000000",
          "2024-04-01T00:00:00.000000000",
          "2024-05-01T00:00:00.000000000",
          "2024-06-01T00:00:00.000000000",
          "2024-07-01T00:00:00.000000000",
          "2024-08-01T00:00:00.000000000",
          "2024-09-01T00:00:00.000000000",
          "2024-10-01T00:00:00.000000000",
          "2024-11-01T00:00:00.000000000",
          "2024-12-01T00:00:00.000000000",
          "2025-01-01T00:00:00.000000000"
         ],
         "y": {
          "bdata": "zczMzMysRkBcj8L1KHxFQOF6FK5HgUNAj8L1KFxPP0DXo3A9CjdBQJqZmZmZOUNAH4XrUbieRED2KFyPwrVEQOxRuB6FC0RAUrgehevxQ0AzMzMzM3NBQMP1KFyPwkFAMzMzMzOzQkCamZmZmZlDQAAAAAAAoERA9ihcj8JVREAK16NwPYpEQI/C9ShcT0VACtejcD3KRkDhehSuR2FHQLgehetR2EdAFK5H4Xp0SUCF61G4HoVKQMP1KFyPQklAUrgehetxSkCamZmZmdlLQPYoXI/C1U9AMzMzMzNjUEAK16NwPYpRQGZmZmZm9lJAFK5H4XrUUUAAAAAAADBQQMP1KFyPAk9AAAAAAAAgTkAK16NwPYpNQDMzMzMzs0tAAAAAAAAgTUAAAAAAAEBNQPYoXI/ClUtAuB6F61FYTEAAAAAAAMBKQAAAAAAAgEpAAAAAAAAAS0BSuB6F63FNQMP1KFyPAk9AMzMzMzNTTUCamZmZmVlMQKRwPQrX40pAmpmZmZm5SkApXI/C9ShMQEjhehSuJ0xAexSuR+FaTUBmZmZmZkZMQNejcD0KV0tAzczMzMzMS0CPwvUoXM9KQM3MzMzMjElAXI/C9ShcSUBmZmZmZmZJQHE9CtejkElArkfhehSOSkA=",
          "dtype": "f8"
         }
        },
        {
         "hovertemplate": "<b>%{x|%b %Y}</b><br>Avg: %{y:.2f} pesos<extra></extra>",
         "line": {
          "color": "#DC143C",
          "width": 3
         },
         "marker": {
          "size": 8
         },
         "mode": "lines+markers",
         "name": "Average Price",
         "type": "scatter",
         "x": [
          "2020-01-01T00:00:00.000000000",
          "2020-02-01T00:00:00.000000000",
          "2020-03-01T00:00:00.000000000",
          "2020-04-01T00:00:00.000000000",
          "2020-05-01T00:00:00.000000000",
          "2020-06-01T00:00:00.000000000",
          "2020-07-01T00:00:00.000000000",
          "2020-08-01T00:00:00.000000000",
          "2020-09-01T00:00:00.000000000",
          "2020-10-01T00:00:00.000000000",
          "2020-11-01T00:00:00.000000000",
          "2020-12-01T00:00:00.000000000",
          "2021-01-01T00:00:00.000000000",
          "2021-02-01T00:00:00.000000000",
          "2021-03-01T00:00:00.000000000",
          "2021-04-01T00:00:00.000000000",
          "2021-05-01T00:00:00.000000000",
          "2021-06-01T00:00:00.000000000",
          "2021-07-01T00:00:00.000000000",
          "2021-08-01T00:00:00.000000000",
          "2021-09-01T00:00:00.000000000",
          "2021-10-01T00:00:00.000000000",
          "2021-11-01T00:00:00.000000000",
          "2021-12-01T00:00:00.000000000",
          "2022-01-01T00:00:00.000000000",
          "2022-02-01T00:00:00.000000000",
          "2022-03-01T00:00:00.000000000",
          "2022-04-01T00:00:00.000000000",
          "2022-05-01T00:00:00.000000000",
          "2022-06-01T00:00:00.000000000",
          "2022-07-01T00:00:00.000000000",
          "2022-08-01T00:00:00.000000000",
          "2022-09-01T00:00:00.000000000",
          "2022-10-01T00:00:00.000000000",
          "2022-11-01T00:00:00.000000000",
          "2022-12-01T00:00:00.000000000",
          "2023-01-01T00:00:00.000000000",
          "2023-02-01T00:00:00.000000000",
          "2023-03-01T00:00:00.000000000",
          "2023-04-01T00:00:00.000000000",
          "2023-05-01T00:00:00.000000000",
          "2023-06-01T00:00:00.000000000",
          "2023-07-01T00:00:00.000000000",
          "2023-08-01T00:00:00.000000000",
          "2023-09-01T00:00:00.000000000",
          "2023-10-01T00:00:00.000000000",
          "2023-11-01T00:00:00.000000000",
          "2023-12-01T00:00:00.000000000",
          "2024-01-01T00:00:00.000000000",
          "2024-02-01T00:00:00.000000000",
          "2024-03-01T00:00:00.000000000",
          "2024-04-01T00:00:00.000000000",
          "2024-05-01T00:00:00.000000000",
          "2024-06-01T00:00:00.000000000",
          "2024-07-01T00:00:00.000000000",
          "2024-08-01T00:00:00.000000000",
          "2024-09-01T00:00:00.000000000",
          "2024-10-01T00:00:00.000000000",
          "2024-11-01T00:00:00.000000000",
          "2024-12-01T00:00:00.000000000",
          "2025-01-01T00:00:00.000000000"
         ],
         "y": {
          "bdata": "XI/C9Si8SUCF61G4HpVIQMzMzMzMjEZACtejcD26QkA+CtejcC1EQFK4HoXrUUZASOF6FK7XR0A+CtejcB1IQK5H4XoUfkdApHA9CtdTR0CuR+F6FO5FQKRwPQrXM0ZAXI/C9SgMR0BmZmZmZrZHQHsUrkfh6khArkfhehTOSEC4HoXrUUhJQClcj8L1CEpAKVyPwvV4S0B6FK5H4QpMQClcj8L1KExA9ihcj8IlTkDWo3A9CvdOQML1KFyPQk1A7FG4HoV7TkDXo3A9CgdQQIXrUbge9VFAHoXrUbgGUkAAAAAAAABTQFyPwvUobFRAehSuR+EyU0DsUbgehdtRQI/C9ShcT1FAPgrXo3DFUEA+CtejcM1QQB6F61G47k9A16NwPQp3UEAzMzMzM1NQQI/C9Shcv09ASOF6FK5XUEBSuB6F6yFPQI/C9ShcX09Aj8L1KFzPT0BI4XoUrkdRQEjhehSuF1JAw/UoXI8aUUCkcD0K15tQQML1KFyPIlBAzczMzMxEUEDD9Shcj/JQQLgehetRAFFAzczMzMy0UUCamZmZmTlRQDMzMzMz41BA7FG4HoVjUUCF61G4HgVQQD4K16Nw7U5A61G4HoWbTkBmZmZmZuZOQML1KFyPUk9AZmZmZmY+UEA=",
          "dtype": "f8"
         }
        },
        {
         "hovertemplate": "<b>%{x|%b %Y}</b><br>Regression: %{y:.2f} pesos<extra></extra>",
         "line": {
          "color": "gray",
          "dash": "dot",
          "width": 2
         },
         "mode": "lines",
         "name": "Regression Line (R² = 0.53)",
         "type": "scatter",
         "x": [
          "2020-01-01T00:00:00.000000000",
          "2020-02-01T00:00:00.000000000",
          "2020-03-01T00:00:00.000000000",
          "2020-04-01T00:00:00.000000000",
          "2020-05-01T00:00:00.000000000",
          "2020-06-01T00:00:00.000000000",
          "2020-07-01T00:00:00.000000000",
          "2020-08-01T00:00:00.000000000",
          "2020-09-01T00:00:00.000000000",
          "2020-10-01T00:00:00.000000000",
          "2020-11-01T00:00:00.000000000",
          "2020-12-01T00:00:00.000000000",
          "2021-01-01T00:00:00.000000000",
          "2021-02-01T00:00:00.000000000",
          "2021-03-01T00:00:00.000000000",
          "2021-04-01T00:00:00.000000000",
          "2021-05-01T00:00:00.000000000",
          "2021-06-01T00:00:00.000000000",
          "2021-07-01T00:00:00.000000000",
          "2021-08-01T00:00:00.000000000",
          "2021-09-01T00:00:00.000000000",
          "2021-10-01T00:00:00.000000000",
          "2021-11-01T00:00:00.000000000",
          "2021-12-01T00:00:00.000000000",
          "2022-01-01T00:00:00.000000000",
          "2022-02-01T00:00:00.000000000",
          "2022-03-01T00:00:00.000000000",
          "2022-04-01T00:00:00.000000000",
          "2022-05-01T00:00:00.000000000",
          "2022-06-01T00:00:00.000000000",
          "2022-07-01T00:00:00.000000000",
          "2022-08-01T00:00:00.000000000",
          "2022-09-01T00:00:00.000000000",
          "2022-10-01T00:00:00.000000000",
          "2022-11-01T00:00:00.000000000",
          "2022-12-01T00:00:00.000000000",
          "2023-01-01T00:00:00.000000000",
          "2023-02-01T00:00:00.000000000",
          "2023-03-01T00:00:00.000000000",
          "2023-04-01T00:00:00.000000000",
          "2023-05-01T00:00:00.000000000",
          "2023-06-01T00:00:00.000000000",
          "2023-07-01T00:00:00.000000000",
          "2023-08-01T00:00:00.000000000",
          "2023-09-01T00:00:00.000000000",
          "2023-10-01T00:00:00.000000000",
          "2023-11-01T00:00:00.000000000",
          "2023-12-01T00:00:00.000000000",
          "2024-01-01T00:00:00.000000000",
          "2024-02-01T00:00:00.000000000",
          "2024-03-01T00:00:00.000000000",
          "2024-04-01T00:00:00.000000000",
          "2024-05-01T00:00:00.000000000",
          "2024-06-01T00:00:00.000000000",
          "2024-07-01T00:00:00.000000000",
          "2024-08-01T00:00:00.000000000",
          "2024-09-01T00:00:00.000000000",
          "2024-10-01T00:00:00.000000000",
          "2024-11-01T00:00:00.000000000",
          "2024-12-01T00:00:00.000000000",
          "2025-01-01T00:00:00.000000000"
         ],
         "y": {
          "bdata": "QCny+7LmR0BA8ZLh2BxIQBikUnaAT0hAGGzzW6aFSECEqSMZDbpIQIRxxP4y8EhA8K70u5kkSUDwdpWhv1pJQPA+NoflkElAXHxmREzFSUBcRAcqcvtJQMiBN+fYL0pAzEnYzP5lSkDMEXmyJJxKQBA6yB4NzUpAEAJpBDMDS0B8P5nBmTdLQHwHOqe/bUtA5ERqZCaiS0DsDAtKTNhLQOzUqy9yDkxAVBLc7NhCTEBU2nzS/nhMQMQXrY9lrUxAxN9NdYvjTEDEp+5asRlNQATQPceZSk1ABJjerL+ATUB01Q5qJrVNQHSdr09M601A3NrfDLMfTkDcooDy2FVOQORqIdj+i05ATKhRlWXATkBMcPJ6i/ZOQLytIjjyKk9AvHXDHRhhT0C8PWQDPpdPQPxls28myE9A/C1UVUz+T0C2NUKJWRlQQLaZEnxsNFBAariq2p9OUEBqHHvNsmlQQG6AS8DFhFBAIp/jHvmeUEAiA7QRDLpQQNohTHA/1FBA2oUcY1LvUEDa6exVZQpRQEbDTCC5I1FARicdE8w+UUD6RbVx/1hRQPqphWQSdFFAssgdw0WOUUCyLO61WKlRQLKQvqhrxFFAaq9WB5/eUUBqEyf6sflRQB4yv1jlE1JAHpaPS/guUkA=",
          "dtype": "f8"
         }
        },
        {
         "marker": {
          "color": "rgba(255, 165, 0, 0.2)",
          "size": 15
         },
         "mode": "markers",
         "name": "Dry Season (Dec-May)",
         "type": "scatter",
         "x": [
          null
         ],
         "y": [
          null
         ]
        },
        {
         "marker": {
          "color": "rgba(0, 191, 255, 0.2)",
          "size": 15
         },
         "mode": "markers",
         "name": "Wet Season (Jun-Nov)",
         "type": "scatter",
         "x": [
          null
         ],
         "y": [
          null
         ]
        }
       ],
       "layout": {
        "hovermode": "x unified",
        "legend": {
         "orientation": "h",
         "x": 1,
         "xanchor": "right",
         "y": 1.02,
         "yanchor": "bottom"
        },
        "margin": {
         "t": 100
        },
        "paper_bgcolor": "white",
        "plot_bgcolor": "#FAFAFA",
        "shapes": [
         {
          "fillcolor": "rgba(255, 165, 0, 0.2)",
          "layer": "below",
          "line": {
           "width": 0
          },
          "type": "rect",
          "x0": "2020-01-01T00:00:00",
          "x1": "2020-06-01T00:00:00",
          "xref": "x",
          "y0": 0,
          "y1": 1,
          "yref": "y domain"
         },
         {
          "fillcolor": "rgba(0, 191, 255, 0.2)",
          "layer": "below",
          "line": {
           "width": 0
          },
          "type": "rect",
          "x0": "2020-01-01T00:00:00",
          "x1": "2019-12-01T00:00:00",
          "xref": "x",
          "y0": 0,
          "y1": 1,
          "yref": "y domain"
         },
         {
          "fillcolor": "rgba(255, 165, 0, 0.2)",
          "layer": "below",
          "line": {
           "width": 0
          },
          "type": "rect",
          "x0": "2020-12-01T00:00:00",
          "x1": "2021-06-01T00:00:00",
          "xref": "x",
          "y0": 0,
          "y1": 1,
          "yref": "y domain"
         },
         {
          "fillcolor": "rgba(0, 191, 255, 0.2)",
          "layer": "below",
          "line": {
           "width": 0
          },
          "type": "rect",
          "x0": "2020-06-01T00:00:00",
          "x1": "2020-12-01T00:00:00",
          "xref": "x",
          "y0": 0,
          "y1": 1,
          "yref": "y domain"
         },
         {
          "fillcolor": "rgba(255, 165, 0, 0.2)",
          "layer": "below",
          "line": {
           "width": 0
          },
          "type": "rect",
          "x0": "2021-12-01T00:00:00",
          "x1": "2022-06-01T00:00:00",
          "xref": "x",
          "y0": 0,
          "y1": 1,
          "yref": "y domain"
         },
         {
          "fillcolor": "rgba(0, 191, 255, 0.2)",
          "layer": "below",
          "line": {
           "width": 0
          },
          "type": "rect",
          "x0": "2021-06-01T00:00:00",
          "x1": "2021-12-01T00:00:00",
          "xref": "x",
          "y0": 0,
          "y1": 1,
          "yref": "y domain"
         },
         {
          "fillcolor": "rgba(255, 165, 0, 0.2)",
          "layer": "below",
          "line": {
           "width": 0
          },
          "type": "rect",
          "x0": "2022-12-01T00:00:00",
          "x1": "2023-06-01T00:00:00",
          "xref": "x",
          "y0": 0,
          "y1": 1,
          "yref": "y domain"
         },
         {
          "fillcolor": "rgba(0, 191, 255, 0.2)",
          "layer": "below",
          "line": {
           "width": 0
          },
          "type": "rect",
          "x0": "2022-06-01T00:00:00",
          "x1": "2022-12-01T00:00:00",
          "xref": "x",
          "y0": 0,
          "y1": 1,
          "yref": "y domain"
         },
         {
          "fillcolor": "rgba(255, 165, 0, 0.2)",
          "layer": "below",
          "line": {
           "width": 0
          },
          "type": "rect",
          "x0": "2023-12-01T00:00:00",
          "x1": "2024-06-01T00:00:00",
          "xref": "x",
          "y0": 0,
          "y1": 1,
          "yref": "y domain"
         },
         {
          "fillcolor": "rgba(0, 191, 255, 0.2)",
          "layer": "below",
          "line": {
           "width": 0
          },
          "type": "rect",
          "x0": "2023-06-01T00:00:00",
          "x1": "2023-12-01T00:00:00",
          "xref": "x",
          "y0": 0,
          "y1": 1,
          "yref": "y domain"
         },
         {
          "fillcolor": "rgba(255, 165, 0, 0.2)",
          "layer": "below",
          "line": {
           "width": 0
          },
          "type": "rect",
          "x0": "2024-12-01T00:00:00",
          "x1": "2024-12-31T00:00:00",
          "xref": "x",
          "y0": 0,
          "y1": 1,
          "yref": "y domain"
         },
         {
          "fillcolor": "rgba(0, 191, 255, 0.2)",
          "layer": "below",
          "line": {
           "width": 0
          },
          "type": "rect",
          "x0": "2024-06-01T00:00:00",
          "x1": "2024-12-01T00:00:00",
          "xref": "x",
          "y0": 0,
          "y1": 1,
          "yref": "y domain"
         }
        ],
        "template": {
         "data": {
          "bar": [
           {
            "error_x": {
             "color": "#2a3f5f"
            },
            "error_y": {
             "color": "#2a3f5f"
            },
            "marker": {
             "line": {
              "color": "#E5ECF6",
              "width": 0.5
             },
             "pattern": {
              "fillmode": "overlay",
              "size": 10,
              "solidity": 0.2
             }
            },
            "type": "bar"
           }
          ],
          "barpolar": [
           {
            "marker": {
             "line": {
              "color": "#E5ECF6",
              "width": 0.5
             },
             "pattern": {
              "fillmode": "overlay",
              "size": 10,
              "solidity": 0.2
             }
            },
            "type": "barpolar"
           }
          ],
          "carpet": [
           {
            "aaxis": {
             "endlinecolor": "#2a3f5f",
             "gridcolor": "white",
             "linecolor": "white",
             "minorgridcolor": "white",
             "startlinecolor": "#2a3f5f"
            },
            "baxis": {
             "endlinecolor": "#2a3f5f",
             "gridcolor": "white",
             "linecolor": "white",
             "minorgridcolor": "white",
             "startlinecolor": "#2a3f5f"
            },
            "type": "carpet"
           }
          ],
          "choropleth": [
           {
            "colorbar": {
             "outlinewidth": 0,
             "ticks": ""
            },
            "type": "choropleth"
           }
          ],
          "contour": [
           {
            "colorbar": {
             "outlinewidth": 0,
             "ticks": ""
            },
            "colorscale": [
             [
              0,
              "#0d0887"
             ],
             [
              0.1111111111111111,
              "#46039f"
             ],
             [
              0.2222222222222222,
              "#7201a8"
             ],
             [
              0.3333333333333333,
              "#9c179e"
             ],
             [
              0.4444444444444444,
              "#bd3786"
             ],
             [
              0.5555555555555556,
              "#d8576b"
             ],
             [
              0.6666666666666666,
              "#ed7953"
             ],
             [
              0.7777777777777778,
              "#fb9f3a"
             ],
             [
              0.8888888888888888,
              "#fdca26"
             ],
             [
              1,
              "#f0f921"
             ]
            ],
            "type": "contour"
           }
          ],
          "contourcarpet": [
           {
            "colorbar": {
             "outlinewidth": 0,
             "ticks": ""
            },
            "type": "contourcarpet"
           }
          ],
          "heatmap": [
           {
            "colorbar": {
             "outlinewidth": 0,
             "ticks": ""
            },
            "colorscale": [
             [
              0,
              "#0d0887"
             ],
             [
              0.1111111111111111,
              "#46039f"
             ],
             [
              0.2222222222222222,
              "#7201a8"
             ],
             [
              0.3333333333333333,
              "#9c179e"
             ],
             [
              0.4444444444444444,
              "#bd3786"
             ],
             [
              0.5555555555555556,
              "#d8576b"
             ],
             [
              0.6666666666666666,
              "#ed7953"
             ],
             [
              0.7777777777777778,
              "#fb9f3a"
             ],
             [
              0.8888888888888888,
              "#fdca26"
             ],
             [
              1,
              "#f0f921"
             ]
            ],
            "type": "heatmap"
           }
          ],
          "histogram": [
           {
            "marker": {
             "pattern": {
              "fillmode": "overlay",
              "size": 10,
              "solidity": 0.2
             }
            },
            "type": "histogram"
           }
          ],
          "histogram2d": [
           {
            "colorbar": {
             "outlinewidth": 0,
             "ticks": ""
            },
            "colorscale": [
             [
              0,
              "#0d0887"
             ],
             [
              0.1111111111111111,
              "#46039f"
             ],
             [
              0.2222222222222222,
              "#7201a8"
             ],
             [
              0.3333333333333333,
              "#9c179e"
             ],
             [
              0.4444444444444444,
              "#bd3786"
             ],
             [
              0.5555555555555556,
              "#d8576b"
             ],
             [
              0.6666666666666666,
              "#ed7953"
             ],
             [
              0.7777777777777778,
              "#fb9f3a"
             ],
             [
              0.8888888888888888,
              "#fdca26"
             ],
             [
              1,
              "#f0f921"
             ]
            ],
            "type": "histogram2d"
           }
          ],
          "histogram2dcontour": [
           {
            "colorbar": {
             "outlinewidth": 0,
             "ticks": ""
            },
            "colorscale": [
             [
              0,
              "#0d0887"
             ],
             [
              0.1111111111111111,
              "#46039f"
             ],
             [
              0.2222222222222222,
              "#7201a8"
             ],
             [
              0.3333333333333333,
              "#9c179e"
             ],
             [
              0.4444444444444444,
              "#bd3786"
             ],
             [
              0.5555555555555556,
              "#d8576b"
             ],
             [
              0.6666666666666666,
              "#ed7953"
             ],
             [
              0.7777777777777778,
              "#fb9f3a"
             ],
             [
              0.8888888888888888,
              "#fdca26"
             ],
             [
              1,
              "#f0f921"
             ]
            ],
            "type": "histogram2dcontour"
           }
          ],
          "mesh3d": [
           {
            "colorbar": {
             "outlinewidth": 0,
             "ticks": ""
            },
            "type": "mesh3d"
           }
          ],
          "parcoords": [
           {
            "line": {
             "colorbar": {
              "outlinewidth": 0,
              "ticks": ""
             }
            },
            "type": "parcoords"
           }
          ],
          "pie": [
           {
            "automargin": true,
            "type": "pie"
           }
          ],
          "scatter": [
           {
            "fillpattern": {
             "fillmode": "overlay",
             "size": 10,
             "solidity": 0.2
            },
            "type": "scatter"
           }
          ],
          "scatter3d": [
           {
            "line": {
             "colorbar": {
              "outlinewidth": 0,
              "ticks": ""
             }
            },
            "marker": {
             "colorbar": {
              "outlinewidth": 0,
              "ticks": ""
             }
            },
            "type": "scatter3d"
           }
          ],
          "scattercarpet": [
           {
            "marker": {
             "colorbar": {
              "outlinewidth": 0,
              "ticks": ""
             }
            },
            "type": "scattercarpet"
           }
          ],
          "scattergeo": [
           {
            "marker": {
             "colorbar": {
              "outlinewidth": 0,
              "ticks": ""
             }
            },
            "type": "scattergeo"
           }
          ],
          "scattergl": [
           {
            "marker": {
             "colorbar": {
              "outlinewidth": 0,
              "ticks": ""
             }
            },
            "type": "scattergl"
           }
          ],
          "scattermap": [
           {
            "marker": {
             "colorbar": {
              "outlinewidth": 0,
              "ticks": ""
             }
            },
            "type": "scattermap"
           }
          ],
          "scattermapbox": [
           {
            "marker": {
             "colorbar": {
              "outlinewidth": 0,
              "ticks": ""
             }
            },
            "type": "scattermapbox"
           }
          ],
          "scatterpolar": [
           {
            "marker": {
             "colorbar": {
              "outlinewidth": 0,
              "ticks": ""
             }
            },
            "type": "scatterpolar"
           }
          ],
          "scatterpolargl": [
           {
            "marker": {
             "colorbar": {
              "outlinewidth": 0,
              "ticks": ""
             }
            },
            "type": "scatterpolargl"
           }
          ],
          "scatterternary": [
           {
            "marker": {
             "colorbar": {
              "outlinewidth": 0,
              "ticks": ""
             }
            },
            "type": "scatterternary"
           }
          ],
          "surface": [
           {
            "colorbar": {
             "outlinewidth": 0,
             "ticks": ""
            },
            "colorscale": [
             [
              0,
              "#0d0887"
             ],
             [
              0.1111111111111111,
              "#46039f"
             ],
             [
              0.2222222222222222,
              "#7201a8"
             ],
             [
              0.3333333333333333,
              "#9c179e"
             ],
             [
              0.4444444444444444,
              "#bd3786"
             ],
             [
              0.5555555555555556,
              "#d8576b"
             ],
             [
              0.6666666666666666,
              "#ed7953"
             ],
             [
              0.7777777777777778,
              "#fb9f3a"
             ],
             [
              0.8888888888888888,
              "#fdca26"
             ],
             [
              1,
              "#f0f921"
             ]
            ],
            "type": "surface"
           }
          ],
          "table": [
           {
            "cells": {
             "fill": {
              "color": "#EBF0F8"
             },
             "line": {
              "color": "white"
             }
            },
            "header": {
             "fill": {
              "color": "#C8D4E3"
             },
             "line": {
              "color": "white"
             }
            },
            "type": "table"
           }
          ]
         },
         "layout": {
          "annotationdefaults": {
           "arrowcolor": "#2a3f5f",
           "arrowhead": 0,
           "arrowwidth": 1
          },
          "autotypenumbers": "strict",
          "coloraxis": {
           "colorbar": {
            "outlinewidth": 0,
            "ticks": ""
           }
          },
          "colorscale": {
           "diverging": [
            [
             0,
             "#8e0152"
            ],
            [
             0.1,
             "#c51b7d"
            ],
            [
             0.2,
             "#de77ae"
            ],
            [
             0.3,
             "#f1b6da"
            ],
            [
             0.4,
             "#fde0ef"
            ],
            [
             0.5,
             "#f7f7f7"
            ],
            [
             0.6,
             "#e6f5d0"
            ],
            [
             0.7,
             "#b8e186"
            ],
            [
             0.8,
             "#7fbc41"
            ],
            [
             0.9,
             "#4d9221"
            ],
            [
             1,
             "#276419"
            ]
           ],
           "sequential": [
            [
             0,
             "#0d0887"
            ],
            [
             0.1111111111111111,
             "#46039f"
            ],
            [
             0.2222222222222222,
             "#7201a8"
            ],
            [
             0.3333333333333333,
             "#9c179e"
            ],
            [
             0.4444444444444444,
             "#bd3786"
            ],
            [
             0.5555555555555556,
             "#d8576b"
            ],
            [
             0.6666666666666666,
             "#ed7953"
            ],
            [
             0.7777777777777778,
             "#fb9f3a"
            ],
            [
             0.8888888888888888,
             "#fdca26"
            ],
            [
             1,
             "#f0f921"
            ]
           ],
           "sequentialminus": [
            [
             0,
             "#0d0887"
            ],
            [
             0.1111111111111111,
             "#46039f"
            ],
            [
             0.2222222222222222,
             "#7201a8"
            ],
            [
             0.3333333333333333,
             "#9c179e"
            ],
            [
             0.4444444444444444,
             "#bd3786"
            ],
            [
             0.5555555555555556,
             "#d8576b"
            ],
            [
             0.6666666666666666,
             "#ed7953"
            ],
            [
             0.7777777777777778,
             "#fb9f3a"
            ],
            [
             0.8888888888888888,
             "#fdca26"
            ],
            [
             1,
             "#f0f921"
            ]
           ]
          },
          "colorway": [
           "#636efa",
           "#EF553B",
           "#00cc96",
           "#ab63fa",
           "#FFA15A",
           "#19d3f3",
           "#FF6692",
           "#B6E880",
           "#FF97FF",
           "#FECB52"
          ],
          "font": {
           "color": "#2a3f5f"
          },
          "geo": {
           "bgcolor": "white",
           "lakecolor": "white",
           "landcolor": "#E5ECF6",
           "showlakes": true,
           "showland": true,
           "subunitcolor": "white"
          },
          "hoverlabel": {
           "align": "left"
          },
          "hovermode": "closest",
          "mapbox": {
           "style": "light"
          },
          "paper_bgcolor": "white",
          "plot_bgcolor": "#E5ECF6",
          "polar": {
           "angularaxis": {
            "gridcolor": "white",
            "linecolor": "white",
            "ticks": ""
           },
           "bgcolor": "#E5ECF6",
           "radialaxis": {
            "gridcolor": "white",
            "linecolor": "white",
            "ticks": ""
           }
          },
          "scene": {
           "xaxis": {
            "backgroundcolor": "#E5ECF6",
            "gridcolor": "white",
            "gridwidth": 2,
            "linecolor": "white",
            "showbackground": true,
            "ticks": "",
            "zerolinecolor": "white"
           },
           "yaxis": {
            "backgroundcolor": "#E5ECF6",
            "gridcolor": "white",
            "gridwidth": 2,
            "linecolor": "white",
            "showbackground": true,
            "ticks": "",
            "zerolinecolor": "white"
           },
           "zaxis": {
            "backgroundcolor": "#E5ECF6",
            "gridcolor": "white",
            "gridwidth": 2,
            "linecolor": "white",
            "showbackground": true,
            "ticks": "",
            "zerolinecolor": "white"
           }
          },
          "shapedefaults": {
           "line": {
            "color": "#2a3f5f"
           }
          },
          "ternary": {
           "aaxis": {
            "gridcolor": "white",
            "linecolor": "white",
            "ticks": ""
           },
           "baxis": {
            "gridcolor": "white",
            "linecolor": "white",
            "ticks": ""
           },
           "bgcolor": "#E5ECF6",
           "caxis": {
            "gridcolor": "white",
            "linecolor": "white",
            "ticks": ""
           }
          },
          "title": {
           "x": 0.05
          },
          "xaxis": {
           "automargin": true,
           "gridcolor": "white",
           "linecolor": "white",
           "ticks": "",
           "title": {
            "standoff": 15
           },
           "zerolinecolor": "white",
           "zerolinewidth": 2
          },
          "yaxis": {
           "automargin": true,
           "gridcolor": "white",
           "linecolor": "white",
           "ticks": "",
           "title": {
            "standoff": 15
           },
           "zerolinecolor": "white",
           "zerolinewidth": 2
          }
         }
        },
        "title": {
         "font": {
          "color": "#333333",
          "size": 18
         },
         "text": "<b>Cost per Liter for Gasoline (RON95) Monthly Price Trends (2020-2024)</b>",
         "x": 0.5,
         "xanchor": "center",
         "y": 0.95
        },
        "xaxis": {
         "dtick": "M12",
         "gridcolor": "rgba(0,0,0,0.2)",
         "range": [
          "2020-01-01",
          "2024-12-31"
         ],
         "showgrid": true,
         "tickformat": "%Y",
         "title": {
          "text": "Date"
         }
        },
        "yaxis": {
         "gridcolor": "rgba(0,0,0,0.2)",
         "showgrid": true,
         "title": {
          "text": "Cost (pesos)"
         }
        }
       }
      }
     },
     "metadata": {},
     "output_type": "display_data"
    }
   ],
   "source": [
    "price_line_color = '#DC143C'                  # Crimson\n",
    "price_range_color = 'rgba(158, 27, 50, 0.5)'  # Dark Red with transparency\n",
    "\n",
    "fig = go.Figure()\n",
    "\n",
    "# Add seasonal background shapes first (so they appear behind the data)\n",
    "for year in range(2019, 2025):\n",
    "    # Dry season (Dec-May)\n",
    "    fig.add_vrect(\n",
    "        x0=max(datetime(year, 12, 1), datetime(2020, 1, 1)),\n",
    "        x1=min(datetime(year+1, 6, 1), datetime(2024, 12, 31)),\n",
    "        fillcolor=dry_season_color,\n",
    "        layer=\"below\",\n",
    "        line_width=0\n",
    "    )\n",
    "    \n",
    "    # Wet season (Jun-Nov)\n",
    "    fig.add_vrect(\n",
    "        x0=max(datetime(year, 6, 1), datetime(2020, 1, 1)),\n",
    "        x1=min(datetime(year, 12, 1), datetime(2024, 12, 31)),\n",
    "        fillcolor=wet_season_color,\n",
    "        layer=\"below\",\n",
    "        line_width=0\n",
    "    )\n",
    "\n",
    "# Add price range (fill between)\n",
    "fig.add_trace(go.Scatter(\n",
    "    x=ron95_data['Date'],\n",
    "    y=ron95_data['Overall Range Max'],\n",
    "    fill=None,\n",
    "    mode='lines',\n",
    "    line=dict(width=0),\n",
    "    showlegend=False,\n",
    "    hoverinfo='skip'\n",
    "))\n",
    "\n",
    "fig.add_trace(go.Scatter(\n",
    "    x=ron95_data['Date'],\n",
    "    y=ron95_data['Overall Range Min'],\n",
    "    fill='tonexty',\n",
    "    mode='lines',\n",
    "    fillcolor=price_range_color,\n",
    "    line=dict(width=0),\n",
    "    name='Price Range',\n",
    "    hovertemplate=\"<b>%{x|%b %Y}</b><br>Range: %{y:.2f}–%{text} pesos<extra></extra>\",\n",
    "    text=ron95_data['Overall Range Max'].round(2)\n",
    "))\n",
    "\n",
    "# Add average price line\n",
    "fig.add_trace(go.Scatter(\n",
    "    x=ron95_data['Date'],\n",
    "    y=ron95_data['Average Price'],\n",
    "    mode='lines+markers',\n",
    "    line=dict(color=price_line_color, width=3),\n",
    "    marker=dict(size=8),\n",
    "    name='Average Price',\n",
    "    hovertemplate=\"<b>%{x|%b %Y}</b><br>Avg: %{y:.2f} pesos<extra></extra>\"\n",
    "))\n",
    "\n",
    "# Calculate and add the regression line\n",
    "x = (ron95_data['Date'].astype(np.int64) // 10**9)  # Convert datetime to timestamp (seconds since epoch)\n",
    "y = ron95_data['Average Price']\n",
    "slope, intercept, r_value, p_value, std_err = linregress(x, y)\n",
    "regression_line = slope * x + intercept\n",
    "\n",
    "fig.add_trace(go.Scatter(\n",
    "    x=ron95_data['Date'],\n",
    "    y=regression_line,\n",
    "    mode='lines',\n",
    "    line=dict(color='gray', dash='dot', width=2),\n",
    "    name=f'Regression Line (R² = {r_value**2:.2f})',\n",
    "    hovertemplate=\"<b>%{x|%b %Y}</b><br>Regression: %{y:.2f} pesos<extra></extra>\"\n",
    "))\n",
    "\n",
    "# Layout customization\n",
    "fig.update_layout(\n",
    "    title={\n",
    "        'text': \"<b>Cost per Liter for Gasoline (RON95) Monthly Price Trends (2020-2024)</b>\",\n",
    "        'y':0.95,\n",
    "        'x':0.5,\n",
    "        'xanchor': 'center',\n",
    "        'font': dict(size=18, color='#333333')\n",
    "    },\n",
    "    xaxis=dict(\n",
    "        title=\"Date\",\n",
    "        range=['2020-01-01', '2024-12-31'],\n",
    "        tickformat=\"%Y\",\n",
    "        dtick=\"M12\",  # Yearly ticks\n",
    "        showgrid=True,\n",
    "        gridcolor='rgba(0,0,0,0.2)',\n",
    "    ),\n",
    "    yaxis=dict(\n",
    "        title=\"Cost (pesos)\",\n",
    "        showgrid=True,\n",
    "        gridcolor='rgba(0,0,0,0.2)',\n",
    "    ),\n",
    "    legend=dict(\n",
    "        orientation=\"h\",\n",
    "        yanchor=\"bottom\",\n",
    "        y=1.02,\n",
    "        xanchor=\"right\",\n",
    "        x=1\n",
    "    ),\n",
    "    plot_bgcolor='#FAFAFA',\n",
    "    paper_bgcolor='white',\n",
    "    hovermode=\"x unified\",\n",
    "    margin=dict(t=100)\n",
    ")\n",
    "\n",
    "# Custom legend for seasons (requires adding dummy traces)\n",
    "fig.add_trace(go.Scatter(\n",
    "    x=[None],\n",
    "    y=[None],\n",
    "    mode='markers',\n",
    "    marker=dict(size=15, color=dry_season_color),\n",
    "    name='Dry Season (Dec-May)'\n",
    "))\n",
    "\n",
    "fig.add_trace(go.Scatter(\n",
    "    x=[None],\n",
    "    y=[None],\n",
    "    mode='markers',\n",
    "    marker=dict(size=15, color=wet_season_color),\n",
    "    name='Wet Season (Jun-Nov)'\n",
    "))\n",
    "\n",
    "fig.show()\n",
    "\n",
    "# Save as HTML\n",
    "fig.write_html(\"graphs/gasoline_price_trends.html\")\n",
    "\n",
    "\n",
    "def plot_gasoline_boxplot() -> None:\n",
    "    # Prepare data\n",
    "    ron95_data['Year'] = ron95_data['Date'].dt.year\n",
    "    fig = go.Figure()\n",
    "    \n",
    "    # Grouped boxplot by year\n",
    "    for year, group in ron95_data.groupby('Year'):\n",
    "        fig.add_trace(go.Box(\n",
    "            y=group['Average Price'],\n",
    "            name=str(year),\n",
    "            boxpoints='all',  # Show individual points\n",
    "            jitter=0.4,\n",
    "            pointpos=0,\n",
    "            fillcolor='rgba(220, 20, 60, 0.3)',  # Soft crimson fill\n",
    "            marker_color=price_line_color,\n",
    "            line=dict(width=1),\n",
    "            marker=dict(size=5)\n",
    "        ))\n",
    "\n",
    "    # Layout styling\n",
    "    fig.update_layout(\n",
    "        title={\n",
    "            'text': \"<b>Distribution of Monthly Gasoline Prices per Liter (RON95) per Year (2020–2024)</b>\",\n",
    "            'y': 0.95,\n",
    "            'x': 0.5,\n",
    "            'xanchor': 'center',\n",
    "            'font': dict(size=18, color='#333333')\n",
    "        },\n",
    "        xaxis=dict(\n",
    "            title=\"Year\",\n",
    "            showgrid=True,\n",
    "            gridcolor='rgba(0,0,0,0.2)'\n",
    "        ),\n",
    "        yaxis=dict(\n",
    "            title=\"Cost (pesos per liter)\",\n",
    "            showgrid=True,\n",
    "            gridcolor='rgba(0,0,0,0.2)'\n",
    "        ),\n",
    "        plot_bgcolor='#FAFAFA',\n",
    "        paper_bgcolor='white',\n",
    "        hovermode=\"x unified\",\n",
    "        legend=dict(\n",
    "            orientation=\"h\",\n",
    "            yanchor=\"bottom\",\n",
    "            y=1.02,\n",
    "            xanchor=\"right\",\n",
    "            x=1\n",
    "        ),\n",
    "        margin=dict(t=100)\n",
    "    )\n",
    "\n",
    "    fig.show()\n",
    "\n",
    "    # Optional: Save\n",
    "    fig.write_html(\"graphs/gasoline_price_boxplot.html\")"
   ]
  },
  {
   "cell_type": "code",
   "execution_count": 528,
   "id": "8b68d88e",
   "metadata": {},
   "outputs": [
    {
     "data": {
      "application/vnd.plotly.v1+json": {
       "config": {
        "plotlyServerURL": "https://plot.ly"
       },
       "data": [
        {
         "boxpoints": "all",
         "fillcolor": "rgba(220, 20, 60, 0.3)",
         "jitter": 0.4,
         "line": {
          "width": 1
         },
         "marker": {
          "color": "#DC143C",
          "size": 5
         },
         "name": "2020",
         "pointpos": 0,
         "type": "box",
         "y": {
          "bdata": "XI/C9Si8SUCF61G4HpVIQMzMzMzMjEZACtejcD26QkA+CtejcC1EQFK4HoXrUUZASOF6FK7XR0A+CtejcB1IQK5H4XoUfkdApHA9CtdTR0CuR+F6FO5FQKRwPQrXM0ZA",
          "dtype": "f8"
         }
        },
        {
         "boxpoints": "all",
         "fillcolor": "rgba(220, 20, 60, 0.3)",
         "jitter": 0.4,
         "line": {
          "width": 1
         },
         "marker": {
          "color": "#DC143C",
          "size": 5
         },
         "name": "2021",
         "pointpos": 0,
         "type": "box",
         "y": {
          "bdata": "XI/C9SgMR0BmZmZmZrZHQHsUrkfh6khArkfhehTOSEC4HoXrUUhJQClcj8L1CEpAKVyPwvV4S0B6FK5H4QpMQClcj8L1KExA9ihcj8IlTkDWo3A9CvdOQML1KFyPQk1A",
          "dtype": "f8"
         }
        },
        {
         "boxpoints": "all",
         "fillcolor": "rgba(220, 20, 60, 0.3)",
         "jitter": 0.4,
         "line": {
          "width": 1
         },
         "marker": {
          "color": "#DC143C",
          "size": 5
         },
         "name": "2022",
         "pointpos": 0,
         "type": "box",
         "y": {
          "bdata": "7FG4HoV7TkDXo3A9CgdQQIXrUbge9VFAHoXrUbgGUkAAAAAAAABTQFyPwvUobFRAehSuR+EyU0DsUbgehdtRQI/C9ShcT1FAPgrXo3DFUEA+CtejcM1QQB6F61G47k9A",
          "dtype": "f8"
         }
        },
        {
         "boxpoints": "all",
         "fillcolor": "rgba(220, 20, 60, 0.3)",
         "jitter": 0.4,
         "line": {
          "width": 1
         },
         "marker": {
          "color": "#DC143C",
          "size": 5
         },
         "name": "2023",
         "pointpos": 0,
         "type": "box",
         "y": {
          "bdata": "16NwPQp3UEAzMzMzM1NQQI/C9Shcv09ASOF6FK5XUEBSuB6F6yFPQI/C9ShcX09Aj8L1KFzPT0BI4XoUrkdRQEjhehSuF1JAw/UoXI8aUUCkcD0K15tQQML1KFyPIlBA",
          "dtype": "f8"
         }
        },
        {
         "boxpoints": "all",
         "fillcolor": "rgba(220, 20, 60, 0.3)",
         "jitter": 0.4,
         "line": {
          "width": 1
         },
         "marker": {
          "color": "#DC143C",
          "size": 5
         },
         "name": "2024",
         "pointpos": 0,
         "type": "box",
         "y": {
          "bdata": "zczMzMxEUEDD9Shcj/JQQLgehetRAFFAzczMzMy0UUCamZmZmTlRQDMzMzMz41BA7FG4HoVjUUCF61G4HgVQQD4K16Nw7U5A61G4HoWbTkBmZmZmZuZOQML1KFyPUk9A",
          "dtype": "f8"
         }
        },
        {
         "boxpoints": "all",
         "fillcolor": "rgba(220, 20, 60, 0.3)",
         "jitter": 0.4,
         "line": {
          "width": 1
         },
         "marker": {
          "color": "#DC143C",
          "size": 5
         },
         "name": "2025",
         "pointpos": 0,
         "type": "box",
         "y": {
          "bdata": "ZmZmZmY+UEA=",
          "dtype": "f8"
         }
        }
       ],
       "layout": {
        "hovermode": "x unified",
        "legend": {
         "orientation": "h",
         "x": 1,
         "xanchor": "right",
         "y": 1.02,
         "yanchor": "bottom"
        },
        "margin": {
         "t": 100
        },
        "paper_bgcolor": "white",
        "plot_bgcolor": "#FAFAFA",
        "template": {
         "data": {
          "bar": [
           {
            "error_x": {
             "color": "#2a3f5f"
            },
            "error_y": {
             "color": "#2a3f5f"
            },
            "marker": {
             "line": {
              "color": "#E5ECF6",
              "width": 0.5
             },
             "pattern": {
              "fillmode": "overlay",
              "size": 10,
              "solidity": 0.2
             }
            },
            "type": "bar"
           }
          ],
          "barpolar": [
           {
            "marker": {
             "line": {
              "color": "#E5ECF6",
              "width": 0.5
             },
             "pattern": {
              "fillmode": "overlay",
              "size": 10,
              "solidity": 0.2
             }
            },
            "type": "barpolar"
           }
          ],
          "carpet": [
           {
            "aaxis": {
             "endlinecolor": "#2a3f5f",
             "gridcolor": "white",
             "linecolor": "white",
             "minorgridcolor": "white",
             "startlinecolor": "#2a3f5f"
            },
            "baxis": {
             "endlinecolor": "#2a3f5f",
             "gridcolor": "white",
             "linecolor": "white",
             "minorgridcolor": "white",
             "startlinecolor": "#2a3f5f"
            },
            "type": "carpet"
           }
          ],
          "choropleth": [
           {
            "colorbar": {
             "outlinewidth": 0,
             "ticks": ""
            },
            "type": "choropleth"
           }
          ],
          "contour": [
           {
            "colorbar": {
             "outlinewidth": 0,
             "ticks": ""
            },
            "colorscale": [
             [
              0,
              "#0d0887"
             ],
             [
              0.1111111111111111,
              "#46039f"
             ],
             [
              0.2222222222222222,
              "#7201a8"
             ],
             [
              0.3333333333333333,
              "#9c179e"
             ],
             [
              0.4444444444444444,
              "#bd3786"
             ],
             [
              0.5555555555555556,
              "#d8576b"
             ],
             [
              0.6666666666666666,
              "#ed7953"
             ],
             [
              0.7777777777777778,
              "#fb9f3a"
             ],
             [
              0.8888888888888888,
              "#fdca26"
             ],
             [
              1,
              "#f0f921"
             ]
            ],
            "type": "contour"
           }
          ],
          "contourcarpet": [
           {
            "colorbar": {
             "outlinewidth": 0,
             "ticks": ""
            },
            "type": "contourcarpet"
           }
          ],
          "heatmap": [
           {
            "colorbar": {
             "outlinewidth": 0,
             "ticks": ""
            },
            "colorscale": [
             [
              0,
              "#0d0887"
             ],
             [
              0.1111111111111111,
              "#46039f"
             ],
             [
              0.2222222222222222,
              "#7201a8"
             ],
             [
              0.3333333333333333,
              "#9c179e"
             ],
             [
              0.4444444444444444,
              "#bd3786"
             ],
             [
              0.5555555555555556,
              "#d8576b"
             ],
             [
              0.6666666666666666,
              "#ed7953"
             ],
             [
              0.7777777777777778,
              "#fb9f3a"
             ],
             [
              0.8888888888888888,
              "#fdca26"
             ],
             [
              1,
              "#f0f921"
             ]
            ],
            "type": "heatmap"
           }
          ],
          "histogram": [
           {
            "marker": {
             "pattern": {
              "fillmode": "overlay",
              "size": 10,
              "solidity": 0.2
             }
            },
            "type": "histogram"
           }
          ],
          "histogram2d": [
           {
            "colorbar": {
             "outlinewidth": 0,
             "ticks": ""
            },
            "colorscale": [
             [
              0,
              "#0d0887"
             ],
             [
              0.1111111111111111,
              "#46039f"
             ],
             [
              0.2222222222222222,
              "#7201a8"
             ],
             [
              0.3333333333333333,
              "#9c179e"
             ],
             [
              0.4444444444444444,
              "#bd3786"
             ],
             [
              0.5555555555555556,
              "#d8576b"
             ],
             [
              0.6666666666666666,
              "#ed7953"
             ],
             [
              0.7777777777777778,
              "#fb9f3a"
             ],
             [
              0.8888888888888888,
              "#fdca26"
             ],
             [
              1,
              "#f0f921"
             ]
            ],
            "type": "histogram2d"
           }
          ],
          "histogram2dcontour": [
           {
            "colorbar": {
             "outlinewidth": 0,
             "ticks": ""
            },
            "colorscale": [
             [
              0,
              "#0d0887"
             ],
             [
              0.1111111111111111,
              "#46039f"
             ],
             [
              0.2222222222222222,
              "#7201a8"
             ],
             [
              0.3333333333333333,
              "#9c179e"
             ],
             [
              0.4444444444444444,
              "#bd3786"
             ],
             [
              0.5555555555555556,
              "#d8576b"
             ],
             [
              0.6666666666666666,
              "#ed7953"
             ],
             [
              0.7777777777777778,
              "#fb9f3a"
             ],
             [
              0.8888888888888888,
              "#fdca26"
             ],
             [
              1,
              "#f0f921"
             ]
            ],
            "type": "histogram2dcontour"
           }
          ],
          "mesh3d": [
           {
            "colorbar": {
             "outlinewidth": 0,
             "ticks": ""
            },
            "type": "mesh3d"
           }
          ],
          "parcoords": [
           {
            "line": {
             "colorbar": {
              "outlinewidth": 0,
              "ticks": ""
             }
            },
            "type": "parcoords"
           }
          ],
          "pie": [
           {
            "automargin": true,
            "type": "pie"
           }
          ],
          "scatter": [
           {
            "fillpattern": {
             "fillmode": "overlay",
             "size": 10,
             "solidity": 0.2
            },
            "type": "scatter"
           }
          ],
          "scatter3d": [
           {
            "line": {
             "colorbar": {
              "outlinewidth": 0,
              "ticks": ""
             }
            },
            "marker": {
             "colorbar": {
              "outlinewidth": 0,
              "ticks": ""
             }
            },
            "type": "scatter3d"
           }
          ],
          "scattercarpet": [
           {
            "marker": {
             "colorbar": {
              "outlinewidth": 0,
              "ticks": ""
             }
            },
            "type": "scattercarpet"
           }
          ],
          "scattergeo": [
           {
            "marker": {
             "colorbar": {
              "outlinewidth": 0,
              "ticks": ""
             }
            },
            "type": "scattergeo"
           }
          ],
          "scattergl": [
           {
            "marker": {
             "colorbar": {
              "outlinewidth": 0,
              "ticks": ""
             }
            },
            "type": "scattergl"
           }
          ],
          "scattermap": [
           {
            "marker": {
             "colorbar": {
              "outlinewidth": 0,
              "ticks": ""
             }
            },
            "type": "scattermap"
           }
          ],
          "scattermapbox": [
           {
            "marker": {
             "colorbar": {
              "outlinewidth": 0,
              "ticks": ""
             }
            },
            "type": "scattermapbox"
           }
          ],
          "scatterpolar": [
           {
            "marker": {
             "colorbar": {
              "outlinewidth": 0,
              "ticks": ""
             }
            },
            "type": "scatterpolar"
           }
          ],
          "scatterpolargl": [
           {
            "marker": {
             "colorbar": {
              "outlinewidth": 0,
              "ticks": ""
             }
            },
            "type": "scatterpolargl"
           }
          ],
          "scatterternary": [
           {
            "marker": {
             "colorbar": {
              "outlinewidth": 0,
              "ticks": ""
             }
            },
            "type": "scatterternary"
           }
          ],
          "surface": [
           {
            "colorbar": {
             "outlinewidth": 0,
             "ticks": ""
            },
            "colorscale": [
             [
              0,
              "#0d0887"
             ],
             [
              0.1111111111111111,
              "#46039f"
             ],
             [
              0.2222222222222222,
              "#7201a8"
             ],
             [
              0.3333333333333333,
              "#9c179e"
             ],
             [
              0.4444444444444444,
              "#bd3786"
             ],
             [
              0.5555555555555556,
              "#d8576b"
             ],
             [
              0.6666666666666666,
              "#ed7953"
             ],
             [
              0.7777777777777778,
              "#fb9f3a"
             ],
             [
              0.8888888888888888,
              "#fdca26"
             ],
             [
              1,
              "#f0f921"
             ]
            ],
            "type": "surface"
           }
          ],
          "table": [
           {
            "cells": {
             "fill": {
              "color": "#EBF0F8"
             },
             "line": {
              "color": "white"
             }
            },
            "header": {
             "fill": {
              "color": "#C8D4E3"
             },
             "line": {
              "color": "white"
             }
            },
            "type": "table"
           }
          ]
         },
         "layout": {
          "annotationdefaults": {
           "arrowcolor": "#2a3f5f",
           "arrowhead": 0,
           "arrowwidth": 1
          },
          "autotypenumbers": "strict",
          "coloraxis": {
           "colorbar": {
            "outlinewidth": 0,
            "ticks": ""
           }
          },
          "colorscale": {
           "diverging": [
            [
             0,
             "#8e0152"
            ],
            [
             0.1,
             "#c51b7d"
            ],
            [
             0.2,
             "#de77ae"
            ],
            [
             0.3,
             "#f1b6da"
            ],
            [
             0.4,
             "#fde0ef"
            ],
            [
             0.5,
             "#f7f7f7"
            ],
            [
             0.6,
             "#e6f5d0"
            ],
            [
             0.7,
             "#b8e186"
            ],
            [
             0.8,
             "#7fbc41"
            ],
            [
             0.9,
             "#4d9221"
            ],
            [
             1,
             "#276419"
            ]
           ],
           "sequential": [
            [
             0,
             "#0d0887"
            ],
            [
             0.1111111111111111,
             "#46039f"
            ],
            [
             0.2222222222222222,
             "#7201a8"
            ],
            [
             0.3333333333333333,
             "#9c179e"
            ],
            [
             0.4444444444444444,
             "#bd3786"
            ],
            [
             0.5555555555555556,
             "#d8576b"
            ],
            [
             0.6666666666666666,
             "#ed7953"
            ],
            [
             0.7777777777777778,
             "#fb9f3a"
            ],
            [
             0.8888888888888888,
             "#fdca26"
            ],
            [
             1,
             "#f0f921"
            ]
           ],
           "sequentialminus": [
            [
             0,
             "#0d0887"
            ],
            [
             0.1111111111111111,
             "#46039f"
            ],
            [
             0.2222222222222222,
             "#7201a8"
            ],
            [
             0.3333333333333333,
             "#9c179e"
            ],
            [
             0.4444444444444444,
             "#bd3786"
            ],
            [
             0.5555555555555556,
             "#d8576b"
            ],
            [
             0.6666666666666666,
             "#ed7953"
            ],
            [
             0.7777777777777778,
             "#fb9f3a"
            ],
            [
             0.8888888888888888,
             "#fdca26"
            ],
            [
             1,
             "#f0f921"
            ]
           ]
          },
          "colorway": [
           "#636efa",
           "#EF553B",
           "#00cc96",
           "#ab63fa",
           "#FFA15A",
           "#19d3f3",
           "#FF6692",
           "#B6E880",
           "#FF97FF",
           "#FECB52"
          ],
          "font": {
           "color": "#2a3f5f"
          },
          "geo": {
           "bgcolor": "white",
           "lakecolor": "white",
           "landcolor": "#E5ECF6",
           "showlakes": true,
           "showland": true,
           "subunitcolor": "white"
          },
          "hoverlabel": {
           "align": "left"
          },
          "hovermode": "closest",
          "mapbox": {
           "style": "light"
          },
          "paper_bgcolor": "white",
          "plot_bgcolor": "#E5ECF6",
          "polar": {
           "angularaxis": {
            "gridcolor": "white",
            "linecolor": "white",
            "ticks": ""
           },
           "bgcolor": "#E5ECF6",
           "radialaxis": {
            "gridcolor": "white",
            "linecolor": "white",
            "ticks": ""
           }
          },
          "scene": {
           "xaxis": {
            "backgroundcolor": "#E5ECF6",
            "gridcolor": "white",
            "gridwidth": 2,
            "linecolor": "white",
            "showbackground": true,
            "ticks": "",
            "zerolinecolor": "white"
           },
           "yaxis": {
            "backgroundcolor": "#E5ECF6",
            "gridcolor": "white",
            "gridwidth": 2,
            "linecolor": "white",
            "showbackground": true,
            "ticks": "",
            "zerolinecolor": "white"
           },
           "zaxis": {
            "backgroundcolor": "#E5ECF6",
            "gridcolor": "white",
            "gridwidth": 2,
            "linecolor": "white",
            "showbackground": true,
            "ticks": "",
            "zerolinecolor": "white"
           }
          },
          "shapedefaults": {
           "line": {
            "color": "#2a3f5f"
           }
          },
          "ternary": {
           "aaxis": {
            "gridcolor": "white",
            "linecolor": "white",
            "ticks": ""
           },
           "baxis": {
            "gridcolor": "white",
            "linecolor": "white",
            "ticks": ""
           },
           "bgcolor": "#E5ECF6",
           "caxis": {
            "gridcolor": "white",
            "linecolor": "white",
            "ticks": ""
           }
          },
          "title": {
           "x": 0.05
          },
          "xaxis": {
           "automargin": true,
           "gridcolor": "white",
           "linecolor": "white",
           "ticks": "",
           "title": {
            "standoff": 15
           },
           "zerolinecolor": "white",
           "zerolinewidth": 2
          },
          "yaxis": {
           "automargin": true,
           "gridcolor": "white",
           "linecolor": "white",
           "ticks": "",
           "title": {
            "standoff": 15
           },
           "zerolinecolor": "white",
           "zerolinewidth": 2
          }
         }
        },
        "title": {
         "font": {
          "color": "#333333",
          "size": 18
         },
         "text": "<b>Distribution of Monthly Gasoline Prices per Liter (RON95) per Year (2020–2024)</b>",
         "x": 0.5,
         "xanchor": "center",
         "y": 0.95
        },
        "xaxis": {
         "gridcolor": "rgba(0,0,0,0.2)",
         "showgrid": true,
         "title": {
          "text": "Year"
         }
        },
        "yaxis": {
         "gridcolor": "rgba(0,0,0,0.2)",
         "showgrid": true,
         "title": {
          "text": "Cost (pesos per liter)"
         }
        }
       }
      }
     },
     "metadata": {},
     "output_type": "display_data"
    }
   ],
   "source": [
    "plot_gasoline_boxplot()"
   ]
  },
  {
   "cell_type": "markdown",
   "id": "d8fafe6d",
   "metadata": {},
   "source": [
    "Monthly electricity prices graph (2020 to 2025)"
   ]
  },
  {
   "cell_type": "code",
   "execution_count": 529,
   "id": "84a57ba6",
   "metadata": {},
   "outputs": [],
   "source": [
    "## Relevant functions\n",
    "\n",
    "\n",
    "def get_specific_kwh_df(kwh_consumption: int):\n",
    "    meralco_df = pd.read_csv('MeralcoSummaryOfRates.csv')\n",
    "    meralco_df['Date'] = pd.to_datetime(meralco_df['Year'].astype(str) + '-' + meralco_df['Month'].astype(str), format='%Y-%m')\n",
    "\n",
    "    # Reorder the columns to make 'Date' the first column\n",
    "    cols = ['Date'] + [col for col in meralco_df.columns if col != 'Date']\n",
    "    meralco_df = meralco_df[cols]\n",
    "\n",
    "    chosen_kwh_data = meralco_df[(meralco_df['kWh Consumption'] == kwh_consumption) & (meralco_df['For Lifeline Customers'] == False)]\n",
    "    chosen_kwh_data = chosen_kwh_data[(chosen_kwh_data['Date'].dt.year >= 2020) & (chosen_kwh_data['Date'].dt.year <= 2024)]\n",
    "\n",
    "    return chosen_kwh_data\n",
    "\n",
    "def plot_specific_kwh_df(kwh_consumption: int = 200) -> None:\n",
    "    df_to_plot = get_specific_kwh_df(kwh_consumption)\n",
    "\n",
    "    line_color = 'rgba(0, 0, 255, 1)'            # Blue\n",
    "\n",
    "    fig = go.Figure()\n",
    "\n",
    "    # Add seasonal background shapes first (so they appear behind the data)\n",
    "    for year in range(2019, 2025):\n",
    "        # Dry season (Dec-May)\n",
    "        fig.add_vrect(\n",
    "            x0=max(datetime(year, 12, 1), datetime(2020, 1, 1)),\n",
    "            x1=min(datetime(year+1, 6, 1), datetime(2024, 12, 31)),\n",
    "            fillcolor=dry_season_color,\n",
    "            layer=\"below\",\n",
    "            line_width=0,\n",
    "        )\n",
    "        \n",
    "        # Wet season (Jun-Nov)\n",
    "        fig.add_vrect(\n",
    "            x0=max(datetime(year, 6, 1), datetime(2020, 1, 1)),\n",
    "            x1=min(datetime(year, 12, 1), datetime(2024, 12, 31)),\n",
    "            fillcolor=wet_season_color,\n",
    "            layer=\"below\",\n",
    "            line_width=0,\n",
    "        )\n",
    "\n",
    "    # Add main line plot\n",
    "    fig.add_trace(go.Scatter(\n",
    "        x=df_to_plot['Date'],\n",
    "        y=df_to_plot['Total Bill'],\n",
    "        mode='lines+markers',\n",
    "        line=dict(color=line_color, width=2),\n",
    "        marker=dict(size=8),\n",
    "        name='Electricity Cost',\n",
    "        hovertemplate=\"<b>%{x|%b %Y}</b><br>Cost: %{y:.2f} pesos<extra></extra>\"\n",
    "    ))\n",
    "\n",
    "    # Calculate and add the regression line\n",
    "    x = (df_to_plot['Date'].astype(np.int64) // 10**9)  # Convert datetime to timestamp (seconds since epoch)\n",
    "    y = df_to_plot['Total Bill']\n",
    "    slope, intercept, r_value, p_value, std_err = linregress(x, y)\n",
    "    regression_line = slope * x + intercept\n",
    "\n",
    "    fig.add_trace(go.Scatter(\n",
    "        x=df_to_plot['Date'],\n",
    "        y=regression_line,\n",
    "        mode='lines',\n",
    "        line=dict(color='gray', dash='dot', width=2),\n",
    "        name=f'Regression Line (R² = {r_value**2:.2f})',\n",
    "        hovertemplate=\"<b>%{x|%b %Y}</b><br>Regression: %{y:.2f} pesos<extra></extra>\"\n",
    "    ))\n",
    "\n",
    "    # Layout customization\n",
    "    fig.update_layout(\n",
    "        title={\n",
    "            'text': f\"<b>Meralco Cost per kW for {kwh_consumption} kWh Consumption (2020-2024, Non-Lifeline)</b>\",\n",
    "            'y':0.95,\n",
    "            'x':0.5,\n",
    "            'xanchor': 'center',\n",
    "            'font': dict(size=18, color='#333333')\n",
    "        },\n",
    "        xaxis=dict(\n",
    "            title=\"Date\",\n",
    "            range=['2020-01-01', '2024-12-31'],\n",
    "            tickformat=\"%Y\",\n",
    "            dtick=\"M12\",  # Yearly ticks\n",
    "            showgrid=True,\n",
    "            gridcolor='rgba(0,0,0,0.2)',\n",
    "        ),\n",
    "        yaxis=dict(\n",
    "            title=\"Cost (pesos)\",\n",
    "            showgrid=True,\n",
    "            gridcolor='rgba(0,0,0,0.2)',\n",
    "        ),\n",
    "        legend=dict(\n",
    "            orientation=\"h\",\n",
    "            yanchor=\"bottom\",\n",
    "            y=1.02,\n",
    "            xanchor=\"right\",\n",
    "            x=1\n",
    "        ),\n",
    "        plot_bgcolor='#FAFAFA',\n",
    "        paper_bgcolor='white',\n",
    "        hovermode=\"x unified\"\n",
    "    )\n",
    "    fig.add_trace(go.Scatter(\n",
    "    x=[None],\n",
    "    y=[None],\n",
    "    mode='markers',\n",
    "    marker=dict(size=15, color=dry_season_color),\n",
    "    name='Dry Season (Dec-May)'\n",
    "    ))\n",
    "\n",
    "    fig.add_trace(go.Scatter(\n",
    "        x=[None],\n",
    "        y=[None],\n",
    "        mode='markers',\n",
    "        marker=dict(size=15, color=wet_season_color),\n",
    "        name='Wet Season (Jun-Nov)'\n",
    "    ))\n",
    "\n",
    "    fig.show()\n",
    "\n",
    "    # Optional: Save as HTML\n",
    "    fig.write_html(f\"graphs/electricity_cost_{kwh_consumption}kWh.html\")\n",
    "\n",
    "def plot_kwh_boxplot(kwh_consumption: int = 200) -> None:\n",
    "    df = get_specific_kwh_df(kwh_consumption)\n",
    "    df['Year'] = df['Date'].dt.year\n",
    "\n",
    "    fig = go.Figure()\n",
    "\n",
    "    # Group by year and add a Box trace for each year\n",
    "    for year, group in df.groupby('Year'):\n",
    "        fig.add_trace(go.Box(\n",
    "            y=group['Total Bill'],\n",
    "            name=str(year),\n",
    "            boxpoints='all',  # Show all points\n",
    "            jitter=0.4,\n",
    "            pointpos=0,\n",
    "            marker=dict(size=5),\n",
    "            line=dict(width=1),\n",
    "            fillcolor='rgba(0,0,255,0.2)',\n",
    "            marker_color='blue'\n",
    "        ))\n",
    "\n",
    "    fig.update_layout(\n",
    "        title={\n",
    "            'text': f\"<b>Distribution of Meralco Cost per kWh for {kwh_consumption} kWh Consumption (2020-2024, Non-Lifeline)</b>\",\n",
    "            'y':0.95,\n",
    "            'x':0.5,\n",
    "            'xanchor': 'center',\n",
    "            'font': dict(size=18, color='#333333')\n",
    "        },\n",
    "        xaxis_title=\"Year\",\n",
    "        yaxis_title=\"Cost (pesos)\",\n",
    "        plot_bgcolor=\"#FAFAFA\",\n",
    "        paper_bgcolor=\"white\",\n",
    "        title_font=dict(size=18),\n",
    "        xaxis=dict(showgrid=True, gridcolor='rgba(0,0,0,0.2)'),\n",
    "        yaxis=dict(showgrid=True, gridcolor='rgba(0,0,0,0.2)')\n",
    "    )\n",
    "\n",
    "    fig.show()\n",
    "\n",
    "    # Optional: Save\n",
    "    fig.write_html(f\"graphs/electricity_boxplot{kwh_consumption}kWh.html\")\n"
   ]
  },
  {
   "cell_type": "code",
   "execution_count": 530,
   "id": "37820c5b",
   "metadata": {},
   "outputs": [
    {
     "data": {
      "application/vnd.plotly.v1+json": {
       "config": {
        "plotlyServerURL": "https://plot.ly"
       },
       "data": [
        {
         "hovertemplate": "<b>%{x|%b %Y}</b><br>Cost: %{y:.2f} pesos<extra></extra>",
         "line": {
          "color": "rgba(0, 0, 255, 1)",
          "width": 2
         },
         "marker": {
          "size": 8
         },
         "mode": "lines+markers",
         "name": "Electricity Cost",
         "type": "scatter",
         "x": [
          "2020-01-01T00:00:00.000000000",
          "2020-02-01T00:00:00.000000000",
          "2020-03-01T00:00:00.000000000",
          "2020-04-01T00:00:00.000000000",
          "2020-05-01T00:00:00.000000000",
          "2020-06-01T00:00:00.000000000",
          "2020-07-01T00:00:00.000000000",
          "2020-08-01T00:00:00.000000000",
          "2020-09-01T00:00:00.000000000",
          "2020-10-01T00:00:00.000000000",
          "2020-11-01T00:00:00.000000000",
          "2020-12-01T00:00:00.000000000",
          "2021-01-01T00:00:00.000000000",
          "2021-02-01T00:00:00.000000000",
          "2021-03-01T00:00:00.000000000",
          "2021-04-01T00:00:00.000000000",
          "2021-05-01T00:00:00.000000000",
          "2021-06-01T00:00:00.000000000",
          "2021-07-01T00:00:00.000000000",
          "2021-08-01T00:00:00.000000000",
          "2021-09-01T00:00:00.000000000",
          "2021-10-01T00:00:00.000000000",
          "2021-11-01T00:00:00.000000000",
          "2021-12-01T00:00:00.000000000",
          "2022-01-01T00:00:00.000000000",
          "2022-02-01T00:00:00.000000000",
          "2022-03-01T00:00:00.000000000",
          "2022-04-01T00:00:00.000000000",
          "2022-05-01T00:00:00.000000000",
          "2022-06-01T00:00:00.000000000",
          "2022-07-01T00:00:00.000000000",
          "2022-08-01T00:00:00.000000000",
          "2022-09-01T00:00:00.000000000",
          "2022-10-01T00:00:00.000000000",
          "2022-11-01T00:00:00.000000000",
          "2022-12-01T00:00:00.000000000",
          "2023-01-01T00:00:00.000000000",
          "2023-02-01T00:00:00.000000000",
          "2023-03-01T00:00:00.000000000",
          "2023-04-01T00:00:00.000000000",
          "2023-05-01T00:00:00.000000000",
          "2023-06-01T00:00:00.000000000",
          "2023-07-01T00:00:00.000000000",
          "2023-08-01T00:00:00.000000000",
          "2023-09-01T00:00:00.000000000",
          "2023-10-01T00:00:00.000000000",
          "2023-11-01T00:00:00.000000000",
          "2023-12-01T00:00:00.000000000",
          "2024-01-01T00:00:00.000000000",
          "2024-02-01T00:00:00.000000000",
          "2024-03-01T00:00:00.000000000",
          "2024-04-01T00:00:00.000000000",
          "2024-05-01T00:00:00.000000000",
          "2024-06-01T00:00:00.000000000",
          "2024-07-01T00:00:00.000000000",
          "2024-08-01T00:00:00.000000000",
          "2024-09-01T00:00:00.000000000",
          "2024-10-01T00:00:00.000000000",
          "2024-11-01T00:00:00.000000000",
          "2024-12-01T00:00:00.000000000"
         ],
         "y": {
          "bdata": "XdxGA3grJEAhH/RsVv0iQHrHKTqSCyNAb/CFyVRBI0Dgvg6cM8IiQPOOU3QktyJAKjqSy3+oIkDIBz2bVT8iQFZ9rrZiHyJAr5RliGNdIkDwp8ZLN0kiQIEExY8xNyJA+Q/pt6/DIkAdyeU/pJ8iQA8LtaZ55yFAowG8BRIUIkCoNc07TnEiQLWmeccpmiJA3NeBc0YUI0Ch+DHmrkUjQF1txf6yeyNAfGEyVTCKI0A3iUFg5TAkQDbNO07R0SRARIts5/upJEAeFmpN824kQJCg+DHmjiRAqMZLN4mhJUD5MeauJWQlQDlFR3L5LyZALpCg+DHGJEBqTfOOU1QkQLFQa5p3HCVA9GxWfa72JEAZc9cS8iElQAn5oGezyiVAY+5aQj4IJ0AxCKwcWgQnQLMMcayLGyhAArwFEhTfJ0C3Yn/ZPTkoQKyt2F92DylAA3gLJCieJ0B+HThnRAknQGFUUiegCShAOPjCZKrgKEDUK2UZ4lgpQOF6FK5HwSdA7C+7Jw/rJ0DDZKpgVBIpQHUCmggbHilAo5I6AU0kJ0CpE9BE2BAoQBUdyeU/JCRAqRPQRNhwKEAaUdobfIEoQFRSJ6CJ0ChARrbz/dQYKED6fmq8dPMoQGEyVTAqKSlA",
          "dtype": "f8"
         }
        },
        {
         "hovertemplate": "<b>%{x|%b %Y}</b><br>Regression: %{y:.2f} pesos<extra></extra>",
         "line": {
          "color": "gray",
          "dash": "dot",
          "width": 2
         },
         "mode": "lines",
         "name": "Regression Line (R² = 0.81)",
         "type": "scatter",
         "x": [
          "2020-01-01T00:00:00.000000000",
          "2020-02-01T00:00:00.000000000",
          "2020-03-01T00:00:00.000000000",
          "2020-04-01T00:00:00.000000000",
          "2020-05-01T00:00:00.000000000",
          "2020-06-01T00:00:00.000000000",
          "2020-07-01T00:00:00.000000000",
          "2020-08-01T00:00:00.000000000",
          "2020-09-01T00:00:00.000000000",
          "2020-10-01T00:00:00.000000000",
          "2020-11-01T00:00:00.000000000",
          "2020-12-01T00:00:00.000000000",
          "2021-01-01T00:00:00.000000000",
          "2021-02-01T00:00:00.000000000",
          "2021-03-01T00:00:00.000000000",
          "2021-04-01T00:00:00.000000000",
          "2021-05-01T00:00:00.000000000",
          "2021-06-01T00:00:00.000000000",
          "2021-07-01T00:00:00.000000000",
          "2021-08-01T00:00:00.000000000",
          "2021-09-01T00:00:00.000000000",
          "2021-10-01T00:00:00.000000000",
          "2021-11-01T00:00:00.000000000",
          "2021-12-01T00:00:00.000000000",
          "2022-01-01T00:00:00.000000000",
          "2022-02-01T00:00:00.000000000",
          "2022-03-01T00:00:00.000000000",
          "2022-04-01T00:00:00.000000000",
          "2022-05-01T00:00:00.000000000",
          "2022-06-01T00:00:00.000000000",
          "2022-07-01T00:00:00.000000000",
          "2022-08-01T00:00:00.000000000",
          "2022-09-01T00:00:00.000000000",
          "2022-10-01T00:00:00.000000000",
          "2022-11-01T00:00:00.000000000",
          "2022-12-01T00:00:00.000000000",
          "2023-01-01T00:00:00.000000000",
          "2023-02-01T00:00:00.000000000",
          "2023-03-01T00:00:00.000000000",
          "2023-04-01T00:00:00.000000000",
          "2023-05-01T00:00:00.000000000",
          "2023-06-01T00:00:00.000000000",
          "2023-07-01T00:00:00.000000000",
          "2023-08-01T00:00:00.000000000",
          "2023-09-01T00:00:00.000000000",
          "2023-10-01T00:00:00.000000000",
          "2023-11-01T00:00:00.000000000",
          "2023-12-01T00:00:00.000000000",
          "2024-01-01T00:00:00.000000000",
          "2024-02-01T00:00:00.000000000",
          "2024-03-01T00:00:00.000000000",
          "2024-04-01T00:00:00.000000000",
          "2024-05-01T00:00:00.000000000",
          "2024-06-01T00:00:00.000000000",
          "2024-07-01T00:00:00.000000000",
          "2024-08-01T00:00:00.000000000",
          "2024-09-01T00:00:00.000000000",
          "2024-10-01T00:00:00.000000000",
          "2024-11-01T00:00:00.000000000",
          "2024-12-01T00:00:00.000000000"
         ],
         "y": {
          "bdata": "2hW008GgIUDyNHVdG8IhQF6cIRhO4SFAdrvioacCIkC2fhnE7SIiQNKd2k1HRCJAEmERcI1kIkAqgNL55oUiQEafk4NApyJAhmLKpYbHIkCegYsv4OgiQOJEwlEmCSNA+mOD238qI0ASg0Rl2UsjQKaOZrj4aSNAvq0nQlKLI0D+cF5kmKsjQBqQH+7xzCNAWlNWEDjtI0BycheakQ4kQI6R2CPrLyRAzlQPRjFQJEDmc9DPinEkQCo3B/LQkSRAQlbIeyqzJEBadYkFhNQkQO6Aq1ij8iRABqBs4vwTJUBGY6MEQzQlQGKCZI6cVSVAokWbsOJ1JUC6ZFw6PJclQNaDHcSVuCVAFkdU5tvYJUAuZhVwNfolQHIpTJJ7GiZAikgNHNU7JkCiZ86lLl0mQDZz8PhNeyZATpKxgqecJkCOVeik7bwmQKp0qS5H3iZA6jfgUI3+JkACV6Ha5h8nQB52YmRAQSdAXjmZhoZhJ0B2WFoQ4IInQLobkTImoydA0jpSvH/EJ0DqWRNG2eUnQFbBvwAMBShAbuCAimUmKECuo7esq0YoQMrCeDYFaChACoavWEuIKEAipXDipKkoQDrEMWz+yihAfodojkTrKECWpikYngwpQNZpYDrkLClA",
          "dtype": "f8"
         }
        },
        {
         "marker": {
          "color": "rgba(255, 165, 0, 0.2)",
          "size": 15
         },
         "mode": "markers",
         "name": "Dry Season (Dec-May)",
         "type": "scatter",
         "x": [
          null
         ],
         "y": [
          null
         ]
        },
        {
         "marker": {
          "color": "rgba(0, 191, 255, 0.2)",
          "size": 15
         },
         "mode": "markers",
         "name": "Wet Season (Jun-Nov)",
         "type": "scatter",
         "x": [
          null
         ],
         "y": [
          null
         ]
        }
       ],
       "layout": {
        "hovermode": "x unified",
        "legend": {
         "orientation": "h",
         "x": 1,
         "xanchor": "right",
         "y": 1.02,
         "yanchor": "bottom"
        },
        "paper_bgcolor": "white",
        "plot_bgcolor": "#FAFAFA",
        "shapes": [
         {
          "fillcolor": "rgba(255, 165, 0, 0.2)",
          "layer": "below",
          "line": {
           "width": 0
          },
          "type": "rect",
          "x0": "2020-01-01T00:00:00",
          "x1": "2020-06-01T00:00:00",
          "xref": "x",
          "y0": 0,
          "y1": 1,
          "yref": "y domain"
         },
         {
          "fillcolor": "rgba(0, 191, 255, 0.2)",
          "layer": "below",
          "line": {
           "width": 0
          },
          "type": "rect",
          "x0": "2020-01-01T00:00:00",
          "x1": "2019-12-01T00:00:00",
          "xref": "x",
          "y0": 0,
          "y1": 1,
          "yref": "y domain"
         },
         {
          "fillcolor": "rgba(255, 165, 0, 0.2)",
          "layer": "below",
          "line": {
           "width": 0
          },
          "type": "rect",
          "x0": "2020-12-01T00:00:00",
          "x1": "2021-06-01T00:00:00",
          "xref": "x",
          "y0": 0,
          "y1": 1,
          "yref": "y domain"
         },
         {
          "fillcolor": "rgba(0, 191, 255, 0.2)",
          "layer": "below",
          "line": {
           "width": 0
          },
          "type": "rect",
          "x0": "2020-06-01T00:00:00",
          "x1": "2020-12-01T00:00:00",
          "xref": "x",
          "y0": 0,
          "y1": 1,
          "yref": "y domain"
         },
         {
          "fillcolor": "rgba(255, 165, 0, 0.2)",
          "layer": "below",
          "line": {
           "width": 0
          },
          "type": "rect",
          "x0": "2021-12-01T00:00:00",
          "x1": "2022-06-01T00:00:00",
          "xref": "x",
          "y0": 0,
          "y1": 1,
          "yref": "y domain"
         },
         {
          "fillcolor": "rgba(0, 191, 255, 0.2)",
          "layer": "below",
          "line": {
           "width": 0
          },
          "type": "rect",
          "x0": "2021-06-01T00:00:00",
          "x1": "2021-12-01T00:00:00",
          "xref": "x",
          "y0": 0,
          "y1": 1,
          "yref": "y domain"
         },
         {
          "fillcolor": "rgba(255, 165, 0, 0.2)",
          "layer": "below",
          "line": {
           "width": 0
          },
          "type": "rect",
          "x0": "2022-12-01T00:00:00",
          "x1": "2023-06-01T00:00:00",
          "xref": "x",
          "y0": 0,
          "y1": 1,
          "yref": "y domain"
         },
         {
          "fillcolor": "rgba(0, 191, 255, 0.2)",
          "layer": "below",
          "line": {
           "width": 0
          },
          "type": "rect",
          "x0": "2022-06-01T00:00:00",
          "x1": "2022-12-01T00:00:00",
          "xref": "x",
          "y0": 0,
          "y1": 1,
          "yref": "y domain"
         },
         {
          "fillcolor": "rgba(255, 165, 0, 0.2)",
          "layer": "below",
          "line": {
           "width": 0
          },
          "type": "rect",
          "x0": "2023-12-01T00:00:00",
          "x1": "2024-06-01T00:00:00",
          "xref": "x",
          "y0": 0,
          "y1": 1,
          "yref": "y domain"
         },
         {
          "fillcolor": "rgba(0, 191, 255, 0.2)",
          "layer": "below",
          "line": {
           "width": 0
          },
          "type": "rect",
          "x0": "2023-06-01T00:00:00",
          "x1": "2023-12-01T00:00:00",
          "xref": "x",
          "y0": 0,
          "y1": 1,
          "yref": "y domain"
         },
         {
          "fillcolor": "rgba(255, 165, 0, 0.2)",
          "layer": "below",
          "line": {
           "width": 0
          },
          "type": "rect",
          "x0": "2024-12-01T00:00:00",
          "x1": "2024-12-31T00:00:00",
          "xref": "x",
          "y0": 0,
          "y1": 1,
          "yref": "y domain"
         },
         {
          "fillcolor": "rgba(0, 191, 255, 0.2)",
          "layer": "below",
          "line": {
           "width": 0
          },
          "type": "rect",
          "x0": "2024-06-01T00:00:00",
          "x1": "2024-12-01T00:00:00",
          "xref": "x",
          "y0": 0,
          "y1": 1,
          "yref": "y domain"
         }
        ],
        "template": {
         "data": {
          "bar": [
           {
            "error_x": {
             "color": "#2a3f5f"
            },
            "error_y": {
             "color": "#2a3f5f"
            },
            "marker": {
             "line": {
              "color": "#E5ECF6",
              "width": 0.5
             },
             "pattern": {
              "fillmode": "overlay",
              "size": 10,
              "solidity": 0.2
             }
            },
            "type": "bar"
           }
          ],
          "barpolar": [
           {
            "marker": {
             "line": {
              "color": "#E5ECF6",
              "width": 0.5
             },
             "pattern": {
              "fillmode": "overlay",
              "size": 10,
              "solidity": 0.2
             }
            },
            "type": "barpolar"
           }
          ],
          "carpet": [
           {
            "aaxis": {
             "endlinecolor": "#2a3f5f",
             "gridcolor": "white",
             "linecolor": "white",
             "minorgridcolor": "white",
             "startlinecolor": "#2a3f5f"
            },
            "baxis": {
             "endlinecolor": "#2a3f5f",
             "gridcolor": "white",
             "linecolor": "white",
             "minorgridcolor": "white",
             "startlinecolor": "#2a3f5f"
            },
            "type": "carpet"
           }
          ],
          "choropleth": [
           {
            "colorbar": {
             "outlinewidth": 0,
             "ticks": ""
            },
            "type": "choropleth"
           }
          ],
          "contour": [
           {
            "colorbar": {
             "outlinewidth": 0,
             "ticks": ""
            },
            "colorscale": [
             [
              0,
              "#0d0887"
             ],
             [
              0.1111111111111111,
              "#46039f"
             ],
             [
              0.2222222222222222,
              "#7201a8"
             ],
             [
              0.3333333333333333,
              "#9c179e"
             ],
             [
              0.4444444444444444,
              "#bd3786"
             ],
             [
              0.5555555555555556,
              "#d8576b"
             ],
             [
              0.6666666666666666,
              "#ed7953"
             ],
             [
              0.7777777777777778,
              "#fb9f3a"
             ],
             [
              0.8888888888888888,
              "#fdca26"
             ],
             [
              1,
              "#f0f921"
             ]
            ],
            "type": "contour"
           }
          ],
          "contourcarpet": [
           {
            "colorbar": {
             "outlinewidth": 0,
             "ticks": ""
            },
            "type": "contourcarpet"
           }
          ],
          "heatmap": [
           {
            "colorbar": {
             "outlinewidth": 0,
             "ticks": ""
            },
            "colorscale": [
             [
              0,
              "#0d0887"
             ],
             [
              0.1111111111111111,
              "#46039f"
             ],
             [
              0.2222222222222222,
              "#7201a8"
             ],
             [
              0.3333333333333333,
              "#9c179e"
             ],
             [
              0.4444444444444444,
              "#bd3786"
             ],
             [
              0.5555555555555556,
              "#d8576b"
             ],
             [
              0.6666666666666666,
              "#ed7953"
             ],
             [
              0.7777777777777778,
              "#fb9f3a"
             ],
             [
              0.8888888888888888,
              "#fdca26"
             ],
             [
              1,
              "#f0f921"
             ]
            ],
            "type": "heatmap"
           }
          ],
          "histogram": [
           {
            "marker": {
             "pattern": {
              "fillmode": "overlay",
              "size": 10,
              "solidity": 0.2
             }
            },
            "type": "histogram"
           }
          ],
          "histogram2d": [
           {
            "colorbar": {
             "outlinewidth": 0,
             "ticks": ""
            },
            "colorscale": [
             [
              0,
              "#0d0887"
             ],
             [
              0.1111111111111111,
              "#46039f"
             ],
             [
              0.2222222222222222,
              "#7201a8"
             ],
             [
              0.3333333333333333,
              "#9c179e"
             ],
             [
              0.4444444444444444,
              "#bd3786"
             ],
             [
              0.5555555555555556,
              "#d8576b"
             ],
             [
              0.6666666666666666,
              "#ed7953"
             ],
             [
              0.7777777777777778,
              "#fb9f3a"
             ],
             [
              0.8888888888888888,
              "#fdca26"
             ],
             [
              1,
              "#f0f921"
             ]
            ],
            "type": "histogram2d"
           }
          ],
          "histogram2dcontour": [
           {
            "colorbar": {
             "outlinewidth": 0,
             "ticks": ""
            },
            "colorscale": [
             [
              0,
              "#0d0887"
             ],
             [
              0.1111111111111111,
              "#46039f"
             ],
             [
              0.2222222222222222,
              "#7201a8"
             ],
             [
              0.3333333333333333,
              "#9c179e"
             ],
             [
              0.4444444444444444,
              "#bd3786"
             ],
             [
              0.5555555555555556,
              "#d8576b"
             ],
             [
              0.6666666666666666,
              "#ed7953"
             ],
             [
              0.7777777777777778,
              "#fb9f3a"
             ],
             [
              0.8888888888888888,
              "#fdca26"
             ],
             [
              1,
              "#f0f921"
             ]
            ],
            "type": "histogram2dcontour"
           }
          ],
          "mesh3d": [
           {
            "colorbar": {
             "outlinewidth": 0,
             "ticks": ""
            },
            "type": "mesh3d"
           }
          ],
          "parcoords": [
           {
            "line": {
             "colorbar": {
              "outlinewidth": 0,
              "ticks": ""
             }
            },
            "type": "parcoords"
           }
          ],
          "pie": [
           {
            "automargin": true,
            "type": "pie"
           }
          ],
          "scatter": [
           {
            "fillpattern": {
             "fillmode": "overlay",
             "size": 10,
             "solidity": 0.2
            },
            "type": "scatter"
           }
          ],
          "scatter3d": [
           {
            "line": {
             "colorbar": {
              "outlinewidth": 0,
              "ticks": ""
             }
            },
            "marker": {
             "colorbar": {
              "outlinewidth": 0,
              "ticks": ""
             }
            },
            "type": "scatter3d"
           }
          ],
          "scattercarpet": [
           {
            "marker": {
             "colorbar": {
              "outlinewidth": 0,
              "ticks": ""
             }
            },
            "type": "scattercarpet"
           }
          ],
          "scattergeo": [
           {
            "marker": {
             "colorbar": {
              "outlinewidth": 0,
              "ticks": ""
             }
            },
            "type": "scattergeo"
           }
          ],
          "scattergl": [
           {
            "marker": {
             "colorbar": {
              "outlinewidth": 0,
              "ticks": ""
             }
            },
            "type": "scattergl"
           }
          ],
          "scattermap": [
           {
            "marker": {
             "colorbar": {
              "outlinewidth": 0,
              "ticks": ""
             }
            },
            "type": "scattermap"
           }
          ],
          "scattermapbox": [
           {
            "marker": {
             "colorbar": {
              "outlinewidth": 0,
              "ticks": ""
             }
            },
            "type": "scattermapbox"
           }
          ],
          "scatterpolar": [
           {
            "marker": {
             "colorbar": {
              "outlinewidth": 0,
              "ticks": ""
             }
            },
            "type": "scatterpolar"
           }
          ],
          "scatterpolargl": [
           {
            "marker": {
             "colorbar": {
              "outlinewidth": 0,
              "ticks": ""
             }
            },
            "type": "scatterpolargl"
           }
          ],
          "scatterternary": [
           {
            "marker": {
             "colorbar": {
              "outlinewidth": 0,
              "ticks": ""
             }
            },
            "type": "scatterternary"
           }
          ],
          "surface": [
           {
            "colorbar": {
             "outlinewidth": 0,
             "ticks": ""
            },
            "colorscale": [
             [
              0,
              "#0d0887"
             ],
             [
              0.1111111111111111,
              "#46039f"
             ],
             [
              0.2222222222222222,
              "#7201a8"
             ],
             [
              0.3333333333333333,
              "#9c179e"
             ],
             [
              0.4444444444444444,
              "#bd3786"
             ],
             [
              0.5555555555555556,
              "#d8576b"
             ],
             [
              0.6666666666666666,
              "#ed7953"
             ],
             [
              0.7777777777777778,
              "#fb9f3a"
             ],
             [
              0.8888888888888888,
              "#fdca26"
             ],
             [
              1,
              "#f0f921"
             ]
            ],
            "type": "surface"
           }
          ],
          "table": [
           {
            "cells": {
             "fill": {
              "color": "#EBF0F8"
             },
             "line": {
              "color": "white"
             }
            },
            "header": {
             "fill": {
              "color": "#C8D4E3"
             },
             "line": {
              "color": "white"
             }
            },
            "type": "table"
           }
          ]
         },
         "layout": {
          "annotationdefaults": {
           "arrowcolor": "#2a3f5f",
           "arrowhead": 0,
           "arrowwidth": 1
          },
          "autotypenumbers": "strict",
          "coloraxis": {
           "colorbar": {
            "outlinewidth": 0,
            "ticks": ""
           }
          },
          "colorscale": {
           "diverging": [
            [
             0,
             "#8e0152"
            ],
            [
             0.1,
             "#c51b7d"
            ],
            [
             0.2,
             "#de77ae"
            ],
            [
             0.3,
             "#f1b6da"
            ],
            [
             0.4,
             "#fde0ef"
            ],
            [
             0.5,
             "#f7f7f7"
            ],
            [
             0.6,
             "#e6f5d0"
            ],
            [
             0.7,
             "#b8e186"
            ],
            [
             0.8,
             "#7fbc41"
            ],
            [
             0.9,
             "#4d9221"
            ],
            [
             1,
             "#276419"
            ]
           ],
           "sequential": [
            [
             0,
             "#0d0887"
            ],
            [
             0.1111111111111111,
             "#46039f"
            ],
            [
             0.2222222222222222,
             "#7201a8"
            ],
            [
             0.3333333333333333,
             "#9c179e"
            ],
            [
             0.4444444444444444,
             "#bd3786"
            ],
            [
             0.5555555555555556,
             "#d8576b"
            ],
            [
             0.6666666666666666,
             "#ed7953"
            ],
            [
             0.7777777777777778,
             "#fb9f3a"
            ],
            [
             0.8888888888888888,
             "#fdca26"
            ],
            [
             1,
             "#f0f921"
            ]
           ],
           "sequentialminus": [
            [
             0,
             "#0d0887"
            ],
            [
             0.1111111111111111,
             "#46039f"
            ],
            [
             0.2222222222222222,
             "#7201a8"
            ],
            [
             0.3333333333333333,
             "#9c179e"
            ],
            [
             0.4444444444444444,
             "#bd3786"
            ],
            [
             0.5555555555555556,
             "#d8576b"
            ],
            [
             0.6666666666666666,
             "#ed7953"
            ],
            [
             0.7777777777777778,
             "#fb9f3a"
            ],
            [
             0.8888888888888888,
             "#fdca26"
            ],
            [
             1,
             "#f0f921"
            ]
           ]
          },
          "colorway": [
           "#636efa",
           "#EF553B",
           "#00cc96",
           "#ab63fa",
           "#FFA15A",
           "#19d3f3",
           "#FF6692",
           "#B6E880",
           "#FF97FF",
           "#FECB52"
          ],
          "font": {
           "color": "#2a3f5f"
          },
          "geo": {
           "bgcolor": "white",
           "lakecolor": "white",
           "landcolor": "#E5ECF6",
           "showlakes": true,
           "showland": true,
           "subunitcolor": "white"
          },
          "hoverlabel": {
           "align": "left"
          },
          "hovermode": "closest",
          "mapbox": {
           "style": "light"
          },
          "paper_bgcolor": "white",
          "plot_bgcolor": "#E5ECF6",
          "polar": {
           "angularaxis": {
            "gridcolor": "white",
            "linecolor": "white",
            "ticks": ""
           },
           "bgcolor": "#E5ECF6",
           "radialaxis": {
            "gridcolor": "white",
            "linecolor": "white",
            "ticks": ""
           }
          },
          "scene": {
           "xaxis": {
            "backgroundcolor": "#E5ECF6",
            "gridcolor": "white",
            "gridwidth": 2,
            "linecolor": "white",
            "showbackground": true,
            "ticks": "",
            "zerolinecolor": "white"
           },
           "yaxis": {
            "backgroundcolor": "#E5ECF6",
            "gridcolor": "white",
            "gridwidth": 2,
            "linecolor": "white",
            "showbackground": true,
            "ticks": "",
            "zerolinecolor": "white"
           },
           "zaxis": {
            "backgroundcolor": "#E5ECF6",
            "gridcolor": "white",
            "gridwidth": 2,
            "linecolor": "white",
            "showbackground": true,
            "ticks": "",
            "zerolinecolor": "white"
           }
          },
          "shapedefaults": {
           "line": {
            "color": "#2a3f5f"
           }
          },
          "ternary": {
           "aaxis": {
            "gridcolor": "white",
            "linecolor": "white",
            "ticks": ""
           },
           "baxis": {
            "gridcolor": "white",
            "linecolor": "white",
            "ticks": ""
           },
           "bgcolor": "#E5ECF6",
           "caxis": {
            "gridcolor": "white",
            "linecolor": "white",
            "ticks": ""
           }
          },
          "title": {
           "x": 0.05
          },
          "xaxis": {
           "automargin": true,
           "gridcolor": "white",
           "linecolor": "white",
           "ticks": "",
           "title": {
            "standoff": 15
           },
           "zerolinecolor": "white",
           "zerolinewidth": 2
          },
          "yaxis": {
           "automargin": true,
           "gridcolor": "white",
           "linecolor": "white",
           "ticks": "",
           "title": {
            "standoff": 15
           },
           "zerolinecolor": "white",
           "zerolinewidth": 2
          }
         }
        },
        "title": {
         "font": {
          "color": "#333333",
          "size": 18
         },
         "text": "<b>Meralco Cost per kW for 400 kWh Consumption (2020-2024, Non-Lifeline)</b>",
         "x": 0.5,
         "xanchor": "center",
         "y": 0.95
        },
        "xaxis": {
         "dtick": "M12",
         "gridcolor": "rgba(0,0,0,0.2)",
         "range": [
          "2020-01-01",
          "2024-12-31"
         ],
         "showgrid": true,
         "tickformat": "%Y",
         "title": {
          "text": "Date"
         }
        },
        "yaxis": {
         "gridcolor": "rgba(0,0,0,0.2)",
         "showgrid": true,
         "title": {
          "text": "Cost (pesos)"
         }
        }
       }
      }
     },
     "metadata": {},
     "output_type": "display_data"
    }
   ],
   "source": [
    "plot_specific_kwh_df(400)"
   ]
  },
  {
   "cell_type": "code",
   "execution_count": 531,
   "id": "ee801675",
   "metadata": {},
   "outputs": [
    {
     "data": {
      "application/vnd.plotly.v1+json": {
       "config": {
        "plotlyServerURL": "https://plot.ly"
       },
       "data": [
        {
         "boxpoints": "all",
         "fillcolor": "rgba(0,0,255,0.2)",
         "jitter": 0.4,
         "line": {
          "width": 1
         },
         "marker": {
          "color": "blue",
          "size": 5
         },
         "name": "2020",
         "pointpos": 0,
         "type": "box",
         "y": {
          "bdata": "XdxGA3grJEAhH/RsVv0iQHrHKTqSCyNAb/CFyVRBI0Dgvg6cM8IiQPOOU3QktyJAKjqSy3+oIkDIBz2bVT8iQFZ9rrZiHyJAr5RliGNdIkDwp8ZLN0kiQIEExY8xNyJA",
          "dtype": "f8"
         }
        },
        {
         "boxpoints": "all",
         "fillcolor": "rgba(0,0,255,0.2)",
         "jitter": 0.4,
         "line": {
          "width": 1
         },
         "marker": {
          "color": "blue",
          "size": 5
         },
         "name": "2021",
         "pointpos": 0,
         "type": "box",
         "y": {
          "bdata": "+Q/pt6/DIkAdyeU/pJ8iQA8LtaZ55yFAowG8BRIUIkCoNc07TnEiQLWmeccpmiJA3NeBc0YUI0Ch+DHmrkUjQF1txf6yeyNAfGEyVTCKI0A3iUFg5TAkQDbNO07R0SRA",
          "dtype": "f8"
         }
        },
        {
         "boxpoints": "all",
         "fillcolor": "rgba(0,0,255,0.2)",
         "jitter": 0.4,
         "line": {
          "width": 1
         },
         "marker": {
          "color": "blue",
          "size": 5
         },
         "name": "2022",
         "pointpos": 0,
         "type": "box",
         "y": {
          "bdata": "RIts5/upJEAeFmpN824kQJCg+DHmjiRAqMZLN4mhJUD5MeauJWQlQDlFR3L5LyZALpCg+DHGJEBqTfOOU1QkQLFQa5p3HCVA9GxWfa72JEAZc9cS8iElQAn5oGezyiVA",
          "dtype": "f8"
         }
        },
        {
         "boxpoints": "all",
         "fillcolor": "rgba(0,0,255,0.2)",
         "jitter": 0.4,
         "line": {
          "width": 1
         },
         "marker": {
          "color": "blue",
          "size": 5
         },
         "name": "2023",
         "pointpos": 0,
         "type": "box",
         "y": {
          "bdata": "Y+5aQj4IJ0AxCKwcWgQnQLMMcayLGyhAArwFEhTfJ0C3Yn/ZPTkoQKyt2F92DylAA3gLJCieJ0B+HThnRAknQGFUUiegCShAOPjCZKrgKEDUK2UZ4lgpQOF6FK5HwSdA",
          "dtype": "f8"
         }
        },
        {
         "boxpoints": "all",
         "fillcolor": "rgba(0,0,255,0.2)",
         "jitter": 0.4,
         "line": {
          "width": 1
         },
         "marker": {
          "color": "blue",
          "size": 5
         },
         "name": "2024",
         "pointpos": 0,
         "type": "box",
         "y": {
          "bdata": "7C+7Jw/rJ0DDZKpgVBIpQHUCmggbHilAo5I6AU0kJ0CpE9BE2BAoQBUdyeU/JCRAqRPQRNhwKEAaUdobfIEoQFRSJ6CJ0ChARrbz/dQYKED6fmq8dPMoQGEyVTAqKSlA",
          "dtype": "f8"
         }
        }
       ],
       "layout": {
        "paper_bgcolor": "white",
        "plot_bgcolor": "#FAFAFA",
        "template": {
         "data": {
          "bar": [
           {
            "error_x": {
             "color": "#2a3f5f"
            },
            "error_y": {
             "color": "#2a3f5f"
            },
            "marker": {
             "line": {
              "color": "#E5ECF6",
              "width": 0.5
             },
             "pattern": {
              "fillmode": "overlay",
              "size": 10,
              "solidity": 0.2
             }
            },
            "type": "bar"
           }
          ],
          "barpolar": [
           {
            "marker": {
             "line": {
              "color": "#E5ECF6",
              "width": 0.5
             },
             "pattern": {
              "fillmode": "overlay",
              "size": 10,
              "solidity": 0.2
             }
            },
            "type": "barpolar"
           }
          ],
          "carpet": [
           {
            "aaxis": {
             "endlinecolor": "#2a3f5f",
             "gridcolor": "white",
             "linecolor": "white",
             "minorgridcolor": "white",
             "startlinecolor": "#2a3f5f"
            },
            "baxis": {
             "endlinecolor": "#2a3f5f",
             "gridcolor": "white",
             "linecolor": "white",
             "minorgridcolor": "white",
             "startlinecolor": "#2a3f5f"
            },
            "type": "carpet"
           }
          ],
          "choropleth": [
           {
            "colorbar": {
             "outlinewidth": 0,
             "ticks": ""
            },
            "type": "choropleth"
           }
          ],
          "contour": [
           {
            "colorbar": {
             "outlinewidth": 0,
             "ticks": ""
            },
            "colorscale": [
             [
              0,
              "#0d0887"
             ],
             [
              0.1111111111111111,
              "#46039f"
             ],
             [
              0.2222222222222222,
              "#7201a8"
             ],
             [
              0.3333333333333333,
              "#9c179e"
             ],
             [
              0.4444444444444444,
              "#bd3786"
             ],
             [
              0.5555555555555556,
              "#d8576b"
             ],
             [
              0.6666666666666666,
              "#ed7953"
             ],
             [
              0.7777777777777778,
              "#fb9f3a"
             ],
             [
              0.8888888888888888,
              "#fdca26"
             ],
             [
              1,
              "#f0f921"
             ]
            ],
            "type": "contour"
           }
          ],
          "contourcarpet": [
           {
            "colorbar": {
             "outlinewidth": 0,
             "ticks": ""
            },
            "type": "contourcarpet"
           }
          ],
          "heatmap": [
           {
            "colorbar": {
             "outlinewidth": 0,
             "ticks": ""
            },
            "colorscale": [
             [
              0,
              "#0d0887"
             ],
             [
              0.1111111111111111,
              "#46039f"
             ],
             [
              0.2222222222222222,
              "#7201a8"
             ],
             [
              0.3333333333333333,
              "#9c179e"
             ],
             [
              0.4444444444444444,
              "#bd3786"
             ],
             [
              0.5555555555555556,
              "#d8576b"
             ],
             [
              0.6666666666666666,
              "#ed7953"
             ],
             [
              0.7777777777777778,
              "#fb9f3a"
             ],
             [
              0.8888888888888888,
              "#fdca26"
             ],
             [
              1,
              "#f0f921"
             ]
            ],
            "type": "heatmap"
           }
          ],
          "histogram": [
           {
            "marker": {
             "pattern": {
              "fillmode": "overlay",
              "size": 10,
              "solidity": 0.2
             }
            },
            "type": "histogram"
           }
          ],
          "histogram2d": [
           {
            "colorbar": {
             "outlinewidth": 0,
             "ticks": ""
            },
            "colorscale": [
             [
              0,
              "#0d0887"
             ],
             [
              0.1111111111111111,
              "#46039f"
             ],
             [
              0.2222222222222222,
              "#7201a8"
             ],
             [
              0.3333333333333333,
              "#9c179e"
             ],
             [
              0.4444444444444444,
              "#bd3786"
             ],
             [
              0.5555555555555556,
              "#d8576b"
             ],
             [
              0.6666666666666666,
              "#ed7953"
             ],
             [
              0.7777777777777778,
              "#fb9f3a"
             ],
             [
              0.8888888888888888,
              "#fdca26"
             ],
             [
              1,
              "#f0f921"
             ]
            ],
            "type": "histogram2d"
           }
          ],
          "histogram2dcontour": [
           {
            "colorbar": {
             "outlinewidth": 0,
             "ticks": ""
            },
            "colorscale": [
             [
              0,
              "#0d0887"
             ],
             [
              0.1111111111111111,
              "#46039f"
             ],
             [
              0.2222222222222222,
              "#7201a8"
             ],
             [
              0.3333333333333333,
              "#9c179e"
             ],
             [
              0.4444444444444444,
              "#bd3786"
             ],
             [
              0.5555555555555556,
              "#d8576b"
             ],
             [
              0.6666666666666666,
              "#ed7953"
             ],
             [
              0.7777777777777778,
              "#fb9f3a"
             ],
             [
              0.8888888888888888,
              "#fdca26"
             ],
             [
              1,
              "#f0f921"
             ]
            ],
            "type": "histogram2dcontour"
           }
          ],
          "mesh3d": [
           {
            "colorbar": {
             "outlinewidth": 0,
             "ticks": ""
            },
            "type": "mesh3d"
           }
          ],
          "parcoords": [
           {
            "line": {
             "colorbar": {
              "outlinewidth": 0,
              "ticks": ""
             }
            },
            "type": "parcoords"
           }
          ],
          "pie": [
           {
            "automargin": true,
            "type": "pie"
           }
          ],
          "scatter": [
           {
            "fillpattern": {
             "fillmode": "overlay",
             "size": 10,
             "solidity": 0.2
            },
            "type": "scatter"
           }
          ],
          "scatter3d": [
           {
            "line": {
             "colorbar": {
              "outlinewidth": 0,
              "ticks": ""
             }
            },
            "marker": {
             "colorbar": {
              "outlinewidth": 0,
              "ticks": ""
             }
            },
            "type": "scatter3d"
           }
          ],
          "scattercarpet": [
           {
            "marker": {
             "colorbar": {
              "outlinewidth": 0,
              "ticks": ""
             }
            },
            "type": "scattercarpet"
           }
          ],
          "scattergeo": [
           {
            "marker": {
             "colorbar": {
              "outlinewidth": 0,
              "ticks": ""
             }
            },
            "type": "scattergeo"
           }
          ],
          "scattergl": [
           {
            "marker": {
             "colorbar": {
              "outlinewidth": 0,
              "ticks": ""
             }
            },
            "type": "scattergl"
           }
          ],
          "scattermap": [
           {
            "marker": {
             "colorbar": {
              "outlinewidth": 0,
              "ticks": ""
             }
            },
            "type": "scattermap"
           }
          ],
          "scattermapbox": [
           {
            "marker": {
             "colorbar": {
              "outlinewidth": 0,
              "ticks": ""
             }
            },
            "type": "scattermapbox"
           }
          ],
          "scatterpolar": [
           {
            "marker": {
             "colorbar": {
              "outlinewidth": 0,
              "ticks": ""
             }
            },
            "type": "scatterpolar"
           }
          ],
          "scatterpolargl": [
           {
            "marker": {
             "colorbar": {
              "outlinewidth": 0,
              "ticks": ""
             }
            },
            "type": "scatterpolargl"
           }
          ],
          "scatterternary": [
           {
            "marker": {
             "colorbar": {
              "outlinewidth": 0,
              "ticks": ""
             }
            },
            "type": "scatterternary"
           }
          ],
          "surface": [
           {
            "colorbar": {
             "outlinewidth": 0,
             "ticks": ""
            },
            "colorscale": [
             [
              0,
              "#0d0887"
             ],
             [
              0.1111111111111111,
              "#46039f"
             ],
             [
              0.2222222222222222,
              "#7201a8"
             ],
             [
              0.3333333333333333,
              "#9c179e"
             ],
             [
              0.4444444444444444,
              "#bd3786"
             ],
             [
              0.5555555555555556,
              "#d8576b"
             ],
             [
              0.6666666666666666,
              "#ed7953"
             ],
             [
              0.7777777777777778,
              "#fb9f3a"
             ],
             [
              0.8888888888888888,
              "#fdca26"
             ],
             [
              1,
              "#f0f921"
             ]
            ],
            "type": "surface"
           }
          ],
          "table": [
           {
            "cells": {
             "fill": {
              "color": "#EBF0F8"
             },
             "line": {
              "color": "white"
             }
            },
            "header": {
             "fill": {
              "color": "#C8D4E3"
             },
             "line": {
              "color": "white"
             }
            },
            "type": "table"
           }
          ]
         },
         "layout": {
          "annotationdefaults": {
           "arrowcolor": "#2a3f5f",
           "arrowhead": 0,
           "arrowwidth": 1
          },
          "autotypenumbers": "strict",
          "coloraxis": {
           "colorbar": {
            "outlinewidth": 0,
            "ticks": ""
           }
          },
          "colorscale": {
           "diverging": [
            [
             0,
             "#8e0152"
            ],
            [
             0.1,
             "#c51b7d"
            ],
            [
             0.2,
             "#de77ae"
            ],
            [
             0.3,
             "#f1b6da"
            ],
            [
             0.4,
             "#fde0ef"
            ],
            [
             0.5,
             "#f7f7f7"
            ],
            [
             0.6,
             "#e6f5d0"
            ],
            [
             0.7,
             "#b8e186"
            ],
            [
             0.8,
             "#7fbc41"
            ],
            [
             0.9,
             "#4d9221"
            ],
            [
             1,
             "#276419"
            ]
           ],
           "sequential": [
            [
             0,
             "#0d0887"
            ],
            [
             0.1111111111111111,
             "#46039f"
            ],
            [
             0.2222222222222222,
             "#7201a8"
            ],
            [
             0.3333333333333333,
             "#9c179e"
            ],
            [
             0.4444444444444444,
             "#bd3786"
            ],
            [
             0.5555555555555556,
             "#d8576b"
            ],
            [
             0.6666666666666666,
             "#ed7953"
            ],
            [
             0.7777777777777778,
             "#fb9f3a"
            ],
            [
             0.8888888888888888,
             "#fdca26"
            ],
            [
             1,
             "#f0f921"
            ]
           ],
           "sequentialminus": [
            [
             0,
             "#0d0887"
            ],
            [
             0.1111111111111111,
             "#46039f"
            ],
            [
             0.2222222222222222,
             "#7201a8"
            ],
            [
             0.3333333333333333,
             "#9c179e"
            ],
            [
             0.4444444444444444,
             "#bd3786"
            ],
            [
             0.5555555555555556,
             "#d8576b"
            ],
            [
             0.6666666666666666,
             "#ed7953"
            ],
            [
             0.7777777777777778,
             "#fb9f3a"
            ],
            [
             0.8888888888888888,
             "#fdca26"
            ],
            [
             1,
             "#f0f921"
            ]
           ]
          },
          "colorway": [
           "#636efa",
           "#EF553B",
           "#00cc96",
           "#ab63fa",
           "#FFA15A",
           "#19d3f3",
           "#FF6692",
           "#B6E880",
           "#FF97FF",
           "#FECB52"
          ],
          "font": {
           "color": "#2a3f5f"
          },
          "geo": {
           "bgcolor": "white",
           "lakecolor": "white",
           "landcolor": "#E5ECF6",
           "showlakes": true,
           "showland": true,
           "subunitcolor": "white"
          },
          "hoverlabel": {
           "align": "left"
          },
          "hovermode": "closest",
          "mapbox": {
           "style": "light"
          },
          "paper_bgcolor": "white",
          "plot_bgcolor": "#E5ECF6",
          "polar": {
           "angularaxis": {
            "gridcolor": "white",
            "linecolor": "white",
            "ticks": ""
           },
           "bgcolor": "#E5ECF6",
           "radialaxis": {
            "gridcolor": "white",
            "linecolor": "white",
            "ticks": ""
           }
          },
          "scene": {
           "xaxis": {
            "backgroundcolor": "#E5ECF6",
            "gridcolor": "white",
            "gridwidth": 2,
            "linecolor": "white",
            "showbackground": true,
            "ticks": "",
            "zerolinecolor": "white"
           },
           "yaxis": {
            "backgroundcolor": "#E5ECF6",
            "gridcolor": "white",
            "gridwidth": 2,
            "linecolor": "white",
            "showbackground": true,
            "ticks": "",
            "zerolinecolor": "white"
           },
           "zaxis": {
            "backgroundcolor": "#E5ECF6",
            "gridcolor": "white",
            "gridwidth": 2,
            "linecolor": "white",
            "showbackground": true,
            "ticks": "",
            "zerolinecolor": "white"
           }
          },
          "shapedefaults": {
           "line": {
            "color": "#2a3f5f"
           }
          },
          "ternary": {
           "aaxis": {
            "gridcolor": "white",
            "linecolor": "white",
            "ticks": ""
           },
           "baxis": {
            "gridcolor": "white",
            "linecolor": "white",
            "ticks": ""
           },
           "bgcolor": "#E5ECF6",
           "caxis": {
            "gridcolor": "white",
            "linecolor": "white",
            "ticks": ""
           }
          },
          "title": {
           "x": 0.05
          },
          "xaxis": {
           "automargin": true,
           "gridcolor": "white",
           "linecolor": "white",
           "ticks": "",
           "title": {
            "standoff": 15
           },
           "zerolinecolor": "white",
           "zerolinewidth": 2
          },
          "yaxis": {
           "automargin": true,
           "gridcolor": "white",
           "linecolor": "white",
           "ticks": "",
           "title": {
            "standoff": 15
           },
           "zerolinecolor": "white",
           "zerolinewidth": 2
          }
         }
        },
        "title": {
         "font": {
          "color": "#333333",
          "size": 18
         },
         "text": "<b>Distribution of Meralco Cost per kWh for 400 kWh Consumption (2020-2024, Non-Lifeline)</b>",
         "x": 0.5,
         "xanchor": "center",
         "y": 0.95
        },
        "xaxis": {
         "gridcolor": "rgba(0,0,0,0.2)",
         "showgrid": true,
         "title": {
          "text": "Year"
         }
        },
        "yaxis": {
         "gridcolor": "rgba(0,0,0,0.2)",
         "showgrid": true,
         "title": {
          "text": "Cost (pesos)"
         }
        }
       }
      }
     },
     "metadata": {},
     "output_type": "display_data"
    }
   ],
   "source": [
    "plot_kwh_boxplot(400)"
   ]
  },
  {
   "cell_type": "markdown",
   "id": "a3f5e51b",
   "metadata": {},
   "source": [
    "Comparing Fuel Efficiencies"
   ]
  },
  {
   "cell_type": "code",
   "execution_count": 532,
   "id": "e825b307",
   "metadata": {},
   "outputs": [
    {
     "data": {
      "application/vnd.plotly.v1+json": {
       "config": {
        "plotlyServerURL": "https://plot.ly"
       },
       "data": [
        {
         "boxmean": "sd",
         "marker": {
          "color": "red"
         },
         "name": "ICE",
         "type": "box",
         "xaxis": "x",
         "y": {
          "bdata": "AAAAAAAALkCamZmZmZkkQGZmZmZmZi9AmpmZmZn5NUAAAAAAAAAzQAAAAAAAgDFAAAAAAAAAL0BmZmZmZmYxQAAAAAAAAClAXI/C9SjcLkA=",
          "dtype": "f8"
         },
         "yaxis": "y"
        },
        {
         "boxmean": "sd",
         "marker": {
          "color": "blue"
         },
         "name": "Hybrid",
         "type": "box",
         "xaxis": "x",
         "y": {
          "bdata": "FK5H4XpUMkDNzMzMzEw0QJqZmZmZmTNAAAAAAAAAMEAzMzMzMzMvQM3MzMzMzDBAMzMzMzOzNUAAAAAAAAA0QDMzMzMzMzFAAAAAAAAALEA=",
          "dtype": "f8"
         },
         "yaxis": "y"
        },
        {
         "boxmean": "sd",
         "marker": {
          "color": "green"
         },
         "name": "BEV",
         "type": "box",
         "xaxis": "x2",
         "y": {
          "bdata": "AAAAAAAAI0A9ys3foNsVQAAAAAAAACRAHyvN7SurF0DtwJmVduETQPRiMJginxVAPoZAjuM4FkD7sbvTrOAQQPRiMJginxVAhEkXuawYGECzJEUG52MYQA==",
          "dtype": "f8"
         },
         "yaxis": "y2"
        }
       ],
       "layout": {
        "annotations": [
         {
          "font": {
           "size": 16
          },
          "showarrow": false,
          "text": "ICE & Hybrid Fuel Efficiency (Km/L)",
          "x": 0.07,
          "xref": "paper",
          "y": 1.1,
          "yref": "paper"
         },
         {
          "font": {
           "size": 16
          },
          "showarrow": false,
          "text": "BEV Fuel Efficiency (Km/KWh)",
          "x": 0.9,
          "xref": "paper",
          "y": 1.1,
          "yref": "paper"
         },
         {
          "font": {
           "size": 12
          },
          "showarrow": false,
          "text": "ICE: Internal Combustion Engine Vehicles",
          "x": 0,
          "xref": "paper",
          "y": -0.17,
          "yref": "paper"
         },
         {
          "font": {
           "size": 12
          },
          "showarrow": false,
          "text": "BEV: Battery Electric Vehicle",
          "x": 0,
          "xref": "paper",
          "y": -0.23,
          "yref": "paper"
         }
        ],
        "showlegend": false,
        "template": {
         "data": {
          "bar": [
           {
            "error_x": {
             "color": "#2a3f5f"
            },
            "error_y": {
             "color": "#2a3f5f"
            },
            "marker": {
             "line": {
              "color": "#E5ECF6",
              "width": 0.5
             },
             "pattern": {
              "fillmode": "overlay",
              "size": 10,
              "solidity": 0.2
             }
            },
            "type": "bar"
           }
          ],
          "barpolar": [
           {
            "marker": {
             "line": {
              "color": "#E5ECF6",
              "width": 0.5
             },
             "pattern": {
              "fillmode": "overlay",
              "size": 10,
              "solidity": 0.2
             }
            },
            "type": "barpolar"
           }
          ],
          "carpet": [
           {
            "aaxis": {
             "endlinecolor": "#2a3f5f",
             "gridcolor": "white",
             "linecolor": "white",
             "minorgridcolor": "white",
             "startlinecolor": "#2a3f5f"
            },
            "baxis": {
             "endlinecolor": "#2a3f5f",
             "gridcolor": "white",
             "linecolor": "white",
             "minorgridcolor": "white",
             "startlinecolor": "#2a3f5f"
            },
            "type": "carpet"
           }
          ],
          "choropleth": [
           {
            "colorbar": {
             "outlinewidth": 0,
             "ticks": ""
            },
            "type": "choropleth"
           }
          ],
          "contour": [
           {
            "colorbar": {
             "outlinewidth": 0,
             "ticks": ""
            },
            "colorscale": [
             [
              0,
              "#0d0887"
             ],
             [
              0.1111111111111111,
              "#46039f"
             ],
             [
              0.2222222222222222,
              "#7201a8"
             ],
             [
              0.3333333333333333,
              "#9c179e"
             ],
             [
              0.4444444444444444,
              "#bd3786"
             ],
             [
              0.5555555555555556,
              "#d8576b"
             ],
             [
              0.6666666666666666,
              "#ed7953"
             ],
             [
              0.7777777777777778,
              "#fb9f3a"
             ],
             [
              0.8888888888888888,
              "#fdca26"
             ],
             [
              1,
              "#f0f921"
             ]
            ],
            "type": "contour"
           }
          ],
          "contourcarpet": [
           {
            "colorbar": {
             "outlinewidth": 0,
             "ticks": ""
            },
            "type": "contourcarpet"
           }
          ],
          "heatmap": [
           {
            "colorbar": {
             "outlinewidth": 0,
             "ticks": ""
            },
            "colorscale": [
             [
              0,
              "#0d0887"
             ],
             [
              0.1111111111111111,
              "#46039f"
             ],
             [
              0.2222222222222222,
              "#7201a8"
             ],
             [
              0.3333333333333333,
              "#9c179e"
             ],
             [
              0.4444444444444444,
              "#bd3786"
             ],
             [
              0.5555555555555556,
              "#d8576b"
             ],
             [
              0.6666666666666666,
              "#ed7953"
             ],
             [
              0.7777777777777778,
              "#fb9f3a"
             ],
             [
              0.8888888888888888,
              "#fdca26"
             ],
             [
              1,
              "#f0f921"
             ]
            ],
            "type": "heatmap"
           }
          ],
          "histogram": [
           {
            "marker": {
             "pattern": {
              "fillmode": "overlay",
              "size": 10,
              "solidity": 0.2
             }
            },
            "type": "histogram"
           }
          ],
          "histogram2d": [
           {
            "colorbar": {
             "outlinewidth": 0,
             "ticks": ""
            },
            "colorscale": [
             [
              0,
              "#0d0887"
             ],
             [
              0.1111111111111111,
              "#46039f"
             ],
             [
              0.2222222222222222,
              "#7201a8"
             ],
             [
              0.3333333333333333,
              "#9c179e"
             ],
             [
              0.4444444444444444,
              "#bd3786"
             ],
             [
              0.5555555555555556,
              "#d8576b"
             ],
             [
              0.6666666666666666,
              "#ed7953"
             ],
             [
              0.7777777777777778,
              "#fb9f3a"
             ],
             [
              0.8888888888888888,
              "#fdca26"
             ],
             [
              1,
              "#f0f921"
             ]
            ],
            "type": "histogram2d"
           }
          ],
          "histogram2dcontour": [
           {
            "colorbar": {
             "outlinewidth": 0,
             "ticks": ""
            },
            "colorscale": [
             [
              0,
              "#0d0887"
             ],
             [
              0.1111111111111111,
              "#46039f"
             ],
             [
              0.2222222222222222,
              "#7201a8"
             ],
             [
              0.3333333333333333,
              "#9c179e"
             ],
             [
              0.4444444444444444,
              "#bd3786"
             ],
             [
              0.5555555555555556,
              "#d8576b"
             ],
             [
              0.6666666666666666,
              "#ed7953"
             ],
             [
              0.7777777777777778,
              "#fb9f3a"
             ],
             [
              0.8888888888888888,
              "#fdca26"
             ],
             [
              1,
              "#f0f921"
             ]
            ],
            "type": "histogram2dcontour"
           }
          ],
          "mesh3d": [
           {
            "colorbar": {
             "outlinewidth": 0,
             "ticks": ""
            },
            "type": "mesh3d"
           }
          ],
          "parcoords": [
           {
            "line": {
             "colorbar": {
              "outlinewidth": 0,
              "ticks": ""
             }
            },
            "type": "parcoords"
           }
          ],
          "pie": [
           {
            "automargin": true,
            "type": "pie"
           }
          ],
          "scatter": [
           {
            "fillpattern": {
             "fillmode": "overlay",
             "size": 10,
             "solidity": 0.2
            },
            "type": "scatter"
           }
          ],
          "scatter3d": [
           {
            "line": {
             "colorbar": {
              "outlinewidth": 0,
              "ticks": ""
             }
            },
            "marker": {
             "colorbar": {
              "outlinewidth": 0,
              "ticks": ""
             }
            },
            "type": "scatter3d"
           }
          ],
          "scattercarpet": [
           {
            "marker": {
             "colorbar": {
              "outlinewidth": 0,
              "ticks": ""
             }
            },
            "type": "scattercarpet"
           }
          ],
          "scattergeo": [
           {
            "marker": {
             "colorbar": {
              "outlinewidth": 0,
              "ticks": ""
             }
            },
            "type": "scattergeo"
           }
          ],
          "scattergl": [
           {
            "marker": {
             "colorbar": {
              "outlinewidth": 0,
              "ticks": ""
             }
            },
            "type": "scattergl"
           }
          ],
          "scattermap": [
           {
            "marker": {
             "colorbar": {
              "outlinewidth": 0,
              "ticks": ""
             }
            },
            "type": "scattermap"
           }
          ],
          "scattermapbox": [
           {
            "marker": {
             "colorbar": {
              "outlinewidth": 0,
              "ticks": ""
             }
            },
            "type": "scattermapbox"
           }
          ],
          "scatterpolar": [
           {
            "marker": {
             "colorbar": {
              "outlinewidth": 0,
              "ticks": ""
             }
            },
            "type": "scatterpolar"
           }
          ],
          "scatterpolargl": [
           {
            "marker": {
             "colorbar": {
              "outlinewidth": 0,
              "ticks": ""
             }
            },
            "type": "scatterpolargl"
           }
          ],
          "scatterternary": [
           {
            "marker": {
             "colorbar": {
              "outlinewidth": 0,
              "ticks": ""
             }
            },
            "type": "scatterternary"
           }
          ],
          "surface": [
           {
            "colorbar": {
             "outlinewidth": 0,
             "ticks": ""
            },
            "colorscale": [
             [
              0,
              "#0d0887"
             ],
             [
              0.1111111111111111,
              "#46039f"
             ],
             [
              0.2222222222222222,
              "#7201a8"
             ],
             [
              0.3333333333333333,
              "#9c179e"
             ],
             [
              0.4444444444444444,
              "#bd3786"
             ],
             [
              0.5555555555555556,
              "#d8576b"
             ],
             [
              0.6666666666666666,
              "#ed7953"
             ],
             [
              0.7777777777777778,
              "#fb9f3a"
             ],
             [
              0.8888888888888888,
              "#fdca26"
             ],
             [
              1,
              "#f0f921"
             ]
            ],
            "type": "surface"
           }
          ],
          "table": [
           {
            "cells": {
             "fill": {
              "color": "#EBF0F8"
             },
             "line": {
              "color": "white"
             }
            },
            "header": {
             "fill": {
              "color": "#C8D4E3"
             },
             "line": {
              "color": "white"
             }
            },
            "type": "table"
           }
          ]
         },
         "layout": {
          "annotationdefaults": {
           "arrowcolor": "#2a3f5f",
           "arrowhead": 0,
           "arrowwidth": 1
          },
          "autotypenumbers": "strict",
          "coloraxis": {
           "colorbar": {
            "outlinewidth": 0,
            "ticks": ""
           }
          },
          "colorscale": {
           "diverging": [
            [
             0,
             "#8e0152"
            ],
            [
             0.1,
             "#c51b7d"
            ],
            [
             0.2,
             "#de77ae"
            ],
            [
             0.3,
             "#f1b6da"
            ],
            [
             0.4,
             "#fde0ef"
            ],
            [
             0.5,
             "#f7f7f7"
            ],
            [
             0.6,
             "#e6f5d0"
            ],
            [
             0.7,
             "#b8e186"
            ],
            [
             0.8,
             "#7fbc41"
            ],
            [
             0.9,
             "#4d9221"
            ],
            [
             1,
             "#276419"
            ]
           ],
           "sequential": [
            [
             0,
             "#0d0887"
            ],
            [
             0.1111111111111111,
             "#46039f"
            ],
            [
             0.2222222222222222,
             "#7201a8"
            ],
            [
             0.3333333333333333,
             "#9c179e"
            ],
            [
             0.4444444444444444,
             "#bd3786"
            ],
            [
             0.5555555555555556,
             "#d8576b"
            ],
            [
             0.6666666666666666,
             "#ed7953"
            ],
            [
             0.7777777777777778,
             "#fb9f3a"
            ],
            [
             0.8888888888888888,
             "#fdca26"
            ],
            [
             1,
             "#f0f921"
            ]
           ],
           "sequentialminus": [
            [
             0,
             "#0d0887"
            ],
            [
             0.1111111111111111,
             "#46039f"
            ],
            [
             0.2222222222222222,
             "#7201a8"
            ],
            [
             0.3333333333333333,
             "#9c179e"
            ],
            [
             0.4444444444444444,
             "#bd3786"
            ],
            [
             0.5555555555555556,
             "#d8576b"
            ],
            [
             0.6666666666666666,
             "#ed7953"
            ],
            [
             0.7777777777777778,
             "#fb9f3a"
            ],
            [
             0.8888888888888888,
             "#fdca26"
            ],
            [
             1,
             "#f0f921"
            ]
           ]
          },
          "colorway": [
           "#636efa",
           "#EF553B",
           "#00cc96",
           "#ab63fa",
           "#FFA15A",
           "#19d3f3",
           "#FF6692",
           "#B6E880",
           "#FF97FF",
           "#FECB52"
          ],
          "font": {
           "color": "#2a3f5f"
          },
          "geo": {
           "bgcolor": "white",
           "lakecolor": "white",
           "landcolor": "#E5ECF6",
           "showlakes": true,
           "showland": true,
           "subunitcolor": "white"
          },
          "hoverlabel": {
           "align": "left"
          },
          "hovermode": "closest",
          "mapbox": {
           "style": "light"
          },
          "paper_bgcolor": "white",
          "plot_bgcolor": "#E5ECF6",
          "polar": {
           "angularaxis": {
            "gridcolor": "white",
            "linecolor": "white",
            "ticks": ""
           },
           "bgcolor": "#E5ECF6",
           "radialaxis": {
            "gridcolor": "white",
            "linecolor": "white",
            "ticks": ""
           }
          },
          "scene": {
           "xaxis": {
            "backgroundcolor": "#E5ECF6",
            "gridcolor": "white",
            "gridwidth": 2,
            "linecolor": "white",
            "showbackground": true,
            "ticks": "",
            "zerolinecolor": "white"
           },
           "yaxis": {
            "backgroundcolor": "#E5ECF6",
            "gridcolor": "white",
            "gridwidth": 2,
            "linecolor": "white",
            "showbackground": true,
            "ticks": "",
            "zerolinecolor": "white"
           },
           "zaxis": {
            "backgroundcolor": "#E5ECF6",
            "gridcolor": "white",
            "gridwidth": 2,
            "linecolor": "white",
            "showbackground": true,
            "ticks": "",
            "zerolinecolor": "white"
           }
          },
          "shapedefaults": {
           "line": {
            "color": "#2a3f5f"
           }
          },
          "ternary": {
           "aaxis": {
            "gridcolor": "white",
            "linecolor": "white",
            "ticks": ""
           },
           "baxis": {
            "gridcolor": "white",
            "linecolor": "white",
            "ticks": ""
           },
           "bgcolor": "#E5ECF6",
           "caxis": {
            "gridcolor": "white",
            "linecolor": "white",
            "ticks": ""
           }
          },
          "title": {
           "x": 0.05
          },
          "xaxis": {
           "automargin": true,
           "gridcolor": "white",
           "linecolor": "white",
           "ticks": "",
           "title": {
            "standoff": 15
           },
           "zerolinecolor": "white",
           "zerolinewidth": 2
          },
          "yaxis": {
           "automargin": true,
           "gridcolor": "white",
           "linecolor": "white",
           "ticks": "",
           "title": {
            "standoff": 15
           },
           "zerolinecolor": "white",
           "zerolinewidth": 2
          }
         }
        },
        "title": {
         "font": {
          "color": "#333333",
          "size": 20
         },
         "text": "<b>Efficiency Distribution by Car Type</b><br>",
         "x": 0.5,
         "xanchor": "center",
         "y": 0.92
        },
        "xaxis": {
         "anchor": "y",
         "domain": [
          0,
          0.45
         ]
        },
        "xaxis2": {
         "anchor": "y2",
         "domain": [
          0.55,
          1
         ]
        },
        "yaxis": {
         "anchor": "x",
         "domain": [
          0,
          1
         ],
         "title": {
          "text": "Fuel Efficiency (Km/L)"
         }
        },
        "yaxis2": {
         "anchor": "x2",
         "domain": [
          0,
          1
         ],
         "title": {
          "text": "Energy Efficiency (Km/KWh)"
         }
        }
       }
      }
     },
     "metadata": {},
     "output_type": "display_data"
    }
   ],
   "source": [
    "def plot_fuel_efficiency_boxplot(data):\n",
    "    # Filter the data for each category and handle BEV with Km/KWh\n",
    "    ice_data = data[data['Category'] == 'ICE']['Combined (km/L)']\n",
    "    hybrid_data = data[data['Category'] == 'Hybrid']['Combined (km/L)']\n",
    "    bev_data = data[data['Category'] == 'BEV']['Combined (km/L)']\n",
    "\n",
    "    fig = make_subplots(\n",
    "        rows=1, cols=2,\n",
    "        column_widths=[0.5, 0.5]\n",
    "    )\n",
    "    \n",
    "    # ICE & Hybrid boxplots\n",
    "    fig.add_trace(go.Box(\n",
    "        y=ice_data,\n",
    "        name='ICE',\n",
    "        boxmean='sd',\n",
    "        marker=dict(color='red')\n",
    "    ), row=1, col=1)\n",
    "    \n",
    "    fig.add_trace(go.Box(\n",
    "        y=hybrid_data,\n",
    "        name='Hybrid',\n",
    "        boxmean='sd',\n",
    "        marker=dict(color='blue')\n",
    "    ), row=1, col=1)\n",
    "    \n",
    "    # BEV boxplot\n",
    "    fig.add_trace(go.Box(\n",
    "        y=bev_data,\n",
    "        name='BEV',\n",
    "        boxmean='sd',\n",
    "        marker=dict(color='green')\n",
    "    ), row=1, col=2)\n",
    "\n",
    "    fig.update_layout(\n",
    "        title={\n",
    "            'text': (\n",
    "                \"<b>Efficiency Distribution by Car Type</b><br>\"\n",
    "            ),\n",
    "            'y': 0.92,\n",
    "            'x': 0.5,\n",
    "            'xanchor': 'center',\n",
    "            'font': dict(size=20, color='#333333')\n",
    "        },\n",
    "        yaxis_title=\"Fuel Efficiency (Km/L)\",\n",
    "        yaxis2_title=\"Energy Efficiency (Km/KWh)\",\n",
    "        showlegend=False,\n",
    "        annotations=[\n",
    "            dict(\n",
    "                text='ICE & Hybrid Fuel Efficiency (Km/L)',\n",
    "                x=0.07,\n",
    "                y=1.1,\n",
    "                showarrow=False,\n",
    "                font=dict(size=16),\n",
    "                xref=\"paper\",\n",
    "                yref=\"paper\"\n",
    "            ),\n",
    "            dict(\n",
    "                text='BEV Fuel Efficiency (Km/KWh)',\n",
    "                x=0.9,\n",
    "                y=1.1,\n",
    "                showarrow=False,\n",
    "                font=dict(size=16),\n",
    "                xref=\"paper\",\n",
    "                yref=\"paper\"\n",
    "            ),\n",
    "             dict(\n",
    "                text=\"ICE: Internal Combustion Engine Vehicles\",\n",
    "                x=0,\n",
    "                y=-0.17,\n",
    "                showarrow=False,\n",
    "                font=dict(size=12),\n",
    "                xref=\"paper\",\n",
    "                yref=\"paper\"\n",
    "            ),\n",
    "            dict(\n",
    "                text=\"BEV: Battery Electric Vehicle\",\n",
    "                x=0,\n",
    "                y=-0.23,\n",
    "                showarrow=False,\n",
    "                font=dict(size=12),\n",
    "                xref=\"paper\",\n",
    "                yref=\"paper\"\n",
    "            )\n",
    "        ]\n",
    "    )\n",
    "\n",
    "    # Show the plot\n",
    "    fig.show()\n",
    "\n",
    "    fig.write_html(f\"graphs/fuelenergyefficiency_boxplot.html\")\n",
    "\n",
    "plot_fuel_efficiency_boxplot(fuelefficiency_df)"
   ]
  },
  {
   "cell_type": "markdown",
   "id": "bea78866",
   "metadata": {},
   "source": [
    "Comparing gas and electricity"
   ]
  },
  {
   "cell_type": "code",
   "execution_count": 533,
   "id": "520862e7",
   "metadata": {},
   "outputs": [
    {
     "data": {
      "text/plain": [
       "'\\ntest data\\n30, 40, 50\\n6.25, 7, 7.5\\n'"
      ]
     },
     "execution_count": 533,
     "metadata": {},
     "output_type": "execute_result"
    }
   ],
   "source": [
    "def make_comparison_dataframe(km_l: float, km_kwh: float, kwh_consumption: int = 200):\n",
    "    df_gas = ron95_data.copy()\n",
    "    df_elec = get_specific_kwh_df(kwh_consumption)\n",
    "\n",
    "    #print(df_elec)\n",
    "\n",
    "    # Drop excess month in df_gas\n",
    "    date_to_drop = pd.to_datetime('2025-01-01')\n",
    "    df_gas = df_gas[df_gas['Date'] != date_to_drop]\n",
    "\n",
    "    monthly_date_range = pd.date_range(start='2020-01-01', end='2024-12-31', freq='MS')\n",
    "    # Create a new DataFrame with the monthly date range\n",
    "    df_output = pd.DataFrame({'Date': monthly_date_range.date,\n",
    "                              'Gas cost/km':None,\n",
    "                              'Electricity cost/km':None,\n",
    "                              'Difference': None})\n",
    "    \n",
    "    df_gas['Date'] = pd.to_datetime(df_gas['Date'])\n",
    "    df_elec['Date'] = pd.to_datetime(df_elec['Date'])\n",
    "    df_output['Date'] = pd.to_datetime(df_output['Date'])\n",
    "\n",
    "    df_gas = df_gas.set_index('Date')\n",
    "    df_elec = df_elec.set_index('Date')\n",
    "    df_output = df_output.set_index('Date')\n",
    "\n",
    "    # Calculate cost per km for each row\n",
    "    for date in df_output.index:\n",
    "        gas_price = df_gas.loc[date, 'Average Price']\n",
    "        df_output.loc[date, 'Gas cost/km'] = gas_price / km_l  # PHP per km\n",
    "\n",
    "        elec_price = df_elec.loc[date, 'Total Bill']\n",
    "        df_output.loc[date, 'Electricity cost/km'] = elec_price / km_kwh  # PHP per km\n",
    "\n",
    "    # Calculate the difference (Gas cost - Electricity cost)\n",
    "    df_output['Difference'] = df_output['Gas cost/km'] - df_output['Electricity cost/km']\n",
    "    df_output = df_output.reset_index()\n",
    "    return df_output\n",
    "\n",
    "# toyota vios (15) VS byd ATTO 3 (6.25)\n",
    "\"\"\"\n",
    "test data\n",
    "30, 40, 50\n",
    "6.25, 7, 7.5\n",
    "\"\"\""
   ]
  },
  {
   "cell_type": "markdown",
   "id": "7c9fef2e",
   "metadata": {},
   "source": [
    "Plotting the dataframe comparison"
   ]
  },
  {
   "cell_type": "code",
   "execution_count": 534,
   "id": "ae86e522",
   "metadata": {},
   "outputs": [],
   "source": [
    "def plot_comparison_dataframe(km_l: float, km_kwh: float, kwh_consumption: int = 200):\n",
    "    df = make_comparison_dataframe(km_l, km_kwh, kwh_consumption)\n",
    "\n",
    "    # Color definitions\n",
    "    gas_color = '#EF553B'  # Red\n",
    "    electricity_color = '#636EFA'  # Blue\n",
    "\n",
    "    fig = go.Figure()\n",
    "\n",
    "    ## vertical lines\n",
    "    annotation_y = 0.8\n",
    "    annotation_font = 10\n",
    "    line_width = 2\n",
    "    vline_color = 'black'\n",
    "\n",
    "    major_events = {\n",
    "        'Luzon ECQ Start': datetime(2020, 3, 1),\n",
    "        'ECQ to MECQ': datetime(2021, 10, 1),\n",
    "        'Russia-Ukraine War': datetime(2022, 2, 1),\n",
    "        'ERC Order: Energy Costs': datetime(2024, 6, 1)\n",
    "    }\n",
    "\n",
    "    for event in major_events.keys():\n",
    "        fig.add_shape(\n",
    "            type='line',\n",
    "            x0=major_events[event],\n",
    "            x1=major_events[event],\n",
    "            y0=annotation_y,\n",
    "            y1=4.1,\n",
    "            line=dict(color=vline_color, width=line_width, dash=\"dash\"),\n",
    "        )\n",
    "        fig.add_annotation(\n",
    "            x=major_events[event],\n",
    "            y=annotation_y,\n",
    "            xref=\"x\",\n",
    "            showarrow=False,\n",
    "            text=event,\n",
    "            textangle=-55,\n",
    "            xanchor='left',\n",
    "            yanchor='bottom',\n",
    "            font=dict(color=vline_color, size=annotation_font),\n",
    "        )\n",
    "\n",
    "    # Add seasonal background shapes first (so they appear behind the data)\n",
    "    for year in range(2019, 2025):\n",
    "        # Dry season (Dec-May)\n",
    "        fig.add_vrect(\n",
    "            x0=max(datetime(year, 12, 1), df['Date'].min()),\n",
    "            x1=min(datetime(year+1, 6, 1), df['Date'].max()),\n",
    "            fillcolor=dry_season_color,\n",
    "            layer=\"below\",\n",
    "            line_width=0,\n",
    "            name='Dry Season (Dec-May)',\n",
    "        )\n",
    "        \n",
    "        # Wet season (Jun-Nov)\n",
    "        fig.add_vrect(\n",
    "            x0=max(datetime(year, 6, 1), df['Date'].min()),\n",
    "            x1=min(datetime(year, 12, 1), df['Date'].max()),\n",
    "            fillcolor=wet_season_color,\n",
    "            layer=\"below\",\n",
    "            line_width=0,\n",
    "            name='Wet Season (Jun-Nov)',\n",
    "        )\n",
    "\n",
    "    # Add Gas line plot\n",
    "    fig.add_trace(go.Scatter(\n",
    "        x=df['Date'],\n",
    "        y=df['Gas cost/km'],\n",
    "        mode='lines+markers',\n",
    "        line=dict(color=gas_color, width=2),\n",
    "        marker=dict(size=8),\n",
    "        name='Gas Cost/km',\n",
    "        hovertemplate=\"<b>%{x|%b %Y}</b><br>Gas Cost: PHP %{y:.3f}<extra></extra>\"\n",
    "    ))\n",
    "\n",
    "    # Add Electricity line plot\n",
    "    fig.add_trace(go.Scatter(\n",
    "        x=df['Date'],\n",
    "        y=df['Electricity cost/km'],\n",
    "        mode='lines+markers',\n",
    "        line=dict(color=electricity_color, width=2),\n",
    "        marker=dict(size=8),\n",
    "        name='Electricity Cost/km',\n",
    "        hovertemplate=\"<b>%{x|%b %Y}</b><br>Electricity Cost: PHP %{y:.3f}<extra></extra>\"\n",
    "    ))\n",
    "\n",
    "    fig.update_layout(\n",
    "        title={\n",
    "            'text': \"<b>Gas vs. Electricity Cost per Kilometer (2020-2025)</b>\",\n",
    "            'y':0.95,\n",
    "            'x':0.5,\n",
    "            'xanchor': 'center',\n",
    "            'font': dict(size=18, color='#333333')\n",
    "        },\n",
    "        xaxis=dict(\n",
    "            title=\"Date\",\n",
    "            range=[df['Date'].min(), df['Date'].max()],\n",
    "            tickformat=\"%Y\",\n",
    "            dtick=\"M12\",  # Yearly ticks\n",
    "            showgrid=True,\n",
    "            gridcolor='rgba(0,0,0,0.2)',\n",
    "        ),\n",
    "        yaxis=dict(\n",
    "            title=\"Cost per km (PHP)\",\n",
    "            showgrid=True,\n",
    "            gridcolor='rgba(0,0,0,0.2)'\n",
    "        ),\n",
    "        legend=dict(\n",
    "            orientation=\"h\",\n",
    "            yanchor=\"bottom\",\n",
    "            y=1.02,\n",
    "            xanchor=\"right\",\n",
    "            x=1\n",
    "        ),\n",
    "        plot_bgcolor='#FAFAFA',\n",
    "        paper_bgcolor='white',\n",
    "        hovermode=\"x unified\"\n",
    "    )\n",
    "\n",
    "    # Add seasonal legend entries (as in first plot)\n",
    "    fig.add_trace(go.Scatter(\n",
    "        x=[None],\n",
    "        y=[None],\n",
    "        mode='markers',\n",
    "        marker=dict(size=15, color=dry_season_color),\n",
    "        name='Dry Season (Dec-May)',\n",
    "    ))\n",
    "\n",
    "    fig.add_trace(go.Scatter(\n",
    "        x=[None],\n",
    "        y=[None],\n",
    "        mode='markers',\n",
    "        marker=dict(size=15, color=wet_season_color),\n",
    "        name='Wet Season (Jun-Nov)',\n",
    "    ))\n",
    "\n",
    "    fig.add_annotation(\n",
    "        x=0.9,\n",
    "        y=-0.18,\n",
    "        xref=\"paper\",\n",
    "        yref=\"paper\",\n",
    "        align=\"left\",\n",
    "        text=f\"- Gas cost calculated with {km_l} km/L<br>- Electricity cost calculated with <br>  {km_kwh} km/kWh and {kwh_consumption} kWh consumption\",\n",
    "        showarrow=False,\n",
    "        font=dict(size=11, color=\"#666666\")\n",
    "    )\n",
    "\n",
    "    # Show the plot\n",
    "    fig.show()\n",
    "    fig.write_html(f\"graphs/gas_vs_electricity.html\")\n",
    "\n",
    "def plot_comparison_boxplot(km_l: float, km_kwh: float, kwh_consumption: int):\n",
    "    df = make_comparison_dataframe(km_l, km_kwh, kwh_consumption)\n",
    "    df['Year'] = df['Date'].dt.year\n",
    "\n",
    "\n",
    "    long_df = df[['Year', 'Gas cost/km', 'Electricity cost/km']].melt(\n",
    "        id_vars='Year',\n",
    "        var_name='Type',\n",
    "        value_name='Cost/km'\n",
    "    )\n",
    "    long_df['Type'] = long_df['Type'].replace({\n",
    "        'Gas cost/km': 'HEV',\n",
    "        'Electricity cost/km': 'EV'\n",
    "    })\n",
    "\n",
    "\n",
    "    gas_color = '#EF553B'\n",
    "    electricity_color = '#636EFA'\n",
    "    color_map = {'HEV': gas_color, 'EV': electricity_color}\n",
    "\n",
    "    fig = go.Figure()\n",
    "\n",
    "    annotation_y = 0.8\n",
    "    annotation_font = 10\n",
    "    line_width = 2\n",
    "    vline_color = 'black'\n",
    "\n",
    "    for (year, vehicle_type), group in long_df.groupby(['Year', 'Type']):\n",
    "        fig.add_trace(go.Box(\n",
    "            y=group['Cost/km'],\n",
    "            x=[str(year)] * len(group),\n",
    "            name=vehicle_type,\n",
    "            marker_color=color_map[vehicle_type],\n",
    "            boxpoints='all',\n",
    "            jitter=0.4,\n",
    "            pointpos=0,\n",
    "            line=dict(width=1),\n",
    "            marker=dict(size=6),\n",
    "            legendgroup=vehicle_type,\n",
    "            showlegend=bool(year == long_df['Year'].min())\n",
    "        ))\n",
    "\n",
    "    fig.update_layout(\n",
    "        title={\n",
    "            'text': (\n",
    "                \"<b>Yearly Cost per km Distribution (HEV vs. EV)</b><br>\"\n",
    "                f\"<sup>Gas: {km_l} km/L &nbsp;&nbsp;&nbsp;&nbsp;Electricity: {km_kwh} km/kWh at {kwh_consumption} kWh</sup>\"\n",
    "            ),\n",
    "            'y': 0.95,\n",
    "            'x': 0.5,\n",
    "            'xanchor': 'center',\n",
    "            'font': dict(size=20, color='#333333')\n",
    "        },\n",
    "        xaxis=dict(\n",
    "            title=\"Year\",\n",
    "            showgrid=True,\n",
    "            gridcolor='rgba(0,0,0,0.2)'\n",
    "        ),\n",
    "        yaxis=dict(\n",
    "            title=\"Cost per km (PHP)\",\n",
    "            showgrid=True,\n",
    "            gridcolor='rgba(0,0,0,0.2)'\n",
    "        ),\n",
    "        legend=dict(\n",
    "            orientation=\"h\",\n",
    "            yanchor=\"bottom\",\n",
    "            y=1.02,\n",
    "            xanchor=\"right\",\n",
    "            x=1\n",
    "        ),\n",
    "        plot_bgcolor='#FAFAFA',\n",
    "        paper_bgcolor='white',\n",
    "        hovermode=\"x unified\",\n",
    "        width=1800,\n",
    "        height=1000\n",
    "    )\n",
    "\n",
    "    fig.show()\n",
    "    fig.write_html(f\"graphs/HEV_vs_EV_bvoxplot_{km_kwh}.html\")"
   ]
  },
  {
   "cell_type": "code",
   "execution_count": 535,
   "id": "cfa2c37a",
   "metadata": {},
   "outputs": [
    {
     "data": {
      "application/vnd.plotly.v1+json": {
       "config": {
        "plotlyServerURL": "https://plot.ly"
       },
       "data": [
        {
         "boxpoints": "all",
         "jitter": 0.4,
         "legendgroup": "EV",
         "line": {
          "width": 1
         },
         "marker": {
          "color": "#636EFA",
          "size": 6
         },
         "name": "EV",
         "pointpos": 0,
         "showlegend": true,
         "type": "box",
         "x": [
          "2020",
          "2020",
          "2020",
          "2020",
          "2020",
          "2020",
          "2020",
          "2020",
          "2020",
          "2020",
          "2020",
          "2020"
         ],
         "y": [
          1.61876404494382,
          1.5240449438202246,
          1.5285072231139647,
          1.545361155698234,
          1.5055056179775281,
          1.5020385232744782,
          1.4974478330658105,
          1.4644783306581057,
          1.4544622792937398,
          1.473900481540931,
          1.4675762439807383,
          1.4619261637239163
         ]
        },
        {
         "boxpoints": "all",
         "jitter": 0.4,
         "legendgroup": "HEV",
         "line": {
          "width": 1
         },
         "marker": {
          "color": "#EF553B",
          "size": 6
         },
         "name": "HEV",
         "pointpos": 0,
         "showlegend": true,
         "type": "box",
         "x": [
          "2020",
          "2020",
          "2020",
          "2020",
          "2020",
          "2020",
          "2020",
          "2020",
          "2020",
          "2020",
          "2020",
          "2020"
         ],
         "y": [
          2.5205680705190985,
          2.407688540646425,
          2.2086190009794313,
          1.8342311459353573,
          1.9762487757100882,
          2.186092066601371,
          2.335210577864838,
          2.361900097943193,
          2.3009304603330065,
          2.284769833496572,
          2.1478942213516157,
          2.1745837414299705
         ]
        },
        {
         "boxpoints": "all",
         "jitter": 0.4,
         "legendgroup": "EV",
         "line": {
          "width": 1
         },
         "marker": {
          "color": "#636EFA",
          "size": 6
         },
         "name": "EV",
         "pointpos": 0,
         "showlegend": false,
         "type": "box",
         "x": [
          "2021",
          "2021",
          "2021",
          "2021",
          "2021",
          "2021",
          "2021",
          "2021",
          "2021",
          "2021",
          "2021",
          "2021"
         ],
         "y": [
          1.505971107544141,
          1.4946709470304975,
          1.4369341894060994,
          1.4509149277688602,
          1.4801444622792936,
          1.4929534510433387,
          1.5312359550561796,
          1.5467255216693419,
          1.5636597110754413,
          1.568202247191011,
          1.620465489566613,
          1.6709149277688604
         ]
        },
        {
         "boxpoints": "all",
         "jitter": 0.4,
         "legendgroup": "HEV",
         "line": {
          "width": 1
         },
         "marker": {
          "color": "#EF553B",
          "size": 6
         },
         "name": "HEV",
         "pointpos": 0,
         "showlegend": false,
         "type": "box",
         "x": [
          "2021",
          "2021",
          "2021",
          "2021",
          "2021",
          "2021",
          "2021",
          "2021",
          "2021",
          "2021",
          "2021",
          "2021"
         ],
         "y": [
          2.2573457394711065,
          2.322477962781586,
          2.440499510284035,
          2.429480901077375,
          2.4762487757100877,
          2.549951028403526,
          2.6907443682664054,
          2.7465719882468163,
          2.7580803134182172,
          2.9527424094025463,
          3.0328109696376098,
          2.865817825661116
         ]
        },
        {
         "boxpoints": "all",
         "jitter": 0.4,
         "legendgroup": "EV",
         "line": {
          "width": 1
         },
         "marker": {
          "color": "#636EFA",
          "size": 6
         },
         "name": "EV",
         "pointpos": 0,
         "showlegend": false,
         "type": "box",
         "x": [
          "2022",
          "2022",
          "2022",
          "2022",
          "2022",
          "2022",
          "2022",
          "2022",
          "2022",
          "2022",
          "2022",
          "2022"
         ],
         "y": [
          1.658426966292135,
          1.63991974317817,
          1.649935794542536,
          1.736035313001605,
          1.7167897271268058,
          1.7806902086677368,
          1.6672712680577848,
          1.631573033707865,
          1.6943178170144462,
          1.6824719101123593,
          1.696035313001605,
          1.7489406099518456
         ]
        },
        {
         "boxpoints": "all",
         "jitter": 0.4,
         "legendgroup": "HEV",
         "line": {
          "width": 1
         },
         "marker": {
          "color": "#EF553B",
          "size": 6
         },
         "name": "HEV",
         "pointpos": 0,
         "showlegend": false,
         "type": "box",
         "x": [
          "2022",
          "2022",
          "2022",
          "2022",
          "2022",
          "2022",
          "2022",
          "2022",
          "2022",
          "2022",
          "2022",
          "2022"
         ],
         "y": [
          2.9855533790401565,
          3.139569049951028,
          3.517629774730656,
          3.531096963761018,
          3.7218413320274237,
          4.00048971596474,
          3.760773751224289,
          3.498041136141038,
          3.390793339862879,
          3.2852595494613124,
          3.2913809990205682,
          3.1275710088148867
         ]
        },
        {
         "boxpoints": "all",
         "jitter": 0.4,
         "legendgroup": "EV",
         "line": {
          "width": 1
         },
         "marker": {
          "color": "#636EFA",
          "size": 6
         },
         "name": "EV",
         "pointpos": 0,
         "showlegend": false,
         "type": "box",
         "x": [
          "2023",
          "2023",
          "2023",
          "2023",
          "2023",
          "2023",
          "2023",
          "2023",
          "2023",
          "2023",
          "2023",
          "2023"
         ],
         "y": [
          1.8484911717495986,
          1.8472712680577847,
          1.9347993579454255,
          1.9158426966292135,
          1.9441091492776885,
          2.011268057784912,
          1.895489566613162,
          1.8488121990369182,
          1.9291813804173354,
          1.996597110754414,
          2.0342857142857143,
          1.9065008025682182
         ]
        },
        {
         "boxpoints": "all",
         "jitter": 0.4,
         "legendgroup": "HEV",
         "line": {
          "width": 1
         },
         "marker": {
          "color": "#EF553B",
          "size": 6
         },
         "name": "HEV",
         "pointpos": 0,
         "showlegend": false,
         "type": "box",
         "x": [
          "2023",
          "2023",
          "2023",
          "2023",
          "2023",
          "2023",
          "2023",
          "2023",
          "2023",
          "2023",
          "2023",
          "2023"
         ],
         "y": [
          3.225269343780607,
          3.1978452497551415,
          3.1094515181194904,
          3.2012732615083253,
          3.049216454456415,
          3.0727228207639565,
          3.115572967678746,
          3.384916748285994,
          3.5440744368266404,
          3.3503917727717925,
          3.253428011753183,
          3.1606268364348673
         ]
        },
        {
         "boxpoints": "all",
         "jitter": 0.4,
         "legendgroup": "EV",
         "line": {
          "width": 1
         },
         "marker": {
          "color": "#636EFA",
          "size": 6
         },
         "name": "EV",
         "pointpos": 0,
         "showlegend": false,
         "type": "box",
         "x": [
          "2024",
          "2024",
          "2024",
          "2024",
          "2024",
          "2024",
          "2024",
          "2024",
          "2024",
          "2024",
          "2024",
          "2024"
         ],
         "y": [
          1.9195987158908505,
          2.012166934189406,
          2.0158587479935792,
          1.8572873194221506,
          1.9314446227929372,
          1.6165008025682182,
          1.961540930979133,
          1.9667576243980738,
          1.991540930979133,
          1.933948635634029,
          2.0024879614767253,
          2.0193258426966287
         ]
        },
        {
         "boxpoints": "all",
         "jitter": 0.4,
         "legendgroup": "HEV",
         "line": {
          "width": 1
         },
         "marker": {
          "color": "#EF553B",
          "size": 6
         },
         "name": "HEV",
         "pointpos": 0,
         "showlegend": false,
         "type": "box",
         "x": [
          "2024",
          "2024",
          "2024",
          "2024",
          "2024",
          "2024",
          "2024",
          "2024",
          "2024",
          "2024",
          "2024",
          "2024"
         ],
         "y": [
          3.1868266405484817,
          3.319784524975514,
          3.3303134182174334,
          3.468413320274241,
          3.3741429970617043,
          3.308031341821743,
          3.4062193927522038,
          3.1380999020568066,
          3.029138099902057,
          2.9977962781586673,
          3.026444662095984,
          3.0678256611165517
         ]
        }
       ],
       "layout": {
        "height": 1000,
        "hovermode": "x unified",
        "legend": {
         "orientation": "h",
         "x": 1,
         "xanchor": "right",
         "y": 1.02,
         "yanchor": "bottom"
        },
        "paper_bgcolor": "white",
        "plot_bgcolor": "#FAFAFA",
        "template": {
         "data": {
          "bar": [
           {
            "error_x": {
             "color": "#2a3f5f"
            },
            "error_y": {
             "color": "#2a3f5f"
            },
            "marker": {
             "line": {
              "color": "#E5ECF6",
              "width": 0.5
             },
             "pattern": {
              "fillmode": "overlay",
              "size": 10,
              "solidity": 0.2
             }
            },
            "type": "bar"
           }
          ],
          "barpolar": [
           {
            "marker": {
             "line": {
              "color": "#E5ECF6",
              "width": 0.5
             },
             "pattern": {
              "fillmode": "overlay",
              "size": 10,
              "solidity": 0.2
             }
            },
            "type": "barpolar"
           }
          ],
          "carpet": [
           {
            "aaxis": {
             "endlinecolor": "#2a3f5f",
             "gridcolor": "white",
             "linecolor": "white",
             "minorgridcolor": "white",
             "startlinecolor": "#2a3f5f"
            },
            "baxis": {
             "endlinecolor": "#2a3f5f",
             "gridcolor": "white",
             "linecolor": "white",
             "minorgridcolor": "white",
             "startlinecolor": "#2a3f5f"
            },
            "type": "carpet"
           }
          ],
          "choropleth": [
           {
            "colorbar": {
             "outlinewidth": 0,
             "ticks": ""
            },
            "type": "choropleth"
           }
          ],
          "contour": [
           {
            "colorbar": {
             "outlinewidth": 0,
             "ticks": ""
            },
            "colorscale": [
             [
              0,
              "#0d0887"
             ],
             [
              0.1111111111111111,
              "#46039f"
             ],
             [
              0.2222222222222222,
              "#7201a8"
             ],
             [
              0.3333333333333333,
              "#9c179e"
             ],
             [
              0.4444444444444444,
              "#bd3786"
             ],
             [
              0.5555555555555556,
              "#d8576b"
             ],
             [
              0.6666666666666666,
              "#ed7953"
             ],
             [
              0.7777777777777778,
              "#fb9f3a"
             ],
             [
              0.8888888888888888,
              "#fdca26"
             ],
             [
              1,
              "#f0f921"
             ]
            ],
            "type": "contour"
           }
          ],
          "contourcarpet": [
           {
            "colorbar": {
             "outlinewidth": 0,
             "ticks": ""
            },
            "type": "contourcarpet"
           }
          ],
          "heatmap": [
           {
            "colorbar": {
             "outlinewidth": 0,
             "ticks": ""
            },
            "colorscale": [
             [
              0,
              "#0d0887"
             ],
             [
              0.1111111111111111,
              "#46039f"
             ],
             [
              0.2222222222222222,
              "#7201a8"
             ],
             [
              0.3333333333333333,
              "#9c179e"
             ],
             [
              0.4444444444444444,
              "#bd3786"
             ],
             [
              0.5555555555555556,
              "#d8576b"
             ],
             [
              0.6666666666666666,
              "#ed7953"
             ],
             [
              0.7777777777777778,
              "#fb9f3a"
             ],
             [
              0.8888888888888888,
              "#fdca26"
             ],
             [
              1,
              "#f0f921"
             ]
            ],
            "type": "heatmap"
           }
          ],
          "histogram": [
           {
            "marker": {
             "pattern": {
              "fillmode": "overlay",
              "size": 10,
              "solidity": 0.2
             }
            },
            "type": "histogram"
           }
          ],
          "histogram2d": [
           {
            "colorbar": {
             "outlinewidth": 0,
             "ticks": ""
            },
            "colorscale": [
             [
              0,
              "#0d0887"
             ],
             [
              0.1111111111111111,
              "#46039f"
             ],
             [
              0.2222222222222222,
              "#7201a8"
             ],
             [
              0.3333333333333333,
              "#9c179e"
             ],
             [
              0.4444444444444444,
              "#bd3786"
             ],
             [
              0.5555555555555556,
              "#d8576b"
             ],
             [
              0.6666666666666666,
              "#ed7953"
             ],
             [
              0.7777777777777778,
              "#fb9f3a"
             ],
             [
              0.8888888888888888,
              "#fdca26"
             ],
             [
              1,
              "#f0f921"
             ]
            ],
            "type": "histogram2d"
           }
          ],
          "histogram2dcontour": [
           {
            "colorbar": {
             "outlinewidth": 0,
             "ticks": ""
            },
            "colorscale": [
             [
              0,
              "#0d0887"
             ],
             [
              0.1111111111111111,
              "#46039f"
             ],
             [
              0.2222222222222222,
              "#7201a8"
             ],
             [
              0.3333333333333333,
              "#9c179e"
             ],
             [
              0.4444444444444444,
              "#bd3786"
             ],
             [
              0.5555555555555556,
              "#d8576b"
             ],
             [
              0.6666666666666666,
              "#ed7953"
             ],
             [
              0.7777777777777778,
              "#fb9f3a"
             ],
             [
              0.8888888888888888,
              "#fdca26"
             ],
             [
              1,
              "#f0f921"
             ]
            ],
            "type": "histogram2dcontour"
           }
          ],
          "mesh3d": [
           {
            "colorbar": {
             "outlinewidth": 0,
             "ticks": ""
            },
            "type": "mesh3d"
           }
          ],
          "parcoords": [
           {
            "line": {
             "colorbar": {
              "outlinewidth": 0,
              "ticks": ""
             }
            },
            "type": "parcoords"
           }
          ],
          "pie": [
           {
            "automargin": true,
            "type": "pie"
           }
          ],
          "scatter": [
           {
            "fillpattern": {
             "fillmode": "overlay",
             "size": 10,
             "solidity": 0.2
            },
            "type": "scatter"
           }
          ],
          "scatter3d": [
           {
            "line": {
             "colorbar": {
              "outlinewidth": 0,
              "ticks": ""
             }
            },
            "marker": {
             "colorbar": {
              "outlinewidth": 0,
              "ticks": ""
             }
            },
            "type": "scatter3d"
           }
          ],
          "scattercarpet": [
           {
            "marker": {
             "colorbar": {
              "outlinewidth": 0,
              "ticks": ""
             }
            },
            "type": "scattercarpet"
           }
          ],
          "scattergeo": [
           {
            "marker": {
             "colorbar": {
              "outlinewidth": 0,
              "ticks": ""
             }
            },
            "type": "scattergeo"
           }
          ],
          "scattergl": [
           {
            "marker": {
             "colorbar": {
              "outlinewidth": 0,
              "ticks": ""
             }
            },
            "type": "scattergl"
           }
          ],
          "scattermap": [
           {
            "marker": {
             "colorbar": {
              "outlinewidth": 0,
              "ticks": ""
             }
            },
            "type": "scattermap"
           }
          ],
          "scattermapbox": [
           {
            "marker": {
             "colorbar": {
              "outlinewidth": 0,
              "ticks": ""
             }
            },
            "type": "scattermapbox"
           }
          ],
          "scatterpolar": [
           {
            "marker": {
             "colorbar": {
              "outlinewidth": 0,
              "ticks": ""
             }
            },
            "type": "scatterpolar"
           }
          ],
          "scatterpolargl": [
           {
            "marker": {
             "colorbar": {
              "outlinewidth": 0,
              "ticks": ""
             }
            },
            "type": "scatterpolargl"
           }
          ],
          "scatterternary": [
           {
            "marker": {
             "colorbar": {
              "outlinewidth": 0,
              "ticks": ""
             }
            },
            "type": "scatterternary"
           }
          ],
          "surface": [
           {
            "colorbar": {
             "outlinewidth": 0,
             "ticks": ""
            },
            "colorscale": [
             [
              0,
              "#0d0887"
             ],
             [
              0.1111111111111111,
              "#46039f"
             ],
             [
              0.2222222222222222,
              "#7201a8"
             ],
             [
              0.3333333333333333,
              "#9c179e"
             ],
             [
              0.4444444444444444,
              "#bd3786"
             ],
             [
              0.5555555555555556,
              "#d8576b"
             ],
             [
              0.6666666666666666,
              "#ed7953"
             ],
             [
              0.7777777777777778,
              "#fb9f3a"
             ],
             [
              0.8888888888888888,
              "#fdca26"
             ],
             [
              1,
              "#f0f921"
             ]
            ],
            "type": "surface"
           }
          ],
          "table": [
           {
            "cells": {
             "fill": {
              "color": "#EBF0F8"
             },
             "line": {
              "color": "white"
             }
            },
            "header": {
             "fill": {
              "color": "#C8D4E3"
             },
             "line": {
              "color": "white"
             }
            },
            "type": "table"
           }
          ]
         },
         "layout": {
          "annotationdefaults": {
           "arrowcolor": "#2a3f5f",
           "arrowhead": 0,
           "arrowwidth": 1
          },
          "autotypenumbers": "strict",
          "coloraxis": {
           "colorbar": {
            "outlinewidth": 0,
            "ticks": ""
           }
          },
          "colorscale": {
           "diverging": [
            [
             0,
             "#8e0152"
            ],
            [
             0.1,
             "#c51b7d"
            ],
            [
             0.2,
             "#de77ae"
            ],
            [
             0.3,
             "#f1b6da"
            ],
            [
             0.4,
             "#fde0ef"
            ],
            [
             0.5,
             "#f7f7f7"
            ],
            [
             0.6,
             "#e6f5d0"
            ],
            [
             0.7,
             "#b8e186"
            ],
            [
             0.8,
             "#7fbc41"
            ],
            [
             0.9,
             "#4d9221"
            ],
            [
             1,
             "#276419"
            ]
           ],
           "sequential": [
            [
             0,
             "#0d0887"
            ],
            [
             0.1111111111111111,
             "#46039f"
            ],
            [
             0.2222222222222222,
             "#7201a8"
            ],
            [
             0.3333333333333333,
             "#9c179e"
            ],
            [
             0.4444444444444444,
             "#bd3786"
            ],
            [
             0.5555555555555556,
             "#d8576b"
            ],
            [
             0.6666666666666666,
             "#ed7953"
            ],
            [
             0.7777777777777778,
             "#fb9f3a"
            ],
            [
             0.8888888888888888,
             "#fdca26"
            ],
            [
             1,
             "#f0f921"
            ]
           ],
           "sequentialminus": [
            [
             0,
             "#0d0887"
            ],
            [
             0.1111111111111111,
             "#46039f"
            ],
            [
             0.2222222222222222,
             "#7201a8"
            ],
            [
             0.3333333333333333,
             "#9c179e"
            ],
            [
             0.4444444444444444,
             "#bd3786"
            ],
            [
             0.5555555555555556,
             "#d8576b"
            ],
            [
             0.6666666666666666,
             "#ed7953"
            ],
            [
             0.7777777777777778,
             "#fb9f3a"
            ],
            [
             0.8888888888888888,
             "#fdca26"
            ],
            [
             1,
             "#f0f921"
            ]
           ]
          },
          "colorway": [
           "#636efa",
           "#EF553B",
           "#00cc96",
           "#ab63fa",
           "#FFA15A",
           "#19d3f3",
           "#FF6692",
           "#B6E880",
           "#FF97FF",
           "#FECB52"
          ],
          "font": {
           "color": "#2a3f5f"
          },
          "geo": {
           "bgcolor": "white",
           "lakecolor": "white",
           "landcolor": "#E5ECF6",
           "showlakes": true,
           "showland": true,
           "subunitcolor": "white"
          },
          "hoverlabel": {
           "align": "left"
          },
          "hovermode": "closest",
          "mapbox": {
           "style": "light"
          },
          "paper_bgcolor": "white",
          "plot_bgcolor": "#E5ECF6",
          "polar": {
           "angularaxis": {
            "gridcolor": "white",
            "linecolor": "white",
            "ticks": ""
           },
           "bgcolor": "#E5ECF6",
           "radialaxis": {
            "gridcolor": "white",
            "linecolor": "white",
            "ticks": ""
           }
          },
          "scene": {
           "xaxis": {
            "backgroundcolor": "#E5ECF6",
            "gridcolor": "white",
            "gridwidth": 2,
            "linecolor": "white",
            "showbackground": true,
            "ticks": "",
            "zerolinecolor": "white"
           },
           "yaxis": {
            "backgroundcolor": "#E5ECF6",
            "gridcolor": "white",
            "gridwidth": 2,
            "linecolor": "white",
            "showbackground": true,
            "ticks": "",
            "zerolinecolor": "white"
           },
           "zaxis": {
            "backgroundcolor": "#E5ECF6",
            "gridcolor": "white",
            "gridwidth": 2,
            "linecolor": "white",
            "showbackground": true,
            "ticks": "",
            "zerolinecolor": "white"
           }
          },
          "shapedefaults": {
           "line": {
            "color": "#2a3f5f"
           }
          },
          "ternary": {
           "aaxis": {
            "gridcolor": "white",
            "linecolor": "white",
            "ticks": ""
           },
           "baxis": {
            "gridcolor": "white",
            "linecolor": "white",
            "ticks": ""
           },
           "bgcolor": "#E5ECF6",
           "caxis": {
            "gridcolor": "white",
            "linecolor": "white",
            "ticks": ""
           }
          },
          "title": {
           "x": 0.05
          },
          "xaxis": {
           "automargin": true,
           "gridcolor": "white",
           "linecolor": "white",
           "ticks": "",
           "title": {
            "standoff": 15
           },
           "zerolinecolor": "white",
           "zerolinewidth": 2
          },
          "yaxis": {
           "automargin": true,
           "gridcolor": "white",
           "linecolor": "white",
           "ticks": "",
           "title": {
            "standoff": 15
           },
           "zerolinecolor": "white",
           "zerolinewidth": 2
          }
         }
        },
        "title": {
         "font": {
          "color": "#333333",
          "size": 20
         },
         "text": "<b>Yearly Cost per km Distribution (HEV vs. EV)</b><br><sup>Gas: 20.42 km/L &nbsp;&nbsp;&nbsp;&nbsp;Electricity: 6.23 km/kWh at 400 kWh</sup>",
         "x": 0.5,
         "xanchor": "center",
         "y": 0.95
        },
        "width": 1800,
        "xaxis": {
         "gridcolor": "rgba(0,0,0,0.2)",
         "showgrid": true,
         "title": {
          "text": "Year"
         }
        },
        "yaxis": {
         "gridcolor": "rgba(0,0,0,0.2)",
         "showgrid": true,
         "title": {
          "text": "Cost per km (PHP)"
         }
        }
       }
      }
     },
     "metadata": {},
     "output_type": "display_data"
    }
   ],
   "source": [
    "plot_comparison_boxplot(20.42, 6.23, 400)"
   ]
  },
  {
   "cell_type": "code",
   "execution_count": 536,
   "id": "3c499590",
   "metadata": {},
   "outputs": [
    {
     "data": {
      "application/vnd.plotly.v1+json": {
       "config": {
        "plotlyServerURL": "https://plot.ly"
       },
       "data": [
        {
         "hovertemplate": "<b>%{x|%b %Y}</b><br>Gas Cost: PHP %{y:.3f}<extra></extra>",
         "line": {
          "color": "#EF553B",
          "width": 2
         },
         "marker": {
          "size": 8
         },
         "mode": "lines+markers",
         "name": "Gas Cost/km",
         "type": "scatter",
         "x": [
          "2020-01-01T00:00:00.000000000",
          "2020-02-01T00:00:00.000000000",
          "2020-03-01T00:00:00.000000000",
          "2020-04-01T00:00:00.000000000",
          "2020-05-01T00:00:00.000000000",
          "2020-06-01T00:00:00.000000000",
          "2020-07-01T00:00:00.000000000",
          "2020-08-01T00:00:00.000000000",
          "2020-09-01T00:00:00.000000000",
          "2020-10-01T00:00:00.000000000",
          "2020-11-01T00:00:00.000000000",
          "2020-12-01T00:00:00.000000000",
          "2021-01-01T00:00:00.000000000",
          "2021-02-01T00:00:00.000000000",
          "2021-03-01T00:00:00.000000000",
          "2021-04-01T00:00:00.000000000",
          "2021-05-01T00:00:00.000000000",
          "2021-06-01T00:00:00.000000000",
          "2021-07-01T00:00:00.000000000",
          "2021-08-01T00:00:00.000000000",
          "2021-09-01T00:00:00.000000000",
          "2021-10-01T00:00:00.000000000",
          "2021-11-01T00:00:00.000000000",
          "2021-12-01T00:00:00.000000000",
          "2022-01-01T00:00:00.000000000",
          "2022-02-01T00:00:00.000000000",
          "2022-03-01T00:00:00.000000000",
          "2022-04-01T00:00:00.000000000",
          "2022-05-01T00:00:00.000000000",
          "2022-06-01T00:00:00.000000000",
          "2022-07-01T00:00:00.000000000",
          "2022-08-01T00:00:00.000000000",
          "2022-09-01T00:00:00.000000000",
          "2022-10-01T00:00:00.000000000",
          "2022-11-01T00:00:00.000000000",
          "2022-12-01T00:00:00.000000000",
          "2023-01-01T00:00:00.000000000",
          "2023-02-01T00:00:00.000000000",
          "2023-03-01T00:00:00.000000000",
          "2023-04-01T00:00:00.000000000",
          "2023-05-01T00:00:00.000000000",
          "2023-06-01T00:00:00.000000000",
          "2023-07-01T00:00:00.000000000",
          "2023-08-01T00:00:00.000000000",
          "2023-09-01T00:00:00.000000000",
          "2023-10-01T00:00:00.000000000",
          "2023-11-01T00:00:00.000000000",
          "2023-12-01T00:00:00.000000000",
          "2024-01-01T00:00:00.000000000",
          "2024-02-01T00:00:00.000000000",
          "2024-03-01T00:00:00.000000000",
          "2024-04-01T00:00:00.000000000",
          "2024-05-01T00:00:00.000000000",
          "2024-06-01T00:00:00.000000000",
          "2024-07-01T00:00:00.000000000",
          "2024-08-01T00:00:00.000000000",
          "2024-09-01T00:00:00.000000000",
          "2024-10-01T00:00:00.000000000",
          "2024-11-01T00:00:00.000000000",
          "2024-12-01T00:00:00.000000000"
         ],
         "y": [
          2.5205680705190985,
          2.407688540646425,
          2.2086190009794313,
          1.8342311459353573,
          1.9762487757100882,
          2.186092066601371,
          2.335210577864838,
          2.361900097943193,
          2.3009304603330065,
          2.284769833496572,
          2.1478942213516157,
          2.1745837414299705,
          2.2573457394711065,
          2.322477962781586,
          2.440499510284035,
          2.429480901077375,
          2.4762487757100877,
          2.549951028403526,
          2.6907443682664054,
          2.7465719882468163,
          2.7580803134182172,
          2.9527424094025463,
          3.0328109696376098,
          2.865817825661116,
          2.9855533790401565,
          3.139569049951028,
          3.517629774730656,
          3.531096963761018,
          3.7218413320274237,
          4.00048971596474,
          3.760773751224289,
          3.498041136141038,
          3.390793339862879,
          3.2852595494613124,
          3.2913809990205682,
          3.1275710088148867,
          3.225269343780607,
          3.1978452497551415,
          3.1094515181194904,
          3.2012732615083253,
          3.049216454456415,
          3.0727228207639565,
          3.115572967678746,
          3.384916748285994,
          3.5440744368266404,
          3.3503917727717925,
          3.253428011753183,
          3.1606268364348673,
          3.1868266405484817,
          3.319784524975514,
          3.3303134182174334,
          3.468413320274241,
          3.3741429970617043,
          3.308031341821743,
          3.4062193927522038,
          3.1380999020568066,
          3.029138099902057,
          2.9977962781586673,
          3.026444662095984,
          3.0678256611165517
         ]
        },
        {
         "hovertemplate": "<b>%{x|%b %Y}</b><br>Electricity Cost: PHP %{y:.3f}<extra></extra>",
         "line": {
          "color": "#636EFA",
          "width": 2
         },
         "marker": {
          "size": 8
         },
         "mode": "lines+markers",
         "name": "Electricity Cost/km",
         "type": "scatter",
         "x": [
          "2020-01-01T00:00:00.000000000",
          "2020-02-01T00:00:00.000000000",
          "2020-03-01T00:00:00.000000000",
          "2020-04-01T00:00:00.000000000",
          "2020-05-01T00:00:00.000000000",
          "2020-06-01T00:00:00.000000000",
          "2020-07-01T00:00:00.000000000",
          "2020-08-01T00:00:00.000000000",
          "2020-09-01T00:00:00.000000000",
          "2020-10-01T00:00:00.000000000",
          "2020-11-01T00:00:00.000000000",
          "2020-12-01T00:00:00.000000000",
          "2021-01-01T00:00:00.000000000",
          "2021-02-01T00:00:00.000000000",
          "2021-03-01T00:00:00.000000000",
          "2021-04-01T00:00:00.000000000",
          "2021-05-01T00:00:00.000000000",
          "2021-06-01T00:00:00.000000000",
          "2021-07-01T00:00:00.000000000",
          "2021-08-01T00:00:00.000000000",
          "2021-09-01T00:00:00.000000000",
          "2021-10-01T00:00:00.000000000",
          "2021-11-01T00:00:00.000000000",
          "2021-12-01T00:00:00.000000000",
          "2022-01-01T00:00:00.000000000",
          "2022-02-01T00:00:00.000000000",
          "2022-03-01T00:00:00.000000000",
          "2022-04-01T00:00:00.000000000",
          "2022-05-01T00:00:00.000000000",
          "2022-06-01T00:00:00.000000000",
          "2022-07-01T00:00:00.000000000",
          "2022-08-01T00:00:00.000000000",
          "2022-09-01T00:00:00.000000000",
          "2022-10-01T00:00:00.000000000",
          "2022-11-01T00:00:00.000000000",
          "2022-12-01T00:00:00.000000000",
          "2023-01-01T00:00:00.000000000",
          "2023-02-01T00:00:00.000000000",
          "2023-03-01T00:00:00.000000000",
          "2023-04-01T00:00:00.000000000",
          "2023-05-01T00:00:00.000000000",
          "2023-06-01T00:00:00.000000000",
          "2023-07-01T00:00:00.000000000",
          "2023-08-01T00:00:00.000000000",
          "2023-09-01T00:00:00.000000000",
          "2023-10-01T00:00:00.000000000",
          "2023-11-01T00:00:00.000000000",
          "2023-12-01T00:00:00.000000000",
          "2024-01-01T00:00:00.000000000",
          "2024-02-01T00:00:00.000000000",
          "2024-03-01T00:00:00.000000000",
          "2024-04-01T00:00:00.000000000",
          "2024-05-01T00:00:00.000000000",
          "2024-06-01T00:00:00.000000000",
          "2024-07-01T00:00:00.000000000",
          "2024-08-01T00:00:00.000000000",
          "2024-09-01T00:00:00.000000000",
          "2024-10-01T00:00:00.000000000",
          "2024-11-01T00:00:00.000000000",
          "2024-12-01T00:00:00.000000000"
         ],
         "y": [
          1.61876404494382,
          1.5240449438202246,
          1.5285072231139647,
          1.545361155698234,
          1.5055056179775281,
          1.5020385232744782,
          1.4974478330658105,
          1.4644783306581057,
          1.4544622792937398,
          1.473900481540931,
          1.4675762439807383,
          1.4619261637239163,
          1.505971107544141,
          1.4946709470304975,
          1.4369341894060994,
          1.4509149277688602,
          1.4801444622792936,
          1.4929534510433387,
          1.5312359550561796,
          1.5467255216693419,
          1.5636597110754413,
          1.568202247191011,
          1.620465489566613,
          1.6709149277688604,
          1.658426966292135,
          1.63991974317817,
          1.649935794542536,
          1.736035313001605,
          1.7167897271268058,
          1.7806902086677368,
          1.6672712680577848,
          1.631573033707865,
          1.6943178170144462,
          1.6824719101123593,
          1.696035313001605,
          1.7489406099518456,
          1.8484911717495986,
          1.8472712680577847,
          1.9347993579454255,
          1.9158426966292135,
          1.9441091492776885,
          2.011268057784912,
          1.895489566613162,
          1.8488121990369182,
          1.9291813804173354,
          1.996597110754414,
          2.0342857142857143,
          1.9065008025682182,
          1.9195987158908505,
          2.012166934189406,
          2.0158587479935792,
          1.8572873194221506,
          1.9314446227929372,
          1.6165008025682182,
          1.961540930979133,
          1.9667576243980738,
          1.991540930979133,
          1.933948635634029,
          2.0024879614767253,
          2.0193258426966287
         ]
        },
        {
         "marker": {
          "color": "rgba(255, 165, 0, 0.2)",
          "size": 15
         },
         "mode": "markers",
         "name": "Dry Season (Dec-May)",
         "type": "scatter",
         "x": [
          null
         ],
         "y": [
          null
         ]
        },
        {
         "marker": {
          "color": "rgba(0, 191, 255, 0.2)",
          "size": 15
         },
         "mode": "markers",
         "name": "Wet Season (Jun-Nov)",
         "type": "scatter",
         "x": [
          null
         ],
         "y": [
          null
         ]
        }
       ],
       "layout": {
        "annotations": [
         {
          "font": {
           "color": "black",
           "size": 10
          },
          "showarrow": false,
          "text": "Luzon ECQ Start",
          "textangle": -55,
          "x": "2020-03-01T00:00:00",
          "xanchor": "left",
          "xref": "x",
          "y": 0.8,
          "yanchor": "bottom"
         },
         {
          "font": {
           "color": "black",
           "size": 10
          },
          "showarrow": false,
          "text": "ECQ to MECQ",
          "textangle": -55,
          "x": "2021-10-01T00:00:00",
          "xanchor": "left",
          "xref": "x",
          "y": 0.8,
          "yanchor": "bottom"
         },
         {
          "font": {
           "color": "black",
           "size": 10
          },
          "showarrow": false,
          "text": "Russia-Ukraine War",
          "textangle": -55,
          "x": "2022-02-01T00:00:00",
          "xanchor": "left",
          "xref": "x",
          "y": 0.8,
          "yanchor": "bottom"
         },
         {
          "font": {
           "color": "black",
           "size": 10
          },
          "showarrow": false,
          "text": "ERC Order: Energy Costs",
          "textangle": -55,
          "x": "2024-06-01T00:00:00",
          "xanchor": "left",
          "xref": "x",
          "y": 0.8,
          "yanchor": "bottom"
         },
         {
          "align": "left",
          "font": {
           "color": "#666666",
           "size": 11
          },
          "showarrow": false,
          "text": "- Gas cost calculated with 20.42 km/L<br>- Electricity cost calculated with <br>  6.23 km/kWh and 400 kWh consumption",
          "x": 0.9,
          "xref": "paper",
          "y": -0.18,
          "yref": "paper"
         }
        ],
        "hovermode": "x unified",
        "legend": {
         "orientation": "h",
         "x": 1,
         "xanchor": "right",
         "y": 1.02,
         "yanchor": "bottom"
        },
        "paper_bgcolor": "white",
        "plot_bgcolor": "#FAFAFA",
        "shapes": [
         {
          "line": {
           "color": "black",
           "dash": "dash",
           "width": 2
          },
          "type": "line",
          "x0": "2020-03-01T00:00:00",
          "x1": "2020-03-01T00:00:00",
          "y0": 0.8,
          "y1": 4.1
         },
         {
          "line": {
           "color": "black",
           "dash": "dash",
           "width": 2
          },
          "type": "line",
          "x0": "2021-10-01T00:00:00",
          "x1": "2021-10-01T00:00:00",
          "y0": 0.8,
          "y1": 4.1
         },
         {
          "line": {
           "color": "black",
           "dash": "dash",
           "width": 2
          },
          "type": "line",
          "x0": "2022-02-01T00:00:00",
          "x1": "2022-02-01T00:00:00",
          "y0": 0.8,
          "y1": 4.1
         },
         {
          "line": {
           "color": "black",
           "dash": "dash",
           "width": 2
          },
          "type": "line",
          "x0": "2024-06-01T00:00:00",
          "x1": "2024-06-01T00:00:00",
          "y0": 0.8,
          "y1": 4.1
         },
         {
          "fillcolor": "rgba(255, 165, 0, 0.2)",
          "layer": "below",
          "line": {
           "width": 0
          },
          "name": "Dry Season (Dec-May)",
          "type": "rect",
          "x0": "2020-01-01T00:00:00",
          "x1": "2020-06-01T00:00:00",
          "xref": "x",
          "y0": 0,
          "y1": 1,
          "yref": "y domain"
         },
         {
          "fillcolor": "rgba(0, 191, 255, 0.2)",
          "layer": "below",
          "line": {
           "width": 0
          },
          "name": "Wet Season (Jun-Nov)",
          "type": "rect",
          "x0": "2020-01-01T00:00:00",
          "x1": "2019-12-01T00:00:00",
          "xref": "x",
          "y0": 0,
          "y1": 1,
          "yref": "y domain"
         },
         {
          "fillcolor": "rgba(255, 165, 0, 0.2)",
          "layer": "below",
          "line": {
           "width": 0
          },
          "name": "Dry Season (Dec-May)",
          "type": "rect",
          "x0": "2020-12-01T00:00:00",
          "x1": "2021-06-01T00:00:00",
          "xref": "x",
          "y0": 0,
          "y1": 1,
          "yref": "y domain"
         },
         {
          "fillcolor": "rgba(0, 191, 255, 0.2)",
          "layer": "below",
          "line": {
           "width": 0
          },
          "name": "Wet Season (Jun-Nov)",
          "type": "rect",
          "x0": "2020-06-01T00:00:00",
          "x1": "2020-12-01T00:00:00",
          "xref": "x",
          "y0": 0,
          "y1": 1,
          "yref": "y domain"
         },
         {
          "fillcolor": "rgba(255, 165, 0, 0.2)",
          "layer": "below",
          "line": {
           "width": 0
          },
          "name": "Dry Season (Dec-May)",
          "type": "rect",
          "x0": "2021-12-01T00:00:00",
          "x1": "2022-06-01T00:00:00",
          "xref": "x",
          "y0": 0,
          "y1": 1,
          "yref": "y domain"
         },
         {
          "fillcolor": "rgba(0, 191, 255, 0.2)",
          "layer": "below",
          "line": {
           "width": 0
          },
          "name": "Wet Season (Jun-Nov)",
          "type": "rect",
          "x0": "2021-06-01T00:00:00",
          "x1": "2021-12-01T00:00:00",
          "xref": "x",
          "y0": 0,
          "y1": 1,
          "yref": "y domain"
         },
         {
          "fillcolor": "rgba(255, 165, 0, 0.2)",
          "layer": "below",
          "line": {
           "width": 0
          },
          "name": "Dry Season (Dec-May)",
          "type": "rect",
          "x0": "2022-12-01T00:00:00",
          "x1": "2023-06-01T00:00:00",
          "xref": "x",
          "y0": 0,
          "y1": 1,
          "yref": "y domain"
         },
         {
          "fillcolor": "rgba(0, 191, 255, 0.2)",
          "layer": "below",
          "line": {
           "width": 0
          },
          "name": "Wet Season (Jun-Nov)",
          "type": "rect",
          "x0": "2022-06-01T00:00:00",
          "x1": "2022-12-01T00:00:00",
          "xref": "x",
          "y0": 0,
          "y1": 1,
          "yref": "y domain"
         },
         {
          "fillcolor": "rgba(255, 165, 0, 0.2)",
          "layer": "below",
          "line": {
           "width": 0
          },
          "name": "Dry Season (Dec-May)",
          "type": "rect",
          "x0": "2023-12-01T00:00:00",
          "x1": "2024-06-01T00:00:00",
          "xref": "x",
          "y0": 0,
          "y1": 1,
          "yref": "y domain"
         },
         {
          "fillcolor": "rgba(0, 191, 255, 0.2)",
          "layer": "below",
          "line": {
           "width": 0
          },
          "name": "Wet Season (Jun-Nov)",
          "type": "rect",
          "x0": "2023-06-01T00:00:00",
          "x1": "2023-12-01T00:00:00",
          "xref": "x",
          "y0": 0,
          "y1": 1,
          "yref": "y domain"
         },
         {
          "fillcolor": "rgba(255, 165, 0, 0.2)",
          "layer": "below",
          "line": {
           "width": 0
          },
          "name": "Dry Season (Dec-May)",
          "type": "rect",
          "x0": "2024-12-01T00:00:00",
          "x1": "2024-12-01T00:00:00",
          "xref": "x",
          "y0": 0,
          "y1": 1,
          "yref": "y domain"
         },
         {
          "fillcolor": "rgba(0, 191, 255, 0.2)",
          "layer": "below",
          "line": {
           "width": 0
          },
          "name": "Wet Season (Jun-Nov)",
          "type": "rect",
          "x0": "2024-06-01T00:00:00",
          "x1": "2024-12-01T00:00:00",
          "xref": "x",
          "y0": 0,
          "y1": 1,
          "yref": "y domain"
         }
        ],
        "template": {
         "data": {
          "bar": [
           {
            "error_x": {
             "color": "#2a3f5f"
            },
            "error_y": {
             "color": "#2a3f5f"
            },
            "marker": {
             "line": {
              "color": "#E5ECF6",
              "width": 0.5
             },
             "pattern": {
              "fillmode": "overlay",
              "size": 10,
              "solidity": 0.2
             }
            },
            "type": "bar"
           }
          ],
          "barpolar": [
           {
            "marker": {
             "line": {
              "color": "#E5ECF6",
              "width": 0.5
             },
             "pattern": {
              "fillmode": "overlay",
              "size": 10,
              "solidity": 0.2
             }
            },
            "type": "barpolar"
           }
          ],
          "carpet": [
           {
            "aaxis": {
             "endlinecolor": "#2a3f5f",
             "gridcolor": "white",
             "linecolor": "white",
             "minorgridcolor": "white",
             "startlinecolor": "#2a3f5f"
            },
            "baxis": {
             "endlinecolor": "#2a3f5f",
             "gridcolor": "white",
             "linecolor": "white",
             "minorgridcolor": "white",
             "startlinecolor": "#2a3f5f"
            },
            "type": "carpet"
           }
          ],
          "choropleth": [
           {
            "colorbar": {
             "outlinewidth": 0,
             "ticks": ""
            },
            "type": "choropleth"
           }
          ],
          "contour": [
           {
            "colorbar": {
             "outlinewidth": 0,
             "ticks": ""
            },
            "colorscale": [
             [
              0,
              "#0d0887"
             ],
             [
              0.1111111111111111,
              "#46039f"
             ],
             [
              0.2222222222222222,
              "#7201a8"
             ],
             [
              0.3333333333333333,
              "#9c179e"
             ],
             [
              0.4444444444444444,
              "#bd3786"
             ],
             [
              0.5555555555555556,
              "#d8576b"
             ],
             [
              0.6666666666666666,
              "#ed7953"
             ],
             [
              0.7777777777777778,
              "#fb9f3a"
             ],
             [
              0.8888888888888888,
              "#fdca26"
             ],
             [
              1,
              "#f0f921"
             ]
            ],
            "type": "contour"
           }
          ],
          "contourcarpet": [
           {
            "colorbar": {
             "outlinewidth": 0,
             "ticks": ""
            },
            "type": "contourcarpet"
           }
          ],
          "heatmap": [
           {
            "colorbar": {
             "outlinewidth": 0,
             "ticks": ""
            },
            "colorscale": [
             [
              0,
              "#0d0887"
             ],
             [
              0.1111111111111111,
              "#46039f"
             ],
             [
              0.2222222222222222,
              "#7201a8"
             ],
             [
              0.3333333333333333,
              "#9c179e"
             ],
             [
              0.4444444444444444,
              "#bd3786"
             ],
             [
              0.5555555555555556,
              "#d8576b"
             ],
             [
              0.6666666666666666,
              "#ed7953"
             ],
             [
              0.7777777777777778,
              "#fb9f3a"
             ],
             [
              0.8888888888888888,
              "#fdca26"
             ],
             [
              1,
              "#f0f921"
             ]
            ],
            "type": "heatmap"
           }
          ],
          "histogram": [
           {
            "marker": {
             "pattern": {
              "fillmode": "overlay",
              "size": 10,
              "solidity": 0.2
             }
            },
            "type": "histogram"
           }
          ],
          "histogram2d": [
           {
            "colorbar": {
             "outlinewidth": 0,
             "ticks": ""
            },
            "colorscale": [
             [
              0,
              "#0d0887"
             ],
             [
              0.1111111111111111,
              "#46039f"
             ],
             [
              0.2222222222222222,
              "#7201a8"
             ],
             [
              0.3333333333333333,
              "#9c179e"
             ],
             [
              0.4444444444444444,
              "#bd3786"
             ],
             [
              0.5555555555555556,
              "#d8576b"
             ],
             [
              0.6666666666666666,
              "#ed7953"
             ],
             [
              0.7777777777777778,
              "#fb9f3a"
             ],
             [
              0.8888888888888888,
              "#fdca26"
             ],
             [
              1,
              "#f0f921"
             ]
            ],
            "type": "histogram2d"
           }
          ],
          "histogram2dcontour": [
           {
            "colorbar": {
             "outlinewidth": 0,
             "ticks": ""
            },
            "colorscale": [
             [
              0,
              "#0d0887"
             ],
             [
              0.1111111111111111,
              "#46039f"
             ],
             [
              0.2222222222222222,
              "#7201a8"
             ],
             [
              0.3333333333333333,
              "#9c179e"
             ],
             [
              0.4444444444444444,
              "#bd3786"
             ],
             [
              0.5555555555555556,
              "#d8576b"
             ],
             [
              0.6666666666666666,
              "#ed7953"
             ],
             [
              0.7777777777777778,
              "#fb9f3a"
             ],
             [
              0.8888888888888888,
              "#fdca26"
             ],
             [
              1,
              "#f0f921"
             ]
            ],
            "type": "histogram2dcontour"
           }
          ],
          "mesh3d": [
           {
            "colorbar": {
             "outlinewidth": 0,
             "ticks": ""
            },
            "type": "mesh3d"
           }
          ],
          "parcoords": [
           {
            "line": {
             "colorbar": {
              "outlinewidth": 0,
              "ticks": ""
             }
            },
            "type": "parcoords"
           }
          ],
          "pie": [
           {
            "automargin": true,
            "type": "pie"
           }
          ],
          "scatter": [
           {
            "fillpattern": {
             "fillmode": "overlay",
             "size": 10,
             "solidity": 0.2
            },
            "type": "scatter"
           }
          ],
          "scatter3d": [
           {
            "line": {
             "colorbar": {
              "outlinewidth": 0,
              "ticks": ""
             }
            },
            "marker": {
             "colorbar": {
              "outlinewidth": 0,
              "ticks": ""
             }
            },
            "type": "scatter3d"
           }
          ],
          "scattercarpet": [
           {
            "marker": {
             "colorbar": {
              "outlinewidth": 0,
              "ticks": ""
             }
            },
            "type": "scattercarpet"
           }
          ],
          "scattergeo": [
           {
            "marker": {
             "colorbar": {
              "outlinewidth": 0,
              "ticks": ""
             }
            },
            "type": "scattergeo"
           }
          ],
          "scattergl": [
           {
            "marker": {
             "colorbar": {
              "outlinewidth": 0,
              "ticks": ""
             }
            },
            "type": "scattergl"
           }
          ],
          "scattermap": [
           {
            "marker": {
             "colorbar": {
              "outlinewidth": 0,
              "ticks": ""
             }
            },
            "type": "scattermap"
           }
          ],
          "scattermapbox": [
           {
            "marker": {
             "colorbar": {
              "outlinewidth": 0,
              "ticks": ""
             }
            },
            "type": "scattermapbox"
           }
          ],
          "scatterpolar": [
           {
            "marker": {
             "colorbar": {
              "outlinewidth": 0,
              "ticks": ""
             }
            },
            "type": "scatterpolar"
           }
          ],
          "scatterpolargl": [
           {
            "marker": {
             "colorbar": {
              "outlinewidth": 0,
              "ticks": ""
             }
            },
            "type": "scatterpolargl"
           }
          ],
          "scatterternary": [
           {
            "marker": {
             "colorbar": {
              "outlinewidth": 0,
              "ticks": ""
             }
            },
            "type": "scatterternary"
           }
          ],
          "surface": [
           {
            "colorbar": {
             "outlinewidth": 0,
             "ticks": ""
            },
            "colorscale": [
             [
              0,
              "#0d0887"
             ],
             [
              0.1111111111111111,
              "#46039f"
             ],
             [
              0.2222222222222222,
              "#7201a8"
             ],
             [
              0.3333333333333333,
              "#9c179e"
             ],
             [
              0.4444444444444444,
              "#bd3786"
             ],
             [
              0.5555555555555556,
              "#d8576b"
             ],
             [
              0.6666666666666666,
              "#ed7953"
             ],
             [
              0.7777777777777778,
              "#fb9f3a"
             ],
             [
              0.8888888888888888,
              "#fdca26"
             ],
             [
              1,
              "#f0f921"
             ]
            ],
            "type": "surface"
           }
          ],
          "table": [
           {
            "cells": {
             "fill": {
              "color": "#EBF0F8"
             },
             "line": {
              "color": "white"
             }
            },
            "header": {
             "fill": {
              "color": "#C8D4E3"
             },
             "line": {
              "color": "white"
             }
            },
            "type": "table"
           }
          ]
         },
         "layout": {
          "annotationdefaults": {
           "arrowcolor": "#2a3f5f",
           "arrowhead": 0,
           "arrowwidth": 1
          },
          "autotypenumbers": "strict",
          "coloraxis": {
           "colorbar": {
            "outlinewidth": 0,
            "ticks": ""
           }
          },
          "colorscale": {
           "diverging": [
            [
             0,
             "#8e0152"
            ],
            [
             0.1,
             "#c51b7d"
            ],
            [
             0.2,
             "#de77ae"
            ],
            [
             0.3,
             "#f1b6da"
            ],
            [
             0.4,
             "#fde0ef"
            ],
            [
             0.5,
             "#f7f7f7"
            ],
            [
             0.6,
             "#e6f5d0"
            ],
            [
             0.7,
             "#b8e186"
            ],
            [
             0.8,
             "#7fbc41"
            ],
            [
             0.9,
             "#4d9221"
            ],
            [
             1,
             "#276419"
            ]
           ],
           "sequential": [
            [
             0,
             "#0d0887"
            ],
            [
             0.1111111111111111,
             "#46039f"
            ],
            [
             0.2222222222222222,
             "#7201a8"
            ],
            [
             0.3333333333333333,
             "#9c179e"
            ],
            [
             0.4444444444444444,
             "#bd3786"
            ],
            [
             0.5555555555555556,
             "#d8576b"
            ],
            [
             0.6666666666666666,
             "#ed7953"
            ],
            [
             0.7777777777777778,
             "#fb9f3a"
            ],
            [
             0.8888888888888888,
             "#fdca26"
            ],
            [
             1,
             "#f0f921"
            ]
           ],
           "sequentialminus": [
            [
             0,
             "#0d0887"
            ],
            [
             0.1111111111111111,
             "#46039f"
            ],
            [
             0.2222222222222222,
             "#7201a8"
            ],
            [
             0.3333333333333333,
             "#9c179e"
            ],
            [
             0.4444444444444444,
             "#bd3786"
            ],
            [
             0.5555555555555556,
             "#d8576b"
            ],
            [
             0.6666666666666666,
             "#ed7953"
            ],
            [
             0.7777777777777778,
             "#fb9f3a"
            ],
            [
             0.8888888888888888,
             "#fdca26"
            ],
            [
             1,
             "#f0f921"
            ]
           ]
          },
          "colorway": [
           "#636efa",
           "#EF553B",
           "#00cc96",
           "#ab63fa",
           "#FFA15A",
           "#19d3f3",
           "#FF6692",
           "#B6E880",
           "#FF97FF",
           "#FECB52"
          ],
          "font": {
           "color": "#2a3f5f"
          },
          "geo": {
           "bgcolor": "white",
           "lakecolor": "white",
           "landcolor": "#E5ECF6",
           "showlakes": true,
           "showland": true,
           "subunitcolor": "white"
          },
          "hoverlabel": {
           "align": "left"
          },
          "hovermode": "closest",
          "mapbox": {
           "style": "light"
          },
          "paper_bgcolor": "white",
          "plot_bgcolor": "#E5ECF6",
          "polar": {
           "angularaxis": {
            "gridcolor": "white",
            "linecolor": "white",
            "ticks": ""
           },
           "bgcolor": "#E5ECF6",
           "radialaxis": {
            "gridcolor": "white",
            "linecolor": "white",
            "ticks": ""
           }
          },
          "scene": {
           "xaxis": {
            "backgroundcolor": "#E5ECF6",
            "gridcolor": "white",
            "gridwidth": 2,
            "linecolor": "white",
            "showbackground": true,
            "ticks": "",
            "zerolinecolor": "white"
           },
           "yaxis": {
            "backgroundcolor": "#E5ECF6",
            "gridcolor": "white",
            "gridwidth": 2,
            "linecolor": "white",
            "showbackground": true,
            "ticks": "",
            "zerolinecolor": "white"
           },
           "zaxis": {
            "backgroundcolor": "#E5ECF6",
            "gridcolor": "white",
            "gridwidth": 2,
            "linecolor": "white",
            "showbackground": true,
            "ticks": "",
            "zerolinecolor": "white"
           }
          },
          "shapedefaults": {
           "line": {
            "color": "#2a3f5f"
           }
          },
          "ternary": {
           "aaxis": {
            "gridcolor": "white",
            "linecolor": "white",
            "ticks": ""
           },
           "baxis": {
            "gridcolor": "white",
            "linecolor": "white",
            "ticks": ""
           },
           "bgcolor": "#E5ECF6",
           "caxis": {
            "gridcolor": "white",
            "linecolor": "white",
            "ticks": ""
           }
          },
          "title": {
           "x": 0.05
          },
          "xaxis": {
           "automargin": true,
           "gridcolor": "white",
           "linecolor": "white",
           "ticks": "",
           "title": {
            "standoff": 15
           },
           "zerolinecolor": "white",
           "zerolinewidth": 2
          },
          "yaxis": {
           "automargin": true,
           "gridcolor": "white",
           "linecolor": "white",
           "ticks": "",
           "title": {
            "standoff": 15
           },
           "zerolinecolor": "white",
           "zerolinewidth": 2
          }
         }
        },
        "title": {
         "font": {
          "color": "#333333",
          "size": 18
         },
         "text": "<b>Gas vs. Electricity Cost per Kilometer (2020-2025)</b>",
         "x": 0.5,
         "xanchor": "center",
         "y": 0.95
        },
        "xaxis": {
         "dtick": "M12",
         "gridcolor": "rgba(0,0,0,0.2)",
         "range": [
          "2020-01-01T00:00:00",
          "2024-12-01T00:00:00"
         ],
         "showgrid": true,
         "tickformat": "%Y",
         "title": {
          "text": "Date"
         }
        },
        "yaxis": {
         "gridcolor": "rgba(0,0,0,0.2)",
         "showgrid": true,
         "title": {
          "text": "Cost per km (PHP)"
         }
        }
       }
      }
     },
     "metadata": {},
     "output_type": "display_data"
    }
   ],
   "source": [
    "plot_comparison_dataframe(20.42, 6.23, 400)"
   ]
  },
  {
   "cell_type": "markdown",
   "id": "9044e311",
   "metadata": {},
   "source": [
    "Statistical Test"
   ]
  },
  {
   "cell_type": "code",
   "execution_count": 537,
   "id": "28217897",
   "metadata": {},
   "outputs": [
    {
     "name": "stdout",
     "output_type": "stream",
     "text": [
      "HTML table saved to tables/kruskal.html\n"
     ]
    }
   ],
   "source": [
    "def add_season_column(df):\n",
    "    def assign_season(date):\n",
    "        month = date.month\n",
    "        if month == 12 or (1 <= month <= 5):  # November to May\n",
    "            return \"Dry\"\n",
    "        else:\n",
    "            return \"Wet\"\n",
    "    \n",
    "    for date in df['Date']:\n",
    "        df['Season'] = df['Date'].apply(assign_season)\n",
    "        return df\n",
    "\n",
    "def seasonality_test(_df: pd.DataFrame, column_to_check: str, time: str):\n",
    "    res = []\n",
    "\n",
    "    df = add_season_column(_df.copy())\n",
    "    df = df[df['Date'].dt.year != 2025]\n",
    "    \n",
    "    if time.lower() == 'month':\n",
    "        for i in df['Date'].dt.month.unique():\n",
    "            time = df['Date'].dt.month\n",
    "            res.append(df[time == i][column_to_check].values)\n",
    "    elif time.lower() == 'year':\n",
    "        for i in df['Date'].dt.year.unique():\n",
    "            time = df['Date'].dt.year\n",
    "            res.append(df[time == i][column_to_check].values)\n",
    "    else:\n",
    "        for i in df['Season'].unique():\n",
    "            season = df['Season']\n",
    "            res.append(df[season == i][column_to_check].values)\n",
    "\n",
    "    \n",
    "    return stats.kruskal(*res)\n",
    "\n",
    "def save_all_kruskal(time: str):\n",
    "    r1 = seasonality_test(ron95_data, 'Average Price', time)\n",
    "    r2 = seasonality_test(get_specific_kwh_df(300), 'Total Bill', time)\n",
    "    r3 = seasonality_test(make_comparison_dataframe(40, 7, 300), 'Difference', time)\n",
    "    df = pd.DataFrame({\n",
    "        'Seasonality': [time, time, time],\n",
    "        'Dataset': ['Gas Avg Price', 'Meralco Rates', f'Gas VS Electricity Cost/km Difference'],\n",
    "        'H Statistic': [r1.statistic, r2.statistic, r3.statistic],\n",
    "        'P Value': [r1.pvalue, r2.pvalue, r3.pvalue],\n",
    "    })\n",
    "    return df\n",
    "\n",
    "stat_results = pd.concat([save_all_kruskal('Season'), \n",
    "                          save_all_kruskal('Month'), \n",
    "                          save_all_kruskal('Year')], ignore_index=True)\n",
    "\n",
    "output_html_path = \"tables/kruskal.html\"\n",
    "with open(output_html_path, 'w', encoding='utf-8') as f:\n",
    "    f.write(stat_results.to_html(index=False, escape=True))\n",
    "    print(f\"HTML table saved to {output_html_path}\")"
   ]
  },
  {
   "cell_type": "markdown",
   "id": "72ac0354",
   "metadata": {},
   "source": [
    "Nutshell plot"
   ]
  },
  {
   "cell_type": "code",
   "execution_count": 538,
   "id": "a5ca321c",
   "metadata": {},
   "outputs": [
    {
     "data": {
      "application/vnd.plotly.v1+json": {
       "config": {
        "plotlyServerURL": "https://plot.ly"
       },
       "data": [
        {
         "line": {
          "color": "#dc267f",
          "width": 3
         },
         "marker": {
          "size": 12
         },
         "mode": "lines+markers",
         "name": "",
         "type": "scatter",
         "x": [
          "2020-01-01T00:00:00.000000000",
          "2020-02-01T00:00:00.000000000",
          "2020-03-01T00:00:00.000000000",
          "2020-04-01T00:00:00.000000000",
          "2020-05-01T00:00:00.000000000",
          "2020-06-01T00:00:00.000000000",
          "2020-07-01T00:00:00.000000000",
          "2020-08-01T00:00:00.000000000",
          "2020-09-01T00:00:00.000000000",
          "2020-10-01T00:00:00.000000000",
          "2020-11-01T00:00:00.000000000",
          "2020-12-01T00:00:00.000000000",
          "2021-01-01T00:00:00.000000000",
          "2021-02-01T00:00:00.000000000",
          "2021-03-01T00:00:00.000000000",
          "2021-04-01T00:00:00.000000000",
          "2021-05-01T00:00:00.000000000",
          "2021-06-01T00:00:00.000000000",
          "2021-07-01T00:00:00.000000000",
          "2021-08-01T00:00:00.000000000",
          "2021-09-01T00:00:00.000000000",
          "2021-10-01T00:00:00.000000000",
          "2021-11-01T00:00:00.000000000",
          "2021-12-01T00:00:00.000000000",
          "2022-01-01T00:00:00.000000000",
          "2022-02-01T00:00:00.000000000",
          "2022-03-01T00:00:00.000000000",
          "2022-04-01T00:00:00.000000000",
          "2022-05-01T00:00:00.000000000",
          "2022-06-01T00:00:00.000000000",
          "2022-07-01T00:00:00.000000000",
          "2022-08-01T00:00:00.000000000",
          "2022-09-01T00:00:00.000000000",
          "2022-10-01T00:00:00.000000000",
          "2022-11-01T00:00:00.000000000",
          "2022-12-01T00:00:00.000000000",
          "2023-01-01T00:00:00.000000000",
          "2023-02-01T00:00:00.000000000",
          "2023-03-01T00:00:00.000000000",
          "2023-04-01T00:00:00.000000000",
          "2023-05-01T00:00:00.000000000",
          "2023-06-01T00:00:00.000000000",
          "2023-07-01T00:00:00.000000000",
          "2023-08-01T00:00:00.000000000",
          "2023-09-01T00:00:00.000000000",
          "2023-10-01T00:00:00.000000000",
          "2023-11-01T00:00:00.000000000",
          "2023-12-01T00:00:00.000000000",
          "2024-01-01T00:00:00.000000000",
          "2024-02-01T00:00:00.000000000",
          "2024-03-01T00:00:00.000000000",
          "2024-04-01T00:00:00.000000000",
          "2024-05-01T00:00:00.000000000",
          "2024-06-01T00:00:00.000000000",
          "2024-07-01T00:00:00.000000000",
          "2024-08-01T00:00:00.000000000",
          "2024-09-01T00:00:00.000000000",
          "2024-10-01T00:00:00.000000000",
          "2024-11-01T00:00:00.000000000",
          "2024-12-01T00:00:00.000000000"
         ],
         "y": [
          2.5205680705190985,
          2.407688540646425,
          2.2086190009794313,
          1.8342311459353573,
          1.9762487757100882,
          2.186092066601371,
          2.335210577864838,
          2.361900097943193,
          2.3009304603330065,
          2.284769833496572,
          2.1478942213516157,
          2.1745837414299705,
          2.2573457394711065,
          2.322477962781586,
          2.440499510284035,
          2.429480901077375,
          2.4762487757100877,
          2.549951028403526,
          2.6907443682664054,
          2.7465719882468163,
          2.7580803134182172,
          2.9527424094025463,
          3.0328109696376098,
          2.865817825661116,
          2.9855533790401565,
          3.139569049951028,
          3.517629774730656,
          3.531096963761018,
          3.7218413320274237,
          4.00048971596474,
          3.760773751224289,
          3.498041136141038,
          3.390793339862879,
          3.2852595494613124,
          3.2913809990205682,
          3.1275710088148867,
          3.225269343780607,
          3.1978452497551415,
          3.1094515181194904,
          3.2012732615083253,
          3.049216454456415,
          3.0727228207639565,
          3.115572967678746,
          3.384916748285994,
          3.5440744368266404,
          3.3503917727717925,
          3.253428011753183,
          3.1606268364348673,
          3.1868266405484817,
          3.319784524975514,
          3.3303134182174334,
          3.468413320274241,
          3.3741429970617043,
          3.308031341821743,
          3.4062193927522038,
          3.1380999020568066,
          3.029138099902057,
          2.9977962781586673,
          3.026444662095984,
          3.0678256611165517
         ]
        },
        {
         "line": {
          "color": "#648fff",
          "width": 3
         },
         "marker": {
          "size": 12
         },
         "mode": "lines+markers",
         "name": "",
         "type": "scatter",
         "x": [
          "2020-01-01T00:00:00.000000000",
          "2020-02-01T00:00:00.000000000",
          "2020-03-01T00:00:00.000000000",
          "2020-04-01T00:00:00.000000000",
          "2020-05-01T00:00:00.000000000",
          "2020-06-01T00:00:00.000000000",
          "2020-07-01T00:00:00.000000000",
          "2020-08-01T00:00:00.000000000",
          "2020-09-01T00:00:00.000000000",
          "2020-10-01T00:00:00.000000000",
          "2020-11-01T00:00:00.000000000",
          "2020-12-01T00:00:00.000000000",
          "2021-01-01T00:00:00.000000000",
          "2021-02-01T00:00:00.000000000",
          "2021-03-01T00:00:00.000000000",
          "2021-04-01T00:00:00.000000000",
          "2021-05-01T00:00:00.000000000",
          "2021-06-01T00:00:00.000000000",
          "2021-07-01T00:00:00.000000000",
          "2021-08-01T00:00:00.000000000",
          "2021-09-01T00:00:00.000000000",
          "2021-10-01T00:00:00.000000000",
          "2021-11-01T00:00:00.000000000",
          "2021-12-01T00:00:00.000000000",
          "2022-01-01T00:00:00.000000000",
          "2022-02-01T00:00:00.000000000",
          "2022-03-01T00:00:00.000000000",
          "2022-04-01T00:00:00.000000000",
          "2022-05-01T00:00:00.000000000",
          "2022-06-01T00:00:00.000000000",
          "2022-07-01T00:00:00.000000000",
          "2022-08-01T00:00:00.000000000",
          "2022-09-01T00:00:00.000000000",
          "2022-10-01T00:00:00.000000000",
          "2022-11-01T00:00:00.000000000",
          "2022-12-01T00:00:00.000000000",
          "2023-01-01T00:00:00.000000000",
          "2023-02-01T00:00:00.000000000",
          "2023-03-01T00:00:00.000000000",
          "2023-04-01T00:00:00.000000000",
          "2023-05-01T00:00:00.000000000",
          "2023-06-01T00:00:00.000000000",
          "2023-07-01T00:00:00.000000000",
          "2023-08-01T00:00:00.000000000",
          "2023-09-01T00:00:00.000000000",
          "2023-10-01T00:00:00.000000000",
          "2023-11-01T00:00:00.000000000",
          "2023-12-01T00:00:00.000000000",
          "2024-01-01T00:00:00.000000000",
          "2024-02-01T00:00:00.000000000",
          "2024-03-01T00:00:00.000000000",
          "2024-04-01T00:00:00.000000000",
          "2024-05-01T00:00:00.000000000",
          "2024-06-01T00:00:00.000000000",
          "2024-07-01T00:00:00.000000000",
          "2024-08-01T00:00:00.000000000",
          "2024-09-01T00:00:00.000000000",
          "2024-10-01T00:00:00.000000000",
          "2024-11-01T00:00:00.000000000",
          "2024-12-01T00:00:00.000000000"
         ],
         "y": [
          1.61876404494382,
          1.5240449438202246,
          1.5285072231139647,
          1.545361155698234,
          1.5055056179775281,
          1.5020385232744782,
          1.4974478330658105,
          1.4644783306581057,
          1.4544622792937398,
          1.473900481540931,
          1.4675762439807383,
          1.4619261637239163,
          1.505971107544141,
          1.4946709470304975,
          1.4369341894060994,
          1.4509149277688602,
          1.4801444622792936,
          1.4929534510433387,
          1.5312359550561796,
          1.5467255216693419,
          1.5636597110754413,
          1.568202247191011,
          1.620465489566613,
          1.6709149277688604,
          1.658426966292135,
          1.63991974317817,
          1.649935794542536,
          1.736035313001605,
          1.7167897271268058,
          1.7806902086677368,
          1.6672712680577848,
          1.631573033707865,
          1.6943178170144462,
          1.6824719101123593,
          1.696035313001605,
          1.7489406099518456,
          1.8484911717495986,
          1.8472712680577847,
          1.9347993579454255,
          1.9158426966292135,
          1.9441091492776885,
          2.011268057784912,
          1.895489566613162,
          1.8488121990369182,
          1.9291813804173354,
          1.996597110754414,
          2.0342857142857143,
          1.9065008025682182,
          1.9195987158908505,
          2.012166934189406,
          2.0158587479935792,
          1.8572873194221506,
          1.9314446227929372,
          1.6165008025682182,
          1.961540930979133,
          1.9667576243980738,
          1.991540930979133,
          1.933948635634029,
          2.0024879614767253,
          2.0193258426966287
         ]
        }
       ],
       "layout": {
        "font": {
         "color": "#FFFFFF",
         "family": "Roboto",
         "size": 20
        },
        "height": 900,
        "hovermode": "x unified",
        "paper_bgcolor": "#1B181C",
        "plot_bgcolor": "#1B181C",
        "shapes": [
         {
          "line": {
           "color": "#ffb000",
           "dash": "dash",
           "width": 3
          },
          "type": "line",
          "x0": "2020-03-01T00:00:00",
          "x1": "2020-03-01T00:00:00",
          "y1": 4.00048971596474
         },
         {
          "line": {
           "color": "#ffb000",
           "dash": "dash",
           "width": 3
          },
          "type": "line",
          "x0": "2021-10-01T00:00:00",
          "x1": "2021-10-01T00:00:00",
          "y1": 4.00048971596474
         },
         {
          "line": {
           "color": "#ffb000",
           "dash": "dash",
           "width": 3
          },
          "type": "line",
          "x0": "2022-02-01T00:00:00",
          "x1": "2022-02-01T00:00:00",
          "y1": 4.00048971596474
         },
         {
          "line": {
           "color": "rgba(211, 211, 211, 0.5)",
           "width": 2
          },
          "type": "line",
          "x0": "2020-01-01T00:00:00",
          "x1": "2020-01-01T00:00:00",
          "xref": "x",
          "y0": 0.2,
          "y1": 4.00048971596474,
          "yref": "y"
         },
         {
          "line": {
           "color": "rgba(211, 211, 211, 0.5)",
           "width": 2
          },
          "type": "line",
          "x0": "2021-01-01T00:00:00",
          "x1": "2021-01-01T00:00:00",
          "xref": "x",
          "y0": 0.2,
          "y1": 4.00048971596474,
          "yref": "y"
         },
         {
          "line": {
           "color": "rgba(211, 211, 211, 0.5)",
           "width": 2
          },
          "type": "line",
          "x0": "2022-01-01T00:00:00",
          "x1": "2022-01-01T00:00:00",
          "xref": "x",
          "y0": 0.2,
          "y1": 4.00048971596474,
          "yref": "y"
         },
         {
          "line": {
           "color": "rgba(211, 211, 211, 0.5)",
           "width": 2
          },
          "type": "line",
          "x0": "2023-01-01T00:00:00",
          "x1": "2023-01-01T00:00:00",
          "xref": "x",
          "y0": 0.2,
          "y1": 4.00048971596474,
          "yref": "y"
         },
         {
          "line": {
           "color": "rgba(211, 211, 211, 0.5)",
           "width": 2
          },
          "type": "line",
          "x0": "2024-01-01T00:00:00",
          "x1": "2024-01-01T00:00:00",
          "xref": "x",
          "y0": 0.2,
          "y1": 4.00048971596474,
          "yref": "y"
         }
        ],
        "template": {
         "data": {
          "bar": [
           {
            "error_x": {
             "color": "#2a3f5f"
            },
            "error_y": {
             "color": "#2a3f5f"
            },
            "marker": {
             "line": {
              "color": "#E5ECF6",
              "width": 0.5
             },
             "pattern": {
              "fillmode": "overlay",
              "size": 10,
              "solidity": 0.2
             }
            },
            "type": "bar"
           }
          ],
          "barpolar": [
           {
            "marker": {
             "line": {
              "color": "#E5ECF6",
              "width": 0.5
             },
             "pattern": {
              "fillmode": "overlay",
              "size": 10,
              "solidity": 0.2
             }
            },
            "type": "barpolar"
           }
          ],
          "carpet": [
           {
            "aaxis": {
             "endlinecolor": "#2a3f5f",
             "gridcolor": "white",
             "linecolor": "white",
             "minorgridcolor": "white",
             "startlinecolor": "#2a3f5f"
            },
            "baxis": {
             "endlinecolor": "#2a3f5f",
             "gridcolor": "white",
             "linecolor": "white",
             "minorgridcolor": "white",
             "startlinecolor": "#2a3f5f"
            },
            "type": "carpet"
           }
          ],
          "choropleth": [
           {
            "colorbar": {
             "outlinewidth": 0,
             "ticks": ""
            },
            "type": "choropleth"
           }
          ],
          "contour": [
           {
            "colorbar": {
             "outlinewidth": 0,
             "ticks": ""
            },
            "colorscale": [
             [
              0,
              "#0d0887"
             ],
             [
              0.1111111111111111,
              "#46039f"
             ],
             [
              0.2222222222222222,
              "#7201a8"
             ],
             [
              0.3333333333333333,
              "#9c179e"
             ],
             [
              0.4444444444444444,
              "#bd3786"
             ],
             [
              0.5555555555555556,
              "#d8576b"
             ],
             [
              0.6666666666666666,
              "#ed7953"
             ],
             [
              0.7777777777777778,
              "#fb9f3a"
             ],
             [
              0.8888888888888888,
              "#fdca26"
             ],
             [
              1,
              "#f0f921"
             ]
            ],
            "type": "contour"
           }
          ],
          "contourcarpet": [
           {
            "colorbar": {
             "outlinewidth": 0,
             "ticks": ""
            },
            "type": "contourcarpet"
           }
          ],
          "heatmap": [
           {
            "colorbar": {
             "outlinewidth": 0,
             "ticks": ""
            },
            "colorscale": [
             [
              0,
              "#0d0887"
             ],
             [
              0.1111111111111111,
              "#46039f"
             ],
             [
              0.2222222222222222,
              "#7201a8"
             ],
             [
              0.3333333333333333,
              "#9c179e"
             ],
             [
              0.4444444444444444,
              "#bd3786"
             ],
             [
              0.5555555555555556,
              "#d8576b"
             ],
             [
              0.6666666666666666,
              "#ed7953"
             ],
             [
              0.7777777777777778,
              "#fb9f3a"
             ],
             [
              0.8888888888888888,
              "#fdca26"
             ],
             [
              1,
              "#f0f921"
             ]
            ],
            "type": "heatmap"
           }
          ],
          "histogram": [
           {
            "marker": {
             "pattern": {
              "fillmode": "overlay",
              "size": 10,
              "solidity": 0.2
             }
            },
            "type": "histogram"
           }
          ],
          "histogram2d": [
           {
            "colorbar": {
             "outlinewidth": 0,
             "ticks": ""
            },
            "colorscale": [
             [
              0,
              "#0d0887"
             ],
             [
              0.1111111111111111,
              "#46039f"
             ],
             [
              0.2222222222222222,
              "#7201a8"
             ],
             [
              0.3333333333333333,
              "#9c179e"
             ],
             [
              0.4444444444444444,
              "#bd3786"
             ],
             [
              0.5555555555555556,
              "#d8576b"
             ],
             [
              0.6666666666666666,
              "#ed7953"
             ],
             [
              0.7777777777777778,
              "#fb9f3a"
             ],
             [
              0.8888888888888888,
              "#fdca26"
             ],
             [
              1,
              "#f0f921"
             ]
            ],
            "type": "histogram2d"
           }
          ],
          "histogram2dcontour": [
           {
            "colorbar": {
             "outlinewidth": 0,
             "ticks": ""
            },
            "colorscale": [
             [
              0,
              "#0d0887"
             ],
             [
              0.1111111111111111,
              "#46039f"
             ],
             [
              0.2222222222222222,
              "#7201a8"
             ],
             [
              0.3333333333333333,
              "#9c179e"
             ],
             [
              0.4444444444444444,
              "#bd3786"
             ],
             [
              0.5555555555555556,
              "#d8576b"
             ],
             [
              0.6666666666666666,
              "#ed7953"
             ],
             [
              0.7777777777777778,
              "#fb9f3a"
             ],
             [
              0.8888888888888888,
              "#fdca26"
             ],
             [
              1,
              "#f0f921"
             ]
            ],
            "type": "histogram2dcontour"
           }
          ],
          "mesh3d": [
           {
            "colorbar": {
             "outlinewidth": 0,
             "ticks": ""
            },
            "type": "mesh3d"
           }
          ],
          "parcoords": [
           {
            "line": {
             "colorbar": {
              "outlinewidth": 0,
              "ticks": ""
             }
            },
            "type": "parcoords"
           }
          ],
          "pie": [
           {
            "automargin": true,
            "type": "pie"
           }
          ],
          "scatter": [
           {
            "fillpattern": {
             "fillmode": "overlay",
             "size": 10,
             "solidity": 0.2
            },
            "type": "scatter"
           }
          ],
          "scatter3d": [
           {
            "line": {
             "colorbar": {
              "outlinewidth": 0,
              "ticks": ""
             }
            },
            "marker": {
             "colorbar": {
              "outlinewidth": 0,
              "ticks": ""
             }
            },
            "type": "scatter3d"
           }
          ],
          "scattercarpet": [
           {
            "marker": {
             "colorbar": {
              "outlinewidth": 0,
              "ticks": ""
             }
            },
            "type": "scattercarpet"
           }
          ],
          "scattergeo": [
           {
            "marker": {
             "colorbar": {
              "outlinewidth": 0,
              "ticks": ""
             }
            },
            "type": "scattergeo"
           }
          ],
          "scattergl": [
           {
            "marker": {
             "colorbar": {
              "outlinewidth": 0,
              "ticks": ""
             }
            },
            "type": "scattergl"
           }
          ],
          "scattermap": [
           {
            "marker": {
             "colorbar": {
              "outlinewidth": 0,
              "ticks": ""
             }
            },
            "type": "scattermap"
           }
          ],
          "scattermapbox": [
           {
            "marker": {
             "colorbar": {
              "outlinewidth": 0,
              "ticks": ""
             }
            },
            "type": "scattermapbox"
           }
          ],
          "scatterpolar": [
           {
            "marker": {
             "colorbar": {
              "outlinewidth": 0,
              "ticks": ""
             }
            },
            "type": "scatterpolar"
           }
          ],
          "scatterpolargl": [
           {
            "marker": {
             "colorbar": {
              "outlinewidth": 0,
              "ticks": ""
             }
            },
            "type": "scatterpolargl"
           }
          ],
          "scatterternary": [
           {
            "marker": {
             "colorbar": {
              "outlinewidth": 0,
              "ticks": ""
             }
            },
            "type": "scatterternary"
           }
          ],
          "surface": [
           {
            "colorbar": {
             "outlinewidth": 0,
             "ticks": ""
            },
            "colorscale": [
             [
              0,
              "#0d0887"
             ],
             [
              0.1111111111111111,
              "#46039f"
             ],
             [
              0.2222222222222222,
              "#7201a8"
             ],
             [
              0.3333333333333333,
              "#9c179e"
             ],
             [
              0.4444444444444444,
              "#bd3786"
             ],
             [
              0.5555555555555556,
              "#d8576b"
             ],
             [
              0.6666666666666666,
              "#ed7953"
             ],
             [
              0.7777777777777778,
              "#fb9f3a"
             ],
             [
              0.8888888888888888,
              "#fdca26"
             ],
             [
              1,
              "#f0f921"
             ]
            ],
            "type": "surface"
           }
          ],
          "table": [
           {
            "cells": {
             "fill": {
              "color": "#EBF0F8"
             },
             "line": {
              "color": "white"
             }
            },
            "header": {
             "fill": {
              "color": "#C8D4E3"
             },
             "line": {
              "color": "white"
             }
            },
            "type": "table"
           }
          ]
         },
         "layout": {
          "annotationdefaults": {
           "arrowcolor": "#2a3f5f",
           "arrowhead": 0,
           "arrowwidth": 1
          },
          "autotypenumbers": "strict",
          "coloraxis": {
           "colorbar": {
            "outlinewidth": 0,
            "ticks": ""
           }
          },
          "colorscale": {
           "diverging": [
            [
             0,
             "#8e0152"
            ],
            [
             0.1,
             "#c51b7d"
            ],
            [
             0.2,
             "#de77ae"
            ],
            [
             0.3,
             "#f1b6da"
            ],
            [
             0.4,
             "#fde0ef"
            ],
            [
             0.5,
             "#f7f7f7"
            ],
            [
             0.6,
             "#e6f5d0"
            ],
            [
             0.7,
             "#b8e186"
            ],
            [
             0.8,
             "#7fbc41"
            ],
            [
             0.9,
             "#4d9221"
            ],
            [
             1,
             "#276419"
            ]
           ],
           "sequential": [
            [
             0,
             "#0d0887"
            ],
            [
             0.1111111111111111,
             "#46039f"
            ],
            [
             0.2222222222222222,
             "#7201a8"
            ],
            [
             0.3333333333333333,
             "#9c179e"
            ],
            [
             0.4444444444444444,
             "#bd3786"
            ],
            [
             0.5555555555555556,
             "#d8576b"
            ],
            [
             0.6666666666666666,
             "#ed7953"
            ],
            [
             0.7777777777777778,
             "#fb9f3a"
            ],
            [
             0.8888888888888888,
             "#fdca26"
            ],
            [
             1,
             "#f0f921"
            ]
           ],
           "sequentialminus": [
            [
             0,
             "#0d0887"
            ],
            [
             0.1111111111111111,
             "#46039f"
            ],
            [
             0.2222222222222222,
             "#7201a8"
            ],
            [
             0.3333333333333333,
             "#9c179e"
            ],
            [
             0.4444444444444444,
             "#bd3786"
            ],
            [
             0.5555555555555556,
             "#d8576b"
            ],
            [
             0.6666666666666666,
             "#ed7953"
            ],
            [
             0.7777777777777778,
             "#fb9f3a"
            ],
            [
             0.8888888888888888,
             "#fdca26"
            ],
            [
             1,
             "#f0f921"
            ]
           ]
          },
          "colorway": [
           "#636efa",
           "#EF553B",
           "#00cc96",
           "#ab63fa",
           "#FFA15A",
           "#19d3f3",
           "#FF6692",
           "#B6E880",
           "#FF97FF",
           "#FECB52"
          ],
          "font": {
           "color": "#2a3f5f"
          },
          "geo": {
           "bgcolor": "white",
           "lakecolor": "white",
           "landcolor": "#E5ECF6",
           "showlakes": true,
           "showland": true,
           "subunitcolor": "white"
          },
          "hoverlabel": {
           "align": "left"
          },
          "hovermode": "closest",
          "mapbox": {
           "style": "light"
          },
          "paper_bgcolor": "white",
          "plot_bgcolor": "#E5ECF6",
          "polar": {
           "angularaxis": {
            "gridcolor": "white",
            "linecolor": "white",
            "ticks": ""
           },
           "bgcolor": "#E5ECF6",
           "radialaxis": {
            "gridcolor": "white",
            "linecolor": "white",
            "ticks": ""
           }
          },
          "scene": {
           "xaxis": {
            "backgroundcolor": "#E5ECF6",
            "gridcolor": "white",
            "gridwidth": 2,
            "linecolor": "white",
            "showbackground": true,
            "ticks": "",
            "zerolinecolor": "white"
           },
           "yaxis": {
            "backgroundcolor": "#E5ECF6",
            "gridcolor": "white",
            "gridwidth": 2,
            "linecolor": "white",
            "showbackground": true,
            "ticks": "",
            "zerolinecolor": "white"
           },
           "zaxis": {
            "backgroundcolor": "#E5ECF6",
            "gridcolor": "white",
            "gridwidth": 2,
            "linecolor": "white",
            "showbackground": true,
            "ticks": "",
            "zerolinecolor": "white"
           }
          },
          "shapedefaults": {
           "line": {
            "color": "#2a3f5f"
           }
          },
          "ternary": {
           "aaxis": {
            "gridcolor": "white",
            "linecolor": "white",
            "ticks": ""
           },
           "baxis": {
            "gridcolor": "white",
            "linecolor": "white",
            "ticks": ""
           },
           "bgcolor": "#E5ECF6",
           "caxis": {
            "gridcolor": "white",
            "linecolor": "white",
            "ticks": ""
           }
          },
          "title": {
           "x": 0.05
          },
          "xaxis": {
           "automargin": true,
           "gridcolor": "white",
           "linecolor": "white",
           "ticks": "",
           "title": {
            "standoff": 15
           },
           "zerolinecolor": "white",
           "zerolinewidth": 2
          },
          "yaxis": {
           "automargin": true,
           "gridcolor": "white",
           "linecolor": "white",
           "ticks": "",
           "title": {
            "standoff": 15
           },
           "zerolinecolor": "white",
           "zerolinewidth": 2
          }
         }
        },
        "title": {
         "font": {
          "size": 18
         },
         "text": "",
         "x": 0.5,
         "xanchor": "center",
         "y": 0.95
        },
        "width": 1600,
        "xaxis": {
         "dtick": "M12",
         "linecolor": "white",
         "linewidth": 2,
         "range": [
          "2020-01-01T00:00:00",
          "2024-12-01T00:00:00"
         ],
         "showgrid": false,
         "showline": true,
         "tickformat": "%Y",
         "title": {
          "text": ""
         }
        },
        "yaxis": {
         "linecolor": "white",
         "showgrid": false,
         "showline": true,
         "title": {
          "text": ""
         }
        }
       }
      }
     },
     "metadata": {},
     "output_type": "display_data"
    }
   ],
   "source": [
    "def graph_REAL_nutshell_plot(km_l: float, km_kwh: float, kwh_consumption: int):\n",
    "    ## 18, 7, 300, 40\n",
    "    nutshell_df = make_comparison_dataframe(km_l, km_kwh, kwh_consumption)\n",
    "\n",
    "    gas_color = '#dc267f'  # Red\n",
    "    electricity_color = '#648fff'  # Blue\n",
    "    vline_color = '#ffb000'\n",
    "    text_color = '#FFFFFF'\n",
    "    bg_color = '#1B181C'\n",
    "\n",
    "    fig = go.Figure()\n",
    "    fig.update_layout(width=1600,height=900)\n",
    "    fig.update_layout(\n",
    "        font=dict(\n",
    "            color=text_color,\n",
    "            family=\"Roboto\",\n",
    "            size=20,\n",
    "        )\n",
    "    )\n",
    "\n",
    "    line_width = 3\n",
    "\n",
    "    ## vertical lines\n",
    "    luzon_lockdown = datetime(2020, 3, 1)\n",
    "    lockdown_reduced = datetime(2021, 10, 1)\n",
    "    ukraine_invasion = datetime(2022, 2, 1)\n",
    "    erc_order = datetime(2024, 6, 1)\n",
    "    y_val = max(max(nutshell_df['Gas cost/km']), max(nutshell_df['Electricity cost/km']))\n",
    "    fig.update_layout(\n",
    "        shapes=[\n",
    "            dict(\n",
    "                type=\"line\",\n",
    "                x0=luzon_lockdown,\n",
    "                x1=luzon_lockdown,\n",
    "                y1=y_val,\n",
    "                line=dict(color=vline_color, width=line_width, dash=\"dash\")\n",
    "            ),\n",
    "            dict(\n",
    "                type=\"line\",\n",
    "                x0=lockdown_reduced,\n",
    "                x1=lockdown_reduced,\n",
    "                y1=y_val,\n",
    "                line=dict(color=vline_color, width=line_width, dash=\"dash\")\n",
    "            ),\n",
    "            dict(\n",
    "                type=\"line\",\n",
    "                x0=ukraine_invasion,\n",
    "                x1=ukraine_invasion,\n",
    "                y1=y_val,\n",
    "                line=dict(color=vline_color, width=line_width, dash=\"dash\")\n",
    "            ),\n",
    "        ],\n",
    "    )\n",
    "\n",
    "    # Add Gas line plot\n",
    "    fig.add_trace(go.Scatter(\n",
    "        x=nutshell_df['Date'],\n",
    "        y=nutshell_df['Gas cost/km'],\n",
    "        mode='lines+markers',\n",
    "        line=dict(color=gas_color, width=3),\n",
    "        marker=dict(size=12),\n",
    "        name='',\n",
    "    ))\n",
    "\n",
    "    fig.add_trace(go.Scatter(\n",
    "        x=nutshell_df['Date'],\n",
    "        y=nutshell_df['Electricity cost/km'],\n",
    "        mode='lines+markers',\n",
    "        line=dict(color=electricity_color, width=3),\n",
    "        marker=dict(size=12),\n",
    "        name='',\n",
    "    ))\n",
    "    \n",
    "    fig.update_layout(\n",
    "        title={\n",
    "            'text': \"\",\n",
    "            'y':0.95,\n",
    "            'x':0.5,\n",
    "            'xanchor': 'center',\n",
    "            'font': dict(size=18)\n",
    "        },\n",
    "        xaxis=dict(\n",
    "            title=\"Date\",\n",
    "            range=[nutshell_df['Date'].min(), nutshell_df['Date'].max()],\n",
    "            tickformat=\"%Y\",\n",
    "            dtick=\"M12\",  # Yearly ticks\n",
    "            showgrid=False,\n",
    "            showline=True,\n",
    "            linecolor='white',\n",
    "            linewidth=2,\n",
    "        ),\n",
    "        yaxis=dict(\n",
    "            title=\"Cost per km (PHP)\",\n",
    "            showgrid=False,\n",
    "            showline=True,\n",
    "            linecolor='white',\n",
    "        ),\n",
    "        plot_bgcolor=bg_color,\n",
    "        paper_bgcolor=bg_color,\n",
    "        xaxis_title=\"\",\n",
    "        yaxis_title=\"\",\n",
    "        hovermode=\"x unified\",\n",
    "    )\n",
    "\n",
    "    for date in nutshell_df['Date']:\n",
    "        month = date.month\n",
    "        if month != 1:\n",
    "            continue\n",
    "        gas_cost = nutshell_df.loc[nutshell_df['Date'] == date]['Gas cost/km']\n",
    "        elec_cost = nutshell_df.loc[nutshell_df['Date'] == date]['Electricity cost/km']\n",
    "        \n",
    "        #val = max(elec_cost.iloc[0], gas_cost.iloc[0])\n",
    "        fig.add_shape(\n",
    "            go.layout.Shape(\n",
    "                type=\"line\",\n",
    "                x0=date, y0=0.2,  # Start at the x-axis (y=0)\n",
    "                x1=date, y1=y_val,  # End at the data point\n",
    "                xref=\"x\", yref=\"y\",\n",
    "                line=dict(color=\"rgba(211, 211, 211, 0.5)\", width=2)\n",
    "            )\n",
    "        )\n",
    "\n",
    "    # Show the plot\n",
    "    fig.show()\n",
    "\n",
    "graph_REAL_nutshell_plot(20.42, 6.23, 400)"
   ]
  },
  {
   "cell_type": "code",
   "execution_count": 539,
   "id": "7665e46e",
   "metadata": {},
   "outputs": [],
   "source": [
    "#make_comparison_dataframe(40, 7, 200)"
   ]
  },
  {
   "cell_type": "code",
   "execution_count": 540,
   "id": "ed52578e",
   "metadata": {},
   "outputs": [
    {
     "data": {
      "application/vnd.plotly.v1+json": {
       "config": {
        "plotlyServerURL": "https://plot.ly"
       },
       "data": [
        {
         "hovertemplate": "<b>%{x|%b %Y}</b><br>HEV Gas Cost: PHP %{y:.3f}<extra></extra>",
         "line": {
          "color": "#dc267f",
          "width": 2
         },
         "marker": {
          "size": 8
         },
         "mode": "lines+markers",
         "name": "HEV Gas Cost/km",
         "type": "scatter",
         "x": [
          "2020-01-01T00:00:00.000000000",
          "2020-02-01T00:00:00.000000000",
          "2020-03-01T00:00:00.000000000",
          "2020-04-01T00:00:00.000000000",
          "2020-05-01T00:00:00.000000000",
          "2020-06-01T00:00:00.000000000",
          "2020-07-01T00:00:00.000000000",
          "2020-08-01T00:00:00.000000000",
          "2020-09-01T00:00:00.000000000",
          "2020-10-01T00:00:00.000000000",
          "2020-11-01T00:00:00.000000000",
          "2020-12-01T00:00:00.000000000",
          "2021-01-01T00:00:00.000000000",
          "2021-02-01T00:00:00.000000000",
          "2021-03-01T00:00:00.000000000",
          "2021-04-01T00:00:00.000000000",
          "2021-05-01T00:00:00.000000000",
          "2021-06-01T00:00:00.000000000",
          "2021-07-01T00:00:00.000000000",
          "2021-08-01T00:00:00.000000000",
          "2021-09-01T00:00:00.000000000",
          "2021-10-01T00:00:00.000000000",
          "2021-11-01T00:00:00.000000000",
          "2021-12-01T00:00:00.000000000",
          "2022-01-01T00:00:00.000000000",
          "2022-02-01T00:00:00.000000000",
          "2022-03-01T00:00:00.000000000",
          "2022-04-01T00:00:00.000000000",
          "2022-05-01T00:00:00.000000000",
          "2022-06-01T00:00:00.000000000",
          "2022-07-01T00:00:00.000000000",
          "2022-08-01T00:00:00.000000000",
          "2022-09-01T00:00:00.000000000",
          "2022-10-01T00:00:00.000000000",
          "2022-11-01T00:00:00.000000000",
          "2022-12-01T00:00:00.000000000",
          "2023-01-01T00:00:00.000000000",
          "2023-02-01T00:00:00.000000000",
          "2023-03-01T00:00:00.000000000",
          "2023-04-01T00:00:00.000000000",
          "2023-05-01T00:00:00.000000000",
          "2023-06-01T00:00:00.000000000",
          "2023-07-01T00:00:00.000000000",
          "2023-08-01T00:00:00.000000000",
          "2023-09-01T00:00:00.000000000",
          "2023-10-01T00:00:00.000000000",
          "2023-11-01T00:00:00.000000000",
          "2023-12-01T00:00:00.000000000",
          "2024-01-01T00:00:00.000000000",
          "2024-02-01T00:00:00.000000000",
          "2024-03-01T00:00:00.000000000",
          "2024-04-01T00:00:00.000000000",
          "2024-05-01T00:00:00.000000000",
          "2024-06-01T00:00:00.000000000",
          "2024-07-01T00:00:00.000000000",
          "2024-08-01T00:00:00.000000000",
          "2024-09-01T00:00:00.000000000",
          "2024-10-01T00:00:00.000000000",
          "2024-11-01T00:00:00.000000000",
          "2024-12-01T00:00:00.000000000"
         ],
         "y": [
          1.28675,
          1.229125,
          1.1275,
          0.936375,
          1.0088750000000002,
          1.116,
          1.192125,
          1.20575,
          1.174625,
          1.166375,
          1.0965,
          1.110125,
          1.152375,
          1.185625,
          1.245875,
          1.24025,
          1.264125,
          1.30175,
          1.373625,
          1.4021249999999998,
          1.408,
          1.5073750000000001,
          1.54825,
          1.4629999999999999,
          1.5241250000000002,
          1.60275,
          1.79575,
          1.8026249999999997,
          1.9,
          2.04225,
          1.9198749999999998,
          1.7857500000000002,
          1.7309999999999999,
          1.6771250000000002,
          1.6802500000000002,
          1.596625,
          1.6465,
          1.6324999999999998,
          1.587375,
          1.6342500000000002,
          1.556625,
          1.568625,
          1.5905,
          1.7280000000000002,
          1.80925,
          1.7103750000000002,
          1.660875,
          1.6134999999999997,
          1.626875,
          1.6947500000000002,
          1.7001249999999999,
          1.7706250000000001,
          1.7225000000000001,
          1.68875,
          1.7388750000000002,
          1.6019999999999999,
          1.546375,
          1.5303749999999998,
          1.545,
          1.566125
         ]
        },
        {
         "hovertemplate": "<b>%{x|%b %Y}</b><br>EV Electricity Cost: PHP %{y:.3f}<extra></extra>",
         "line": {
          "color": "#648fff",
          "width": 2
         },
         "marker": {
          "size": 8
         },
         "mode": "lines+markers",
         "name": "EV Electricity Cost/km",
         "type": "scatter",
         "x": [
          "2020-01-01T00:00:00.000000000",
          "2020-02-01T00:00:00.000000000",
          "2020-03-01T00:00:00.000000000",
          "2020-04-01T00:00:00.000000000",
          "2020-05-01T00:00:00.000000000",
          "2020-06-01T00:00:00.000000000",
          "2020-07-01T00:00:00.000000000",
          "2020-08-01T00:00:00.000000000",
          "2020-09-01T00:00:00.000000000",
          "2020-10-01T00:00:00.000000000",
          "2020-11-01T00:00:00.000000000",
          "2020-12-01T00:00:00.000000000",
          "2021-01-01T00:00:00.000000000",
          "2021-02-01T00:00:00.000000000",
          "2021-03-01T00:00:00.000000000",
          "2021-04-01T00:00:00.000000000",
          "2021-05-01T00:00:00.000000000",
          "2021-06-01T00:00:00.000000000",
          "2021-07-01T00:00:00.000000000",
          "2021-08-01T00:00:00.000000000",
          "2021-09-01T00:00:00.000000000",
          "2021-10-01T00:00:00.000000000",
          "2021-11-01T00:00:00.000000000",
          "2021-12-01T00:00:00.000000000",
          "2022-01-01T00:00:00.000000000",
          "2022-02-01T00:00:00.000000000",
          "2022-03-01T00:00:00.000000000",
          "2022-04-01T00:00:00.000000000",
          "2022-05-01T00:00:00.000000000",
          "2022-06-01T00:00:00.000000000",
          "2022-07-01T00:00:00.000000000",
          "2022-08-01T00:00:00.000000000",
          "2022-09-01T00:00:00.000000000",
          "2022-10-01T00:00:00.000000000",
          "2022-11-01T00:00:00.000000000",
          "2022-12-01T00:00:00.000000000",
          "2023-01-01T00:00:00.000000000",
          "2023-02-01T00:00:00.000000000",
          "2023-03-01T00:00:00.000000000",
          "2023-04-01T00:00:00.000000000",
          "2023-05-01T00:00:00.000000000",
          "2023-06-01T00:00:00.000000000",
          "2023-07-01T00:00:00.000000000",
          "2023-08-01T00:00:00.000000000",
          "2023-09-01T00:00:00.000000000",
          "2023-10-01T00:00:00.000000000",
          "2023-11-01T00:00:00.000000000",
          "2023-12-01T00:00:00.000000000",
          "2024-01-01T00:00:00.000000000",
          "2024-02-01T00:00:00.000000000",
          "2024-03-01T00:00:00.000000000",
          "2024-04-01T00:00:00.000000000",
          "2024-05-01T00:00:00.000000000",
          "2024-06-01T00:00:00.000000000",
          "2024-07-01T00:00:00.000000000",
          "2024-08-01T00:00:00.000000000",
          "2024-09-01T00:00:00.000000000",
          "2024-10-01T00:00:00.000000000",
          "2024-11-01T00:00:00.000000000",
          "2024-12-01T00:00:00.000000000"
         ],
         "y": [
          1.3503285714285713,
          1.266042857142857,
          1.2700142857142858,
          1.2850142857142859,
          1.2495428571428573,
          1.2464571428571427,
          1.2423714285714287,
          1.2130142857142856,
          1.204114285714286,
          1.2214285714285715,
          1.2157857142857142,
          1.2107571428571429,
          1.249957142857143,
          1.2399,
          1.1885,
          1.200957142857143,
          1.2274285714285715,
          1.2388285714285714,
          1.2724428571428572,
          1.2862285714285715,
          1.3013,
          1.3053428571428571,
          1.3518571428571426,
          1.3967571428571428,
          1.3861,
          1.3691714285714285,
          1.3780999999999999,
          1.4547142857142856,
          1.4375714285714287,
          1.494457142857143,
          1.3935,
          1.3636857142857142,
          1.4195,
          1.4089714285714285,
          1.4210285714285715,
          1.4681285714285714,
          1.557157142857143,
          1.555642857142857,
          1.633542857142857,
          1.6166857142857143,
          1.6418428571428572,
          1.7015999999999998,
          1.5985571428571428,
          1.557014285714286,
          1.6285285714285713,
          1.6885428571428573,
          1.7220714285714287,
          1.608342857142857,
          1.6204285714285713,
          1.7024000000000001,
          1.7056714285714285,
          1.5645428571428572,
          1.6305571428571428,
          1.3502285714285713,
          1.6573142857142857,
          1.6619857142857144,
          1.6840285714285714,
          1.6327857142857145,
          1.693842857142857,
          1.7088142857142858
         ]
        }
       ],
       "layout": {
        "annotations": [
         {
          "font": {
           "color": "#ffb000",
           "size": 10
          },
          "showarrow": false,
          "text": "Luzon ECQ Start",
          "textangle": -90,
          "x": "2020-03-01T00:00:00",
          "xanchor": "right",
          "xref": "x",
          "y": 1.75,
          "yanchor": "bottom"
         },
         {
          "font": {
           "color": "#ffb000",
           "size": 10
          },
          "showarrow": false,
          "text": "ECQ to MECQ",
          "textangle": -90,
          "x": "2021-10-01T00:00:00",
          "xanchor": "right",
          "xref": "x",
          "y": 1.75,
          "yanchor": "bottom"
         },
         {
          "font": {
           "color": "#ffb000",
           "size": 10
          },
          "showarrow": false,
          "text": "Russia-Ukraine War",
          "textangle": -90,
          "x": "2022-02-01T00:00:00",
          "xanchor": "right",
          "xref": "x",
          "y": 1.75,
          "yanchor": "bottom"
         },
         {
          "font": {
           "color": "#ffb000",
           "size": 10
          },
          "showarrow": false,
          "text": "ERC Order: Energy Costs",
          "textangle": -90,
          "x": "2024-06-01T00:00:00",
          "xanchor": "right",
          "xref": "x",
          "y": 1.75,
          "yanchor": "bottom"
         },
         {
          "align": "left",
          "font": {
           "color": "#FFFFFF",
           "family": "Roboto Condensed",
           "size": 11
          },
          "showarrow": true,
          "text": "\n        Gas cost calculated with 40 km/L<br>\n        Electricity cost calculated with 7 km/kWh and 200 kWh household consumption<br>\n        Sources: DoE NCR Prevailing Pump Prices, Meralco Rates\n        ",
          "x": 0.8,
          "xref": "paper",
          "y": -0.27,
          "yref": "paper"
         }
        ],
        "font": {
         "color": "#FFFFFF",
         "family": "Roboto"
        },
        "hovermode": "x unified",
        "legend": {
         "orientation": "h",
         "x": 1,
         "xanchor": "right",
         "y": 1.02,
         "yanchor": "bottom"
        },
        "paper_bgcolor": "#1B181C",
        "plot_bgcolor": "#1B181C",
        "shapes": [
         {
          "line": {
           "color": "#ffb000",
           "dash": "dash",
           "width": 1
          },
          "type": "line",
          "x0": "2020-03-01T00:00:00",
          "x1": "2020-03-01T00:00:00"
         },
         {
          "line": {
           "color": "#ffb000",
           "dash": "dash",
           "width": 1
          },
          "type": "line",
          "x0": "2021-10-01T00:00:00",
          "x1": "2021-10-01T00:00:00"
         },
         {
          "line": {
           "color": "#ffb000",
           "dash": "dash",
           "width": 1
          },
          "type": "line",
          "x0": "2022-02-01T00:00:00",
          "x1": "2022-02-01T00:00:00"
         },
         {
          "line": {
           "color": "#ffb000",
           "dash": "dash",
           "width": 1
          },
          "type": "line",
          "x0": "2024-06-01T00:00:00",
          "x1": "2024-06-01T00:00:00"
         },
         {
          "line": {
           "color": "lightgray",
           "width": 1
          },
          "type": "line",
          "x0": "2020-01-01T00:00:00",
          "x1": "2020-01-01T00:00:00",
          "xref": "x",
          "y0": 0.2,
          "y1": 1.3503285714285713,
          "yref": "y"
         },
         {
          "line": {
           "color": "lightgray",
           "width": 1
          },
          "type": "line",
          "x0": "2021-01-01T00:00:00",
          "x1": "2021-01-01T00:00:00",
          "xref": "x",
          "y0": 0.2,
          "y1": 1.249957142857143,
          "yref": "y"
         },
         {
          "line": {
           "color": "lightgray",
           "width": 1
          },
          "type": "line",
          "x0": "2022-01-01T00:00:00",
          "x1": "2022-01-01T00:00:00",
          "xref": "x",
          "y0": 0.2,
          "y1": 1.5241250000000002,
          "yref": "y"
         },
         {
          "line": {
           "color": "lightgray",
           "width": 1
          },
          "type": "line",
          "x0": "2023-01-01T00:00:00",
          "x1": "2023-01-01T00:00:00",
          "xref": "x",
          "y0": 0.2,
          "y1": 1.6465,
          "yref": "y"
         },
         {
          "line": {
           "color": "lightgray",
           "width": 1
          },
          "type": "line",
          "x0": "2024-01-01T00:00:00",
          "x1": "2024-01-01T00:00:00",
          "xref": "x",
          "y0": 0.2,
          "y1": 1.626875,
          "yref": "y"
         }
        ],
        "template": {
         "data": {
          "bar": [
           {
            "error_x": {
             "color": "#2a3f5f"
            },
            "error_y": {
             "color": "#2a3f5f"
            },
            "marker": {
             "line": {
              "color": "#E5ECF6",
              "width": 0.5
             },
             "pattern": {
              "fillmode": "overlay",
              "size": 10,
              "solidity": 0.2
             }
            },
            "type": "bar"
           }
          ],
          "barpolar": [
           {
            "marker": {
             "line": {
              "color": "#E5ECF6",
              "width": 0.5
             },
             "pattern": {
              "fillmode": "overlay",
              "size": 10,
              "solidity": 0.2
             }
            },
            "type": "barpolar"
           }
          ],
          "carpet": [
           {
            "aaxis": {
             "endlinecolor": "#2a3f5f",
             "gridcolor": "white",
             "linecolor": "white",
             "minorgridcolor": "white",
             "startlinecolor": "#2a3f5f"
            },
            "baxis": {
             "endlinecolor": "#2a3f5f",
             "gridcolor": "white",
             "linecolor": "white",
             "minorgridcolor": "white",
             "startlinecolor": "#2a3f5f"
            },
            "type": "carpet"
           }
          ],
          "choropleth": [
           {
            "colorbar": {
             "outlinewidth": 0,
             "ticks": ""
            },
            "type": "choropleth"
           }
          ],
          "contour": [
           {
            "colorbar": {
             "outlinewidth": 0,
             "ticks": ""
            },
            "colorscale": [
             [
              0,
              "#0d0887"
             ],
             [
              0.1111111111111111,
              "#46039f"
             ],
             [
              0.2222222222222222,
              "#7201a8"
             ],
             [
              0.3333333333333333,
              "#9c179e"
             ],
             [
              0.4444444444444444,
              "#bd3786"
             ],
             [
              0.5555555555555556,
              "#d8576b"
             ],
             [
              0.6666666666666666,
              "#ed7953"
             ],
             [
              0.7777777777777778,
              "#fb9f3a"
             ],
             [
              0.8888888888888888,
              "#fdca26"
             ],
             [
              1,
              "#f0f921"
             ]
            ],
            "type": "contour"
           }
          ],
          "contourcarpet": [
           {
            "colorbar": {
             "outlinewidth": 0,
             "ticks": ""
            },
            "type": "contourcarpet"
           }
          ],
          "heatmap": [
           {
            "colorbar": {
             "outlinewidth": 0,
             "ticks": ""
            },
            "colorscale": [
             [
              0,
              "#0d0887"
             ],
             [
              0.1111111111111111,
              "#46039f"
             ],
             [
              0.2222222222222222,
              "#7201a8"
             ],
             [
              0.3333333333333333,
              "#9c179e"
             ],
             [
              0.4444444444444444,
              "#bd3786"
             ],
             [
              0.5555555555555556,
              "#d8576b"
             ],
             [
              0.6666666666666666,
              "#ed7953"
             ],
             [
              0.7777777777777778,
              "#fb9f3a"
             ],
             [
              0.8888888888888888,
              "#fdca26"
             ],
             [
              1,
              "#f0f921"
             ]
            ],
            "type": "heatmap"
           }
          ],
          "histogram": [
           {
            "marker": {
             "pattern": {
              "fillmode": "overlay",
              "size": 10,
              "solidity": 0.2
             }
            },
            "type": "histogram"
           }
          ],
          "histogram2d": [
           {
            "colorbar": {
             "outlinewidth": 0,
             "ticks": ""
            },
            "colorscale": [
             [
              0,
              "#0d0887"
             ],
             [
              0.1111111111111111,
              "#46039f"
             ],
             [
              0.2222222222222222,
              "#7201a8"
             ],
             [
              0.3333333333333333,
              "#9c179e"
             ],
             [
              0.4444444444444444,
              "#bd3786"
             ],
             [
              0.5555555555555556,
              "#d8576b"
             ],
             [
              0.6666666666666666,
              "#ed7953"
             ],
             [
              0.7777777777777778,
              "#fb9f3a"
             ],
             [
              0.8888888888888888,
              "#fdca26"
             ],
             [
              1,
              "#f0f921"
             ]
            ],
            "type": "histogram2d"
           }
          ],
          "histogram2dcontour": [
           {
            "colorbar": {
             "outlinewidth": 0,
             "ticks": ""
            },
            "colorscale": [
             [
              0,
              "#0d0887"
             ],
             [
              0.1111111111111111,
              "#46039f"
             ],
             [
              0.2222222222222222,
              "#7201a8"
             ],
             [
              0.3333333333333333,
              "#9c179e"
             ],
             [
              0.4444444444444444,
              "#bd3786"
             ],
             [
              0.5555555555555556,
              "#d8576b"
             ],
             [
              0.6666666666666666,
              "#ed7953"
             ],
             [
              0.7777777777777778,
              "#fb9f3a"
             ],
             [
              0.8888888888888888,
              "#fdca26"
             ],
             [
              1,
              "#f0f921"
             ]
            ],
            "type": "histogram2dcontour"
           }
          ],
          "mesh3d": [
           {
            "colorbar": {
             "outlinewidth": 0,
             "ticks": ""
            },
            "type": "mesh3d"
           }
          ],
          "parcoords": [
           {
            "line": {
             "colorbar": {
              "outlinewidth": 0,
              "ticks": ""
             }
            },
            "type": "parcoords"
           }
          ],
          "pie": [
           {
            "automargin": true,
            "type": "pie"
           }
          ],
          "scatter": [
           {
            "fillpattern": {
             "fillmode": "overlay",
             "size": 10,
             "solidity": 0.2
            },
            "type": "scatter"
           }
          ],
          "scatter3d": [
           {
            "line": {
             "colorbar": {
              "outlinewidth": 0,
              "ticks": ""
             }
            },
            "marker": {
             "colorbar": {
              "outlinewidth": 0,
              "ticks": ""
             }
            },
            "type": "scatter3d"
           }
          ],
          "scattercarpet": [
           {
            "marker": {
             "colorbar": {
              "outlinewidth": 0,
              "ticks": ""
             }
            },
            "type": "scattercarpet"
           }
          ],
          "scattergeo": [
           {
            "marker": {
             "colorbar": {
              "outlinewidth": 0,
              "ticks": ""
             }
            },
            "type": "scattergeo"
           }
          ],
          "scattergl": [
           {
            "marker": {
             "colorbar": {
              "outlinewidth": 0,
              "ticks": ""
             }
            },
            "type": "scattergl"
           }
          ],
          "scattermap": [
           {
            "marker": {
             "colorbar": {
              "outlinewidth": 0,
              "ticks": ""
             }
            },
            "type": "scattermap"
           }
          ],
          "scattermapbox": [
           {
            "marker": {
             "colorbar": {
              "outlinewidth": 0,
              "ticks": ""
             }
            },
            "type": "scattermapbox"
           }
          ],
          "scatterpolar": [
           {
            "marker": {
             "colorbar": {
              "outlinewidth": 0,
              "ticks": ""
             }
            },
            "type": "scatterpolar"
           }
          ],
          "scatterpolargl": [
           {
            "marker": {
             "colorbar": {
              "outlinewidth": 0,
              "ticks": ""
             }
            },
            "type": "scatterpolargl"
           }
          ],
          "scatterternary": [
           {
            "marker": {
             "colorbar": {
              "outlinewidth": 0,
              "ticks": ""
             }
            },
            "type": "scatterternary"
           }
          ],
          "surface": [
           {
            "colorbar": {
             "outlinewidth": 0,
             "ticks": ""
            },
            "colorscale": [
             [
              0,
              "#0d0887"
             ],
             [
              0.1111111111111111,
              "#46039f"
             ],
             [
              0.2222222222222222,
              "#7201a8"
             ],
             [
              0.3333333333333333,
              "#9c179e"
             ],
             [
              0.4444444444444444,
              "#bd3786"
             ],
             [
              0.5555555555555556,
              "#d8576b"
             ],
             [
              0.6666666666666666,
              "#ed7953"
             ],
             [
              0.7777777777777778,
              "#fb9f3a"
             ],
             [
              0.8888888888888888,
              "#fdca26"
             ],
             [
              1,
              "#f0f921"
             ]
            ],
            "type": "surface"
           }
          ],
          "table": [
           {
            "cells": {
             "fill": {
              "color": "#EBF0F8"
             },
             "line": {
              "color": "white"
             }
            },
            "header": {
             "fill": {
              "color": "#C8D4E3"
             },
             "line": {
              "color": "white"
             }
            },
            "type": "table"
           }
          ]
         },
         "layout": {
          "annotationdefaults": {
           "arrowcolor": "#2a3f5f",
           "arrowhead": 0,
           "arrowwidth": 1
          },
          "autotypenumbers": "strict",
          "coloraxis": {
           "colorbar": {
            "outlinewidth": 0,
            "ticks": ""
           }
          },
          "colorscale": {
           "diverging": [
            [
             0,
             "#8e0152"
            ],
            [
             0.1,
             "#c51b7d"
            ],
            [
             0.2,
             "#de77ae"
            ],
            [
             0.3,
             "#f1b6da"
            ],
            [
             0.4,
             "#fde0ef"
            ],
            [
             0.5,
             "#f7f7f7"
            ],
            [
             0.6,
             "#e6f5d0"
            ],
            [
             0.7,
             "#b8e186"
            ],
            [
             0.8,
             "#7fbc41"
            ],
            [
             0.9,
             "#4d9221"
            ],
            [
             1,
             "#276419"
            ]
           ],
           "sequential": [
            [
             0,
             "#0d0887"
            ],
            [
             0.1111111111111111,
             "#46039f"
            ],
            [
             0.2222222222222222,
             "#7201a8"
            ],
            [
             0.3333333333333333,
             "#9c179e"
            ],
            [
             0.4444444444444444,
             "#bd3786"
            ],
            [
             0.5555555555555556,
             "#d8576b"
            ],
            [
             0.6666666666666666,
             "#ed7953"
            ],
            [
             0.7777777777777778,
             "#fb9f3a"
            ],
            [
             0.8888888888888888,
             "#fdca26"
            ],
            [
             1,
             "#f0f921"
            ]
           ],
           "sequentialminus": [
            [
             0,
             "#0d0887"
            ],
            [
             0.1111111111111111,
             "#46039f"
            ],
            [
             0.2222222222222222,
             "#7201a8"
            ],
            [
             0.3333333333333333,
             "#9c179e"
            ],
            [
             0.4444444444444444,
             "#bd3786"
            ],
            [
             0.5555555555555556,
             "#d8576b"
            ],
            [
             0.6666666666666666,
             "#ed7953"
            ],
            [
             0.7777777777777778,
             "#fb9f3a"
            ],
            [
             0.8888888888888888,
             "#fdca26"
            ],
            [
             1,
             "#f0f921"
            ]
           ]
          },
          "colorway": [
           "#636efa",
           "#EF553B",
           "#00cc96",
           "#ab63fa",
           "#FFA15A",
           "#19d3f3",
           "#FF6692",
           "#B6E880",
           "#FF97FF",
           "#FECB52"
          ],
          "font": {
           "color": "#2a3f5f"
          },
          "geo": {
           "bgcolor": "white",
           "lakecolor": "white",
           "landcolor": "#E5ECF6",
           "showlakes": true,
           "showland": true,
           "subunitcolor": "white"
          },
          "hoverlabel": {
           "align": "left"
          },
          "hovermode": "closest",
          "mapbox": {
           "style": "light"
          },
          "paper_bgcolor": "white",
          "plot_bgcolor": "#E5ECF6",
          "polar": {
           "angularaxis": {
            "gridcolor": "white",
            "linecolor": "white",
            "ticks": ""
           },
           "bgcolor": "#E5ECF6",
           "radialaxis": {
            "gridcolor": "white",
            "linecolor": "white",
            "ticks": ""
           }
          },
          "scene": {
           "xaxis": {
            "backgroundcolor": "#E5ECF6",
            "gridcolor": "white",
            "gridwidth": 2,
            "linecolor": "white",
            "showbackground": true,
            "ticks": "",
            "zerolinecolor": "white"
           },
           "yaxis": {
            "backgroundcolor": "#E5ECF6",
            "gridcolor": "white",
            "gridwidth": 2,
            "linecolor": "white",
            "showbackground": true,
            "ticks": "",
            "zerolinecolor": "white"
           },
           "zaxis": {
            "backgroundcolor": "#E5ECF6",
            "gridcolor": "white",
            "gridwidth": 2,
            "linecolor": "white",
            "showbackground": true,
            "ticks": "",
            "zerolinecolor": "white"
           }
          },
          "shapedefaults": {
           "line": {
            "color": "#2a3f5f"
           }
          },
          "ternary": {
           "aaxis": {
            "gridcolor": "white",
            "linecolor": "white",
            "ticks": ""
           },
           "baxis": {
            "gridcolor": "white",
            "linecolor": "white",
            "ticks": ""
           },
           "bgcolor": "#E5ECF6",
           "caxis": {
            "gridcolor": "white",
            "linecolor": "white",
            "ticks": ""
           }
          },
          "title": {
           "x": 0.05
          },
          "xaxis": {
           "automargin": true,
           "gridcolor": "white",
           "linecolor": "white",
           "ticks": "",
           "title": {
            "standoff": 15
           },
           "zerolinecolor": "white",
           "zerolinewidth": 2
          },
          "yaxis": {
           "automargin": true,
           "gridcolor": "white",
           "linecolor": "white",
           "ticks": "",
           "title": {
            "standoff": 15
           },
           "zerolinecolor": "white",
           "zerolinewidth": 2
          }
         }
        },
        "title": {
         "font": {
          "size": 18
         },
         "text": "<b>Gas (HEV) VS Electricity (EV) Cost per Kilometer (2020-2025)</b>",
         "x": 0.5,
         "xanchor": "center",
         "y": 0.95
        },
        "width": 900,
        "xaxis": {
         "dtick": "M12",
         "linecolor": "white",
         "range": [
          "2020-01-01T00:00:00",
          "2024-12-01T00:00:00"
         ],
         "showgrid": false,
         "showline": true,
         "tickformat": "%Y",
         "title": {
          "text": "Date"
         }
        },
        "yaxis": {
         "linecolor": "white",
         "showgrid": false,
         "showline": true,
         "title": {
          "text": "Cost per km (PHP)"
         }
        }
       }
      }
     },
     "metadata": {},
     "output_type": "display_data"
    }
   ],
   "source": [
    "def graph_nutshell_plot(km_l: float, km_kwh: float, kwh_consumption: int):\n",
    "    ## 18, 7, 300, 40\n",
    "    nutshell_df = make_comparison_dataframe(km_l, km_kwh, kwh_consumption)\n",
    "\n",
    "    gas_color = '#dc267f'  # Red\n",
    "    electricity_color = '#648fff'  # Blue\n",
    "    vline_color = '#ffb000'\n",
    "    text_color = '#FFFFFF'\n",
    "    bg_color = '#1B181C'\n",
    "\n",
    "    fig = go.Figure()\n",
    "    fig.update_layout(width=900)\n",
    "    fig.update_layout(\n",
    "        font=dict(\n",
    "            color=text_color,\n",
    "            family=\"Roboto\",\n",
    "        )\n",
    "    )\n",
    "\n",
    "    line_width = 1\n",
    "\n",
    "    ## vertical lines\n",
    "    luzon_lockdown = datetime(2020, 3, 1)\n",
    "    lockdown_reduced = datetime(2021, 10, 1)\n",
    "    ukraine_invasion = datetime(2022, 2, 1)\n",
    "    erc_order = datetime(2024, 6, 1)\n",
    "    annotation_y = 1.75\n",
    "    annotation_font = 10\n",
    "    fig.update_layout(\n",
    "        shapes=[\n",
    "            dict(\n",
    "                type=\"line\",\n",
    "                x0=luzon_lockdown,\n",
    "                x1=luzon_lockdown,\n",
    "                line=dict(color=vline_color, width=line_width, dash=\"dash\")\n",
    "            ),\n",
    "            dict(\n",
    "                type=\"line\",\n",
    "                x0=lockdown_reduced,\n",
    "                x1=lockdown_reduced,\n",
    "                line=dict(color=vline_color, width=line_width, dash=\"dash\")\n",
    "            ),\n",
    "            dict(\n",
    "                type=\"line\",\n",
    "                x0=ukraine_invasion,\n",
    "                x1=ukraine_invasion,\n",
    "                line=dict(color=vline_color, width=line_width, dash=\"dash\")\n",
    "            ),\n",
    "            dict(\n",
    "                type=\"line\",\n",
    "                x0=erc_order,\n",
    "                x1=erc_order,\n",
    "                line=dict(color=vline_color, width=line_width, dash=\"dash\")\n",
    "            ),\n",
    "        ],\n",
    "        annotations=[\n",
    "            dict(\n",
    "                x=luzon_lockdown,\n",
    "                y=annotation_y,\n",
    "                xref=\"x\",\n",
    "                showarrow=False,\n",
    "                text=\"Luzon ECQ Start\",\n",
    "                textangle=-90,\n",
    "                xanchor=\"right\",\n",
    "                yanchor=\"bottom\",\n",
    "                font=dict(color=vline_color, size=annotation_font),\n",
    "            ),\n",
    "            dict(\n",
    "                x=lockdown_reduced,\n",
    "                y=annotation_y,\n",
    "                xref=\"x\",\n",
    "                showarrow=False,\n",
    "                text=\"ECQ to MECQ\",\n",
    "                textangle=-90,\n",
    "                xanchor=\"right\",\n",
    "                yanchor=\"bottom\",\n",
    "                font=dict(color=vline_color, size=annotation_font),\n",
    "            ),\n",
    "            dict(\n",
    "                x=ukraine_invasion,\n",
    "                y=annotation_y,\n",
    "                xref=\"x\",\n",
    "                showarrow=False,\n",
    "                text=\"Russia-Ukraine War\",\n",
    "                textangle=-90,\n",
    "                xanchor=\"right\",\n",
    "                yanchor=\"bottom\",\n",
    "                font=dict(color=vline_color, size=annotation_font),\n",
    "            ),\n",
    "            dict(\n",
    "                x=erc_order,\n",
    "                y=annotation_y,\n",
    "                xref=\"x\",\n",
    "                showarrow=False,\n",
    "                text=\"ERC Order: Energy Costs\",\n",
    "                textangle=-90,\n",
    "                xanchor=\"right\",\n",
    "                yanchor=\"bottom\",\n",
    "                font=dict(color=vline_color, size=annotation_font),\n",
    "            )\n",
    "        ],\n",
    "    )\n",
    "\n",
    "    # Add Gas line plot\n",
    "    fig.add_trace(go.Scatter(\n",
    "        x=nutshell_df['Date'],\n",
    "        y=nutshell_df['Gas cost/km'],\n",
    "        mode='lines+markers',\n",
    "        line=dict(color=gas_color, width=2),\n",
    "        marker=dict(size=8),\n",
    "        name='HEV Gas Cost/km',\n",
    "        hovertemplate=\"<b>%{x|%b %Y}</b><br>HEV Gas Cost: PHP %{y:.3f}<extra></extra>\",\n",
    "    ))\n",
    "\n",
    "    fig.add_trace(go.Scatter(\n",
    "        x=nutshell_df['Date'],\n",
    "        y=nutshell_df['Electricity cost/km'],\n",
    "        mode='lines+markers',\n",
    "        line=dict(color=electricity_color, width=2),\n",
    "        marker=dict(size=8),\n",
    "        name='EV Electricity Cost/km',\n",
    "        hovertemplate=\"<b>%{x|%b %Y}</b><br>EV Electricity Cost: PHP %{y:.3f}<extra></extra>\",\n",
    "    ))\n",
    "    \n",
    "    fig.update_layout(\n",
    "        title={\n",
    "            'text': \"<b>Gas (HEV) VS Electricity (EV) Cost per Kilometer (2020-2025)</b>\",\n",
    "            'y':0.95,\n",
    "            'x':0.5,\n",
    "            'xanchor': 'center',\n",
    "            'font': dict(size=18)\n",
    "        },\n",
    "        xaxis=dict(\n",
    "            title=\"Date\",\n",
    "            range=[nutshell_df['Date'].min(), nutshell_df['Date'].max()],\n",
    "            tickformat=\"%Y\",\n",
    "            dtick=\"M12\",  # Yearly ticks\n",
    "            showgrid=False,\n",
    "            showline=True,\n",
    "            linecolor='white'\n",
    "        ),\n",
    "        yaxis=dict(\n",
    "            title=\"Cost per km (PHP)\",\n",
    "            showgrid=False,\n",
    "            showline=True,\n",
    "            linecolor='white',\n",
    "        ),\n",
    "        legend=dict(\n",
    "            orientation=\"h\",\n",
    "            yanchor=\"bottom\",\n",
    "            y=1.02,\n",
    "            xanchor=\"right\",\n",
    "            x=1\n",
    "        ),\n",
    "        plot_bgcolor=bg_color,\n",
    "        paper_bgcolor=bg_color,\n",
    "        hovermode=\"x unified\",\n",
    "    )\n",
    "\n",
    "    for date in nutshell_df['Date']:\n",
    "        month = date.month\n",
    "        if month != 1:\n",
    "            continue\n",
    "        gas_cost = nutshell_df.loc[nutshell_df['Date'] == date]['Gas cost/km']\n",
    "        elec_cost = nutshell_df.loc[nutshell_df['Date'] == date]['Electricity cost/km']\n",
    "        \n",
    "        val = max(elec_cost.iloc[0], gas_cost.iloc[0])\n",
    "        fig.add_shape(\n",
    "            go.layout.Shape(\n",
    "                type=\"line\",\n",
    "                x0=date, y0=0.2,  # Start at the x-axis (y=0)\n",
    "                x1=date, y1=val,  # End at the data point\n",
    "                xref=\"x\", yref=\"y\",\n",
    "                line=dict(color=\"lightgray\", width=1)\n",
    "            )\n",
    "        )\n",
    "\n",
    "    fig.add_annotation(\n",
    "        x=0.8,\n",
    "        y=-0.27,\n",
    "        xref=\"paper\",\n",
    "        yref=\"paper\",\n",
    "        align=\"left\",\n",
    "        text=f\"\"\"\n",
    "        Gas cost calculated with {km_l} km/L<br>\n",
    "        Electricity cost calculated with {km_kwh} km/kWh and {kwh_consumption} kWh household consumption<br>\n",
    "        Sources: DoE NCR Prevailing Pump Prices, Meralco Rates\n",
    "        \"\"\",\n",
    "        showarrow=True,\n",
    "        font=dict(size=11, color=text_color, family=\"Roboto Condensed\")\n",
    "    )\n",
    "\n",
    "    # Show the plot\n",
    "    fig.show()\n",
    "\n",
    "graph_nutshell_plot(40, 7, 200)"
   ]
  }
 ],
 "metadata": {
  "kernelspec": {
   "display_name": "Python 3",
   "language": "python",
   "name": "python3"
  },
  "language_info": {
   "codemirror_mode": {
    "name": "ipython",
    "version": 3
   },
   "file_extension": ".py",
   "mimetype": "text/x-python",
   "name": "python",
   "nbconvert_exporter": "python",
   "pygments_lexer": "ipython3",
   "version": "3.12.8"
  }
 },
 "nbformat": 4,
 "nbformat_minor": 5
}
