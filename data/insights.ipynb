{
 "cells": [
  {
   "cell_type": "code",
   "execution_count": 127,
   "id": "92b33b66",
   "metadata": {},
   "outputs": [
    {
     "name": "stdout",
     "output_type": "stream",
     "text": [
      "Requirement already satisfied: plotly in c:\\users\\tahirlidasanjr\\anaconda3\\lib\\site-packages (5.24.1)\n",
      "Requirement already satisfied: prophet in c:\\users\\tahirlidasanjr\\anaconda3\\lib\\site-packages (1.1.6)\n",
      "Requirement already satisfied: ipywidgets in c:\\users\\tahirlidasanjr\\anaconda3\\lib\\site-packages (7.8.1)\n",
      "Requirement already satisfied: tenacity>=6.2.0 in c:\\users\\tahirlidasanjr\\anaconda3\\lib\\site-packages (from plotly) (8.2.3)\n",
      "Requirement already satisfied: packaging in c:\\users\\tahirlidasanjr\\anaconda3\\lib\\site-packages (from plotly) (24.1)\n",
      "Requirement already satisfied: cmdstanpy>=1.0.4 in c:\\users\\tahirlidasanjr\\anaconda3\\lib\\site-packages (from prophet) (1.2.5)\n",
      "Requirement already satisfied: numpy>=1.15.4 in c:\\users\\tahirlidasanjr\\anaconda3\\lib\\site-packages (from prophet) (1.26.4)\n",
      "Requirement already satisfied: matplotlib>=2.0.0 in c:\\users\\tahirlidasanjr\\anaconda3\\lib\\site-packages (from prophet) (3.9.2)\n",
      "Requirement already satisfied: pandas>=1.0.4 in c:\\users\\tahirlidasanjr\\anaconda3\\lib\\site-packages (from prophet) (2.2.2)\n",
      "Requirement already satisfied: holidays<1,>=0.25 in c:\\users\\tahirlidasanjr\\anaconda3\\lib\\site-packages (from prophet) (0.73)\n",
      "Requirement already satisfied: tqdm>=4.36.1 in c:\\users\\tahirlidasanjr\\anaconda3\\lib\\site-packages (from prophet) (4.66.5)\n",
      "Requirement already satisfied: importlib-resources in c:\\users\\tahirlidasanjr\\anaconda3\\lib\\site-packages (from prophet) (6.5.2)\n",
      "Requirement already satisfied: comm>=0.1.3 in c:\\users\\tahirlidasanjr\\anaconda3\\lib\\site-packages (from ipywidgets) (0.2.1)\n",
      "Requirement already satisfied: ipython-genutils~=0.2.0 in c:\\users\\tahirlidasanjr\\anaconda3\\lib\\site-packages (from ipywidgets) (0.2.0)\n",
      "Requirement already satisfied: traitlets>=4.3.1 in c:\\users\\tahirlidasanjr\\anaconda3\\lib\\site-packages (from ipywidgets) (5.14.3)\n",
      "Requirement already satisfied: widgetsnbextension~=3.6.6 in c:\\users\\tahirlidasanjr\\anaconda3\\lib\\site-packages (from ipywidgets) (3.6.6)\n",
      "Requirement already satisfied: ipython>=4.0.0 in c:\\users\\tahirlidasanjr\\anaconda3\\lib\\site-packages (from ipywidgets) (8.27.0)\n",
      "Requirement already satisfied: jupyterlab-widgets<3,>=1.0.0 in c:\\users\\tahirlidasanjr\\anaconda3\\lib\\site-packages (from ipywidgets) (1.0.0)\n",
      "Requirement already satisfied: stanio<2.0.0,>=0.4.0 in c:\\users\\tahirlidasanjr\\anaconda3\\lib\\site-packages (from cmdstanpy>=1.0.4->prophet) (0.5.1)\n",
      "Requirement already satisfied: python-dateutil in c:\\users\\tahirlidasanjr\\anaconda3\\lib\\site-packages (from holidays<1,>=0.25->prophet) (2.9.0.post0)\n",
      "Requirement already satisfied: decorator in c:\\users\\tahirlidasanjr\\anaconda3\\lib\\site-packages (from ipython>=4.0.0->ipywidgets) (5.1.1)\n",
      "Requirement already satisfied: jedi>=0.16 in c:\\users\\tahirlidasanjr\\anaconda3\\lib\\site-packages (from ipython>=4.0.0->ipywidgets) (0.19.1)\n",
      "Requirement already satisfied: matplotlib-inline in c:\\users\\tahirlidasanjr\\anaconda3\\lib\\site-packages (from ipython>=4.0.0->ipywidgets) (0.1.6)\n",
      "Requirement already satisfied: prompt-toolkit<3.1.0,>=3.0.41 in c:\\users\\tahirlidasanjr\\anaconda3\\lib\\site-packages (from ipython>=4.0.0->ipywidgets) (3.0.43)\n",
      "Requirement already satisfied: pygments>=2.4.0 in c:\\users\\tahirlidasanjr\\anaconda3\\lib\\site-packages (from ipython>=4.0.0->ipywidgets) (2.15.1)\n",
      "Requirement already satisfied: stack-data in c:\\users\\tahirlidasanjr\\anaconda3\\lib\\site-packages (from ipython>=4.0.0->ipywidgets) (0.2.0)\n",
      "Requirement already satisfied: colorama in c:\\users\\tahirlidasanjr\\anaconda3\\lib\\site-packages (from ipython>=4.0.0->ipywidgets) (0.4.6)\n",
      "Requirement already satisfied: contourpy>=1.0.1 in c:\\users\\tahirlidasanjr\\anaconda3\\lib\\site-packages (from matplotlib>=2.0.0->prophet) (1.2.0)\n",
      "Requirement already satisfied: cycler>=0.10 in c:\\users\\tahirlidasanjr\\anaconda3\\lib\\site-packages (from matplotlib>=2.0.0->prophet) (0.11.0)\n",
      "Requirement already satisfied: fonttools>=4.22.0 in c:\\users\\tahirlidasanjr\\anaconda3\\lib\\site-packages (from matplotlib>=2.0.0->prophet) (4.51.0)\n",
      "Requirement already satisfied: kiwisolver>=1.3.1 in c:\\users\\tahirlidasanjr\\anaconda3\\lib\\site-packages (from matplotlib>=2.0.0->prophet) (1.4.4)\n",
      "Requirement already satisfied: pillow>=8 in c:\\users\\tahirlidasanjr\\anaconda3\\lib\\site-packages (from matplotlib>=2.0.0->prophet) (10.4.0)\n",
      "Requirement already satisfied: pyparsing>=2.3.1 in c:\\users\\tahirlidasanjr\\anaconda3\\lib\\site-packages (from matplotlib>=2.0.0->prophet) (3.1.2)\n",
      "Requirement already satisfied: pytz>=2020.1 in c:\\users\\tahirlidasanjr\\anaconda3\\lib\\site-packages (from pandas>=1.0.4->prophet) (2024.1)\n",
      "Requirement already satisfied: tzdata>=2022.7 in c:\\users\\tahirlidasanjr\\anaconda3\\lib\\site-packages (from pandas>=1.0.4->prophet) (2023.3)\n",
      "Requirement already satisfied: notebook>=4.4.1 in c:\\users\\tahirlidasanjr\\anaconda3\\lib\\site-packages (from widgetsnbextension~=3.6.6->ipywidgets) (7.2.2)\n",
      "Requirement already satisfied: parso<0.9.0,>=0.8.3 in c:\\users\\tahirlidasanjr\\anaconda3\\lib\\site-packages (from jedi>=0.16->ipython>=4.0.0->ipywidgets) (0.8.3)\n",
      "Requirement already satisfied: jupyter-server<3,>=2.4.0 in c:\\users\\tahirlidasanjr\\anaconda3\\lib\\site-packages (from notebook>=4.4.1->widgetsnbextension~=3.6.6->ipywidgets) (2.14.1)\n",
      "Requirement already satisfied: jupyterlab-server<3,>=2.27.1 in c:\\users\\tahirlidasanjr\\anaconda3\\lib\\site-packages (from notebook>=4.4.1->widgetsnbextension~=3.6.6->ipywidgets) (2.27.3)\n",
      "Requirement already satisfied: jupyterlab<4.3,>=4.2.0 in c:\\users\\tahirlidasanjr\\anaconda3\\lib\\site-packages (from notebook>=4.4.1->widgetsnbextension~=3.6.6->ipywidgets) (4.2.5)\n",
      "Requirement already satisfied: notebook-shim<0.3,>=0.2 in c:\\users\\tahirlidasanjr\\anaconda3\\lib\\site-packages (from notebook>=4.4.1->widgetsnbextension~=3.6.6->ipywidgets) (0.2.3)\n",
      "Requirement already satisfied: tornado>=6.2.0 in c:\\users\\tahirlidasanjr\\anaconda3\\lib\\site-packages (from notebook>=4.4.1->widgetsnbextension~=3.6.6->ipywidgets) (6.4.1)\n",
      "Requirement already satisfied: wcwidth in c:\\users\\tahirlidasanjr\\anaconda3\\lib\\site-packages (from prompt-toolkit<3.1.0,>=3.0.41->ipython>=4.0.0->ipywidgets) (0.2.5)\n",
      "Requirement already satisfied: six>=1.5 in c:\\users\\tahirlidasanjr\\anaconda3\\lib\\site-packages (from python-dateutil->holidays<1,>=0.25->prophet) (1.16.0)\n",
      "Requirement already satisfied: executing in c:\\users\\tahirlidasanjr\\anaconda3\\lib\\site-packages (from stack-data->ipython>=4.0.0->ipywidgets) (0.8.3)\n",
      "Requirement already satisfied: asttokens in c:\\users\\tahirlidasanjr\\anaconda3\\lib\\site-packages (from stack-data->ipython>=4.0.0->ipywidgets) (2.0.5)\n",
      "Requirement already satisfied: pure-eval in c:\\users\\tahirlidasanjr\\anaconda3\\lib\\site-packages (from stack-data->ipython>=4.0.0->ipywidgets) (0.2.2)\n",
      "Requirement already satisfied: anyio>=3.1.0 in c:\\users\\tahirlidasanjr\\anaconda3\\lib\\site-packages (from jupyter-server<3,>=2.4.0->notebook>=4.4.1->widgetsnbextension~=3.6.6->ipywidgets) (4.2.0)\n",
      "Requirement already satisfied: argon2-cffi>=21.1 in c:\\users\\tahirlidasanjr\\anaconda3\\lib\\site-packages (from jupyter-server<3,>=2.4.0->notebook>=4.4.1->widgetsnbextension~=3.6.6->ipywidgets) (21.3.0)\n",
      "Requirement already satisfied: jinja2>=3.0.3 in c:\\users\\tahirlidasanjr\\anaconda3\\lib\\site-packages (from jupyter-server<3,>=2.4.0->notebook>=4.4.1->widgetsnbextension~=3.6.6->ipywidgets) (3.1.4)\n",
      "Requirement already satisfied: jupyter-client>=7.4.4 in c:\\users\\tahirlidasanjr\\anaconda3\\lib\\site-packages (from jupyter-server<3,>=2.4.0->notebook>=4.4.1->widgetsnbextension~=3.6.6->ipywidgets) (8.6.0)\n",
      "Requirement already satisfied: jupyter-core!=5.0.*,>=4.12 in c:\\users\\tahirlidasanjr\\anaconda3\\lib\\site-packages (from jupyter-server<3,>=2.4.0->notebook>=4.4.1->widgetsnbextension~=3.6.6->ipywidgets) (5.7.2)\n",
      "Requirement already satisfied: jupyter-events>=0.9.0 in c:\\users\\tahirlidasanjr\\anaconda3\\lib\\site-packages (from jupyter-server<3,>=2.4.0->notebook>=4.4.1->widgetsnbextension~=3.6.6->ipywidgets) (0.10.0)\n",
      "Requirement already satisfied: jupyter-server-terminals>=0.4.4 in c:\\users\\tahirlidasanjr\\anaconda3\\lib\\site-packages (from jupyter-server<3,>=2.4.0->notebook>=4.4.1->widgetsnbextension~=3.6.6->ipywidgets) (0.4.4)\n",
      "Requirement already satisfied: nbconvert>=6.4.4 in c:\\users\\tahirlidasanjr\\anaconda3\\lib\\site-packages (from jupyter-server<3,>=2.4.0->notebook>=4.4.1->widgetsnbextension~=3.6.6->ipywidgets) (7.16.4)\n",
      "Requirement already satisfied: nbformat>=5.3.0 in c:\\users\\tahirlidasanjr\\anaconda3\\lib\\site-packages (from jupyter-server<3,>=2.4.0->notebook>=4.4.1->widgetsnbextension~=3.6.6->ipywidgets) (5.10.4)\n",
      "Requirement already satisfied: overrides>=5.0 in c:\\users\\tahirlidasanjr\\anaconda3\\lib\\site-packages (from jupyter-server<3,>=2.4.0->notebook>=4.4.1->widgetsnbextension~=3.6.6->ipywidgets) (7.4.0)\n",
      "Requirement already satisfied: prometheus-client>=0.9 in c:\\users\\tahirlidasanjr\\anaconda3\\lib\\site-packages (from jupyter-server<3,>=2.4.0->notebook>=4.4.1->widgetsnbextension~=3.6.6->ipywidgets) (0.14.1)\n",
      "Requirement already satisfied: pywinpty>=2.0.1 in c:\\users\\tahirlidasanjr\\anaconda3\\lib\\site-packages (from jupyter-server<3,>=2.4.0->notebook>=4.4.1->widgetsnbextension~=3.6.6->ipywidgets) (2.0.10)\n",
      "Requirement already satisfied: pyzmq>=24 in c:\\users\\tahirlidasanjr\\anaconda3\\lib\\site-packages (from jupyter-server<3,>=2.4.0->notebook>=4.4.1->widgetsnbextension~=3.6.6->ipywidgets) (25.1.2)\n",
      "Requirement already satisfied: send2trash>=1.8.2 in c:\\users\\tahirlidasanjr\\anaconda3\\lib\\site-packages (from jupyter-server<3,>=2.4.0->notebook>=4.4.1->widgetsnbextension~=3.6.6->ipywidgets) (1.8.2)\n",
      "Requirement already satisfied: terminado>=0.8.3 in c:\\users\\tahirlidasanjr\\anaconda3\\lib\\site-packages (from jupyter-server<3,>=2.4.0->notebook>=4.4.1->widgetsnbextension~=3.6.6->ipywidgets) (0.17.1)\n",
      "Requirement already satisfied: websocket-client>=1.7 in c:\\users\\tahirlidasanjr\\anaconda3\\lib\\site-packages (from jupyter-server<3,>=2.4.0->notebook>=4.4.1->widgetsnbextension~=3.6.6->ipywidgets) (1.8.0)\n",
      "Requirement already satisfied: async-lru>=1.0.0 in c:\\users\\tahirlidasanjr\\anaconda3\\lib\\site-packages (from jupyterlab<4.3,>=4.2.0->notebook>=4.4.1->widgetsnbextension~=3.6.6->ipywidgets) (2.0.4)\n",
      "Requirement already satisfied: httpx>=0.25.0 in c:\\users\\tahirlidasanjr\\anaconda3\\lib\\site-packages (from jupyterlab<4.3,>=4.2.0->notebook>=4.4.1->widgetsnbextension~=3.6.6->ipywidgets) (0.27.0)\n",
      "Requirement already satisfied: ipykernel>=6.5.0 in c:\\users\\tahirlidasanjr\\anaconda3\\lib\\site-packages (from jupyterlab<4.3,>=4.2.0->notebook>=4.4.1->widgetsnbextension~=3.6.6->ipywidgets) (6.28.0)\n",
      "Requirement already satisfied: jupyter-lsp>=2.0.0 in c:\\users\\tahirlidasanjr\\anaconda3\\lib\\site-packages (from jupyterlab<4.3,>=4.2.0->notebook>=4.4.1->widgetsnbextension~=3.6.6->ipywidgets) (2.2.0)\n",
      "Requirement already satisfied: setuptools>=40.1.0 in c:\\users\\tahirlidasanjr\\anaconda3\\lib\\site-packages (from jupyterlab<4.3,>=4.2.0->notebook>=4.4.1->widgetsnbextension~=3.6.6->ipywidgets) (75.1.0)\n",
      "Requirement already satisfied: babel>=2.10 in c:\\users\\tahirlidasanjr\\anaconda3\\lib\\site-packages (from jupyterlab-server<3,>=2.27.1->notebook>=4.4.1->widgetsnbextension~=3.6.6->ipywidgets) (2.11.0)\n",
      "Requirement already satisfied: json5>=0.9.0 in c:\\users\\tahirlidasanjr\\anaconda3\\lib\\site-packages (from jupyterlab-server<3,>=2.27.1->notebook>=4.4.1->widgetsnbextension~=3.6.6->ipywidgets) (0.9.6)\n",
      "Requirement already satisfied: jsonschema>=4.18.0 in c:\\users\\tahirlidasanjr\\anaconda3\\lib\\site-packages (from jupyterlab-server<3,>=2.27.1->notebook>=4.4.1->widgetsnbextension~=3.6.6->ipywidgets) (4.23.0)\n",
      "Requirement already satisfied: requests>=2.31 in c:\\users\\tahirlidasanjr\\anaconda3\\lib\\site-packages (from jupyterlab-server<3,>=2.27.1->notebook>=4.4.1->widgetsnbextension~=3.6.6->ipywidgets) (2.32.3)\n",
      "Requirement already satisfied: idna>=2.8 in c:\\users\\tahirlidasanjr\\anaconda3\\lib\\site-packages (from anyio>=3.1.0->jupyter-server<3,>=2.4.0->notebook>=4.4.1->widgetsnbextension~=3.6.6->ipywidgets) (3.7)\n",
      "Requirement already satisfied: sniffio>=1.1 in c:\\users\\tahirlidasanjr\\anaconda3\\lib\\site-packages (from anyio>=3.1.0->jupyter-server<3,>=2.4.0->notebook>=4.4.1->widgetsnbextension~=3.6.6->ipywidgets) (1.3.0)\n",
      "Requirement already satisfied: argon2-cffi-bindings in c:\\users\\tahirlidasanjr\\anaconda3\\lib\\site-packages (from argon2-cffi>=21.1->jupyter-server<3,>=2.4.0->notebook>=4.4.1->widgetsnbextension~=3.6.6->ipywidgets) (21.2.0)\n",
      "Requirement already satisfied: certifi in c:\\users\\tahirlidasanjr\\anaconda3\\lib\\site-packages (from httpx>=0.25.0->jupyterlab<4.3,>=4.2.0->notebook>=4.4.1->widgetsnbextension~=3.6.6->ipywidgets) (2025.4.26)\n",
      "Requirement already satisfied: httpcore==1.* in c:\\users\\tahirlidasanjr\\anaconda3\\lib\\site-packages (from httpx>=0.25.0->jupyterlab<4.3,>=4.2.0->notebook>=4.4.1->widgetsnbextension~=3.6.6->ipywidgets) (1.0.2)\n",
      "Requirement already satisfied: h11<0.15,>=0.13 in c:\\users\\tahirlidasanjr\\anaconda3\\lib\\site-packages (from httpcore==1.*->httpx>=0.25.0->jupyterlab<4.3,>=4.2.0->notebook>=4.4.1->widgetsnbextension~=3.6.6->ipywidgets) (0.14.0)\n",
      "Requirement already satisfied: debugpy>=1.6.5 in c:\\users\\tahirlidasanjr\\anaconda3\\lib\\site-packages (from ipykernel>=6.5.0->jupyterlab<4.3,>=4.2.0->notebook>=4.4.1->widgetsnbextension~=3.6.6->ipywidgets) (1.6.7)\n",
      "Requirement already satisfied: nest-asyncio in c:\\users\\tahirlidasanjr\\anaconda3\\lib\\site-packages (from ipykernel>=6.5.0->jupyterlab<4.3,>=4.2.0->notebook>=4.4.1->widgetsnbextension~=3.6.6->ipywidgets) (1.6.0)\n",
      "Requirement already satisfied: psutil in c:\\users\\tahirlidasanjr\\anaconda3\\lib\\site-packages (from ipykernel>=6.5.0->jupyterlab<4.3,>=4.2.0->notebook>=4.4.1->widgetsnbextension~=3.6.6->ipywidgets) (5.9.0)\n",
      "Requirement already satisfied: MarkupSafe>=2.0 in c:\\users\\tahirlidasanjr\\anaconda3\\lib\\site-packages (from jinja2>=3.0.3->jupyter-server<3,>=2.4.0->notebook>=4.4.1->widgetsnbextension~=3.6.6->ipywidgets) (2.1.3)\n",
      "Requirement already satisfied: attrs>=22.2.0 in c:\\users\\tahirlidasanjr\\anaconda3\\lib\\site-packages (from jsonschema>=4.18.0->jupyterlab-server<3,>=2.27.1->notebook>=4.4.1->widgetsnbextension~=3.6.6->ipywidgets) (23.1.0)\n",
      "Requirement already satisfied: jsonschema-specifications>=2023.03.6 in c:\\users\\tahirlidasanjr\\anaconda3\\lib\\site-packages (from jsonschema>=4.18.0->jupyterlab-server<3,>=2.27.1->notebook>=4.4.1->widgetsnbextension~=3.6.6->ipywidgets) (2023.7.1)\n",
      "Requirement already satisfied: referencing>=0.28.4 in c:\\users\\tahirlidasanjr\\anaconda3\\lib\\site-packages (from jsonschema>=4.18.0->jupyterlab-server<3,>=2.27.1->notebook>=4.4.1->widgetsnbextension~=3.6.6->ipywidgets) (0.30.2)\n",
      "Requirement already satisfied: rpds-py>=0.7.1 in c:\\users\\tahirlidasanjr\\anaconda3\\lib\\site-packages (from jsonschema>=4.18.0->jupyterlab-server<3,>=2.27.1->notebook>=4.4.1->widgetsnbextension~=3.6.6->ipywidgets) (0.10.6)\n",
      "Requirement already satisfied: platformdirs>=2.5 in c:\\users\\tahirlidasanjr\\anaconda3\\lib\\site-packages (from jupyter-core!=5.0.*,>=4.12->jupyter-server<3,>=2.4.0->notebook>=4.4.1->widgetsnbextension~=3.6.6->ipywidgets) (3.10.0)\n",
      "Requirement already satisfied: pywin32>=300 in c:\\users\\tahirlidasanjr\\anaconda3\\lib\\site-packages (from jupyter-core!=5.0.*,>=4.12->jupyter-server<3,>=2.4.0->notebook>=4.4.1->widgetsnbextension~=3.6.6->ipywidgets) (305.1)\n",
      "Requirement already satisfied: python-json-logger>=2.0.4 in c:\\users\\tahirlidasanjr\\anaconda3\\lib\\site-packages (from jupyter-events>=0.9.0->jupyter-server<3,>=2.4.0->notebook>=4.4.1->widgetsnbextension~=3.6.6->ipywidgets) (2.0.7)\n",
      "Requirement already satisfied: pyyaml>=5.3 in c:\\users\\tahirlidasanjr\\anaconda3\\lib\\site-packages (from jupyter-events>=0.9.0->jupyter-server<3,>=2.4.0->notebook>=4.4.1->widgetsnbextension~=3.6.6->ipywidgets) (6.0.1)\n",
      "Requirement already satisfied: rfc3339-validator in c:\\users\\tahirlidasanjr\\anaconda3\\lib\\site-packages (from jupyter-events>=0.9.0->jupyter-server<3,>=2.4.0->notebook>=4.4.1->widgetsnbextension~=3.6.6->ipywidgets) (0.1.4)\n",
      "Requirement already satisfied: rfc3986-validator>=0.1.1 in c:\\users\\tahirlidasanjr\\anaconda3\\lib\\site-packages (from jupyter-events>=0.9.0->jupyter-server<3,>=2.4.0->notebook>=4.4.1->widgetsnbextension~=3.6.6->ipywidgets) (0.1.1)\n",
      "Requirement already satisfied: beautifulsoup4 in c:\\users\\tahirlidasanjr\\anaconda3\\lib\\site-packages (from nbconvert>=6.4.4->jupyter-server<3,>=2.4.0->notebook>=4.4.1->widgetsnbextension~=3.6.6->ipywidgets) (4.12.3)\n",
      "Requirement already satisfied: bleach!=5.0.0 in c:\\users\\tahirlidasanjr\\anaconda3\\lib\\site-packages (from nbconvert>=6.4.4->jupyter-server<3,>=2.4.0->notebook>=4.4.1->widgetsnbextension~=3.6.6->ipywidgets) (4.1.0)\n",
      "Requirement already satisfied: defusedxml in c:\\users\\tahirlidasanjr\\anaconda3\\lib\\site-packages (from nbconvert>=6.4.4->jupyter-server<3,>=2.4.0->notebook>=4.4.1->widgetsnbextension~=3.6.6->ipywidgets) (0.7.1)\n",
      "Requirement already satisfied: jupyterlab-pygments in c:\\users\\tahirlidasanjr\\anaconda3\\lib\\site-packages (from nbconvert>=6.4.4->jupyter-server<3,>=2.4.0->notebook>=4.4.1->widgetsnbextension~=3.6.6->ipywidgets) (0.1.2)\n",
      "Requirement already satisfied: mistune<4,>=2.0.3 in c:\\users\\tahirlidasanjr\\anaconda3\\lib\\site-packages (from nbconvert>=6.4.4->jupyter-server<3,>=2.4.0->notebook>=4.4.1->widgetsnbextension~=3.6.6->ipywidgets) (2.0.4)\n",
      "Requirement already satisfied: nbclient>=0.5.0 in c:\\users\\tahirlidasanjr\\anaconda3\\lib\\site-packages (from nbconvert>=6.4.4->jupyter-server<3,>=2.4.0->notebook>=4.4.1->widgetsnbextension~=3.6.6->ipywidgets) (0.8.0)\n",
      "Requirement already satisfied: pandocfilters>=1.4.1 in c:\\users\\tahirlidasanjr\\anaconda3\\lib\\site-packages (from nbconvert>=6.4.4->jupyter-server<3,>=2.4.0->notebook>=4.4.1->widgetsnbextension~=3.6.6->ipywidgets) (1.5.0)\n",
      "Requirement already satisfied: tinycss2 in c:\\users\\tahirlidasanjr\\anaconda3\\lib\\site-packages (from nbconvert>=6.4.4->jupyter-server<3,>=2.4.0->notebook>=4.4.1->widgetsnbextension~=3.6.6->ipywidgets) (1.2.1)\n",
      "Requirement already satisfied: fastjsonschema>=2.15 in c:\\users\\tahirlidasanjr\\anaconda3\\lib\\site-packages (from nbformat>=5.3.0->jupyter-server<3,>=2.4.0->notebook>=4.4.1->widgetsnbextension~=3.6.6->ipywidgets) (2.16.2)\n",
      "Requirement already satisfied: charset-normalizer<4,>=2 in c:\\users\\tahirlidasanjr\\anaconda3\\lib\\site-packages (from requests>=2.31->jupyterlab-server<3,>=2.27.1->notebook>=4.4.1->widgetsnbextension~=3.6.6->ipywidgets) (3.3.2)\n",
      "Requirement already satisfied: urllib3<3,>=1.21.1 in c:\\users\\tahirlidasanjr\\anaconda3\\lib\\site-packages (from requests>=2.31->jupyterlab-server<3,>=2.27.1->notebook>=4.4.1->widgetsnbextension~=3.6.6->ipywidgets) (2.2.3)\n",
      "Requirement already satisfied: webencodings in c:\\users\\tahirlidasanjr\\anaconda3\\lib\\site-packages (from bleach!=5.0.0->nbconvert>=6.4.4->jupyter-server<3,>=2.4.0->notebook>=4.4.1->widgetsnbextension~=3.6.6->ipywidgets) (0.5.1)\n",
      "Requirement already satisfied: fqdn in c:\\users\\tahirlidasanjr\\anaconda3\\lib\\site-packages (from jsonschema[format-nongpl]>=4.18.0->jupyter-events>=0.9.0->jupyter-server<3,>=2.4.0->notebook>=4.4.1->widgetsnbextension~=3.6.6->ipywidgets) (1.5.1)\n",
      "Requirement already satisfied: isoduration in c:\\users\\tahirlidasanjr\\anaconda3\\lib\\site-packages (from jsonschema[format-nongpl]>=4.18.0->jupyter-events>=0.9.0->jupyter-server<3,>=2.4.0->notebook>=4.4.1->widgetsnbextension~=3.6.6->ipywidgets) (20.11.0)\n",
      "Requirement already satisfied: jsonpointer>1.13 in c:\\users\\tahirlidasanjr\\anaconda3\\lib\\site-packages (from jsonschema[format-nongpl]>=4.18.0->jupyter-events>=0.9.0->jupyter-server<3,>=2.4.0->notebook>=4.4.1->widgetsnbextension~=3.6.6->ipywidgets) (2.1)\n",
      "Requirement already satisfied: uri-template in c:\\users\\tahirlidasanjr\\anaconda3\\lib\\site-packages (from jsonschema[format-nongpl]>=4.18.0->jupyter-events>=0.9.0->jupyter-server<3,>=2.4.0->notebook>=4.4.1->widgetsnbextension~=3.6.6->ipywidgets) (1.3.0)\n",
      "Requirement already satisfied: webcolors>=24.6.0 in c:\\users\\tahirlidasanjr\\anaconda3\\lib\\site-packages (from jsonschema[format-nongpl]>=4.18.0->jupyter-events>=0.9.0->jupyter-server<3,>=2.4.0->notebook>=4.4.1->widgetsnbextension~=3.6.6->ipywidgets) (24.11.1)\n",
      "Requirement already satisfied: cffi>=1.0.1 in c:\\users\\tahirlidasanjr\\anaconda3\\lib\\site-packages (from argon2-cffi-bindings->argon2-cffi>=21.1->jupyter-server<3,>=2.4.0->notebook>=4.4.1->widgetsnbextension~=3.6.6->ipywidgets) (1.17.1)\n",
      "Requirement already satisfied: soupsieve>1.2 in c:\\users\\tahirlidasanjr\\anaconda3\\lib\\site-packages (from beautifulsoup4->nbconvert>=6.4.4->jupyter-server<3,>=2.4.0->notebook>=4.4.1->widgetsnbextension~=3.6.6->ipywidgets) (2.5)\n",
      "Requirement already satisfied: pycparser in c:\\users\\tahirlidasanjr\\anaconda3\\lib\\site-packages (from cffi>=1.0.1->argon2-cffi-bindings->argon2-cffi>=21.1->jupyter-server<3,>=2.4.0->notebook>=4.4.1->widgetsnbextension~=3.6.6->ipywidgets) (2.21)\n",
      "Requirement already satisfied: arrow>=0.15.0 in c:\\users\\tahirlidasanjr\\anaconda3\\lib\\site-packages (from isoduration->jsonschema[format-nongpl]>=4.18.0->jupyter-events>=0.9.0->jupyter-server<3,>=2.4.0->notebook>=4.4.1->widgetsnbextension~=3.6.6->ipywidgets) (1.2.3)\n",
      "Note: you may need to restart the kernel to use updated packages.\n"
     ]
    },
    {
     "name": "stderr",
     "output_type": "stream",
     "text": [
      "WARNING: Ignoring invalid distribution ~ympy (c:\\Users\\TahirLidasanJr\\anaconda3\\Lib\\site-packages)\n",
      "WARNING: Ignoring invalid distribution ~ympy (c:\\Users\\TahirLidasanJr\\anaconda3\\Lib\\site-packages)\n",
      "WARNING: Ignoring invalid distribution ~ympy (c:\\Users\\TahirLidasanJr\\anaconda3\\Lib\\site-packages)\n"
     ]
    }
   ],
   "source": [
    "%pip install plotly prophet ipywidgets"
   ]
  },
  {
   "cell_type": "code",
   "execution_count": 128,
   "id": "af840983",
   "metadata": {},
   "outputs": [],
   "source": [
    "import pandas as pd\n",
    "import plotly.graph_objects as go\n",
    "from plotly.subplots import make_subplots\n",
    "import numpy as np\n",
    "\n",
    "from scipy import stats\n",
    "from scipy.stats import linregress\n",
    "\n",
    "from datetime import datetime"
   ]
  },
  {
   "cell_type": "markdown",
   "id": "8bbc6b46",
   "metadata": {},
   "source": [
    "Obtaining the datasets and adding the average row for the gas dataset"
   ]
  },
  {
   "cell_type": "code",
   "execution_count": 129,
   "id": "5278ce19",
   "metadata": {},
   "outputs": [],
   "source": [
    "gas_df = pd.read_csv('MonthlyPumpPrices.csv', parse_dates=['Date'])\n",
    "\n",
    "\n",
    "fuelefficiency_df = pd.read_csv('CarsFuelEfficiency.csv')\n",
    "\n",
    "ron95_data = gas_df[gas_df['Product'] == \"Gasoline (RON95)\"].sort_values('Date')\n",
    "ron95_data = ron95_data[(ron95_data['Date'] >= '2020-01-01') & (ron95_data['Date'] <= '2025-01-01')]\n",
    "ron95_data['Average Price'] = (ron95_data['Overall Range Min'] + ron95_data['Overall Range Max']) / 2"
   ]
  },
  {
   "cell_type": "code",
   "execution_count": 130,
   "id": "32886cd0",
   "metadata": {},
   "outputs": [],
   "source": [
    "dry_season_color = 'rgba(255, 165, 0, 0.2)'   # Orange\n",
    "wet_season_color = 'rgba(0, 191, 255, 0.2)'   # Light Blue\n",
    "\n",
    "# constants for comparison graphs\n",
    "AVG_ICE = round(fuelefficiency_df[fuelefficiency_df['Category'] == 'ICE']['Combined (km/L)'].mean(), 2)\n",
    "AVG_HYBRID = round(fuelefficiency_df[fuelefficiency_df['Category'] == 'Hybrid']['Combined (km/L)'].mean(), 2)\n",
    "AVG_BEV = round(fuelefficiency_df[fuelefficiency_df['Category'] == 'BEV']['Combined (km/L)'].mean(), 2)\n",
    "BASE_KWH = 400"
   ]
  },
  {
   "cell_type": "markdown",
   "id": "3ff106e5",
   "metadata": {},
   "source": [
    "Monthly gas prices graph: (from 2020 to 2025)"
   ]
  },
  {
   "cell_type": "code",
   "execution_count": 131,
   "id": "741672f1",
   "metadata": {},
   "outputs": [
    {
     "data": {
      "application/vnd.plotly.v1+json": {
       "config": {
        "plotlyServerURL": "https://plot.ly"
       },
       "data": [
        {
         "hoverinfo": "skip",
         "line": {
          "width": 0
         },
         "mode": "lines",
         "showlegend": false,
         "type": "scatter",
         "x": [
          "2020-01-01T00:00:00",
          "2020-02-01T00:00:00",
          "2020-03-01T00:00:00",
          "2020-04-01T00:00:00",
          "2020-05-01T00:00:00",
          "2020-06-01T00:00:00",
          "2020-07-01T00:00:00",
          "2020-08-01T00:00:00",
          "2020-09-01T00:00:00",
          "2020-10-01T00:00:00",
          "2020-11-01T00:00:00",
          "2020-12-01T00:00:00",
          "2021-01-01T00:00:00",
          "2021-02-01T00:00:00",
          "2021-03-01T00:00:00",
          "2021-04-01T00:00:00",
          "2021-05-01T00:00:00",
          "2021-06-01T00:00:00",
          "2021-07-01T00:00:00",
          "2021-08-01T00:00:00",
          "2021-09-01T00:00:00",
          "2021-10-01T00:00:00",
          "2021-11-01T00:00:00",
          "2021-12-01T00:00:00",
          "2022-01-01T00:00:00",
          "2022-02-01T00:00:00",
          "2022-03-01T00:00:00",
          "2022-04-01T00:00:00",
          "2022-05-01T00:00:00",
          "2022-06-01T00:00:00",
          "2022-07-01T00:00:00",
          "2022-08-01T00:00:00",
          "2022-09-01T00:00:00",
          "2022-10-01T00:00:00",
          "2022-11-01T00:00:00",
          "2022-12-01T00:00:00",
          "2023-01-01T00:00:00",
          "2023-02-01T00:00:00",
          "2023-03-01T00:00:00",
          "2023-04-01T00:00:00",
          "2023-05-01T00:00:00",
          "2023-06-01T00:00:00",
          "2023-07-01T00:00:00",
          "2023-08-01T00:00:00",
          "2023-09-01T00:00:00",
          "2023-10-01T00:00:00",
          "2023-11-01T00:00:00",
          "2023-12-01T00:00:00",
          "2024-01-01T00:00:00",
          "2024-02-01T00:00:00",
          "2024-03-01T00:00:00",
          "2024-04-01T00:00:00",
          "2024-05-01T00:00:00",
          "2024-06-01T00:00:00",
          "2024-07-01T00:00:00",
          "2024-08-01T00:00:00",
          "2024-09-01T00:00:00",
          "2024-10-01T00:00:00",
          "2024-11-01T00:00:00",
          "2024-12-01T00:00:00",
          "2025-01-01T00:00:00"
         ],
         "y": [
          57.59,
          55.36,
          51.19,
          43.6,
          46.28,
          50.83,
          54.13,
          55.04,
          53.88,
          53.42,
          52.82,
          53.29,
          54.79,
          55.65,
          58.42,
          58.55,
          60.05,
          61.52,
          64.31,
          65.41,
          64.95,
          69.68,
          70.82,
          66.52,
          69.04,
          72.52,
          79.99,
          78.66,
          81.84,
          87.53,
          82.27,
          78.11,
          76.46,
          73.92,
          75.34,
          72.33,
          73.47,
          72.1,
          71.82,
          74.05,
          71.03,
          72.49,
          73.24,
          79.35,
          82.72,
          78.18,
          76.17,
          75.3,
          76.7,
          79.26,
          79.7,
          82.94,
          81.25,
          80.42,
          83.51,
          74.54,
          72.61,
          71.71,
          72.8,
          74.16,
          76.84
         ]
        },
        {
         "fill": "tonexty",
         "fillcolor": "rgba(158, 27, 50, 0.5)",
         "hovertemplate": "<b>%{x|%b %Y}</b><br>Range: %{y:.2f}–%{text} pesos<extra></extra>",
         "line": {
          "width": 0
         },
         "mode": "lines",
         "name": "Price Range",
         "text": [
          57.59,
          55.36,
          51.19,
          43.6,
          46.28,
          50.83,
          54.13,
          55.04,
          53.88,
          53.42,
          52.82,
          53.29,
          54.79,
          55.65,
          58.42,
          58.55,
          60.05,
          61.52,
          64.31,
          65.41,
          64.95,
          69.68,
          70.82,
          66.52,
          69.04,
          72.52,
          79.99,
          78.66,
          81.84,
          87.53,
          82.27,
          78.11,
          76.46,
          73.92,
          75.34,
          72.33,
          73.47,
          72.1,
          71.82,
          74.05,
          71.03,
          72.49,
          73.24,
          79.35,
          82.72,
          78.18,
          76.17,
          75.3,
          76.7,
          79.26,
          79.7,
          82.94,
          81.25,
          80.42,
          83.51,
          74.54,
          72.61,
          71.71,
          72.8,
          74.16,
          76.84
         ],
         "type": "scatter",
         "x": [
          "2020-01-01T00:00:00",
          "2020-02-01T00:00:00",
          "2020-03-01T00:00:00",
          "2020-04-01T00:00:00",
          "2020-05-01T00:00:00",
          "2020-06-01T00:00:00",
          "2020-07-01T00:00:00",
          "2020-08-01T00:00:00",
          "2020-09-01T00:00:00",
          "2020-10-01T00:00:00",
          "2020-11-01T00:00:00",
          "2020-12-01T00:00:00",
          "2021-01-01T00:00:00",
          "2021-02-01T00:00:00",
          "2021-03-01T00:00:00",
          "2021-04-01T00:00:00",
          "2021-05-01T00:00:00",
          "2021-06-01T00:00:00",
          "2021-07-01T00:00:00",
          "2021-08-01T00:00:00",
          "2021-09-01T00:00:00",
          "2021-10-01T00:00:00",
          "2021-11-01T00:00:00",
          "2021-12-01T00:00:00",
          "2022-01-01T00:00:00",
          "2022-02-01T00:00:00",
          "2022-03-01T00:00:00",
          "2022-04-01T00:00:00",
          "2022-05-01T00:00:00",
          "2022-06-01T00:00:00",
          "2022-07-01T00:00:00",
          "2022-08-01T00:00:00",
          "2022-09-01T00:00:00",
          "2022-10-01T00:00:00",
          "2022-11-01T00:00:00",
          "2022-12-01T00:00:00",
          "2023-01-01T00:00:00",
          "2023-02-01T00:00:00",
          "2023-03-01T00:00:00",
          "2023-04-01T00:00:00",
          "2023-05-01T00:00:00",
          "2023-06-01T00:00:00",
          "2023-07-01T00:00:00",
          "2023-08-01T00:00:00",
          "2023-09-01T00:00:00",
          "2023-10-01T00:00:00",
          "2023-11-01T00:00:00",
          "2023-12-01T00:00:00",
          "2024-01-01T00:00:00",
          "2024-02-01T00:00:00",
          "2024-03-01T00:00:00",
          "2024-04-01T00:00:00",
          "2024-05-01T00:00:00",
          "2024-06-01T00:00:00",
          "2024-07-01T00:00:00",
          "2024-08-01T00:00:00",
          "2024-09-01T00:00:00",
          "2024-10-01T00:00:00",
          "2024-11-01T00:00:00",
          "2024-12-01T00:00:00",
          "2025-01-01T00:00:00"
         ],
         "y": [
          45.35,
          42.97,
          39.01,
          31.31,
          34.43,
          38.45,
          41.24,
          41.42,
          40.09,
          39.89,
          34.9,
          35.52,
          37.4,
          39.2,
          41.25,
          40.67,
          41.08,
          42.62,
          45.58,
          46.76,
          47.69,
          50.91,
          53.04,
          50.52,
          52.89,
          55.7,
          63.67,
          65.55,
          70.16,
          75.85,
          71.32,
          64.75,
          62.02,
          60.25,
          59.08,
          55.4,
          58.25,
          58.5,
          55.17,
          56.69,
          53.5,
          53,
          54,
          58.89,
          62.02,
          58.65,
          56.7,
          53.78,
          53.45,
          56.32,
          56.31,
          58.71,
          56.55,
          54.68,
          55.6,
          53.62,
          51.1,
          50.72,
          50.8,
          51.13,
          53.11
         ]
        },
        {
         "hovertemplate": "<b>%{x|%b %Y}</b><br>Avg: %{y:.2f} pesos<extra></extra>",
         "line": {
          "color": "#DC143C",
          "width": 3
         },
         "marker": {
          "size": 8
         },
         "mode": "lines+markers",
         "name": "Average Price",
         "type": "scatter",
         "x": [
          "2020-01-01T00:00:00",
          "2020-02-01T00:00:00",
          "2020-03-01T00:00:00",
          "2020-04-01T00:00:00",
          "2020-05-01T00:00:00",
          "2020-06-01T00:00:00",
          "2020-07-01T00:00:00",
          "2020-08-01T00:00:00",
          "2020-09-01T00:00:00",
          "2020-10-01T00:00:00",
          "2020-11-01T00:00:00",
          "2020-12-01T00:00:00",
          "2021-01-01T00:00:00",
          "2021-02-01T00:00:00",
          "2021-03-01T00:00:00",
          "2021-04-01T00:00:00",
          "2021-05-01T00:00:00",
          "2021-06-01T00:00:00",
          "2021-07-01T00:00:00",
          "2021-08-01T00:00:00",
          "2021-09-01T00:00:00",
          "2021-10-01T00:00:00",
          "2021-11-01T00:00:00",
          "2021-12-01T00:00:00",
          "2022-01-01T00:00:00",
          "2022-02-01T00:00:00",
          "2022-03-01T00:00:00",
          "2022-04-01T00:00:00",
          "2022-05-01T00:00:00",
          "2022-06-01T00:00:00",
          "2022-07-01T00:00:00",
          "2022-08-01T00:00:00",
          "2022-09-01T00:00:00",
          "2022-10-01T00:00:00",
          "2022-11-01T00:00:00",
          "2022-12-01T00:00:00",
          "2023-01-01T00:00:00",
          "2023-02-01T00:00:00",
          "2023-03-01T00:00:00",
          "2023-04-01T00:00:00",
          "2023-05-01T00:00:00",
          "2023-06-01T00:00:00",
          "2023-07-01T00:00:00",
          "2023-08-01T00:00:00",
          "2023-09-01T00:00:00",
          "2023-10-01T00:00:00",
          "2023-11-01T00:00:00",
          "2023-12-01T00:00:00",
          "2024-01-01T00:00:00",
          "2024-02-01T00:00:00",
          "2024-03-01T00:00:00",
          "2024-04-01T00:00:00",
          "2024-05-01T00:00:00",
          "2024-06-01T00:00:00",
          "2024-07-01T00:00:00",
          "2024-08-01T00:00:00",
          "2024-09-01T00:00:00",
          "2024-10-01T00:00:00",
          "2024-11-01T00:00:00",
          "2024-12-01T00:00:00",
          "2025-01-01T00:00:00"
         ],
         "y": [
          51.47,
          49.165,
          45.099999999999994,
          37.455,
          40.355000000000004,
          44.64,
          47.685,
          48.230000000000004,
          46.985,
          46.655,
          43.86,
          44.405,
          46.095,
          47.425,
          49.835,
          49.61,
          50.565,
          52.07,
          54.945,
          56.084999999999994,
          56.32,
          60.295,
          61.92999999999999,
          58.519999999999996,
          60.965,
          64.11,
          71.83,
          72.10499999999999,
          76,
          81.69,
          76.79499999999999,
          71.43,
          69.24,
          67.08500000000001,
          67.21000000000001,
          63.864999999999995,
          65.86,
          65.3,
          63.495,
          65.37,
          62.265,
          62.745,
          63.62,
          69.12,
          72.37,
          68.415,
          66.435,
          64.53999999999999,
          65.075,
          67.79,
          68.005,
          70.825,
          68.9,
          67.55,
          69.555,
          64.08,
          61.855000000000004,
          61.214999999999996,
          61.8,
          62.644999999999996,
          64.975
         ]
        },
        {
         "hovertemplate": "<b>%{x|%b %Y}</b><br>Regression: %{y:.2f} pesos<extra></extra>",
         "line": {
          "color": "black",
          "dash": "dot",
          "width": 2
         },
         "mode": "lines",
         "name": "Regression Line (R² = 0.53)",
         "type": "scatter",
         "x": [
          "2020-01-01T00:00:00",
          "2020-02-01T00:00:00",
          "2020-03-01T00:00:00",
          "2020-04-01T00:00:00",
          "2020-05-01T00:00:00",
          "2020-06-01T00:00:00",
          "2020-07-01T00:00:00",
          "2020-08-01T00:00:00",
          "2020-09-01T00:00:00",
          "2020-10-01T00:00:00",
          "2020-11-01T00:00:00",
          "2020-12-01T00:00:00",
          "2021-01-01T00:00:00",
          "2021-02-01T00:00:00",
          "2021-03-01T00:00:00",
          "2021-04-01T00:00:00",
          "2021-05-01T00:00:00",
          "2021-06-01T00:00:00",
          "2021-07-01T00:00:00",
          "2021-08-01T00:00:00",
          "2021-09-01T00:00:00",
          "2021-10-01T00:00:00",
          "2021-11-01T00:00:00",
          "2021-12-01T00:00:00",
          "2022-01-01T00:00:00",
          "2022-02-01T00:00:00",
          "2022-03-01T00:00:00",
          "2022-04-01T00:00:00",
          "2022-05-01T00:00:00",
          "2022-06-01T00:00:00",
          "2022-07-01T00:00:00",
          "2022-08-01T00:00:00",
          "2022-09-01T00:00:00",
          "2022-10-01T00:00:00",
          "2022-11-01T00:00:00",
          "2022-12-01T00:00:00",
          "2023-01-01T00:00:00",
          "2023-02-01T00:00:00",
          "2023-03-01T00:00:00",
          "2023-04-01T00:00:00",
          "2023-05-01T00:00:00",
          "2023-06-01T00:00:00",
          "2023-07-01T00:00:00",
          "2023-08-01T00:00:00",
          "2023-09-01T00:00:00",
          "2023-10-01T00:00:00",
          "2023-11-01T00:00:00",
          "2023-12-01T00:00:00",
          "2024-01-01T00:00:00",
          "2024-02-01T00:00:00",
          "2024-03-01T00:00:00",
          "2024-04-01T00:00:00",
          "2024-05-01T00:00:00",
          "2024-06-01T00:00:00",
          "2024-07-01T00:00:00",
          "2024-08-01T00:00:00",
          "2024-09-01T00:00:00",
          "2024-10-01T00:00:00",
          "2024-11-01T00:00:00",
          "2024-12-01T00:00:00",
          "2025-01-01T00:00:00"
         ],
         "y": [
          47.80233716320299,
          48.22536868739053,
          48.62110785517888,
          49.04413937936641,
          49.453524725354356,
          49.87655624954189,
          50.285941595529835,
          50.70897311971737,
          51.13200464390491,
          51.54138998989285,
          51.964421514080385,
          52.37380686006833,
          52.79683838425589,
          53.21986990844343,
          53.601962898032184,
          54.02499442221972,
          54.43437976820766,
          54.8574112923952,
          55.26679663838311,
          55.689828162570706,
          56.11285968675824,
          56.522245032746156,
          56.94527655693369,
          57.35466190292166,
          57.7776934271092,
          58.200724951296735,
          58.58281794088546,
          59.005849465073,
          59.41523481106097,
          59.838266335248505,
          60.24765168123642,
          60.670683205423956,
          61.09371472961155,
          61.50310007559946,
          61.926131599787,
          62.33551694577497,
          62.758548469962506,
          63.18157999415004,
          63.56367298373877,
          63.986704507926305,
          64.39608985391428,
          64.81912137810181,
          65.22850672408973,
          65.65153824827726,
          66.07456977246486,
          66.48395511845277,
          66.9069866426403,
          67.31637198862828,
          67.73940351281581,
          68.16243503700335,
          68.5581742047917,
          68.98120572897923,
          69.39059107496715,
          69.81362259915468,
          70.22300794514265,
          70.64603946933019,
          71.06907099351773,
          71.4784563395057,
          71.90148786369323,
          72.31087320968115,
          72.73390473386868
         ]
        },
        {
         "marker": {
          "color": "rgba(255, 165, 0, 0.2)",
          "size": 15
         },
         "mode": "markers",
         "name": "Dry Season (Dec-May)",
         "type": "scatter",
         "x": [
          null
         ],
         "y": [
          null
         ]
        },
        {
         "marker": {
          "color": "rgba(0, 191, 255, 0.2)",
          "size": 15
         },
         "mode": "markers",
         "name": "Wet Season (Jun-Nov)",
         "type": "scatter",
         "x": [
          null
         ],
         "y": [
          null
         ]
        }
       ],
       "layout": {
        "hovermode": "x unified",
        "legend": {
         "orientation": "h",
         "x": 1,
         "xanchor": "right",
         "y": 1.02,
         "yanchor": "bottom"
        },
        "margin": {
         "t": 100
        },
        "paper_bgcolor": "white",
        "plot_bgcolor": "#FAFAFA",
        "shapes": [
         {
          "fillcolor": "rgba(255, 165, 0, 0.2)",
          "layer": "below",
          "line": {
           "width": 0
          },
          "type": "rect",
          "x0": "2020-01-01T00:00:00",
          "x1": "2020-06-01T00:00:00",
          "xref": "x",
          "y0": 0,
          "y1": 1,
          "yref": "y domain"
         },
         {
          "fillcolor": "rgba(0, 191, 255, 0.2)",
          "layer": "below",
          "line": {
           "width": 0
          },
          "type": "rect",
          "x0": "2020-01-01T00:00:00",
          "x1": "2019-12-01T00:00:00",
          "xref": "x",
          "y0": 0,
          "y1": 1,
          "yref": "y domain"
         },
         {
          "fillcolor": "rgba(255, 165, 0, 0.2)",
          "layer": "below",
          "line": {
           "width": 0
          },
          "type": "rect",
          "x0": "2020-12-01T00:00:00",
          "x1": "2021-06-01T00:00:00",
          "xref": "x",
          "y0": 0,
          "y1": 1,
          "yref": "y domain"
         },
         {
          "fillcolor": "rgba(0, 191, 255, 0.2)",
          "layer": "below",
          "line": {
           "width": 0
          },
          "type": "rect",
          "x0": "2020-06-01T00:00:00",
          "x1": "2020-12-01T00:00:00",
          "xref": "x",
          "y0": 0,
          "y1": 1,
          "yref": "y domain"
         },
         {
          "fillcolor": "rgba(255, 165, 0, 0.2)",
          "layer": "below",
          "line": {
           "width": 0
          },
          "type": "rect",
          "x0": "2021-12-01T00:00:00",
          "x1": "2022-06-01T00:00:00",
          "xref": "x",
          "y0": 0,
          "y1": 1,
          "yref": "y domain"
         },
         {
          "fillcolor": "rgba(0, 191, 255, 0.2)",
          "layer": "below",
          "line": {
           "width": 0
          },
          "type": "rect",
          "x0": "2021-06-01T00:00:00",
          "x1": "2021-12-01T00:00:00",
          "xref": "x",
          "y0": 0,
          "y1": 1,
          "yref": "y domain"
         },
         {
          "fillcolor": "rgba(255, 165, 0, 0.2)",
          "layer": "below",
          "line": {
           "width": 0
          },
          "type": "rect",
          "x0": "2022-12-01T00:00:00",
          "x1": "2023-06-01T00:00:00",
          "xref": "x",
          "y0": 0,
          "y1": 1,
          "yref": "y domain"
         },
         {
          "fillcolor": "rgba(0, 191, 255, 0.2)",
          "layer": "below",
          "line": {
           "width": 0
          },
          "type": "rect",
          "x0": "2022-06-01T00:00:00",
          "x1": "2022-12-01T00:00:00",
          "xref": "x",
          "y0": 0,
          "y1": 1,
          "yref": "y domain"
         },
         {
          "fillcolor": "rgba(255, 165, 0, 0.2)",
          "layer": "below",
          "line": {
           "width": 0
          },
          "type": "rect",
          "x0": "2023-12-01T00:00:00",
          "x1": "2024-06-01T00:00:00",
          "xref": "x",
          "y0": 0,
          "y1": 1,
          "yref": "y domain"
         },
         {
          "fillcolor": "rgba(0, 191, 255, 0.2)",
          "layer": "below",
          "line": {
           "width": 0
          },
          "type": "rect",
          "x0": "2023-06-01T00:00:00",
          "x1": "2023-12-01T00:00:00",
          "xref": "x",
          "y0": 0,
          "y1": 1,
          "yref": "y domain"
         },
         {
          "fillcolor": "rgba(255, 165, 0, 0.2)",
          "layer": "below",
          "line": {
           "width": 0
          },
          "type": "rect",
          "x0": "2024-12-01T00:00:00",
          "x1": "2024-12-31T00:00:00",
          "xref": "x",
          "y0": 0,
          "y1": 1,
          "yref": "y domain"
         },
         {
          "fillcolor": "rgba(0, 191, 255, 0.2)",
          "layer": "below",
          "line": {
           "width": 0
          },
          "type": "rect",
          "x0": "2024-06-01T00:00:00",
          "x1": "2024-12-01T00:00:00",
          "xref": "x",
          "y0": 0,
          "y1": 1,
          "yref": "y domain"
         }
        ],
        "template": {
         "data": {
          "bar": [
           {
            "error_x": {
             "color": "#2a3f5f"
            },
            "error_y": {
             "color": "#2a3f5f"
            },
            "marker": {
             "line": {
              "color": "#E5ECF6",
              "width": 0.5
             },
             "pattern": {
              "fillmode": "overlay",
              "size": 10,
              "solidity": 0.2
             }
            },
            "type": "bar"
           }
          ],
          "barpolar": [
           {
            "marker": {
             "line": {
              "color": "#E5ECF6",
              "width": 0.5
             },
             "pattern": {
              "fillmode": "overlay",
              "size": 10,
              "solidity": 0.2
             }
            },
            "type": "barpolar"
           }
          ],
          "carpet": [
           {
            "aaxis": {
             "endlinecolor": "#2a3f5f",
             "gridcolor": "white",
             "linecolor": "white",
             "minorgridcolor": "white",
             "startlinecolor": "#2a3f5f"
            },
            "baxis": {
             "endlinecolor": "#2a3f5f",
             "gridcolor": "white",
             "linecolor": "white",
             "minorgridcolor": "white",
             "startlinecolor": "#2a3f5f"
            },
            "type": "carpet"
           }
          ],
          "choropleth": [
           {
            "colorbar": {
             "outlinewidth": 0,
             "ticks": ""
            },
            "type": "choropleth"
           }
          ],
          "contour": [
           {
            "colorbar": {
             "outlinewidth": 0,
             "ticks": ""
            },
            "colorscale": [
             [
              0,
              "#0d0887"
             ],
             [
              0.1111111111111111,
              "#46039f"
             ],
             [
              0.2222222222222222,
              "#7201a8"
             ],
             [
              0.3333333333333333,
              "#9c179e"
             ],
             [
              0.4444444444444444,
              "#bd3786"
             ],
             [
              0.5555555555555556,
              "#d8576b"
             ],
             [
              0.6666666666666666,
              "#ed7953"
             ],
             [
              0.7777777777777778,
              "#fb9f3a"
             ],
             [
              0.8888888888888888,
              "#fdca26"
             ],
             [
              1,
              "#f0f921"
             ]
            ],
            "type": "contour"
           }
          ],
          "contourcarpet": [
           {
            "colorbar": {
             "outlinewidth": 0,
             "ticks": ""
            },
            "type": "contourcarpet"
           }
          ],
          "heatmap": [
           {
            "colorbar": {
             "outlinewidth": 0,
             "ticks": ""
            },
            "colorscale": [
             [
              0,
              "#0d0887"
             ],
             [
              0.1111111111111111,
              "#46039f"
             ],
             [
              0.2222222222222222,
              "#7201a8"
             ],
             [
              0.3333333333333333,
              "#9c179e"
             ],
             [
              0.4444444444444444,
              "#bd3786"
             ],
             [
              0.5555555555555556,
              "#d8576b"
             ],
             [
              0.6666666666666666,
              "#ed7953"
             ],
             [
              0.7777777777777778,
              "#fb9f3a"
             ],
             [
              0.8888888888888888,
              "#fdca26"
             ],
             [
              1,
              "#f0f921"
             ]
            ],
            "type": "heatmap"
           }
          ],
          "heatmapgl": [
           {
            "colorbar": {
             "outlinewidth": 0,
             "ticks": ""
            },
            "colorscale": [
             [
              0,
              "#0d0887"
             ],
             [
              0.1111111111111111,
              "#46039f"
             ],
             [
              0.2222222222222222,
              "#7201a8"
             ],
             [
              0.3333333333333333,
              "#9c179e"
             ],
             [
              0.4444444444444444,
              "#bd3786"
             ],
             [
              0.5555555555555556,
              "#d8576b"
             ],
             [
              0.6666666666666666,
              "#ed7953"
             ],
             [
              0.7777777777777778,
              "#fb9f3a"
             ],
             [
              0.8888888888888888,
              "#fdca26"
             ],
             [
              1,
              "#f0f921"
             ]
            ],
            "type": "heatmapgl"
           }
          ],
          "histogram": [
           {
            "marker": {
             "pattern": {
              "fillmode": "overlay",
              "size": 10,
              "solidity": 0.2
             }
            },
            "type": "histogram"
           }
          ],
          "histogram2d": [
           {
            "colorbar": {
             "outlinewidth": 0,
             "ticks": ""
            },
            "colorscale": [
             [
              0,
              "#0d0887"
             ],
             [
              0.1111111111111111,
              "#46039f"
             ],
             [
              0.2222222222222222,
              "#7201a8"
             ],
             [
              0.3333333333333333,
              "#9c179e"
             ],
             [
              0.4444444444444444,
              "#bd3786"
             ],
             [
              0.5555555555555556,
              "#d8576b"
             ],
             [
              0.6666666666666666,
              "#ed7953"
             ],
             [
              0.7777777777777778,
              "#fb9f3a"
             ],
             [
              0.8888888888888888,
              "#fdca26"
             ],
             [
              1,
              "#f0f921"
             ]
            ],
            "type": "histogram2d"
           }
          ],
          "histogram2dcontour": [
           {
            "colorbar": {
             "outlinewidth": 0,
             "ticks": ""
            },
            "colorscale": [
             [
              0,
              "#0d0887"
             ],
             [
              0.1111111111111111,
              "#46039f"
             ],
             [
              0.2222222222222222,
              "#7201a8"
             ],
             [
              0.3333333333333333,
              "#9c179e"
             ],
             [
              0.4444444444444444,
              "#bd3786"
             ],
             [
              0.5555555555555556,
              "#d8576b"
             ],
             [
              0.6666666666666666,
              "#ed7953"
             ],
             [
              0.7777777777777778,
              "#fb9f3a"
             ],
             [
              0.8888888888888888,
              "#fdca26"
             ],
             [
              1,
              "#f0f921"
             ]
            ],
            "type": "histogram2dcontour"
           }
          ],
          "mesh3d": [
           {
            "colorbar": {
             "outlinewidth": 0,
             "ticks": ""
            },
            "type": "mesh3d"
           }
          ],
          "parcoords": [
           {
            "line": {
             "colorbar": {
              "outlinewidth": 0,
              "ticks": ""
             }
            },
            "type": "parcoords"
           }
          ],
          "pie": [
           {
            "automargin": true,
            "type": "pie"
           }
          ],
          "scatter": [
           {
            "fillpattern": {
             "fillmode": "overlay",
             "size": 10,
             "solidity": 0.2
            },
            "type": "scatter"
           }
          ],
          "scatter3d": [
           {
            "line": {
             "colorbar": {
              "outlinewidth": 0,
              "ticks": ""
             }
            },
            "marker": {
             "colorbar": {
              "outlinewidth": 0,
              "ticks": ""
             }
            },
            "type": "scatter3d"
           }
          ],
          "scattercarpet": [
           {
            "marker": {
             "colorbar": {
              "outlinewidth": 0,
              "ticks": ""
             }
            },
            "type": "scattercarpet"
           }
          ],
          "scattergeo": [
           {
            "marker": {
             "colorbar": {
              "outlinewidth": 0,
              "ticks": ""
             }
            },
            "type": "scattergeo"
           }
          ],
          "scattergl": [
           {
            "marker": {
             "colorbar": {
              "outlinewidth": 0,
              "ticks": ""
             }
            },
            "type": "scattergl"
           }
          ],
          "scattermapbox": [
           {
            "marker": {
             "colorbar": {
              "outlinewidth": 0,
              "ticks": ""
             }
            },
            "type": "scattermapbox"
           }
          ],
          "scatterpolar": [
           {
            "marker": {
             "colorbar": {
              "outlinewidth": 0,
              "ticks": ""
             }
            },
            "type": "scatterpolar"
           }
          ],
          "scatterpolargl": [
           {
            "marker": {
             "colorbar": {
              "outlinewidth": 0,
              "ticks": ""
             }
            },
            "type": "scatterpolargl"
           }
          ],
          "scatterternary": [
           {
            "marker": {
             "colorbar": {
              "outlinewidth": 0,
              "ticks": ""
             }
            },
            "type": "scatterternary"
           }
          ],
          "surface": [
           {
            "colorbar": {
             "outlinewidth": 0,
             "ticks": ""
            },
            "colorscale": [
             [
              0,
              "#0d0887"
             ],
             [
              0.1111111111111111,
              "#46039f"
             ],
             [
              0.2222222222222222,
              "#7201a8"
             ],
             [
              0.3333333333333333,
              "#9c179e"
             ],
             [
              0.4444444444444444,
              "#bd3786"
             ],
             [
              0.5555555555555556,
              "#d8576b"
             ],
             [
              0.6666666666666666,
              "#ed7953"
             ],
             [
              0.7777777777777778,
              "#fb9f3a"
             ],
             [
              0.8888888888888888,
              "#fdca26"
             ],
             [
              1,
              "#f0f921"
             ]
            ],
            "type": "surface"
           }
          ],
          "table": [
           {
            "cells": {
             "fill": {
              "color": "#EBF0F8"
             },
             "line": {
              "color": "white"
             }
            },
            "header": {
             "fill": {
              "color": "#C8D4E3"
             },
             "line": {
              "color": "white"
             }
            },
            "type": "table"
           }
          ]
         },
         "layout": {
          "annotationdefaults": {
           "arrowcolor": "#2a3f5f",
           "arrowhead": 0,
           "arrowwidth": 1
          },
          "autotypenumbers": "strict",
          "coloraxis": {
           "colorbar": {
            "outlinewidth": 0,
            "ticks": ""
           }
          },
          "colorscale": {
           "diverging": [
            [
             0,
             "#8e0152"
            ],
            [
             0.1,
             "#c51b7d"
            ],
            [
             0.2,
             "#de77ae"
            ],
            [
             0.3,
             "#f1b6da"
            ],
            [
             0.4,
             "#fde0ef"
            ],
            [
             0.5,
             "#f7f7f7"
            ],
            [
             0.6,
             "#e6f5d0"
            ],
            [
             0.7,
             "#b8e186"
            ],
            [
             0.8,
             "#7fbc41"
            ],
            [
             0.9,
             "#4d9221"
            ],
            [
             1,
             "#276419"
            ]
           ],
           "sequential": [
            [
             0,
             "#0d0887"
            ],
            [
             0.1111111111111111,
             "#46039f"
            ],
            [
             0.2222222222222222,
             "#7201a8"
            ],
            [
             0.3333333333333333,
             "#9c179e"
            ],
            [
             0.4444444444444444,
             "#bd3786"
            ],
            [
             0.5555555555555556,
             "#d8576b"
            ],
            [
             0.6666666666666666,
             "#ed7953"
            ],
            [
             0.7777777777777778,
             "#fb9f3a"
            ],
            [
             0.8888888888888888,
             "#fdca26"
            ],
            [
             1,
             "#f0f921"
            ]
           ],
           "sequentialminus": [
            [
             0,
             "#0d0887"
            ],
            [
             0.1111111111111111,
             "#46039f"
            ],
            [
             0.2222222222222222,
             "#7201a8"
            ],
            [
             0.3333333333333333,
             "#9c179e"
            ],
            [
             0.4444444444444444,
             "#bd3786"
            ],
            [
             0.5555555555555556,
             "#d8576b"
            ],
            [
             0.6666666666666666,
             "#ed7953"
            ],
            [
             0.7777777777777778,
             "#fb9f3a"
            ],
            [
             0.8888888888888888,
             "#fdca26"
            ],
            [
             1,
             "#f0f921"
            ]
           ]
          },
          "colorway": [
           "#636efa",
           "#EF553B",
           "#00cc96",
           "#ab63fa",
           "#FFA15A",
           "#19d3f3",
           "#FF6692",
           "#B6E880",
           "#FF97FF",
           "#FECB52"
          ],
          "font": {
           "color": "#2a3f5f"
          },
          "geo": {
           "bgcolor": "white",
           "lakecolor": "white",
           "landcolor": "#E5ECF6",
           "showlakes": true,
           "showland": true,
           "subunitcolor": "white"
          },
          "hoverlabel": {
           "align": "left"
          },
          "hovermode": "closest",
          "mapbox": {
           "style": "light"
          },
          "paper_bgcolor": "white",
          "plot_bgcolor": "#E5ECF6",
          "polar": {
           "angularaxis": {
            "gridcolor": "white",
            "linecolor": "white",
            "ticks": ""
           },
           "bgcolor": "#E5ECF6",
           "radialaxis": {
            "gridcolor": "white",
            "linecolor": "white",
            "ticks": ""
           }
          },
          "scene": {
           "xaxis": {
            "backgroundcolor": "#E5ECF6",
            "gridcolor": "white",
            "gridwidth": 2,
            "linecolor": "white",
            "showbackground": true,
            "ticks": "",
            "zerolinecolor": "white"
           },
           "yaxis": {
            "backgroundcolor": "#E5ECF6",
            "gridcolor": "white",
            "gridwidth": 2,
            "linecolor": "white",
            "showbackground": true,
            "ticks": "",
            "zerolinecolor": "white"
           },
           "zaxis": {
            "backgroundcolor": "#E5ECF6",
            "gridcolor": "white",
            "gridwidth": 2,
            "linecolor": "white",
            "showbackground": true,
            "ticks": "",
            "zerolinecolor": "white"
           }
          },
          "shapedefaults": {
           "line": {
            "color": "#2a3f5f"
           }
          },
          "ternary": {
           "aaxis": {
            "gridcolor": "white",
            "linecolor": "white",
            "ticks": ""
           },
           "baxis": {
            "gridcolor": "white",
            "linecolor": "white",
            "ticks": ""
           },
           "bgcolor": "#E5ECF6",
           "caxis": {
            "gridcolor": "white",
            "linecolor": "white",
            "ticks": ""
           }
          },
          "title": {
           "x": 0.05
          },
          "xaxis": {
           "automargin": true,
           "gridcolor": "white",
           "linecolor": "white",
           "ticks": "",
           "title": {
            "standoff": 15
           },
           "zerolinecolor": "white",
           "zerolinewidth": 2
          },
          "yaxis": {
           "automargin": true,
           "gridcolor": "white",
           "linecolor": "white",
           "ticks": "",
           "title": {
            "standoff": 15
           },
           "zerolinecolor": "white",
           "zerolinewidth": 2
          }
         }
        },
        "title": {
         "font": {
          "color": "#333333",
          "size": 18
         },
         "text": "<b>Cost per Liter for Gasoline (RON95) Monthly Price Trends (2020-2024)</b>",
         "x": 0.5,
         "xanchor": "center",
         "y": 0.95
        },
        "xaxis": {
         "dtick": "M12",
         "gridcolor": "rgba(0,0,0,0.2)",
         "range": [
          "2020-01-01",
          "2024-12-31"
         ],
         "showgrid": true,
         "tickformat": "%Y",
         "title": {
          "text": "Date"
         }
        },
        "yaxis": {
         "gridcolor": "rgba(0,0,0,0.2)",
         "showgrid": true,
         "title": {
          "text": "Cost (pesos)"
         }
        }
       }
      }
     },
     "metadata": {},
     "output_type": "display_data"
    }
   ],
   "source": [
    "price_line_color = '#DC143C'                  # Crimson\n",
    "price_range_color = 'rgba(158, 27, 50, 0.5)'  # Dark Red with transparency\n",
    "\n",
    "fig = go.Figure()\n",
    "\n",
    "# Add seasonal background shapes first (so they appear behind the data)\n",
    "for year in range(2019, 2025):\n",
    "    # Dry season (Dec-May)\n",
    "    fig.add_vrect(\n",
    "        x0=max(datetime(year, 12, 1), datetime(2020, 1, 1)),\n",
    "        x1=min(datetime(year+1, 6, 1), datetime(2024, 12, 31)),\n",
    "        fillcolor=dry_season_color,\n",
    "        layer=\"below\",\n",
    "        line_width=0\n",
    "    )\n",
    "    \n",
    "    # Wet season (Jun-Nov)\n",
    "    fig.add_vrect(\n",
    "        x0=max(datetime(year, 6, 1), datetime(2020, 1, 1)),\n",
    "        x1=min(datetime(year, 12, 1), datetime(2024, 12, 31)),\n",
    "        fillcolor=wet_season_color,\n",
    "        layer=\"below\",\n",
    "        line_width=0\n",
    "    )\n",
    "\n",
    "# Add price range (fill between)\n",
    "fig.add_trace(go.Scatter(\n",
    "    x=ron95_data['Date'],\n",
    "    y=ron95_data['Overall Range Max'],\n",
    "    fill=None,\n",
    "    mode='lines',\n",
    "    line=dict(width=0),\n",
    "    showlegend=False,\n",
    "    hoverinfo='skip'\n",
    "))\n",
    "\n",
    "fig.add_trace(go.Scatter(\n",
    "    x=ron95_data['Date'],\n",
    "    y=ron95_data['Overall Range Min'],\n",
    "    fill='tonexty',\n",
    "    mode='lines',\n",
    "    fillcolor=price_range_color,\n",
    "    line=dict(width=0),\n",
    "    name='Price Range',\n",
    "    hovertemplate=\"<b>%{x|%b %Y}</b><br>Range: %{y:.2f}–%{text} pesos<extra></extra>\",\n",
    "    text=ron95_data['Overall Range Max'].round(2)\n",
    "))\n",
    "\n",
    "# Add average price line\n",
    "fig.add_trace(go.Scatter(\n",
    "    x=ron95_data['Date'],\n",
    "    y=ron95_data['Average Price'],\n",
    "    mode='lines+markers',\n",
    "    line=dict(color=price_line_color, width=3),\n",
    "    marker=dict(size=8),\n",
    "    name='Average Price',\n",
    "    hovertemplate=\"<b>%{x|%b %Y}</b><br>Avg: %{y:.2f} pesos<extra></extra>\"\n",
    "))\n",
    "\n",
    "# Calculate and add the regression line\n",
    "x = (ron95_data['Date'].astype(np.int64) // 10**9)  # Convert datetime to timestamp (seconds since epoch)\n",
    "y = ron95_data['Average Price']\n",
    "slope, intercept, r_value, p_value, std_err = linregress(x, y)\n",
    "regression_line = slope * x + intercept\n",
    "\n",
    "fig.add_trace(go.Scatter(\n",
    "    x=ron95_data['Date'],\n",
    "    y=regression_line,\n",
    "    mode='lines',\n",
    "    line=dict(color='black', dash='dot', width=2),\n",
    "    name=f'Regression Line (R² = {r_value**2:.2f})',\n",
    "    hovertemplate=\"<b>%{x|%b %Y}</b><br>Regression: %{y:.2f} pesos<extra></extra>\"\n",
    "))\n",
    "\n",
    "# Layout customization\n",
    "fig.update_layout(\n",
    "    title={\n",
    "        'text': \"<b>Cost per Liter for Gasoline (RON95) Monthly Price Trends (2020-2024)</b>\",\n",
    "        'y':0.95,\n",
    "        'x':0.5,\n",
    "        'xanchor': 'center',\n",
    "        'font': dict(size=18, color='#333333')\n",
    "    },\n",
    "    xaxis=dict(\n",
    "        title=\"Date\",\n",
    "        range=['2020-01-01', '2024-12-31'],\n",
    "        tickformat=\"%Y\",\n",
    "        dtick=\"M12\",  # Yearly ticks\n",
    "        showgrid=True,\n",
    "        gridcolor='rgba(0,0,0,0.2)',\n",
    "    ),\n",
    "    yaxis=dict(\n",
    "        title=\"Cost (pesos)\",\n",
    "        showgrid=True,\n",
    "        gridcolor='rgba(0,0,0,0.2)',\n",
    "    ),\n",
    "    legend=dict(\n",
    "        orientation=\"h\",\n",
    "        yanchor=\"bottom\",\n",
    "        y=1.02,\n",
    "        xanchor=\"right\",\n",
    "        x=1\n",
    "    ),\n",
    "    plot_bgcolor='#FAFAFA',\n",
    "    paper_bgcolor='white',\n",
    "    hovermode=\"x unified\",\n",
    "    margin=dict(t=100)\n",
    ")\n",
    "\n",
    "# Custom legend for seasons (requires adding dummy traces)\n",
    "fig.add_trace(go.Scatter(\n",
    "    x=[None],\n",
    "    y=[None],\n",
    "    mode='markers',\n",
    "    marker=dict(size=15, color=dry_season_color),\n",
    "    name='Dry Season (Dec-May)'\n",
    "))\n",
    "\n",
    "fig.add_trace(go.Scatter(\n",
    "    x=[None],\n",
    "    y=[None],\n",
    "    mode='markers',\n",
    "    marker=dict(size=15, color=wet_season_color),\n",
    "    name='Wet Season (Jun-Nov)'\n",
    "))\n",
    "\n",
    "fig.show()\n",
    "\n",
    "# Save as HTML\n",
    "fig.write_html(\"graphs/gasoline_price_trends.html\")\n",
    "\n",
    "\n",
    "def plot_gasoline_boxplot() -> None:\n",
    "    # Prepare data\n",
    "    ron95_data['Year'] = ron95_data['Date'].dt.year\n",
    "    fig = go.Figure()\n",
    "    \n",
    "    # Grouped boxplot by year\n",
    "    for year, group in ron95_data.groupby('Year'):\n",
    "        fig.add_trace(go.Box(\n",
    "            y=group['Average Price'],\n",
    "            name=str(year),\n",
    "            boxpoints='all',  # Show individual points\n",
    "            jitter=0.4,\n",
    "            pointpos=0,\n",
    "            fillcolor='rgba(220, 20, 60, 0.3)',  # Soft crimson fill\n",
    "            marker_color=price_line_color,\n",
    "            line=dict(width=1),\n",
    "            marker=dict(size=5)\n",
    "        ))\n",
    "\n",
    "    # Layout styling\n",
    "    fig.update_layout(\n",
    "        title={\n",
    "            'text': \"<b>Distribution of Monthly Gasoline Prices per Liter (RON95) per Year (2020–2024)</b>\",\n",
    "            'y': 0.95,\n",
    "            'x': 0.5,\n",
    "            'xanchor': 'center',\n",
    "            'font': dict(size=18, color='#333333')\n",
    "        },\n",
    "        xaxis=dict(\n",
    "            title=\"Year\",\n",
    "            showgrid=True,\n",
    "            gridcolor='rgba(0,0,0,0.2)'\n",
    "        ),\n",
    "        yaxis=dict(\n",
    "            title=\"Cost (pesos per liter)\",\n",
    "            showgrid=True,\n",
    "            gridcolor='rgba(0,0,0,0.2)'\n",
    "        ),\n",
    "        plot_bgcolor='#FAFAFA',\n",
    "        paper_bgcolor='white',\n",
    "        hovermode=\"x unified\",\n",
    "        legend=dict(\n",
    "            orientation=\"h\",\n",
    "            yanchor=\"bottom\",\n",
    "            y=1.02,\n",
    "            xanchor=\"right\",\n",
    "            x=1\n",
    "        ),\n",
    "        margin=dict(t=100)\n",
    "    )\n",
    "\n",
    "    fig.show()\n",
    "\n",
    "    # Optional: Save\n",
    "    fig.write_html(\"graphs/gasoline_price_boxplot.html\")"
   ]
  },
  {
   "cell_type": "code",
   "execution_count": 132,
   "id": "8b68d88e",
   "metadata": {},
   "outputs": [],
   "source": [
    "#plot_gasoline_boxplot()"
   ]
  },
  {
   "cell_type": "markdown",
   "id": "d8fafe6d",
   "metadata": {},
   "source": [
    "Monthly electricity prices graph (2020 to 2025)"
   ]
  },
  {
   "cell_type": "code",
   "execution_count": 133,
   "id": "84a57ba6",
   "metadata": {},
   "outputs": [],
   "source": [
    "## Relevant functions\n",
    "\n",
    "\n",
    "def get_specific_kwh_df(kwh_consumption: int):\n",
    "    meralco_df = pd.read_csv('MeralcoSummaryOfRates.csv')\n",
    "    meralco_df['Date'] = pd.to_datetime(meralco_df['Year'].astype(str) + '-' + meralco_df['Month'].astype(str), format='%Y-%m')\n",
    "\n",
    "    # Reorder the columns to make 'Date' the first column\n",
    "    cols = ['Date'] + [col for col in meralco_df.columns if col != 'Date']\n",
    "    meralco_df = meralco_df[cols]\n",
    "\n",
    "    chosen_kwh_data = meralco_df[(meralco_df['kWh Consumption'] == kwh_consumption) & (meralco_df['For Lifeline Customers'] == False)]\n",
    "    chosen_kwh_data = chosen_kwh_data[(chosen_kwh_data['Date'].dt.year >= 2020) & (chosen_kwh_data['Date'].dt.year <= 2024)]\n",
    "\n",
    "    return chosen_kwh_data\n",
    "\n",
    "def plot_specific_kwh_df(kwh_consumption: int = 200) -> None:\n",
    "    df_to_plot = get_specific_kwh_df(kwh_consumption)\n",
    "\n",
    "    line_color = 'rgba(0, 0, 255, 1)'            # Blue\n",
    "\n",
    "    fig = go.Figure()\n",
    "\n",
    "    # Add seasonal background shapes first (so they appear behind the data)\n",
    "    for year in range(2019, 2025):\n",
    "        # Dry season (Dec-May)\n",
    "        fig.add_vrect(\n",
    "            x0=max(datetime(year, 12, 1), datetime(2020, 1, 1)),\n",
    "            x1=min(datetime(year+1, 6, 1), datetime(2024, 12, 31)),\n",
    "            fillcolor=dry_season_color,\n",
    "            layer=\"below\",\n",
    "            line_width=0,\n",
    "        )\n",
    "        \n",
    "        # Wet season (Jun-Nov)\n",
    "        fig.add_vrect(\n",
    "            x0=max(datetime(year, 6, 1), datetime(2020, 1, 1)),\n",
    "            x1=min(datetime(year, 12, 1), datetime(2024, 12, 31)),\n",
    "            fillcolor=wet_season_color,\n",
    "            layer=\"below\",\n",
    "            line_width=0,\n",
    "        )\n",
    "\n",
    "    # Add main line plot\n",
    "    fig.add_trace(go.Scatter(\n",
    "        x=df_to_plot['Date'],\n",
    "        y=df_to_plot['Total Bill'],\n",
    "        mode='lines+markers',\n",
    "        line=dict(color=line_color, width=2),\n",
    "        marker=dict(size=8),\n",
    "        name='Electricity Cost',\n",
    "        hovertemplate=\"<b>%{x|%b %Y}</b><br>Cost: %{y:.2f} pesos<extra></extra>\"\n",
    "    ))\n",
    "\n",
    "    # Calculate and add the regression line\n",
    "    x = (df_to_plot['Date'].astype(np.int64) // 10**9)  # Convert datetime to timestamp (seconds since epoch)\n",
    "    y = df_to_plot['Total Bill']\n",
    "    slope, intercept, r_value, p_value, std_err = linregress(x, y)\n",
    "    regression_line = slope * x + intercept\n",
    "\n",
    "    fig.add_trace(go.Scatter(\n",
    "        x=df_to_plot['Date'],\n",
    "        y=regression_line,\n",
    "        mode='lines',\n",
    "        line=dict(color='black', dash='dot', width=2),\n",
    "        name=f'Regression Line (R² = {r_value**2:.2f})',\n",
    "        hovertemplate=\"<b>%{x|%b %Y}</b><br>Regression: %{y:.2f} pesos<extra></extra>\"\n",
    "    ))\n",
    "\n",
    "    # Layout customization\n",
    "    fig.update_layout(\n",
    "        title={\n",
    "            'text': f\"<b>Meralco Cost per kW for {kwh_consumption} kWh Consumption (2020-2024, Non-Lifeline)</b>\",\n",
    "            'y':0.95,\n",
    "            'x':0.5,\n",
    "            'xanchor': 'center',\n",
    "            'font': dict(size=18, color='#333333')\n",
    "        },\n",
    "        xaxis=dict(\n",
    "            title=\"Date\",\n",
    "            range=['2020-01-01', '2024-12-31'],\n",
    "            tickformat=\"%Y\",\n",
    "            dtick=\"M12\",  # Yearly ticks\n",
    "            showgrid=True,\n",
    "            gridcolor='rgba(0,0,0,0.2)',\n",
    "        ),\n",
    "        yaxis=dict(\n",
    "            title=\"Cost (pesos)\",\n",
    "            showgrid=True,\n",
    "            gridcolor='rgba(0,0,0,0.2)',\n",
    "        ),\n",
    "        legend=dict(\n",
    "            orientation=\"h\",\n",
    "            yanchor=\"bottom\",\n",
    "            y=1.02,\n",
    "            xanchor=\"right\",\n",
    "            x=1\n",
    "        ),\n",
    "        plot_bgcolor='#FAFAFA',\n",
    "        paper_bgcolor='white',\n",
    "        hovermode=\"x unified\"\n",
    "    )\n",
    "    fig.add_trace(go.Scatter(\n",
    "    x=[None],\n",
    "    y=[None],\n",
    "    mode='markers',\n",
    "    marker=dict(size=15, color=dry_season_color),\n",
    "    name='Dry Season (Dec-May)'\n",
    "    ))\n",
    "\n",
    "    fig.add_trace(go.Scatter(\n",
    "        x=[None],\n",
    "        y=[None],\n",
    "        mode='markers',\n",
    "        marker=dict(size=15, color=wet_season_color),\n",
    "        name='Wet Season (Jun-Nov)'\n",
    "    ))\n",
    "\n",
    "    fig.show()\n",
    "\n",
    "    # Optional: Save as HTML\n",
    "    fig.write_html(f\"graphs/electricity_cost_{kwh_consumption}kWh.html\")\n",
    "\n",
    "def plot_kwh_boxplot(kwh_consumption: int = 200) -> None:\n",
    "    df = get_specific_kwh_df(kwh_consumption)\n",
    "    df['Year'] = df['Date'].dt.year\n",
    "\n",
    "    fig = go.Figure()\n",
    "\n",
    "    # Group by year and add a Box trace for each year\n",
    "    for year, group in df.groupby('Year'):\n",
    "        fig.add_trace(go.Box(\n",
    "            y=group['Total Bill'],\n",
    "            name=str(year),\n",
    "            boxpoints='all',  # Show all points\n",
    "            jitter=0.4,\n",
    "            pointpos=0,\n",
    "            marker=dict(size=5),\n",
    "            line=dict(width=1),\n",
    "            fillcolor='rgba(0,0,255,0.2)',\n",
    "            marker_color='blue'\n",
    "        ))\n",
    "\n",
    "    fig.update_layout(\n",
    "        title={\n",
    "            'text': f\"<b>Distribution of Meralco Cost per kWh for {kwh_consumption} kWh Consumption (2020-2024, Non-Lifeline)</b>\",\n",
    "            'y':0.95,\n",
    "            'x':0.5,\n",
    "            'xanchor': 'center',\n",
    "            'font': dict(size=18, color='#333333')\n",
    "        },\n",
    "        xaxis_title=\"Year\",\n",
    "        yaxis_title=\"Cost (pesos)\",\n",
    "        plot_bgcolor=\"#FAFAFA\",\n",
    "        paper_bgcolor=\"white\",\n",
    "        title_font=dict(size=18),\n",
    "        xaxis=dict(showgrid=True, gridcolor='rgba(0,0,0,0.2)'),\n",
    "        yaxis=dict(showgrid=True, gridcolor='rgba(0,0,0,0.2)')\n",
    "    )\n",
    "\n",
    "    fig.show()\n",
    "\n",
    "    # Optional: Save\n",
    "    fig.write_html(f\"graphs/electricity_boxplot{kwh_consumption}kWh.html\")\n"
   ]
  },
  {
   "cell_type": "code",
   "execution_count": 134,
   "id": "37820c5b",
   "metadata": {},
   "outputs": [
    {
     "data": {
      "application/vnd.plotly.v1+json": {
       "config": {
        "plotlyServerURL": "https://plot.ly"
       },
       "data": [
        {
         "hovertemplate": "<b>%{x|%b %Y}</b><br>Cost: %{y:.2f} pesos<extra></extra>",
         "line": {
          "color": "rgba(0, 0, 255, 1)",
          "width": 2
         },
         "marker": {
          "size": 8
         },
         "mode": "lines+markers",
         "name": "Electricity Cost",
         "type": "scatter",
         "x": [
          "2020-01-01T00:00:00",
          "2020-02-01T00:00:00",
          "2020-03-01T00:00:00",
          "2020-04-01T00:00:00",
          "2020-05-01T00:00:00",
          "2020-06-01T00:00:00",
          "2020-07-01T00:00:00",
          "2020-08-01T00:00:00",
          "2020-09-01T00:00:00",
          "2020-10-01T00:00:00",
          "2020-11-01T00:00:00",
          "2020-12-01T00:00:00",
          "2021-01-01T00:00:00",
          "2021-02-01T00:00:00",
          "2021-03-01T00:00:00",
          "2021-04-01T00:00:00",
          "2021-05-01T00:00:00",
          "2021-06-01T00:00:00",
          "2021-07-01T00:00:00",
          "2021-08-01T00:00:00",
          "2021-09-01T00:00:00",
          "2021-10-01T00:00:00",
          "2021-11-01T00:00:00",
          "2021-12-01T00:00:00",
          "2022-01-01T00:00:00",
          "2022-02-01T00:00:00",
          "2022-03-01T00:00:00",
          "2022-04-01T00:00:00",
          "2022-05-01T00:00:00",
          "2022-06-01T00:00:00",
          "2022-07-01T00:00:00",
          "2022-08-01T00:00:00",
          "2022-09-01T00:00:00",
          "2022-10-01T00:00:00",
          "2022-11-01T00:00:00",
          "2022-12-01T00:00:00",
          "2023-01-01T00:00:00",
          "2023-02-01T00:00:00",
          "2023-03-01T00:00:00",
          "2023-04-01T00:00:00",
          "2023-05-01T00:00:00",
          "2023-06-01T00:00:00",
          "2023-07-01T00:00:00",
          "2023-08-01T00:00:00",
          "2023-09-01T00:00:00",
          "2023-10-01T00:00:00",
          "2023-11-01T00:00:00",
          "2023-12-01T00:00:00",
          "2024-01-01T00:00:00",
          "2024-02-01T00:00:00",
          "2024-03-01T00:00:00",
          "2024-04-01T00:00:00",
          "2024-05-01T00:00:00",
          "2024-06-01T00:00:00",
          "2024-07-01T00:00:00",
          "2024-08-01T00:00:00",
          "2024-09-01T00:00:00",
          "2024-10-01T00:00:00",
          "2024-11-01T00:00:00",
          "2024-12-01T00:00:00"
         ],
         "y": [
          10.0849,
          9.4948,
          9.5226,
          9.6276,
          9.3793,
          9.3577,
          9.3291,
          9.1237,
          9.0613,
          9.1824,
          9.143,
          9.1078,
          9.3822,
          9.3118,
          8.9521,
          9.0392,
          9.2213,
          9.3011,
          9.5396,
          9.6361,
          9.7416,
          9.7699,
          10.0955,
          10.4098,
          10.332,
          10.2167,
          10.2791,
          10.8155,
          10.6956,
          11.0937,
          10.3871,
          10.1647,
          10.5556,
          10.4818,
          10.5663,
          10.8959,
          11.5161,
          11.5085,
          12.0538,
          11.9357,
          12.1118,
          12.5302,
          11.8089,
          11.5181,
          12.0188,
          12.4388,
          12.6736,
          11.8775,
          11.9591,
          12.5358,
          12.5588,
          11.5709,
          12.0329,
          10.0708,
          12.2204,
          12.2529,
          12.4073,
          12.0485,
          12.4755,
          12.5804
         ]
        },
        {
         "hovertemplate": "<b>%{x|%b %Y}</b><br>Regression: %{y:.2f} pesos<extra></extra>",
         "line": {
          "color": "black",
          "dash": "dot",
          "width": 2
         },
         "mode": "lines",
         "name": "Regression Line (R² = 0.81)",
         "type": "scatter",
         "x": [
          "2020-01-01T00:00:00",
          "2020-02-01T00:00:00",
          "2020-03-01T00:00:00",
          "2020-04-01T00:00:00",
          "2020-05-01T00:00:00",
          "2020-06-01T00:00:00",
          "2020-07-01T00:00:00",
          "2020-08-01T00:00:00",
          "2020-09-01T00:00:00",
          "2020-10-01T00:00:00",
          "2020-11-01T00:00:00",
          "2020-12-01T00:00:00",
          "2021-01-01T00:00:00",
          "2021-02-01T00:00:00",
          "2021-03-01T00:00:00",
          "2021-04-01T00:00:00",
          "2021-05-01T00:00:00",
          "2021-06-01T00:00:00",
          "2021-07-01T00:00:00",
          "2021-08-01T00:00:00",
          "2021-09-01T00:00:00",
          "2021-10-01T00:00:00",
          "2021-11-01T00:00:00",
          "2021-12-01T00:00:00",
          "2022-01-01T00:00:00",
          "2022-02-01T00:00:00",
          "2022-03-01T00:00:00",
          "2022-04-01T00:00:00",
          "2022-05-01T00:00:00",
          "2022-06-01T00:00:00",
          "2022-07-01T00:00:00",
          "2022-08-01T00:00:00",
          "2022-09-01T00:00:00",
          "2022-10-01T00:00:00",
          "2022-11-01T00:00:00",
          "2022-12-01T00:00:00",
          "2023-01-01T00:00:00",
          "2023-02-01T00:00:00",
          "2023-03-01T00:00:00",
          "2023-04-01T00:00:00",
          "2023-05-01T00:00:00",
          "2023-06-01T00:00:00",
          "2023-07-01T00:00:00",
          "2023-08-01T00:00:00",
          "2023-09-01T00:00:00",
          "2023-10-01T00:00:00",
          "2023-11-01T00:00:00",
          "2023-12-01T00:00:00",
          "2024-01-01T00:00:00",
          "2024-02-01T00:00:00",
          "2024-03-01T00:00:00",
          "2024-04-01T00:00:00",
          "2024-05-01T00:00:00",
          "2024-06-01T00:00:00",
          "2024-07-01T00:00:00",
          "2024-08-01T00:00:00",
          "2024-09-01T00:00:00",
          "2024-10-01T00:00:00",
          "2024-11-01T00:00:00",
          "2024-12-01T00:00:00"
         ],
         "y": [
          8.81397878239925,
          8.879115028912995,
          8.940048936941988,
          9.005185183455733,
          9.068220260727099,
          9.133356507240851,
          9.196391584512217,
          9.261527831025962,
          9.326664077539714,
          9.38969915481108,
          9.454835401324825,
          9.517870478596198,
          9.583006725109943,
          9.648142971623688,
          9.706975710410301,
          9.772111956924046,
          9.835147034195412,
          9.900283280709164,
          9.96331835798053,
          10.028454604494275,
          10.093590851008027,
          10.156625928279393,
          10.221762174793138,
          10.28479725206451,
          10.349933498578256,
          10.415069745092001,
          10.473902483878614,
          10.53903873039236,
          10.602073807663725,
          10.667210054177477,
          10.730245131448843,
          10.795381377962588,
          10.86051762447634,
          10.923552701747706,
          10.988688948261451,
          11.051724025532824,
          11.11686027204657,
          11.181996518560315,
          11.240829257346928,
          11.305965503860673,
          11.369000581132038,
          11.43413682764579,
          11.497171904917156,
          11.562308151430901,
          11.627444397944654,
          11.69047947521602,
          11.755615721729765,
          11.818650799001137,
          11.883787045514882,
          11.948923292028628,
          12.00985720005762,
          12.074993446571366,
          12.138028523842731,
          12.203164770356484,
          12.266199847627849,
          12.331336094141594,
          12.39647234065534,
          12.459507417926712,
          12.524643664440458,
          12.587678741711823
         ]
        },
        {
         "marker": {
          "color": "rgba(255, 165, 0, 0.2)",
          "size": 15
         },
         "mode": "markers",
         "name": "Dry Season (Dec-May)",
         "type": "scatter",
         "x": [
          null
         ],
         "y": [
          null
         ]
        },
        {
         "marker": {
          "color": "rgba(0, 191, 255, 0.2)",
          "size": 15
         },
         "mode": "markers",
         "name": "Wet Season (Jun-Nov)",
         "type": "scatter",
         "x": [
          null
         ],
         "y": [
          null
         ]
        }
       ],
       "layout": {
        "hovermode": "x unified",
        "legend": {
         "orientation": "h",
         "x": 1,
         "xanchor": "right",
         "y": 1.02,
         "yanchor": "bottom"
        },
        "paper_bgcolor": "white",
        "plot_bgcolor": "#FAFAFA",
        "shapes": [
         {
          "fillcolor": "rgba(255, 165, 0, 0.2)",
          "layer": "below",
          "line": {
           "width": 0
          },
          "type": "rect",
          "x0": "2020-01-01T00:00:00",
          "x1": "2020-06-01T00:00:00",
          "xref": "x",
          "y0": 0,
          "y1": 1,
          "yref": "y domain"
         },
         {
          "fillcolor": "rgba(0, 191, 255, 0.2)",
          "layer": "below",
          "line": {
           "width": 0
          },
          "type": "rect",
          "x0": "2020-01-01T00:00:00",
          "x1": "2019-12-01T00:00:00",
          "xref": "x",
          "y0": 0,
          "y1": 1,
          "yref": "y domain"
         },
         {
          "fillcolor": "rgba(255, 165, 0, 0.2)",
          "layer": "below",
          "line": {
           "width": 0
          },
          "type": "rect",
          "x0": "2020-12-01T00:00:00",
          "x1": "2021-06-01T00:00:00",
          "xref": "x",
          "y0": 0,
          "y1": 1,
          "yref": "y domain"
         },
         {
          "fillcolor": "rgba(0, 191, 255, 0.2)",
          "layer": "below",
          "line": {
           "width": 0
          },
          "type": "rect",
          "x0": "2020-06-01T00:00:00",
          "x1": "2020-12-01T00:00:00",
          "xref": "x",
          "y0": 0,
          "y1": 1,
          "yref": "y domain"
         },
         {
          "fillcolor": "rgba(255, 165, 0, 0.2)",
          "layer": "below",
          "line": {
           "width": 0
          },
          "type": "rect",
          "x0": "2021-12-01T00:00:00",
          "x1": "2022-06-01T00:00:00",
          "xref": "x",
          "y0": 0,
          "y1": 1,
          "yref": "y domain"
         },
         {
          "fillcolor": "rgba(0, 191, 255, 0.2)",
          "layer": "below",
          "line": {
           "width": 0
          },
          "type": "rect",
          "x0": "2021-06-01T00:00:00",
          "x1": "2021-12-01T00:00:00",
          "xref": "x",
          "y0": 0,
          "y1": 1,
          "yref": "y domain"
         },
         {
          "fillcolor": "rgba(255, 165, 0, 0.2)",
          "layer": "below",
          "line": {
           "width": 0
          },
          "type": "rect",
          "x0": "2022-12-01T00:00:00",
          "x1": "2023-06-01T00:00:00",
          "xref": "x",
          "y0": 0,
          "y1": 1,
          "yref": "y domain"
         },
         {
          "fillcolor": "rgba(0, 191, 255, 0.2)",
          "layer": "below",
          "line": {
           "width": 0
          },
          "type": "rect",
          "x0": "2022-06-01T00:00:00",
          "x1": "2022-12-01T00:00:00",
          "xref": "x",
          "y0": 0,
          "y1": 1,
          "yref": "y domain"
         },
         {
          "fillcolor": "rgba(255, 165, 0, 0.2)",
          "layer": "below",
          "line": {
           "width": 0
          },
          "type": "rect",
          "x0": "2023-12-01T00:00:00",
          "x1": "2024-06-01T00:00:00",
          "xref": "x",
          "y0": 0,
          "y1": 1,
          "yref": "y domain"
         },
         {
          "fillcolor": "rgba(0, 191, 255, 0.2)",
          "layer": "below",
          "line": {
           "width": 0
          },
          "type": "rect",
          "x0": "2023-06-01T00:00:00",
          "x1": "2023-12-01T00:00:00",
          "xref": "x",
          "y0": 0,
          "y1": 1,
          "yref": "y domain"
         },
         {
          "fillcolor": "rgba(255, 165, 0, 0.2)",
          "layer": "below",
          "line": {
           "width": 0
          },
          "type": "rect",
          "x0": "2024-12-01T00:00:00",
          "x1": "2024-12-31T00:00:00",
          "xref": "x",
          "y0": 0,
          "y1": 1,
          "yref": "y domain"
         },
         {
          "fillcolor": "rgba(0, 191, 255, 0.2)",
          "layer": "below",
          "line": {
           "width": 0
          },
          "type": "rect",
          "x0": "2024-06-01T00:00:00",
          "x1": "2024-12-01T00:00:00",
          "xref": "x",
          "y0": 0,
          "y1": 1,
          "yref": "y domain"
         }
        ],
        "template": {
         "data": {
          "bar": [
           {
            "error_x": {
             "color": "#2a3f5f"
            },
            "error_y": {
             "color": "#2a3f5f"
            },
            "marker": {
             "line": {
              "color": "#E5ECF6",
              "width": 0.5
             },
             "pattern": {
              "fillmode": "overlay",
              "size": 10,
              "solidity": 0.2
             }
            },
            "type": "bar"
           }
          ],
          "barpolar": [
           {
            "marker": {
             "line": {
              "color": "#E5ECF6",
              "width": 0.5
             },
             "pattern": {
              "fillmode": "overlay",
              "size": 10,
              "solidity": 0.2
             }
            },
            "type": "barpolar"
           }
          ],
          "carpet": [
           {
            "aaxis": {
             "endlinecolor": "#2a3f5f",
             "gridcolor": "white",
             "linecolor": "white",
             "minorgridcolor": "white",
             "startlinecolor": "#2a3f5f"
            },
            "baxis": {
             "endlinecolor": "#2a3f5f",
             "gridcolor": "white",
             "linecolor": "white",
             "minorgridcolor": "white",
             "startlinecolor": "#2a3f5f"
            },
            "type": "carpet"
           }
          ],
          "choropleth": [
           {
            "colorbar": {
             "outlinewidth": 0,
             "ticks": ""
            },
            "type": "choropleth"
           }
          ],
          "contour": [
           {
            "colorbar": {
             "outlinewidth": 0,
             "ticks": ""
            },
            "colorscale": [
             [
              0,
              "#0d0887"
             ],
             [
              0.1111111111111111,
              "#46039f"
             ],
             [
              0.2222222222222222,
              "#7201a8"
             ],
             [
              0.3333333333333333,
              "#9c179e"
             ],
             [
              0.4444444444444444,
              "#bd3786"
             ],
             [
              0.5555555555555556,
              "#d8576b"
             ],
             [
              0.6666666666666666,
              "#ed7953"
             ],
             [
              0.7777777777777778,
              "#fb9f3a"
             ],
             [
              0.8888888888888888,
              "#fdca26"
             ],
             [
              1,
              "#f0f921"
             ]
            ],
            "type": "contour"
           }
          ],
          "contourcarpet": [
           {
            "colorbar": {
             "outlinewidth": 0,
             "ticks": ""
            },
            "type": "contourcarpet"
           }
          ],
          "heatmap": [
           {
            "colorbar": {
             "outlinewidth": 0,
             "ticks": ""
            },
            "colorscale": [
             [
              0,
              "#0d0887"
             ],
             [
              0.1111111111111111,
              "#46039f"
             ],
             [
              0.2222222222222222,
              "#7201a8"
             ],
             [
              0.3333333333333333,
              "#9c179e"
             ],
             [
              0.4444444444444444,
              "#bd3786"
             ],
             [
              0.5555555555555556,
              "#d8576b"
             ],
             [
              0.6666666666666666,
              "#ed7953"
             ],
             [
              0.7777777777777778,
              "#fb9f3a"
             ],
             [
              0.8888888888888888,
              "#fdca26"
             ],
             [
              1,
              "#f0f921"
             ]
            ],
            "type": "heatmap"
           }
          ],
          "heatmapgl": [
           {
            "colorbar": {
             "outlinewidth": 0,
             "ticks": ""
            },
            "colorscale": [
             [
              0,
              "#0d0887"
             ],
             [
              0.1111111111111111,
              "#46039f"
             ],
             [
              0.2222222222222222,
              "#7201a8"
             ],
             [
              0.3333333333333333,
              "#9c179e"
             ],
             [
              0.4444444444444444,
              "#bd3786"
             ],
             [
              0.5555555555555556,
              "#d8576b"
             ],
             [
              0.6666666666666666,
              "#ed7953"
             ],
             [
              0.7777777777777778,
              "#fb9f3a"
             ],
             [
              0.8888888888888888,
              "#fdca26"
             ],
             [
              1,
              "#f0f921"
             ]
            ],
            "type": "heatmapgl"
           }
          ],
          "histogram": [
           {
            "marker": {
             "pattern": {
              "fillmode": "overlay",
              "size": 10,
              "solidity": 0.2
             }
            },
            "type": "histogram"
           }
          ],
          "histogram2d": [
           {
            "colorbar": {
             "outlinewidth": 0,
             "ticks": ""
            },
            "colorscale": [
             [
              0,
              "#0d0887"
             ],
             [
              0.1111111111111111,
              "#46039f"
             ],
             [
              0.2222222222222222,
              "#7201a8"
             ],
             [
              0.3333333333333333,
              "#9c179e"
             ],
             [
              0.4444444444444444,
              "#bd3786"
             ],
             [
              0.5555555555555556,
              "#d8576b"
             ],
             [
              0.6666666666666666,
              "#ed7953"
             ],
             [
              0.7777777777777778,
              "#fb9f3a"
             ],
             [
              0.8888888888888888,
              "#fdca26"
             ],
             [
              1,
              "#f0f921"
             ]
            ],
            "type": "histogram2d"
           }
          ],
          "histogram2dcontour": [
           {
            "colorbar": {
             "outlinewidth": 0,
             "ticks": ""
            },
            "colorscale": [
             [
              0,
              "#0d0887"
             ],
             [
              0.1111111111111111,
              "#46039f"
             ],
             [
              0.2222222222222222,
              "#7201a8"
             ],
             [
              0.3333333333333333,
              "#9c179e"
             ],
             [
              0.4444444444444444,
              "#bd3786"
             ],
             [
              0.5555555555555556,
              "#d8576b"
             ],
             [
              0.6666666666666666,
              "#ed7953"
             ],
             [
              0.7777777777777778,
              "#fb9f3a"
             ],
             [
              0.8888888888888888,
              "#fdca26"
             ],
             [
              1,
              "#f0f921"
             ]
            ],
            "type": "histogram2dcontour"
           }
          ],
          "mesh3d": [
           {
            "colorbar": {
             "outlinewidth": 0,
             "ticks": ""
            },
            "type": "mesh3d"
           }
          ],
          "parcoords": [
           {
            "line": {
             "colorbar": {
              "outlinewidth": 0,
              "ticks": ""
             }
            },
            "type": "parcoords"
           }
          ],
          "pie": [
           {
            "automargin": true,
            "type": "pie"
           }
          ],
          "scatter": [
           {
            "fillpattern": {
             "fillmode": "overlay",
             "size": 10,
             "solidity": 0.2
            },
            "type": "scatter"
           }
          ],
          "scatter3d": [
           {
            "line": {
             "colorbar": {
              "outlinewidth": 0,
              "ticks": ""
             }
            },
            "marker": {
             "colorbar": {
              "outlinewidth": 0,
              "ticks": ""
             }
            },
            "type": "scatter3d"
           }
          ],
          "scattercarpet": [
           {
            "marker": {
             "colorbar": {
              "outlinewidth": 0,
              "ticks": ""
             }
            },
            "type": "scattercarpet"
           }
          ],
          "scattergeo": [
           {
            "marker": {
             "colorbar": {
              "outlinewidth": 0,
              "ticks": ""
             }
            },
            "type": "scattergeo"
           }
          ],
          "scattergl": [
           {
            "marker": {
             "colorbar": {
              "outlinewidth": 0,
              "ticks": ""
             }
            },
            "type": "scattergl"
           }
          ],
          "scattermapbox": [
           {
            "marker": {
             "colorbar": {
              "outlinewidth": 0,
              "ticks": ""
             }
            },
            "type": "scattermapbox"
           }
          ],
          "scatterpolar": [
           {
            "marker": {
             "colorbar": {
              "outlinewidth": 0,
              "ticks": ""
             }
            },
            "type": "scatterpolar"
           }
          ],
          "scatterpolargl": [
           {
            "marker": {
             "colorbar": {
              "outlinewidth": 0,
              "ticks": ""
             }
            },
            "type": "scatterpolargl"
           }
          ],
          "scatterternary": [
           {
            "marker": {
             "colorbar": {
              "outlinewidth": 0,
              "ticks": ""
             }
            },
            "type": "scatterternary"
           }
          ],
          "surface": [
           {
            "colorbar": {
             "outlinewidth": 0,
             "ticks": ""
            },
            "colorscale": [
             [
              0,
              "#0d0887"
             ],
             [
              0.1111111111111111,
              "#46039f"
             ],
             [
              0.2222222222222222,
              "#7201a8"
             ],
             [
              0.3333333333333333,
              "#9c179e"
             ],
             [
              0.4444444444444444,
              "#bd3786"
             ],
             [
              0.5555555555555556,
              "#d8576b"
             ],
             [
              0.6666666666666666,
              "#ed7953"
             ],
             [
              0.7777777777777778,
              "#fb9f3a"
             ],
             [
              0.8888888888888888,
              "#fdca26"
             ],
             [
              1,
              "#f0f921"
             ]
            ],
            "type": "surface"
           }
          ],
          "table": [
           {
            "cells": {
             "fill": {
              "color": "#EBF0F8"
             },
             "line": {
              "color": "white"
             }
            },
            "header": {
             "fill": {
              "color": "#C8D4E3"
             },
             "line": {
              "color": "white"
             }
            },
            "type": "table"
           }
          ]
         },
         "layout": {
          "annotationdefaults": {
           "arrowcolor": "#2a3f5f",
           "arrowhead": 0,
           "arrowwidth": 1
          },
          "autotypenumbers": "strict",
          "coloraxis": {
           "colorbar": {
            "outlinewidth": 0,
            "ticks": ""
           }
          },
          "colorscale": {
           "diverging": [
            [
             0,
             "#8e0152"
            ],
            [
             0.1,
             "#c51b7d"
            ],
            [
             0.2,
             "#de77ae"
            ],
            [
             0.3,
             "#f1b6da"
            ],
            [
             0.4,
             "#fde0ef"
            ],
            [
             0.5,
             "#f7f7f7"
            ],
            [
             0.6,
             "#e6f5d0"
            ],
            [
             0.7,
             "#b8e186"
            ],
            [
             0.8,
             "#7fbc41"
            ],
            [
             0.9,
             "#4d9221"
            ],
            [
             1,
             "#276419"
            ]
           ],
           "sequential": [
            [
             0,
             "#0d0887"
            ],
            [
             0.1111111111111111,
             "#46039f"
            ],
            [
             0.2222222222222222,
             "#7201a8"
            ],
            [
             0.3333333333333333,
             "#9c179e"
            ],
            [
             0.4444444444444444,
             "#bd3786"
            ],
            [
             0.5555555555555556,
             "#d8576b"
            ],
            [
             0.6666666666666666,
             "#ed7953"
            ],
            [
             0.7777777777777778,
             "#fb9f3a"
            ],
            [
             0.8888888888888888,
             "#fdca26"
            ],
            [
             1,
             "#f0f921"
            ]
           ],
           "sequentialminus": [
            [
             0,
             "#0d0887"
            ],
            [
             0.1111111111111111,
             "#46039f"
            ],
            [
             0.2222222222222222,
             "#7201a8"
            ],
            [
             0.3333333333333333,
             "#9c179e"
            ],
            [
             0.4444444444444444,
             "#bd3786"
            ],
            [
             0.5555555555555556,
             "#d8576b"
            ],
            [
             0.6666666666666666,
             "#ed7953"
            ],
            [
             0.7777777777777778,
             "#fb9f3a"
            ],
            [
             0.8888888888888888,
             "#fdca26"
            ],
            [
             1,
             "#f0f921"
            ]
           ]
          },
          "colorway": [
           "#636efa",
           "#EF553B",
           "#00cc96",
           "#ab63fa",
           "#FFA15A",
           "#19d3f3",
           "#FF6692",
           "#B6E880",
           "#FF97FF",
           "#FECB52"
          ],
          "font": {
           "color": "#2a3f5f"
          },
          "geo": {
           "bgcolor": "white",
           "lakecolor": "white",
           "landcolor": "#E5ECF6",
           "showlakes": true,
           "showland": true,
           "subunitcolor": "white"
          },
          "hoverlabel": {
           "align": "left"
          },
          "hovermode": "closest",
          "mapbox": {
           "style": "light"
          },
          "paper_bgcolor": "white",
          "plot_bgcolor": "#E5ECF6",
          "polar": {
           "angularaxis": {
            "gridcolor": "white",
            "linecolor": "white",
            "ticks": ""
           },
           "bgcolor": "#E5ECF6",
           "radialaxis": {
            "gridcolor": "white",
            "linecolor": "white",
            "ticks": ""
           }
          },
          "scene": {
           "xaxis": {
            "backgroundcolor": "#E5ECF6",
            "gridcolor": "white",
            "gridwidth": 2,
            "linecolor": "white",
            "showbackground": true,
            "ticks": "",
            "zerolinecolor": "white"
           },
           "yaxis": {
            "backgroundcolor": "#E5ECF6",
            "gridcolor": "white",
            "gridwidth": 2,
            "linecolor": "white",
            "showbackground": true,
            "ticks": "",
            "zerolinecolor": "white"
           },
           "zaxis": {
            "backgroundcolor": "#E5ECF6",
            "gridcolor": "white",
            "gridwidth": 2,
            "linecolor": "white",
            "showbackground": true,
            "ticks": "",
            "zerolinecolor": "white"
           }
          },
          "shapedefaults": {
           "line": {
            "color": "#2a3f5f"
           }
          },
          "ternary": {
           "aaxis": {
            "gridcolor": "white",
            "linecolor": "white",
            "ticks": ""
           },
           "baxis": {
            "gridcolor": "white",
            "linecolor": "white",
            "ticks": ""
           },
           "bgcolor": "#E5ECF6",
           "caxis": {
            "gridcolor": "white",
            "linecolor": "white",
            "ticks": ""
           }
          },
          "title": {
           "x": 0.05
          },
          "xaxis": {
           "automargin": true,
           "gridcolor": "white",
           "linecolor": "white",
           "ticks": "",
           "title": {
            "standoff": 15
           },
           "zerolinecolor": "white",
           "zerolinewidth": 2
          },
          "yaxis": {
           "automargin": true,
           "gridcolor": "white",
           "linecolor": "white",
           "ticks": "",
           "title": {
            "standoff": 15
           },
           "zerolinecolor": "white",
           "zerolinewidth": 2
          }
         }
        },
        "title": {
         "font": {
          "color": "#333333",
          "size": 18
         },
         "text": "<b>Meralco Cost per kW for 400 kWh Consumption (2020-2024, Non-Lifeline)</b>",
         "x": 0.5,
         "xanchor": "center",
         "y": 0.95
        },
        "xaxis": {
         "dtick": "M12",
         "gridcolor": "rgba(0,0,0,0.2)",
         "range": [
          "2020-01-01",
          "2024-12-31"
         ],
         "showgrid": true,
         "tickformat": "%Y",
         "title": {
          "text": "Date"
         }
        },
        "yaxis": {
         "gridcolor": "rgba(0,0,0,0.2)",
         "showgrid": true,
         "title": {
          "text": "Cost (pesos)"
         }
        }
       }
      }
     },
     "metadata": {},
     "output_type": "display_data"
    }
   ],
   "source": [
    "plot_specific_kwh_df(400)"
   ]
  },
  {
   "cell_type": "code",
   "execution_count": 135,
   "id": "ee801675",
   "metadata": {},
   "outputs": [],
   "source": [
    "#plot_kwh_boxplot(400)"
   ]
  },
  {
   "cell_type": "markdown",
   "id": "a3f5e51b",
   "metadata": {},
   "source": [
    "Comparing Fuel Efficiencies"
   ]
  },
  {
   "cell_type": "code",
   "execution_count": 136,
   "id": "e825b307",
   "metadata": {},
   "outputs": [
    {
     "data": {
      "application/vnd.plotly.v1+json": {
       "config": {
        "plotlyServerURL": "https://plot.ly"
       },
       "data": [
        {
         "boxmean": "sd",
         "marker": {
          "color": "red"
         },
         "name": "ICE",
         "type": "box",
         "xaxis": "x",
         "y": [
          15,
          10.3,
          15.7,
          21.975,
          19,
          17.5,
          15.5,
          17.4,
          12.5,
          15.43
         ],
         "yaxis": "y"
        },
        {
         "boxmean": "sd",
         "marker": {
          "color": "blue"
         },
         "name": "Hybrid",
         "type": "box",
         "xaxis": "x",
         "y": [
          18.33,
          20.3,
          19.6,
          16,
          15.6,
          16.8,
          21.7,
          20,
          17.2,
          14
         ],
         "yaxis": "y"
        },
        {
         "boxmean": "sd",
         "marker": {
          "color": "green"
         },
         "name": "BEV",
         "type": "box",
         "xaxis": "x2",
         "y": [
          5.464480874,
          10,
          5.917159763,
          4.970178926,
          5.405405405,
          5.555555556,
          4.219409283,
          5.405405405,
          6.024096386,
          6.097560976
         ],
         "yaxis": "y2"
        }
       ],
       "layout": {
        "annotations": [
         {
          "font": {
           "size": 16
          },
          "showarrow": false,
          "text": "ICE & Hybrid Fuel Efficiency (Km/L)",
          "x": 0.07,
          "xref": "paper",
          "y": 1.05,
          "yref": "paper"
         },
         {
          "font": {
           "size": 16
          },
          "showarrow": false,
          "text": "BEV Fuel Efficiency (Km/KWh)",
          "x": 0.9,
          "xref": "paper",
          "y": 1.05,
          "yref": "paper"
         },
         {
          "align": "left",
          "font": {
           "size": 12
          },
          "showarrow": false,
          "text": "\n                ICE: Internal Combustion Engine Vehicles<br>\n                BEV: Battery Electric Vehicle\n                ",
          "x": -0.1,
          "xref": "paper",
          "y": -0.1,
          "yref": "paper"
         }
        ],
        "showlegend": false,
        "template": {
         "data": {
          "bar": [
           {
            "error_x": {
             "color": "#2a3f5f"
            },
            "error_y": {
             "color": "#2a3f5f"
            },
            "marker": {
             "line": {
              "color": "#E5ECF6",
              "width": 0.5
             },
             "pattern": {
              "fillmode": "overlay",
              "size": 10,
              "solidity": 0.2
             }
            },
            "type": "bar"
           }
          ],
          "barpolar": [
           {
            "marker": {
             "line": {
              "color": "#E5ECF6",
              "width": 0.5
             },
             "pattern": {
              "fillmode": "overlay",
              "size": 10,
              "solidity": 0.2
             }
            },
            "type": "barpolar"
           }
          ],
          "carpet": [
           {
            "aaxis": {
             "endlinecolor": "#2a3f5f",
             "gridcolor": "white",
             "linecolor": "white",
             "minorgridcolor": "white",
             "startlinecolor": "#2a3f5f"
            },
            "baxis": {
             "endlinecolor": "#2a3f5f",
             "gridcolor": "white",
             "linecolor": "white",
             "minorgridcolor": "white",
             "startlinecolor": "#2a3f5f"
            },
            "type": "carpet"
           }
          ],
          "choropleth": [
           {
            "colorbar": {
             "outlinewidth": 0,
             "ticks": ""
            },
            "type": "choropleth"
           }
          ],
          "contour": [
           {
            "colorbar": {
             "outlinewidth": 0,
             "ticks": ""
            },
            "colorscale": [
             [
              0,
              "#0d0887"
             ],
             [
              0.1111111111111111,
              "#46039f"
             ],
             [
              0.2222222222222222,
              "#7201a8"
             ],
             [
              0.3333333333333333,
              "#9c179e"
             ],
             [
              0.4444444444444444,
              "#bd3786"
             ],
             [
              0.5555555555555556,
              "#d8576b"
             ],
             [
              0.6666666666666666,
              "#ed7953"
             ],
             [
              0.7777777777777778,
              "#fb9f3a"
             ],
             [
              0.8888888888888888,
              "#fdca26"
             ],
             [
              1,
              "#f0f921"
             ]
            ],
            "type": "contour"
           }
          ],
          "contourcarpet": [
           {
            "colorbar": {
             "outlinewidth": 0,
             "ticks": ""
            },
            "type": "contourcarpet"
           }
          ],
          "heatmap": [
           {
            "colorbar": {
             "outlinewidth": 0,
             "ticks": ""
            },
            "colorscale": [
             [
              0,
              "#0d0887"
             ],
             [
              0.1111111111111111,
              "#46039f"
             ],
             [
              0.2222222222222222,
              "#7201a8"
             ],
             [
              0.3333333333333333,
              "#9c179e"
             ],
             [
              0.4444444444444444,
              "#bd3786"
             ],
             [
              0.5555555555555556,
              "#d8576b"
             ],
             [
              0.6666666666666666,
              "#ed7953"
             ],
             [
              0.7777777777777778,
              "#fb9f3a"
             ],
             [
              0.8888888888888888,
              "#fdca26"
             ],
             [
              1,
              "#f0f921"
             ]
            ],
            "type": "heatmap"
           }
          ],
          "heatmapgl": [
           {
            "colorbar": {
             "outlinewidth": 0,
             "ticks": ""
            },
            "colorscale": [
             [
              0,
              "#0d0887"
             ],
             [
              0.1111111111111111,
              "#46039f"
             ],
             [
              0.2222222222222222,
              "#7201a8"
             ],
             [
              0.3333333333333333,
              "#9c179e"
             ],
             [
              0.4444444444444444,
              "#bd3786"
             ],
             [
              0.5555555555555556,
              "#d8576b"
             ],
             [
              0.6666666666666666,
              "#ed7953"
             ],
             [
              0.7777777777777778,
              "#fb9f3a"
             ],
             [
              0.8888888888888888,
              "#fdca26"
             ],
             [
              1,
              "#f0f921"
             ]
            ],
            "type": "heatmapgl"
           }
          ],
          "histogram": [
           {
            "marker": {
             "pattern": {
              "fillmode": "overlay",
              "size": 10,
              "solidity": 0.2
             }
            },
            "type": "histogram"
           }
          ],
          "histogram2d": [
           {
            "colorbar": {
             "outlinewidth": 0,
             "ticks": ""
            },
            "colorscale": [
             [
              0,
              "#0d0887"
             ],
             [
              0.1111111111111111,
              "#46039f"
             ],
             [
              0.2222222222222222,
              "#7201a8"
             ],
             [
              0.3333333333333333,
              "#9c179e"
             ],
             [
              0.4444444444444444,
              "#bd3786"
             ],
             [
              0.5555555555555556,
              "#d8576b"
             ],
             [
              0.6666666666666666,
              "#ed7953"
             ],
             [
              0.7777777777777778,
              "#fb9f3a"
             ],
             [
              0.8888888888888888,
              "#fdca26"
             ],
             [
              1,
              "#f0f921"
             ]
            ],
            "type": "histogram2d"
           }
          ],
          "histogram2dcontour": [
           {
            "colorbar": {
             "outlinewidth": 0,
             "ticks": ""
            },
            "colorscale": [
             [
              0,
              "#0d0887"
             ],
             [
              0.1111111111111111,
              "#46039f"
             ],
             [
              0.2222222222222222,
              "#7201a8"
             ],
             [
              0.3333333333333333,
              "#9c179e"
             ],
             [
              0.4444444444444444,
              "#bd3786"
             ],
             [
              0.5555555555555556,
              "#d8576b"
             ],
             [
              0.6666666666666666,
              "#ed7953"
             ],
             [
              0.7777777777777778,
              "#fb9f3a"
             ],
             [
              0.8888888888888888,
              "#fdca26"
             ],
             [
              1,
              "#f0f921"
             ]
            ],
            "type": "histogram2dcontour"
           }
          ],
          "mesh3d": [
           {
            "colorbar": {
             "outlinewidth": 0,
             "ticks": ""
            },
            "type": "mesh3d"
           }
          ],
          "parcoords": [
           {
            "line": {
             "colorbar": {
              "outlinewidth": 0,
              "ticks": ""
             }
            },
            "type": "parcoords"
           }
          ],
          "pie": [
           {
            "automargin": true,
            "type": "pie"
           }
          ],
          "scatter": [
           {
            "fillpattern": {
             "fillmode": "overlay",
             "size": 10,
             "solidity": 0.2
            },
            "type": "scatter"
           }
          ],
          "scatter3d": [
           {
            "line": {
             "colorbar": {
              "outlinewidth": 0,
              "ticks": ""
             }
            },
            "marker": {
             "colorbar": {
              "outlinewidth": 0,
              "ticks": ""
             }
            },
            "type": "scatter3d"
           }
          ],
          "scattercarpet": [
           {
            "marker": {
             "colorbar": {
              "outlinewidth": 0,
              "ticks": ""
             }
            },
            "type": "scattercarpet"
           }
          ],
          "scattergeo": [
           {
            "marker": {
             "colorbar": {
              "outlinewidth": 0,
              "ticks": ""
             }
            },
            "type": "scattergeo"
           }
          ],
          "scattergl": [
           {
            "marker": {
             "colorbar": {
              "outlinewidth": 0,
              "ticks": ""
             }
            },
            "type": "scattergl"
           }
          ],
          "scattermapbox": [
           {
            "marker": {
             "colorbar": {
              "outlinewidth": 0,
              "ticks": ""
             }
            },
            "type": "scattermapbox"
           }
          ],
          "scatterpolar": [
           {
            "marker": {
             "colorbar": {
              "outlinewidth": 0,
              "ticks": ""
             }
            },
            "type": "scatterpolar"
           }
          ],
          "scatterpolargl": [
           {
            "marker": {
             "colorbar": {
              "outlinewidth": 0,
              "ticks": ""
             }
            },
            "type": "scatterpolargl"
           }
          ],
          "scatterternary": [
           {
            "marker": {
             "colorbar": {
              "outlinewidth": 0,
              "ticks": ""
             }
            },
            "type": "scatterternary"
           }
          ],
          "surface": [
           {
            "colorbar": {
             "outlinewidth": 0,
             "ticks": ""
            },
            "colorscale": [
             [
              0,
              "#0d0887"
             ],
             [
              0.1111111111111111,
              "#46039f"
             ],
             [
              0.2222222222222222,
              "#7201a8"
             ],
             [
              0.3333333333333333,
              "#9c179e"
             ],
             [
              0.4444444444444444,
              "#bd3786"
             ],
             [
              0.5555555555555556,
              "#d8576b"
             ],
             [
              0.6666666666666666,
              "#ed7953"
             ],
             [
              0.7777777777777778,
              "#fb9f3a"
             ],
             [
              0.8888888888888888,
              "#fdca26"
             ],
             [
              1,
              "#f0f921"
             ]
            ],
            "type": "surface"
           }
          ],
          "table": [
           {
            "cells": {
             "fill": {
              "color": "#EBF0F8"
             },
             "line": {
              "color": "white"
             }
            },
            "header": {
             "fill": {
              "color": "#C8D4E3"
             },
             "line": {
              "color": "white"
             }
            },
            "type": "table"
           }
          ]
         },
         "layout": {
          "annotationdefaults": {
           "arrowcolor": "#2a3f5f",
           "arrowhead": 0,
           "arrowwidth": 1
          },
          "autotypenumbers": "strict",
          "coloraxis": {
           "colorbar": {
            "outlinewidth": 0,
            "ticks": ""
           }
          },
          "colorscale": {
           "diverging": [
            [
             0,
             "#8e0152"
            ],
            [
             0.1,
             "#c51b7d"
            ],
            [
             0.2,
             "#de77ae"
            ],
            [
             0.3,
             "#f1b6da"
            ],
            [
             0.4,
             "#fde0ef"
            ],
            [
             0.5,
             "#f7f7f7"
            ],
            [
             0.6,
             "#e6f5d0"
            ],
            [
             0.7,
             "#b8e186"
            ],
            [
             0.8,
             "#7fbc41"
            ],
            [
             0.9,
             "#4d9221"
            ],
            [
             1,
             "#276419"
            ]
           ],
           "sequential": [
            [
             0,
             "#0d0887"
            ],
            [
             0.1111111111111111,
             "#46039f"
            ],
            [
             0.2222222222222222,
             "#7201a8"
            ],
            [
             0.3333333333333333,
             "#9c179e"
            ],
            [
             0.4444444444444444,
             "#bd3786"
            ],
            [
             0.5555555555555556,
             "#d8576b"
            ],
            [
             0.6666666666666666,
             "#ed7953"
            ],
            [
             0.7777777777777778,
             "#fb9f3a"
            ],
            [
             0.8888888888888888,
             "#fdca26"
            ],
            [
             1,
             "#f0f921"
            ]
           ],
           "sequentialminus": [
            [
             0,
             "#0d0887"
            ],
            [
             0.1111111111111111,
             "#46039f"
            ],
            [
             0.2222222222222222,
             "#7201a8"
            ],
            [
             0.3333333333333333,
             "#9c179e"
            ],
            [
             0.4444444444444444,
             "#bd3786"
            ],
            [
             0.5555555555555556,
             "#d8576b"
            ],
            [
             0.6666666666666666,
             "#ed7953"
            ],
            [
             0.7777777777777778,
             "#fb9f3a"
            ],
            [
             0.8888888888888888,
             "#fdca26"
            ],
            [
             1,
             "#f0f921"
            ]
           ]
          },
          "colorway": [
           "#636efa",
           "#EF553B",
           "#00cc96",
           "#ab63fa",
           "#FFA15A",
           "#19d3f3",
           "#FF6692",
           "#B6E880",
           "#FF97FF",
           "#FECB52"
          ],
          "font": {
           "color": "#2a3f5f"
          },
          "geo": {
           "bgcolor": "white",
           "lakecolor": "white",
           "landcolor": "#E5ECF6",
           "showlakes": true,
           "showland": true,
           "subunitcolor": "white"
          },
          "hoverlabel": {
           "align": "left"
          },
          "hovermode": "closest",
          "mapbox": {
           "style": "light"
          },
          "paper_bgcolor": "white",
          "plot_bgcolor": "#E5ECF6",
          "polar": {
           "angularaxis": {
            "gridcolor": "white",
            "linecolor": "white",
            "ticks": ""
           },
           "bgcolor": "#E5ECF6",
           "radialaxis": {
            "gridcolor": "white",
            "linecolor": "white",
            "ticks": ""
           }
          },
          "scene": {
           "xaxis": {
            "backgroundcolor": "#E5ECF6",
            "gridcolor": "white",
            "gridwidth": 2,
            "linecolor": "white",
            "showbackground": true,
            "ticks": "",
            "zerolinecolor": "white"
           },
           "yaxis": {
            "backgroundcolor": "#E5ECF6",
            "gridcolor": "white",
            "gridwidth": 2,
            "linecolor": "white",
            "showbackground": true,
            "ticks": "",
            "zerolinecolor": "white"
           },
           "zaxis": {
            "backgroundcolor": "#E5ECF6",
            "gridcolor": "white",
            "gridwidth": 2,
            "linecolor": "white",
            "showbackground": true,
            "ticks": "",
            "zerolinecolor": "white"
           }
          },
          "shapedefaults": {
           "line": {
            "color": "#2a3f5f"
           }
          },
          "ternary": {
           "aaxis": {
            "gridcolor": "white",
            "linecolor": "white",
            "ticks": ""
           },
           "baxis": {
            "gridcolor": "white",
            "linecolor": "white",
            "ticks": ""
           },
           "bgcolor": "#E5ECF6",
           "caxis": {
            "gridcolor": "white",
            "linecolor": "white",
            "ticks": ""
           }
          },
          "title": {
           "x": 0.05
          },
          "xaxis": {
           "automargin": true,
           "gridcolor": "white",
           "linecolor": "white",
           "ticks": "",
           "title": {
            "standoff": 15
           },
           "zerolinecolor": "white",
           "zerolinewidth": 2
          },
          "yaxis": {
           "automargin": true,
           "gridcolor": "white",
           "linecolor": "white",
           "ticks": "",
           "title": {
            "standoff": 15
           },
           "zerolinecolor": "white",
           "zerolinewidth": 2
          }
         }
        },
        "title": {
         "font": {
          "color": "#333333",
          "size": 20
         },
         "text": "<b>Efficiency Distribution by Car Type</b><br>",
         "x": 0.5,
         "xanchor": "center"
        },
        "xaxis": {
         "anchor": "y",
         "domain": [
          0,
          0.45
         ]
        },
        "xaxis2": {
         "anchor": "y2",
         "domain": [
          0.55,
          1
         ]
        },
        "yaxis": {
         "anchor": "x",
         "domain": [
          0,
          1
         ],
         "title": {
          "text": "Fuel Efficiency (Km/L)"
         }
        },
        "yaxis2": {
         "anchor": "x2",
         "domain": [
          0,
          1
         ],
         "title": {
          "text": "Energy Efficiency (Km/KWh)"
         }
        }
       }
      }
     },
     "metadata": {},
     "output_type": "display_data"
    }
   ],
   "source": [
    "def plot_fuel_efficiency_boxplot(data):\n",
    "    # Filter the data for each category and handle BEV with Km/KWh\n",
    "    ice_data = data[data['Category'] == 'ICE']['Combined (km/L)']\n",
    "    hybrid_data = data[data['Category'] == 'Hybrid']['Combined (km/L)']\n",
    "    bev_data = data[data['Category'] == 'BEV']['Combined (km/L)']\n",
    "\n",
    "    fig = make_subplots(\n",
    "        rows=1, cols=2,\n",
    "        column_widths=[0.5, 0.5]\n",
    "    )\n",
    "    \n",
    "    # ICE & Hybrid boxplots\n",
    "    fig.add_trace(go.Box(\n",
    "        y=ice_data,\n",
    "        name='ICE',\n",
    "        boxmean='sd',\n",
    "        marker=dict(color='red')\n",
    "    ), row=1, col=1)\n",
    "    \n",
    "    fig.add_trace(go.Box(\n",
    "        y=hybrid_data,\n",
    "        name='Hybrid',\n",
    "        boxmean='sd',\n",
    "        marker=dict(color='blue')\n",
    "    ), row=1, col=1)\n",
    "    \n",
    "    # BEV boxplot\n",
    "    fig.add_trace(go.Box(\n",
    "        y=bev_data,\n",
    "        name='BEV',\n",
    "        boxmean='sd',\n",
    "        marker=dict(color='green')\n",
    "    ), row=1, col=2)\n",
    "\n",
    "    fig.update_layout(\n",
    "        title={\n",
    "            'text': (\n",
    "                \"<b>Efficiency Distribution by Car Type</b><br>\"\n",
    "            ),\n",
    "            'x': 0.5,\n",
    "            'xanchor': 'center',\n",
    "            'font': dict(size=20, color='#333333')\n",
    "        },\n",
    "        yaxis_title=\"Fuel Efficiency (Km/L)\",\n",
    "        yaxis2_title=\"Energy Efficiency (Km/KWh)\",\n",
    "        showlegend=False,\n",
    "        annotations=[\n",
    "            dict(\n",
    "                text='ICE & Hybrid Fuel Efficiency (Km/L)',\n",
    "                x=0.07,\n",
    "                y=1.05,\n",
    "                showarrow=False,\n",
    "                font=dict(size=16),\n",
    "                xref=\"paper\",\n",
    "                yref=\"paper\"\n",
    "            ),\n",
    "            dict(\n",
    "                text='BEV Fuel Efficiency (Km/KWh)',\n",
    "                x=0.9,\n",
    "                y=1.05,\n",
    "                showarrow=False,\n",
    "                font=dict(size=16),\n",
    "                xref=\"paper\",\n",
    "                yref=\"paper\"\n",
    "            ),\n",
    "             dict(\n",
    "                x=-0.1,\n",
    "                y=-0.1,\n",
    "                showarrow=False,\n",
    "                font=dict(size=12),\n",
    "                xref=\"paper\",\n",
    "                yref=\"paper\",\n",
    "                align=\"left\",\n",
    "                text=f\"\"\"\n",
    "                ICE: Internal Combustion Engine Vehicles<br>\n",
    "                BEV: Battery Electric Vehicle\n",
    "                \"\"\",\n",
    "            ),\n",
    "        ]\n",
    "    )\n",
    "\n",
    "    # Show the plot\n",
    "    fig.show()\n",
    "\n",
    "    fig.write_html(f\"graphs/fuelenergyefficiency_boxplot.html\")\n",
    "\n",
    "plot_fuel_efficiency_boxplot(fuelefficiency_df)"
   ]
  },
  {
   "cell_type": "markdown",
   "id": "bea78866",
   "metadata": {},
   "source": [
    "Comparing gas and electricity"
   ]
  },
  {
   "cell_type": "code",
   "execution_count": 137,
   "id": "520862e7",
   "metadata": {},
   "outputs": [],
   "source": [
    "def make_comparison_dataframe(km_l: float, km_kwh: float, kwh_consumption: int = 200):\n",
    "    df_gas = ron95_data.copy()\n",
    "    df_elec = get_specific_kwh_df(kwh_consumption)\n",
    "\n",
    "    #print(df_elec)\n",
    "\n",
    "    # Drop excess month in df_gas\n",
    "    date_to_drop = pd.to_datetime('2025-01-01')\n",
    "    df_gas = df_gas[df_gas['Date'] != date_to_drop]\n",
    "\n",
    "    monthly_date_range = pd.date_range(start='2020-01-01', end='2024-12-31', freq='MS')\n",
    "    # Create a new DataFrame with the monthly date range\n",
    "    df_output = pd.DataFrame({'Date': monthly_date_range.date,\n",
    "                              'Gas cost/km':None,\n",
    "                              'Electricity cost/km':None,\n",
    "                              'Difference': None})\n",
    "    \n",
    "    df_gas['Date'] = pd.to_datetime(df_gas['Date'])\n",
    "    df_elec['Date'] = pd.to_datetime(df_elec['Date'])\n",
    "    df_output['Date'] = pd.to_datetime(df_output['Date'])\n",
    "\n",
    "    df_gas = df_gas.set_index('Date')\n",
    "    df_elec = df_elec.set_index('Date')\n",
    "    df_output = df_output.set_index('Date')\n",
    "\n",
    "    # Calculate cost per km for each row\n",
    "    for date in df_output.index:\n",
    "        gas_price = df_gas.loc[date, 'Average Price']\n",
    "        df_output.loc[date, 'Gas cost/km'] = gas_price / km_l  # PHP per km\n",
    "\n",
    "        elec_price = df_elec.loc[date, 'Total Bill']\n",
    "        df_output.loc[date, 'Electricity cost/km'] = elec_price / km_kwh  # PHP per km\n",
    "\n",
    "    # Calculate the difference (Gas cost - Electricity cost)\n",
    "    df_output['Difference'] = df_output['Gas cost/km'] - df_output['Electricity cost/km']\n",
    "    df_output = df_output.reset_index()\n",
    "    return df_output"
   ]
  },
  {
   "cell_type": "markdown",
   "id": "7c9fef2e",
   "metadata": {},
   "source": [
    "Plotting the dataframe comparison"
   ]
  },
  {
   "cell_type": "code",
   "execution_count": 138,
   "id": "ae86e522",
   "metadata": {},
   "outputs": [],
   "source": [
    "def plot_comparison_dataframe(km_l: float, km_kwh: float, kwh_consumption: int, df):\n",
    "\n",
    "    # Color definitions\n",
    "    gas_color = '#EF553B'  # Red\n",
    "    electricity_color = '#636EFA'  # Blue\n",
    "\n",
    "    fig = go.Figure()\n",
    "\n",
    "    ## vertical lines\n",
    "    annotation_y = 0.8\n",
    "    annotation_font = 10\n",
    "    line_width = 2\n",
    "    vline_color = 'black'\n",
    "\n",
    "    major_events = {\n",
    "        'Luzon ECQ Start': datetime(2020, 3, 1),\n",
    "        'ECQ to MECQ': datetime(2021, 10, 1),\n",
    "        'Russia-Ukraine War': datetime(2022, 2, 1),\n",
    "        'ERC Order: Energy Costs': datetime(2024, 6, 1)\n",
    "    }\n",
    "\n",
    "    for event in major_events.keys():\n",
    "        fig.add_shape(\n",
    "            type='line',\n",
    "            x0=major_events[event],\n",
    "            x1=major_events[event],\n",
    "            y0=annotation_y,\n",
    "            y1=4.5,\n",
    "            line=dict(color=vline_color, width=line_width, dash=\"dash\"),\n",
    "        )\n",
    "        fig.add_annotation(\n",
    "            x=major_events[event],\n",
    "            y=annotation_y,\n",
    "            xref=\"x\",\n",
    "            showarrow=False,\n",
    "            text=event,\n",
    "            textangle=-55,\n",
    "            xanchor='left',\n",
    "            yanchor='bottom',\n",
    "            font=dict(color=vline_color, size=annotation_font),\n",
    "        )\n",
    "\n",
    "    # Add seasonal background shapes first (so they appear behind the data)\n",
    "    for year in range(2019, 2026):\n",
    "        # Dry season (Dec-May)\n",
    "        fig.add_vrect(\n",
    "            x0=max(datetime(year, 12, 1), df['Date'].min()),\n",
    "            x1=min(datetime(year+1, 6, 1), df['Date'].max()),\n",
    "            fillcolor=dry_season_color,\n",
    "            layer=\"below\",\n",
    "            line_width=0,\n",
    "            name='Dry Season (Dec-May)',\n",
    "        )\n",
    "        \n",
    "        # Wet season (Jun-Nov)\n",
    "        fig.add_vrect(\n",
    "            x0=max(datetime(year, 6, 1), df['Date'].min()),\n",
    "            x1=min(datetime(year, 12, 1), df['Date'].max()),\n",
    "            fillcolor=wet_season_color,\n",
    "            layer=\"below\",\n",
    "            line_width=0,\n",
    "            name='Wet Season (Jun-Nov)',\n",
    "        )\n",
    "\n",
    "    # Add Gas line plot\n",
    "    fig.add_trace(go.Scatter(\n",
    "        x=df['Date'],\n",
    "        y=df['Gas cost/km'],\n",
    "        mode='lines+markers',\n",
    "        line=dict(color=gas_color, width=2),\n",
    "        marker=dict(size=8),\n",
    "        name='Gas Cost/km',\n",
    "        hovertemplate=\"<b>%{x|%b %Y}</b><br>Gas Cost: PHP %{y:.3f}<extra></extra>\"\n",
    "    ))\n",
    "\n",
    "    # Add Electricity line plot\n",
    "    fig.add_trace(go.Scatter(\n",
    "        x=df['Date'],\n",
    "        y=df['Electricity cost/km'],\n",
    "        mode='lines+markers',\n",
    "        line=dict(color=electricity_color, width=2),\n",
    "        marker=dict(size=8),\n",
    "        name='Electricity Cost/km',\n",
    "        hovertemplate=\"<b>%{x|%b %Y}</b><br>Electricity Cost: PHP %{y:.3f}<extra></extra>\"\n",
    "    ))\n",
    "\n",
    "    fig.update_layout(\n",
    "        title={\n",
    "            'text': \"<b>Gas vs. Electricity Cost per Kilometer (2020-2025)</b>\",\n",
    "            'y':0.95,\n",
    "            'x':0.5,\n",
    "            'xanchor': 'center',\n",
    "            'font': dict(size=18, color='#333333')\n",
    "        },\n",
    "        xaxis=dict(\n",
    "            title=\"Date\",\n",
    "            range=[df['Date'].min(), df['Date'].max()],\n",
    "            tickformat=\"%Y\",\n",
    "            dtick=\"M12\",  # Yearly ticks\n",
    "            showgrid=True,\n",
    "            gridcolor='rgba(0,0,0,0.2)',\n",
    "        ),\n",
    "        yaxis=dict(\n",
    "            title=\"Cost per km (PHP)\",\n",
    "            showgrid=True,\n",
    "            gridcolor='rgba(0,0,0,0.2)'\n",
    "        ),\n",
    "        legend=dict(\n",
    "            orientation=\"h\",\n",
    "            yanchor=\"bottom\",\n",
    "            y=1.02,\n",
    "            xanchor=\"right\",\n",
    "            x=1\n",
    "        ),\n",
    "        plot_bgcolor='#FAFAFA',\n",
    "        paper_bgcolor='white',\n",
    "        hovermode=\"x unified\"\n",
    "    )\n",
    "\n",
    "    # Add seasonal legend entries (as in first plot)\n",
    "    fig.add_trace(go.Scatter(\n",
    "        x=[None],\n",
    "        y=[None],\n",
    "        mode='markers',\n",
    "        marker=dict(size=15, color=dry_season_color),\n",
    "        name='Dry Season (Dec-May)',\n",
    "    ))\n",
    "\n",
    "    fig.add_trace(go.Scatter(\n",
    "        x=[None],\n",
    "        y=[None],\n",
    "        mode='markers',\n",
    "        marker=dict(size=15, color=wet_season_color),\n",
    "        name='Wet Season (Jun-Nov)',\n",
    "    ))\n",
    "\n",
    "    fig.add_annotation(\n",
    "        x=0.9,\n",
    "        y=-0.12,\n",
    "        xref=\"paper\",\n",
    "        yref=\"paper\",\n",
    "        align=\"left\",\n",
    "        text=f\"- Gas cost calculated with {km_l} km/L<br>- Electricity cost calculated with <br>  {km_kwh} km/kWh and {kwh_consumption} kWh consumption\",\n",
    "        showarrow=False,\n",
    "        font=dict(size=11, color=\"#666666\")\n",
    "    )\n",
    "\n",
    "    # Show the plot\n",
    "    fig.show()\n",
    "    fig.write_html(f\"graphs/gas_vs_electricity.html\")"
   ]
  },
  {
   "cell_type": "code",
   "execution_count": 139,
   "id": "3c499590",
   "metadata": {},
   "outputs": [
    {
     "data": {
      "application/vnd.plotly.v1+json": {
       "config": {
        "plotlyServerURL": "https://plot.ly"
       },
       "data": [
        {
         "hovertemplate": "<b>%{x|%b %Y}</b><br>Gas Cost: PHP %{y:.3f}<extra></extra>",
         "line": {
          "color": "#EF553B",
          "width": 2
         },
         "marker": {
          "size": 8
         },
         "mode": "lines+markers",
         "name": "Gas Cost/km",
         "type": "scatter",
         "x": [
          "2020-01-01T00:00:00",
          "2020-02-01T00:00:00",
          "2020-03-01T00:00:00",
          "2020-04-01T00:00:00",
          "2020-05-01T00:00:00",
          "2020-06-01T00:00:00",
          "2020-07-01T00:00:00",
          "2020-08-01T00:00:00",
          "2020-09-01T00:00:00",
          "2020-10-01T00:00:00",
          "2020-11-01T00:00:00",
          "2020-12-01T00:00:00",
          "2021-01-01T00:00:00",
          "2021-02-01T00:00:00",
          "2021-03-01T00:00:00",
          "2021-04-01T00:00:00",
          "2021-05-01T00:00:00",
          "2021-06-01T00:00:00",
          "2021-07-01T00:00:00",
          "2021-08-01T00:00:00",
          "2021-09-01T00:00:00",
          "2021-10-01T00:00:00",
          "2021-11-01T00:00:00",
          "2021-12-01T00:00:00",
          "2022-01-01T00:00:00",
          "2022-02-01T00:00:00",
          "2022-03-01T00:00:00",
          "2022-04-01T00:00:00",
          "2022-05-01T00:00:00",
          "2022-06-01T00:00:00",
          "2022-07-01T00:00:00",
          "2022-08-01T00:00:00",
          "2022-09-01T00:00:00",
          "2022-10-01T00:00:00",
          "2022-11-01T00:00:00",
          "2022-12-01T00:00:00",
          "2023-01-01T00:00:00",
          "2023-02-01T00:00:00",
          "2023-03-01T00:00:00",
          "2023-04-01T00:00:00",
          "2023-05-01T00:00:00",
          "2023-06-01T00:00:00",
          "2023-07-01T00:00:00",
          "2023-08-01T00:00:00",
          "2023-09-01T00:00:00",
          "2023-10-01T00:00:00",
          "2023-11-01T00:00:00",
          "2023-12-01T00:00:00",
          "2024-01-01T00:00:00",
          "2024-02-01T00:00:00",
          "2024-03-01T00:00:00",
          "2024-04-01T00:00:00",
          "2024-05-01T00:00:00",
          "2024-06-01T00:00:00",
          "2024-07-01T00:00:00",
          "2024-08-01T00:00:00",
          "2024-09-01T00:00:00",
          "2024-10-01T00:00:00",
          "2024-11-01T00:00:00",
          "2024-12-01T00:00:00"
         ],
         "y": [
          2.867409470752089,
          2.7389972144846797,
          2.512534818941504,
          2.0866295264623957,
          2.248189415041783,
          2.4869080779944293,
          2.6565459610027857,
          2.6869080779944294,
          2.6175487465181058,
          2.5991643454038997,
          2.4434540389972144,
          2.473816155988858,
          2.567966573816156,
          2.6420612813370474,
          2.776323119777159,
          2.7637883008356545,
          2.816991643454039,
          2.9008356545961003,
          3.0610027855153206,
          3.1245125348189413,
          3.1376044568245125,
          3.3590529247910865,
          3.4501392757660163,
          3.26016713091922,
          3.396378830083566,
          3.5715877437325907,
          4.001671309192201,
          4.0169916434540385,
          4.233983286908078,
          4.550974930362117,
          4.278272980501392,
          3.979387186629527,
          3.857381615598886,
          3.73732590529248,
          3.7442896935933154,
          3.5579387186629523,
          3.6690807799442897,
          3.637883008356546,
          3.5373259052924793,
          3.6417827298050143,
          3.4688022284122564,
          3.495543175487465,
          3.544289693593315,
          3.850696378830084,
          4.031754874651811,
          3.811420612813371,
          3.701114206128134,
          3.5955431754874647,
          3.625348189415042,
          3.7766016713091926,
          3.7885793871866293,
          3.9456824512534823,
          3.8384401114206135,
          3.7632311977715878,
          3.8749303621169924,
          3.56991643454039,
          3.445961002785516,
          3.410306406685237,
          3.4428969359331476,
          3.4899721448467966
         ]
        },
        {
         "hovertemplate": "<b>%{x|%b %Y}</b><br>Electricity Cost: PHP %{y:.3f}<extra></extra>",
         "line": {
          "color": "#636EFA",
          "width": 2
         },
         "marker": {
          "size": 8
         },
         "mode": "lines+markers",
         "name": "Electricity Cost/km",
         "type": "scatter",
         "x": [
          "2020-01-01T00:00:00",
          "2020-02-01T00:00:00",
          "2020-03-01T00:00:00",
          "2020-04-01T00:00:00",
          "2020-05-01T00:00:00",
          "2020-06-01T00:00:00",
          "2020-07-01T00:00:00",
          "2020-08-01T00:00:00",
          "2020-09-01T00:00:00",
          "2020-10-01T00:00:00",
          "2020-11-01T00:00:00",
          "2020-12-01T00:00:00",
          "2021-01-01T00:00:00",
          "2021-02-01T00:00:00",
          "2021-03-01T00:00:00",
          "2021-04-01T00:00:00",
          "2021-05-01T00:00:00",
          "2021-06-01T00:00:00",
          "2021-07-01T00:00:00",
          "2021-08-01T00:00:00",
          "2021-09-01T00:00:00",
          "2021-10-01T00:00:00",
          "2021-11-01T00:00:00",
          "2021-12-01T00:00:00",
          "2022-01-01T00:00:00",
          "2022-02-01T00:00:00",
          "2022-03-01T00:00:00",
          "2022-04-01T00:00:00",
          "2022-05-01T00:00:00",
          "2022-06-01T00:00:00",
          "2022-07-01T00:00:00",
          "2022-08-01T00:00:00",
          "2022-09-01T00:00:00",
          "2022-10-01T00:00:00",
          "2022-11-01T00:00:00",
          "2022-12-01T00:00:00",
          "2023-01-01T00:00:00",
          "2023-02-01T00:00:00",
          "2023-03-01T00:00:00",
          "2023-04-01T00:00:00",
          "2023-05-01T00:00:00",
          "2023-06-01T00:00:00",
          "2023-07-01T00:00:00",
          "2023-08-01T00:00:00",
          "2023-09-01T00:00:00",
          "2023-10-01T00:00:00",
          "2023-11-01T00:00:00",
          "2023-12-01T00:00:00",
          "2024-01-01T00:00:00",
          "2024-02-01T00:00:00",
          "2024-03-01T00:00:00",
          "2024-04-01T00:00:00",
          "2024-05-01T00:00:00",
          "2024-06-01T00:00:00",
          "2024-07-01T00:00:00",
          "2024-08-01T00:00:00",
          "2024-09-01T00:00:00",
          "2024-10-01T00:00:00",
          "2024-11-01T00:00:00",
          "2024-12-01T00:00:00"
         ],
         "y": [
          1.7064128595600676,
          1.606565143824027,
          1.611269035532995,
          1.6290355329949238,
          1.5870219966159054,
          1.5833671742808797,
          1.5785279187817258,
          1.543773265651438,
          1.5332148900169202,
          1.5537055837563452,
          1.5470389170896786,
          1.541082910321489,
          1.5875126903553298,
          1.5756006768189508,
          1.5147377326565143,
          1.5294754653130287,
          1.5602876480541454,
          1.5737901861252115,
          1.61414551607445,
          1.6304737732656516,
          1.6483248730964466,
          1.6531133671742808,
          1.7082064297800337,
          1.761387478849408,
          1.7482233502538072,
          1.7287140439932316,
          1.7392724196277496,
          1.8300338409475465,
          1.809746192893401,
          1.8771065989847715,
          1.7575465313028764,
          1.7199153976311337,
          1.786057529610829,
          1.773570219966159,
          1.7878680203045685,
          1.8436379018612519,
          1.9485786802030456,
          1.9472927241962774,
          2.039560067681895,
          2.019576988155668,
          2.0493739424703894,
          2.1201692047377327,
          1.9981218274111674,
          1.948917089678511,
          2.033637901861252,
          2.1047038917089678,
          2.1444331641285954,
          2.0097292724196274,
          2.0235363790186125,
          2.1211167512690356,
          2.1250084602368866,
          1.9578510998307952,
          2.0360236886632825,
          1.704027072758037,
          2.0677495769881555,
          2.073248730964467,
          2.099373942470389,
          2.038663282571912,
          2.1109137055837564,
          2.1286632825719116
         ]
        },
        {
         "marker": {
          "color": "rgba(255, 165, 0, 0.2)",
          "size": 15
         },
         "mode": "markers",
         "name": "Dry Season (Dec-May)",
         "type": "scatter",
         "x": [
          null
         ],
         "y": [
          null
         ]
        },
        {
         "marker": {
          "color": "rgba(0, 191, 255, 0.2)",
          "size": 15
         },
         "mode": "markers",
         "name": "Wet Season (Jun-Nov)",
         "type": "scatter",
         "x": [
          null
         ],
         "y": [
          null
         ]
        }
       ],
       "layout": {
        "annotations": [
         {
          "font": {
           "color": "black",
           "size": 10
          },
          "showarrow": false,
          "text": "Luzon ECQ Start",
          "textangle": -55,
          "x": "2020-03-01T00:00:00",
          "xanchor": "left",
          "xref": "x",
          "y": 0.8,
          "yanchor": "bottom"
         },
         {
          "font": {
           "color": "black",
           "size": 10
          },
          "showarrow": false,
          "text": "ECQ to MECQ",
          "textangle": -55,
          "x": "2021-10-01T00:00:00",
          "xanchor": "left",
          "xref": "x",
          "y": 0.8,
          "yanchor": "bottom"
         },
         {
          "font": {
           "color": "black",
           "size": 10
          },
          "showarrow": false,
          "text": "Russia-Ukraine War",
          "textangle": -55,
          "x": "2022-02-01T00:00:00",
          "xanchor": "left",
          "xref": "x",
          "y": 0.8,
          "yanchor": "bottom"
         },
         {
          "font": {
           "color": "black",
           "size": 10
          },
          "showarrow": false,
          "text": "ERC Order: Energy Costs",
          "textangle": -55,
          "x": "2024-06-01T00:00:00",
          "xanchor": "left",
          "xref": "x",
          "y": 0.8,
          "yanchor": "bottom"
         },
         {
          "align": "left",
          "font": {
           "color": "#666666",
           "size": 11
          },
          "showarrow": false,
          "text": "- Gas cost calculated with 17.95 km/L<br>- Electricity cost calculated with <br>  5.91 km/kWh and 400 kWh consumption",
          "x": 0.9,
          "xref": "paper",
          "y": -0.12,
          "yref": "paper"
         }
        ],
        "hovermode": "x unified",
        "legend": {
         "orientation": "h",
         "x": 1,
         "xanchor": "right",
         "y": 1.02,
         "yanchor": "bottom"
        },
        "paper_bgcolor": "white",
        "plot_bgcolor": "#FAFAFA",
        "shapes": [
         {
          "line": {
           "color": "black",
           "dash": "dash",
           "width": 2
          },
          "type": "line",
          "x0": "2020-03-01T00:00:00",
          "x1": "2020-03-01T00:00:00",
          "y0": 0.8,
          "y1": 4.5
         },
         {
          "line": {
           "color": "black",
           "dash": "dash",
           "width": 2
          },
          "type": "line",
          "x0": "2021-10-01T00:00:00",
          "x1": "2021-10-01T00:00:00",
          "y0": 0.8,
          "y1": 4.5
         },
         {
          "line": {
           "color": "black",
           "dash": "dash",
           "width": 2
          },
          "type": "line",
          "x0": "2022-02-01T00:00:00",
          "x1": "2022-02-01T00:00:00",
          "y0": 0.8,
          "y1": 4.5
         },
         {
          "line": {
           "color": "black",
           "dash": "dash",
           "width": 2
          },
          "type": "line",
          "x0": "2024-06-01T00:00:00",
          "x1": "2024-06-01T00:00:00",
          "y0": 0.8,
          "y1": 4.5
         },
         {
          "fillcolor": "rgba(255, 165, 0, 0.2)",
          "layer": "below",
          "line": {
           "width": 0
          },
          "name": "Dry Season (Dec-May)",
          "type": "rect",
          "x0": "2020-01-01T00:00:00",
          "x1": "2020-06-01T00:00:00",
          "xref": "x",
          "y0": 0,
          "y1": 1,
          "yref": "y domain"
         },
         {
          "fillcolor": "rgba(0, 191, 255, 0.2)",
          "layer": "below",
          "line": {
           "width": 0
          },
          "name": "Wet Season (Jun-Nov)",
          "type": "rect",
          "x0": "2020-01-01T00:00:00",
          "x1": "2019-12-01T00:00:00",
          "xref": "x",
          "y0": 0,
          "y1": 1,
          "yref": "y domain"
         },
         {
          "fillcolor": "rgba(255, 165, 0, 0.2)",
          "layer": "below",
          "line": {
           "width": 0
          },
          "name": "Dry Season (Dec-May)",
          "type": "rect",
          "x0": "2020-12-01T00:00:00",
          "x1": "2021-06-01T00:00:00",
          "xref": "x",
          "y0": 0,
          "y1": 1,
          "yref": "y domain"
         },
         {
          "fillcolor": "rgba(0, 191, 255, 0.2)",
          "layer": "below",
          "line": {
           "width": 0
          },
          "name": "Wet Season (Jun-Nov)",
          "type": "rect",
          "x0": "2020-06-01T00:00:00",
          "x1": "2020-12-01T00:00:00",
          "xref": "x",
          "y0": 0,
          "y1": 1,
          "yref": "y domain"
         },
         {
          "fillcolor": "rgba(255, 165, 0, 0.2)",
          "layer": "below",
          "line": {
           "width": 0
          },
          "name": "Dry Season (Dec-May)",
          "type": "rect",
          "x0": "2021-12-01T00:00:00",
          "x1": "2022-06-01T00:00:00",
          "xref": "x",
          "y0": 0,
          "y1": 1,
          "yref": "y domain"
         },
         {
          "fillcolor": "rgba(0, 191, 255, 0.2)",
          "layer": "below",
          "line": {
           "width": 0
          },
          "name": "Wet Season (Jun-Nov)",
          "type": "rect",
          "x0": "2021-06-01T00:00:00",
          "x1": "2021-12-01T00:00:00",
          "xref": "x",
          "y0": 0,
          "y1": 1,
          "yref": "y domain"
         },
         {
          "fillcolor": "rgba(255, 165, 0, 0.2)",
          "layer": "below",
          "line": {
           "width": 0
          },
          "name": "Dry Season (Dec-May)",
          "type": "rect",
          "x0": "2022-12-01T00:00:00",
          "x1": "2023-06-01T00:00:00",
          "xref": "x",
          "y0": 0,
          "y1": 1,
          "yref": "y domain"
         },
         {
          "fillcolor": "rgba(0, 191, 255, 0.2)",
          "layer": "below",
          "line": {
           "width": 0
          },
          "name": "Wet Season (Jun-Nov)",
          "type": "rect",
          "x0": "2022-06-01T00:00:00",
          "x1": "2022-12-01T00:00:00",
          "xref": "x",
          "y0": 0,
          "y1": 1,
          "yref": "y domain"
         },
         {
          "fillcolor": "rgba(255, 165, 0, 0.2)",
          "layer": "below",
          "line": {
           "width": 0
          },
          "name": "Dry Season (Dec-May)",
          "type": "rect",
          "x0": "2023-12-01T00:00:00",
          "x1": "2024-06-01T00:00:00",
          "xref": "x",
          "y0": 0,
          "y1": 1,
          "yref": "y domain"
         },
         {
          "fillcolor": "rgba(0, 191, 255, 0.2)",
          "layer": "below",
          "line": {
           "width": 0
          },
          "name": "Wet Season (Jun-Nov)",
          "type": "rect",
          "x0": "2023-06-01T00:00:00",
          "x1": "2023-12-01T00:00:00",
          "xref": "x",
          "y0": 0,
          "y1": 1,
          "yref": "y domain"
         },
         {
          "fillcolor": "rgba(255, 165, 0, 0.2)",
          "layer": "below",
          "line": {
           "width": 0
          },
          "name": "Dry Season (Dec-May)",
          "type": "rect",
          "x0": "2024-12-01T00:00:00",
          "x1": "2024-12-01T00:00:00",
          "xref": "x",
          "y0": 0,
          "y1": 1,
          "yref": "y domain"
         },
         {
          "fillcolor": "rgba(0, 191, 255, 0.2)",
          "layer": "below",
          "line": {
           "width": 0
          },
          "name": "Wet Season (Jun-Nov)",
          "type": "rect",
          "x0": "2024-06-01T00:00:00",
          "x1": "2024-12-01T00:00:00",
          "xref": "x",
          "y0": 0,
          "y1": 1,
          "yref": "y domain"
         },
         {
          "fillcolor": "rgba(255, 165, 0, 0.2)",
          "layer": "below",
          "line": {
           "width": 0
          },
          "name": "Dry Season (Dec-May)",
          "type": "rect",
          "x0": "2025-12-01T00:00:00",
          "x1": "2024-12-01T00:00:00",
          "xref": "x",
          "y0": 0,
          "y1": 1,
          "yref": "y domain"
         },
         {
          "fillcolor": "rgba(0, 191, 255, 0.2)",
          "layer": "below",
          "line": {
           "width": 0
          },
          "name": "Wet Season (Jun-Nov)",
          "type": "rect",
          "x0": "2025-06-01T00:00:00",
          "x1": "2024-12-01T00:00:00",
          "xref": "x",
          "y0": 0,
          "y1": 1,
          "yref": "y domain"
         }
        ],
        "template": {
         "data": {
          "bar": [
           {
            "error_x": {
             "color": "#2a3f5f"
            },
            "error_y": {
             "color": "#2a3f5f"
            },
            "marker": {
             "line": {
              "color": "#E5ECF6",
              "width": 0.5
             },
             "pattern": {
              "fillmode": "overlay",
              "size": 10,
              "solidity": 0.2
             }
            },
            "type": "bar"
           }
          ],
          "barpolar": [
           {
            "marker": {
             "line": {
              "color": "#E5ECF6",
              "width": 0.5
             },
             "pattern": {
              "fillmode": "overlay",
              "size": 10,
              "solidity": 0.2
             }
            },
            "type": "barpolar"
           }
          ],
          "carpet": [
           {
            "aaxis": {
             "endlinecolor": "#2a3f5f",
             "gridcolor": "white",
             "linecolor": "white",
             "minorgridcolor": "white",
             "startlinecolor": "#2a3f5f"
            },
            "baxis": {
             "endlinecolor": "#2a3f5f",
             "gridcolor": "white",
             "linecolor": "white",
             "minorgridcolor": "white",
             "startlinecolor": "#2a3f5f"
            },
            "type": "carpet"
           }
          ],
          "choropleth": [
           {
            "colorbar": {
             "outlinewidth": 0,
             "ticks": ""
            },
            "type": "choropleth"
           }
          ],
          "contour": [
           {
            "colorbar": {
             "outlinewidth": 0,
             "ticks": ""
            },
            "colorscale": [
             [
              0,
              "#0d0887"
             ],
             [
              0.1111111111111111,
              "#46039f"
             ],
             [
              0.2222222222222222,
              "#7201a8"
             ],
             [
              0.3333333333333333,
              "#9c179e"
             ],
             [
              0.4444444444444444,
              "#bd3786"
             ],
             [
              0.5555555555555556,
              "#d8576b"
             ],
             [
              0.6666666666666666,
              "#ed7953"
             ],
             [
              0.7777777777777778,
              "#fb9f3a"
             ],
             [
              0.8888888888888888,
              "#fdca26"
             ],
             [
              1,
              "#f0f921"
             ]
            ],
            "type": "contour"
           }
          ],
          "contourcarpet": [
           {
            "colorbar": {
             "outlinewidth": 0,
             "ticks": ""
            },
            "type": "contourcarpet"
           }
          ],
          "heatmap": [
           {
            "colorbar": {
             "outlinewidth": 0,
             "ticks": ""
            },
            "colorscale": [
             [
              0,
              "#0d0887"
             ],
             [
              0.1111111111111111,
              "#46039f"
             ],
             [
              0.2222222222222222,
              "#7201a8"
             ],
             [
              0.3333333333333333,
              "#9c179e"
             ],
             [
              0.4444444444444444,
              "#bd3786"
             ],
             [
              0.5555555555555556,
              "#d8576b"
             ],
             [
              0.6666666666666666,
              "#ed7953"
             ],
             [
              0.7777777777777778,
              "#fb9f3a"
             ],
             [
              0.8888888888888888,
              "#fdca26"
             ],
             [
              1,
              "#f0f921"
             ]
            ],
            "type": "heatmap"
           }
          ],
          "heatmapgl": [
           {
            "colorbar": {
             "outlinewidth": 0,
             "ticks": ""
            },
            "colorscale": [
             [
              0,
              "#0d0887"
             ],
             [
              0.1111111111111111,
              "#46039f"
             ],
             [
              0.2222222222222222,
              "#7201a8"
             ],
             [
              0.3333333333333333,
              "#9c179e"
             ],
             [
              0.4444444444444444,
              "#bd3786"
             ],
             [
              0.5555555555555556,
              "#d8576b"
             ],
             [
              0.6666666666666666,
              "#ed7953"
             ],
             [
              0.7777777777777778,
              "#fb9f3a"
             ],
             [
              0.8888888888888888,
              "#fdca26"
             ],
             [
              1,
              "#f0f921"
             ]
            ],
            "type": "heatmapgl"
           }
          ],
          "histogram": [
           {
            "marker": {
             "pattern": {
              "fillmode": "overlay",
              "size": 10,
              "solidity": 0.2
             }
            },
            "type": "histogram"
           }
          ],
          "histogram2d": [
           {
            "colorbar": {
             "outlinewidth": 0,
             "ticks": ""
            },
            "colorscale": [
             [
              0,
              "#0d0887"
             ],
             [
              0.1111111111111111,
              "#46039f"
             ],
             [
              0.2222222222222222,
              "#7201a8"
             ],
             [
              0.3333333333333333,
              "#9c179e"
             ],
             [
              0.4444444444444444,
              "#bd3786"
             ],
             [
              0.5555555555555556,
              "#d8576b"
             ],
             [
              0.6666666666666666,
              "#ed7953"
             ],
             [
              0.7777777777777778,
              "#fb9f3a"
             ],
             [
              0.8888888888888888,
              "#fdca26"
             ],
             [
              1,
              "#f0f921"
             ]
            ],
            "type": "histogram2d"
           }
          ],
          "histogram2dcontour": [
           {
            "colorbar": {
             "outlinewidth": 0,
             "ticks": ""
            },
            "colorscale": [
             [
              0,
              "#0d0887"
             ],
             [
              0.1111111111111111,
              "#46039f"
             ],
             [
              0.2222222222222222,
              "#7201a8"
             ],
             [
              0.3333333333333333,
              "#9c179e"
             ],
             [
              0.4444444444444444,
              "#bd3786"
             ],
             [
              0.5555555555555556,
              "#d8576b"
             ],
             [
              0.6666666666666666,
              "#ed7953"
             ],
             [
              0.7777777777777778,
              "#fb9f3a"
             ],
             [
              0.8888888888888888,
              "#fdca26"
             ],
             [
              1,
              "#f0f921"
             ]
            ],
            "type": "histogram2dcontour"
           }
          ],
          "mesh3d": [
           {
            "colorbar": {
             "outlinewidth": 0,
             "ticks": ""
            },
            "type": "mesh3d"
           }
          ],
          "parcoords": [
           {
            "line": {
             "colorbar": {
              "outlinewidth": 0,
              "ticks": ""
             }
            },
            "type": "parcoords"
           }
          ],
          "pie": [
           {
            "automargin": true,
            "type": "pie"
           }
          ],
          "scatter": [
           {
            "fillpattern": {
             "fillmode": "overlay",
             "size": 10,
             "solidity": 0.2
            },
            "type": "scatter"
           }
          ],
          "scatter3d": [
           {
            "line": {
             "colorbar": {
              "outlinewidth": 0,
              "ticks": ""
             }
            },
            "marker": {
             "colorbar": {
              "outlinewidth": 0,
              "ticks": ""
             }
            },
            "type": "scatter3d"
           }
          ],
          "scattercarpet": [
           {
            "marker": {
             "colorbar": {
              "outlinewidth": 0,
              "ticks": ""
             }
            },
            "type": "scattercarpet"
           }
          ],
          "scattergeo": [
           {
            "marker": {
             "colorbar": {
              "outlinewidth": 0,
              "ticks": ""
             }
            },
            "type": "scattergeo"
           }
          ],
          "scattergl": [
           {
            "marker": {
             "colorbar": {
              "outlinewidth": 0,
              "ticks": ""
             }
            },
            "type": "scattergl"
           }
          ],
          "scattermapbox": [
           {
            "marker": {
             "colorbar": {
              "outlinewidth": 0,
              "ticks": ""
             }
            },
            "type": "scattermapbox"
           }
          ],
          "scatterpolar": [
           {
            "marker": {
             "colorbar": {
              "outlinewidth": 0,
              "ticks": ""
             }
            },
            "type": "scatterpolar"
           }
          ],
          "scatterpolargl": [
           {
            "marker": {
             "colorbar": {
              "outlinewidth": 0,
              "ticks": ""
             }
            },
            "type": "scatterpolargl"
           }
          ],
          "scatterternary": [
           {
            "marker": {
             "colorbar": {
              "outlinewidth": 0,
              "ticks": ""
             }
            },
            "type": "scatterternary"
           }
          ],
          "surface": [
           {
            "colorbar": {
             "outlinewidth": 0,
             "ticks": ""
            },
            "colorscale": [
             [
              0,
              "#0d0887"
             ],
             [
              0.1111111111111111,
              "#46039f"
             ],
             [
              0.2222222222222222,
              "#7201a8"
             ],
             [
              0.3333333333333333,
              "#9c179e"
             ],
             [
              0.4444444444444444,
              "#bd3786"
             ],
             [
              0.5555555555555556,
              "#d8576b"
             ],
             [
              0.6666666666666666,
              "#ed7953"
             ],
             [
              0.7777777777777778,
              "#fb9f3a"
             ],
             [
              0.8888888888888888,
              "#fdca26"
             ],
             [
              1,
              "#f0f921"
             ]
            ],
            "type": "surface"
           }
          ],
          "table": [
           {
            "cells": {
             "fill": {
              "color": "#EBF0F8"
             },
             "line": {
              "color": "white"
             }
            },
            "header": {
             "fill": {
              "color": "#C8D4E3"
             },
             "line": {
              "color": "white"
             }
            },
            "type": "table"
           }
          ]
         },
         "layout": {
          "annotationdefaults": {
           "arrowcolor": "#2a3f5f",
           "arrowhead": 0,
           "arrowwidth": 1
          },
          "autotypenumbers": "strict",
          "coloraxis": {
           "colorbar": {
            "outlinewidth": 0,
            "ticks": ""
           }
          },
          "colorscale": {
           "diverging": [
            [
             0,
             "#8e0152"
            ],
            [
             0.1,
             "#c51b7d"
            ],
            [
             0.2,
             "#de77ae"
            ],
            [
             0.3,
             "#f1b6da"
            ],
            [
             0.4,
             "#fde0ef"
            ],
            [
             0.5,
             "#f7f7f7"
            ],
            [
             0.6,
             "#e6f5d0"
            ],
            [
             0.7,
             "#b8e186"
            ],
            [
             0.8,
             "#7fbc41"
            ],
            [
             0.9,
             "#4d9221"
            ],
            [
             1,
             "#276419"
            ]
           ],
           "sequential": [
            [
             0,
             "#0d0887"
            ],
            [
             0.1111111111111111,
             "#46039f"
            ],
            [
             0.2222222222222222,
             "#7201a8"
            ],
            [
             0.3333333333333333,
             "#9c179e"
            ],
            [
             0.4444444444444444,
             "#bd3786"
            ],
            [
             0.5555555555555556,
             "#d8576b"
            ],
            [
             0.6666666666666666,
             "#ed7953"
            ],
            [
             0.7777777777777778,
             "#fb9f3a"
            ],
            [
             0.8888888888888888,
             "#fdca26"
            ],
            [
             1,
             "#f0f921"
            ]
           ],
           "sequentialminus": [
            [
             0,
             "#0d0887"
            ],
            [
             0.1111111111111111,
             "#46039f"
            ],
            [
             0.2222222222222222,
             "#7201a8"
            ],
            [
             0.3333333333333333,
             "#9c179e"
            ],
            [
             0.4444444444444444,
             "#bd3786"
            ],
            [
             0.5555555555555556,
             "#d8576b"
            ],
            [
             0.6666666666666666,
             "#ed7953"
            ],
            [
             0.7777777777777778,
             "#fb9f3a"
            ],
            [
             0.8888888888888888,
             "#fdca26"
            ],
            [
             1,
             "#f0f921"
            ]
           ]
          },
          "colorway": [
           "#636efa",
           "#EF553B",
           "#00cc96",
           "#ab63fa",
           "#FFA15A",
           "#19d3f3",
           "#FF6692",
           "#B6E880",
           "#FF97FF",
           "#FECB52"
          ],
          "font": {
           "color": "#2a3f5f"
          },
          "geo": {
           "bgcolor": "white",
           "lakecolor": "white",
           "landcolor": "#E5ECF6",
           "showlakes": true,
           "showland": true,
           "subunitcolor": "white"
          },
          "hoverlabel": {
           "align": "left"
          },
          "hovermode": "closest",
          "mapbox": {
           "style": "light"
          },
          "paper_bgcolor": "white",
          "plot_bgcolor": "#E5ECF6",
          "polar": {
           "angularaxis": {
            "gridcolor": "white",
            "linecolor": "white",
            "ticks": ""
           },
           "bgcolor": "#E5ECF6",
           "radialaxis": {
            "gridcolor": "white",
            "linecolor": "white",
            "ticks": ""
           }
          },
          "scene": {
           "xaxis": {
            "backgroundcolor": "#E5ECF6",
            "gridcolor": "white",
            "gridwidth": 2,
            "linecolor": "white",
            "showbackground": true,
            "ticks": "",
            "zerolinecolor": "white"
           },
           "yaxis": {
            "backgroundcolor": "#E5ECF6",
            "gridcolor": "white",
            "gridwidth": 2,
            "linecolor": "white",
            "showbackground": true,
            "ticks": "",
            "zerolinecolor": "white"
           },
           "zaxis": {
            "backgroundcolor": "#E5ECF6",
            "gridcolor": "white",
            "gridwidth": 2,
            "linecolor": "white",
            "showbackground": true,
            "ticks": "",
            "zerolinecolor": "white"
           }
          },
          "shapedefaults": {
           "line": {
            "color": "#2a3f5f"
           }
          },
          "ternary": {
           "aaxis": {
            "gridcolor": "white",
            "linecolor": "white",
            "ticks": ""
           },
           "baxis": {
            "gridcolor": "white",
            "linecolor": "white",
            "ticks": ""
           },
           "bgcolor": "#E5ECF6",
           "caxis": {
            "gridcolor": "white",
            "linecolor": "white",
            "ticks": ""
           }
          },
          "title": {
           "x": 0.05
          },
          "xaxis": {
           "automargin": true,
           "gridcolor": "white",
           "linecolor": "white",
           "ticks": "",
           "title": {
            "standoff": 15
           },
           "zerolinecolor": "white",
           "zerolinewidth": 2
          },
          "yaxis": {
           "automargin": true,
           "gridcolor": "white",
           "linecolor": "white",
           "ticks": "",
           "title": {
            "standoff": 15
           },
           "zerolinecolor": "white",
           "zerolinewidth": 2
          }
         }
        },
        "title": {
         "font": {
          "color": "#333333",
          "size": 18
         },
         "text": "<b>Gas vs. Electricity Cost per Kilometer (2020-2025)</b>",
         "x": 0.5,
         "xanchor": "center",
         "y": 0.95
        },
        "xaxis": {
         "dtick": "M12",
         "gridcolor": "rgba(0,0,0,0.2)",
         "range": [
          "2020-01-01T00:00:00",
          "2024-12-01T00:00:00"
         ],
         "showgrid": true,
         "tickformat": "%Y",
         "title": {
          "text": "Date"
         }
        },
        "yaxis": {
         "gridcolor": "rgba(0,0,0,0.2)",
         "showgrid": true,
         "title": {
          "text": "Cost per km (PHP)"
         }
        }
       }
      }
     },
     "metadata": {},
     "output_type": "display_data"
    }
   ],
   "source": [
    "plot_comparison_dataframe(AVG_HYBRID, AVG_BEV, BASE_KWH, make_comparison_dataframe(AVG_HYBRID, AVG_BEV, BASE_KWH))"
   ]
  },
  {
   "cell_type": "markdown",
   "id": "9044e311",
   "metadata": {},
   "source": [
    "Statistical Test"
   ]
  },
  {
   "cell_type": "code",
   "execution_count": 140,
   "id": "28217897",
   "metadata": {},
   "outputs": [
    {
     "name": "stdout",
     "output_type": "stream",
     "text": [
      "HTML table saved to tables/kruskal.html\n"
     ]
    }
   ],
   "source": [
    "def add_season_column(df):\n",
    "    def assign_season(date):\n",
    "        month = date.month\n",
    "        if month == 12 or (1 <= month <= 5):  # November to May\n",
    "            return \"Dry\"\n",
    "        else:\n",
    "            return \"Wet\"\n",
    "    \n",
    "    for date in df['Date']:\n",
    "        df['Season'] = df['Date'].apply(assign_season)\n",
    "        return df\n",
    "\n",
    "def seasonality_test(_df: pd.DataFrame, column_to_check: str, time: str):\n",
    "    res = []\n",
    "\n",
    "    df = add_season_column(_df.copy())\n",
    "    df = df[df['Date'].dt.year != 2025]\n",
    "    \n",
    "    if time.lower() == 'month':\n",
    "        for i in df['Date'].dt.month.unique():\n",
    "            time = df['Date'].dt.month\n",
    "            res.append(df[time == i][column_to_check].values)\n",
    "    elif time.lower() == 'year':\n",
    "        for i in df['Date'].dt.year.unique():\n",
    "            time = df['Date'].dt.year\n",
    "            res.append(df[time == i][column_to_check].values)\n",
    "    else:\n",
    "        for i in df['Season'].unique():\n",
    "            season = df['Season']\n",
    "            res.append(df[season == i][column_to_check].values)\n",
    "\n",
    "    \n",
    "    return stats.kruskal(*res)\n",
    "\n",
    "def save_all_kruskal(time: str):\n",
    "    r1 = seasonality_test(ron95_data, 'Average Price', time)\n",
    "    r2 = seasonality_test(get_specific_kwh_df(300), 'Total Bill', time)\n",
    "    r3 = seasonality_test(make_comparison_dataframe(40, 7, 300), 'Difference', time)\n",
    "    df = pd.DataFrame({\n",
    "        'Seasonality': [time, time, time],\n",
    "        'Dataset': ['Gas Avg Price', 'Meralco Rates', f'Gas VS Electricity Cost/km Difference'],\n",
    "        'H Statistic': [r1.statistic, r2.statistic, r3.statistic],\n",
    "        'P Value': [r1.pvalue, r2.pvalue, r3.pvalue],\n",
    "    })\n",
    "    return df\n",
    "\n",
    "stat_results = pd.concat([save_all_kruskal('Season'), \n",
    "                          save_all_kruskal('Month'), \n",
    "                          save_all_kruskal('Year')], ignore_index=True)\n",
    "\n",
    "output_html_path = \"tables/kruskal.html\"\n",
    "with open(output_html_path, 'w', encoding='utf-8') as f:\n",
    "    f.write(stat_results.to_html(index=False, escape=True))\n",
    "    print(f\"HTML table saved to {output_html_path}\")"
   ]
  },
  {
   "cell_type": "markdown",
   "id": "72ac0354",
   "metadata": {},
   "source": [
    "Nutshell plot"
   ]
  },
  {
   "cell_type": "code",
   "execution_count": 141,
   "id": "a5ca321c",
   "metadata": {},
   "outputs": [
    {
     "data": {
      "application/vnd.plotly.v1+json": {
       "config": {
        "plotlyServerURL": "https://plot.ly"
       },
       "data": [
        {
         "line": {
          "color": "#dc267f",
          "width": 3
         },
         "marker": {
          "size": 12
         },
         "mode": "lines+markers",
         "name": "",
         "type": "scatter",
         "x": [
          "2020-01-01T00:00:00",
          "2020-02-01T00:00:00",
          "2020-03-01T00:00:00",
          "2020-04-01T00:00:00",
          "2020-05-01T00:00:00",
          "2020-06-01T00:00:00",
          "2020-07-01T00:00:00",
          "2020-08-01T00:00:00",
          "2020-09-01T00:00:00",
          "2020-10-01T00:00:00",
          "2020-11-01T00:00:00",
          "2020-12-01T00:00:00",
          "2021-01-01T00:00:00",
          "2021-02-01T00:00:00",
          "2021-03-01T00:00:00",
          "2021-04-01T00:00:00",
          "2021-05-01T00:00:00",
          "2021-06-01T00:00:00",
          "2021-07-01T00:00:00",
          "2021-08-01T00:00:00",
          "2021-09-01T00:00:00",
          "2021-10-01T00:00:00",
          "2021-11-01T00:00:00",
          "2021-12-01T00:00:00",
          "2022-01-01T00:00:00",
          "2022-02-01T00:00:00",
          "2022-03-01T00:00:00",
          "2022-04-01T00:00:00",
          "2022-05-01T00:00:00",
          "2022-06-01T00:00:00",
          "2022-07-01T00:00:00",
          "2022-08-01T00:00:00",
          "2022-09-01T00:00:00",
          "2022-10-01T00:00:00",
          "2022-11-01T00:00:00",
          "2022-12-01T00:00:00",
          "2023-01-01T00:00:00",
          "2023-02-01T00:00:00",
          "2023-03-01T00:00:00",
          "2023-04-01T00:00:00",
          "2023-05-01T00:00:00",
          "2023-06-01T00:00:00",
          "2023-07-01T00:00:00",
          "2023-08-01T00:00:00",
          "2023-09-01T00:00:00",
          "2023-10-01T00:00:00",
          "2023-11-01T00:00:00",
          "2023-12-01T00:00:00",
          "2024-01-01T00:00:00",
          "2024-02-01T00:00:00",
          "2024-03-01T00:00:00",
          "2024-04-01T00:00:00",
          "2024-05-01T00:00:00",
          "2024-06-01T00:00:00",
          "2024-07-01T00:00:00",
          "2024-08-01T00:00:00",
          "2024-09-01T00:00:00",
          "2024-10-01T00:00:00",
          "2024-11-01T00:00:00",
          "2024-12-01T00:00:00"
         ],
         "y": [
          2.867409470752089,
          2.7389972144846797,
          2.512534818941504,
          2.0866295264623957,
          2.248189415041783,
          2.4869080779944293,
          2.6565459610027857,
          2.6869080779944294,
          2.6175487465181058,
          2.5991643454038997,
          2.4434540389972144,
          2.473816155988858,
          2.567966573816156,
          2.6420612813370474,
          2.776323119777159,
          2.7637883008356545,
          2.816991643454039,
          2.9008356545961003,
          3.0610027855153206,
          3.1245125348189413,
          3.1376044568245125,
          3.3590529247910865,
          3.4501392757660163,
          3.26016713091922,
          3.396378830083566,
          3.5715877437325907,
          4.001671309192201,
          4.0169916434540385,
          4.233983286908078,
          4.550974930362117,
          4.278272980501392,
          3.979387186629527,
          3.857381615598886,
          3.73732590529248,
          3.7442896935933154,
          3.5579387186629523,
          3.6690807799442897,
          3.637883008356546,
          3.5373259052924793,
          3.6417827298050143,
          3.4688022284122564,
          3.495543175487465,
          3.544289693593315,
          3.850696378830084,
          4.031754874651811,
          3.811420612813371,
          3.701114206128134,
          3.5955431754874647,
          3.625348189415042,
          3.7766016713091926,
          3.7885793871866293,
          3.9456824512534823,
          3.8384401114206135,
          3.7632311977715878,
          3.8749303621169924,
          3.56991643454039,
          3.445961002785516,
          3.410306406685237,
          3.4428969359331476,
          3.4899721448467966
         ]
        },
        {
         "line": {
          "color": "#648fff",
          "width": 3
         },
         "marker": {
          "size": 12
         },
         "mode": "lines+markers",
         "name": "",
         "type": "scatter",
         "x": [
          "2020-01-01T00:00:00",
          "2020-02-01T00:00:00",
          "2020-03-01T00:00:00",
          "2020-04-01T00:00:00",
          "2020-05-01T00:00:00",
          "2020-06-01T00:00:00",
          "2020-07-01T00:00:00",
          "2020-08-01T00:00:00",
          "2020-09-01T00:00:00",
          "2020-10-01T00:00:00",
          "2020-11-01T00:00:00",
          "2020-12-01T00:00:00",
          "2021-01-01T00:00:00",
          "2021-02-01T00:00:00",
          "2021-03-01T00:00:00",
          "2021-04-01T00:00:00",
          "2021-05-01T00:00:00",
          "2021-06-01T00:00:00",
          "2021-07-01T00:00:00",
          "2021-08-01T00:00:00",
          "2021-09-01T00:00:00",
          "2021-10-01T00:00:00",
          "2021-11-01T00:00:00",
          "2021-12-01T00:00:00",
          "2022-01-01T00:00:00",
          "2022-02-01T00:00:00",
          "2022-03-01T00:00:00",
          "2022-04-01T00:00:00",
          "2022-05-01T00:00:00",
          "2022-06-01T00:00:00",
          "2022-07-01T00:00:00",
          "2022-08-01T00:00:00",
          "2022-09-01T00:00:00",
          "2022-10-01T00:00:00",
          "2022-11-01T00:00:00",
          "2022-12-01T00:00:00",
          "2023-01-01T00:00:00",
          "2023-02-01T00:00:00",
          "2023-03-01T00:00:00",
          "2023-04-01T00:00:00",
          "2023-05-01T00:00:00",
          "2023-06-01T00:00:00",
          "2023-07-01T00:00:00",
          "2023-08-01T00:00:00",
          "2023-09-01T00:00:00",
          "2023-10-01T00:00:00",
          "2023-11-01T00:00:00",
          "2023-12-01T00:00:00",
          "2024-01-01T00:00:00",
          "2024-02-01T00:00:00",
          "2024-03-01T00:00:00",
          "2024-04-01T00:00:00",
          "2024-05-01T00:00:00",
          "2024-06-01T00:00:00",
          "2024-07-01T00:00:00",
          "2024-08-01T00:00:00",
          "2024-09-01T00:00:00",
          "2024-10-01T00:00:00",
          "2024-11-01T00:00:00",
          "2024-12-01T00:00:00"
         ],
         "y": [
          1.7064128595600676,
          1.606565143824027,
          1.611269035532995,
          1.6290355329949238,
          1.5870219966159054,
          1.5833671742808797,
          1.5785279187817258,
          1.543773265651438,
          1.5332148900169202,
          1.5537055837563452,
          1.5470389170896786,
          1.541082910321489,
          1.5875126903553298,
          1.5756006768189508,
          1.5147377326565143,
          1.5294754653130287,
          1.5602876480541454,
          1.5737901861252115,
          1.61414551607445,
          1.6304737732656516,
          1.6483248730964466,
          1.6531133671742808,
          1.7082064297800337,
          1.761387478849408,
          1.7482233502538072,
          1.7287140439932316,
          1.7392724196277496,
          1.8300338409475465,
          1.809746192893401,
          1.8771065989847715,
          1.7575465313028764,
          1.7199153976311337,
          1.786057529610829,
          1.773570219966159,
          1.7878680203045685,
          1.8436379018612519,
          1.9485786802030456,
          1.9472927241962774,
          2.039560067681895,
          2.019576988155668,
          2.0493739424703894,
          2.1201692047377327,
          1.9981218274111674,
          1.948917089678511,
          2.033637901861252,
          2.1047038917089678,
          2.1444331641285954,
          2.0097292724196274,
          2.0235363790186125,
          2.1211167512690356,
          2.1250084602368866,
          1.9578510998307952,
          2.0360236886632825,
          1.704027072758037,
          2.0677495769881555,
          2.073248730964467,
          2.099373942470389,
          2.038663282571912,
          2.1109137055837564,
          2.1286632825719116
         ]
        }
       ],
       "layout": {
        "font": {
         "color": "#FFFFFF",
         "family": "Roboto",
         "size": 20
        },
        "height": 900,
        "hovermode": "x unified",
        "paper_bgcolor": "#1B181C",
        "plot_bgcolor": "#1B181C",
        "shapes": [
         {
          "line": {
           "color": "#ffb000",
           "dash": "dash",
           "width": 3
          },
          "type": "line",
          "x0": "2020-03-01T00:00:00",
          "x1": "2020-03-01T00:00:00",
          "y1": 4.550974930362117
         },
         {
          "line": {
           "color": "#ffb000",
           "dash": "dash",
           "width": 3
          },
          "type": "line",
          "x0": "2021-10-01T00:00:00",
          "x1": "2021-10-01T00:00:00",
          "y1": 4.550974930362117
         },
         {
          "line": {
           "color": "#ffb000",
           "dash": "dash",
           "width": 3
          },
          "type": "line",
          "x0": "2022-02-01T00:00:00",
          "x1": "2022-02-01T00:00:00",
          "y1": 4.550974930362117
         },
         {
          "line": {
           "color": "rgba(211, 211, 211, 0.5)",
           "width": 2
          },
          "type": "line",
          "x0": "2020-01-01T00:00:00",
          "x1": "2020-01-01T00:00:00",
          "xref": "x",
          "y0": 0.2,
          "y1": 4.550974930362117,
          "yref": "y"
         },
         {
          "line": {
           "color": "rgba(211, 211, 211, 0.5)",
           "width": 2
          },
          "type": "line",
          "x0": "2021-01-01T00:00:00",
          "x1": "2021-01-01T00:00:00",
          "xref": "x",
          "y0": 0.2,
          "y1": 4.550974930362117,
          "yref": "y"
         },
         {
          "line": {
           "color": "rgba(211, 211, 211, 0.5)",
           "width": 2
          },
          "type": "line",
          "x0": "2022-01-01T00:00:00",
          "x1": "2022-01-01T00:00:00",
          "xref": "x",
          "y0": 0.2,
          "y1": 4.550974930362117,
          "yref": "y"
         },
         {
          "line": {
           "color": "rgba(211, 211, 211, 0.5)",
           "width": 2
          },
          "type": "line",
          "x0": "2023-01-01T00:00:00",
          "x1": "2023-01-01T00:00:00",
          "xref": "x",
          "y0": 0.2,
          "y1": 4.550974930362117,
          "yref": "y"
         },
         {
          "line": {
           "color": "rgba(211, 211, 211, 0.5)",
           "width": 2
          },
          "type": "line",
          "x0": "2024-01-01T00:00:00",
          "x1": "2024-01-01T00:00:00",
          "xref": "x",
          "y0": 0.2,
          "y1": 4.550974930362117,
          "yref": "y"
         }
        ],
        "template": {
         "data": {
          "bar": [
           {
            "error_x": {
             "color": "#2a3f5f"
            },
            "error_y": {
             "color": "#2a3f5f"
            },
            "marker": {
             "line": {
              "color": "#E5ECF6",
              "width": 0.5
             },
             "pattern": {
              "fillmode": "overlay",
              "size": 10,
              "solidity": 0.2
             }
            },
            "type": "bar"
           }
          ],
          "barpolar": [
           {
            "marker": {
             "line": {
              "color": "#E5ECF6",
              "width": 0.5
             },
             "pattern": {
              "fillmode": "overlay",
              "size": 10,
              "solidity": 0.2
             }
            },
            "type": "barpolar"
           }
          ],
          "carpet": [
           {
            "aaxis": {
             "endlinecolor": "#2a3f5f",
             "gridcolor": "white",
             "linecolor": "white",
             "minorgridcolor": "white",
             "startlinecolor": "#2a3f5f"
            },
            "baxis": {
             "endlinecolor": "#2a3f5f",
             "gridcolor": "white",
             "linecolor": "white",
             "minorgridcolor": "white",
             "startlinecolor": "#2a3f5f"
            },
            "type": "carpet"
           }
          ],
          "choropleth": [
           {
            "colorbar": {
             "outlinewidth": 0,
             "ticks": ""
            },
            "type": "choropleth"
           }
          ],
          "contour": [
           {
            "colorbar": {
             "outlinewidth": 0,
             "ticks": ""
            },
            "colorscale": [
             [
              0,
              "#0d0887"
             ],
             [
              0.1111111111111111,
              "#46039f"
             ],
             [
              0.2222222222222222,
              "#7201a8"
             ],
             [
              0.3333333333333333,
              "#9c179e"
             ],
             [
              0.4444444444444444,
              "#bd3786"
             ],
             [
              0.5555555555555556,
              "#d8576b"
             ],
             [
              0.6666666666666666,
              "#ed7953"
             ],
             [
              0.7777777777777778,
              "#fb9f3a"
             ],
             [
              0.8888888888888888,
              "#fdca26"
             ],
             [
              1,
              "#f0f921"
             ]
            ],
            "type": "contour"
           }
          ],
          "contourcarpet": [
           {
            "colorbar": {
             "outlinewidth": 0,
             "ticks": ""
            },
            "type": "contourcarpet"
           }
          ],
          "heatmap": [
           {
            "colorbar": {
             "outlinewidth": 0,
             "ticks": ""
            },
            "colorscale": [
             [
              0,
              "#0d0887"
             ],
             [
              0.1111111111111111,
              "#46039f"
             ],
             [
              0.2222222222222222,
              "#7201a8"
             ],
             [
              0.3333333333333333,
              "#9c179e"
             ],
             [
              0.4444444444444444,
              "#bd3786"
             ],
             [
              0.5555555555555556,
              "#d8576b"
             ],
             [
              0.6666666666666666,
              "#ed7953"
             ],
             [
              0.7777777777777778,
              "#fb9f3a"
             ],
             [
              0.8888888888888888,
              "#fdca26"
             ],
             [
              1,
              "#f0f921"
             ]
            ],
            "type": "heatmap"
           }
          ],
          "heatmapgl": [
           {
            "colorbar": {
             "outlinewidth": 0,
             "ticks": ""
            },
            "colorscale": [
             [
              0,
              "#0d0887"
             ],
             [
              0.1111111111111111,
              "#46039f"
             ],
             [
              0.2222222222222222,
              "#7201a8"
             ],
             [
              0.3333333333333333,
              "#9c179e"
             ],
             [
              0.4444444444444444,
              "#bd3786"
             ],
             [
              0.5555555555555556,
              "#d8576b"
             ],
             [
              0.6666666666666666,
              "#ed7953"
             ],
             [
              0.7777777777777778,
              "#fb9f3a"
             ],
             [
              0.8888888888888888,
              "#fdca26"
             ],
             [
              1,
              "#f0f921"
             ]
            ],
            "type": "heatmapgl"
           }
          ],
          "histogram": [
           {
            "marker": {
             "pattern": {
              "fillmode": "overlay",
              "size": 10,
              "solidity": 0.2
             }
            },
            "type": "histogram"
           }
          ],
          "histogram2d": [
           {
            "colorbar": {
             "outlinewidth": 0,
             "ticks": ""
            },
            "colorscale": [
             [
              0,
              "#0d0887"
             ],
             [
              0.1111111111111111,
              "#46039f"
             ],
             [
              0.2222222222222222,
              "#7201a8"
             ],
             [
              0.3333333333333333,
              "#9c179e"
             ],
             [
              0.4444444444444444,
              "#bd3786"
             ],
             [
              0.5555555555555556,
              "#d8576b"
             ],
             [
              0.6666666666666666,
              "#ed7953"
             ],
             [
              0.7777777777777778,
              "#fb9f3a"
             ],
             [
              0.8888888888888888,
              "#fdca26"
             ],
             [
              1,
              "#f0f921"
             ]
            ],
            "type": "histogram2d"
           }
          ],
          "histogram2dcontour": [
           {
            "colorbar": {
             "outlinewidth": 0,
             "ticks": ""
            },
            "colorscale": [
             [
              0,
              "#0d0887"
             ],
             [
              0.1111111111111111,
              "#46039f"
             ],
             [
              0.2222222222222222,
              "#7201a8"
             ],
             [
              0.3333333333333333,
              "#9c179e"
             ],
             [
              0.4444444444444444,
              "#bd3786"
             ],
             [
              0.5555555555555556,
              "#d8576b"
             ],
             [
              0.6666666666666666,
              "#ed7953"
             ],
             [
              0.7777777777777778,
              "#fb9f3a"
             ],
             [
              0.8888888888888888,
              "#fdca26"
             ],
             [
              1,
              "#f0f921"
             ]
            ],
            "type": "histogram2dcontour"
           }
          ],
          "mesh3d": [
           {
            "colorbar": {
             "outlinewidth": 0,
             "ticks": ""
            },
            "type": "mesh3d"
           }
          ],
          "parcoords": [
           {
            "line": {
             "colorbar": {
              "outlinewidth": 0,
              "ticks": ""
             }
            },
            "type": "parcoords"
           }
          ],
          "pie": [
           {
            "automargin": true,
            "type": "pie"
           }
          ],
          "scatter": [
           {
            "fillpattern": {
             "fillmode": "overlay",
             "size": 10,
             "solidity": 0.2
            },
            "type": "scatter"
           }
          ],
          "scatter3d": [
           {
            "line": {
             "colorbar": {
              "outlinewidth": 0,
              "ticks": ""
             }
            },
            "marker": {
             "colorbar": {
              "outlinewidth": 0,
              "ticks": ""
             }
            },
            "type": "scatter3d"
           }
          ],
          "scattercarpet": [
           {
            "marker": {
             "colorbar": {
              "outlinewidth": 0,
              "ticks": ""
             }
            },
            "type": "scattercarpet"
           }
          ],
          "scattergeo": [
           {
            "marker": {
             "colorbar": {
              "outlinewidth": 0,
              "ticks": ""
             }
            },
            "type": "scattergeo"
           }
          ],
          "scattergl": [
           {
            "marker": {
             "colorbar": {
              "outlinewidth": 0,
              "ticks": ""
             }
            },
            "type": "scattergl"
           }
          ],
          "scattermapbox": [
           {
            "marker": {
             "colorbar": {
              "outlinewidth": 0,
              "ticks": ""
             }
            },
            "type": "scattermapbox"
           }
          ],
          "scatterpolar": [
           {
            "marker": {
             "colorbar": {
              "outlinewidth": 0,
              "ticks": ""
             }
            },
            "type": "scatterpolar"
           }
          ],
          "scatterpolargl": [
           {
            "marker": {
             "colorbar": {
              "outlinewidth": 0,
              "ticks": ""
             }
            },
            "type": "scatterpolargl"
           }
          ],
          "scatterternary": [
           {
            "marker": {
             "colorbar": {
              "outlinewidth": 0,
              "ticks": ""
             }
            },
            "type": "scatterternary"
           }
          ],
          "surface": [
           {
            "colorbar": {
             "outlinewidth": 0,
             "ticks": ""
            },
            "colorscale": [
             [
              0,
              "#0d0887"
             ],
             [
              0.1111111111111111,
              "#46039f"
             ],
             [
              0.2222222222222222,
              "#7201a8"
             ],
             [
              0.3333333333333333,
              "#9c179e"
             ],
             [
              0.4444444444444444,
              "#bd3786"
             ],
             [
              0.5555555555555556,
              "#d8576b"
             ],
             [
              0.6666666666666666,
              "#ed7953"
             ],
             [
              0.7777777777777778,
              "#fb9f3a"
             ],
             [
              0.8888888888888888,
              "#fdca26"
             ],
             [
              1,
              "#f0f921"
             ]
            ],
            "type": "surface"
           }
          ],
          "table": [
           {
            "cells": {
             "fill": {
              "color": "#EBF0F8"
             },
             "line": {
              "color": "white"
             }
            },
            "header": {
             "fill": {
              "color": "#C8D4E3"
             },
             "line": {
              "color": "white"
             }
            },
            "type": "table"
           }
          ]
         },
         "layout": {
          "annotationdefaults": {
           "arrowcolor": "#2a3f5f",
           "arrowhead": 0,
           "arrowwidth": 1
          },
          "autotypenumbers": "strict",
          "coloraxis": {
           "colorbar": {
            "outlinewidth": 0,
            "ticks": ""
           }
          },
          "colorscale": {
           "diverging": [
            [
             0,
             "#8e0152"
            ],
            [
             0.1,
             "#c51b7d"
            ],
            [
             0.2,
             "#de77ae"
            ],
            [
             0.3,
             "#f1b6da"
            ],
            [
             0.4,
             "#fde0ef"
            ],
            [
             0.5,
             "#f7f7f7"
            ],
            [
             0.6,
             "#e6f5d0"
            ],
            [
             0.7,
             "#b8e186"
            ],
            [
             0.8,
             "#7fbc41"
            ],
            [
             0.9,
             "#4d9221"
            ],
            [
             1,
             "#276419"
            ]
           ],
           "sequential": [
            [
             0,
             "#0d0887"
            ],
            [
             0.1111111111111111,
             "#46039f"
            ],
            [
             0.2222222222222222,
             "#7201a8"
            ],
            [
             0.3333333333333333,
             "#9c179e"
            ],
            [
             0.4444444444444444,
             "#bd3786"
            ],
            [
             0.5555555555555556,
             "#d8576b"
            ],
            [
             0.6666666666666666,
             "#ed7953"
            ],
            [
             0.7777777777777778,
             "#fb9f3a"
            ],
            [
             0.8888888888888888,
             "#fdca26"
            ],
            [
             1,
             "#f0f921"
            ]
           ],
           "sequentialminus": [
            [
             0,
             "#0d0887"
            ],
            [
             0.1111111111111111,
             "#46039f"
            ],
            [
             0.2222222222222222,
             "#7201a8"
            ],
            [
             0.3333333333333333,
             "#9c179e"
            ],
            [
             0.4444444444444444,
             "#bd3786"
            ],
            [
             0.5555555555555556,
             "#d8576b"
            ],
            [
             0.6666666666666666,
             "#ed7953"
            ],
            [
             0.7777777777777778,
             "#fb9f3a"
            ],
            [
             0.8888888888888888,
             "#fdca26"
            ],
            [
             1,
             "#f0f921"
            ]
           ]
          },
          "colorway": [
           "#636efa",
           "#EF553B",
           "#00cc96",
           "#ab63fa",
           "#FFA15A",
           "#19d3f3",
           "#FF6692",
           "#B6E880",
           "#FF97FF",
           "#FECB52"
          ],
          "font": {
           "color": "#2a3f5f"
          },
          "geo": {
           "bgcolor": "white",
           "lakecolor": "white",
           "landcolor": "#E5ECF6",
           "showlakes": true,
           "showland": true,
           "subunitcolor": "white"
          },
          "hoverlabel": {
           "align": "left"
          },
          "hovermode": "closest",
          "mapbox": {
           "style": "light"
          },
          "paper_bgcolor": "white",
          "plot_bgcolor": "#E5ECF6",
          "polar": {
           "angularaxis": {
            "gridcolor": "white",
            "linecolor": "white",
            "ticks": ""
           },
           "bgcolor": "#E5ECF6",
           "radialaxis": {
            "gridcolor": "white",
            "linecolor": "white",
            "ticks": ""
           }
          },
          "scene": {
           "xaxis": {
            "backgroundcolor": "#E5ECF6",
            "gridcolor": "white",
            "gridwidth": 2,
            "linecolor": "white",
            "showbackground": true,
            "ticks": "",
            "zerolinecolor": "white"
           },
           "yaxis": {
            "backgroundcolor": "#E5ECF6",
            "gridcolor": "white",
            "gridwidth": 2,
            "linecolor": "white",
            "showbackground": true,
            "ticks": "",
            "zerolinecolor": "white"
           },
           "zaxis": {
            "backgroundcolor": "#E5ECF6",
            "gridcolor": "white",
            "gridwidth": 2,
            "linecolor": "white",
            "showbackground": true,
            "ticks": "",
            "zerolinecolor": "white"
           }
          },
          "shapedefaults": {
           "line": {
            "color": "#2a3f5f"
           }
          },
          "ternary": {
           "aaxis": {
            "gridcolor": "white",
            "linecolor": "white",
            "ticks": ""
           },
           "baxis": {
            "gridcolor": "white",
            "linecolor": "white",
            "ticks": ""
           },
           "bgcolor": "#E5ECF6",
           "caxis": {
            "gridcolor": "white",
            "linecolor": "white",
            "ticks": ""
           }
          },
          "title": {
           "x": 0.05
          },
          "xaxis": {
           "automargin": true,
           "gridcolor": "white",
           "linecolor": "white",
           "ticks": "",
           "title": {
            "standoff": 15
           },
           "zerolinecolor": "white",
           "zerolinewidth": 2
          },
          "yaxis": {
           "automargin": true,
           "gridcolor": "white",
           "linecolor": "white",
           "ticks": "",
           "title": {
            "standoff": 15
           },
           "zerolinecolor": "white",
           "zerolinewidth": 2
          }
         }
        },
        "title": {
         "font": {
          "size": 18
         },
         "text": "",
         "x": 0.5,
         "xanchor": "center",
         "y": 0.95
        },
        "width": 1600,
        "xaxis": {
         "dtick": "M12",
         "linecolor": "white",
         "linewidth": 2,
         "range": [
          "2020-01-01T00:00:00",
          "2024-12-01T00:00:00"
         ],
         "showgrid": false,
         "showline": true,
         "tickformat": "%Y",
         "title": {
          "text": ""
         }
        },
        "yaxis": {
         "linecolor": "white",
         "showgrid": false,
         "showline": true,
         "title": {
          "text": ""
         }
        }
       }
      }
     },
     "metadata": {},
     "output_type": "display_data"
    }
   ],
   "source": [
    "def graph_REAL_nutshell_plot(km_l: float, km_kwh: float, kwh_consumption: int):\n",
    "    ## 18, 7, 300, 40\n",
    "    nutshell_df = make_comparison_dataframe(km_l, km_kwh, kwh_consumption)\n",
    "\n",
    "    gas_color = '#dc267f'  # Red\n",
    "    electricity_color = '#648fff'  # Blue\n",
    "    vline_color = '#ffb000'\n",
    "    text_color = '#FFFFFF'\n",
    "    bg_color = '#1B181C'\n",
    "\n",
    "    fig = go.Figure()\n",
    "    fig.update_layout(width=1600,height=900)\n",
    "    fig.update_layout(\n",
    "        font=dict(\n",
    "            color=text_color,\n",
    "            family=\"Roboto\",\n",
    "            size=20,\n",
    "        )\n",
    "    )\n",
    "\n",
    "    line_width = 3\n",
    "\n",
    "    ## vertical lines\n",
    "    luzon_lockdown = datetime(2020, 3, 1)\n",
    "    lockdown_reduced = datetime(2021, 10, 1)\n",
    "    ukraine_invasion = datetime(2022, 2, 1)\n",
    "    erc_order = datetime(2024, 6, 1)\n",
    "    y_val = max(max(nutshell_df['Gas cost/km']), max(nutshell_df['Electricity cost/km']))\n",
    "    fig.update_layout(\n",
    "        shapes=[\n",
    "            dict(\n",
    "                type=\"line\",\n",
    "                x0=luzon_lockdown,\n",
    "                x1=luzon_lockdown,\n",
    "                y1=y_val,\n",
    "                line=dict(color=vline_color, width=line_width, dash=\"dash\")\n",
    "            ),\n",
    "            dict(\n",
    "                type=\"line\",\n",
    "                x0=lockdown_reduced,\n",
    "                x1=lockdown_reduced,\n",
    "                y1=y_val,\n",
    "                line=dict(color=vline_color, width=line_width, dash=\"dash\")\n",
    "            ),\n",
    "            dict(\n",
    "                type=\"line\",\n",
    "                x0=ukraine_invasion,\n",
    "                x1=ukraine_invasion,\n",
    "                y1=y_val,\n",
    "                line=dict(color=vline_color, width=line_width, dash=\"dash\")\n",
    "            ),\n",
    "        ],\n",
    "    )\n",
    "\n",
    "    # Add Gas line plot\n",
    "    fig.add_trace(go.Scatter(\n",
    "        x=nutshell_df['Date'],\n",
    "        y=nutshell_df['Gas cost/km'],\n",
    "        mode='lines+markers',\n",
    "        line=dict(color=gas_color, width=3),\n",
    "        marker=dict(size=12),\n",
    "        name='',\n",
    "    ))\n",
    "\n",
    "    fig.add_trace(go.Scatter(\n",
    "        x=nutshell_df['Date'],\n",
    "        y=nutshell_df['Electricity cost/km'],\n",
    "        mode='lines+markers',\n",
    "        line=dict(color=electricity_color, width=3),\n",
    "        marker=dict(size=12),\n",
    "        name='',\n",
    "    ))\n",
    "    \n",
    "    fig.update_layout(\n",
    "        title={\n",
    "            'text': \"\",\n",
    "            'y':0.95,\n",
    "            'x':0.5,\n",
    "            'xanchor': 'center',\n",
    "            'font': dict(size=18)\n",
    "        },\n",
    "        xaxis=dict(\n",
    "            title=\"Date\",\n",
    "            range=[nutshell_df['Date'].min(), nutshell_df['Date'].max()],\n",
    "            tickformat=\"%Y\",\n",
    "            dtick=\"M12\",  # Yearly ticks\n",
    "            showgrid=False,\n",
    "            showline=True,\n",
    "            linecolor='white',\n",
    "            linewidth=2,\n",
    "        ),\n",
    "        yaxis=dict(\n",
    "            title=\"Cost per km (PHP)\",\n",
    "            showgrid=False,\n",
    "            showline=True,\n",
    "            linecolor='white',\n",
    "        ),\n",
    "        plot_bgcolor=bg_color,\n",
    "        paper_bgcolor=bg_color,\n",
    "        xaxis_title=\"\",\n",
    "        yaxis_title=\"\",\n",
    "        hovermode=\"x unified\",\n",
    "    )\n",
    "\n",
    "    for date in nutshell_df['Date']:\n",
    "        month = date.month\n",
    "        if month != 1:\n",
    "            continue\n",
    "        gas_cost = nutshell_df.loc[nutshell_df['Date'] == date]['Gas cost/km']\n",
    "        elec_cost = nutshell_df.loc[nutshell_df['Date'] == date]['Electricity cost/km']\n",
    "        \n",
    "        #val = max(elec_cost.iloc[0], gas_cost.iloc[0])\n",
    "        fig.add_shape(\n",
    "            go.layout.Shape(\n",
    "                type=\"line\",\n",
    "                x0=date, y0=0.2,  # Start at the x-axis (y=0)\n",
    "                x1=date, y1=y_val,  # End at the data point\n",
    "                xref=\"x\", yref=\"y\",\n",
    "                line=dict(color=\"rgba(211, 211, 211, 0.5)\", width=2)\n",
    "            )\n",
    "        )\n",
    "\n",
    "    # Show the plot\n",
    "    fig.show()\n",
    "\n",
    "graph_REAL_nutshell_plot(AVG_HYBRID, AVG_BEV, BASE_KWH)"
   ]
  },
  {
   "cell_type": "markdown",
   "id": "cc3e142c",
   "metadata": {},
   "source": [
    "## Time series forecasting for gas and electricity prices\n",
    "Note that the graphs only included data from 2020 through January 2025 to maintain consistent yearly intervals, and because the electricity data is only up until end of 2024, while gas data is slightly more recent. For this step, we've will updated the data to include information up to March 2025, which is the most recent data retrieved from the CSVs.\n",
    "\n",
    "When making the predictions, we will exclude the pandemic prices of the gas and electricity from 2020 to 2022 due to the possible effects of the pandemic to the gas prices and considering theres no pandemic anymore (and hopefully in the future as well).\n"
   ]
  },
  {
   "cell_type": "code",
   "execution_count": 142,
   "id": "d81b95e8",
   "metadata": {},
   "outputs": [
    {
     "data": {
      "text/html": [
       "<div>\n",
       "<style scoped>\n",
       "    .dataframe tbody tr th:only-of-type {\n",
       "        vertical-align: middle;\n",
       "    }\n",
       "\n",
       "    .dataframe tbody tr th {\n",
       "        vertical-align: top;\n",
       "    }\n",
       "\n",
       "    .dataframe thead th {\n",
       "        text-align: right;\n",
       "    }\n",
       "</style>\n",
       "<table border=\"1\" class=\"dataframe\">\n",
       "  <thead>\n",
       "    <tr style=\"text-align: right;\">\n",
       "      <th></th>\n",
       "      <th>Year</th>\n",
       "      <th>Month</th>\n",
       "      <th>For Lifeline Customers</th>\n",
       "      <th>kWh Consumption</th>\n",
       "      <th>Total Bill</th>\n",
       "    </tr>\n",
       "  </thead>\n",
       "  <tbody>\n",
       "    <tr>\n",
       "      <th>2090</th>\n",
       "      <td>2022</td>\n",
       "      <td>1</td>\n",
       "      <td>False</td>\n",
       "      <td>400</td>\n",
       "      <td>10.3320</td>\n",
       "    </tr>\n",
       "    <tr>\n",
       "      <th>2105</th>\n",
       "      <td>2022</td>\n",
       "      <td>2</td>\n",
       "      <td>False</td>\n",
       "      <td>400</td>\n",
       "      <td>10.2167</td>\n",
       "    </tr>\n",
       "    <tr>\n",
       "      <th>2120</th>\n",
       "      <td>2022</td>\n",
       "      <td>3</td>\n",
       "      <td>False</td>\n",
       "      <td>400</td>\n",
       "      <td>10.2791</td>\n",
       "    </tr>\n",
       "    <tr>\n",
       "      <th>2135</th>\n",
       "      <td>2022</td>\n",
       "      <td>4</td>\n",
       "      <td>False</td>\n",
       "      <td>400</td>\n",
       "      <td>10.8155</td>\n",
       "    </tr>\n",
       "    <tr>\n",
       "      <th>2150</th>\n",
       "      <td>2022</td>\n",
       "      <td>5</td>\n",
       "      <td>False</td>\n",
       "      <td>400</td>\n",
       "      <td>10.6956</td>\n",
       "    </tr>\n",
       "    <tr>\n",
       "      <th>2165</th>\n",
       "      <td>2022</td>\n",
       "      <td>6</td>\n",
       "      <td>False</td>\n",
       "      <td>400</td>\n",
       "      <td>11.0937</td>\n",
       "    </tr>\n",
       "    <tr>\n",
       "      <th>2180</th>\n",
       "      <td>2022</td>\n",
       "      <td>7</td>\n",
       "      <td>False</td>\n",
       "      <td>400</td>\n",
       "      <td>10.3871</td>\n",
       "    </tr>\n",
       "    <tr>\n",
       "      <th>2195</th>\n",
       "      <td>2022</td>\n",
       "      <td>8</td>\n",
       "      <td>False</td>\n",
       "      <td>400</td>\n",
       "      <td>10.1647</td>\n",
       "    </tr>\n",
       "    <tr>\n",
       "      <th>2210</th>\n",
       "      <td>2022</td>\n",
       "      <td>9</td>\n",
       "      <td>False</td>\n",
       "      <td>400</td>\n",
       "      <td>10.5556</td>\n",
       "    </tr>\n",
       "    <tr>\n",
       "      <th>2225</th>\n",
       "      <td>2022</td>\n",
       "      <td>10</td>\n",
       "      <td>False</td>\n",
       "      <td>400</td>\n",
       "      <td>10.4818</td>\n",
       "    </tr>\n",
       "    <tr>\n",
       "      <th>2240</th>\n",
       "      <td>2022</td>\n",
       "      <td>11</td>\n",
       "      <td>False</td>\n",
       "      <td>400</td>\n",
       "      <td>10.5663</td>\n",
       "    </tr>\n",
       "    <tr>\n",
       "      <th>2255</th>\n",
       "      <td>2022</td>\n",
       "      <td>12</td>\n",
       "      <td>False</td>\n",
       "      <td>400</td>\n",
       "      <td>10.8959</td>\n",
       "    </tr>\n",
       "    <tr>\n",
       "      <th>2270</th>\n",
       "      <td>2023</td>\n",
       "      <td>1</td>\n",
       "      <td>False</td>\n",
       "      <td>400</td>\n",
       "      <td>11.5161</td>\n",
       "    </tr>\n",
       "    <tr>\n",
       "      <th>2285</th>\n",
       "      <td>2023</td>\n",
       "      <td>2</td>\n",
       "      <td>False</td>\n",
       "      <td>400</td>\n",
       "      <td>11.5085</td>\n",
       "    </tr>\n",
       "    <tr>\n",
       "      <th>2300</th>\n",
       "      <td>2023</td>\n",
       "      <td>3</td>\n",
       "      <td>False</td>\n",
       "      <td>400</td>\n",
       "      <td>12.0538</td>\n",
       "    </tr>\n",
       "    <tr>\n",
       "      <th>2315</th>\n",
       "      <td>2023</td>\n",
       "      <td>4</td>\n",
       "      <td>False</td>\n",
       "      <td>400</td>\n",
       "      <td>11.9357</td>\n",
       "    </tr>\n",
       "    <tr>\n",
       "      <th>2330</th>\n",
       "      <td>2023</td>\n",
       "      <td>5</td>\n",
       "      <td>False</td>\n",
       "      <td>400</td>\n",
       "      <td>12.1118</td>\n",
       "    </tr>\n",
       "    <tr>\n",
       "      <th>2348</th>\n",
       "      <td>2023</td>\n",
       "      <td>6</td>\n",
       "      <td>False</td>\n",
       "      <td>400</td>\n",
       "      <td>12.5302</td>\n",
       "    </tr>\n",
       "    <tr>\n",
       "      <th>2366</th>\n",
       "      <td>2023</td>\n",
       "      <td>7</td>\n",
       "      <td>False</td>\n",
       "      <td>400</td>\n",
       "      <td>11.8089</td>\n",
       "    </tr>\n",
       "    <tr>\n",
       "      <th>2384</th>\n",
       "      <td>2023</td>\n",
       "      <td>8</td>\n",
       "      <td>False</td>\n",
       "      <td>400</td>\n",
       "      <td>11.5181</td>\n",
       "    </tr>\n",
       "    <tr>\n",
       "      <th>2402</th>\n",
       "      <td>2023</td>\n",
       "      <td>9</td>\n",
       "      <td>False</td>\n",
       "      <td>400</td>\n",
       "      <td>12.0188</td>\n",
       "    </tr>\n",
       "    <tr>\n",
       "      <th>2420</th>\n",
       "      <td>2023</td>\n",
       "      <td>10</td>\n",
       "      <td>False</td>\n",
       "      <td>400</td>\n",
       "      <td>12.4388</td>\n",
       "    </tr>\n",
       "    <tr>\n",
       "      <th>2438</th>\n",
       "      <td>2023</td>\n",
       "      <td>11</td>\n",
       "      <td>False</td>\n",
       "      <td>400</td>\n",
       "      <td>12.6736</td>\n",
       "    </tr>\n",
       "    <tr>\n",
       "      <th>2456</th>\n",
       "      <td>2023</td>\n",
       "      <td>12</td>\n",
       "      <td>False</td>\n",
       "      <td>400</td>\n",
       "      <td>11.8775</td>\n",
       "    </tr>\n",
       "    <tr>\n",
       "      <th>2474</th>\n",
       "      <td>2024</td>\n",
       "      <td>1</td>\n",
       "      <td>False</td>\n",
       "      <td>400</td>\n",
       "      <td>11.9591</td>\n",
       "    </tr>\n",
       "    <tr>\n",
       "      <th>2492</th>\n",
       "      <td>2024</td>\n",
       "      <td>2</td>\n",
       "      <td>False</td>\n",
       "      <td>400</td>\n",
       "      <td>12.5358</td>\n",
       "    </tr>\n",
       "    <tr>\n",
       "      <th>2510</th>\n",
       "      <td>2024</td>\n",
       "      <td>3</td>\n",
       "      <td>False</td>\n",
       "      <td>400</td>\n",
       "      <td>12.5588</td>\n",
       "    </tr>\n",
       "    <tr>\n",
       "      <th>2528</th>\n",
       "      <td>2024</td>\n",
       "      <td>4</td>\n",
       "      <td>False</td>\n",
       "      <td>400</td>\n",
       "      <td>11.5709</td>\n",
       "    </tr>\n",
       "    <tr>\n",
       "      <th>2546</th>\n",
       "      <td>2024</td>\n",
       "      <td>5</td>\n",
       "      <td>False</td>\n",
       "      <td>400</td>\n",
       "      <td>12.0329</td>\n",
       "    </tr>\n",
       "    <tr>\n",
       "      <th>2564</th>\n",
       "      <td>2024</td>\n",
       "      <td>6</td>\n",
       "      <td>False</td>\n",
       "      <td>400</td>\n",
       "      <td>10.0708</td>\n",
       "    </tr>\n",
       "    <tr>\n",
       "      <th>2582</th>\n",
       "      <td>2024</td>\n",
       "      <td>7</td>\n",
       "      <td>False</td>\n",
       "      <td>400</td>\n",
       "      <td>12.2204</td>\n",
       "    </tr>\n",
       "    <tr>\n",
       "      <th>2600</th>\n",
       "      <td>2024</td>\n",
       "      <td>8</td>\n",
       "      <td>False</td>\n",
       "      <td>400</td>\n",
       "      <td>12.2529</td>\n",
       "    </tr>\n",
       "    <tr>\n",
       "      <th>2618</th>\n",
       "      <td>2024</td>\n",
       "      <td>9</td>\n",
       "      <td>False</td>\n",
       "      <td>400</td>\n",
       "      <td>12.4073</td>\n",
       "    </tr>\n",
       "    <tr>\n",
       "      <th>2636</th>\n",
       "      <td>2024</td>\n",
       "      <td>10</td>\n",
       "      <td>False</td>\n",
       "      <td>400</td>\n",
       "      <td>12.0485</td>\n",
       "    </tr>\n",
       "    <tr>\n",
       "      <th>2654</th>\n",
       "      <td>2024</td>\n",
       "      <td>11</td>\n",
       "      <td>False</td>\n",
       "      <td>400</td>\n",
       "      <td>12.4755</td>\n",
       "    </tr>\n",
       "    <tr>\n",
       "      <th>2672</th>\n",
       "      <td>2024</td>\n",
       "      <td>12</td>\n",
       "      <td>False</td>\n",
       "      <td>400</td>\n",
       "      <td>12.5804</td>\n",
       "    </tr>\n",
       "  </tbody>\n",
       "</table>\n",
       "</div>"
      ],
      "text/plain": [
       "      Year  Month  For Lifeline Customers  kWh Consumption  Total Bill\n",
       "2090  2022      1                   False              400     10.3320\n",
       "2105  2022      2                   False              400     10.2167\n",
       "2120  2022      3                   False              400     10.2791\n",
       "2135  2022      4                   False              400     10.8155\n",
       "2150  2022      5                   False              400     10.6956\n",
       "2165  2022      6                   False              400     11.0937\n",
       "2180  2022      7                   False              400     10.3871\n",
       "2195  2022      8                   False              400     10.1647\n",
       "2210  2022      9                   False              400     10.5556\n",
       "2225  2022     10                   False              400     10.4818\n",
       "2240  2022     11                   False              400     10.5663\n",
       "2255  2022     12                   False              400     10.8959\n",
       "2270  2023      1                   False              400     11.5161\n",
       "2285  2023      2                   False              400     11.5085\n",
       "2300  2023      3                   False              400     12.0538\n",
       "2315  2023      4                   False              400     11.9357\n",
       "2330  2023      5                   False              400     12.1118\n",
       "2348  2023      6                   False              400     12.5302\n",
       "2366  2023      7                   False              400     11.8089\n",
       "2384  2023      8                   False              400     11.5181\n",
       "2402  2023      9                   False              400     12.0188\n",
       "2420  2023     10                   False              400     12.4388\n",
       "2438  2023     11                   False              400     12.6736\n",
       "2456  2023     12                   False              400     11.8775\n",
       "2474  2024      1                   False              400     11.9591\n",
       "2492  2024      2                   False              400     12.5358\n",
       "2510  2024      3                   False              400     12.5588\n",
       "2528  2024      4                   False              400     11.5709\n",
       "2546  2024      5                   False              400     12.0329\n",
       "2564  2024      6                   False              400     10.0708\n",
       "2582  2024      7                   False              400     12.2204\n",
       "2600  2024      8                   False              400     12.2529\n",
       "2618  2024      9                   False              400     12.4073\n",
       "2636  2024     10                   False              400     12.0485\n",
       "2654  2024     11                   False              400     12.4755\n",
       "2672  2024     12                   False              400     12.5804"
      ]
     },
     "execution_count": 142,
     "metadata": {},
     "output_type": "execute_result"
    }
   ],
   "source": [
    "meralco_df = pd.read_csv('MeralcoSummaryOfRates.csv')\n",
    "present_meralco_df = meralco_df[(meralco_df['Year'] >= 2022) & \\\n",
    "    (meralco_df['kWh Consumption'] == 400) & \\\n",
    "    (meralco_df['For Lifeline Customers'] == False)]\n",
    "\n",
    "start_date = '2022-01-01'\n",
    "end_date = '2025-03-01' \n",
    "present_ron95_data = gas_df[gas_df['Product'] == \"Gasoline (RON95)\"].sort_values('Date')\n",
    "present_ron95_data = present_ron95_data[(present_ron95_data['Date'] >= start_date) & (present_ron95_data['Date'] <= end_date)]\n",
    "present_ron95_data['Average Price'] = (present_ron95_data['Overall Range Min'] + present_ron95_data['Overall Range Max']) / 2\n",
    "present_meralco_df"
   ]
  },
  {
   "cell_type": "markdown",
   "id": "adb12f2c",
   "metadata": {},
   "source": [
    "## Gas Predictions"
   ]
  },
  {
   "cell_type": "code",
   "execution_count": 143,
   "id": "a49d9087",
   "metadata": {},
   "outputs": [
    {
     "name": "stderr",
     "output_type": "stream",
     "text": [
      "22:51:00 - cmdstanpy - INFO - Chain [1] start processing\n",
      "22:51:00 - cmdstanpy - INFO - Chain [1] done processing\n"
     ]
    },
    {
     "name": "stdout",
     "output_type": "stream",
     "text": [
      "--- Sample of the forecast DataFrame (first 5 and last 5) ---\n",
      "          ds       yhat  yhat_lower  yhat_upper\n",
      "0 2022-01-01  66.840991   62.439815   71.592385\n",
      "1 2022-02-01  67.721926   63.274685   71.794455\n",
      "2 2022-03-01  69.653156   65.461211   73.966989\n",
      "3 2022-04-01  71.143576   66.668010   75.830145\n",
      "4 2022-05-01  70.741045   66.456294   75.299670\n",
      "           ds       yhat  yhat_lower  yhat_upper\n",
      "43 2025-08-01  64.243114   59.564118   68.564005\n",
      "44 2025-09-01  63.347101   58.757035   67.732323\n",
      "45 2025-10-01  62.085446   57.613982   66.531982\n",
      "46 2025-11-01  62.136279   57.942169   66.274850\n",
      "47 2025-12-01  61.028525   56.982045   65.382101\n",
      "\n",
      "\n"
     ]
    },
    {
     "data": {
      "application/vnd.plotly.v1+json": {
       "config": {
        "plotlyServerURL": "https://plot.ly"
       },
       "data": [
        {
         "marker": {
          "color": "black",
          "size": 4
         },
         "mode": "markers",
         "name": "Actual",
         "type": "scatter",
         "x": [
          "2022-01-01T00:00:00",
          "2022-02-01T00:00:00",
          "2022-03-01T00:00:00",
          "2022-04-01T00:00:00",
          "2022-05-01T00:00:00",
          "2022-06-01T00:00:00",
          "2022-07-01T00:00:00",
          "2022-08-01T00:00:00",
          "2022-09-01T00:00:00",
          "2022-10-01T00:00:00",
          "2022-11-01T00:00:00",
          "2022-12-01T00:00:00",
          "2023-01-01T00:00:00",
          "2023-02-01T00:00:00",
          "2023-03-01T00:00:00",
          "2023-04-01T00:00:00",
          "2023-05-01T00:00:00",
          "2023-06-01T00:00:00",
          "2023-07-01T00:00:00",
          "2023-08-01T00:00:00",
          "2023-09-01T00:00:00",
          "2023-10-01T00:00:00",
          "2023-11-01T00:00:00",
          "2023-12-01T00:00:00",
          "2024-01-01T00:00:00",
          "2024-02-01T00:00:00",
          "2024-03-01T00:00:00",
          "2024-04-01T00:00:00",
          "2024-05-01T00:00:00",
          "2024-06-01T00:00:00",
          "2024-07-01T00:00:00",
          "2024-08-01T00:00:00",
          "2024-09-01T00:00:00",
          "2024-10-01T00:00:00",
          "2024-11-01T00:00:00",
          "2024-12-01T00:00:00",
          "2025-01-01T00:00:00",
          "2025-02-01T00:00:00",
          "2025-03-01T00:00:00"
         ],
         "y": [
          60.965,
          64.11,
          71.83,
          72.10499999999999,
          76,
          81.69,
          76.79499999999999,
          71.43,
          69.24,
          67.08500000000001,
          67.21000000000001,
          63.864999999999995,
          65.86,
          65.3,
          63.495,
          65.37,
          62.265,
          62.745,
          63.62,
          69.12,
          72.37,
          68.415,
          66.435,
          64.53999999999999,
          65.075,
          67.79,
          68.005,
          70.825,
          68.9,
          67.55,
          69.555,
          64.08,
          61.855000000000004,
          61.214999999999996,
          61.8,
          62.644999999999996,
          64.975,
          65.735,
          64.785
         ]
        },
        {
         "hoverinfo": "skip",
         "line": {
          "width": 0
         },
         "mode": "lines",
         "type": "scatter",
         "x": [
          "2022-01-01T00:00:00",
          "2022-02-01T00:00:00",
          "2022-03-01T00:00:00",
          "2022-04-01T00:00:00",
          "2022-05-01T00:00:00",
          "2022-06-01T00:00:00",
          "2022-07-01T00:00:00",
          "2022-08-01T00:00:00",
          "2022-09-01T00:00:00",
          "2022-10-01T00:00:00",
          "2022-11-01T00:00:00",
          "2022-12-01T00:00:00",
          "2023-01-01T00:00:00",
          "2023-02-01T00:00:00",
          "2023-03-01T00:00:00",
          "2023-04-01T00:00:00",
          "2023-05-01T00:00:00",
          "2023-06-01T00:00:00",
          "2023-07-01T00:00:00",
          "2023-08-01T00:00:00",
          "2023-09-01T00:00:00",
          "2023-10-01T00:00:00",
          "2023-11-01T00:00:00",
          "2023-12-01T00:00:00",
          "2024-01-01T00:00:00",
          "2024-02-01T00:00:00",
          "2024-03-01T00:00:00",
          "2024-04-01T00:00:00",
          "2024-05-01T00:00:00",
          "2024-06-01T00:00:00",
          "2024-07-01T00:00:00",
          "2024-08-01T00:00:00",
          "2024-09-01T00:00:00",
          "2024-10-01T00:00:00",
          "2024-11-01T00:00:00",
          "2024-12-01T00:00:00",
          "2025-01-01T00:00:00",
          "2025-02-01T00:00:00",
          "2025-03-01T00:00:00",
          "2025-04-01T00:00:00",
          "2025-05-01T00:00:00",
          "2025-06-01T00:00:00",
          "2025-07-01T00:00:00",
          "2025-08-01T00:00:00",
          "2025-09-01T00:00:00",
          "2025-10-01T00:00:00",
          "2025-11-01T00:00:00",
          "2025-12-01T00:00:00"
         ],
         "y": [
          62.43981526346197,
          63.27468482321665,
          65.46121135912513,
          66.66801030856938,
          66.45629361548453,
          68.24363526284945,
          66.81203752616325,
          65.52227130085038,
          65.81714178830224,
          62.57647547066156,
          62.36939720495268,
          60.66250950291397,
          61.009821488987946,
          62.743606785675645,
          63.595590637803426,
          64.84075323718174,
          64.44616233871726,
          66.62712619629805,
          63.736713798794575,
          64.80697236262986,
          65.29924383869941,
          61.33767711580347,
          59.43175415600669,
          57.62930481807816,
          58.46861974158297,
          62.611514736300975,
          61.65253991168271,
          62.92299386323169,
          63.23988772166484,
          64.42474888781956,
          66.3474722054696,
          60.79444326059524,
          59.02895750280982,
          59.297664238942026,
          59.71313595664152,
          59.76589004863138,
          57.268920314223266,
          56.6035899259191,
          60.25856829992798,
          61.54147701587155,
          61.695963642075185,
          62.540752782797234,
          62.687167141821284,
          59.56411812080488,
          58.75703466819526,
          57.61398197734071,
          57.94216944823694,
          56.98204455453086
         ]
        },
        {
         "fill": "tonexty",
         "fillcolor": "rgba(0, 114, 178, 0.2)",
         "line": {
          "color": "#0072B2",
          "width": 2
         },
         "mode": "lines",
         "name": "Predicted",
         "type": "scatter",
         "x": [
          "2022-01-01T00:00:00",
          "2022-02-01T00:00:00",
          "2022-03-01T00:00:00",
          "2022-04-01T00:00:00",
          "2022-05-01T00:00:00",
          "2022-06-01T00:00:00",
          "2022-07-01T00:00:00",
          "2022-08-01T00:00:00",
          "2022-09-01T00:00:00",
          "2022-10-01T00:00:00",
          "2022-11-01T00:00:00",
          "2022-12-01T00:00:00",
          "2023-01-01T00:00:00",
          "2023-02-01T00:00:00",
          "2023-03-01T00:00:00",
          "2023-04-01T00:00:00",
          "2023-05-01T00:00:00",
          "2023-06-01T00:00:00",
          "2023-07-01T00:00:00",
          "2023-08-01T00:00:00",
          "2023-09-01T00:00:00",
          "2023-10-01T00:00:00",
          "2023-11-01T00:00:00",
          "2023-12-01T00:00:00",
          "2024-01-01T00:00:00",
          "2024-02-01T00:00:00",
          "2024-03-01T00:00:00",
          "2024-04-01T00:00:00",
          "2024-05-01T00:00:00",
          "2024-06-01T00:00:00",
          "2024-07-01T00:00:00",
          "2024-08-01T00:00:00",
          "2024-09-01T00:00:00",
          "2024-10-01T00:00:00",
          "2024-11-01T00:00:00",
          "2024-12-01T00:00:00",
          "2025-01-01T00:00:00",
          "2025-02-01T00:00:00",
          "2025-03-01T00:00:00",
          "2025-04-01T00:00:00",
          "2025-05-01T00:00:00",
          "2025-06-01T00:00:00",
          "2025-07-01T00:00:00",
          "2025-08-01T00:00:00",
          "2025-09-01T00:00:00",
          "2025-10-01T00:00:00",
          "2025-11-01T00:00:00",
          "2025-12-01T00:00:00"
         ],
         "y": [
          66.84099140460091,
          67.72192599940793,
          69.65315603282714,
          71.14357619168648,
          70.7410454123282,
          72.48432430218284,
          71.22951440739205,
          70.18019504348673,
          70.09186475174405,
          67.3684286764379,
          66.69029277703002,
          64.99076273772992,
          65.02496689701132,
          67.19160912803063,
          67.8483149815085,
          69.21356116024694,
          68.73842526779545,
          70.8652839634826,
          67.95688076543767,
          69.19132220313567,
          69.86704306064148,
          65.65506361743672,
          64.26764927903163,
          62.02535829960042,
          63.27721889491577,
          66.70259194778112,
          66.16325533082521,
          67.93378802531556,
          67.70776439463485,
          68.66335347080624,
          70.82118815896021,
          65.29035663064774,
          63.53374949069244,
          63.69520256317229,
          64.48282090715624,
          64.00512259107819,
          61.69502834703736,
          61.26487515962182,
          64.44043310738704,
          66.06867432023127,
          65.75171913500245,
          67.10748009644168,
          67.54484836449349,
          64.24311425233975,
          63.347101198573284,
          62.08544625234413,
          62.13627858113922,
          61.02852535888355
         ]
        },
        {
         "fill": "tonexty",
         "fillcolor": "rgba(0, 114, 178, 0.2)",
         "hoverinfo": "skip",
         "line": {
          "width": 0
         },
         "mode": "lines",
         "type": "scatter",
         "x": [
          "2022-01-01T00:00:00",
          "2022-02-01T00:00:00",
          "2022-03-01T00:00:00",
          "2022-04-01T00:00:00",
          "2022-05-01T00:00:00",
          "2022-06-01T00:00:00",
          "2022-07-01T00:00:00",
          "2022-08-01T00:00:00",
          "2022-09-01T00:00:00",
          "2022-10-01T00:00:00",
          "2022-11-01T00:00:00",
          "2022-12-01T00:00:00",
          "2023-01-01T00:00:00",
          "2023-02-01T00:00:00",
          "2023-03-01T00:00:00",
          "2023-04-01T00:00:00",
          "2023-05-01T00:00:00",
          "2023-06-01T00:00:00",
          "2023-07-01T00:00:00",
          "2023-08-01T00:00:00",
          "2023-09-01T00:00:00",
          "2023-10-01T00:00:00",
          "2023-11-01T00:00:00",
          "2023-12-01T00:00:00",
          "2024-01-01T00:00:00",
          "2024-02-01T00:00:00",
          "2024-03-01T00:00:00",
          "2024-04-01T00:00:00",
          "2024-05-01T00:00:00",
          "2024-06-01T00:00:00",
          "2024-07-01T00:00:00",
          "2024-08-01T00:00:00",
          "2024-09-01T00:00:00",
          "2024-10-01T00:00:00",
          "2024-11-01T00:00:00",
          "2024-12-01T00:00:00",
          "2025-01-01T00:00:00",
          "2025-02-01T00:00:00",
          "2025-03-01T00:00:00",
          "2025-04-01T00:00:00",
          "2025-05-01T00:00:00",
          "2025-06-01T00:00:00",
          "2025-07-01T00:00:00",
          "2025-08-01T00:00:00",
          "2025-09-01T00:00:00",
          "2025-10-01T00:00:00",
          "2025-11-01T00:00:00",
          "2025-12-01T00:00:00"
         ],
         "y": [
          71.59238514562058,
          71.79445489727902,
          73.9669886258648,
          75.8301454461159,
          75.29966986616957,
          76.63441850499441,
          75.6704793267155,
          74.74575354501407,
          74.58652984804436,
          71.53313539932128,
          71.18472954318179,
          69.40998018205121,
          69.57152859935366,
          71.37887726818973,
          72.46182028960487,
          73.33600865406318,
          72.98580737370668,
          75.42746783840983,
          72.33417906397032,
          73.73961344991791,
          74.51568372737407,
          70.03539633491681,
          68.6974822390382,
          66.37108414627922,
          67.26995669813667,
          71.23875002536388,
          70.35668044216563,
          72.07885362143753,
          72.1734920521624,
          72.73839583477144,
          75.50340727039605,
          69.48641041439328,
          67.69420564045815,
          68.07118923562071,
          68.67000482009131,
          68.57116089636382,
          65.87459056072544,
          65.58417385052908,
          68.81962230269589,
          70.43635654840605,
          70.02013361777604,
          71.53530704543121,
          72.02678030036267,
          68.56400547372961,
          67.73232316957177,
          66.53198184438348,
          66.27485028967047,
          65.38210113306619
         ]
        }
       ],
       "layout": {
        "height": 600,
        "hovermode": "x unified",
        "showlegend": false,
        "template": {
         "data": {
          "bar": [
           {
            "error_x": {
             "color": "#2a3f5f"
            },
            "error_y": {
             "color": "#2a3f5f"
            },
            "marker": {
             "line": {
              "color": "#E5ECF6",
              "width": 0.5
             },
             "pattern": {
              "fillmode": "overlay",
              "size": 10,
              "solidity": 0.2
             }
            },
            "type": "bar"
           }
          ],
          "barpolar": [
           {
            "marker": {
             "line": {
              "color": "#E5ECF6",
              "width": 0.5
             },
             "pattern": {
              "fillmode": "overlay",
              "size": 10,
              "solidity": 0.2
             }
            },
            "type": "barpolar"
           }
          ],
          "carpet": [
           {
            "aaxis": {
             "endlinecolor": "#2a3f5f",
             "gridcolor": "white",
             "linecolor": "white",
             "minorgridcolor": "white",
             "startlinecolor": "#2a3f5f"
            },
            "baxis": {
             "endlinecolor": "#2a3f5f",
             "gridcolor": "white",
             "linecolor": "white",
             "minorgridcolor": "white",
             "startlinecolor": "#2a3f5f"
            },
            "type": "carpet"
           }
          ],
          "choropleth": [
           {
            "colorbar": {
             "outlinewidth": 0,
             "ticks": ""
            },
            "type": "choropleth"
           }
          ],
          "contour": [
           {
            "colorbar": {
             "outlinewidth": 0,
             "ticks": ""
            },
            "colorscale": [
             [
              0,
              "#0d0887"
             ],
             [
              0.1111111111111111,
              "#46039f"
             ],
             [
              0.2222222222222222,
              "#7201a8"
             ],
             [
              0.3333333333333333,
              "#9c179e"
             ],
             [
              0.4444444444444444,
              "#bd3786"
             ],
             [
              0.5555555555555556,
              "#d8576b"
             ],
             [
              0.6666666666666666,
              "#ed7953"
             ],
             [
              0.7777777777777778,
              "#fb9f3a"
             ],
             [
              0.8888888888888888,
              "#fdca26"
             ],
             [
              1,
              "#f0f921"
             ]
            ],
            "type": "contour"
           }
          ],
          "contourcarpet": [
           {
            "colorbar": {
             "outlinewidth": 0,
             "ticks": ""
            },
            "type": "contourcarpet"
           }
          ],
          "heatmap": [
           {
            "colorbar": {
             "outlinewidth": 0,
             "ticks": ""
            },
            "colorscale": [
             [
              0,
              "#0d0887"
             ],
             [
              0.1111111111111111,
              "#46039f"
             ],
             [
              0.2222222222222222,
              "#7201a8"
             ],
             [
              0.3333333333333333,
              "#9c179e"
             ],
             [
              0.4444444444444444,
              "#bd3786"
             ],
             [
              0.5555555555555556,
              "#d8576b"
             ],
             [
              0.6666666666666666,
              "#ed7953"
             ],
             [
              0.7777777777777778,
              "#fb9f3a"
             ],
             [
              0.8888888888888888,
              "#fdca26"
             ],
             [
              1,
              "#f0f921"
             ]
            ],
            "type": "heatmap"
           }
          ],
          "heatmapgl": [
           {
            "colorbar": {
             "outlinewidth": 0,
             "ticks": ""
            },
            "colorscale": [
             [
              0,
              "#0d0887"
             ],
             [
              0.1111111111111111,
              "#46039f"
             ],
             [
              0.2222222222222222,
              "#7201a8"
             ],
             [
              0.3333333333333333,
              "#9c179e"
             ],
             [
              0.4444444444444444,
              "#bd3786"
             ],
             [
              0.5555555555555556,
              "#d8576b"
             ],
             [
              0.6666666666666666,
              "#ed7953"
             ],
             [
              0.7777777777777778,
              "#fb9f3a"
             ],
             [
              0.8888888888888888,
              "#fdca26"
             ],
             [
              1,
              "#f0f921"
             ]
            ],
            "type": "heatmapgl"
           }
          ],
          "histogram": [
           {
            "marker": {
             "pattern": {
              "fillmode": "overlay",
              "size": 10,
              "solidity": 0.2
             }
            },
            "type": "histogram"
           }
          ],
          "histogram2d": [
           {
            "colorbar": {
             "outlinewidth": 0,
             "ticks": ""
            },
            "colorscale": [
             [
              0,
              "#0d0887"
             ],
             [
              0.1111111111111111,
              "#46039f"
             ],
             [
              0.2222222222222222,
              "#7201a8"
             ],
             [
              0.3333333333333333,
              "#9c179e"
             ],
             [
              0.4444444444444444,
              "#bd3786"
             ],
             [
              0.5555555555555556,
              "#d8576b"
             ],
             [
              0.6666666666666666,
              "#ed7953"
             ],
             [
              0.7777777777777778,
              "#fb9f3a"
             ],
             [
              0.8888888888888888,
              "#fdca26"
             ],
             [
              1,
              "#f0f921"
             ]
            ],
            "type": "histogram2d"
           }
          ],
          "histogram2dcontour": [
           {
            "colorbar": {
             "outlinewidth": 0,
             "ticks": ""
            },
            "colorscale": [
             [
              0,
              "#0d0887"
             ],
             [
              0.1111111111111111,
              "#46039f"
             ],
             [
              0.2222222222222222,
              "#7201a8"
             ],
             [
              0.3333333333333333,
              "#9c179e"
             ],
             [
              0.4444444444444444,
              "#bd3786"
             ],
             [
              0.5555555555555556,
              "#d8576b"
             ],
             [
              0.6666666666666666,
              "#ed7953"
             ],
             [
              0.7777777777777778,
              "#fb9f3a"
             ],
             [
              0.8888888888888888,
              "#fdca26"
             ],
             [
              1,
              "#f0f921"
             ]
            ],
            "type": "histogram2dcontour"
           }
          ],
          "mesh3d": [
           {
            "colorbar": {
             "outlinewidth": 0,
             "ticks": ""
            },
            "type": "mesh3d"
           }
          ],
          "parcoords": [
           {
            "line": {
             "colorbar": {
              "outlinewidth": 0,
              "ticks": ""
             }
            },
            "type": "parcoords"
           }
          ],
          "pie": [
           {
            "automargin": true,
            "type": "pie"
           }
          ],
          "scatter": [
           {
            "fillpattern": {
             "fillmode": "overlay",
             "size": 10,
             "solidity": 0.2
            },
            "type": "scatter"
           }
          ],
          "scatter3d": [
           {
            "line": {
             "colorbar": {
              "outlinewidth": 0,
              "ticks": ""
             }
            },
            "marker": {
             "colorbar": {
              "outlinewidth": 0,
              "ticks": ""
             }
            },
            "type": "scatter3d"
           }
          ],
          "scattercarpet": [
           {
            "marker": {
             "colorbar": {
              "outlinewidth": 0,
              "ticks": ""
             }
            },
            "type": "scattercarpet"
           }
          ],
          "scattergeo": [
           {
            "marker": {
             "colorbar": {
              "outlinewidth": 0,
              "ticks": ""
             }
            },
            "type": "scattergeo"
           }
          ],
          "scattergl": [
           {
            "marker": {
             "colorbar": {
              "outlinewidth": 0,
              "ticks": ""
             }
            },
            "type": "scattergl"
           }
          ],
          "scattermapbox": [
           {
            "marker": {
             "colorbar": {
              "outlinewidth": 0,
              "ticks": ""
             }
            },
            "type": "scattermapbox"
           }
          ],
          "scatterpolar": [
           {
            "marker": {
             "colorbar": {
              "outlinewidth": 0,
              "ticks": ""
             }
            },
            "type": "scatterpolar"
           }
          ],
          "scatterpolargl": [
           {
            "marker": {
             "colorbar": {
              "outlinewidth": 0,
              "ticks": ""
             }
            },
            "type": "scatterpolargl"
           }
          ],
          "scatterternary": [
           {
            "marker": {
             "colorbar": {
              "outlinewidth": 0,
              "ticks": ""
             }
            },
            "type": "scatterternary"
           }
          ],
          "surface": [
           {
            "colorbar": {
             "outlinewidth": 0,
             "ticks": ""
            },
            "colorscale": [
             [
              0,
              "#0d0887"
             ],
             [
              0.1111111111111111,
              "#46039f"
             ],
             [
              0.2222222222222222,
              "#7201a8"
             ],
             [
              0.3333333333333333,
              "#9c179e"
             ],
             [
              0.4444444444444444,
              "#bd3786"
             ],
             [
              0.5555555555555556,
              "#d8576b"
             ],
             [
              0.6666666666666666,
              "#ed7953"
             ],
             [
              0.7777777777777778,
              "#fb9f3a"
             ],
             [
              0.8888888888888888,
              "#fdca26"
             ],
             [
              1,
              "#f0f921"
             ]
            ],
            "type": "surface"
           }
          ],
          "table": [
           {
            "cells": {
             "fill": {
              "color": "#EBF0F8"
             },
             "line": {
              "color": "white"
             }
            },
            "header": {
             "fill": {
              "color": "#C8D4E3"
             },
             "line": {
              "color": "white"
             }
            },
            "type": "table"
           }
          ]
         },
         "layout": {
          "annotationdefaults": {
           "arrowcolor": "#2a3f5f",
           "arrowhead": 0,
           "arrowwidth": 1
          },
          "autotypenumbers": "strict",
          "coloraxis": {
           "colorbar": {
            "outlinewidth": 0,
            "ticks": ""
           }
          },
          "colorscale": {
           "diverging": [
            [
             0,
             "#8e0152"
            ],
            [
             0.1,
             "#c51b7d"
            ],
            [
             0.2,
             "#de77ae"
            ],
            [
             0.3,
             "#f1b6da"
            ],
            [
             0.4,
             "#fde0ef"
            ],
            [
             0.5,
             "#f7f7f7"
            ],
            [
             0.6,
             "#e6f5d0"
            ],
            [
             0.7,
             "#b8e186"
            ],
            [
             0.8,
             "#7fbc41"
            ],
            [
             0.9,
             "#4d9221"
            ],
            [
             1,
             "#276419"
            ]
           ],
           "sequential": [
            [
             0,
             "#0d0887"
            ],
            [
             0.1111111111111111,
             "#46039f"
            ],
            [
             0.2222222222222222,
             "#7201a8"
            ],
            [
             0.3333333333333333,
             "#9c179e"
            ],
            [
             0.4444444444444444,
             "#bd3786"
            ],
            [
             0.5555555555555556,
             "#d8576b"
            ],
            [
             0.6666666666666666,
             "#ed7953"
            ],
            [
             0.7777777777777778,
             "#fb9f3a"
            ],
            [
             0.8888888888888888,
             "#fdca26"
            ],
            [
             1,
             "#f0f921"
            ]
           ],
           "sequentialminus": [
            [
             0,
             "#0d0887"
            ],
            [
             0.1111111111111111,
             "#46039f"
            ],
            [
             0.2222222222222222,
             "#7201a8"
            ],
            [
             0.3333333333333333,
             "#9c179e"
            ],
            [
             0.4444444444444444,
             "#bd3786"
            ],
            [
             0.5555555555555556,
             "#d8576b"
            ],
            [
             0.6666666666666666,
             "#ed7953"
            ],
            [
             0.7777777777777778,
             "#fb9f3a"
            ],
            [
             0.8888888888888888,
             "#fdca26"
            ],
            [
             1,
             "#f0f921"
            ]
           ]
          },
          "colorway": [
           "#636efa",
           "#EF553B",
           "#00cc96",
           "#ab63fa",
           "#FFA15A",
           "#19d3f3",
           "#FF6692",
           "#B6E880",
           "#FF97FF",
           "#FECB52"
          ],
          "font": {
           "color": "#2a3f5f"
          },
          "geo": {
           "bgcolor": "white",
           "lakecolor": "white",
           "landcolor": "#E5ECF6",
           "showlakes": true,
           "showland": true,
           "subunitcolor": "white"
          },
          "hoverlabel": {
           "align": "left"
          },
          "hovermode": "closest",
          "mapbox": {
           "style": "light"
          },
          "paper_bgcolor": "white",
          "plot_bgcolor": "#E5ECF6",
          "polar": {
           "angularaxis": {
            "gridcolor": "white",
            "linecolor": "white",
            "ticks": ""
           },
           "bgcolor": "#E5ECF6",
           "radialaxis": {
            "gridcolor": "white",
            "linecolor": "white",
            "ticks": ""
           }
          },
          "scene": {
           "xaxis": {
            "backgroundcolor": "#E5ECF6",
            "gridcolor": "white",
            "gridwidth": 2,
            "linecolor": "white",
            "showbackground": true,
            "ticks": "",
            "zerolinecolor": "white"
           },
           "yaxis": {
            "backgroundcolor": "#E5ECF6",
            "gridcolor": "white",
            "gridwidth": 2,
            "linecolor": "white",
            "showbackground": true,
            "ticks": "",
            "zerolinecolor": "white"
           },
           "zaxis": {
            "backgroundcolor": "#E5ECF6",
            "gridcolor": "white",
            "gridwidth": 2,
            "linecolor": "white",
            "showbackground": true,
            "ticks": "",
            "zerolinecolor": "white"
           }
          },
          "shapedefaults": {
           "line": {
            "color": "#2a3f5f"
           }
          },
          "ternary": {
           "aaxis": {
            "gridcolor": "white",
            "linecolor": "white",
            "ticks": ""
           },
           "baxis": {
            "gridcolor": "white",
            "linecolor": "white",
            "ticks": ""
           },
           "bgcolor": "#E5ECF6",
           "caxis": {
            "gridcolor": "white",
            "linecolor": "white",
            "ticks": ""
           }
          },
          "title": {
           "x": 0.05
          },
          "xaxis": {
           "automargin": true,
           "gridcolor": "white",
           "linecolor": "white",
           "ticks": "",
           "title": {
            "standoff": 15
           },
           "zerolinecolor": "white",
           "zerolinewidth": 2
          },
          "yaxis": {
           "automargin": true,
           "gridcolor": "white",
           "linecolor": "white",
           "ticks": "",
           "title": {
            "standoff": 15
           },
           "zerolinecolor": "white",
           "zerolinewidth": 2
          }
         }
        },
        "title": {
         "text": "Philippines Monthly Average Gas Price Forecast (RON95)"
        },
        "width": 900,
        "xaxis": {
         "rangeselector": {
          "buttons": [
           {
            "count": 7,
            "label": "1w",
            "step": "day",
            "stepmode": "backward"
           },
           {
            "count": 1,
            "label": "1m",
            "step": "month",
            "stepmode": "backward"
           },
           {
            "count": 6,
            "label": "6m",
            "step": "month",
            "stepmode": "backward"
           },
           {
            "count": 1,
            "label": "1y",
            "step": "year",
            "stepmode": "backward"
           },
           {
            "step": "all"
           }
          ]
         },
         "rangeslider": {
          "visible": true
         },
         "title": {
          "text": "Date"
         },
         "type": "date"
        },
        "yaxis": {
         "title": {
          "text": "Average Price (PHP)"
         }
        }
       }
      }
     },
     "metadata": {},
     "output_type": "display_data"
    },
    {
     "data": {
      "application/vnd.plotly.v1+json": {
       "config": {
        "plotlyServerURL": "https://plot.ly"
       },
       "data": [
        {
         "line": {
          "color": "#0072B2",
          "width": 2
         },
         "mode": "lines",
         "name": "trend",
         "type": "scatter",
         "x": [
          "2022-01-01T00:00:00",
          "2022-02-01T00:00:00",
          "2022-03-01T00:00:00",
          "2022-04-01T00:00:00",
          "2022-05-01T00:00:00",
          "2022-06-01T00:00:00",
          "2022-07-01T00:00:00",
          "2022-08-01T00:00:00",
          "2022-09-01T00:00:00",
          "2022-10-01T00:00:00",
          "2022-11-01T00:00:00",
          "2022-12-01T00:00:00",
          "2023-01-01T00:00:00",
          "2023-02-01T00:00:00",
          "2023-03-01T00:00:00",
          "2023-04-01T00:00:00",
          "2023-05-01T00:00:00",
          "2023-06-01T00:00:00",
          "2023-07-01T00:00:00",
          "2023-08-01T00:00:00",
          "2023-09-01T00:00:00",
          "2023-10-01T00:00:00",
          "2023-11-01T00:00:00",
          "2023-12-01T00:00:00",
          "2024-01-01T00:00:00",
          "2024-02-01T00:00:00",
          "2024-03-01T00:00:00",
          "2024-04-01T00:00:00",
          "2024-05-01T00:00:00",
          "2024-06-01T00:00:00",
          "2024-07-01T00:00:00",
          "2024-08-01T00:00:00",
          "2024-09-01T00:00:00",
          "2024-10-01T00:00:00",
          "2024-11-01T00:00:00",
          "2024-12-01T00:00:00",
          "2025-01-01T00:00:00",
          "2025-02-01T00:00:00",
          "2025-03-01T00:00:00",
          "2025-04-01T00:00:00",
          "2025-05-01T00:00:00",
          "2025-06-01T00:00:00",
          "2025-07-01T00:00:00",
          "2025-08-01T00:00:00",
          "2025-09-01T00:00:00",
          "2025-10-01T00:00:00",
          "2025-11-01T00:00:00",
          "2025-12-01T00:00:00"
         ],
         "xaxis": "x",
         "y": [
          70.96344948,
          70.8134065784,
          70.67788395684171,
          70.52784105615912,
          70.3826382490469,
          70.23259534737832,
          70.08739253682953,
          69.93734963401303,
          69.7873067294083,
          69.64210391927242,
          69.49206101546532,
          69.34685820377075,
          69.19681531285069,
          69.04677243717836,
          68.91151645615327,
          68.76217988707366,
          68.61766062667404,
          68.46936191652571,
          68.32650807546064,
          68.1799544955563,
          68.03340095186691,
          67.89157494463889,
          67.74502140383662,
          67.60319539532499,
          67.45664185337704,
          67.3100883155251,
          67.17298984690129,
          67.02643631324685,
          66.88461031293609,
          66.73805678300992,
          66.5962307836713,
          66.44967725370914,
          66.30312372374699,
          66.16129772700943,
          66.01474419704726,
          65.8729182003097,
          65.72636467034755,
          65.57981114038539,
          65.447440210097,
          65.30088668013484,
          65.15906068339727,
          65.01250715343512,
          64.87068115669756,
          64.7241276267354,
          64.57757409677325,
          64.43574810003568,
          64.28919457007352,
          64.14736857333595
         ],
         "yaxis": "y"
        },
        {
         "line": {
          "color": "rgba(0, 114, 178, 0.2)",
          "width": 0
         },
         "mode": "lines",
         "name": "trend_upper",
         "type": "scatter",
         "x": [
          "2022-01-01T00:00:00",
          "2022-02-01T00:00:00",
          "2022-03-01T00:00:00",
          "2022-04-01T00:00:00",
          "2022-05-01T00:00:00",
          "2022-06-01T00:00:00",
          "2022-07-01T00:00:00",
          "2022-08-01T00:00:00",
          "2022-09-01T00:00:00",
          "2022-10-01T00:00:00",
          "2022-11-01T00:00:00",
          "2022-12-01T00:00:00",
          "2023-01-01T00:00:00",
          "2023-02-01T00:00:00",
          "2023-03-01T00:00:00",
          "2023-04-01T00:00:00",
          "2023-05-01T00:00:00",
          "2023-06-01T00:00:00",
          "2023-07-01T00:00:00",
          "2023-08-01T00:00:00",
          "2023-09-01T00:00:00",
          "2023-10-01T00:00:00",
          "2023-11-01T00:00:00",
          "2023-12-01T00:00:00",
          "2024-01-01T00:00:00",
          "2024-02-01T00:00:00",
          "2024-03-01T00:00:00",
          "2024-04-01T00:00:00",
          "2024-05-01T00:00:00",
          "2024-06-01T00:00:00",
          "2024-07-01T00:00:00",
          "2024-08-01T00:00:00",
          "2024-09-01T00:00:00",
          "2024-10-01T00:00:00",
          "2024-11-01T00:00:00",
          "2024-12-01T00:00:00",
          "2025-01-01T00:00:00",
          "2025-02-01T00:00:00",
          "2025-03-01T00:00:00",
          "2025-04-01T00:00:00",
          "2025-05-01T00:00:00",
          "2025-06-01T00:00:00",
          "2025-07-01T00:00:00",
          "2025-08-01T00:00:00",
          "2025-09-01T00:00:00",
          "2025-10-01T00:00:00",
          "2025-11-01T00:00:00",
          "2025-12-01T00:00:00"
         ],
         "xaxis": "x",
         "y": [
          70.96344948,
          70.8134065784,
          70.67788395684171,
          70.52784105615912,
          70.3826382490469,
          70.23259534737832,
          70.08739253682953,
          69.93734963401303,
          69.7873067294083,
          69.64210391927242,
          69.49206101546532,
          69.34685820377075,
          69.19681531285069,
          69.04677243717836,
          68.91151645615327,
          68.76217988707366,
          68.61766062667404,
          68.46936191652571,
          68.32650807546064,
          68.1799544955563,
          68.03340095186691,
          67.89157494463889,
          67.74502140383662,
          67.60319539532499,
          67.45664185337704,
          67.3100883155251,
          67.17298984690129,
          67.02643631324685,
          66.88461031293609,
          66.73805678300992,
          66.5962307836713,
          66.44967725370914,
          66.30312372374699,
          66.16129772700943,
          66.01474419704726,
          65.8729182003097,
          65.72636467034755,
          65.57981114038539,
          65.447440210097,
          65.30096911854001,
          65.15931909809221,
          65.01303243722842,
          64.87153040185297,
          64.72534865800108,
          64.57915398179054,
          64.43771920393164,
          64.29156435269626,
          64.15024961899022
         ],
         "yaxis": "y"
        },
        {
         "fill": "tonexty",
         "fillcolor": "rgba(0, 114, 178, 0.2)",
         "line": {
          "color": "rgba(0, 114, 178, 0.2)",
          "width": 0
         },
         "mode": "lines",
         "name": "trend_lower",
         "type": "scatter",
         "x": [
          "2022-01-01T00:00:00",
          "2022-02-01T00:00:00",
          "2022-03-01T00:00:00",
          "2022-04-01T00:00:00",
          "2022-05-01T00:00:00",
          "2022-06-01T00:00:00",
          "2022-07-01T00:00:00",
          "2022-08-01T00:00:00",
          "2022-09-01T00:00:00",
          "2022-10-01T00:00:00",
          "2022-11-01T00:00:00",
          "2022-12-01T00:00:00",
          "2023-01-01T00:00:00",
          "2023-02-01T00:00:00",
          "2023-03-01T00:00:00",
          "2023-04-01T00:00:00",
          "2023-05-01T00:00:00",
          "2023-06-01T00:00:00",
          "2023-07-01T00:00:00",
          "2023-08-01T00:00:00",
          "2023-09-01T00:00:00",
          "2023-10-01T00:00:00",
          "2023-11-01T00:00:00",
          "2023-12-01T00:00:00",
          "2024-01-01T00:00:00",
          "2024-02-01T00:00:00",
          "2024-03-01T00:00:00",
          "2024-04-01T00:00:00",
          "2024-05-01T00:00:00",
          "2024-06-01T00:00:00",
          "2024-07-01T00:00:00",
          "2024-08-01T00:00:00",
          "2024-09-01T00:00:00",
          "2024-10-01T00:00:00",
          "2024-11-01T00:00:00",
          "2024-12-01T00:00:00",
          "2025-01-01T00:00:00",
          "2025-02-01T00:00:00",
          "2025-03-01T00:00:00",
          "2025-04-01T00:00:00",
          "2025-05-01T00:00:00",
          "2025-06-01T00:00:00",
          "2025-07-01T00:00:00",
          "2025-08-01T00:00:00",
          "2025-09-01T00:00:00",
          "2025-10-01T00:00:00",
          "2025-11-01T00:00:00",
          "2025-12-01T00:00:00"
         ],
         "xaxis": "x",
         "y": [
          70.96344948,
          70.8134065784,
          70.67788395684171,
          70.52784105615912,
          70.3826382490469,
          70.23259534737832,
          70.08739253682953,
          69.93734963401303,
          69.7873067294083,
          69.64210391927242,
          69.49206101546532,
          69.34685820377075,
          69.19681531285069,
          69.04677243717836,
          68.91151645615327,
          68.76217988707366,
          68.61766062667404,
          68.46936191652571,
          68.32650807546064,
          68.1799544955563,
          68.03340095186691,
          67.89157494463889,
          67.74502140383662,
          67.60319539532499,
          67.45664185337704,
          67.3100883155251,
          67.17298984690129,
          67.02643631324685,
          66.88461031293609,
          66.73805678300992,
          66.5962307836713,
          66.44967725370914,
          66.30312372374699,
          66.16129772700943,
          66.01474419704726,
          65.8729182003097,
          65.72636467034755,
          65.57981114038539,
          65.447440210097,
          65.30080681298759,
          65.15879830621932,
          65.01198501402986,
          64.86987468201347,
          64.72298879540101,
          64.57599838697749,
          64.43371624804924,
          64.2867116838434,
          64.1444222523492
         ],
         "yaxis": "y"
        },
        {
         "line": {
          "color": "#0072B2",
          "width": 2
         },
         "mode": "lines",
         "name": "yearly",
         "type": "scatter",
         "x": [
          "2017-01-01T00:00:00",
          "2017-01-02T00:00:59.178082",
          "2017-01-03T00:01:58.356164",
          "2017-01-04T00:02:57.534246",
          "2017-01-05T00:03:56.712328",
          "2017-01-06T00:04:55.890411",
          "2017-01-07T00:05:55.068493",
          "2017-01-08T00:06:54.246575",
          "2017-01-09T00:07:53.424657",
          "2017-01-10T00:08:52.602739",
          "2017-01-11T00:09:51.780822",
          "2017-01-12T00:10:50.958904",
          "2017-01-13T00:11:50.136986",
          "2017-01-14T00:12:49.315068",
          "2017-01-15T00:13:48.493150",
          "2017-01-16T00:14:47.671232",
          "2017-01-17T00:15:46.849315",
          "2017-01-18T00:16:46.027397",
          "2017-01-19T00:17:45.205479",
          "2017-01-20T00:18:44.383561",
          "2017-01-21T00:19:43.561643",
          "2017-01-22T00:20:42.739726",
          "2017-01-23T00:21:41.917808",
          "2017-01-24T00:22:41.095890",
          "2017-01-25T00:23:40.273972",
          "2017-01-26T00:24:39.452054",
          "2017-01-27T00:25:38.630137",
          "2017-01-28T00:26:37.808219",
          "2017-01-29T00:27:36.986301",
          "2017-01-30T00:28:36.164383",
          "2017-01-31T00:29:35.342465",
          "2017-02-01T00:30:34.520547",
          "2017-02-02T00:31:33.698630",
          "2017-02-03T00:32:32.876712",
          "2017-02-04T00:33:32.054794",
          "2017-02-05T00:34:31.232876",
          "2017-02-06T00:35:30.410958",
          "2017-02-07T00:36:29.589041",
          "2017-02-08T00:37:28.767123",
          "2017-02-09T00:38:27.945205",
          "2017-02-10T00:39:27.123287",
          "2017-02-11T00:40:26.301369",
          "2017-02-12T00:41:25.479452",
          "2017-02-13T00:42:24.657534",
          "2017-02-14T00:43:23.835616",
          "2017-02-15T00:44:23.013698",
          "2017-02-16T00:45:22.191780",
          "2017-02-17T00:46:21.369862",
          "2017-02-18T00:47:20.547945",
          "2017-02-19T00:48:19.726027",
          "2017-02-20T00:49:18.904109",
          "2017-02-21T00:50:18.082191",
          "2017-02-22T00:51:17.260273",
          "2017-02-23T00:52:16.438356",
          "2017-02-24T00:53:15.616438",
          "2017-02-25T00:54:14.794520",
          "2017-02-26T00:55:13.972602",
          "2017-02-27T00:56:13.150684",
          "2017-02-28T00:57:12.328767",
          "2017-03-01T00:58:11.506849",
          "2017-03-02T00:59:10.684931",
          "2017-03-03T01:00:09.863013",
          "2017-03-04T01:01:09.041095",
          "2017-03-05T01:02:08.219177",
          "2017-03-06T01:03:07.397260",
          "2017-03-07T01:04:06.575342",
          "2017-03-08T01:05:05.753424",
          "2017-03-09T01:06:04.931506",
          "2017-03-10T01:07:04.109588",
          "2017-03-11T01:08:03.287671",
          "2017-03-12T01:09:02.465753",
          "2017-03-13T01:10:01.643835",
          "2017-03-14T01:11:00.821917",
          "2017-03-15T01:12:00",
          "2017-03-16T01:12:59.178082",
          "2017-03-17T01:13:58.356164",
          "2017-03-18T01:14:57.534246",
          "2017-03-19T01:15:56.712328",
          "2017-03-20T01:16:55.890411",
          "2017-03-21T01:17:55.068493",
          "2017-03-22T01:18:54.246575",
          "2017-03-23T01:19:53.424657",
          "2017-03-24T01:20:52.602739",
          "2017-03-25T01:21:51.780822",
          "2017-03-26T01:22:50.958904",
          "2017-03-27T01:23:50.136986",
          "2017-03-28T01:24:49.315068",
          "2017-03-29T01:25:48.493150",
          "2017-03-30T01:26:47.671232",
          "2017-03-31T01:27:46.849315",
          "2017-04-01T01:28:46.027397",
          "2017-04-02T01:29:45.205479",
          "2017-04-03T01:30:44.383561",
          "2017-04-04T01:31:43.561643",
          "2017-04-05T01:32:42.739726",
          "2017-04-06T01:33:41.917808",
          "2017-04-07T01:34:41.095890",
          "2017-04-08T01:35:40.273972",
          "2017-04-09T01:36:39.452054",
          "2017-04-10T01:37:38.630137",
          "2017-04-11T01:38:37.808219",
          "2017-04-12T01:39:36.986301",
          "2017-04-13T01:40:36.164383",
          "2017-04-14T01:41:35.342465",
          "2017-04-15T01:42:34.520547",
          "2017-04-16T01:43:33.698630",
          "2017-04-17T01:44:32.876712",
          "2017-04-18T01:45:32.054794",
          "2017-04-19T01:46:31.232876",
          "2017-04-20T01:47:30.410958",
          "2017-04-21T01:48:29.589041",
          "2017-04-22T01:49:28.767123",
          "2017-04-23T01:50:27.945205",
          "2017-04-24T01:51:27.123287",
          "2017-04-25T01:52:26.301369",
          "2017-04-26T01:53:25.479452",
          "2017-04-27T01:54:24.657534",
          "2017-04-28T01:55:23.835616",
          "2017-04-29T01:56:23.013698",
          "2017-04-30T01:57:22.191780",
          "2017-05-01T01:58:21.369862",
          "2017-05-02T01:59:20.547945",
          "2017-05-03T02:00:19.726027",
          "2017-05-04T02:01:18.904109",
          "2017-05-05T02:02:18.082191",
          "2017-05-06T02:03:17.260273",
          "2017-05-07T02:04:16.438356",
          "2017-05-08T02:05:15.616438",
          "2017-05-09T02:06:14.794520",
          "2017-05-10T02:07:13.972602",
          "2017-05-11T02:08:13.150684",
          "2017-05-12T02:09:12.328767",
          "2017-05-13T02:10:11.506849",
          "2017-05-14T02:11:10.684931",
          "2017-05-15T02:12:09.863013",
          "2017-05-16T02:13:09.041095",
          "2017-05-17T02:14:08.219177",
          "2017-05-18T02:15:07.397260",
          "2017-05-19T02:16:06.575342",
          "2017-05-20T02:17:05.753424",
          "2017-05-21T02:18:04.931506",
          "2017-05-22T02:19:04.109588",
          "2017-05-23T02:20:03.287671",
          "2017-05-24T02:21:02.465753",
          "2017-05-25T02:22:01.643835",
          "2017-05-26T02:23:00.821917",
          "2017-05-27T02:24:00",
          "2017-05-28T02:24:59.178082",
          "2017-05-29T02:25:58.356164",
          "2017-05-30T02:26:57.534246",
          "2017-05-31T02:27:56.712328",
          "2017-06-01T02:28:55.890411",
          "2017-06-02T02:29:55.068493",
          "2017-06-03T02:30:54.246575",
          "2017-06-04T02:31:53.424657",
          "2017-06-05T02:32:52.602739",
          "2017-06-06T02:33:51.780822",
          "2017-06-07T02:34:50.958904",
          "2017-06-08T02:35:50.136986",
          "2017-06-09T02:36:49.315068",
          "2017-06-10T02:37:48.493150",
          "2017-06-11T02:38:47.671232",
          "2017-06-12T02:39:46.849315",
          "2017-06-13T02:40:46.027397",
          "2017-06-14T02:41:45.205479",
          "2017-06-15T02:42:44.383561",
          "2017-06-16T02:43:43.561643",
          "2017-06-17T02:44:42.739726",
          "2017-06-18T02:45:41.917808",
          "2017-06-19T02:46:41.095890",
          "2017-06-20T02:47:40.273972",
          "2017-06-21T02:48:39.452054",
          "2017-06-22T02:49:38.630137",
          "2017-06-23T02:50:37.808219",
          "2017-06-24T02:51:36.986301",
          "2017-06-25T02:52:36.164383",
          "2017-06-26T02:53:35.342465",
          "2017-06-27T02:54:34.520547",
          "2017-06-28T02:55:33.698630",
          "2017-06-29T02:56:32.876712",
          "2017-06-30T02:57:32.054794",
          "2017-07-01T02:58:31.232876",
          "2017-07-02T02:59:30.410958",
          "2017-07-03T03:00:29.589041",
          "2017-07-04T03:01:28.767123",
          "2017-07-05T03:02:27.945205",
          "2017-07-06T03:03:27.123287",
          "2017-07-07T03:04:26.301369",
          "2017-07-08T03:05:25.479452",
          "2017-07-09T03:06:24.657534",
          "2017-07-10T03:07:23.835616",
          "2017-07-11T03:08:23.013698",
          "2017-07-12T03:09:22.191780",
          "2017-07-13T03:10:21.369862",
          "2017-07-14T03:11:20.547945",
          "2017-07-15T03:12:19.726027",
          "2017-07-16T03:13:18.904109",
          "2017-07-17T03:14:18.082191",
          "2017-07-18T03:15:17.260273",
          "2017-07-19T03:16:16.438356",
          "2017-07-20T03:17:15.616438",
          "2017-07-21T03:18:14.794520",
          "2017-07-22T03:19:13.972602",
          "2017-07-23T03:20:13.150684",
          "2017-07-24T03:21:12.328767",
          "2017-07-25T03:22:11.506849",
          "2017-07-26T03:23:10.684931",
          "2017-07-27T03:24:09.863013",
          "2017-07-28T03:25:09.041095",
          "2017-07-29T03:26:08.219177",
          "2017-07-30T03:27:07.397260",
          "2017-07-31T03:28:06.575342",
          "2017-08-01T03:29:05.753424",
          "2017-08-02T03:30:04.931506",
          "2017-08-03T03:31:04.109588",
          "2017-08-04T03:32:03.287671",
          "2017-08-05T03:33:02.465753",
          "2017-08-06T03:34:01.643835",
          "2017-08-07T03:35:00.821917",
          "2017-08-08T03:36:00",
          "2017-08-09T03:36:59.178082",
          "2017-08-10T03:37:58.356164",
          "2017-08-11T03:38:57.534246",
          "2017-08-12T03:39:56.712328",
          "2017-08-13T03:40:55.890411",
          "2017-08-14T03:41:55.068493",
          "2017-08-15T03:42:54.246575",
          "2017-08-16T03:43:53.424657",
          "2017-08-17T03:44:52.602739",
          "2017-08-18T03:45:51.780822",
          "2017-08-19T03:46:50.958904",
          "2017-08-20T03:47:50.136986",
          "2017-08-21T03:48:49.315068",
          "2017-08-22T03:49:48.493150",
          "2017-08-23T03:50:47.671232",
          "2017-08-24T03:51:46.849315",
          "2017-08-25T03:52:46.027397",
          "2017-08-26T03:53:45.205479",
          "2017-08-27T03:54:44.383561",
          "2017-08-28T03:55:43.561643",
          "2017-08-29T03:56:42.739726",
          "2017-08-30T03:57:41.917808",
          "2017-08-31T03:58:41.095890",
          "2017-09-01T03:59:40.273972",
          "2017-09-02T04:00:39.452054",
          "2017-09-03T04:01:38.630137",
          "2017-09-04T04:02:37.808219",
          "2017-09-05T04:03:36.986301",
          "2017-09-06T04:04:36.164383",
          "2017-09-07T04:05:35.342465",
          "2017-09-08T04:06:34.520547",
          "2017-09-09T04:07:33.698630",
          "2017-09-10T04:08:32.876712",
          "2017-09-11T04:09:32.054794",
          "2017-09-12T04:10:31.232876",
          "2017-09-13T04:11:30.410958",
          "2017-09-14T04:12:29.589041",
          "2017-09-15T04:13:28.767123",
          "2017-09-16T04:14:27.945205",
          "2017-09-17T04:15:27.123287",
          "2017-09-18T04:16:26.301369",
          "2017-09-19T04:17:25.479452",
          "2017-09-20T04:18:24.657534",
          "2017-09-21T04:19:23.835616",
          "2017-09-22T04:20:23.013698",
          "2017-09-23T04:21:22.191780",
          "2017-09-24T04:22:21.369862",
          "2017-09-25T04:23:20.547945",
          "2017-09-26T04:24:19.726027",
          "2017-09-27T04:25:18.904109",
          "2017-09-28T04:26:18.082191",
          "2017-09-29T04:27:17.260273",
          "2017-09-30T04:28:16.438356",
          "2017-10-01T04:29:15.616438",
          "2017-10-02T04:30:14.794520",
          "2017-10-03T04:31:13.972602",
          "2017-10-04T04:32:13.150684",
          "2017-10-05T04:33:12.328767",
          "2017-10-06T04:34:11.506849",
          "2017-10-07T04:35:10.684931",
          "2017-10-08T04:36:09.863013",
          "2017-10-09T04:37:09.041095",
          "2017-10-10T04:38:08.219177",
          "2017-10-11T04:39:07.397260",
          "2017-10-12T04:40:06.575342",
          "2017-10-13T04:41:05.753424",
          "2017-10-14T04:42:04.931506",
          "2017-10-15T04:43:04.109588",
          "2017-10-16T04:44:03.287671",
          "2017-10-17T04:45:02.465753",
          "2017-10-18T04:46:01.643835",
          "2017-10-19T04:47:00.821917",
          "2017-10-20T04:48:00",
          "2017-10-21T04:48:59.178082",
          "2017-10-22T04:49:58.356164",
          "2017-10-23T04:50:57.534246",
          "2017-10-24T04:51:56.712328",
          "2017-10-25T04:52:55.890411",
          "2017-10-26T04:53:55.068493",
          "2017-10-27T04:54:54.246575",
          "2017-10-28T04:55:53.424657",
          "2017-10-29T04:56:52.602739",
          "2017-10-30T04:57:51.780822",
          "2017-10-31T04:58:50.958904",
          "2017-11-01T04:59:50.136986",
          "2017-11-02T05:00:49.315068",
          "2017-11-03T05:01:48.493150",
          "2017-11-04T05:02:47.671232",
          "2017-11-05T05:03:46.849315",
          "2017-11-06T05:04:46.027397",
          "2017-11-07T05:05:45.205479",
          "2017-11-08T05:06:44.383561",
          "2017-11-09T05:07:43.561643",
          "2017-11-10T05:08:42.739726",
          "2017-11-11T05:09:41.917808",
          "2017-11-12T05:10:41.095890",
          "2017-11-13T05:11:40.273972",
          "2017-11-14T05:12:39.452054",
          "2017-11-15T05:13:38.630137",
          "2017-11-16T05:14:37.808219",
          "2017-11-17T05:15:36.986301",
          "2017-11-18T05:16:36.164383",
          "2017-11-19T05:17:35.342465",
          "2017-11-20T05:18:34.520547",
          "2017-11-21T05:19:33.698630",
          "2017-11-22T05:20:32.876712",
          "2017-11-23T05:21:32.054794",
          "2017-11-24T05:22:31.232876",
          "2017-11-25T05:23:30.410958",
          "2017-11-26T05:24:29.589041",
          "2017-11-27T05:25:28.767123",
          "2017-11-28T05:26:27.945205",
          "2017-11-29T05:27:27.123287",
          "2017-11-30T05:28:26.301369",
          "2017-12-01T05:29:25.479452",
          "2017-12-02T05:30:24.657534",
          "2017-12-03T05:31:23.835616",
          "2017-12-04T05:32:23.013698",
          "2017-12-05T05:33:22.191780",
          "2017-12-06T05:34:21.369862",
          "2017-12-07T05:35:20.547945",
          "2017-12-08T05:36:19.726027",
          "2017-12-09T05:37:18.904109",
          "2017-12-10T05:38:18.082191",
          "2017-12-11T05:39:17.260273",
          "2017-12-12T05:40:16.438356",
          "2017-12-13T05:41:15.616438",
          "2017-12-14T05:42:14.794520",
          "2017-12-15T05:43:13.972602",
          "2017-12-16T05:44:13.150684",
          "2017-12-17T05:45:12.328767",
          "2017-12-18T05:46:11.506849",
          "2017-12-19T05:47:10.684931",
          "2017-12-20T05:48:09.863013",
          "2017-12-21T05:49:09.041095",
          "2017-12-22T05:50:08.219177",
          "2017-12-23T05:51:07.397260",
          "2017-12-24T05:52:06.575342",
          "2017-12-25T05:53:05.753424",
          "2017-12-26T05:54:04.931506",
          "2017-12-27T05:55:04.109588",
          "2017-12-28T05:56:03.287671",
          "2017-12-29T05:57:02.465753",
          "2017-12-30T05:58:01.643835",
          "2017-12-31T05:59:00.821917"
         ],
         "xaxis": "x2",
         "y": [
          -4.0313363233069754,
          -3.2530566035744415,
          -1.832055761502183,
          0.1915818752106582,
          2.7607146725036302,
          5.802756679870103,
          9.231745185073436,
          12.950558261465613,
          16.853822661651208,
          20.83063886092415,
          24.76763086127918,
          28.552006656731393,
          32.0746215791437,
          35.23272425234719,
          37.93291180227834,
          40.09340181419795,
          41.64618027857398,
          42.53872497483045,
          42.735257198349636,
          42.21762704179105,
          40.98560620332205,
          39.056759946048075,
          36.46582943354802,
          33.2636206451378,
          29.515670613854706,
          25.30016223374718,
          20.705887337855096,
          15.829781136791,
          10.774307121102678,
          5.644673676368427,
          0.5463157394190932,
          -4.418176276841306,
          -9.151414520090638,
          -13.563681887586744,
          -17.575134797913222,
          -21.117475743909107,
          -24.13573507157142,
          -26.5891953013008,
          -28.45214503956437,
          -29.71416162114613,
          -30.379975871421216,
          -30.46889875112797,
          -30.013931139711307,
          -29.06043783739417,
          -27.664561397047414,
          -25.891345100066975,
          -23.812765548630363,
          -21.505417517325792,
          -19.048330165409748,
          -16.520680712782557,
          -13.99958603369962,
          -11.557988124982455,
          -9.26285776134931,
          -7.1733448082294125,
          -5.339486460077677,
          -3.8010785301780343,
          -2.586906831211077,
          -1.7143160120756136,
          -1.1891721535084276,
          -1.0060710843003158,
          -1.1489779112614344,
          -1.592110051709581,
          -2.3011076326588658,
          -3.2343823946403116,
          -4.344729196148839,
          -5.580982274989471,
          -6.889779022976762,
          -8.217332215456365,
          -9.511177389383024,
          -10.721754448570334,
          -11.803999485831214,
          -12.71860204178623,
          -13.433119176045505,
          -13.922830297424206,
          -14.171298820106939,
          -14.170707449174998,
          -13.921850175394368,
          -13.433879446161441,
          -12.723783631616078,
          -11.815612878349958,
          -10.739550569855146,
          -9.53070227435515,
          -8.22785440274226,
          -6.872093509040968,
          -5.505391230504418,
          -4.169176938490883,
          -2.9030355042319385,
          -1.7433418208527833,
          -0.7221826656197536,
          0.13363414016297634,
          0.8033671756624533,
          1.2728773910569229,
          1.5350091833752237,
          1.5896543252015944,
          1.443622321806929,
          1.1102750334399019,
          0.6089439638746377,
          -0.03580831629489808,
          -0.7951462403758959,
          -1.6369880730207569,
          -2.527147507981635,
          -3.430519209595716,
          -4.312282526009781,
          -5.139022626106122,
          -5.879883340021558,
          -6.507510325915645,
          -6.998908103372701,
          -7.336125055332421,
          -7.506736436411889,
          -7.504165468061203,
          -7.327756771083885,
          -6.98266580198433,
          -6.479544177712445,
          -5.8340314108540765,
          -5.066121255509003,
          -4.199311871034982,
          -3.2597205001187137,
          -2.2750878511376578,
          -1.2737387347795415,
          -0.2835994150881406,
          0.6688657472742673,
          1.559529514224474,
          2.367430309134601,
          3.0754552323387663,
          3.6708709131257256,
          4.145644920969432,
          4.496645570295602,
          4.725576549540398,
          4.838755002970471,
          4.846697607762992,
          4.763536202495898,
          4.606292471358951,
          4.394021548777909,
          4.146876578349167,
          3.885117200328942,
          3.628100929924974,
          3.3933135514330974,
          3.1954325317430805,
          3.045520901483897,
          2.950340187425903,
          2.9118306514950514,
          2.926780946029687,
          2.986703353309739,
          3.0779304217574617,
          3.18193300762898,
          3.2758571335368316,
          3.3332682913543867,
          3.325080604741148,
          3.2206536611285412,
          2.989009170069575,
          2.6001411990000176,
          2.0263717515333584,
          1.2436963286308473,
          0.2331312532805979,
          -1.0181264141712503,
          -2.515592381555699,
          -4.256613861407376,
          -6.229702953301886,
          -8.414151472798512,
          -10.779796338094933,
          -13.287338666705253,
          -15.888718236865156,
          -18.527916470915176,
          -21.14206001884875,
          -23.66264833389904,
          -26.017329853945725,
          -28.13158056692734,
          -29.93069659028372,
          -31.34186543960625,
          -32.29629738990612,
          -32.731300983058496,
          -32.5923936085131,
          -31.83516088151286,
          -30.42698629633618,
          -28.348516683535678,
          -25.594790631493332,
          -22.176193009627667,
          -18.118702928938337,
          -13.464047632016467,
          -8.26928977796306,
          -2.605953224267394,
          3.440927747936432,
          9.774812198337054,
          16.289362035312973,
          22.870786183427064,
          29.400382218825023,
          35.75734827407542,
          41.82135963118371,
          47.47593568681313,
          52.61104334043494,
          57.12597191619117,
          60.93199481957895,
          63.9545717651133,
          66.13566417475138,
          67.43521883926333,
          67.83245297952837,
          67.3266182980257,
          65.9372430372245,
          63.703953846481156,
          60.68560864979392,
          56.95907674982068,
          52.61747589414172,
          47.76798284172272,
          42.52919651279307,
          37.02848916649045,
          31.398496172384093,
          25.774043266250047,
          20.28869394230165,
          15.07130454476571,
          10.242973460046997,
          5.913573182527032,
          2.179162212354741,
          -0.8805644954359964,
          -3.204347396171474,
          -4.750973976555093,
          -5.500295484874982,
          -5.453862723045011,
          -4.634804920509939,
          -3.087241857702543,
          -0.8750877636582794,
          1.9195333136475745,
          5.198622236699021,
          8.850817219222845,
          12.754383660335648,
          16.780463480864416,
          20.796565260525053,
          24.669925398585324,
          28.271343840451728,
          31.478462917228377,
          34.17909890477661,
          36.274256124626554,
          37.6808005986931,
          38.33363980483992,
          38.18757258728544,
          37.21843285219606,
          35.42376111075552,
          32.8228366631508,
          29.456288153687314,
          25.38482117646969,
          20.687696595310083,
          15.460574956443008,
          9.812947832270895,
          3.865131114290414,
          -2.2546801001396455,
          -8.414249435660597,
          -14.48055373855228,
          -20.32338648031453,
          -25.81880524538369,
          -30.85245146451565,
          -35.32231540355887,
          -39.141726482860804,
          -42.241327910756006,
          -44.570867673467454,
          -46.1004110010992,
          -46.82091687295649,
          -46.74440513848431,
          -45.9033606293435,
          -44.34968022808107,
          -42.15307015808826,
          -39.39892805236003,
          -36.18597357012951,
          -32.62320348231158,
          -28.826894625687586,
          -24.91727719093629,
          -21.015106803603295,
          -17.238471825199063,
          -13.699251831822163,
          -10.500227321323692,
          -7.732243450944368,
          -5.4717781450193295,
          -3.778919888401469,
          -2.695913654623435,
          -2.2460379497885503,
          -2.433232441536664,
          -3.242173901224111,
          -4.638926188222779,
          -6.572145058998412,
          -8.974654978801698,
          -11.76569980949478,
          -14.853353851380609,
          -18.137342421236415,
          -21.51210624943502,
          -24.869805159954932,
          -28.10375920499376,
          -31.11144834513102,
          -33.797567432023136,
          -36.07681573966301,
          -37.876397551546646,
          -39.1380495692634,
          -39.81983440167653,
          -39.89723385371369,
          -39.363838115786805,
          -38.231459348089075,
          -36.5297834264537,
          -34.305358444809336,
          -31.620211755562686,
          -28.54995797297768,
          -25.181518726493692,
          -21.610469554514353,
          -17.93834252877885,
          -14.269341255530316,
          -10.70738817604637,
          -7.352976840235609,
          -4.300164642557945,
          -1.6337250584001441,
          0.5732828898236585,
          2.2619061148133355,
          3.388965076775794,
          3.9284224270841013,
          3.872214107644648,
          3.2305692584097323,
          2.0317819700268567,
          0.3214543240272155,
          -1.8387608030945473,
          -4.372891237128183,
          -7.192832999657921,
          -10.200730397711089,
          -13.291976072392128,
          -16.358093434702386,
          -19.289900526698375,
          -21.980674734031247,
          -24.329283467100655,
          -26.24303717284857,
          -27.640578691619336,
          -28.454182604224673,
          -28.631816869805277,
          -28.13872581865679,
          -26.958567688758674,
          -25.093969422342468,
          -22.566594385694604,
          -19.416655603156464,
          -15.701905717833354,
          -11.496078641099954,
          -6.887127743759943,
          -1.9745698909024816,
          3.1330210781520016,
          8.321015047895585,
          13.471914498876401,
          18.46833369159367,
          23.19657238156162,
          27.549496401312155,
          31.429537755420952,
          34.75137149356944,
          37.44428177324712,
          39.45397996597173,
          40.74427059579093,
          41.29789847706129,
          41.11703831958096,
          40.22321212652348,
          38.65665043103407,
          36.475239381234815,
          33.7527934776771,
          30.57706507344278,
          27.04729385135053,
          23.271414044244665,
          19.363249135840636,
          15.4391130784279,
          11.614784482483923,
          8.002289375389203,
          4.7068385813607865,
          1.823930972407536,
          -0.5631089674708969,
          -2.3855781648781327,
          -3.5910948360223145,
          -4.1450183208717215
         ],
         "yaxis": "y2"
        }
       ],
       "layout": {
        "height": 400,
        "showlegend": false,
        "template": {
         "data": {
          "bar": [
           {
            "error_x": {
             "color": "#2a3f5f"
            },
            "error_y": {
             "color": "#2a3f5f"
            },
            "marker": {
             "line": {
              "color": "#E5ECF6",
              "width": 0.5
             },
             "pattern": {
              "fillmode": "overlay",
              "size": 10,
              "solidity": 0.2
             }
            },
            "type": "bar"
           }
          ],
          "barpolar": [
           {
            "marker": {
             "line": {
              "color": "#E5ECF6",
              "width": 0.5
             },
             "pattern": {
              "fillmode": "overlay",
              "size": 10,
              "solidity": 0.2
             }
            },
            "type": "barpolar"
           }
          ],
          "carpet": [
           {
            "aaxis": {
             "endlinecolor": "#2a3f5f",
             "gridcolor": "white",
             "linecolor": "white",
             "minorgridcolor": "white",
             "startlinecolor": "#2a3f5f"
            },
            "baxis": {
             "endlinecolor": "#2a3f5f",
             "gridcolor": "white",
             "linecolor": "white",
             "minorgridcolor": "white",
             "startlinecolor": "#2a3f5f"
            },
            "type": "carpet"
           }
          ],
          "choropleth": [
           {
            "colorbar": {
             "outlinewidth": 0,
             "ticks": ""
            },
            "type": "choropleth"
           }
          ],
          "contour": [
           {
            "colorbar": {
             "outlinewidth": 0,
             "ticks": ""
            },
            "colorscale": [
             [
              0,
              "#0d0887"
             ],
             [
              0.1111111111111111,
              "#46039f"
             ],
             [
              0.2222222222222222,
              "#7201a8"
             ],
             [
              0.3333333333333333,
              "#9c179e"
             ],
             [
              0.4444444444444444,
              "#bd3786"
             ],
             [
              0.5555555555555556,
              "#d8576b"
             ],
             [
              0.6666666666666666,
              "#ed7953"
             ],
             [
              0.7777777777777778,
              "#fb9f3a"
             ],
             [
              0.8888888888888888,
              "#fdca26"
             ],
             [
              1,
              "#f0f921"
             ]
            ],
            "type": "contour"
           }
          ],
          "contourcarpet": [
           {
            "colorbar": {
             "outlinewidth": 0,
             "ticks": ""
            },
            "type": "contourcarpet"
           }
          ],
          "heatmap": [
           {
            "colorbar": {
             "outlinewidth": 0,
             "ticks": ""
            },
            "colorscale": [
             [
              0,
              "#0d0887"
             ],
             [
              0.1111111111111111,
              "#46039f"
             ],
             [
              0.2222222222222222,
              "#7201a8"
             ],
             [
              0.3333333333333333,
              "#9c179e"
             ],
             [
              0.4444444444444444,
              "#bd3786"
             ],
             [
              0.5555555555555556,
              "#d8576b"
             ],
             [
              0.6666666666666666,
              "#ed7953"
             ],
             [
              0.7777777777777778,
              "#fb9f3a"
             ],
             [
              0.8888888888888888,
              "#fdca26"
             ],
             [
              1,
              "#f0f921"
             ]
            ],
            "type": "heatmap"
           }
          ],
          "heatmapgl": [
           {
            "colorbar": {
             "outlinewidth": 0,
             "ticks": ""
            },
            "colorscale": [
             [
              0,
              "#0d0887"
             ],
             [
              0.1111111111111111,
              "#46039f"
             ],
             [
              0.2222222222222222,
              "#7201a8"
             ],
             [
              0.3333333333333333,
              "#9c179e"
             ],
             [
              0.4444444444444444,
              "#bd3786"
             ],
             [
              0.5555555555555556,
              "#d8576b"
             ],
             [
              0.6666666666666666,
              "#ed7953"
             ],
             [
              0.7777777777777778,
              "#fb9f3a"
             ],
             [
              0.8888888888888888,
              "#fdca26"
             ],
             [
              1,
              "#f0f921"
             ]
            ],
            "type": "heatmapgl"
           }
          ],
          "histogram": [
           {
            "marker": {
             "pattern": {
              "fillmode": "overlay",
              "size": 10,
              "solidity": 0.2
             }
            },
            "type": "histogram"
           }
          ],
          "histogram2d": [
           {
            "colorbar": {
             "outlinewidth": 0,
             "ticks": ""
            },
            "colorscale": [
             [
              0,
              "#0d0887"
             ],
             [
              0.1111111111111111,
              "#46039f"
             ],
             [
              0.2222222222222222,
              "#7201a8"
             ],
             [
              0.3333333333333333,
              "#9c179e"
             ],
             [
              0.4444444444444444,
              "#bd3786"
             ],
             [
              0.5555555555555556,
              "#d8576b"
             ],
             [
              0.6666666666666666,
              "#ed7953"
             ],
             [
              0.7777777777777778,
              "#fb9f3a"
             ],
             [
              0.8888888888888888,
              "#fdca26"
             ],
             [
              1,
              "#f0f921"
             ]
            ],
            "type": "histogram2d"
           }
          ],
          "histogram2dcontour": [
           {
            "colorbar": {
             "outlinewidth": 0,
             "ticks": ""
            },
            "colorscale": [
             [
              0,
              "#0d0887"
             ],
             [
              0.1111111111111111,
              "#46039f"
             ],
             [
              0.2222222222222222,
              "#7201a8"
             ],
             [
              0.3333333333333333,
              "#9c179e"
             ],
             [
              0.4444444444444444,
              "#bd3786"
             ],
             [
              0.5555555555555556,
              "#d8576b"
             ],
             [
              0.6666666666666666,
              "#ed7953"
             ],
             [
              0.7777777777777778,
              "#fb9f3a"
             ],
             [
              0.8888888888888888,
              "#fdca26"
             ],
             [
              1,
              "#f0f921"
             ]
            ],
            "type": "histogram2dcontour"
           }
          ],
          "mesh3d": [
           {
            "colorbar": {
             "outlinewidth": 0,
             "ticks": ""
            },
            "type": "mesh3d"
           }
          ],
          "parcoords": [
           {
            "line": {
             "colorbar": {
              "outlinewidth": 0,
              "ticks": ""
             }
            },
            "type": "parcoords"
           }
          ],
          "pie": [
           {
            "automargin": true,
            "type": "pie"
           }
          ],
          "scatter": [
           {
            "fillpattern": {
             "fillmode": "overlay",
             "size": 10,
             "solidity": 0.2
            },
            "type": "scatter"
           }
          ],
          "scatter3d": [
           {
            "line": {
             "colorbar": {
              "outlinewidth": 0,
              "ticks": ""
             }
            },
            "marker": {
             "colorbar": {
              "outlinewidth": 0,
              "ticks": ""
             }
            },
            "type": "scatter3d"
           }
          ],
          "scattercarpet": [
           {
            "marker": {
             "colorbar": {
              "outlinewidth": 0,
              "ticks": ""
             }
            },
            "type": "scattercarpet"
           }
          ],
          "scattergeo": [
           {
            "marker": {
             "colorbar": {
              "outlinewidth": 0,
              "ticks": ""
             }
            },
            "type": "scattergeo"
           }
          ],
          "scattergl": [
           {
            "marker": {
             "colorbar": {
              "outlinewidth": 0,
              "ticks": ""
             }
            },
            "type": "scattergl"
           }
          ],
          "scattermapbox": [
           {
            "marker": {
             "colorbar": {
              "outlinewidth": 0,
              "ticks": ""
             }
            },
            "type": "scattermapbox"
           }
          ],
          "scatterpolar": [
           {
            "marker": {
             "colorbar": {
              "outlinewidth": 0,
              "ticks": ""
             }
            },
            "type": "scatterpolar"
           }
          ],
          "scatterpolargl": [
           {
            "marker": {
             "colorbar": {
              "outlinewidth": 0,
              "ticks": ""
             }
            },
            "type": "scatterpolargl"
           }
          ],
          "scatterternary": [
           {
            "marker": {
             "colorbar": {
              "outlinewidth": 0,
              "ticks": ""
             }
            },
            "type": "scatterternary"
           }
          ],
          "surface": [
           {
            "colorbar": {
             "outlinewidth": 0,
             "ticks": ""
            },
            "colorscale": [
             [
              0,
              "#0d0887"
             ],
             [
              0.1111111111111111,
              "#46039f"
             ],
             [
              0.2222222222222222,
              "#7201a8"
             ],
             [
              0.3333333333333333,
              "#9c179e"
             ],
             [
              0.4444444444444444,
              "#bd3786"
             ],
             [
              0.5555555555555556,
              "#d8576b"
             ],
             [
              0.6666666666666666,
              "#ed7953"
             ],
             [
              0.7777777777777778,
              "#fb9f3a"
             ],
             [
              0.8888888888888888,
              "#fdca26"
             ],
             [
              1,
              "#f0f921"
             ]
            ],
            "type": "surface"
           }
          ],
          "table": [
           {
            "cells": {
             "fill": {
              "color": "#EBF0F8"
             },
             "line": {
              "color": "white"
             }
            },
            "header": {
             "fill": {
              "color": "#C8D4E3"
             },
             "line": {
              "color": "white"
             }
            },
            "type": "table"
           }
          ]
         },
         "layout": {
          "annotationdefaults": {
           "arrowcolor": "#2a3f5f",
           "arrowhead": 0,
           "arrowwidth": 1
          },
          "autotypenumbers": "strict",
          "coloraxis": {
           "colorbar": {
            "outlinewidth": 0,
            "ticks": ""
           }
          },
          "colorscale": {
           "diverging": [
            [
             0,
             "#8e0152"
            ],
            [
             0.1,
             "#c51b7d"
            ],
            [
             0.2,
             "#de77ae"
            ],
            [
             0.3,
             "#f1b6da"
            ],
            [
             0.4,
             "#fde0ef"
            ],
            [
             0.5,
             "#f7f7f7"
            ],
            [
             0.6,
             "#e6f5d0"
            ],
            [
             0.7,
             "#b8e186"
            ],
            [
             0.8,
             "#7fbc41"
            ],
            [
             0.9,
             "#4d9221"
            ],
            [
             1,
             "#276419"
            ]
           ],
           "sequential": [
            [
             0,
             "#0d0887"
            ],
            [
             0.1111111111111111,
             "#46039f"
            ],
            [
             0.2222222222222222,
             "#7201a8"
            ],
            [
             0.3333333333333333,
             "#9c179e"
            ],
            [
             0.4444444444444444,
             "#bd3786"
            ],
            [
             0.5555555555555556,
             "#d8576b"
            ],
            [
             0.6666666666666666,
             "#ed7953"
            ],
            [
             0.7777777777777778,
             "#fb9f3a"
            ],
            [
             0.8888888888888888,
             "#fdca26"
            ],
            [
             1,
             "#f0f921"
            ]
           ],
           "sequentialminus": [
            [
             0,
             "#0d0887"
            ],
            [
             0.1111111111111111,
             "#46039f"
            ],
            [
             0.2222222222222222,
             "#7201a8"
            ],
            [
             0.3333333333333333,
             "#9c179e"
            ],
            [
             0.4444444444444444,
             "#bd3786"
            ],
            [
             0.5555555555555556,
             "#d8576b"
            ],
            [
             0.6666666666666666,
             "#ed7953"
            ],
            [
             0.7777777777777778,
             "#fb9f3a"
            ],
            [
             0.8888888888888888,
             "#fdca26"
            ],
            [
             1,
             "#f0f921"
            ]
           ]
          },
          "colorway": [
           "#636efa",
           "#EF553B",
           "#00cc96",
           "#ab63fa",
           "#FFA15A",
           "#19d3f3",
           "#FF6692",
           "#B6E880",
           "#FF97FF",
           "#FECB52"
          ],
          "font": {
           "color": "#2a3f5f"
          },
          "geo": {
           "bgcolor": "white",
           "lakecolor": "white",
           "landcolor": "#E5ECF6",
           "showlakes": true,
           "showland": true,
           "subunitcolor": "white"
          },
          "hoverlabel": {
           "align": "left"
          },
          "hovermode": "closest",
          "mapbox": {
           "style": "light"
          },
          "paper_bgcolor": "white",
          "plot_bgcolor": "#E5ECF6",
          "polar": {
           "angularaxis": {
            "gridcolor": "white",
            "linecolor": "white",
            "ticks": ""
           },
           "bgcolor": "#E5ECF6",
           "radialaxis": {
            "gridcolor": "white",
            "linecolor": "white",
            "ticks": ""
           }
          },
          "scene": {
           "xaxis": {
            "backgroundcolor": "#E5ECF6",
            "gridcolor": "white",
            "gridwidth": 2,
            "linecolor": "white",
            "showbackground": true,
            "ticks": "",
            "zerolinecolor": "white"
           },
           "yaxis": {
            "backgroundcolor": "#E5ECF6",
            "gridcolor": "white",
            "gridwidth": 2,
            "linecolor": "white",
            "showbackground": true,
            "ticks": "",
            "zerolinecolor": "white"
           },
           "zaxis": {
            "backgroundcolor": "#E5ECF6",
            "gridcolor": "white",
            "gridwidth": 2,
            "linecolor": "white",
            "showbackground": true,
            "ticks": "",
            "zerolinecolor": "white"
           }
          },
          "shapedefaults": {
           "line": {
            "color": "#2a3f5f"
           }
          },
          "ternary": {
           "aaxis": {
            "gridcolor": "white",
            "linecolor": "white",
            "ticks": ""
           },
           "baxis": {
            "gridcolor": "white",
            "linecolor": "white",
            "ticks": ""
           },
           "bgcolor": "#E5ECF6",
           "caxis": {
            "gridcolor": "white",
            "linecolor": "white",
            "ticks": ""
           }
          },
          "title": {
           "x": 0.05
          },
          "xaxis": {
           "automargin": true,
           "gridcolor": "white",
           "linecolor": "white",
           "ticks": "",
           "title": {
            "standoff": 15
           },
           "zerolinecolor": "white",
           "zerolinewidth": 2
          },
          "yaxis": {
           "automargin": true,
           "gridcolor": "white",
           "linecolor": "white",
           "ticks": "",
           "title": {
            "standoff": 15
           },
           "zerolinecolor": "white",
           "zerolinewidth": 2
          }
         }
        },
        "title": {
         "text": "Prophet Forecast Components"
        },
        "width": 900,
        "xaxis": {
         "anchor": "y",
         "domain": [
          0,
          1
         ],
         "range": [
          "2021-10-21T12:00:00",
          "2026-02-10T12:00:00"
         ],
         "type": "date"
        },
        "xaxis2": {
         "anchor": "y2",
         "domain": [
          0,
          1
         ],
         "range": [
          "2016-12-13T18:54:02.958904115",
          "2018-01-18T11:04:57.863013581"
         ],
         "tickformat": "%B %e",
         "type": "date"
        },
        "yaxis": {
         "anchor": "x",
         "domain": [
          0.575,
          1
         ],
         "rangemode": "normal",
         "title": {
          "text": "trend"
         },
         "zerolinecolor": "#AAA"
        },
        "yaxis2": {
         "anchor": "x2",
         "domain": [
          0,
          0.425
         ],
         "title": {
          "text": "yearly"
         },
         "zerolinecolor": "#AAA"
        }
       }
      }
     },
     "metadata": {},
     "output_type": "display_data"
    }
   ],
   "source": [
    "from prophet import Prophet\n",
    "from prophet.plot import plot_plotly, plot_components_plotly\n",
    "\n",
    "future_periods = 9\n",
    "\n",
    "df_prophet = present_ron95_data[['Date', 'Average Price']].rename(columns={'Date': 'ds', 'Average Price': 'y'})\n",
    "\n",
    "model = Prophet(yearly_seasonality=True)\n",
    "model.fit(df_prophet)\n",
    "\n",
    "future_gas = model.make_future_dataframe(periods=future_periods, freq='MS')\n",
    "forecast_gas = model.predict(future_gas)\n",
    "\n",
    "print(\"--- Sample of the forecast DataFrame (first 5 and last 5) ---\")\n",
    "print(forecast_gas[['ds', 'yhat', 'yhat_lower', 'yhat_upper']].head())\n",
    "print(forecast_gas[['ds', 'yhat', 'yhat_lower', 'yhat_upper']].tail())\n",
    "print(\"\\n\")\n",
    "\n",
    "fig = plot_plotly(model, forecast_gas)\n",
    "fig.update_layout(\n",
    "    title_text='Philippines Monthly Average Gas Price Forecast (RON95)',\n",
    "    xaxis_title='Date',\n",
    "    yaxis_title='Average Price (PHP)',\n",
    "    hovermode='x unified'\n",
    ")\n",
    "fig.show()\n",
    "\n",
    "# Plot the components of the forecast (trend, yearly seasonality, etc.)\n",
    "fig_components = plot_components_plotly(model, forecast_gas)\n",
    "fig_components.update_layout(\n",
    "    title_text='Prophet Forecast Components',\n",
    ")\n",
    "fig_components.show()\n"
   ]
  },
  {
   "cell_type": "markdown",
   "id": "34954c64",
   "metadata": {},
   "source": [
    "## Electricity Predictions"
   ]
  },
  {
   "cell_type": "code",
   "execution_count": 144,
   "id": "f0aeb90c",
   "metadata": {},
   "outputs": [
    {
     "name": "stderr",
     "output_type": "stream",
     "text": [
      "C:\\Users\\TahirLidasanJr\\AppData\\Local\\Temp\\ipykernel_3584\\506453296.py:1: SettingWithCopyWarning:\n",
      "\n",
      "\n",
      "A value is trying to be set on a copy of a slice from a DataFrame.\n",
      "Try using .loc[row_indexer,col_indexer] = value instead\n",
      "\n",
      "See the caveats in the documentation: https://pandas.pydata.org/pandas-docs/stable/user_guide/indexing.html#returning-a-view-versus-a-copy\n",
      "\n",
      "22:51:00 - cmdstanpy - INFO - Chain [1] start processing\n",
      "22:51:01 - cmdstanpy - INFO - Chain [1] done processing\n"
     ]
    },
    {
     "name": "stdout",
     "output_type": "stream",
     "text": [
      "--- Sample of the Meralco forecast DataFrame (first 5 and last 5) ---\n",
      "          ds       yhat  yhat_lower  yhat_upper\n",
      "0 2022-01-01  10.278778    9.861713   10.687254\n",
      "1 2022-02-01  10.345614    9.911696   10.761367\n",
      "2 2022-03-01  10.573761   10.134946   10.974005\n",
      "3 2022-04-01  10.490654   10.069367   10.931556\n",
      "4 2022-05-01  10.621978   10.196288   11.061951\n",
      "           ds       yhat  yhat_lower  yhat_upper\n",
      "43 2025-08-01  12.286717   11.850454   12.711205\n",
      "44 2025-09-01  12.460042   12.023568   12.905063\n",
      "45 2025-10-01  12.213890   11.749786   12.629303\n",
      "46 2025-11-01  12.462374   11.979217   12.893987\n",
      "47 2025-12-01  12.484683   12.022735   12.932650\n",
      "\n",
      "\n"
     ]
    },
    {
     "data": {
      "application/vnd.plotly.v1+json": {
       "config": {
        "plotlyServerURL": "https://plot.ly"
       },
       "data": [
        {
         "marker": {
          "color": "black",
          "size": 4
         },
         "mode": "markers",
         "name": "Actual",
         "type": "scatter",
         "x": [
          "2022-01-01T00:00:00",
          "2022-02-01T00:00:00",
          "2022-03-01T00:00:00",
          "2022-04-01T00:00:00",
          "2022-05-01T00:00:00",
          "2022-06-01T00:00:00",
          "2022-07-01T00:00:00",
          "2022-08-01T00:00:00",
          "2022-09-01T00:00:00",
          "2022-10-01T00:00:00",
          "2022-11-01T00:00:00",
          "2022-12-01T00:00:00",
          "2023-01-01T00:00:00",
          "2023-02-01T00:00:00",
          "2023-03-01T00:00:00",
          "2023-04-01T00:00:00",
          "2023-05-01T00:00:00",
          "2023-06-01T00:00:00",
          "2023-07-01T00:00:00",
          "2023-08-01T00:00:00",
          "2023-09-01T00:00:00",
          "2023-10-01T00:00:00",
          "2023-11-01T00:00:00",
          "2023-12-01T00:00:00",
          "2024-01-01T00:00:00",
          "2024-02-01T00:00:00",
          "2024-03-01T00:00:00",
          "2024-04-01T00:00:00",
          "2024-05-01T00:00:00",
          "2024-06-01T00:00:00",
          "2024-07-01T00:00:00",
          "2024-08-01T00:00:00",
          "2024-09-01T00:00:00",
          "2024-10-01T00:00:00",
          "2024-11-01T00:00:00",
          "2024-12-01T00:00:00"
         ],
         "y": [
          10.332,
          10.2167,
          10.2791,
          10.8155,
          10.6956,
          11.0937,
          10.3871,
          10.1647,
          10.5556,
          10.4818,
          10.5663,
          10.8959,
          11.5161,
          11.5085,
          12.0538,
          11.9357,
          12.1118,
          12.5302,
          11.8089,
          11.5181,
          12.0188,
          12.4388,
          12.6736,
          11.8775,
          11.9591,
          12.5358,
          12.5588,
          11.5709,
          12.0329,
          10.0708,
          12.2204,
          12.2529,
          12.4073,
          12.0485,
          12.4755,
          12.5804
         ]
        },
        {
         "hoverinfo": "skip",
         "line": {
          "width": 0
         },
         "mode": "lines",
         "type": "scatter",
         "x": [
          "2022-01-01T00:00:00",
          "2022-02-01T00:00:00",
          "2022-03-01T00:00:00",
          "2022-04-01T00:00:00",
          "2022-05-01T00:00:00",
          "2022-06-01T00:00:00",
          "2022-07-01T00:00:00",
          "2022-08-01T00:00:00",
          "2022-09-01T00:00:00",
          "2022-10-01T00:00:00",
          "2022-11-01T00:00:00",
          "2022-12-01T00:00:00",
          "2023-01-01T00:00:00",
          "2023-02-01T00:00:00",
          "2023-03-01T00:00:00",
          "2023-04-01T00:00:00",
          "2023-05-01T00:00:00",
          "2023-06-01T00:00:00",
          "2023-07-01T00:00:00",
          "2023-08-01T00:00:00",
          "2023-09-01T00:00:00",
          "2023-10-01T00:00:00",
          "2023-11-01T00:00:00",
          "2023-12-01T00:00:00",
          "2024-01-01T00:00:00",
          "2024-02-01T00:00:00",
          "2024-03-01T00:00:00",
          "2024-04-01T00:00:00",
          "2024-05-01T00:00:00",
          "2024-06-01T00:00:00",
          "2024-07-01T00:00:00",
          "2024-08-01T00:00:00",
          "2024-09-01T00:00:00",
          "2024-10-01T00:00:00",
          "2024-11-01T00:00:00",
          "2024-12-01T00:00:00",
          "2025-01-01T00:00:00",
          "2025-02-01T00:00:00",
          "2025-03-01T00:00:00",
          "2025-04-01T00:00:00",
          "2025-05-01T00:00:00",
          "2025-06-01T00:00:00",
          "2025-07-01T00:00:00",
          "2025-08-01T00:00:00",
          "2025-09-01T00:00:00",
          "2025-10-01T00:00:00",
          "2025-11-01T00:00:00",
          "2025-12-01T00:00:00"
         ],
         "y": [
          9.861712712052302,
          9.911696259512688,
          10.13494567652274,
          10.069367495577488,
          10.19628778408223,
          10.119275867477453,
          10.07510234694695,
          9.920142181804012,
          10.42019451664339,
          10.572106651881832,
          10.818891915329868,
          10.71525395914331,
          10.967175037324173,
          11.138719332360594,
          11.120204496459996,
          11.296629888618336,
          11.229046549789746,
          11.987209637300023,
          10.919725799909095,
          10.774355703936974,
          11.38372726579586,
          11.772987115321124,
          11.943550981672823,
          11.500400356602015,
          11.696151333801867,
          11.895694256434481,
          12.32978374466261,
          11.689555610519633,
          12.145915343173433,
          10.290674740847676,
          12.120822361610177,
          11.977679119583236,
          11.919313092344899,
          11.370187641814328,
          11.643880794634752,
          11.884832667964368,
          12.076305041414924,
          11.969290674953928,
          12.363993710394396,
          11.954482837883134,
          12.197456129618724,
          11.228693258094314,
          12.056553653460506,
          11.850453712056737,
          12.023568422069488,
          11.749785515194942,
          11.979217024605664,
          12.022734564986079
         ]
        },
        {
         "fill": "tonexty",
         "fillcolor": "rgba(0, 114, 178, 0.2)",
         "line": {
          "color": "#0072B2",
          "width": 2
         },
         "mode": "lines",
         "name": "Predicted",
         "type": "scatter",
         "x": [
          "2022-01-01T00:00:00",
          "2022-02-01T00:00:00",
          "2022-03-01T00:00:00",
          "2022-04-01T00:00:00",
          "2022-05-01T00:00:00",
          "2022-06-01T00:00:00",
          "2022-07-01T00:00:00",
          "2022-08-01T00:00:00",
          "2022-09-01T00:00:00",
          "2022-10-01T00:00:00",
          "2022-11-01T00:00:00",
          "2022-12-01T00:00:00",
          "2023-01-01T00:00:00",
          "2023-02-01T00:00:00",
          "2023-03-01T00:00:00",
          "2023-04-01T00:00:00",
          "2023-05-01T00:00:00",
          "2023-06-01T00:00:00",
          "2023-07-01T00:00:00",
          "2023-08-01T00:00:00",
          "2023-09-01T00:00:00",
          "2023-10-01T00:00:00",
          "2023-11-01T00:00:00",
          "2023-12-01T00:00:00",
          "2024-01-01T00:00:00",
          "2024-02-01T00:00:00",
          "2024-03-01T00:00:00",
          "2024-04-01T00:00:00",
          "2024-05-01T00:00:00",
          "2024-06-01T00:00:00",
          "2024-07-01T00:00:00",
          "2024-08-01T00:00:00",
          "2024-09-01T00:00:00",
          "2024-10-01T00:00:00",
          "2024-11-01T00:00:00",
          "2024-12-01T00:00:00",
          "2025-01-01T00:00:00",
          "2025-02-01T00:00:00",
          "2025-03-01T00:00:00",
          "2025-04-01T00:00:00",
          "2025-05-01T00:00:00",
          "2025-06-01T00:00:00",
          "2025-07-01T00:00:00",
          "2025-08-01T00:00:00",
          "2025-09-01T00:00:00",
          "2025-10-01T00:00:00",
          "2025-11-01T00:00:00",
          "2025-12-01T00:00:00"
         ],
         "y": [
          10.278777533598562,
          10.345614240411146,
          10.573761444798038,
          10.490653957592103,
          10.621978387715075,
          10.553075666463076,
          10.49754061860831,
          10.344645721010213,
          10.813638671811653,
          10.973305680732876,
          11.271965736183475,
          11.122294627789262,
          11.404990391774158,
          11.584700172741915,
          11.553414998323218,
          11.71654525524174,
          11.661932499735872,
          12.415753468820752,
          11.362980222006726,
          11.192884965515901,
          11.802882893097648,
          12.207802568379453,
          12.385582658555801,
          11.905384812311462,
          12.126861261695328,
          12.336699106964609,
          12.767544612832056,
          12.118565612284804,
          12.555944819919635,
          10.725528215338006,
          12.551787174432958,
          12.394366218575177,
          12.361449018295298,
          11.785298940812238,
          12.05639066170998,
          12.327802087618256,
          12.499647965990514,
          12.370931341452748,
          12.788279592996528,
          12.380170929312474,
          12.62293925617628,
          11.63806108354743,
          12.489860188377126,
          12.286716524619347,
          12.460042070489664,
          12.213889526361047,
          12.462374098665975,
          12.484682528287655
         ]
        },
        {
         "fill": "tonexty",
         "fillcolor": "rgba(0, 114, 178, 0.2)",
         "hoverinfo": "skip",
         "line": {
          "width": 0
         },
         "mode": "lines",
         "type": "scatter",
         "x": [
          "2022-01-01T00:00:00",
          "2022-02-01T00:00:00",
          "2022-03-01T00:00:00",
          "2022-04-01T00:00:00",
          "2022-05-01T00:00:00",
          "2022-06-01T00:00:00",
          "2022-07-01T00:00:00",
          "2022-08-01T00:00:00",
          "2022-09-01T00:00:00",
          "2022-10-01T00:00:00",
          "2022-11-01T00:00:00",
          "2022-12-01T00:00:00",
          "2023-01-01T00:00:00",
          "2023-02-01T00:00:00",
          "2023-03-01T00:00:00",
          "2023-04-01T00:00:00",
          "2023-05-01T00:00:00",
          "2023-06-01T00:00:00",
          "2023-07-01T00:00:00",
          "2023-08-01T00:00:00",
          "2023-09-01T00:00:00",
          "2023-10-01T00:00:00",
          "2023-11-01T00:00:00",
          "2023-12-01T00:00:00",
          "2024-01-01T00:00:00",
          "2024-02-01T00:00:00",
          "2024-03-01T00:00:00",
          "2024-04-01T00:00:00",
          "2024-05-01T00:00:00",
          "2024-06-01T00:00:00",
          "2024-07-01T00:00:00",
          "2024-08-01T00:00:00",
          "2024-09-01T00:00:00",
          "2024-10-01T00:00:00",
          "2024-11-01T00:00:00",
          "2024-12-01T00:00:00",
          "2025-01-01T00:00:00",
          "2025-02-01T00:00:00",
          "2025-03-01T00:00:00",
          "2025-04-01T00:00:00",
          "2025-05-01T00:00:00",
          "2025-06-01T00:00:00",
          "2025-07-01T00:00:00",
          "2025-08-01T00:00:00",
          "2025-09-01T00:00:00",
          "2025-10-01T00:00:00",
          "2025-11-01T00:00:00",
          "2025-12-01T00:00:00"
         ],
         "y": [
          10.68725439598098,
          10.761367228621593,
          10.9740046770326,
          10.931556171907062,
          11.061951061835504,
          10.976809152623034,
          10.925249635451662,
          10.766099115103533,
          11.254642625273545,
          11.372820581394224,
          11.659727652612679,
          11.558641464456366,
          11.836335876712063,
          11.991023978870727,
          11.991843570261363,
          12.134273652454533,
          12.109325881230287,
          12.843559340004848,
          11.787490271540056,
          11.617742566309053,
          12.243099347121213,
          12.60554147929353,
          12.785283507771293,
          12.335430271894817,
          12.541692364394356,
          12.768693954394653,
          13.221404387360828,
          12.536924085383342,
          12.989676864285071,
          11.145401426925698,
          12.962681149424588,
          12.817968470334737,
          12.778908832402623,
          12.190963639304826,
          12.458880106826397,
          12.761473053300955,
          12.934927036617022,
          12.777670770636066,
          13.216546343001205,
          12.795484650923376,
          13.026931745242221,
          12.059792019837785,
          12.932435857312681,
          12.711205083613818,
          12.905063415177242,
          12.629303213633406,
          12.893987177720884,
          12.932650374543513
         ]
        }
       ],
       "layout": {
        "height": 600,
        "hovermode": "x unified",
        "showlegend": false,
        "template": {
         "data": {
          "bar": [
           {
            "error_x": {
             "color": "#2a3f5f"
            },
            "error_y": {
             "color": "#2a3f5f"
            },
            "marker": {
             "line": {
              "color": "#E5ECF6",
              "width": 0.5
             },
             "pattern": {
              "fillmode": "overlay",
              "size": 10,
              "solidity": 0.2
             }
            },
            "type": "bar"
           }
          ],
          "barpolar": [
           {
            "marker": {
             "line": {
              "color": "#E5ECF6",
              "width": 0.5
             },
             "pattern": {
              "fillmode": "overlay",
              "size": 10,
              "solidity": 0.2
             }
            },
            "type": "barpolar"
           }
          ],
          "carpet": [
           {
            "aaxis": {
             "endlinecolor": "#2a3f5f",
             "gridcolor": "white",
             "linecolor": "white",
             "minorgridcolor": "white",
             "startlinecolor": "#2a3f5f"
            },
            "baxis": {
             "endlinecolor": "#2a3f5f",
             "gridcolor": "white",
             "linecolor": "white",
             "minorgridcolor": "white",
             "startlinecolor": "#2a3f5f"
            },
            "type": "carpet"
           }
          ],
          "choropleth": [
           {
            "colorbar": {
             "outlinewidth": 0,
             "ticks": ""
            },
            "type": "choropleth"
           }
          ],
          "contour": [
           {
            "colorbar": {
             "outlinewidth": 0,
             "ticks": ""
            },
            "colorscale": [
             [
              0,
              "#0d0887"
             ],
             [
              0.1111111111111111,
              "#46039f"
             ],
             [
              0.2222222222222222,
              "#7201a8"
             ],
             [
              0.3333333333333333,
              "#9c179e"
             ],
             [
              0.4444444444444444,
              "#bd3786"
             ],
             [
              0.5555555555555556,
              "#d8576b"
             ],
             [
              0.6666666666666666,
              "#ed7953"
             ],
             [
              0.7777777777777778,
              "#fb9f3a"
             ],
             [
              0.8888888888888888,
              "#fdca26"
             ],
             [
              1,
              "#f0f921"
             ]
            ],
            "type": "contour"
           }
          ],
          "contourcarpet": [
           {
            "colorbar": {
             "outlinewidth": 0,
             "ticks": ""
            },
            "type": "contourcarpet"
           }
          ],
          "heatmap": [
           {
            "colorbar": {
             "outlinewidth": 0,
             "ticks": ""
            },
            "colorscale": [
             [
              0,
              "#0d0887"
             ],
             [
              0.1111111111111111,
              "#46039f"
             ],
             [
              0.2222222222222222,
              "#7201a8"
             ],
             [
              0.3333333333333333,
              "#9c179e"
             ],
             [
              0.4444444444444444,
              "#bd3786"
             ],
             [
              0.5555555555555556,
              "#d8576b"
             ],
             [
              0.6666666666666666,
              "#ed7953"
             ],
             [
              0.7777777777777778,
              "#fb9f3a"
             ],
             [
              0.8888888888888888,
              "#fdca26"
             ],
             [
              1,
              "#f0f921"
             ]
            ],
            "type": "heatmap"
           }
          ],
          "heatmapgl": [
           {
            "colorbar": {
             "outlinewidth": 0,
             "ticks": ""
            },
            "colorscale": [
             [
              0,
              "#0d0887"
             ],
             [
              0.1111111111111111,
              "#46039f"
             ],
             [
              0.2222222222222222,
              "#7201a8"
             ],
             [
              0.3333333333333333,
              "#9c179e"
             ],
             [
              0.4444444444444444,
              "#bd3786"
             ],
             [
              0.5555555555555556,
              "#d8576b"
             ],
             [
              0.6666666666666666,
              "#ed7953"
             ],
             [
              0.7777777777777778,
              "#fb9f3a"
             ],
             [
              0.8888888888888888,
              "#fdca26"
             ],
             [
              1,
              "#f0f921"
             ]
            ],
            "type": "heatmapgl"
           }
          ],
          "histogram": [
           {
            "marker": {
             "pattern": {
              "fillmode": "overlay",
              "size": 10,
              "solidity": 0.2
             }
            },
            "type": "histogram"
           }
          ],
          "histogram2d": [
           {
            "colorbar": {
             "outlinewidth": 0,
             "ticks": ""
            },
            "colorscale": [
             [
              0,
              "#0d0887"
             ],
             [
              0.1111111111111111,
              "#46039f"
             ],
             [
              0.2222222222222222,
              "#7201a8"
             ],
             [
              0.3333333333333333,
              "#9c179e"
             ],
             [
              0.4444444444444444,
              "#bd3786"
             ],
             [
              0.5555555555555556,
              "#d8576b"
             ],
             [
              0.6666666666666666,
              "#ed7953"
             ],
             [
              0.7777777777777778,
              "#fb9f3a"
             ],
             [
              0.8888888888888888,
              "#fdca26"
             ],
             [
              1,
              "#f0f921"
             ]
            ],
            "type": "histogram2d"
           }
          ],
          "histogram2dcontour": [
           {
            "colorbar": {
             "outlinewidth": 0,
             "ticks": ""
            },
            "colorscale": [
             [
              0,
              "#0d0887"
             ],
             [
              0.1111111111111111,
              "#46039f"
             ],
             [
              0.2222222222222222,
              "#7201a8"
             ],
             [
              0.3333333333333333,
              "#9c179e"
             ],
             [
              0.4444444444444444,
              "#bd3786"
             ],
             [
              0.5555555555555556,
              "#d8576b"
             ],
             [
              0.6666666666666666,
              "#ed7953"
             ],
             [
              0.7777777777777778,
              "#fb9f3a"
             ],
             [
              0.8888888888888888,
              "#fdca26"
             ],
             [
              1,
              "#f0f921"
             ]
            ],
            "type": "histogram2dcontour"
           }
          ],
          "mesh3d": [
           {
            "colorbar": {
             "outlinewidth": 0,
             "ticks": ""
            },
            "type": "mesh3d"
           }
          ],
          "parcoords": [
           {
            "line": {
             "colorbar": {
              "outlinewidth": 0,
              "ticks": ""
             }
            },
            "type": "parcoords"
           }
          ],
          "pie": [
           {
            "automargin": true,
            "type": "pie"
           }
          ],
          "scatter": [
           {
            "fillpattern": {
             "fillmode": "overlay",
             "size": 10,
             "solidity": 0.2
            },
            "type": "scatter"
           }
          ],
          "scatter3d": [
           {
            "line": {
             "colorbar": {
              "outlinewidth": 0,
              "ticks": ""
             }
            },
            "marker": {
             "colorbar": {
              "outlinewidth": 0,
              "ticks": ""
             }
            },
            "type": "scatter3d"
           }
          ],
          "scattercarpet": [
           {
            "marker": {
             "colorbar": {
              "outlinewidth": 0,
              "ticks": ""
             }
            },
            "type": "scattercarpet"
           }
          ],
          "scattergeo": [
           {
            "marker": {
             "colorbar": {
              "outlinewidth": 0,
              "ticks": ""
             }
            },
            "type": "scattergeo"
           }
          ],
          "scattergl": [
           {
            "marker": {
             "colorbar": {
              "outlinewidth": 0,
              "ticks": ""
             }
            },
            "type": "scattergl"
           }
          ],
          "scattermapbox": [
           {
            "marker": {
             "colorbar": {
              "outlinewidth": 0,
              "ticks": ""
             }
            },
            "type": "scattermapbox"
           }
          ],
          "scatterpolar": [
           {
            "marker": {
             "colorbar": {
              "outlinewidth": 0,
              "ticks": ""
             }
            },
            "type": "scatterpolar"
           }
          ],
          "scatterpolargl": [
           {
            "marker": {
             "colorbar": {
              "outlinewidth": 0,
              "ticks": ""
             }
            },
            "type": "scatterpolargl"
           }
          ],
          "scatterternary": [
           {
            "marker": {
             "colorbar": {
              "outlinewidth": 0,
              "ticks": ""
             }
            },
            "type": "scatterternary"
           }
          ],
          "surface": [
           {
            "colorbar": {
             "outlinewidth": 0,
             "ticks": ""
            },
            "colorscale": [
             [
              0,
              "#0d0887"
             ],
             [
              0.1111111111111111,
              "#46039f"
             ],
             [
              0.2222222222222222,
              "#7201a8"
             ],
             [
              0.3333333333333333,
              "#9c179e"
             ],
             [
              0.4444444444444444,
              "#bd3786"
             ],
             [
              0.5555555555555556,
              "#d8576b"
             ],
             [
              0.6666666666666666,
              "#ed7953"
             ],
             [
              0.7777777777777778,
              "#fb9f3a"
             ],
             [
              0.8888888888888888,
              "#fdca26"
             ],
             [
              1,
              "#f0f921"
             ]
            ],
            "type": "surface"
           }
          ],
          "table": [
           {
            "cells": {
             "fill": {
              "color": "#EBF0F8"
             },
             "line": {
              "color": "white"
             }
            },
            "header": {
             "fill": {
              "color": "#C8D4E3"
             },
             "line": {
              "color": "white"
             }
            },
            "type": "table"
           }
          ]
         },
         "layout": {
          "annotationdefaults": {
           "arrowcolor": "#2a3f5f",
           "arrowhead": 0,
           "arrowwidth": 1
          },
          "autotypenumbers": "strict",
          "coloraxis": {
           "colorbar": {
            "outlinewidth": 0,
            "ticks": ""
           }
          },
          "colorscale": {
           "diverging": [
            [
             0,
             "#8e0152"
            ],
            [
             0.1,
             "#c51b7d"
            ],
            [
             0.2,
             "#de77ae"
            ],
            [
             0.3,
             "#f1b6da"
            ],
            [
             0.4,
             "#fde0ef"
            ],
            [
             0.5,
             "#f7f7f7"
            ],
            [
             0.6,
             "#e6f5d0"
            ],
            [
             0.7,
             "#b8e186"
            ],
            [
             0.8,
             "#7fbc41"
            ],
            [
             0.9,
             "#4d9221"
            ],
            [
             1,
             "#276419"
            ]
           ],
           "sequential": [
            [
             0,
             "#0d0887"
            ],
            [
             0.1111111111111111,
             "#46039f"
            ],
            [
             0.2222222222222222,
             "#7201a8"
            ],
            [
             0.3333333333333333,
             "#9c179e"
            ],
            [
             0.4444444444444444,
             "#bd3786"
            ],
            [
             0.5555555555555556,
             "#d8576b"
            ],
            [
             0.6666666666666666,
             "#ed7953"
            ],
            [
             0.7777777777777778,
             "#fb9f3a"
            ],
            [
             0.8888888888888888,
             "#fdca26"
            ],
            [
             1,
             "#f0f921"
            ]
           ],
           "sequentialminus": [
            [
             0,
             "#0d0887"
            ],
            [
             0.1111111111111111,
             "#46039f"
            ],
            [
             0.2222222222222222,
             "#7201a8"
            ],
            [
             0.3333333333333333,
             "#9c179e"
            ],
            [
             0.4444444444444444,
             "#bd3786"
            ],
            [
             0.5555555555555556,
             "#d8576b"
            ],
            [
             0.6666666666666666,
             "#ed7953"
            ],
            [
             0.7777777777777778,
             "#fb9f3a"
            ],
            [
             0.8888888888888888,
             "#fdca26"
            ],
            [
             1,
             "#f0f921"
            ]
           ]
          },
          "colorway": [
           "#636efa",
           "#EF553B",
           "#00cc96",
           "#ab63fa",
           "#FFA15A",
           "#19d3f3",
           "#FF6692",
           "#B6E880",
           "#FF97FF",
           "#FECB52"
          ],
          "font": {
           "color": "#2a3f5f"
          },
          "geo": {
           "bgcolor": "white",
           "lakecolor": "white",
           "landcolor": "#E5ECF6",
           "showlakes": true,
           "showland": true,
           "subunitcolor": "white"
          },
          "hoverlabel": {
           "align": "left"
          },
          "hovermode": "closest",
          "mapbox": {
           "style": "light"
          },
          "paper_bgcolor": "white",
          "plot_bgcolor": "#E5ECF6",
          "polar": {
           "angularaxis": {
            "gridcolor": "white",
            "linecolor": "white",
            "ticks": ""
           },
           "bgcolor": "#E5ECF6",
           "radialaxis": {
            "gridcolor": "white",
            "linecolor": "white",
            "ticks": ""
           }
          },
          "scene": {
           "xaxis": {
            "backgroundcolor": "#E5ECF6",
            "gridcolor": "white",
            "gridwidth": 2,
            "linecolor": "white",
            "showbackground": true,
            "ticks": "",
            "zerolinecolor": "white"
           },
           "yaxis": {
            "backgroundcolor": "#E5ECF6",
            "gridcolor": "white",
            "gridwidth": 2,
            "linecolor": "white",
            "showbackground": true,
            "ticks": "",
            "zerolinecolor": "white"
           },
           "zaxis": {
            "backgroundcolor": "#E5ECF6",
            "gridcolor": "white",
            "gridwidth": 2,
            "linecolor": "white",
            "showbackground": true,
            "ticks": "",
            "zerolinecolor": "white"
           }
          },
          "shapedefaults": {
           "line": {
            "color": "#2a3f5f"
           }
          },
          "ternary": {
           "aaxis": {
            "gridcolor": "white",
            "linecolor": "white",
            "ticks": ""
           },
           "baxis": {
            "gridcolor": "white",
            "linecolor": "white",
            "ticks": ""
           },
           "bgcolor": "#E5ECF6",
           "caxis": {
            "gridcolor": "white",
            "linecolor": "white",
            "ticks": ""
           }
          },
          "title": {
           "x": 0.05
          },
          "xaxis": {
           "automargin": true,
           "gridcolor": "white",
           "linecolor": "white",
           "ticks": "",
           "title": {
            "standoff": 15
           },
           "zerolinecolor": "white",
           "zerolinewidth": 2
          },
          "yaxis": {
           "automargin": true,
           "gridcolor": "white",
           "linecolor": "white",
           "ticks": "",
           "title": {
            "standoff": 15
           },
           "zerolinecolor": "white",
           "zerolinewidth": 2
          }
         }
        },
        "title": {
         "text": "Philippines Monthly Average Meralco Bill Forecast"
        },
        "width": 900,
        "xaxis": {
         "rangeselector": {
          "buttons": [
           {
            "count": 7,
            "label": "1w",
            "step": "day",
            "stepmode": "backward"
           },
           {
            "count": 1,
            "label": "1m",
            "step": "month",
            "stepmode": "backward"
           },
           {
            "count": 6,
            "label": "6m",
            "step": "month",
            "stepmode": "backward"
           },
           {
            "count": 1,
            "label": "1y",
            "step": "year",
            "stepmode": "backward"
           },
           {
            "step": "all"
           }
          ]
         },
         "rangeslider": {
          "visible": true
         },
         "title": {
          "text": "Date"
         },
         "type": "date"
        },
        "yaxis": {
         "title": {
          "text": "Total Bill (PHP)"
         }
        }
       }
      }
     },
     "metadata": {},
     "output_type": "display_data"
    },
    {
     "data": {
      "application/vnd.plotly.v1+json": {
       "config": {
        "plotlyServerURL": "https://plot.ly"
       },
       "data": [
        {
         "line": {
          "color": "#0072B2",
          "width": 2
         },
         "mode": "lines",
         "name": "trend",
         "type": "scatter",
         "x": [
          "2022-01-01T00:00:00",
          "2022-02-01T00:00:00",
          "2022-03-01T00:00:00",
          "2022-04-01T00:00:00",
          "2022-05-01T00:00:00",
          "2022-06-01T00:00:00",
          "2022-07-01T00:00:00",
          "2022-08-01T00:00:00",
          "2022-09-01T00:00:00",
          "2022-10-01T00:00:00",
          "2022-11-01T00:00:00",
          "2022-12-01T00:00:00",
          "2023-01-01T00:00:00",
          "2023-02-01T00:00:00",
          "2023-03-01T00:00:00",
          "2023-04-01T00:00:00",
          "2023-05-01T00:00:00",
          "2023-06-01T00:00:00",
          "2023-07-01T00:00:00",
          "2023-08-01T00:00:00",
          "2023-09-01T00:00:00",
          "2023-10-01T00:00:00",
          "2023-11-01T00:00:00",
          "2023-12-01T00:00:00",
          "2024-01-01T00:00:00",
          "2024-02-01T00:00:00",
          "2024-03-01T00:00:00",
          "2024-04-01T00:00:00",
          "2024-05-01T00:00:00",
          "2024-06-01T00:00:00",
          "2024-07-01T00:00:00",
          "2024-08-01T00:00:00",
          "2024-09-01T00:00:00",
          "2024-10-01T00:00:00",
          "2024-11-01T00:00:00",
          "2024-12-01T00:00:00",
          "2025-01-01T00:00:00",
          "2025-02-01T00:00:00",
          "2025-03-01T00:00:00",
          "2025-04-01T00:00:00",
          "2025-05-01T00:00:00",
          "2025-06-01T00:00:00",
          "2025-07-01T00:00:00",
          "2025-08-01T00:00:00",
          "2025-09-01T00:00:00",
          "2025-10-01T00:00:00",
          "2025-11-01T00:00:00",
          "2025-12-01T00:00:00"
         ],
         "xaxis": "x",
         "y": [
          10.2680746784,
          10.36803703794479,
          10.458325621060528,
          10.558287978978225,
          10.655025746743416,
          10.754988106277468,
          10.851725871443406,
          10.95168822738228,
          11.051650583321154,
          11.148388349047428,
          11.248350706553746,
          11.345088473321146,
          11.445050831916314,
          11.545013188803729,
          11.635301761369515,
          11.735124695623814,
          11.831602509982249,
          11.931097644856973,
          12.027142501907193,
          12.126022835733481,
          12.144766759150004,
          12.162906039875672,
          12.181586979760427,
          12.19966519111835,
          12.21834600337417,
          12.237026817485704,
          12.25450241969565,
          12.27318323786124,
          12.291261864258479,
          12.309943111535626,
          12.328021737932865,
          12.346702985210012,
          12.365384232487157,
          12.383462858884396,
          12.402144106161543,
          12.42022273255878,
          12.438903979835928,
          12.457585227113075,
          12.474458611750498,
          12.493139859027645,
          12.511218485424882,
          12.52989973270203,
          12.547978359099268,
          12.566659606376415,
          12.585340853653562,
          12.6034194800508,
          12.622100727327947,
          12.640179353725186
         ],
         "yaxis": "y"
        },
        {
         "line": {
          "color": "rgba(0, 114, 178, 0.2)",
          "width": 0
         },
         "mode": "lines",
         "name": "trend_upper",
         "type": "scatter",
         "x": [
          "2022-01-01T00:00:00",
          "2022-02-01T00:00:00",
          "2022-03-01T00:00:00",
          "2022-04-01T00:00:00",
          "2022-05-01T00:00:00",
          "2022-06-01T00:00:00",
          "2022-07-01T00:00:00",
          "2022-08-01T00:00:00",
          "2022-09-01T00:00:00",
          "2022-10-01T00:00:00",
          "2022-11-01T00:00:00",
          "2022-12-01T00:00:00",
          "2023-01-01T00:00:00",
          "2023-02-01T00:00:00",
          "2023-03-01T00:00:00",
          "2023-04-01T00:00:00",
          "2023-05-01T00:00:00",
          "2023-06-01T00:00:00",
          "2023-07-01T00:00:00",
          "2023-08-01T00:00:00",
          "2023-09-01T00:00:00",
          "2023-10-01T00:00:00",
          "2023-11-01T00:00:00",
          "2023-12-01T00:00:00",
          "2024-01-01T00:00:00",
          "2024-02-01T00:00:00",
          "2024-03-01T00:00:00",
          "2024-04-01T00:00:00",
          "2024-05-01T00:00:00",
          "2024-06-01T00:00:00",
          "2024-07-01T00:00:00",
          "2024-08-01T00:00:00",
          "2024-09-01T00:00:00",
          "2024-10-01T00:00:00",
          "2024-11-01T00:00:00",
          "2024-12-01T00:00:00",
          "2025-01-01T00:00:00",
          "2025-02-01T00:00:00",
          "2025-03-01T00:00:00",
          "2025-04-01T00:00:00",
          "2025-05-01T00:00:00",
          "2025-06-01T00:00:00",
          "2025-07-01T00:00:00",
          "2025-08-01T00:00:00",
          "2025-09-01T00:00:00",
          "2025-10-01T00:00:00",
          "2025-11-01T00:00:00",
          "2025-12-01T00:00:00"
         ],
         "xaxis": "x",
         "y": [
          10.2680746784,
          10.36803703794479,
          10.458325621060528,
          10.558287978978225,
          10.655025746743416,
          10.754988106277468,
          10.851725871443406,
          10.95168822738228,
          11.051650583321154,
          11.148388349047428,
          11.248350706553746,
          11.345088473321146,
          11.445050831916314,
          11.545013188803729,
          11.635301761369515,
          11.735124695623814,
          11.831602509982249,
          11.931097644856973,
          12.027142501907193,
          12.126022835733481,
          12.144766759150004,
          12.162906039875672,
          12.181586979760427,
          12.19966519111835,
          12.21834600337417,
          12.237026817485704,
          12.25450241969565,
          12.27318323786124,
          12.291261864258479,
          12.309943111535626,
          12.328021737932865,
          12.346702985210012,
          12.365384232487157,
          12.383462858884396,
          12.402144106161543,
          12.42022273255878,
          12.440797381485222,
          12.463791977166595,
          12.486054521608564,
          12.511657375893218,
          12.537544116853642,
          12.564058326622703,
          12.593540745590676,
          12.622671254412808,
          12.654504420705395,
          12.68320755012451,
          12.714915456636017,
          12.746390972230465
         ],
         "yaxis": "y"
        },
        {
         "fill": "tonexty",
         "fillcolor": "rgba(0, 114, 178, 0.2)",
         "line": {
          "color": "rgba(0, 114, 178, 0.2)",
          "width": 0
         },
         "mode": "lines",
         "name": "trend_lower",
         "type": "scatter",
         "x": [
          "2022-01-01T00:00:00",
          "2022-02-01T00:00:00",
          "2022-03-01T00:00:00",
          "2022-04-01T00:00:00",
          "2022-05-01T00:00:00",
          "2022-06-01T00:00:00",
          "2022-07-01T00:00:00",
          "2022-08-01T00:00:00",
          "2022-09-01T00:00:00",
          "2022-10-01T00:00:00",
          "2022-11-01T00:00:00",
          "2022-12-01T00:00:00",
          "2023-01-01T00:00:00",
          "2023-02-01T00:00:00",
          "2023-03-01T00:00:00",
          "2023-04-01T00:00:00",
          "2023-05-01T00:00:00",
          "2023-06-01T00:00:00",
          "2023-07-01T00:00:00",
          "2023-08-01T00:00:00",
          "2023-09-01T00:00:00",
          "2023-10-01T00:00:00",
          "2023-11-01T00:00:00",
          "2023-12-01T00:00:00",
          "2024-01-01T00:00:00",
          "2024-02-01T00:00:00",
          "2024-03-01T00:00:00",
          "2024-04-01T00:00:00",
          "2024-05-01T00:00:00",
          "2024-06-01T00:00:00",
          "2024-07-01T00:00:00",
          "2024-08-01T00:00:00",
          "2024-09-01T00:00:00",
          "2024-10-01T00:00:00",
          "2024-11-01T00:00:00",
          "2024-12-01T00:00:00",
          "2025-01-01T00:00:00",
          "2025-02-01T00:00:00",
          "2025-03-01T00:00:00",
          "2025-04-01T00:00:00",
          "2025-05-01T00:00:00",
          "2025-06-01T00:00:00",
          "2025-07-01T00:00:00",
          "2025-08-01T00:00:00",
          "2025-09-01T00:00:00",
          "2025-10-01T00:00:00",
          "2025-11-01T00:00:00",
          "2025-12-01T00:00:00"
         ],
         "xaxis": "x",
         "y": [
          10.2680746784,
          10.36803703794479,
          10.458325621060528,
          10.558287978978225,
          10.655025746743416,
          10.754988106277468,
          10.851725871443406,
          10.95168822738228,
          11.051650583321154,
          11.148388349047428,
          11.248350706553746,
          11.345088473321146,
          11.445050831916314,
          11.545013188803729,
          11.635301761369515,
          11.735124695623814,
          11.831602509982249,
          11.931097644856973,
          12.027142501907193,
          12.126022835733481,
          12.144766759150004,
          12.162906039875672,
          12.181586979760427,
          12.19966519111835,
          12.21834600337417,
          12.237026817485704,
          12.25450241969565,
          12.27318323786124,
          12.291261864258479,
          12.309943111535626,
          12.328021737932865,
          12.346702985210012,
          12.365384232487157,
          12.383462858884396,
          12.402144106161543,
          12.42022273255878,
          12.437021291117055,
          12.451413836418164,
          12.461611696806983,
          12.473272624970795,
          12.481989898859021,
          12.49195787646117,
          12.49994204396841,
          12.508002883859763,
          12.514384608423345,
          12.52027145853243,
          12.526546459953186,
          12.529263172196757
         ],
         "yaxis": "y"
        },
        {
         "line": {
          "color": "#0072B2",
          "width": 2
         },
         "mode": "lines",
         "name": "yearly",
         "type": "scatter",
         "x": [
          "2017-01-01T00:00:00",
          "2017-01-02T00:00:59.178082",
          "2017-01-03T00:01:58.356164",
          "2017-01-04T00:02:57.534246",
          "2017-01-05T00:03:56.712328",
          "2017-01-06T00:04:55.890411",
          "2017-01-07T00:05:55.068493",
          "2017-01-08T00:06:54.246575",
          "2017-01-09T00:07:53.424657",
          "2017-01-10T00:08:52.602739",
          "2017-01-11T00:09:51.780822",
          "2017-01-12T00:10:50.958904",
          "2017-01-13T00:11:50.136986",
          "2017-01-14T00:12:49.315068",
          "2017-01-15T00:13:48.493150",
          "2017-01-16T00:14:47.671232",
          "2017-01-17T00:15:46.849315",
          "2017-01-18T00:16:46.027397",
          "2017-01-19T00:17:45.205479",
          "2017-01-20T00:18:44.383561",
          "2017-01-21T00:19:43.561643",
          "2017-01-22T00:20:42.739726",
          "2017-01-23T00:21:41.917808",
          "2017-01-24T00:22:41.095890",
          "2017-01-25T00:23:40.273972",
          "2017-01-26T00:24:39.452054",
          "2017-01-27T00:25:38.630137",
          "2017-01-28T00:26:37.808219",
          "2017-01-29T00:27:36.986301",
          "2017-01-30T00:28:36.164383",
          "2017-01-31T00:29:35.342465",
          "2017-02-01T00:30:34.520547",
          "2017-02-02T00:31:33.698630",
          "2017-02-03T00:32:32.876712",
          "2017-02-04T00:33:32.054794",
          "2017-02-05T00:34:31.232876",
          "2017-02-06T00:35:30.410958",
          "2017-02-07T00:36:29.589041",
          "2017-02-08T00:37:28.767123",
          "2017-02-09T00:38:27.945205",
          "2017-02-10T00:39:27.123287",
          "2017-02-11T00:40:26.301369",
          "2017-02-12T00:41:25.479452",
          "2017-02-13T00:42:24.657534",
          "2017-02-14T00:43:23.835616",
          "2017-02-15T00:44:23.013698",
          "2017-02-16T00:45:22.191780",
          "2017-02-17T00:46:21.369862",
          "2017-02-18T00:47:20.547945",
          "2017-02-19T00:48:19.726027",
          "2017-02-20T00:49:18.904109",
          "2017-02-21T00:50:18.082191",
          "2017-02-22T00:51:17.260273",
          "2017-02-23T00:52:16.438356",
          "2017-02-24T00:53:15.616438",
          "2017-02-25T00:54:14.794520",
          "2017-02-26T00:55:13.972602",
          "2017-02-27T00:56:13.150684",
          "2017-02-28T00:57:12.328767",
          "2017-03-01T00:58:11.506849",
          "2017-03-02T00:59:10.684931",
          "2017-03-03T01:00:09.863013",
          "2017-03-04T01:01:09.041095",
          "2017-03-05T01:02:08.219177",
          "2017-03-06T01:03:07.397260",
          "2017-03-07T01:04:06.575342",
          "2017-03-08T01:05:05.753424",
          "2017-03-09T01:06:04.931506",
          "2017-03-10T01:07:04.109588",
          "2017-03-11T01:08:03.287671",
          "2017-03-12T01:09:02.465753",
          "2017-03-13T01:10:01.643835",
          "2017-03-14T01:11:00.821917",
          "2017-03-15T01:12:00",
          "2017-03-16T01:12:59.178082",
          "2017-03-17T01:13:58.356164",
          "2017-03-18T01:14:57.534246",
          "2017-03-19T01:15:56.712328",
          "2017-03-20T01:16:55.890411",
          "2017-03-21T01:17:55.068493",
          "2017-03-22T01:18:54.246575",
          "2017-03-23T01:19:53.424657",
          "2017-03-24T01:20:52.602739",
          "2017-03-25T01:21:51.780822",
          "2017-03-26T01:22:50.958904",
          "2017-03-27T01:23:50.136986",
          "2017-03-28T01:24:49.315068",
          "2017-03-29T01:25:48.493150",
          "2017-03-30T01:26:47.671232",
          "2017-03-31T01:27:46.849315",
          "2017-04-01T01:28:46.027397",
          "2017-04-02T01:29:45.205479",
          "2017-04-03T01:30:44.383561",
          "2017-04-04T01:31:43.561643",
          "2017-04-05T01:32:42.739726",
          "2017-04-06T01:33:41.917808",
          "2017-04-07T01:34:41.095890",
          "2017-04-08T01:35:40.273972",
          "2017-04-09T01:36:39.452054",
          "2017-04-10T01:37:38.630137",
          "2017-04-11T01:38:37.808219",
          "2017-04-12T01:39:36.986301",
          "2017-04-13T01:40:36.164383",
          "2017-04-14T01:41:35.342465",
          "2017-04-15T01:42:34.520547",
          "2017-04-16T01:43:33.698630",
          "2017-04-17T01:44:32.876712",
          "2017-04-18T01:45:32.054794",
          "2017-04-19T01:46:31.232876",
          "2017-04-20T01:47:30.410958",
          "2017-04-21T01:48:29.589041",
          "2017-04-22T01:49:28.767123",
          "2017-04-23T01:50:27.945205",
          "2017-04-24T01:51:27.123287",
          "2017-04-25T01:52:26.301369",
          "2017-04-26T01:53:25.479452",
          "2017-04-27T01:54:24.657534",
          "2017-04-28T01:55:23.835616",
          "2017-04-29T01:56:23.013698",
          "2017-04-30T01:57:22.191780",
          "2017-05-01T01:58:21.369862",
          "2017-05-02T01:59:20.547945",
          "2017-05-03T02:00:19.726027",
          "2017-05-04T02:01:18.904109",
          "2017-05-05T02:02:18.082191",
          "2017-05-06T02:03:17.260273",
          "2017-05-07T02:04:16.438356",
          "2017-05-08T02:05:15.616438",
          "2017-05-09T02:06:14.794520",
          "2017-05-10T02:07:13.972602",
          "2017-05-11T02:08:13.150684",
          "2017-05-12T02:09:12.328767",
          "2017-05-13T02:10:11.506849",
          "2017-05-14T02:11:10.684931",
          "2017-05-15T02:12:09.863013",
          "2017-05-16T02:13:09.041095",
          "2017-05-17T02:14:08.219177",
          "2017-05-18T02:15:07.397260",
          "2017-05-19T02:16:06.575342",
          "2017-05-20T02:17:05.753424",
          "2017-05-21T02:18:04.931506",
          "2017-05-22T02:19:04.109588",
          "2017-05-23T02:20:03.287671",
          "2017-05-24T02:21:02.465753",
          "2017-05-25T02:22:01.643835",
          "2017-05-26T02:23:00.821917",
          "2017-05-27T02:24:00",
          "2017-05-28T02:24:59.178082",
          "2017-05-29T02:25:58.356164",
          "2017-05-30T02:26:57.534246",
          "2017-05-31T02:27:56.712328",
          "2017-06-01T02:28:55.890411",
          "2017-06-02T02:29:55.068493",
          "2017-06-03T02:30:54.246575",
          "2017-06-04T02:31:53.424657",
          "2017-06-05T02:32:52.602739",
          "2017-06-06T02:33:51.780822",
          "2017-06-07T02:34:50.958904",
          "2017-06-08T02:35:50.136986",
          "2017-06-09T02:36:49.315068",
          "2017-06-10T02:37:48.493150",
          "2017-06-11T02:38:47.671232",
          "2017-06-12T02:39:46.849315",
          "2017-06-13T02:40:46.027397",
          "2017-06-14T02:41:45.205479",
          "2017-06-15T02:42:44.383561",
          "2017-06-16T02:43:43.561643",
          "2017-06-17T02:44:42.739726",
          "2017-06-18T02:45:41.917808",
          "2017-06-19T02:46:41.095890",
          "2017-06-20T02:47:40.273972",
          "2017-06-21T02:48:39.452054",
          "2017-06-22T02:49:38.630137",
          "2017-06-23T02:50:37.808219",
          "2017-06-24T02:51:36.986301",
          "2017-06-25T02:52:36.164383",
          "2017-06-26T02:53:35.342465",
          "2017-06-27T02:54:34.520547",
          "2017-06-28T02:55:33.698630",
          "2017-06-29T02:56:32.876712",
          "2017-06-30T02:57:32.054794",
          "2017-07-01T02:58:31.232876",
          "2017-07-02T02:59:30.410958",
          "2017-07-03T03:00:29.589041",
          "2017-07-04T03:01:28.767123",
          "2017-07-05T03:02:27.945205",
          "2017-07-06T03:03:27.123287",
          "2017-07-07T03:04:26.301369",
          "2017-07-08T03:05:25.479452",
          "2017-07-09T03:06:24.657534",
          "2017-07-10T03:07:23.835616",
          "2017-07-11T03:08:23.013698",
          "2017-07-12T03:09:22.191780",
          "2017-07-13T03:10:21.369862",
          "2017-07-14T03:11:20.547945",
          "2017-07-15T03:12:19.726027",
          "2017-07-16T03:13:18.904109",
          "2017-07-17T03:14:18.082191",
          "2017-07-18T03:15:17.260273",
          "2017-07-19T03:16:16.438356",
          "2017-07-20T03:17:15.616438",
          "2017-07-21T03:18:14.794520",
          "2017-07-22T03:19:13.972602",
          "2017-07-23T03:20:13.150684",
          "2017-07-24T03:21:12.328767",
          "2017-07-25T03:22:11.506849",
          "2017-07-26T03:23:10.684931",
          "2017-07-27T03:24:09.863013",
          "2017-07-28T03:25:09.041095",
          "2017-07-29T03:26:08.219177",
          "2017-07-30T03:27:07.397260",
          "2017-07-31T03:28:06.575342",
          "2017-08-01T03:29:05.753424",
          "2017-08-02T03:30:04.931506",
          "2017-08-03T03:31:04.109588",
          "2017-08-04T03:32:03.287671",
          "2017-08-05T03:33:02.465753",
          "2017-08-06T03:34:01.643835",
          "2017-08-07T03:35:00.821917",
          "2017-08-08T03:36:00",
          "2017-08-09T03:36:59.178082",
          "2017-08-10T03:37:58.356164",
          "2017-08-11T03:38:57.534246",
          "2017-08-12T03:39:56.712328",
          "2017-08-13T03:40:55.890411",
          "2017-08-14T03:41:55.068493",
          "2017-08-15T03:42:54.246575",
          "2017-08-16T03:43:53.424657",
          "2017-08-17T03:44:52.602739",
          "2017-08-18T03:45:51.780822",
          "2017-08-19T03:46:50.958904",
          "2017-08-20T03:47:50.136986",
          "2017-08-21T03:48:49.315068",
          "2017-08-22T03:49:48.493150",
          "2017-08-23T03:50:47.671232",
          "2017-08-24T03:51:46.849315",
          "2017-08-25T03:52:46.027397",
          "2017-08-26T03:53:45.205479",
          "2017-08-27T03:54:44.383561",
          "2017-08-28T03:55:43.561643",
          "2017-08-29T03:56:42.739726",
          "2017-08-30T03:57:41.917808",
          "2017-08-31T03:58:41.095890",
          "2017-09-01T03:59:40.273972",
          "2017-09-02T04:00:39.452054",
          "2017-09-03T04:01:38.630137",
          "2017-09-04T04:02:37.808219",
          "2017-09-05T04:03:36.986301",
          "2017-09-06T04:04:36.164383",
          "2017-09-07T04:05:35.342465",
          "2017-09-08T04:06:34.520547",
          "2017-09-09T04:07:33.698630",
          "2017-09-10T04:08:32.876712",
          "2017-09-11T04:09:32.054794",
          "2017-09-12T04:10:31.232876",
          "2017-09-13T04:11:30.410958",
          "2017-09-14T04:12:29.589041",
          "2017-09-15T04:13:28.767123",
          "2017-09-16T04:14:27.945205",
          "2017-09-17T04:15:27.123287",
          "2017-09-18T04:16:26.301369",
          "2017-09-19T04:17:25.479452",
          "2017-09-20T04:18:24.657534",
          "2017-09-21T04:19:23.835616",
          "2017-09-22T04:20:23.013698",
          "2017-09-23T04:21:22.191780",
          "2017-09-24T04:22:21.369862",
          "2017-09-25T04:23:20.547945",
          "2017-09-26T04:24:19.726027",
          "2017-09-27T04:25:18.904109",
          "2017-09-28T04:26:18.082191",
          "2017-09-29T04:27:17.260273",
          "2017-09-30T04:28:16.438356",
          "2017-10-01T04:29:15.616438",
          "2017-10-02T04:30:14.794520",
          "2017-10-03T04:31:13.972602",
          "2017-10-04T04:32:13.150684",
          "2017-10-05T04:33:12.328767",
          "2017-10-06T04:34:11.506849",
          "2017-10-07T04:35:10.684931",
          "2017-10-08T04:36:09.863013",
          "2017-10-09T04:37:09.041095",
          "2017-10-10T04:38:08.219177",
          "2017-10-11T04:39:07.397260",
          "2017-10-12T04:40:06.575342",
          "2017-10-13T04:41:05.753424",
          "2017-10-14T04:42:04.931506",
          "2017-10-15T04:43:04.109588",
          "2017-10-16T04:44:03.287671",
          "2017-10-17T04:45:02.465753",
          "2017-10-18T04:46:01.643835",
          "2017-10-19T04:47:00.821917",
          "2017-10-20T04:48:00",
          "2017-10-21T04:48:59.178082",
          "2017-10-22T04:49:58.356164",
          "2017-10-23T04:50:57.534246",
          "2017-10-24T04:51:56.712328",
          "2017-10-25T04:52:55.890411",
          "2017-10-26T04:53:55.068493",
          "2017-10-27T04:54:54.246575",
          "2017-10-28T04:55:53.424657",
          "2017-10-29T04:56:52.602739",
          "2017-10-30T04:57:51.780822",
          "2017-10-31T04:58:50.958904",
          "2017-11-01T04:59:50.136986",
          "2017-11-02T05:00:49.315068",
          "2017-11-03T05:01:48.493150",
          "2017-11-04T05:02:47.671232",
          "2017-11-05T05:03:46.849315",
          "2017-11-06T05:04:46.027397",
          "2017-11-07T05:05:45.205479",
          "2017-11-08T05:06:44.383561",
          "2017-11-09T05:07:43.561643",
          "2017-11-10T05:08:42.739726",
          "2017-11-11T05:09:41.917808",
          "2017-11-12T05:10:41.095890",
          "2017-11-13T05:11:40.273972",
          "2017-11-14T05:12:39.452054",
          "2017-11-15T05:13:38.630137",
          "2017-11-16T05:14:37.808219",
          "2017-11-17T05:15:36.986301",
          "2017-11-18T05:16:36.164383",
          "2017-11-19T05:17:35.342465",
          "2017-11-20T05:18:34.520547",
          "2017-11-21T05:19:33.698630",
          "2017-11-22T05:20:32.876712",
          "2017-11-23T05:21:32.054794",
          "2017-11-24T05:22:31.232876",
          "2017-11-25T05:23:30.410958",
          "2017-11-26T05:24:29.589041",
          "2017-11-27T05:25:28.767123",
          "2017-11-28T05:26:27.945205",
          "2017-11-29T05:27:27.123287",
          "2017-11-30T05:28:26.301369",
          "2017-12-01T05:29:25.479452",
          "2017-12-02T05:30:24.657534",
          "2017-12-03T05:31:23.835616",
          "2017-12-04T05:32:23.013698",
          "2017-12-05T05:33:22.191780",
          "2017-12-06T05:34:21.369862",
          "2017-12-07T05:35:20.547945",
          "2017-12-08T05:36:19.726027",
          "2017-12-09T05:37:18.904109",
          "2017-12-10T05:38:18.082191",
          "2017-12-11T05:39:17.260273",
          "2017-12-12T05:40:16.438356",
          "2017-12-13T05:41:15.616438",
          "2017-12-14T05:42:14.794520",
          "2017-12-15T05:43:13.972602",
          "2017-12-16T05:44:13.150684",
          "2017-12-17T05:45:12.328767",
          "2017-12-18T05:46:11.506849",
          "2017-12-19T05:47:10.684931",
          "2017-12-20T05:48:09.863013",
          "2017-12-21T05:49:09.041095",
          "2017-12-22T05:50:08.219177",
          "2017-12-23T05:51:07.397260",
          "2017-12-24T05:52:06.575342",
          "2017-12-25T05:53:05.753424",
          "2017-12-26T05:54:04.931506",
          "2017-12-27T05:55:04.109588",
          "2017-12-28T05:56:03.287671",
          "2017-12-29T05:57:02.465753",
          "2017-12-30T05:58:01.643835",
          "2017-12-31T05:59:00.821917"
         ],
         "xaxis": "x2",
         "y": [
          0.06074398615520103,
          0.25269033932607365,
          0.42893386225152424,
          0.5870289200087353,
          0.7253726146062429,
          0.8432009462598579,
          0.9405511576768117,
          1.0181864630564639,
          1.0775030917906288,
          1.1204018586053897,
          1.1491472621303502,
          1.1662130812751812,
          1.174122371893276,
          1.1752882975522632,
          1.1718635778485433,
          1.165603247236235,
          1.157748095409439,
          1.1489330511946254,
          1.139125411820379,
          1.1275944012720143,
          1.1129159022133015,
          1.0930113596856093,
          1.0652206362378587,
          1.0264060707089944,
          0.9730873355652766,
          0.9015955943506403,
          0.8082502559811545,
          0.6895457523901841,
          0.5423438066466298,
          0.36406128628891576,
          0.15285936292931218,
          -0.09220507494514336,
          -0.37103145238570545,
          -0.6823671079760563,
          -1.0237362784984338,
          -1.3913882152828243,
          -1.7803276112073678,
          -2.1843498125553147,
          -2.5961394941926823,
          -3.007408425258414,
          -3.4090778502968666,
          -3.7914736530405095,
          -4.144598340535874,
          -4.458379735932775,
          -4.7229591080762425,
          -4.928984074119664,
          -5.0678892145286785,
          -5.132189484837512,
          -5.115729316023293,
          -5.013916611151265,
          -4.823917845327392,
          -4.544806208392163,
          -4.177678344742533,
          -3.7256841261348117,
          -3.194031111178131,
          -2.5899165351443054,
          -1.9224045869886377,
          -1.2022398849082119,
          -0.44165222540570626,
          0.3459685190860259,
          1.1463530814710587,
          1.944704656641074,
          2.7260724254254547,
          3.4756908269282345,
          4.179409183570361,
          4.824019300737558,
          5.397607058188904,
          5.889862883086735,
          6.292354956984746,
          6.598731050605684,
          6.804909367301181,
          6.909159656501756,
          6.912143836967827,
          6.816882754262935,
          6.628663554062225,
          6.35487061180967,
          6.00476672842386,
          5.589216962930607,
          5.120367467801623,
          4.611282142718601,
          4.075583913249904,
          3.527022414681137,
          2.9790985836994652,
          2.4446706038703065,
          1.9355878693436908,
          1.4623535191355326,
          1.0338580161565551,
          0.6571118407286526,
          0.33709490340358367,
          0.07664495042337001,
          -0.12357935634784614,
          -0.26505227024085287,
          -0.3512852819230658,
          -0.3876386225377307,
          -0.3810815495163493,
          -0.33989339132084523,
          -0.2733163035216625,
          -0.1911757136323923,
          -0.10346816117785237,
          -0.019945593895198933,
          0.050301385696344875,
          0.09924317975455532,
          0.12028076542781713,
          0.10857138521844124,
          0.06130132327294844,
          -0.0221097949529135,
          -0.13987707970696706,
          -0.2878013759651599,
          -0.4592959141882953,
          -0.6455168351726308,
          -0.8355619093456969,
          -1.0167586908674406,
          -1.1750259968580627,
          -1.2953024226487322,
          -1.3620232812814814,
          -1.3596527807465186,
          -1.2732279466386258,
          -1.088920849245901,
          -0.7945886437264171,
          -0.38031888972448463,
          0.16110099363805586,
          0.8337388899221571,
          1.638160280277956,
          2.571153452888634,
          3.62556459733968,
          4.790175713149222,
          6.049818120436798,
          7.385480149697301,
          8.774588729160968,
          10.191390927728381,
          11.6074565512291,
          12.992193895308578,
          14.313612138322213,
          15.538985897772683,
          16.635651402023758,
          17.57182580679404,
          18.317384266361426,
          18.84473148693518,
          19.12952795104984,
          19.15141797365031,
          18.894670035069904,
          18.348714433253008,
          17.50860626835443,
          16.375296627587833,
          14.955826996116635,
          13.263353236406273,
          11.317002320844791,
          9.141697872682457,
          6.76761268616943,
          4.229707260994116,
          1.567034202125683,
          -1.178047244819784,
          -3.9607820325773475,
          -6.734841326788961,
          -9.453517744356219,
          -12.070623539667675,
          -14.54155035007348,
          -16.824271941312645,
          -18.880319166589732,
          -20.67556578979314,
          -22.181153345739396,
          -23.374057487820124,
          -24.237643341347905,
          -24.762051283479007,
          -24.944399442471813,
          -24.788877608357442,
          -24.306608878225564,
          -23.515382119748736,
          -22.439217185978443,
          -21.107764562062176,
          -19.55565182352958,
          -17.82155557450474,
          -15.947329368546384,
          -13.976985735663387,
          -11.955644533308297,
          -9.92843674397776,
          -7.939531237192996,
          -6.030958703310804,
          -4.24172989241856,
          -2.6069189858727033,
          -1.1568600783416707,
          0.08345108355737418,
          1.094980462613432,
          1.8649549892641084,
          2.3870873934577155,
          2.6616169742744997,
          2.6951833402063907,
          2.500540783527991,
          2.0961204653586494,
          1.5054459009629293,
          0.7564302673671629,
          -0.11944354009259217,
          -1.0879727532459644,
          -2.1132466419615867,
          -3.1585906610663543,
          -4.187566468671119,
          -5.164943188084008,
          -6.057633575856213,
          -6.835511176882632,
          -7.472239241956595,
          -7.945883870434123,
          -8.239453747179285,
          -8.341289140251595,
          -8.245299764821013,
          -7.9510578801242024,
          -7.463723421578123,
          -6.793826796129455,
          -5.956906026178501,
          -4.9729994600501,
          -3.866080494420233,
          -2.6632767802790687,
          -1.3941231786248205,
          -0.08970340108560634,
          1.2182306141382693,
          2.498162203260482,
          3.7196238730092888,
          4.8541195025759425,
          5.875834700187263,
          6.762338997094301,
          7.495179242371098,
          8.060316845285541,
          8.448519874196581,
          8.655531573261435,
          8.682143245896622,
          8.534116380530671,
          8.221962401089796,
          7.760612737257344,
          7.168930823616783,
          6.469153062569871,
          5.686225602825653,
          4.847074225427801,
          3.9798155468187324,
          3.1129923584675567,
          2.2747040277446553,
          1.4918566260593114,
          0.7894037006399944,
          0.18965201973240078,
          -0.28831985057940224,
          -0.629215204407133,
          -0.8218919263623499,
          -0.8596519734509933,
          -0.7403964031871436,
          -0.4666462394387974,
          -0.04545216931446499,
          0.5118550445285337,
          1.1900022366594116,
          1.970232120551165,
          2.8308530117055057,
          3.747876942900992,
          4.695663173115139,
          5.647708592784746,
          6.577350975425188,
          7.458522732509829,
          8.266480504427681,
          8.978446782857615,
          9.574283441064477,
          10.036992464772247,
          10.353172939991632,
          10.51336450028245,
          10.512277488196917,
          10.348908303027082,
          10.02653299331232,
          9.552580630447617,
          8.938395691552763,
          8.19888430025037,
          7.352110055158228,
          6.418720383243326,
          5.4213907811050035,
          4.3841785730999305,
          3.3318531953815174,
          2.2892022225599664,
          1.2804042464687198,
          0.328306318736799,
          -0.5461338280842307,
          -1.3244066946903825,
          -1.9909235220919301,
          -2.5334077871459257,
          -2.943161277425486,
          -3.215288459995912,
          -3.3487492881988277,
          -3.34633773480316,
          -3.2145452738216904,
          -2.963333539143002,
          -2.605797190454588,
          -2.1577583490049452,
          -1.637285625078564,
          -1.0641583832173058,
          -0.4592840787422367,
          0.15587211692781627,
          0.7599345849888045,
          1.3321834268497745,
          1.8531280994940313,
          2.305036230866548,
          2.6723808046633457,
          2.942270142452265,
          3.1047452812879746,
          3.1530182059494654,
          3.0836125529814558,
          2.8964071493316603,
          2.5945983609350542,
          2.184548159497065,
          1.67556680974695,
          1.0796087838576522,
          0.4109020457408836,
          -0.3144878168911878,
          -1.0790940341924977,
          -1.8645994557162882,
          -2.6523184184824977,
          -3.4237199117752715,
          -4.160936480260729,
          -4.847202880973091,
          -5.467338923790013,
          -6.008093779294249,
          -6.458471824765482,
          -6.809980120944902,
          -7.05680300903185,
          -7.19588593127271,
          -7.226967361768403,
          -7.152502986464426,
          -6.977531771810361,
          -6.709469963049886,
          -6.357839504099354,
          -5.933966296791193,
          -5.450595087906757,
          -4.921514298505078,
          -4.361143721564162,
          -3.784113280021451,
          -3.2048817154205436,
          -2.6373060217107778,
          -2.0943066683530875,
          -1.5875380209099728,
          -1.127112197949366,
          -0.7213721303313484,
          -0.3767456099852554,
          -0.09761451192198066,
          0.11370548511763885,
          0.256947754517429,
          0.3338137382714643,
          0.3478336886531191,
          0.3041863539653788,
          0.2094672334387071,
          0.07142882325897039,
          -0.10130487517964414,
          -0.2995411321215645,
          -0.5138144887932031,
          -0.73470163551827,
          -0.953099621019745,
          -1.1604929815372829,
          -1.3491889165902755,
          -1.51251802781336,
          -1.6449849011402975,
          -1.7423926727663714,
          -1.801901539498149,
          -1.8220501599391834,
          -1.8027286282083355,
          -1.7451099663123941,
          -1.6515395992255255,
          -1.5253925360651293,
          -1.3709021996348405,
          -1.1929682921276303,
          -0.9969488157601762,
          -0.788457953104374,
          -0.5731428729622904,
          -0.35649250626290224,
          -0.14365143615923473
         ],
         "yaxis": "y2"
        }
       ],
       "layout": {
        "height": 400,
        "showlegend": false,
        "template": {
         "data": {
          "bar": [
           {
            "error_x": {
             "color": "#2a3f5f"
            },
            "error_y": {
             "color": "#2a3f5f"
            },
            "marker": {
             "line": {
              "color": "#E5ECF6",
              "width": 0.5
             },
             "pattern": {
              "fillmode": "overlay",
              "size": 10,
              "solidity": 0.2
             }
            },
            "type": "bar"
           }
          ],
          "barpolar": [
           {
            "marker": {
             "line": {
              "color": "#E5ECF6",
              "width": 0.5
             },
             "pattern": {
              "fillmode": "overlay",
              "size": 10,
              "solidity": 0.2
             }
            },
            "type": "barpolar"
           }
          ],
          "carpet": [
           {
            "aaxis": {
             "endlinecolor": "#2a3f5f",
             "gridcolor": "white",
             "linecolor": "white",
             "minorgridcolor": "white",
             "startlinecolor": "#2a3f5f"
            },
            "baxis": {
             "endlinecolor": "#2a3f5f",
             "gridcolor": "white",
             "linecolor": "white",
             "minorgridcolor": "white",
             "startlinecolor": "#2a3f5f"
            },
            "type": "carpet"
           }
          ],
          "choropleth": [
           {
            "colorbar": {
             "outlinewidth": 0,
             "ticks": ""
            },
            "type": "choropleth"
           }
          ],
          "contour": [
           {
            "colorbar": {
             "outlinewidth": 0,
             "ticks": ""
            },
            "colorscale": [
             [
              0,
              "#0d0887"
             ],
             [
              0.1111111111111111,
              "#46039f"
             ],
             [
              0.2222222222222222,
              "#7201a8"
             ],
             [
              0.3333333333333333,
              "#9c179e"
             ],
             [
              0.4444444444444444,
              "#bd3786"
             ],
             [
              0.5555555555555556,
              "#d8576b"
             ],
             [
              0.6666666666666666,
              "#ed7953"
             ],
             [
              0.7777777777777778,
              "#fb9f3a"
             ],
             [
              0.8888888888888888,
              "#fdca26"
             ],
             [
              1,
              "#f0f921"
             ]
            ],
            "type": "contour"
           }
          ],
          "contourcarpet": [
           {
            "colorbar": {
             "outlinewidth": 0,
             "ticks": ""
            },
            "type": "contourcarpet"
           }
          ],
          "heatmap": [
           {
            "colorbar": {
             "outlinewidth": 0,
             "ticks": ""
            },
            "colorscale": [
             [
              0,
              "#0d0887"
             ],
             [
              0.1111111111111111,
              "#46039f"
             ],
             [
              0.2222222222222222,
              "#7201a8"
             ],
             [
              0.3333333333333333,
              "#9c179e"
             ],
             [
              0.4444444444444444,
              "#bd3786"
             ],
             [
              0.5555555555555556,
              "#d8576b"
             ],
             [
              0.6666666666666666,
              "#ed7953"
             ],
             [
              0.7777777777777778,
              "#fb9f3a"
             ],
             [
              0.8888888888888888,
              "#fdca26"
             ],
             [
              1,
              "#f0f921"
             ]
            ],
            "type": "heatmap"
           }
          ],
          "heatmapgl": [
           {
            "colorbar": {
             "outlinewidth": 0,
             "ticks": ""
            },
            "colorscale": [
             [
              0,
              "#0d0887"
             ],
             [
              0.1111111111111111,
              "#46039f"
             ],
             [
              0.2222222222222222,
              "#7201a8"
             ],
             [
              0.3333333333333333,
              "#9c179e"
             ],
             [
              0.4444444444444444,
              "#bd3786"
             ],
             [
              0.5555555555555556,
              "#d8576b"
             ],
             [
              0.6666666666666666,
              "#ed7953"
             ],
             [
              0.7777777777777778,
              "#fb9f3a"
             ],
             [
              0.8888888888888888,
              "#fdca26"
             ],
             [
              1,
              "#f0f921"
             ]
            ],
            "type": "heatmapgl"
           }
          ],
          "histogram": [
           {
            "marker": {
             "pattern": {
              "fillmode": "overlay",
              "size": 10,
              "solidity": 0.2
             }
            },
            "type": "histogram"
           }
          ],
          "histogram2d": [
           {
            "colorbar": {
             "outlinewidth": 0,
             "ticks": ""
            },
            "colorscale": [
             [
              0,
              "#0d0887"
             ],
             [
              0.1111111111111111,
              "#46039f"
             ],
             [
              0.2222222222222222,
              "#7201a8"
             ],
             [
              0.3333333333333333,
              "#9c179e"
             ],
             [
              0.4444444444444444,
              "#bd3786"
             ],
             [
              0.5555555555555556,
              "#d8576b"
             ],
             [
              0.6666666666666666,
              "#ed7953"
             ],
             [
              0.7777777777777778,
              "#fb9f3a"
             ],
             [
              0.8888888888888888,
              "#fdca26"
             ],
             [
              1,
              "#f0f921"
             ]
            ],
            "type": "histogram2d"
           }
          ],
          "histogram2dcontour": [
           {
            "colorbar": {
             "outlinewidth": 0,
             "ticks": ""
            },
            "colorscale": [
             [
              0,
              "#0d0887"
             ],
             [
              0.1111111111111111,
              "#46039f"
             ],
             [
              0.2222222222222222,
              "#7201a8"
             ],
             [
              0.3333333333333333,
              "#9c179e"
             ],
             [
              0.4444444444444444,
              "#bd3786"
             ],
             [
              0.5555555555555556,
              "#d8576b"
             ],
             [
              0.6666666666666666,
              "#ed7953"
             ],
             [
              0.7777777777777778,
              "#fb9f3a"
             ],
             [
              0.8888888888888888,
              "#fdca26"
             ],
             [
              1,
              "#f0f921"
             ]
            ],
            "type": "histogram2dcontour"
           }
          ],
          "mesh3d": [
           {
            "colorbar": {
             "outlinewidth": 0,
             "ticks": ""
            },
            "type": "mesh3d"
           }
          ],
          "parcoords": [
           {
            "line": {
             "colorbar": {
              "outlinewidth": 0,
              "ticks": ""
             }
            },
            "type": "parcoords"
           }
          ],
          "pie": [
           {
            "automargin": true,
            "type": "pie"
           }
          ],
          "scatter": [
           {
            "fillpattern": {
             "fillmode": "overlay",
             "size": 10,
             "solidity": 0.2
            },
            "type": "scatter"
           }
          ],
          "scatter3d": [
           {
            "line": {
             "colorbar": {
              "outlinewidth": 0,
              "ticks": ""
             }
            },
            "marker": {
             "colorbar": {
              "outlinewidth": 0,
              "ticks": ""
             }
            },
            "type": "scatter3d"
           }
          ],
          "scattercarpet": [
           {
            "marker": {
             "colorbar": {
              "outlinewidth": 0,
              "ticks": ""
             }
            },
            "type": "scattercarpet"
           }
          ],
          "scattergeo": [
           {
            "marker": {
             "colorbar": {
              "outlinewidth": 0,
              "ticks": ""
             }
            },
            "type": "scattergeo"
           }
          ],
          "scattergl": [
           {
            "marker": {
             "colorbar": {
              "outlinewidth": 0,
              "ticks": ""
             }
            },
            "type": "scattergl"
           }
          ],
          "scattermapbox": [
           {
            "marker": {
             "colorbar": {
              "outlinewidth": 0,
              "ticks": ""
             }
            },
            "type": "scattermapbox"
           }
          ],
          "scatterpolar": [
           {
            "marker": {
             "colorbar": {
              "outlinewidth": 0,
              "ticks": ""
             }
            },
            "type": "scatterpolar"
           }
          ],
          "scatterpolargl": [
           {
            "marker": {
             "colorbar": {
              "outlinewidth": 0,
              "ticks": ""
             }
            },
            "type": "scatterpolargl"
           }
          ],
          "scatterternary": [
           {
            "marker": {
             "colorbar": {
              "outlinewidth": 0,
              "ticks": ""
             }
            },
            "type": "scatterternary"
           }
          ],
          "surface": [
           {
            "colorbar": {
             "outlinewidth": 0,
             "ticks": ""
            },
            "colorscale": [
             [
              0,
              "#0d0887"
             ],
             [
              0.1111111111111111,
              "#46039f"
             ],
             [
              0.2222222222222222,
              "#7201a8"
             ],
             [
              0.3333333333333333,
              "#9c179e"
             ],
             [
              0.4444444444444444,
              "#bd3786"
             ],
             [
              0.5555555555555556,
              "#d8576b"
             ],
             [
              0.6666666666666666,
              "#ed7953"
             ],
             [
              0.7777777777777778,
              "#fb9f3a"
             ],
             [
              0.8888888888888888,
              "#fdca26"
             ],
             [
              1,
              "#f0f921"
             ]
            ],
            "type": "surface"
           }
          ],
          "table": [
           {
            "cells": {
             "fill": {
              "color": "#EBF0F8"
             },
             "line": {
              "color": "white"
             }
            },
            "header": {
             "fill": {
              "color": "#C8D4E3"
             },
             "line": {
              "color": "white"
             }
            },
            "type": "table"
           }
          ]
         },
         "layout": {
          "annotationdefaults": {
           "arrowcolor": "#2a3f5f",
           "arrowhead": 0,
           "arrowwidth": 1
          },
          "autotypenumbers": "strict",
          "coloraxis": {
           "colorbar": {
            "outlinewidth": 0,
            "ticks": ""
           }
          },
          "colorscale": {
           "diverging": [
            [
             0,
             "#8e0152"
            ],
            [
             0.1,
             "#c51b7d"
            ],
            [
             0.2,
             "#de77ae"
            ],
            [
             0.3,
             "#f1b6da"
            ],
            [
             0.4,
             "#fde0ef"
            ],
            [
             0.5,
             "#f7f7f7"
            ],
            [
             0.6,
             "#e6f5d0"
            ],
            [
             0.7,
             "#b8e186"
            ],
            [
             0.8,
             "#7fbc41"
            ],
            [
             0.9,
             "#4d9221"
            ],
            [
             1,
             "#276419"
            ]
           ],
           "sequential": [
            [
             0,
             "#0d0887"
            ],
            [
             0.1111111111111111,
             "#46039f"
            ],
            [
             0.2222222222222222,
             "#7201a8"
            ],
            [
             0.3333333333333333,
             "#9c179e"
            ],
            [
             0.4444444444444444,
             "#bd3786"
            ],
            [
             0.5555555555555556,
             "#d8576b"
            ],
            [
             0.6666666666666666,
             "#ed7953"
            ],
            [
             0.7777777777777778,
             "#fb9f3a"
            ],
            [
             0.8888888888888888,
             "#fdca26"
            ],
            [
             1,
             "#f0f921"
            ]
           ],
           "sequentialminus": [
            [
             0,
             "#0d0887"
            ],
            [
             0.1111111111111111,
             "#46039f"
            ],
            [
             0.2222222222222222,
             "#7201a8"
            ],
            [
             0.3333333333333333,
             "#9c179e"
            ],
            [
             0.4444444444444444,
             "#bd3786"
            ],
            [
             0.5555555555555556,
             "#d8576b"
            ],
            [
             0.6666666666666666,
             "#ed7953"
            ],
            [
             0.7777777777777778,
             "#fb9f3a"
            ],
            [
             0.8888888888888888,
             "#fdca26"
            ],
            [
             1,
             "#f0f921"
            ]
           ]
          },
          "colorway": [
           "#636efa",
           "#EF553B",
           "#00cc96",
           "#ab63fa",
           "#FFA15A",
           "#19d3f3",
           "#FF6692",
           "#B6E880",
           "#FF97FF",
           "#FECB52"
          ],
          "font": {
           "color": "#2a3f5f"
          },
          "geo": {
           "bgcolor": "white",
           "lakecolor": "white",
           "landcolor": "#E5ECF6",
           "showlakes": true,
           "showland": true,
           "subunitcolor": "white"
          },
          "hoverlabel": {
           "align": "left"
          },
          "hovermode": "closest",
          "mapbox": {
           "style": "light"
          },
          "paper_bgcolor": "white",
          "plot_bgcolor": "#E5ECF6",
          "polar": {
           "angularaxis": {
            "gridcolor": "white",
            "linecolor": "white",
            "ticks": ""
           },
           "bgcolor": "#E5ECF6",
           "radialaxis": {
            "gridcolor": "white",
            "linecolor": "white",
            "ticks": ""
           }
          },
          "scene": {
           "xaxis": {
            "backgroundcolor": "#E5ECF6",
            "gridcolor": "white",
            "gridwidth": 2,
            "linecolor": "white",
            "showbackground": true,
            "ticks": "",
            "zerolinecolor": "white"
           },
           "yaxis": {
            "backgroundcolor": "#E5ECF6",
            "gridcolor": "white",
            "gridwidth": 2,
            "linecolor": "white",
            "showbackground": true,
            "ticks": "",
            "zerolinecolor": "white"
           },
           "zaxis": {
            "backgroundcolor": "#E5ECF6",
            "gridcolor": "white",
            "gridwidth": 2,
            "linecolor": "white",
            "showbackground": true,
            "ticks": "",
            "zerolinecolor": "white"
           }
          },
          "shapedefaults": {
           "line": {
            "color": "#2a3f5f"
           }
          },
          "ternary": {
           "aaxis": {
            "gridcolor": "white",
            "linecolor": "white",
            "ticks": ""
           },
           "baxis": {
            "gridcolor": "white",
            "linecolor": "white",
            "ticks": ""
           },
           "bgcolor": "#E5ECF6",
           "caxis": {
            "gridcolor": "white",
            "linecolor": "white",
            "ticks": ""
           }
          },
          "title": {
           "x": 0.05
          },
          "xaxis": {
           "automargin": true,
           "gridcolor": "white",
           "linecolor": "white",
           "ticks": "",
           "title": {
            "standoff": 15
           },
           "zerolinecolor": "white",
           "zerolinewidth": 2
          },
          "yaxis": {
           "automargin": true,
           "gridcolor": "white",
           "linecolor": "white",
           "ticks": "",
           "title": {
            "standoff": 15
           },
           "zerolinecolor": "white",
           "zerolinewidth": 2
          }
         }
        },
        "title": {
         "text": "Prophet Forecast Components (Meralco Bill)"
        },
        "width": 900,
        "xaxis": {
         "anchor": "y",
         "domain": [
          0,
          1
         ],
         "range": [
          "2021-10-21T12:00:00",
          "2026-02-10T12:00:00"
         ],
         "type": "date"
        },
        "xaxis2": {
         "anchor": "y2",
         "domain": [
          0,
          1
         ],
         "range": [
          "2016-12-13T18:54:02.958904115",
          "2018-01-18T11:04:57.863013581"
         ],
         "tickformat": "%B %e",
         "type": "date"
        },
        "yaxis": {
         "anchor": "x",
         "domain": [
          0.575,
          1
         ],
         "rangemode": "normal",
         "title": {
          "text": "trend"
         },
         "zerolinecolor": "#AAA"
        },
        "yaxis2": {
         "anchor": "x2",
         "domain": [
          0,
          0.425
         ],
         "title": {
          "text": "yearly"
         },
         "zerolinecolor": "#AAA"
        }
       }
      }
     },
     "metadata": {},
     "output_type": "display_data"
    }
   ],
   "source": [
    "present_meralco_df['Date'] = pd.to_datetime(\n",
    "    present_meralco_df['Year'].astype(str) + '-' +\n",
    "    present_meralco_df['Month'].astype(str) + '-01'\n",
    ")\n",
    "\n",
    "df_prophet_meralco = present_meralco_df[['Date', 'Total Bill']].rename(\n",
    "    columns={'Date': 'ds', 'Total Bill': 'y'}\n",
    ")\n",
    "\n",
    "model_meralco = Prophet(yearly_seasonality=True)\n",
    "model_meralco.fit(df_prophet_meralco)\n",
    "\n",
    "# future periods + 3 since meralco is missing data from start of 2025 up to march 2025 data\n",
    "future_meralco = model_meralco.make_future_dataframe(periods=future_periods + 3, freq='MS') # 'MS' for Month Start\n",
    "forecast_meralco = model_meralco.predict(future_meralco)\n",
    "\n",
    "print(\"--- Sample of the Meralco forecast DataFrame (first 5 and last 5) ---\")\n",
    "print(forecast_meralco[['ds', 'yhat', 'yhat_lower', 'yhat_upper']].head())\n",
    "print(forecast_meralco[['ds', 'yhat', 'yhat_lower', 'yhat_upper']].tail())\n",
    "print(\"\\n\")\n",
    "\n",
    "fig_meralco = plot_plotly(model_meralco, forecast_meralco)\n",
    "fig_meralco.update_layout(\n",
    "    title_text='Philippines Monthly Average Meralco Bill Forecast',\n",
    "    xaxis_title='Date',\n",
    "    yaxis_title='Total Bill (PHP)',\n",
    "    hovermode='x unified'\n",
    ")\n",
    "fig_meralco.show()\n",
    "\n",
    "fig_components_meralco = plot_components_plotly(model_meralco, forecast_meralco)\n",
    "fig_components_meralco.update_layout(\n",
    "    title_text='Prophet Forecast Components (Meralco Bill)',\n",
    ")\n",
    "fig_components_meralco.show()\n"
   ]
  },
  {
   "cell_type": "markdown",
   "id": "edd01b8c",
   "metadata": {},
   "source": [
    "## Making comparison dataframe with predictions augmented"
   ]
  },
  {
   "cell_type": "code",
   "execution_count": 145,
   "id": "7b0b1054",
   "metadata": {},
   "outputs": [],
   "source": [
    "def make_future_comparison_dataframe(km_l: float, km_kwh: float):\n",
    "    df_gas = forecast_gas.copy()\n",
    "    df_elec = forecast_meralco.copy()\n",
    "\n",
    "    monthly_date_range = pd.date_range(start=start_date, end='2025-12-01',freq='MS')\n",
    "    \n",
    "    # Create a new DataFrame with the monthly date range\n",
    "    df_output = pd.DataFrame({'ds': monthly_date_range, # Keep 'ds' as datetime\n",
    "                              'Gas cost/km': None,\n",
    "                              'Electricity cost/km': None,\n",
    "                              'Difference': None})\n",
    "\n",
    "    df_gas = df_gas.set_index('ds')\n",
    "    df_elec = df_elec.set_index('ds')\n",
    "    \n",
    "    # Ensure all indexes are datetime for direct comparison\n",
    "    df_output = df_output.set_index('ds')\n",
    "    df_gas.index = pd.to_datetime(df_gas.index)\n",
    "    df_elec.index = pd.to_datetime(df_elec.index)\n",
    "\n",
    "\n",
    "    # Calculate cost per km for each row\n",
    "    for date in df_output.index:\n",
    "        # Now 'date' will be a datetime object, matching the index type\n",
    "        gas_price = df_gas.loc[date, 'yhat']\n",
    "        df_output.loc[date, 'Gas cost/km'] = gas_price / km_l  # PHP per km\n",
    "\n",
    "        elec_price = df_elec.loc[date, 'yhat']\n",
    "        df_output.loc[date, 'Electricity cost/km'] = elec_price / km_kwh  # PHP per km\n",
    "\n",
    "    # Calculate the difference (Gas cost - Electricity cost)\n",
    "    df_output['Difference'] = df_output['Gas cost/km'] - df_output['Electricity cost/km']\n",
    "    df_output = df_output.reset_index()\n",
    "    df_output = df_output.rename(columns={'ds': 'Date'})\n",
    "    return df_output\n"
   ]
  },
  {
   "cell_type": "code",
   "execution_count": 146,
   "id": "2a345a8e",
   "metadata": {},
   "outputs": [],
   "source": [
    "def plot_future_comparison_dataframe(km_l: float, km_kwh: float, kwh_consumption: int, df):\n",
    "\n",
    "    # Color definitions\n",
    "    gas_color = '#EF553B'  # Red\n",
    "    electricity_color = '#636EFA'  # Blue\n",
    "\n",
    "    fig = go.Figure()\n",
    "\n",
    "    ## vertical lines\n",
    "    annotation_y = 0.8\n",
    "    annotation_font = 10\n",
    "    line_width = 2\n",
    "    vline_color = 'black'\n",
    "\n",
    "    major_events = {\n",
    "        'Luzon ECQ Start': datetime(2020, 3, 1),\n",
    "        'ECQ to MECQ': datetime(2021, 10, 1),\n",
    "        'Russia-Ukraine War': datetime(2022, 2, 1),\n",
    "        'ERC Order: Energy Costs': datetime(2024, 6, 1)\n",
    "    }\n",
    "\n",
    "    for event in major_events.keys():\n",
    "        fig.add_shape(\n",
    "            type='line',\n",
    "            x0=major_events[event],\n",
    "            x1=major_events[event],\n",
    "            y0=annotation_y,\n",
    "            y1=4.5,\n",
    "            line=dict(color=vline_color, width=line_width, dash=\"dash\"),\n",
    "        )\n",
    "        fig.add_annotation(\n",
    "            x=major_events[event],\n",
    "            y=annotation_y,\n",
    "            xref=\"x\",\n",
    "            showarrow=False,\n",
    "            text=event,\n",
    "            textangle=-55,\n",
    "            xanchor='left',\n",
    "            yanchor='bottom',\n",
    "            font=dict(color=vline_color, size=annotation_font),\n",
    "        )\n",
    "\n",
    "    # Add Gas line plot\n",
    "    fig.add_trace(go.Scatter(\n",
    "        x=df['Date'],\n",
    "        y=df['Gas cost/km'],\n",
    "        mode='lines+markers',\n",
    "        line=dict(color=gas_color, width=2),\n",
    "        marker=dict(size=8),\n",
    "        name='Gas Cost/km',\n",
    "        hovertemplate=\"<b>%{x|%b %Y}</b><br>Gas Cost: PHP %{y:.3f}<extra></extra>\"\n",
    "    ))\n",
    "\n",
    "    # Add Electricity line plot\n",
    "    fig.add_trace(go.Scatter(\n",
    "        x=df['Date'],\n",
    "        y=df['Electricity cost/km'],\n",
    "        mode='lines+markers',\n",
    "        line=dict(color=electricity_color, width=2),\n",
    "        marker=dict(size=8),\n",
    "        name='Electricity Cost/km',\n",
    "        hovertemplate=\"<b>%{x|%b %Y}</b><br>Electricity Cost: PHP %{y:.3f}<extra></extra>\"\n",
    "    ))\n",
    "\n",
    "    fig.update_layout(\n",
    "        title={\n",
    "            'text': \"<b>Future Gas vs. Electricity Cost per Kilometer (2022 - End of 2025)</b>\",\n",
    "            'y':0.95,\n",
    "            'x':0.5,\n",
    "            'xanchor': 'center',\n",
    "            'font': dict(size=18, color='#333333')\n",
    "        },\n",
    "        xaxis=dict(\n",
    "            title=\"Date\",\n",
    "            range=[df['Date'].min(), df['Date'].max()],\n",
    "            tickformat=\"%Y\",\n",
    "            dtick=\"M12\",  # Yearly ticks\n",
    "            showgrid=True,\n",
    "            gridcolor='rgba(0,0,0,0.2)',\n",
    "        ),\n",
    "        yaxis=dict(\n",
    "            title=\"Cost per km (PHP)\",\n",
    "            showgrid=True,\n",
    "            gridcolor='rgba(0,0,0,0.2)'\n",
    "        ),\n",
    "        legend=dict(\n",
    "            orientation=\"h\",\n",
    "            yanchor=\"bottom\",\n",
    "            y=1.02,\n",
    "            xanchor=\"right\",\n",
    "            x=1\n",
    "        ),\n",
    "        plot_bgcolor='#FAFAFA',\n",
    "        paper_bgcolor='white',\n",
    "        hovermode=\"x unified\"\n",
    "    )\n",
    "\n",
    "    fig.add_annotation(\n",
    "        x=0.9,\n",
    "        y=-0.12,\n",
    "        xref=\"paper\",\n",
    "        yref=\"paper\",\n",
    "        align=\"left\",\n",
    "        text=f\"- Gas cost calculated with {km_l} km/L<br>- Electricity cost calculated with <br>  {km_kwh} km/kWh and {kwh_consumption} kWh consumption\",\n",
    "        showarrow=False,\n",
    "        font=dict(size=11, color=\"#666666\")\n",
    "    )\n",
    "\n",
    "    # Show the plot\n",
    "    fig.show()\n",
    "    fig.write_html(f\"graphs/future_gas_vs_electricity.html\")"
   ]
  },
  {
   "cell_type": "code",
   "execution_count": 147,
   "id": "f78b933a",
   "metadata": {},
   "outputs": [
    {
     "data": {
      "application/vnd.plotly.v1+json": {
       "config": {
        "plotlyServerURL": "https://plot.ly"
       },
       "data": [
        {
         "hovertemplate": "<b>%{x|%b %Y}</b><br>Gas Cost: PHP %{y:.3f}<extra></extra>",
         "line": {
          "color": "#EF553B",
          "width": 2
         },
         "marker": {
          "size": 8
         },
         "mode": "lines+markers",
         "name": "Gas Cost/km",
         "type": "scatter",
         "x": [
          "2022-01-01T00:00:00",
          "2022-02-01T00:00:00",
          "2022-03-01T00:00:00",
          "2022-04-01T00:00:00",
          "2022-05-01T00:00:00",
          "2022-06-01T00:00:00",
          "2022-07-01T00:00:00",
          "2022-08-01T00:00:00",
          "2022-09-01T00:00:00",
          "2022-10-01T00:00:00",
          "2022-11-01T00:00:00",
          "2022-12-01T00:00:00",
          "2023-01-01T00:00:00",
          "2023-02-01T00:00:00",
          "2023-03-01T00:00:00",
          "2023-04-01T00:00:00",
          "2023-05-01T00:00:00",
          "2023-06-01T00:00:00",
          "2023-07-01T00:00:00",
          "2023-08-01T00:00:00",
          "2023-09-01T00:00:00",
          "2023-10-01T00:00:00",
          "2023-11-01T00:00:00",
          "2023-12-01T00:00:00",
          "2024-01-01T00:00:00",
          "2024-02-01T00:00:00",
          "2024-03-01T00:00:00",
          "2024-04-01T00:00:00",
          "2024-05-01T00:00:00",
          "2024-06-01T00:00:00",
          "2024-07-01T00:00:00",
          "2024-08-01T00:00:00",
          "2024-09-01T00:00:00",
          "2024-10-01T00:00:00",
          "2024-11-01T00:00:00",
          "2024-12-01T00:00:00",
          "2025-01-01T00:00:00",
          "2025-02-01T00:00:00",
          "2025-03-01T00:00:00",
          "2025-04-01T00:00:00",
          "2025-05-01T00:00:00",
          "2025-06-01T00:00:00",
          "2025-07-01T00:00:00",
          "2025-08-01T00:00:00",
          "2025-09-01T00:00:00",
          "2025-10-01T00:00:00",
          "2025-11-01T00:00:00",
          "2025-12-01T00:00:00"
         ],
         "y": [
          3.7237321116769313,
          3.772809247877879,
          3.8803986647814566,
          3.9634304285062107,
          3.9410053154500395,
          4.038123916556147,
          3.9682180728352114,
          3.9097601695535786,
          3.904839261935602,
          3.753115803701276,
          3.71533664495989,
          3.6206553057231154,
          3.6225608299170657,
          3.7432651324808153,
          3.7798504167971307,
          3.8559086997352057,
          3.8294387335819193,
          3.947926683202373,
          3.7858986498851075,
          3.854669760620372,
          3.892314376637408,
          3.657663711277812,
          3.5803704333722357,
          3.4554517158551765,
          3.5251932531986503,
          3.7160218355309813,
          3.6859752273440227,
          3.7846121462571345,
          3.7720203005367607,
          3.8252564607691504,
          3.945470092421182,
          3.6373457732951384,
          3.5394846512920584,
          3.5484792514302113,
          3.592357710705083,
          3.5657449911464174,
          3.4370489329825826,
          3.413084967109851,
          3.5899962733920354,
          3.6807060902635804,
          3.663048419777295,
          3.738578278353297,
          3.762944198579025,
          3.579003579517535,
          3.5290864177478154,
          3.458799234113879,
          3.461631118726419,
          3.3999178472915625
         ]
        },
        {
         "hovertemplate": "<b>%{x|%b %Y}</b><br>Electricity Cost: PHP %{y:.3f}<extra></extra>",
         "line": {
          "color": "#636EFA",
          "width": 2
         },
         "marker": {
          "size": 8
         },
         "mode": "lines+markers",
         "name": "Electricity Cost/km",
         "type": "scatter",
         "x": [
          "2022-01-01T00:00:00",
          "2022-02-01T00:00:00",
          "2022-03-01T00:00:00",
          "2022-04-01T00:00:00",
          "2022-05-01T00:00:00",
          "2022-06-01T00:00:00",
          "2022-07-01T00:00:00",
          "2022-08-01T00:00:00",
          "2022-09-01T00:00:00",
          "2022-10-01T00:00:00",
          "2022-11-01T00:00:00",
          "2022-12-01T00:00:00",
          "2023-01-01T00:00:00",
          "2023-02-01T00:00:00",
          "2023-03-01T00:00:00",
          "2023-04-01T00:00:00",
          "2023-05-01T00:00:00",
          "2023-06-01T00:00:00",
          "2023-07-01T00:00:00",
          "2023-08-01T00:00:00",
          "2023-09-01T00:00:00",
          "2023-10-01T00:00:00",
          "2023-11-01T00:00:00",
          "2023-12-01T00:00:00",
          "2024-01-01T00:00:00",
          "2024-02-01T00:00:00",
          "2024-03-01T00:00:00",
          "2024-04-01T00:00:00",
          "2024-05-01T00:00:00",
          "2024-06-01T00:00:00",
          "2024-07-01T00:00:00",
          "2024-08-01T00:00:00",
          "2024-09-01T00:00:00",
          "2024-10-01T00:00:00",
          "2024-11-01T00:00:00",
          "2024-12-01T00:00:00",
          "2025-01-01T00:00:00",
          "2025-02-01T00:00:00",
          "2025-03-01T00:00:00",
          "2025-04-01T00:00:00",
          "2025-05-01T00:00:00",
          "2025-06-01T00:00:00",
          "2025-07-01T00:00:00",
          "2025-08-01T00:00:00",
          "2025-09-01T00:00:00",
          "2025-10-01T00:00:00",
          "2025-11-01T00:00:00",
          "2025-12-01T00:00:00"
         ],
         "y": [
          1.7392178567848666,
          1.7505269442320044,
          1.789130532114727,
          1.775068351538427,
          1.7972890672952748,
          1.7856304004167642,
          1.776233607209528,
          1.7503630661607805,
          1.8297188953996029,
          1.856735309768676,
          1.9072700061224153,
          1.8819449454804167,
          1.9297784080836138,
          1.9601861544402563,
          1.9548925547078202,
          1.9824949670459797,
          1.9732542300737517,
          2.1008043094451354,
          1.922670088326011,
          1.8938891650619123,
          1.9971037044158455,
          2.065618031874696,
          2.095699265407073,
          2.0144475147735132,
          2.05192237930547,
          2.0874279368806445,
          2.1603290377042397,
          2.05051871612264,
          2.124525350240209,
          1.8148101887204746,
          2.1238218569260505,
          2.0971854853765106,
          2.09161573913626,
          1.9941284163810893,
          2.039998419917086,
          2.0859225190555426,
          2.1149996558359585,
          2.0932201931392127,
          2.1638374945848606,
          2.0947835751797754,
          2.135861126256562,
          1.9692150733582792,
          2.1133435174918995,
          2.0789706471437137,
          2.1082981506750698,
          2.066647974003561,
          2.108692740891028,
          2.1124674328743915
         ]
        }
       ],
       "layout": {
        "annotations": [
         {
          "font": {
           "color": "black",
           "size": 10
          },
          "showarrow": false,
          "text": "Luzon ECQ Start",
          "textangle": -55,
          "x": "2020-03-01T00:00:00",
          "xanchor": "left",
          "xref": "x",
          "y": 0.8,
          "yanchor": "bottom"
         },
         {
          "font": {
           "color": "black",
           "size": 10
          },
          "showarrow": false,
          "text": "ECQ to MECQ",
          "textangle": -55,
          "x": "2021-10-01T00:00:00",
          "xanchor": "left",
          "xref": "x",
          "y": 0.8,
          "yanchor": "bottom"
         },
         {
          "font": {
           "color": "black",
           "size": 10
          },
          "showarrow": false,
          "text": "Russia-Ukraine War",
          "textangle": -55,
          "x": "2022-02-01T00:00:00",
          "xanchor": "left",
          "xref": "x",
          "y": 0.8,
          "yanchor": "bottom"
         },
         {
          "font": {
           "color": "black",
           "size": 10
          },
          "showarrow": false,
          "text": "ERC Order: Energy Costs",
          "textangle": -55,
          "x": "2024-06-01T00:00:00",
          "xanchor": "left",
          "xref": "x",
          "y": 0.8,
          "yanchor": "bottom"
         },
         {
          "align": "left",
          "font": {
           "color": "#666666",
           "size": 11
          },
          "showarrow": false,
          "text": "- Gas cost calculated with 17.95 km/L<br>- Electricity cost calculated with <br>  5.91 km/kWh and 400 kWh consumption",
          "x": 0.9,
          "xref": "paper",
          "y": -0.12,
          "yref": "paper"
         }
        ],
        "hovermode": "x unified",
        "legend": {
         "orientation": "h",
         "x": 1,
         "xanchor": "right",
         "y": 1.02,
         "yanchor": "bottom"
        },
        "paper_bgcolor": "white",
        "plot_bgcolor": "#FAFAFA",
        "shapes": [
         {
          "line": {
           "color": "black",
           "dash": "dash",
           "width": 2
          },
          "type": "line",
          "x0": "2020-03-01T00:00:00",
          "x1": "2020-03-01T00:00:00",
          "y0": 0.8,
          "y1": 4.5
         },
         {
          "line": {
           "color": "black",
           "dash": "dash",
           "width": 2
          },
          "type": "line",
          "x0": "2021-10-01T00:00:00",
          "x1": "2021-10-01T00:00:00",
          "y0": 0.8,
          "y1": 4.5
         },
         {
          "line": {
           "color": "black",
           "dash": "dash",
           "width": 2
          },
          "type": "line",
          "x0": "2022-02-01T00:00:00",
          "x1": "2022-02-01T00:00:00",
          "y0": 0.8,
          "y1": 4.5
         },
         {
          "line": {
           "color": "black",
           "dash": "dash",
           "width": 2
          },
          "type": "line",
          "x0": "2024-06-01T00:00:00",
          "x1": "2024-06-01T00:00:00",
          "y0": 0.8,
          "y1": 4.5
         }
        ],
        "template": {
         "data": {
          "bar": [
           {
            "error_x": {
             "color": "#2a3f5f"
            },
            "error_y": {
             "color": "#2a3f5f"
            },
            "marker": {
             "line": {
              "color": "#E5ECF6",
              "width": 0.5
             },
             "pattern": {
              "fillmode": "overlay",
              "size": 10,
              "solidity": 0.2
             }
            },
            "type": "bar"
           }
          ],
          "barpolar": [
           {
            "marker": {
             "line": {
              "color": "#E5ECF6",
              "width": 0.5
             },
             "pattern": {
              "fillmode": "overlay",
              "size": 10,
              "solidity": 0.2
             }
            },
            "type": "barpolar"
           }
          ],
          "carpet": [
           {
            "aaxis": {
             "endlinecolor": "#2a3f5f",
             "gridcolor": "white",
             "linecolor": "white",
             "minorgridcolor": "white",
             "startlinecolor": "#2a3f5f"
            },
            "baxis": {
             "endlinecolor": "#2a3f5f",
             "gridcolor": "white",
             "linecolor": "white",
             "minorgridcolor": "white",
             "startlinecolor": "#2a3f5f"
            },
            "type": "carpet"
           }
          ],
          "choropleth": [
           {
            "colorbar": {
             "outlinewidth": 0,
             "ticks": ""
            },
            "type": "choropleth"
           }
          ],
          "contour": [
           {
            "colorbar": {
             "outlinewidth": 0,
             "ticks": ""
            },
            "colorscale": [
             [
              0,
              "#0d0887"
             ],
             [
              0.1111111111111111,
              "#46039f"
             ],
             [
              0.2222222222222222,
              "#7201a8"
             ],
             [
              0.3333333333333333,
              "#9c179e"
             ],
             [
              0.4444444444444444,
              "#bd3786"
             ],
             [
              0.5555555555555556,
              "#d8576b"
             ],
             [
              0.6666666666666666,
              "#ed7953"
             ],
             [
              0.7777777777777778,
              "#fb9f3a"
             ],
             [
              0.8888888888888888,
              "#fdca26"
             ],
             [
              1,
              "#f0f921"
             ]
            ],
            "type": "contour"
           }
          ],
          "contourcarpet": [
           {
            "colorbar": {
             "outlinewidth": 0,
             "ticks": ""
            },
            "type": "contourcarpet"
           }
          ],
          "heatmap": [
           {
            "colorbar": {
             "outlinewidth": 0,
             "ticks": ""
            },
            "colorscale": [
             [
              0,
              "#0d0887"
             ],
             [
              0.1111111111111111,
              "#46039f"
             ],
             [
              0.2222222222222222,
              "#7201a8"
             ],
             [
              0.3333333333333333,
              "#9c179e"
             ],
             [
              0.4444444444444444,
              "#bd3786"
             ],
             [
              0.5555555555555556,
              "#d8576b"
             ],
             [
              0.6666666666666666,
              "#ed7953"
             ],
             [
              0.7777777777777778,
              "#fb9f3a"
             ],
             [
              0.8888888888888888,
              "#fdca26"
             ],
             [
              1,
              "#f0f921"
             ]
            ],
            "type": "heatmap"
           }
          ],
          "heatmapgl": [
           {
            "colorbar": {
             "outlinewidth": 0,
             "ticks": ""
            },
            "colorscale": [
             [
              0,
              "#0d0887"
             ],
             [
              0.1111111111111111,
              "#46039f"
             ],
             [
              0.2222222222222222,
              "#7201a8"
             ],
             [
              0.3333333333333333,
              "#9c179e"
             ],
             [
              0.4444444444444444,
              "#bd3786"
             ],
             [
              0.5555555555555556,
              "#d8576b"
             ],
             [
              0.6666666666666666,
              "#ed7953"
             ],
             [
              0.7777777777777778,
              "#fb9f3a"
             ],
             [
              0.8888888888888888,
              "#fdca26"
             ],
             [
              1,
              "#f0f921"
             ]
            ],
            "type": "heatmapgl"
           }
          ],
          "histogram": [
           {
            "marker": {
             "pattern": {
              "fillmode": "overlay",
              "size": 10,
              "solidity": 0.2
             }
            },
            "type": "histogram"
           }
          ],
          "histogram2d": [
           {
            "colorbar": {
             "outlinewidth": 0,
             "ticks": ""
            },
            "colorscale": [
             [
              0,
              "#0d0887"
             ],
             [
              0.1111111111111111,
              "#46039f"
             ],
             [
              0.2222222222222222,
              "#7201a8"
             ],
             [
              0.3333333333333333,
              "#9c179e"
             ],
             [
              0.4444444444444444,
              "#bd3786"
             ],
             [
              0.5555555555555556,
              "#d8576b"
             ],
             [
              0.6666666666666666,
              "#ed7953"
             ],
             [
              0.7777777777777778,
              "#fb9f3a"
             ],
             [
              0.8888888888888888,
              "#fdca26"
             ],
             [
              1,
              "#f0f921"
             ]
            ],
            "type": "histogram2d"
           }
          ],
          "histogram2dcontour": [
           {
            "colorbar": {
             "outlinewidth": 0,
             "ticks": ""
            },
            "colorscale": [
             [
              0,
              "#0d0887"
             ],
             [
              0.1111111111111111,
              "#46039f"
             ],
             [
              0.2222222222222222,
              "#7201a8"
             ],
             [
              0.3333333333333333,
              "#9c179e"
             ],
             [
              0.4444444444444444,
              "#bd3786"
             ],
             [
              0.5555555555555556,
              "#d8576b"
             ],
             [
              0.6666666666666666,
              "#ed7953"
             ],
             [
              0.7777777777777778,
              "#fb9f3a"
             ],
             [
              0.8888888888888888,
              "#fdca26"
             ],
             [
              1,
              "#f0f921"
             ]
            ],
            "type": "histogram2dcontour"
           }
          ],
          "mesh3d": [
           {
            "colorbar": {
             "outlinewidth": 0,
             "ticks": ""
            },
            "type": "mesh3d"
           }
          ],
          "parcoords": [
           {
            "line": {
             "colorbar": {
              "outlinewidth": 0,
              "ticks": ""
             }
            },
            "type": "parcoords"
           }
          ],
          "pie": [
           {
            "automargin": true,
            "type": "pie"
           }
          ],
          "scatter": [
           {
            "fillpattern": {
             "fillmode": "overlay",
             "size": 10,
             "solidity": 0.2
            },
            "type": "scatter"
           }
          ],
          "scatter3d": [
           {
            "line": {
             "colorbar": {
              "outlinewidth": 0,
              "ticks": ""
             }
            },
            "marker": {
             "colorbar": {
              "outlinewidth": 0,
              "ticks": ""
             }
            },
            "type": "scatter3d"
           }
          ],
          "scattercarpet": [
           {
            "marker": {
             "colorbar": {
              "outlinewidth": 0,
              "ticks": ""
             }
            },
            "type": "scattercarpet"
           }
          ],
          "scattergeo": [
           {
            "marker": {
             "colorbar": {
              "outlinewidth": 0,
              "ticks": ""
             }
            },
            "type": "scattergeo"
           }
          ],
          "scattergl": [
           {
            "marker": {
             "colorbar": {
              "outlinewidth": 0,
              "ticks": ""
             }
            },
            "type": "scattergl"
           }
          ],
          "scattermapbox": [
           {
            "marker": {
             "colorbar": {
              "outlinewidth": 0,
              "ticks": ""
             }
            },
            "type": "scattermapbox"
           }
          ],
          "scatterpolar": [
           {
            "marker": {
             "colorbar": {
              "outlinewidth": 0,
              "ticks": ""
             }
            },
            "type": "scatterpolar"
           }
          ],
          "scatterpolargl": [
           {
            "marker": {
             "colorbar": {
              "outlinewidth": 0,
              "ticks": ""
             }
            },
            "type": "scatterpolargl"
           }
          ],
          "scatterternary": [
           {
            "marker": {
             "colorbar": {
              "outlinewidth": 0,
              "ticks": ""
             }
            },
            "type": "scatterternary"
           }
          ],
          "surface": [
           {
            "colorbar": {
             "outlinewidth": 0,
             "ticks": ""
            },
            "colorscale": [
             [
              0,
              "#0d0887"
             ],
             [
              0.1111111111111111,
              "#46039f"
             ],
             [
              0.2222222222222222,
              "#7201a8"
             ],
             [
              0.3333333333333333,
              "#9c179e"
             ],
             [
              0.4444444444444444,
              "#bd3786"
             ],
             [
              0.5555555555555556,
              "#d8576b"
             ],
             [
              0.6666666666666666,
              "#ed7953"
             ],
             [
              0.7777777777777778,
              "#fb9f3a"
             ],
             [
              0.8888888888888888,
              "#fdca26"
             ],
             [
              1,
              "#f0f921"
             ]
            ],
            "type": "surface"
           }
          ],
          "table": [
           {
            "cells": {
             "fill": {
              "color": "#EBF0F8"
             },
             "line": {
              "color": "white"
             }
            },
            "header": {
             "fill": {
              "color": "#C8D4E3"
             },
             "line": {
              "color": "white"
             }
            },
            "type": "table"
           }
          ]
         },
         "layout": {
          "annotationdefaults": {
           "arrowcolor": "#2a3f5f",
           "arrowhead": 0,
           "arrowwidth": 1
          },
          "autotypenumbers": "strict",
          "coloraxis": {
           "colorbar": {
            "outlinewidth": 0,
            "ticks": ""
           }
          },
          "colorscale": {
           "diverging": [
            [
             0,
             "#8e0152"
            ],
            [
             0.1,
             "#c51b7d"
            ],
            [
             0.2,
             "#de77ae"
            ],
            [
             0.3,
             "#f1b6da"
            ],
            [
             0.4,
             "#fde0ef"
            ],
            [
             0.5,
             "#f7f7f7"
            ],
            [
             0.6,
             "#e6f5d0"
            ],
            [
             0.7,
             "#b8e186"
            ],
            [
             0.8,
             "#7fbc41"
            ],
            [
             0.9,
             "#4d9221"
            ],
            [
             1,
             "#276419"
            ]
           ],
           "sequential": [
            [
             0,
             "#0d0887"
            ],
            [
             0.1111111111111111,
             "#46039f"
            ],
            [
             0.2222222222222222,
             "#7201a8"
            ],
            [
             0.3333333333333333,
             "#9c179e"
            ],
            [
             0.4444444444444444,
             "#bd3786"
            ],
            [
             0.5555555555555556,
             "#d8576b"
            ],
            [
             0.6666666666666666,
             "#ed7953"
            ],
            [
             0.7777777777777778,
             "#fb9f3a"
            ],
            [
             0.8888888888888888,
             "#fdca26"
            ],
            [
             1,
             "#f0f921"
            ]
           ],
           "sequentialminus": [
            [
             0,
             "#0d0887"
            ],
            [
             0.1111111111111111,
             "#46039f"
            ],
            [
             0.2222222222222222,
             "#7201a8"
            ],
            [
             0.3333333333333333,
             "#9c179e"
            ],
            [
             0.4444444444444444,
             "#bd3786"
            ],
            [
             0.5555555555555556,
             "#d8576b"
            ],
            [
             0.6666666666666666,
             "#ed7953"
            ],
            [
             0.7777777777777778,
             "#fb9f3a"
            ],
            [
             0.8888888888888888,
             "#fdca26"
            ],
            [
             1,
             "#f0f921"
            ]
           ]
          },
          "colorway": [
           "#636efa",
           "#EF553B",
           "#00cc96",
           "#ab63fa",
           "#FFA15A",
           "#19d3f3",
           "#FF6692",
           "#B6E880",
           "#FF97FF",
           "#FECB52"
          ],
          "font": {
           "color": "#2a3f5f"
          },
          "geo": {
           "bgcolor": "white",
           "lakecolor": "white",
           "landcolor": "#E5ECF6",
           "showlakes": true,
           "showland": true,
           "subunitcolor": "white"
          },
          "hoverlabel": {
           "align": "left"
          },
          "hovermode": "closest",
          "mapbox": {
           "style": "light"
          },
          "paper_bgcolor": "white",
          "plot_bgcolor": "#E5ECF6",
          "polar": {
           "angularaxis": {
            "gridcolor": "white",
            "linecolor": "white",
            "ticks": ""
           },
           "bgcolor": "#E5ECF6",
           "radialaxis": {
            "gridcolor": "white",
            "linecolor": "white",
            "ticks": ""
           }
          },
          "scene": {
           "xaxis": {
            "backgroundcolor": "#E5ECF6",
            "gridcolor": "white",
            "gridwidth": 2,
            "linecolor": "white",
            "showbackground": true,
            "ticks": "",
            "zerolinecolor": "white"
           },
           "yaxis": {
            "backgroundcolor": "#E5ECF6",
            "gridcolor": "white",
            "gridwidth": 2,
            "linecolor": "white",
            "showbackground": true,
            "ticks": "",
            "zerolinecolor": "white"
           },
           "zaxis": {
            "backgroundcolor": "#E5ECF6",
            "gridcolor": "white",
            "gridwidth": 2,
            "linecolor": "white",
            "showbackground": true,
            "ticks": "",
            "zerolinecolor": "white"
           }
          },
          "shapedefaults": {
           "line": {
            "color": "#2a3f5f"
           }
          },
          "ternary": {
           "aaxis": {
            "gridcolor": "white",
            "linecolor": "white",
            "ticks": ""
           },
           "baxis": {
            "gridcolor": "white",
            "linecolor": "white",
            "ticks": ""
           },
           "bgcolor": "#E5ECF6",
           "caxis": {
            "gridcolor": "white",
            "linecolor": "white",
            "ticks": ""
           }
          },
          "title": {
           "x": 0.05
          },
          "xaxis": {
           "automargin": true,
           "gridcolor": "white",
           "linecolor": "white",
           "ticks": "",
           "title": {
            "standoff": 15
           },
           "zerolinecolor": "white",
           "zerolinewidth": 2
          },
          "yaxis": {
           "automargin": true,
           "gridcolor": "white",
           "linecolor": "white",
           "ticks": "",
           "title": {
            "standoff": 15
           },
           "zerolinecolor": "white",
           "zerolinewidth": 2
          }
         }
        },
        "title": {
         "font": {
          "color": "#333333",
          "size": 18
         },
         "text": "<b>Future Gas vs. Electricity Cost per Kilometer (2022 - End of 2025)</b>",
         "x": 0.5,
         "xanchor": "center",
         "y": 0.95
        },
        "xaxis": {
         "dtick": "M12",
         "gridcolor": "rgba(0,0,0,0.2)",
         "range": [
          "2022-01-01T00:00:00",
          "2025-12-01T00:00:00"
         ],
         "showgrid": true,
         "tickformat": "%Y",
         "title": {
          "text": "Date"
         }
        },
        "yaxis": {
         "gridcolor": "rgba(0,0,0,0.2)",
         "showgrid": true,
         "title": {
          "text": "Cost per km (PHP)"
         }
        }
       }
      }
     },
     "metadata": {},
     "output_type": "display_data"
    }
   ],
   "source": [
    "future_comparison_df = make_future_comparison_dataframe(AVG_HYBRID, AVG_BEV)\n",
    "plot_future_comparison_dataframe(AVG_HYBRID, AVG_BEV, BASE_KWH, future_comparison_df)"
   ]
  }
 ],
 "metadata": {
  "kernelspec": {
   "display_name": "base",
   "language": "python",
   "name": "python3"
  },
  "language_info": {
   "codemirror_mode": {
    "name": "ipython",
    "version": 3
   },
   "file_extension": ".py",
   "mimetype": "text/x-python",
   "name": "python",
   "nbconvert_exporter": "python",
   "pygments_lexer": "ipython3",
   "version": "3.12.7"
  }
 },
 "nbformat": 4,
 "nbformat_minor": 5
}
